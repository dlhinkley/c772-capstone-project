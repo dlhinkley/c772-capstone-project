{
 "cells": [
  {
   "cell_type": "markdown",
   "source": [
    "# Data Cleaning"
   ],
   "metadata": {}
  },
  {
   "cell_type": "code",
   "execution_count": null,
   "outputs": [],
   "source": [
    "%run './lib/libraries.ipynb'"
   ],
   "metadata": {
    "collapsed": false,
    "pycharm": {
     "name": "#%%\n"
    }
   }
  },
  {
   "cell_type": "code",
   "execution_count": null,
   "outputs": [],
   "source": [
    "dfClean  = load_df('dfRaw')"
   ],
   "metadata": {
    "collapsed": false,
    "pycharm": {
     "name": "#%%\n"
    }
   }
  },
  {
   "cell_type": "code",
   "source": [],
   "metadata": {},
   "outputs": [
    {
     "metadata": {},
     "output_type": "display_data",
     "data": {
      "text/html": [
       "<style scoped>\n  .ansiout {\n    display: block;\n    unicode-bidi: embed;\n    white-space: pre-wrap;\n    word-wrap: break-word;\n    word-break: break-all;\n    font-family: \"Source Code Pro\", \"Menlo\", monospace;;\n    font-size: 13px;\n    color: #555;\n    margin-left: 4px;\n    line-height: 19px;\n  }\n</style>\n<div class=\"ansiout\"></div>"
      ]
     }
    }
   ],
   "execution_count": 3
  },
  {
   "cell_type": "markdown",
   "source": [
    "###### Remove variables assignment_late_submission, is_manual_scoring_required and is_deleted\n",
    "Do this early so they don't get in the way"
   ],
   "metadata": {
    "collapsed": false
   }
  },
  {
   "cell_type": "code",
   "execution_count": null,
   "outputs": [],
   "source": [
    "dfClean = dfClean.drop('assignment_late_submission', 'is_manual_scoring_required', 'is_deleted')"
   ],
   "metadata": {
    "collapsed": false,
    "pycharm": {
     "name": "#%%\n"
    }
   }
  },
  {
   "cell_type": "code",
   "execution_count": null,
   "outputs": [],
   "source": [
    "finish_todo('Remove variables assignment_late_submission, is_manual_scoring_required and is_deleted')"
   ],
   "metadata": {
    "collapsed": false,
    "pycharm": {
     "name": "#%%\n"
    }
   }
  },
  {
   "cell_type": "markdown",
   "source": [
    "###### Remove unary learner_attempt_status\n",
    "Do this early so they don't get in the way"
   ],
   "metadata": {
    "collapsed": false
   }
  },
  {
   "cell_type": "code",
   "execution_count": null,
   "outputs": [],
   "source": [
    "dfClean = dfClean.drop('learner_attempt_status')"
   ],
   "metadata": {
    "collapsed": false,
    "pycharm": {
     "name": "#%%\n"
    }
   }
  },
  {
   "cell_type": "code",
   "execution_count": null,
   "outputs": [],
   "source": [
    "finish_todo('Remove unary learner_attempt_status = \"fully scored\"')\n",
    "\n"
   ],
   "metadata": {
    "collapsed": false,
    "pycharm": {
     "name": "#%%\n"
    }
   }
  },
  {
   "cell_type": "markdown",
   "source": [
    "###### Remove 1566 [unassigned] in response_correctness observations\""
   ],
   "metadata": {
    "collapsed": false
   }
  },
  {
   "cell_type": "code",
   "execution_count": null,
   "outputs": [],
   "source": [
    "# Make sure to preserve the nulls\n",
    "dfRaw = dfClean.filter(F.col(\"response_correctness\").isNull() | (F.col(\"response_correctness\") != \"[unassigned]\"))"
   ],
   "metadata": {
    "collapsed": false,
    "pycharm": {
     "name": "#%%\n"
    }
   }
  },
  {
   "cell_type": "markdown",
   "source": [
    "###### Remove unary variables assignment_attempt_number and assignment_max_attempts\n",
    "After 1566 unassigned in response_correctness is address, assignment_attempt_number and assignment_max_attemps is unary"
   ],
   "metadata": {
    "collapsed": false
   }
  },
  {
   "cell_type": "code",
   "execution_count": null,
   "outputs": [],
   "source": [
    "dfClean = dfClean.drop(\"assignment_attempt_number\", \"assignment_max_attempts\")\n"
   ],
   "metadata": {
    "collapsed": false,
    "pycharm": {
     "name": "#%%\n"
    }
   }
  },
  {
   "cell_type": "code",
   "execution_count": null,
   "outputs": [],
   "source": [
    "finish_todo(\"Remove 1566 [unassigned] in response_correctness\")\n",
    "finish_todo('Remove assignment_attempt_number and assignment_max_attempts')\n"
   ],
   "metadata": {
    "collapsed": false,
    "pycharm": {
     "name": "#%%\n"
    }
   }
  },
  {
   "cell_type": "markdown",
   "source": [
    "###### Remove response_correctness"
   ],
   "metadata": {
    "collapsed": false
   }
  },
  {
   "cell_type": "code",
   "execution_count": null,
   "outputs": [],
   "source": [
    "dfClean = dfClean.drop('response_correctness')"
   ],
   "metadata": {
    "collapsed": false,
    "pycharm": {
     "name": "#%%\n"
    }
   }
  },
  {
   "cell_type": "code",
   "execution_count": null,
   "outputs": [],
   "source": [
    "finish_todo('Remove 3298 null values in response_correctness')\n"
   ],
   "metadata": {
    "collapsed": false,
    "pycharm": {
     "name": "#%%\n"
    }
   }
  },
  {
   "cell_type": "markdown",
   "source": [
    "### Reclassify categories in item_type_code_name"
   ],
   "metadata": {}
  },
  {
   "cell_type": "code",
   "source": [
    "# Before Categories\ndfClean.select(\"item_type_code_name\").distinct().orderBy(\"item_type_code_name\").show(50, False)\n"
   ],
   "metadata": {},
   "outputs": [
    {
     "metadata": {},
     "output_type": "display_data",
     "data": {
      "text/html": [
       "<style scoped>\n  .ansiout {\n    display: block;\n    unicode-bidi: embed;\n    white-space: pre-wrap;\n    word-wrap: break-word;\n    word-break: break-all;\n    font-family: \"Source Code Pro\", \"Menlo\", monospace;;\n    font-size: 13px;\n    color: #555;\n    margin-left: 4px;\n    line-height: 19px;\n  }\n</style>\n<div class=\"ansiout\">+----------------------+\nitem_type_code_name   |\n+----------------------+\nnull                  |\nFillinBlankResponse   |\nMultipleChoiceResponse|\nRubricResponse        |\naheAlgo               |\nbucketing             |\nchoiceMatrix          |\ncloze                 |\nequationEntry         |\nessay                 |\nfileUpload            |\nfillInTheBlank        |\ngraphing              |\nimageLabel            |\nmatching              |\nmultipleChoice        |\nmultipleSelect        |\nnumberLine            |\nselectText            |\nshortAnswer           |\nsortable              |\ntrueFalse             |\n+----------------------+\n\n</div>"
      ]
     }
    }
   ],
   "execution_count": 10
  },
  {
   "cell_type": "markdown",
   "source": [
    "Combine Suffix Levels\n- The levels with the suffix Response (ex: FillinBlankResponse) is the same type of question as level without the suffix (ex: fillInTheBlank)"
   ],
   "metadata": {}
  },
  {
   "cell_type": "code",
   "source": [
    "# Combine fillInTheBlank and FillinBlankResponse \ndfClean = dfClean.withColumn(\"item_type_code_name\", when( col(\"item_type_code_name\") == \"FillinBlankResponse\", \"fillInTheBlank\" ).otherwise(col(\"item_type_code_name\")) )\n\n# Combine multipleChoice and MultipleChoiceResponse \ndfClean = dfClean.withColumn(\"item_type_code_name\", when( col(\"item_type_code_name\") == \"MultipleChoiceResponse\", \"multipleChoice\" ).otherwise(col(\"item_type_code_name\")) )\n"
   ],
   "metadata": {},
   "outputs": [
    {
     "metadata": {},
     "output_type": "display_data",
     "data": {
      "text/html": [
       "<style scoped>\n  .ansiout {\n    display: block;\n    unicode-bidi: embed;\n    white-space: pre-wrap;\n    word-wrap: break-word;\n    word-break: break-all;\n    font-family: \"Source Code Pro\", \"Menlo\", monospace;;\n    font-size: 13px;\n    color: #555;\n    margin-left: 4px;\n    line-height: 19px;\n  }\n</style>\n<div class=\"ansiout\"></div>"
      ]
     }
    }
   ],
   "execution_count": 12
  },
  {
   "cell_type": "code",
   "source": [
    "from pyspark.sql.functions import col, round\n\ntot = dfClean.filter(col(\"item_type_code_name\").isNull() == False).count()\n\nfreqTable = dfClean.groupBy(\"item_type_code_name\") \\\n               .count() \\\n               .withColumnRenamed('count', 'cnt_per_group') \\\n               .withColumn('perc_of_count_total', ( col('cnt_per_group') / tot) * 100 ) \\\n               .orderBy(\"cnt_per_group\", ascending=False)\n\nfreqTable.show(50, False)"
   ],
   "metadata": {},
   "outputs": [
    {
     "metadata": {},
     "output_type": "display_data",
     "data": {
      "text/html": [
       "<style scoped>\n  .ansiout {\n    display: block;\n    unicode-bidi: embed;\n    white-space: pre-wrap;\n    word-wrap: break-word;\n    word-break: break-all;\n    font-family: \"Source Code Pro\", \"Menlo\", monospace;;\n    font-size: 13px;\n    color: #555;\n    margin-left: 4px;\n    line-height: 19px;\n  }\n</style>\n<div class=\"ansiout\">+-------------------+-------------+--------------------+\nitem_type_code_name|cnt_per_group|perc_of_count_total |\n+-------------------+-------------+--------------------+\nmultipleChoice     |34001        |43.99487604161275   |\nfillInTheBlank     |12077        |15.626779152217793  |\nequationEntry      |9516         |12.313027276020911  |\ntrueFalse          |4963         |6.421769059572485   |\ncloze              |3576         |4.627089695150355   |\nnull               |3264         |4.223383882821801   |\nmultipleSelect     |2691         |3.481962631333782   |\ngraphing           |2415         |3.1248382588892913  |\nchoiceMatrix       |1336         |1.7286889912530408  |\nmatching           |1164         |1.5061332229180686  |\nbucketing          |1051         |1.3599192588375342  |\nselectText         |1025         |1.3262771078101547  |\nessay              |1000         |1.2939288856684437  |\nshortAnswer        |983          |1.27193209461208    |\nsortable           |644          |0.8332902023704778  |\nnumberLine         |455          |0.5887376429791419  |\naheAlgo            |219          |0.2833704259613891  |\nimageLabel         |108          |0.13974431965219192 |\nfileUpload         |49           |0.06340251539775374 |\nRubricResponse     |11           |0.014233217742352882|\n+-------------------+-------------+--------------------+\n\n</div>"
      ]
     }
    }
   ],
   "execution_count": 13
  },
  {
   "cell_type": "markdown",
   "source": [
    "We only want five levels, so convert everything below 6% to other"
   ],
   "metadata": {}
  },
  {
   "cell_type": "code",
   "source": [
    "otherRows    = freqTable.filter(\"perc_of_count_total < 6\")\notherLevels  = [row['item_type_code_name'] for row in otherRows.select(\"item_type_code_name\").collect()]\n\ndfClean = dfClean.withColumn(\"item_type_code_name\", when( col(\"item_type_code_name\").isin(otherLevels) | col(\"item_type_code_name\").isNull() , \"Other\" ).otherwise(col(\"item_type_code_name\")) )\n\n# Display new values\ndfClean.groupBy(\"item_type_code_name\").count().orderBy(\"count\", ascending=False).show(50, False)\n"
   ],
   "metadata": {},
   "outputs": [
    {
     "metadata": {},
     "output_type": "display_data",
     "data": {
      "text/html": [
       "<style scoped>\n  .ansiout {\n    display: block;\n    unicode-bidi: embed;\n    white-space: pre-wrap;\n    word-wrap: break-word;\n    word-break: break-all;\n    font-family: \"Source Code Pro\", \"Menlo\", monospace;;\n    font-size: 13px;\n    color: #555;\n    margin-left: 4px;\n    line-height: 19px;\n  }\n</style>\n<div class=\"ansiout\">+-------------------+-----+\nitem_type_code_name|count|\n+-------------------+-----+\nmultipleChoice     |34001|\nOther              |19991|\nfillInTheBlank     |12077|\nequationEntry      |9516 |\ntrueFalse          |4963 |\n+-------------------+-----+\n\n</div>"
      ]
     }
    }
   ],
   "execution_count": 15
  },
  {
   "cell_type": "code",
   "source": [
    "dfClean.createOrReplaceTempView(\"clean_data\")"
   ],
   "metadata": {},
   "outputs": [
    {
     "metadata": {},
     "output_type": "display_data",
     "data": {
      "text/html": [
       "<style scoped>\n  .ansiout {\n    display: block;\n    unicode-bidi: embed;\n    white-space: pre-wrap;\n    word-wrap: break-word;\n    word-break: break-all;\n    font-family: \"Source Code Pro\", \"Menlo\", monospace;;\n    font-size: 13px;\n    color: #555;\n    margin-left: 4px;\n    line-height: 19px;\n  }\n</style>\n<div class=\"ansiout\"></div>"
      ]
     }
    }
   ],
   "execution_count": 16
  },
  {
   "cell_type": "code",
   "source": [
    "dfDesc.select('field').show(40, False)"
   ],
   "metadata": {},
   "outputs": [
    {
     "metadata": {},
     "output_type": "display_data",
     "data": {
      "text/html": [
       "<style scoped>\n  .ansiout {\n    display: block;\n    unicode-bidi: embed;\n    white-space: pre-wrap;\n    word-wrap: break-word;\n    word-break: break-all;\n    font-family: \"Source Code Pro\", \"Menlo\", monospace;;\n    font-size: 13px;\n    color: #555;\n    margin-left: 4px;\n    line-height: 19px;\n  }\n</style>\n<div class=\"ansiout\">+---------------------------------+\nfield                            |\n+---------------------------------+\nassessment_id                    |\nassessment_instance_attempt_id   |\nassessment_instance_id           |\nassessment_item_response_id      |\nassigned_item_status             |\nassignment_attempt_number        |\nassignment_due_date              |\nassignment_final_submission_date |\nassignment_late_submission       |\nassignment_max_attempts          |\nassignment_start_date            |\nced_assignment_type_code         |\nfinal_score_unweighted           |\nis_affecting_grade               |\nis_deleted                       |\nis_force_scored                  |\nis_manual_scoring_required       |\nitem_is_offline_scored           |\nitem_type_code_name              |\nlearner_assigned_item_attempt_id |\nlearner_assignment_attempt_id    |\nlearner_attempt_status           |\nlearner_id                       |\nmax_student_stop_datetime        |\nmin_student_start_datetime       |\nnumber_of_distinct_instance_items|\nnumber_of_learners               |\norg_id                           |\npoints_possible_unweighted       |\nresponse_correctness             |\nscored_datetime                  |\nscoring_type_code                |\nsection_id                       |\nstudent_start_datetime           |\nstudent_stop_datetime            |\nwas_fully_scored_datetime        |\nwas_in_progress_datetime         |\nwas_submitted_datetime_actual    |\n+---------------------------------+\n\n</div>"
      ]
     }
    }
   ],
   "execution_count": 17
  },
  {
   "cell_type": "markdown",
   "source": [
    "### Reclassify categories in item_type_code_name"
   ],
   "metadata": {}
  },
  {
   "cell_type": "code",
   "source": [
    "# Before Categories\ndfClean.select(\"item_type_code_name\").distinct().orderBy(\"item_type_code_name\").show(50, False)\n"
   ],
   "metadata": {},
   "outputs": [
    {
     "metadata": {},
     "output_type": "display_data",
     "data": {
      "text/html": [
       "<style scoped>\n  .ansiout {\n    display: block;\n    unicode-bidi: embed;\n    white-space: pre-wrap;\n    word-wrap: break-word;\n    word-break: break-all;\n    font-family: \"Source Code Pro\", \"Menlo\", monospace;;\n    font-size: 13px;\n    color: #555;\n    margin-left: 4px;\n    line-height: 19px;\n  }\n</style>\n<div class=\"ansiout\">+----------------------+\nitem_type_code_name   |\n+----------------------+\nnull                  |\nFillinBlankResponse   |\nMultipleChoiceResponse|\nRubricResponse        |\naheAlgo               |\nbucketing             |\nchoiceMatrix          |\ncloze                 |\nequationEntry         |\nessay                 |\nfileUpload            |\nfillInTheBlank        |\ngraphing              |\nimageLabel            |\nmatching              |\nmultipleChoice        |\nmultipleSelect        |\nnumberLine            |\nselectText            |\nshortAnswer           |\nsortable              |\ntrueFalse             |\n+----------------------+\n\n</div>"
      ]
     }
    }
   ],
   "execution_count": 19
  },
  {
   "cell_type": "markdown",
   "source": [
    "Combine Suffix Levels\n- The levels with the suffix Response (ex: FillinBlankResponse) is the same type of question as level without the suffix (ex: fillInTheBlank)"
   ],
   "metadata": {}
  },
  {
   "cell_type": "code",
   "source": [
    "# Combine fillInTheBlank and FillinBlankResponse \ndfClean = dfClean.withColumn(\"item_type_code_name\", when( col(\"item_type_code_name\") == \"FillinBlankResponse\", \"fillInTheBlank\" ).otherwise(col(\"item_type_code_name\")) )\n\n# Combine multipleChoice and MultipleChoiceResponse \ndfClean = dfClean.withColumn(\"item_type_code_name\", when( col(\"item_type_code_name\") == \"MultipleChoiceResponse\", \"multipleChoice\" ).otherwise(col(\"item_type_code_name\")) )\n"
   ],
   "metadata": {},
   "outputs": [
    {
     "metadata": {},
     "output_type": "display_data",
     "data": {
      "text/html": [
       "<style scoped>\n  .ansiout {\n    display: block;\n    unicode-bidi: embed;\n    white-space: pre-wrap;\n    word-wrap: break-word;\n    word-break: break-all;\n    font-family: \"Source Code Pro\", \"Menlo\", monospace;;\n    font-size: 13px;\n    color: #555;\n    margin-left: 4px;\n    line-height: 19px;\n  }\n</style>\n<div class=\"ansiout\"></div>"
      ]
     }
    }
   ],
   "execution_count": 21
  },
  {
   "cell_type": "code",
   "source": [
    "from pyspark.sql.functions import col, round\n\ntot = dfClean.filter(col(\"item_type_code_name\").isNull() == False).count()\n\nfreqTable = dfClean.groupBy(\"item_type_code_name\") \\\n               .count() \\\n               .withColumnRenamed('count', 'cnt_per_group') \\\n               .withColumn('perc_of_count_total', ( col('cnt_per_group') / tot) * 100 ) \\\n               .orderBy(\"cnt_per_group\", ascending=False)\n\nfreqTable.show(50, False)"
   ],
   "metadata": {},
   "outputs": [
    {
     "metadata": {},
     "output_type": "display_data",
     "data": {
      "text/html": [
       "<style scoped>\n  .ansiout {\n    display: block;\n    unicode-bidi: embed;\n    white-space: pre-wrap;\n    word-wrap: break-word;\n    word-break: break-all;\n    font-family: \"Source Code Pro\", \"Menlo\", monospace;;\n    font-size: 13px;\n    color: #555;\n    margin-left: 4px;\n    line-height: 19px;\n  }\n</style>\n<div class=\"ansiout\">+-------------------+-------------+--------------------+\nitem_type_code_name|cnt_per_group|perc_of_count_total |\n+-------------------+-------------+--------------------+\nmultipleChoice     |34001        |43.99487604161275   |\nfillInTheBlank     |12077        |15.626779152217793  |\nequationEntry      |9516         |12.313027276020911  |\ntrueFalse          |4963         |6.421769059572485   |\ncloze              |3576         |4.627089695150355   |\nnull               |3264         |4.223383882821801   |\nmultipleSelect     |2691         |3.481962631333782   |\ngraphing           |2415         |3.1248382588892913  |\nchoiceMatrix       |1336         |1.7286889912530408  |\nmatching           |1164         |1.5061332229180686  |\nbucketing          |1051         |1.3599192588375342  |\nselectText         |1025         |1.3262771078101547  |\nessay              |1000         |1.2939288856684437  |\nshortAnswer        |983          |1.27193209461208    |\nsortable           |644          |0.8332902023704778  |\nnumberLine         |455          |0.5887376429791419  |\naheAlgo            |219          |0.2833704259613891  |\nimageLabel         |108          |0.13974431965219192 |\nfileUpload         |49           |0.06340251539775374 |\nRubricResponse     |11           |0.014233217742352882|\n+-------------------+-------------+--------------------+\n\n</div>"
      ]
     }
    }
   ],
   "execution_count": 22
  },
  {
   "cell_type": "markdown",
   "source": [
    "We only want five levels, so convert everything below 6% to other"
   ],
   "metadata": {}
  },
  {
   "cell_type": "code",
   "source": [
    "otherRows    = freqTable.filter(\"perc_of_count_total < 6\")\notherLevels  = [row['item_type_code_name'] for row in otherRows.select(\"item_type_code_name\").collect()]\n\ndfClean = dfClean.withColumn(\"item_type_code_name\", when( col(\"item_type_code_name\").isin(otherLevels) | col(\"item_type_code_name\").isNull() , \"Other\" ).otherwise(col(\"item_type_code_name\")) )\n\n# Display new values\ndfClean.groupBy(\"item_type_code_name\").count().orderBy(\"count\", ascending=False).show(50, False)\n"
   ],
   "metadata": {},
   "outputs": [
    {
     "metadata": {},
     "output_type": "display_data",
     "data": {
      "text/html": [
       "<style scoped>\n  .ansiout {\n    display: block;\n    unicode-bidi: embed;\n    white-space: pre-wrap;\n    word-wrap: break-word;\n    word-break: break-all;\n    font-family: \"Source Code Pro\", \"Menlo\", monospace;;\n    font-size: 13px;\n    color: #555;\n    margin-left: 4px;\n    line-height: 19px;\n  }\n</style>\n<div class=\"ansiout\">+-------------------+-----+\nitem_type_code_name|count|\n+-------------------+-----+\nmultipleChoice     |34001|\nOther              |19991|\nfillInTheBlank     |12077|\nequationEntry      |9516 |\ntrueFalse          |4963 |\n+-------------------+-----+\n\n</div>"
      ]
     }
    }
   ],
   "execution_count": 24
  },
  {
   "cell_type": "code",
   "source": [
    "dfClean.createOrReplaceTempView(\"clean_data\")"
   ],
   "metadata": {},
   "outputs": [
    {
     "metadata": {},
     "output_type": "display_data",
     "data": {
      "text/html": [
       "<style scoped>\n  .ansiout {\n    display: block;\n    unicode-bidi: embed;\n    white-space: pre-wrap;\n    word-wrap: break-word;\n    word-break: break-all;\n    font-family: \"Source Code Pro\", \"Menlo\", monospace;;\n    font-size: 13px;\n    color: #555;\n    margin-left: 4px;\n    line-height: 19px;\n  }\n</style>\n<div class=\"ansiout\"></div>"
      ]
     }
    }
   ],
   "execution_count": 25
  }
 ],
 "metadata": {
  "name": "C772 Capstone Cleaning Sub-Notebook",
  "notebookId": 1125508361365903,
  "kernelspec": {
   "name": "python3",
   "language": "python",
   "display_name": "Python 3"
  }
 },
 "nbformat": 4,
 "nbformat_minor": 0
}