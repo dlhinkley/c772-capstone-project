{
 "cells": [
  {
   "cell_type": "markdown",
   "metadata": {},
   "source": [
    "#### Data Exploration: Summerize Data"
   ]
  },
  {
   "cell_type": "code",
   "execution_count": 82,
   "outputs": [],
   "source": [
    "import pandas as pd\n",
    "import random\n",
    "import shelve"
   ],
   "metadata": {
    "collapsed": false,
    "pycharm": {
     "name": "#%%\n"
    }
   }
  },
  {
   "cell_type": "code",
   "execution_count": 83,
   "outputs": [],
   "source": [
    "%run './libraries.ipynb'"
   ],
   "metadata": {
    "collapsed": false,
    "pycharm": {
     "name": "#%%\n"
    }
   }
  },
  {
   "cell_type": "code",
   "execution_count": 84,
   "metadata": {},
   "outputs": [],
   "source": [
    "# Load data\n",
    "shared = shelve.open('.shared_vars')\n",
    "dfRaw    = load_df(\"dfraw\")\n",
    "dfDesc   = load_df(\"dfdesc\")\n"
   ]
  },
  {
   "cell_type": "code",
   "execution_count": 85,
   "metadata": {},
   "outputs": [],
   "source": [
    "def remap_org(df):\n",
    "  # Given a dataframe, add a learner field with randome names\n",
    "  \n",
    "  url = 'https://gist.githubusercontent.com/Miserlou/11500b2345d3fe850c92/raw/e36859a9eef58c231865429ade1c142a2b75f16e/gistfile1.txt'\n",
    "  skip = [0,1,2,4]\n",
    "  # Read in a random name list\n",
    "  cityDf = pd.read_csv(url, skiprows=skip, skipfooter=26, engine='python')\n",
    "  # Get the largest cities\n",
    "  nameList = cityDf[ cityDf['population'] > 900000].city.tolist()\n",
    "  nameList = [' '.join( [ name, 'Schools' ] ) for name in nameList]\n",
    "  # Randomize the list\n",
    "  random.shuffle(nameList)\n",
    "\n",
    "  # Replace learner id with a random name\n",
    "  return id_to_name(df, 'org_id', 'org_new', nameList)\n",
    "  \n",
    "dfRaw = remap_org(dfRaw)\n"
   ]
  },
  {
   "cell_type": "code",
   "execution_count": 86,
   "metadata": {},
   "outputs": [],
   "source": [
    "def remap_learner(df):\n",
    "  # Given a dataframe, add a learner field with randome names\n",
    "  \n",
    "  # Read in a random name list\n",
    "  nameList = pd.read_csv('https://raw.githubusercontent.com/huntergregal/wordlists/master/names.txt', header=None, names=['list']).list.tolist()\n",
    "  \n",
    "  # Randomize the list\n",
    "  random.shuffle(nameList)\n",
    "  \n",
    "  # Replace learner id with a random name\n",
    "  return id_to_name(df, 'learner_id', 'learner_new', nameList)\n",
    "  \n",
    "  \n",
    "\n",
    "dfRaw = remap_learner(dfRaw)"
   ]
  },
  {
   "cell_type": "code",
   "execution_count": 87,
   "metadata": {},
   "outputs": [],
   "source": [
    "def remap_section(df):\n",
    "  # Given a dataframe, add a learner field with randome names\n",
    "  \n",
    "  # Read in a random name list\n",
    "  nameList = pd.read_csv('https://raw.githubusercontent.com/kjhealy/hourly/master/data/famous-people.csv').Name.tolist()\n",
    "  suffix = ['High', 'Elementry', 'Secondary', 'Prep']\n",
    "  \n",
    "  nameList = [' '.join( [ name, suffix[random.randint(0, 3)] ] ) for name in nameList]\n",
    "  # Randomize the list\n",
    "  random.shuffle(nameList)\n",
    "\n",
    "  # Replace learner id with a random name\n",
    "  return id_to_name(df, 'section_id', 'section_new', nameList)\n",
    "  \n",
    "dfRaw = remap_section(dfRaw)"
   ]
  },
  {
   "cell_type": "code",
   "execution_count": 88,
   "metadata": {},
   "outputs": [],
   "source": [
    "def remap_assessment(df):\n",
    "  # Given a dataframe, add a learner field with randome names\n",
    "  \n",
    "  # Read in a random name list\n",
    "  fields = ['one', 'two', 'topics', 'question','five','six','seven','eight', 'nine']\n",
    "  url = 'https://gist.githubusercontent.com/blackwatertepes/5172428/raw/8bf38936cb47f03ed3e0ffb76ea5027d4ff0368a/jeopardy.txt'\n",
    "  nameList = pd.read_csv(url, header=None, sep='\\t', low_memory=False,error_bad_lines=False, names=fields, nrows=2000).topics.tolist()\n",
    "  \n",
    "  # Filter out names less than 2 words\n",
    "  nameList = filter(lambda x: len(x.split()) > 2, nameList) \n",
    "  # Title case\n",
    "  nameList = [name.title() for name in nameList]\n",
    "  # Randomize the list\n",
    "  random.shuffle(nameList)\n",
    "  \n",
    "  # Replace learner id with a random name\n",
    "  return id_to_name(df, 'assessment_id', 'assessment_new', nameList)\n",
    "  \n",
    "\n",
    "dfRaw = remap_assessment(dfRaw)"
   ]
  },
  {
   "cell_type": "markdown",
   "source": [
    "###### Number of observations"
   ],
   "metadata": {
    "collapsed": false,
    "pycharm": {
     "name": "#%% md\n"
    }
   }
  },
  {
   "cell_type": "code",
   "execution_count": 89,
   "metadata": {},
   "outputs": [
    {
     "data": {
      "text/plain": "149807"
     },
     "execution_count": 89,
     "metadata": {},
     "output_type": "execute_result"
    }
   ],
   "source": [
    "dfRaw.select().count()"
   ]
  },
  {
   "cell_type": "markdown",
   "source": [
    "###### Display Descriptions"
   ],
   "metadata": {
    "collapsed": false,
    "pycharm": {
     "name": "#%% md\n"
    }
   }
  },
  {
   "cell_type": "code",
   "execution_count": 90,
   "metadata": {},
   "outputs": [
    {
     "data": {
      "text/plain": "                                field            category  \\\n0                       assessment_id          Assessment   \n1      assessment_instance_attempt_id  Assignment Attempt   \n2              assessment_instance_id          Assessment   \n3         assessment_item_response_id        Item Attempt   \n4                assigned_item_status        Item Attempt   \n5           assignment_attempt_number  Assignment Attempt   \n6                 assignment_due_date          Assignment   \n7    assignment_final_submission_date          Assignment   \n8          assignment_late_submission          Assignment   \n9             assignment_max_attempts          Assignment   \n10              assignment_start_date          Assignment   \n11           ced_assignment_type_code          Assignment   \n12             final_score_unweighted  Assignment Attempt   \n13                 is_affecting_grade          Assignment   \n14                         is_deleted        Item Attempt   \n15                    is_force_scored  Assignment Attempt   \n16         is_manual_scoring_required  Assignment Attempt   \n17             item_is_offline_scored                Item   \n18                item_type_code_name                Item   \n19   learner_assigned_item_attempt_id        Item Attempt   \n20      learner_assignment_attempt_id  Assignment Attempt   \n21             learner_attempt_status  Assignment Attempt   \n22                         learner_id             Learner   \n23          max_student_stop_datetime          Assignment   \n24         min_student_start_datetime          Assignment   \n25  number_of_distinct_instance_items          Assignment   \n26                 number_of_learners          Assignment   \n27                             org_id        Organization   \n28         points_possible_unweighted  Assignment Attempt   \n29               response_correctness        Item Attempt   \n30                    scored_datetime  Assignment Attempt   \n31                  scoring_type_code                Item   \n32                         section_id             Section   \n33             student_start_datetime  Assignment Attempt   \n34              student_stop_datetime  Assignment Attempt   \n35          was_fully_scored_datetime  Assignment Attempt   \n36           was_in_progress_datetime  Assignment Attempt   \n37      was_submitted_datetime_actual  Assignment Attempt   \n\n                      type  \\\n0   Categorical Identifier   \n1   Categorical Identifier   \n2   Categorical Identifier   \n3   Categorical Identifier   \n4      Categorical Nominal   \n5       Numeric Continuous   \n6     Categorical Interval   \n7     Categorical Interval   \n8       Categorical Binary   \n9       Numeric Continuous   \n10    Categorical Interval   \n11     Categorical Nominal   \n12      Numeric Continuous   \n13      Categorical Binary   \n14      Categorical Binary   \n15      Categorical Binary   \n16      Categorical Binary   \n17      Categorical Binary   \n18     Categorical Nominal   \n19  Categorical Identifier   \n20  Categorical Identifier   \n21     Categorical Nominal   \n22  Categorical Identifier   \n23    Categorical Interval   \n24    Categorical Interval   \n25      Numeric Continuous   \n26      Numeric Continuous   \n27  Categorical Identifier   \n28      Numeric Continuous   \n29     Categorical Nominal   \n30    Categorical Interval   \n31     Categorical Nominal   \n32  Categorical Identifier   \n33    Categorical Interval   \n34    Categorical Interval   \n35    Categorical Interval   \n36    Categorical Interval   \n37    Categorical Interval   \n\n                                                                                                                                                                                                       description  \n0                                                                                                                                                                                             ID of an Assessment.  \n1                                                                                                                                                                      ID of a learner's attempt of an assessment.  \n2                                                                                                                                                                     ID of a section's instance of an assessment.  \n3                                                                                                                                                                 ID of a learners response to an assessment item.  \n4                                                          Code indicating the status of the assessment item.  Values: scored, offline_scored: manually scored, assigned: not yet started, responded: being scored  \n5                                                                                                                                                        The nth time a certain learner attempted the assessement.  \n6                                                                                                                                                                         The date and time the assignment is due.  \n7                                                                                                                                                      The date and time the assignment was submitted for scoring.  \n8                                                                                                                                                                       True if the assignment was submitted late.  \n9                                                                                                                                                        The number of times a learner can attempt the assessment.  \n10                                                                                                                                               The date and time a section is scheduled to start the assignment.  \n11                                                                                                                                             Type of assessment values: rubric, assessment, practice, clo, game.  \n12                                                                                                                                                                          Numeric final score of the assessment.  \n13                                                                                                                                                        True if the assessment item affects the learner's grade.  \n14                                                                                                                                                                                  True if the record is deleted.  \n15  True if the assessment attempt was forced to be scored because the learner did not submit the assignment before the final possible submission datetime and the policy dictates forced scoring for that format.  \n16                                                                                                       True if the assessment attempt requires a manual score. Changes to false after manual scoring is entered.  \n17                                                                                                                                      True if the assessment item was scored manually. Example: Essay questions.  \n18                                                                                                                              Code indicating the type of assessment item.  Example: shortAnswer, matching, etc.  \n19                                                                                                                                                                ID of and assessment item assigned to a learner.  \n20                                                                                                                                     ID of one of possibly several attempts by a learner to pass the assessment.  \n21                                                                                           The status of a learner's attempt of the assessment.  Example: assigned, awaiting outcome, fully scored, in progress.  \n22                                                                                                                                                                                                ID of a learner.  \n23                                                                                                                                                  The latest date and time a learner must finish the assessment.  \n24                                                                                                                                                  The earliest date and time a learner can start the assessment.  \n25                                                                                                                                                                              Number of questions on assessment.  \n26                                                                                                          The number of learner's assigned this instance of an assessement. The number of learners in a section.  \n27                                                                                                                                                              ID of a organization containing multiple sections.  \n28                                                                                                                                                               Numeric highest possible score of the assessment.  \n29                                                                                                   Code indicating the correctness of the assessment item.  Example: incorrect, correct, partially_correct, etc.  \n30                                                                                                                                                            The date and time the assessment attempt was scored.  \n31                                                    Code indicating the type of scoring for the assessment item.  Values: external and  automatic: scored by computer; manual and unassiged: manually by a human  \n32                                                                                                                                                                   ID of a section containing multiple students.  \n33                                                                                                                                             The date and time the learner began the attempt of this assessment.  \n34                                                                                                                                          The date and time the learner finished the attempt of this assessment.  \n35                                                                                                                                                                    The date and time the assessment was scored.  \n36                                                                                                                                                       The date and time the assessment attempt was in progress.  \n37                                                                                                                                                     The date and time the assessment was submitted for scoring.  ",
      "text/html": "<div>\n<style scoped>\n    .dataframe tbody tr th:only-of-type {\n        vertical-align: middle;\n    }\n\n    .dataframe tbody tr th {\n        vertical-align: top;\n    }\n\n    .dataframe thead th {\n        text-align: right;\n    }\n</style>\n<table border=\"1\" class=\"dataframe\">\n  <thead>\n    <tr style=\"text-align: right;\">\n      <th></th>\n      <th>field</th>\n      <th>category</th>\n      <th>type</th>\n      <th>description</th>\n    </tr>\n  </thead>\n  <tbody>\n    <tr>\n      <th>0</th>\n      <td>assessment_id</td>\n      <td>Assessment</td>\n      <td>Categorical Identifier</td>\n      <td>ID of an Assessment.</td>\n    </tr>\n    <tr>\n      <th>1</th>\n      <td>assessment_instance_attempt_id</td>\n      <td>Assignment Attempt</td>\n      <td>Categorical Identifier</td>\n      <td>ID of a learner's attempt of an assessment.</td>\n    </tr>\n    <tr>\n      <th>2</th>\n      <td>assessment_instance_id</td>\n      <td>Assessment</td>\n      <td>Categorical Identifier</td>\n      <td>ID of a section's instance of an assessment.</td>\n    </tr>\n    <tr>\n      <th>3</th>\n      <td>assessment_item_response_id</td>\n      <td>Item Attempt</td>\n      <td>Categorical Identifier</td>\n      <td>ID of a learners response to an assessment item.</td>\n    </tr>\n    <tr>\n      <th>4</th>\n      <td>assigned_item_status</td>\n      <td>Item Attempt</td>\n      <td>Categorical Nominal</td>\n      <td>Code indicating the status of the assessment item.  Values: scored, offline_scored: manually scored, assigned: not yet started, responded: being scored</td>\n    </tr>\n    <tr>\n      <th>5</th>\n      <td>assignment_attempt_number</td>\n      <td>Assignment Attempt</td>\n      <td>Numeric Continuous</td>\n      <td>The nth time a certain learner attempted the assessement.</td>\n    </tr>\n    <tr>\n      <th>6</th>\n      <td>assignment_due_date</td>\n      <td>Assignment</td>\n      <td>Categorical Interval</td>\n      <td>The date and time the assignment is due.</td>\n    </tr>\n    <tr>\n      <th>7</th>\n      <td>assignment_final_submission_date</td>\n      <td>Assignment</td>\n      <td>Categorical Interval</td>\n      <td>The date and time the assignment was submitted for scoring.</td>\n    </tr>\n    <tr>\n      <th>8</th>\n      <td>assignment_late_submission</td>\n      <td>Assignment</td>\n      <td>Categorical Binary</td>\n      <td>True if the assignment was submitted late.</td>\n    </tr>\n    <tr>\n      <th>9</th>\n      <td>assignment_max_attempts</td>\n      <td>Assignment</td>\n      <td>Numeric Continuous</td>\n      <td>The number of times a learner can attempt the assessment.</td>\n    </tr>\n    <tr>\n      <th>10</th>\n      <td>assignment_start_date</td>\n      <td>Assignment</td>\n      <td>Categorical Interval</td>\n      <td>The date and time a section is scheduled to start the assignment.</td>\n    </tr>\n    <tr>\n      <th>11</th>\n      <td>ced_assignment_type_code</td>\n      <td>Assignment</td>\n      <td>Categorical Nominal</td>\n      <td>Type of assessment values: rubric, assessment, practice, clo, game.</td>\n    </tr>\n    <tr>\n      <th>12</th>\n      <td>final_score_unweighted</td>\n      <td>Assignment Attempt</td>\n      <td>Numeric Continuous</td>\n      <td>Numeric final score of the assessment.</td>\n    </tr>\n    <tr>\n      <th>13</th>\n      <td>is_affecting_grade</td>\n      <td>Assignment</td>\n      <td>Categorical Binary</td>\n      <td>True if the assessment item affects the learner's grade.</td>\n    </tr>\n    <tr>\n      <th>14</th>\n      <td>is_deleted</td>\n      <td>Item Attempt</td>\n      <td>Categorical Binary</td>\n      <td>True if the record is deleted.</td>\n    </tr>\n    <tr>\n      <th>15</th>\n      <td>is_force_scored</td>\n      <td>Assignment Attempt</td>\n      <td>Categorical Binary</td>\n      <td>True if the assessment attempt was forced to be scored because the learner did not submit the assignment before the final possible submission datetime and the policy dictates forced scoring for that format.</td>\n    </tr>\n    <tr>\n      <th>16</th>\n      <td>is_manual_scoring_required</td>\n      <td>Assignment Attempt</td>\n      <td>Categorical Binary</td>\n      <td>True if the assessment attempt requires a manual score. Changes to false after manual scoring is entered.</td>\n    </tr>\n    <tr>\n      <th>17</th>\n      <td>item_is_offline_scored</td>\n      <td>Item</td>\n      <td>Categorical Binary</td>\n      <td>True if the assessment item was scored manually. Example: Essay questions.</td>\n    </tr>\n    <tr>\n      <th>18</th>\n      <td>item_type_code_name</td>\n      <td>Item</td>\n      <td>Categorical Nominal</td>\n      <td>Code indicating the type of assessment item.  Example: shortAnswer, matching, etc.</td>\n    </tr>\n    <tr>\n      <th>19</th>\n      <td>learner_assigned_item_attempt_id</td>\n      <td>Item Attempt</td>\n      <td>Categorical Identifier</td>\n      <td>ID of and assessment item assigned to a learner.</td>\n    </tr>\n    <tr>\n      <th>20</th>\n      <td>learner_assignment_attempt_id</td>\n      <td>Assignment Attempt</td>\n      <td>Categorical Identifier</td>\n      <td>ID of one of possibly several attempts by a learner to pass the assessment.</td>\n    </tr>\n    <tr>\n      <th>21</th>\n      <td>learner_attempt_status</td>\n      <td>Assignment Attempt</td>\n      <td>Categorical Nominal</td>\n      <td>The status of a learner's attempt of the assessment.  Example: assigned, awaiting outcome, fully scored, in progress.</td>\n    </tr>\n    <tr>\n      <th>22</th>\n      <td>learner_id</td>\n      <td>Learner</td>\n      <td>Categorical Identifier</td>\n      <td>ID of a learner.</td>\n    </tr>\n    <tr>\n      <th>23</th>\n      <td>max_student_stop_datetime</td>\n      <td>Assignment</td>\n      <td>Categorical Interval</td>\n      <td>The latest date and time a learner must finish the assessment.</td>\n    </tr>\n    <tr>\n      <th>24</th>\n      <td>min_student_start_datetime</td>\n      <td>Assignment</td>\n      <td>Categorical Interval</td>\n      <td>The earliest date and time a learner can start the assessment.</td>\n    </tr>\n    <tr>\n      <th>25</th>\n      <td>number_of_distinct_instance_items</td>\n      <td>Assignment</td>\n      <td>Numeric Continuous</td>\n      <td>Number of questions on assessment.</td>\n    </tr>\n    <tr>\n      <th>26</th>\n      <td>number_of_learners</td>\n      <td>Assignment</td>\n      <td>Numeric Continuous</td>\n      <td>The number of learner's assigned this instance of an assessement. The number of learners in a section.</td>\n    </tr>\n    <tr>\n      <th>27</th>\n      <td>org_id</td>\n      <td>Organization</td>\n      <td>Categorical Identifier</td>\n      <td>ID of a organization containing multiple sections.</td>\n    </tr>\n    <tr>\n      <th>28</th>\n      <td>points_possible_unweighted</td>\n      <td>Assignment Attempt</td>\n      <td>Numeric Continuous</td>\n      <td>Numeric highest possible score of the assessment.</td>\n    </tr>\n    <tr>\n      <th>29</th>\n      <td>response_correctness</td>\n      <td>Item Attempt</td>\n      <td>Categorical Nominal</td>\n      <td>Code indicating the correctness of the assessment item.  Example: incorrect, correct, partially_correct, etc.</td>\n    </tr>\n    <tr>\n      <th>30</th>\n      <td>scored_datetime</td>\n      <td>Assignment Attempt</td>\n      <td>Categorical Interval</td>\n      <td>The date and time the assessment attempt was scored.</td>\n    </tr>\n    <tr>\n      <th>31</th>\n      <td>scoring_type_code</td>\n      <td>Item</td>\n      <td>Categorical Nominal</td>\n      <td>Code indicating the type of scoring for the assessment item.  Values: external and  automatic: scored by computer; manual and unassiged: manually by a human</td>\n    </tr>\n    <tr>\n      <th>32</th>\n      <td>section_id</td>\n      <td>Section</td>\n      <td>Categorical Identifier</td>\n      <td>ID of a section containing multiple students.</td>\n    </tr>\n    <tr>\n      <th>33</th>\n      <td>student_start_datetime</td>\n      <td>Assignment Attempt</td>\n      <td>Categorical Interval</td>\n      <td>The date and time the learner began the attempt of this assessment.</td>\n    </tr>\n    <tr>\n      <th>34</th>\n      <td>student_stop_datetime</td>\n      <td>Assignment Attempt</td>\n      <td>Categorical Interval</td>\n      <td>The date and time the learner finished the attempt of this assessment.</td>\n    </tr>\n    <tr>\n      <th>35</th>\n      <td>was_fully_scored_datetime</td>\n      <td>Assignment Attempt</td>\n      <td>Categorical Interval</td>\n      <td>The date and time the assessment was scored.</td>\n    </tr>\n    <tr>\n      <th>36</th>\n      <td>was_in_progress_datetime</td>\n      <td>Assignment Attempt</td>\n      <td>Categorical Interval</td>\n      <td>The date and time the assessment attempt was in progress.</td>\n    </tr>\n    <tr>\n      <th>37</th>\n      <td>was_submitted_datetime_actual</td>\n      <td>Assignment Attempt</td>\n      <td>Categorical Interval</td>\n      <td>The date and time the assessment was submitted for scoring.</td>\n    </tr>\n  </tbody>\n</table>\n</div>"
     },
     "execution_count": 90,
     "metadata": {},
     "output_type": "execute_result"
    }
   ],
   "source": [
    "pd.set_option('display.max_colwidth', None)\n",
    "dfPd = dfDesc.toPandas()\n",
    "dfPd"
   ]
  },
  {
   "cell_type": "markdown",
   "source": [
    "###### Display Categories"
   ],
   "metadata": {
    "collapsed": false
   }
  },
  {
   "cell_type": "code",
   "execution_count": 91,
   "metadata": {},
   "outputs": [
    {
     "name": "stdout",
     "output_type": "stream",
     "text": [
      "+------------------+\n",
      "|category          |\n",
      "+------------------+\n",
      "|Section           |\n",
      "|Assignment Attempt|\n",
      "|Item              |\n",
      "|Assessment        |\n",
      "|Learner           |\n",
      "|Organization      |\n",
      "|Item Attempt      |\n",
      "|Assignment        |\n",
      "+------------------+\n",
      "\n"
     ]
    }
   ],
   "source": [
    "dfDesc.select('category').distinct().show(20,False)"
   ]
  },
  {
   "cell_type": "code",
   "execution_count": 92,
   "metadata": {},
   "outputs": [],
   "source": [
    "shared.orgVars               = dfPd.loc[ dfPd['category'] == 'Organization' ].field.tolist()\n",
    "shared.sectionVars           = dfPd.loc[ dfPd['category'] == 'Section' ].field.tolist()\n",
    "shared.learnerVars           = dfPd.loc[ dfPd['category'] == 'Learner' ].field.tolist()\n",
    "shared.assessmentVars        = dfPd.loc[ dfPd['category'] == 'Assessment' ].field.tolist()\n",
    "shared.assignmentVars        = dfPd.loc[ dfPd['category'] == 'Assignment' ].field.tolist()\n",
    "shared.itemVars              = dfPd.loc[ dfPd['category'] == 'Item' ].field.tolist()\n",
    "shared.assignmentAttemptVars = dfPd.loc[ dfPd['category'] == 'Assignment Attempt' ].field.tolist()\n",
    "shared.itemAttemptVars       = dfPd.loc[ dfPd['category'] == 'Item Attempt' ].field.tolist()"
   ]
  },
  {
   "cell_type": "markdown",
   "metadata": {},
   "source": [
    "###### Display Sample Data"
   ]
  },
  {
   "cell_type": "code",
   "execution_count": 93,
   "metadata": {},
   "outputs": [
    {
     "data": {
      "text/plain": "   org_id              org_new\n0  360541       Dallas Schools\n1  360421  San Antonio Schools\n2  349115     New York Schools",
      "text/html": "<div>\n<style scoped>\n    .dataframe tbody tr th:only-of-type {\n        vertical-align: middle;\n    }\n\n    .dataframe tbody tr th {\n        vertical-align: top;\n    }\n\n    .dataframe thead th {\n        text-align: right;\n    }\n</style>\n<table border=\"1\" class=\"dataframe\">\n  <thead>\n    <tr style=\"text-align: right;\">\n      <th></th>\n      <th>org_id</th>\n      <th>org_new</th>\n    </tr>\n  </thead>\n  <tbody>\n    <tr>\n      <th>0</th>\n      <td>360541</td>\n      <td>Dallas Schools</td>\n    </tr>\n    <tr>\n      <th>1</th>\n      <td>360421</td>\n      <td>San Antonio Schools</td>\n    </tr>\n    <tr>\n      <th>2</th>\n      <td>349115</td>\n      <td>New York Schools</td>\n    </tr>\n  </tbody>\n</table>\n</div>"
     },
     "execution_count": 93,
     "metadata": {},
     "output_type": "execute_result"
    }
   ],
   "source": [
    "dfRaw.select(*shared.orgVars, 'org_new').distinct().toPandas()"
   ]
  },
  {
   "cell_type": "markdown",
   "metadata": {},
   "source": [
    "- 3 organizations"
   ]
  },
  {
   "cell_type": "code",
   "execution_count": 94,
   "metadata": {},
   "outputs": [
    {
     "data": {
      "text/plain": "    section_id                  section_new\n0       499023   Malala Yousafzai Secondary\n1       520208           John M Keynes Prep\n2       537231         Anne Frank Elementry\n3       498961                 Al Gore Prep\n4       498945             Jesse Owens Prep\n5       498967           Simon Bolivar Prep\n6       499047      Oprah Winfrey Elementry\n7       499028          Paul McCartney Prep\n8       522071         Stephen Hawking Prep\n9       499081  Margaret Thatcher Secondary\n10      509045        Ludwig Beethoven High\n11      530503        Jawaharlal Nehru Prep\n12      498971            Leon Trotsky High\n13      498941            Paul Krugman High\n14      527034              Henry Ford High\n15      498977          Neil Armstrong High\n16      498965           Joseph Stalin Prep\n17      499094          Nelson Mandela High",
      "text/html": "<div>\n<style scoped>\n    .dataframe tbody tr th:only-of-type {\n        vertical-align: middle;\n    }\n\n    .dataframe tbody tr th {\n        vertical-align: top;\n    }\n\n    .dataframe thead th {\n        text-align: right;\n    }\n</style>\n<table border=\"1\" class=\"dataframe\">\n  <thead>\n    <tr style=\"text-align: right;\">\n      <th></th>\n      <th>section_id</th>\n      <th>section_new</th>\n    </tr>\n  </thead>\n  <tbody>\n    <tr>\n      <th>0</th>\n      <td>499023</td>\n      <td>Malala Yousafzai Secondary</td>\n    </tr>\n    <tr>\n      <th>1</th>\n      <td>520208</td>\n      <td>John M Keynes Prep</td>\n    </tr>\n    <tr>\n      <th>2</th>\n      <td>537231</td>\n      <td>Anne Frank Elementry</td>\n    </tr>\n    <tr>\n      <th>3</th>\n      <td>498961</td>\n      <td>Al Gore Prep</td>\n    </tr>\n    <tr>\n      <th>4</th>\n      <td>498945</td>\n      <td>Jesse Owens Prep</td>\n    </tr>\n    <tr>\n      <th>5</th>\n      <td>498967</td>\n      <td>Simon Bolivar Prep</td>\n    </tr>\n    <tr>\n      <th>6</th>\n      <td>499047</td>\n      <td>Oprah Winfrey Elementry</td>\n    </tr>\n    <tr>\n      <th>7</th>\n      <td>499028</td>\n      <td>Paul McCartney Prep</td>\n    </tr>\n    <tr>\n      <th>8</th>\n      <td>522071</td>\n      <td>Stephen Hawking Prep</td>\n    </tr>\n    <tr>\n      <th>9</th>\n      <td>499081</td>\n      <td>Margaret Thatcher Secondary</td>\n    </tr>\n    <tr>\n      <th>10</th>\n      <td>509045</td>\n      <td>Ludwig Beethoven High</td>\n    </tr>\n    <tr>\n      <th>11</th>\n      <td>530503</td>\n      <td>Jawaharlal Nehru Prep</td>\n    </tr>\n    <tr>\n      <th>12</th>\n      <td>498971</td>\n      <td>Leon Trotsky High</td>\n    </tr>\n    <tr>\n      <th>13</th>\n      <td>498941</td>\n      <td>Paul Krugman High</td>\n    </tr>\n    <tr>\n      <th>14</th>\n      <td>527034</td>\n      <td>Henry Ford High</td>\n    </tr>\n    <tr>\n      <th>15</th>\n      <td>498977</td>\n      <td>Neil Armstrong High</td>\n    </tr>\n    <tr>\n      <th>16</th>\n      <td>498965</td>\n      <td>Joseph Stalin Prep</td>\n    </tr>\n    <tr>\n      <th>17</th>\n      <td>499094</td>\n      <td>Nelson Mandela High</td>\n    </tr>\n  </tbody>\n</table>\n</div>"
     },
     "execution_count": 94,
     "metadata": {},
     "output_type": "execute_result"
    }
   ],
   "source": [
    "dfRaw.filter( F.col('org_id') == 360421).select(*shared.sectionVars, 'section_new').distinct().toPandas()"
   ]
  },
  {
   "cell_type": "markdown",
   "metadata": {},
   "source": [
    "- 18 sections in organization 360421"
   ]
  },
  {
   "cell_type": "code",
   "execution_count": 95,
   "metadata": {},
   "outputs": [
    {
     "data": {
      "text/plain": "    learner_id learner_new\n0      1316043       Caine\n1      1248093     Leonard\n2      1248228      Anader\n3      1332895       Bobbi\n4      1317535       Blake\n5      1256982   Maddalena\n6      1263887      Roscoe\n7      1332744     Candide\n8      1372550       Chris\n9      1313317     Tyronda\n10     1385147    Wee-Seng\n11     1249505     Jeniece\n12     1265162     Mahalia\n13     1252768        Mady\n14     1355895     Valerie\n15     1314462       Marlo\n16     1365609       Miran\n17     1365062        Cloe\n18     1248229      Morgen\n19     1344830     Idaline\n20     1249881       Tarah\n21     1249504       Cecil\n22     1249790        Naim\n23     1251590       Vimal",
      "text/html": "<div>\n<style scoped>\n    .dataframe tbody tr th:only-of-type {\n        vertical-align: middle;\n    }\n\n    .dataframe tbody tr th {\n        vertical-align: top;\n    }\n\n    .dataframe thead th {\n        text-align: right;\n    }\n</style>\n<table border=\"1\" class=\"dataframe\">\n  <thead>\n    <tr style=\"text-align: right;\">\n      <th></th>\n      <th>learner_id</th>\n      <th>learner_new</th>\n    </tr>\n  </thead>\n  <tbody>\n    <tr>\n      <th>0</th>\n      <td>1316043</td>\n      <td>Caine</td>\n    </tr>\n    <tr>\n      <th>1</th>\n      <td>1248093</td>\n      <td>Leonard</td>\n    </tr>\n    <tr>\n      <th>2</th>\n      <td>1248228</td>\n      <td>Anader</td>\n    </tr>\n    <tr>\n      <th>3</th>\n      <td>1332895</td>\n      <td>Bobbi</td>\n    </tr>\n    <tr>\n      <th>4</th>\n      <td>1317535</td>\n      <td>Blake</td>\n    </tr>\n    <tr>\n      <th>5</th>\n      <td>1256982</td>\n      <td>Maddalena</td>\n    </tr>\n    <tr>\n      <th>6</th>\n      <td>1263887</td>\n      <td>Roscoe</td>\n    </tr>\n    <tr>\n      <th>7</th>\n      <td>1332744</td>\n      <td>Candide</td>\n    </tr>\n    <tr>\n      <th>8</th>\n      <td>1372550</td>\n      <td>Chris</td>\n    </tr>\n    <tr>\n      <th>9</th>\n      <td>1313317</td>\n      <td>Tyronda</td>\n    </tr>\n    <tr>\n      <th>10</th>\n      <td>1385147</td>\n      <td>Wee-Seng</td>\n    </tr>\n    <tr>\n      <th>11</th>\n      <td>1249505</td>\n      <td>Jeniece</td>\n    </tr>\n    <tr>\n      <th>12</th>\n      <td>1265162</td>\n      <td>Mahalia</td>\n    </tr>\n    <tr>\n      <th>13</th>\n      <td>1252768</td>\n      <td>Mady</td>\n    </tr>\n    <tr>\n      <th>14</th>\n      <td>1355895</td>\n      <td>Valerie</td>\n    </tr>\n    <tr>\n      <th>15</th>\n      <td>1314462</td>\n      <td>Marlo</td>\n    </tr>\n    <tr>\n      <th>16</th>\n      <td>1365609</td>\n      <td>Miran</td>\n    </tr>\n    <tr>\n      <th>17</th>\n      <td>1365062</td>\n      <td>Cloe</td>\n    </tr>\n    <tr>\n      <th>18</th>\n      <td>1248229</td>\n      <td>Morgen</td>\n    </tr>\n    <tr>\n      <th>19</th>\n      <td>1344830</td>\n      <td>Idaline</td>\n    </tr>\n    <tr>\n      <th>20</th>\n      <td>1249881</td>\n      <td>Tarah</td>\n    </tr>\n    <tr>\n      <th>21</th>\n      <td>1249504</td>\n      <td>Cecil</td>\n    </tr>\n    <tr>\n      <th>22</th>\n      <td>1249790</td>\n      <td>Naim</td>\n    </tr>\n    <tr>\n      <th>23</th>\n      <td>1251590</td>\n      <td>Vimal</td>\n    </tr>\n  </tbody>\n</table>\n</div>"
     },
     "execution_count": 95,
     "metadata": {},
     "output_type": "execute_result"
    }
   ],
   "source": [
    "dfRaw.filter( F.col('section_id') == 498941).select(*shared.learnerVars, 'learner_new').distinct().toPandas()"
   ]
  },
  {
   "cell_type": "markdown",
   "metadata": {},
   "source": [
    "- 24 learners in section 498941"
   ]
  },
  {
   "cell_type": "code",
   "execution_count": 96,
   "metadata": {},
   "outputs": [
    {
     "data": {
      "text/plain": "   assessment_id  assessment_instance_id               assessment_new\n0         720657                  799125             The 20Th Century\n1         720511                  813988           A Study In Scarlet\n2         720761                  879857  Someday My Prints Will Come\n3         720591                  878024                  Where Am I?\n4         721235                  876562            Classic Tv Quotes\n5         721038                  846625         17Th Century Science",
      "text/html": "<div>\n<style scoped>\n    .dataframe tbody tr th:only-of-type {\n        vertical-align: middle;\n    }\n\n    .dataframe tbody tr th {\n        vertical-align: top;\n    }\n\n    .dataframe thead th {\n        text-align: right;\n    }\n</style>\n<table border=\"1\" class=\"dataframe\">\n  <thead>\n    <tr style=\"text-align: right;\">\n      <th></th>\n      <th>assessment_id</th>\n      <th>assessment_instance_id</th>\n      <th>assessment_new</th>\n    </tr>\n  </thead>\n  <tbody>\n    <tr>\n      <th>0</th>\n      <td>720657</td>\n      <td>799125</td>\n      <td>The 20Th Century</td>\n    </tr>\n    <tr>\n      <th>1</th>\n      <td>720511</td>\n      <td>813988</td>\n      <td>A Study In Scarlet</td>\n    </tr>\n    <tr>\n      <th>2</th>\n      <td>720761</td>\n      <td>879857</td>\n      <td>Someday My Prints Will Come</td>\n    </tr>\n    <tr>\n      <th>3</th>\n      <td>720591</td>\n      <td>878024</td>\n      <td>Where Am I?</td>\n    </tr>\n    <tr>\n      <th>4</th>\n      <td>721235</td>\n      <td>876562</td>\n      <td>Classic Tv Quotes</td>\n    </tr>\n    <tr>\n      <th>5</th>\n      <td>721038</td>\n      <td>846625</td>\n      <td>17Th Century Science</td>\n    </tr>\n  </tbody>\n</table>\n</div>"
     },
     "execution_count": 96,
     "metadata": {},
     "output_type": "execute_result"
    }
   ],
   "source": [
    "dfRaw.filter( F.col('section_id') == 498941).select(*shared.assessmentVars, 'assessment_new').distinct().toPandas()"
   ]
  },
  {
   "cell_type": "markdown",
   "metadata": {},
   "source": [
    "- 6 assessments in section 498941"
   ]
  },
  {
   "cell_type": "markdown",
   "metadata": {},
   "source": [
    "###### Display Assignments for Section 498941"
   ]
  },
  {
   "cell_type": "code",
   "execution_count": 97,
   "metadata": {},
   "outputs": [
    {
     "data": {
      "text/plain": "                assessment_new  assignment_due_date  \\\n0         17Th Century Science  2019-10-30 04:59:00   \n1             The 20Th Century  2019-11-06 05:59:00   \n2                  Where Am I?  2020-01-18 05:59:00   \n3           A Study In Scarlet  2020-02-15 05:59:00   \n4            Classic Tv Quotes  2020-02-29 05:59:00   \n5  Someday My Prints Will Come  2020-04-12 04:59:00   \n\n  assignment_final_submission_date  assignment_late_submission  \\\n0              2019-10-30 04:59:00                       False   \n1              2019-11-06 05:59:00                       False   \n2              2020-01-18 05:59:00                       False   \n3              2020-02-15 05:59:00                       False   \n4              2020-02-29 05:59:00                       False   \n5              2020-04-12 04:59:00                       False   \n\n   assignment_max_attempts assignment_start_date ced_assignment_type_code  \\\n0                        1   2019-10-28 05:00:00                      clo   \n1                        1   2019-10-31 05:00:00               assessment   \n2                        1   2020-01-16 06:00:00               assessment   \n3                        1   2020-02-13 06:00:00               assessment   \n4                        1   2020-02-27 06:00:00               assessment   \n5                        1   2020-04-09 05:00:00               assessment   \n\n   is_affecting_grade   max_student_stop_datetime  min_student_start_datetime  \\\n0                True  2019-11-16 04:09:25.260000  2019-10-28 19:49:28.028000   \n1                True  2019-11-05 23:21:59.287000  2019-10-31 19:19:21.510000   \n2                True  2020-01-17 20:11:14.079000  2020-01-16 20:18:26.011000   \n3                True         2999-01-01 00:00:00         1900-01-01 00:00:00   \n4                True  2020-02-29 06:00:06.925000  2020-02-27 21:04:03.241000   \n5                True  2020-04-12 04:59:13.840000  2020-04-09 17:00:20.741000   \n\n   number_of_distinct_instance_items  number_of_learners  \n0                                  2                  27  \n1                                 18                  27  \n2                                 19                  23  \n3                                  9                  23  \n4                                 10                  22  \n5                                 12                  23  ",
      "text/html": "<div>\n<style scoped>\n    .dataframe tbody tr th:only-of-type {\n        vertical-align: middle;\n    }\n\n    .dataframe tbody tr th {\n        vertical-align: top;\n    }\n\n    .dataframe thead th {\n        text-align: right;\n    }\n</style>\n<table border=\"1\" class=\"dataframe\">\n  <thead>\n    <tr style=\"text-align: right;\">\n      <th></th>\n      <th>assessment_new</th>\n      <th>assignment_due_date</th>\n      <th>assignment_final_submission_date</th>\n      <th>assignment_late_submission</th>\n      <th>assignment_max_attempts</th>\n      <th>assignment_start_date</th>\n      <th>ced_assignment_type_code</th>\n      <th>is_affecting_grade</th>\n      <th>max_student_stop_datetime</th>\n      <th>min_student_start_datetime</th>\n      <th>number_of_distinct_instance_items</th>\n      <th>number_of_learners</th>\n    </tr>\n  </thead>\n  <tbody>\n    <tr>\n      <th>0</th>\n      <td>17Th Century Science</td>\n      <td>2019-10-30 04:59:00</td>\n      <td>2019-10-30 04:59:00</td>\n      <td>False</td>\n      <td>1</td>\n      <td>2019-10-28 05:00:00</td>\n      <td>clo</td>\n      <td>True</td>\n      <td>2019-11-16 04:09:25.260000</td>\n      <td>2019-10-28 19:49:28.028000</td>\n      <td>2</td>\n      <td>27</td>\n    </tr>\n    <tr>\n      <th>1</th>\n      <td>The 20Th Century</td>\n      <td>2019-11-06 05:59:00</td>\n      <td>2019-11-06 05:59:00</td>\n      <td>False</td>\n      <td>1</td>\n      <td>2019-10-31 05:00:00</td>\n      <td>assessment</td>\n      <td>True</td>\n      <td>2019-11-05 23:21:59.287000</td>\n      <td>2019-10-31 19:19:21.510000</td>\n      <td>18</td>\n      <td>27</td>\n    </tr>\n    <tr>\n      <th>2</th>\n      <td>Where Am I?</td>\n      <td>2020-01-18 05:59:00</td>\n      <td>2020-01-18 05:59:00</td>\n      <td>False</td>\n      <td>1</td>\n      <td>2020-01-16 06:00:00</td>\n      <td>assessment</td>\n      <td>True</td>\n      <td>2020-01-17 20:11:14.079000</td>\n      <td>2020-01-16 20:18:26.011000</td>\n      <td>19</td>\n      <td>23</td>\n    </tr>\n    <tr>\n      <th>3</th>\n      <td>A Study In Scarlet</td>\n      <td>2020-02-15 05:59:00</td>\n      <td>2020-02-15 05:59:00</td>\n      <td>False</td>\n      <td>1</td>\n      <td>2020-02-13 06:00:00</td>\n      <td>assessment</td>\n      <td>True</td>\n      <td>2999-01-01 00:00:00</td>\n      <td>1900-01-01 00:00:00</td>\n      <td>9</td>\n      <td>23</td>\n    </tr>\n    <tr>\n      <th>4</th>\n      <td>Classic Tv Quotes</td>\n      <td>2020-02-29 05:59:00</td>\n      <td>2020-02-29 05:59:00</td>\n      <td>False</td>\n      <td>1</td>\n      <td>2020-02-27 06:00:00</td>\n      <td>assessment</td>\n      <td>True</td>\n      <td>2020-02-29 06:00:06.925000</td>\n      <td>2020-02-27 21:04:03.241000</td>\n      <td>10</td>\n      <td>22</td>\n    </tr>\n    <tr>\n      <th>5</th>\n      <td>Someday My Prints Will Come</td>\n      <td>2020-04-12 04:59:00</td>\n      <td>2020-04-12 04:59:00</td>\n      <td>False</td>\n      <td>1</td>\n      <td>2020-04-09 05:00:00</td>\n      <td>assessment</td>\n      <td>True</td>\n      <td>2020-04-12 04:59:13.840000</td>\n      <td>2020-04-09 17:00:20.741000</td>\n      <td>12</td>\n      <td>23</td>\n    </tr>\n  </tbody>\n</table>\n</div>"
     },
     "execution_count": 97,
     "metadata": {},
     "output_type": "execute_result"
    }
   ],
   "source": [
    "dfRaw.filter( F.col('section_id') == 498941).select('assessment_new', *shared.assignmentVars).distinct().orderBy('assignment_due_date').toPandas()"
   ]
  },
  {
   "cell_type": "markdown",
   "metadata": {},
   "source": [
    "- 6 assignments (one for each assessment) in section 498941"
   ]
  },
  {
   "cell_type": "markdown",
   "metadata": {},
   "source": [
    "###### Display Assignment Items for Assessment 720657 of Section 498941"
   ]
  },
  {
   "cell_type": "code",
   "execution_count": 98,
   "metadata": {},
   "outputs": [
    {
     "data": {
      "text/plain": "   item_is_offline_scored item_type_code_name scoring_type_code\n0                   False                None      [unassigned]\n1                    True           trueFalse         automatic\n2                   False      multipleChoice         automatic\n3                   False            matching         automatic\n4                   False               essay      [unassigned]\n5                   False         shortAnswer      [unassigned]\n6                   False           trueFalse         automatic",
      "text/html": "<div>\n<style scoped>\n    .dataframe tbody tr th:only-of-type {\n        vertical-align: middle;\n    }\n\n    .dataframe tbody tr th {\n        vertical-align: top;\n    }\n\n    .dataframe thead th {\n        text-align: right;\n    }\n</style>\n<table border=\"1\" class=\"dataframe\">\n  <thead>\n    <tr style=\"text-align: right;\">\n      <th></th>\n      <th>item_is_offline_scored</th>\n      <th>item_type_code_name</th>\n      <th>scoring_type_code</th>\n    </tr>\n  </thead>\n  <tbody>\n    <tr>\n      <th>0</th>\n      <td>False</td>\n      <td>None</td>\n      <td>[unassigned]</td>\n    </tr>\n    <tr>\n      <th>1</th>\n      <td>True</td>\n      <td>trueFalse</td>\n      <td>automatic</td>\n    </tr>\n    <tr>\n      <th>2</th>\n      <td>False</td>\n      <td>multipleChoice</td>\n      <td>automatic</td>\n    </tr>\n    <tr>\n      <th>3</th>\n      <td>False</td>\n      <td>matching</td>\n      <td>automatic</td>\n    </tr>\n    <tr>\n      <th>4</th>\n      <td>False</td>\n      <td>essay</td>\n      <td>[unassigned]</td>\n    </tr>\n    <tr>\n      <th>5</th>\n      <td>False</td>\n      <td>shortAnswer</td>\n      <td>[unassigned]</td>\n    </tr>\n    <tr>\n      <th>6</th>\n      <td>False</td>\n      <td>trueFalse</td>\n      <td>automatic</td>\n    </tr>\n  </tbody>\n</table>\n</div>"
     },
     "execution_count": 98,
     "metadata": {},
     "output_type": "execute_result"
    }
   ],
   "source": [
    "dfRaw.filter( F.col('assessment_id') == 720657).select(*shared.itemVars).distinct().toPandas()"
   ]
  },
  {
   "cell_type": "markdown",
   "metadata": {},
   "source": [
    "- 7 items in assessment 720657\n",
    "- 1 item (true/false) is offline scored\n",
    "- 4 items automatice scoring code and 3 unassigned"
   ]
  },
  {
   "cell_type": "markdown",
   "metadata": {},
   "source": [
    "###### Display Assignment Attempt for Attempt 1115526"
   ]
  },
  {
   "cell_type": "code",
   "execution_count": 99,
   "metadata": {},
   "outputs": [
    {
     "data": {
      "text/plain": "   assessment_instance_attempt_id  assignment_attempt_number  \\\n0                         1115526                          1   \n\n   final_score_unweighted  is_force_scored  is_manual_scoring_required  \\\n0                       0            False                       False   \n\n   learner_assignment_attempt_id learner_attempt_status  \\\n0                        1050015            in progress   \n\n   points_possible_unweighted         scored_datetime  \\\n0                        39.0  2999-01-01 00:00:00+00   \n\n       student_start_datetime student_stop_datetime was_fully_scored_datetime  \\\n0  2019-11-03 22:41:04.219000   2999-01-01 00:00:00       2999-01-01 00:00:00   \n\n     was_in_progress_datetime was_submitted_datetime_actual  \n0  2019-11-03 22:41:04.219000           2999-01-01 00:00:00  ",
      "text/html": "<div>\n<style scoped>\n    .dataframe tbody tr th:only-of-type {\n        vertical-align: middle;\n    }\n\n    .dataframe tbody tr th {\n        vertical-align: top;\n    }\n\n    .dataframe thead th {\n        text-align: right;\n    }\n</style>\n<table border=\"1\" class=\"dataframe\">\n  <thead>\n    <tr style=\"text-align: right;\">\n      <th></th>\n      <th>assessment_instance_attempt_id</th>\n      <th>assignment_attempt_number</th>\n      <th>final_score_unweighted</th>\n      <th>is_force_scored</th>\n      <th>is_manual_scoring_required</th>\n      <th>learner_assignment_attempt_id</th>\n      <th>learner_attempt_status</th>\n      <th>points_possible_unweighted</th>\n      <th>scored_datetime</th>\n      <th>student_start_datetime</th>\n      <th>student_stop_datetime</th>\n      <th>was_fully_scored_datetime</th>\n      <th>was_in_progress_datetime</th>\n      <th>was_submitted_datetime_actual</th>\n    </tr>\n  </thead>\n  <tbody>\n    <tr>\n      <th>0</th>\n      <td>1115526</td>\n      <td>1</td>\n      <td>0</td>\n      <td>False</td>\n      <td>False</td>\n      <td>1050015</td>\n      <td>in progress</td>\n      <td>39.0</td>\n      <td>2999-01-01 00:00:00+00</td>\n      <td>2019-11-03 22:41:04.219000</td>\n      <td>2999-01-01 00:00:00</td>\n      <td>2999-01-01 00:00:00</td>\n      <td>2019-11-03 22:41:04.219000</td>\n      <td>2999-01-01 00:00:00</td>\n    </tr>\n  </tbody>\n</table>\n</div>"
     },
     "execution_count": 99,
     "metadata": {},
     "output_type": "execute_result"
    }
   ],
   "source": [
    "dfRaw.filter( F.col('assessment_instance_attempt_id') == 1115526 ).select(*shared.assignmentAttemptVars).distinct().toPandas()"
   ]
  },
  {
   "cell_type": "markdown",
   "metadata": {},
   "source": [
    "- Attempt is in progress (not finished)\n",
    "- Empty (default) scored_datetime, student_stop_datetime, was_fully_scored_datetime, was_submitted_datetime_actual\n",
    "- Final score is 0\n",
    "- Same values in student_start_datetime and was_in_progress_datetime"
   ]
  },
  {
   "cell_type": "markdown",
   "metadata": {},
   "source": [
    "###### Display Assignment Attempt for Attempt 1159455"
   ]
  },
  {
   "cell_type": "code",
   "execution_count": 100,
   "metadata": {},
   "outputs": [
    {
     "data": {
      "text/plain": "   assessment_instance_attempt_id  assignment_attempt_number  \\\n0                         1159455                          1   \n\n   final_score_unweighted  is_force_scored  is_manual_scoring_required  \\\n0                       9            False                       False   \n\n   learner_assignment_attempt_id learner_attempt_status  \\\n0                         965818           fully scored   \n\n   points_possible_unweighted         scored_datetime  \\\n0                        12.0  2020-04-11 03:59:35+00   \n\n       student_start_datetime       student_stop_datetime  \\\n0  2020-04-09 18:30:43.079000  2020-04-11 03:59:35.992000   \n\n  was_fully_scored_datetime    was_in_progress_datetime  \\\n0       2020-04-11 03:59:35  2020-04-09 18:30:43.079000   \n\n  was_submitted_datetime_actual  \n0    2020-04-11 03:59:35.992000  ",
      "text/html": "<div>\n<style scoped>\n    .dataframe tbody tr th:only-of-type {\n        vertical-align: middle;\n    }\n\n    .dataframe tbody tr th {\n        vertical-align: top;\n    }\n\n    .dataframe thead th {\n        text-align: right;\n    }\n</style>\n<table border=\"1\" class=\"dataframe\">\n  <thead>\n    <tr style=\"text-align: right;\">\n      <th></th>\n      <th>assessment_instance_attempt_id</th>\n      <th>assignment_attempt_number</th>\n      <th>final_score_unweighted</th>\n      <th>is_force_scored</th>\n      <th>is_manual_scoring_required</th>\n      <th>learner_assignment_attempt_id</th>\n      <th>learner_attempt_status</th>\n      <th>points_possible_unweighted</th>\n      <th>scored_datetime</th>\n      <th>student_start_datetime</th>\n      <th>student_stop_datetime</th>\n      <th>was_fully_scored_datetime</th>\n      <th>was_in_progress_datetime</th>\n      <th>was_submitted_datetime_actual</th>\n    </tr>\n  </thead>\n  <tbody>\n    <tr>\n      <th>0</th>\n      <td>1159455</td>\n      <td>1</td>\n      <td>9</td>\n      <td>False</td>\n      <td>False</td>\n      <td>965818</td>\n      <td>fully scored</td>\n      <td>12.0</td>\n      <td>2020-04-11 03:59:35+00</td>\n      <td>2020-04-09 18:30:43.079000</td>\n      <td>2020-04-11 03:59:35.992000</td>\n      <td>2020-04-11 03:59:35</td>\n      <td>2020-04-09 18:30:43.079000</td>\n      <td>2020-04-11 03:59:35.992000</td>\n    </tr>\n  </tbody>\n</table>\n</div>"
     },
     "execution_count": 100,
     "metadata": {},
     "output_type": "execute_result"
    }
   ],
   "source": [
    "dfRaw.filter( F.col('assessment_instance_attempt_id') == 1159455 ).select(*shared.assignmentAttemptVars).distinct().toPandas()"
   ]
  },
  {
   "cell_type": "markdown",
   "metadata": {},
   "source": [
    "- Attempt is finished (fully scored)"
   ]
  },
  {
   "cell_type": "markdown",
   "metadata": {},
   "source": [
    "###### Display Assignment Attempt Items for Attempt 1115526"
   ]
  },
  {
   "cell_type": "code",
   "execution_count": 101,
   "metadata": {},
   "outputs": [
    {
     "data": {
      "text/plain": "    assessment_item_response_id assigned_item_status  is_deleted  \\\n0                     1572894.0               scored       False   \n1                     1592595.0               scored       False   \n2                     1626110.0               scored       False   \n3                     1571371.0               scored       False   \n4                     1561797.0               scored       False   \n5                     1616296.0               scored       False   \n6                     1571743.0               scored       False   \n7                     1556172.0               scored       False   \n8                     1652901.0               scored       False   \n9                     1631451.0               scored       False   \n10                    1664219.0               scored       False   \n11                    1610844.0               scored       False   \n12                    1568785.0               scored       False   \n13                    1609716.0               scored       False   \n14                    1627468.0               scored       False   \n15                          NaN            delivered       False   \n\n    learner_assigned_item_attempt_id response_correctness  \n0                            1531985              correct  \n1                            1532003              correct  \n2                            1532004              correct  \n3                            1531981            incorrect  \n4                            1531983            incorrect  \n5                            1531998            incorrect  \n6                            1532001              correct  \n7                            1532002              correct  \n8                            1532000            incorrect  \n9                            1531984            incorrect  \n10                           1531979              correct  \n11                           1531970              correct  \n12                           1531980            incorrect  \n13                           1531982    partially_correct  \n14                           1531978            incorrect  \n15                           1531999                 None  ",
      "text/html": "<div>\n<style scoped>\n    .dataframe tbody tr th:only-of-type {\n        vertical-align: middle;\n    }\n\n    .dataframe tbody tr th {\n        vertical-align: top;\n    }\n\n    .dataframe thead th {\n        text-align: right;\n    }\n</style>\n<table border=\"1\" class=\"dataframe\">\n  <thead>\n    <tr style=\"text-align: right;\">\n      <th></th>\n      <th>assessment_item_response_id</th>\n      <th>assigned_item_status</th>\n      <th>is_deleted</th>\n      <th>learner_assigned_item_attempt_id</th>\n      <th>response_correctness</th>\n    </tr>\n  </thead>\n  <tbody>\n    <tr>\n      <th>0</th>\n      <td>1572894.0</td>\n      <td>scored</td>\n      <td>False</td>\n      <td>1531985</td>\n      <td>correct</td>\n    </tr>\n    <tr>\n      <th>1</th>\n      <td>1592595.0</td>\n      <td>scored</td>\n      <td>False</td>\n      <td>1532003</td>\n      <td>correct</td>\n    </tr>\n    <tr>\n      <th>2</th>\n      <td>1626110.0</td>\n      <td>scored</td>\n      <td>False</td>\n      <td>1532004</td>\n      <td>correct</td>\n    </tr>\n    <tr>\n      <th>3</th>\n      <td>1571371.0</td>\n      <td>scored</td>\n      <td>False</td>\n      <td>1531981</td>\n      <td>incorrect</td>\n    </tr>\n    <tr>\n      <th>4</th>\n      <td>1561797.0</td>\n      <td>scored</td>\n      <td>False</td>\n      <td>1531983</td>\n      <td>incorrect</td>\n    </tr>\n    <tr>\n      <th>5</th>\n      <td>1616296.0</td>\n      <td>scored</td>\n      <td>False</td>\n      <td>1531998</td>\n      <td>incorrect</td>\n    </tr>\n    <tr>\n      <th>6</th>\n      <td>1571743.0</td>\n      <td>scored</td>\n      <td>False</td>\n      <td>1532001</td>\n      <td>correct</td>\n    </tr>\n    <tr>\n      <th>7</th>\n      <td>1556172.0</td>\n      <td>scored</td>\n      <td>False</td>\n      <td>1532002</td>\n      <td>correct</td>\n    </tr>\n    <tr>\n      <th>8</th>\n      <td>1652901.0</td>\n      <td>scored</td>\n      <td>False</td>\n      <td>1532000</td>\n      <td>incorrect</td>\n    </tr>\n    <tr>\n      <th>9</th>\n      <td>1631451.0</td>\n      <td>scored</td>\n      <td>False</td>\n      <td>1531984</td>\n      <td>incorrect</td>\n    </tr>\n    <tr>\n      <th>10</th>\n      <td>1664219.0</td>\n      <td>scored</td>\n      <td>False</td>\n      <td>1531979</td>\n      <td>correct</td>\n    </tr>\n    <tr>\n      <th>11</th>\n      <td>1610844.0</td>\n      <td>scored</td>\n      <td>False</td>\n      <td>1531970</td>\n      <td>correct</td>\n    </tr>\n    <tr>\n      <th>12</th>\n      <td>1568785.0</td>\n      <td>scored</td>\n      <td>False</td>\n      <td>1531980</td>\n      <td>incorrect</td>\n    </tr>\n    <tr>\n      <th>13</th>\n      <td>1609716.0</td>\n      <td>scored</td>\n      <td>False</td>\n      <td>1531982</td>\n      <td>partially_correct</td>\n    </tr>\n    <tr>\n      <th>14</th>\n      <td>1627468.0</td>\n      <td>scored</td>\n      <td>False</td>\n      <td>1531978</td>\n      <td>incorrect</td>\n    </tr>\n    <tr>\n      <th>15</th>\n      <td>NaN</td>\n      <td>delivered</td>\n      <td>False</td>\n      <td>1531999</td>\n      <td>None</td>\n    </tr>\n  </tbody>\n</table>\n</div>"
     },
     "execution_count": 101,
     "metadata": {},
     "output_type": "execute_result"
    }
   ],
   "source": [
    "dfRaw.filter( F.col('assessment_instance_attempt_id') == 1115526 ).select(*shared.itemAttemptVars).distinct().toPandas()"
   ]
  },
  {
   "cell_type": "markdown",
   "metadata": {},
   "source": [
    "- 16 observations\n",
    "- 15 answered (scored)\n",
    "  - 7 correct\n",
    "  - 7 incorrect\n",
    "  - 1 partically correct\n",
    "- 1 not answered (delivered)\n",
    "  - assessment not completed"
   ]
  },
  {
   "cell_type": "markdown",
   "metadata": {},
   "source": [
    "###### Display Assignment Attempt Items for Attempt 1159455"
   ]
  },
  {
   "cell_type": "code",
   "execution_count": 102,
   "metadata": {},
   "outputs": [
    {
     "data": {
      "text/plain": "    assessment_item_response_id assigned_item_status  is_deleted  \\\n0                       1596516               scored       False   \n1                       1581835               scored       False   \n2                       1549179               scored       False   \n3                       1547897               scored       False   \n4                       1635317               scored       False   \n5                       1585073               scored       False   \n6                       1622897               scored       False   \n7                       1616794               scored       False   \n8                       1586273               scored       False   \n9                       1554205               scored       False   \n10                      1652023               scored       False   \n11                      1656622               scored       False   \n\n    learner_assigned_item_attempt_id response_correctness  \n0                            1413322              correct  \n1                            1413319              correct  \n2                            1413324              correct  \n3                            1413317            incorrect  \n4                            1413318              correct  \n5                            1413325              correct  \n6                            1413321            incorrect  \n7                            1413316              correct  \n8                            1413320              correct  \n9                            1413323              correct  \n10                           1413315              correct  \n11                           1413326            incorrect  ",
      "text/html": "<div>\n<style scoped>\n    .dataframe tbody tr th:only-of-type {\n        vertical-align: middle;\n    }\n\n    .dataframe tbody tr th {\n        vertical-align: top;\n    }\n\n    .dataframe thead th {\n        text-align: right;\n    }\n</style>\n<table border=\"1\" class=\"dataframe\">\n  <thead>\n    <tr style=\"text-align: right;\">\n      <th></th>\n      <th>assessment_item_response_id</th>\n      <th>assigned_item_status</th>\n      <th>is_deleted</th>\n      <th>learner_assigned_item_attempt_id</th>\n      <th>response_correctness</th>\n    </tr>\n  </thead>\n  <tbody>\n    <tr>\n      <th>0</th>\n      <td>1596516</td>\n      <td>scored</td>\n      <td>False</td>\n      <td>1413322</td>\n      <td>correct</td>\n    </tr>\n    <tr>\n      <th>1</th>\n      <td>1581835</td>\n      <td>scored</td>\n      <td>False</td>\n      <td>1413319</td>\n      <td>correct</td>\n    </tr>\n    <tr>\n      <th>2</th>\n      <td>1549179</td>\n      <td>scored</td>\n      <td>False</td>\n      <td>1413324</td>\n      <td>correct</td>\n    </tr>\n    <tr>\n      <th>3</th>\n      <td>1547897</td>\n      <td>scored</td>\n      <td>False</td>\n      <td>1413317</td>\n      <td>incorrect</td>\n    </tr>\n    <tr>\n      <th>4</th>\n      <td>1635317</td>\n      <td>scored</td>\n      <td>False</td>\n      <td>1413318</td>\n      <td>correct</td>\n    </tr>\n    <tr>\n      <th>5</th>\n      <td>1585073</td>\n      <td>scored</td>\n      <td>False</td>\n      <td>1413325</td>\n      <td>correct</td>\n    </tr>\n    <tr>\n      <th>6</th>\n      <td>1622897</td>\n      <td>scored</td>\n      <td>False</td>\n      <td>1413321</td>\n      <td>incorrect</td>\n    </tr>\n    <tr>\n      <th>7</th>\n      <td>1616794</td>\n      <td>scored</td>\n      <td>False</td>\n      <td>1413316</td>\n      <td>correct</td>\n    </tr>\n    <tr>\n      <th>8</th>\n      <td>1586273</td>\n      <td>scored</td>\n      <td>False</td>\n      <td>1413320</td>\n      <td>correct</td>\n    </tr>\n    <tr>\n      <th>9</th>\n      <td>1554205</td>\n      <td>scored</td>\n      <td>False</td>\n      <td>1413323</td>\n      <td>correct</td>\n    </tr>\n    <tr>\n      <th>10</th>\n      <td>1652023</td>\n      <td>scored</td>\n      <td>False</td>\n      <td>1413315</td>\n      <td>correct</td>\n    </tr>\n    <tr>\n      <th>11</th>\n      <td>1656622</td>\n      <td>scored</td>\n      <td>False</td>\n      <td>1413326</td>\n      <td>incorrect</td>\n    </tr>\n  </tbody>\n</table>\n</div>"
     },
     "execution_count": 102,
     "metadata": {},
     "output_type": "execute_result"
    }
   ],
   "source": [
    "dfRaw.filter( F.col('assessment_instance_attempt_id') == 1159455 ).select(*shared.itemAttemptVars).distinct().toPandas()"
   ]
  },
  {
   "cell_type": "markdown",
   "metadata": {},
   "source": [
    "##### Display Variables"
   ]
  },
  {
   "cell_type": "markdown",
   "metadata": {},
   "source": [
    "###### Display Categorical Identifier Variables"
   ]
  },
  {
   "cell_type": "code",
   "execution_count": 103,
   "metadata": {},
   "outputs": [
    {
     "name": "stdout",
     "output_type": "stream",
     "text": [
      "+--------------------------------+\n",
      "|Categorical Identifier          |\n",
      "+--------------------------------+\n",
      "|assessment_id                   |\n",
      "|assessment_instance_attempt_id  |\n",
      "|assessment_instance_id          |\n",
      "|assessment_item_response_id     |\n",
      "|learner_assigned_item_attempt_id|\n",
      "|learner_assignment_attempt_id   |\n",
      "|learner_id                      |\n",
      "|org_id                          |\n",
      "|section_id                      |\n",
      "+--------------------------------+\n",
      "\n"
     ]
    }
   ],
   "source": [
    "# Save field names\n",
    "identifierVarObs = dfDesc.filter(\"type = 'Categorical Identifier'\")\n",
    "shared.identifierVars = [row['field'] for row in identifierVarObs.select('field').collect()]\n",
    "identifierVarObs.select(F.col('field').alias('Categorical Identifier')).show(20,False)"
   ]
  },
  {
   "cell_type": "markdown",
   "metadata": {},
   "source": [
    "###### Display Categorical Nominal Variables"
   ]
  },
  {
   "cell_type": "code",
   "execution_count": 104,
   "metadata": {},
   "outputs": [
    {
     "name": "stdout",
     "output_type": "stream",
     "text": [
      "+------------------------+\n",
      "|Categorical Nominal     |\n",
      "+------------------------+\n",
      "|assigned_item_status    |\n",
      "|ced_assignment_type_code|\n",
      "|item_type_code_name     |\n",
      "|learner_attempt_status  |\n",
      "|response_correctness    |\n",
      "|scoring_type_code       |\n",
      "+------------------------+\n",
      "\n"
     ]
    }
   ],
   "source": [
    "nominalVarObs    = dfDesc.filter(\"type = 'Categorical Nominal'\")\n",
    "shared.nominalVars = [row['field'] for row in nominalVarObs.select('field').collect()]\n",
    "nominalVarObs.select(F.col('field').alias('Categorical Nominal')).show(20,False)"
   ]
  },
  {
   "cell_type": "markdown",
   "metadata": {},
   "source": [
    "###### Display Numeric Continuous Variables"
   ]
  },
  {
   "cell_type": "code",
   "execution_count": 105,
   "metadata": {},
   "outputs": [
    {
     "name": "stdout",
     "output_type": "stream",
     "text": [
      "+---------------------------------+\n",
      "|Numeric Continuous               |\n",
      "+---------------------------------+\n",
      "|assignment_attempt_number        |\n",
      "|assignment_max_attempts          |\n",
      "|final_score_unweighted           |\n",
      "|number_of_distinct_instance_items|\n",
      "|number_of_learners               |\n",
      "|points_possible_unweighted       |\n",
      "+---------------------------------+\n",
      "\n"
     ]
    }
   ],
   "source": [
    "continousVarObs  = dfDesc.filter(\"type = 'Numeric Continuous'\")\n",
    "shared.continousVars = [row['field'] for row in continousVarObs.select('field').collect()]\n",
    "continousVarObs.select(F.col('field').alias('Numeric Continuous')).show(20,False)"
   ]
  },
  {
   "cell_type": "markdown",
   "metadata": {},
   "source": [
    "###### Display Categorical Interval Varibles"
   ]
  },
  {
   "cell_type": "code",
   "execution_count": 106,
   "metadata": {},
   "outputs": [
    {
     "name": "stdout",
     "output_type": "stream",
     "text": [
      "+--------------------------------+\n",
      "|Categorical Interval            |\n",
      "+--------------------------------+\n",
      "|assignment_due_date             |\n",
      "|assignment_final_submission_date|\n",
      "|assignment_start_date           |\n",
      "|max_student_stop_datetime       |\n",
      "|min_student_start_datetime      |\n",
      "|scored_datetime                 |\n",
      "|student_start_datetime          |\n",
      "|student_stop_datetime           |\n",
      "|was_fully_scored_datetime       |\n",
      "|was_in_progress_datetime        |\n",
      "|was_submitted_datetime_actual   |\n",
      "+--------------------------------+\n",
      "\n"
     ]
    }
   ],
   "source": [
    "intervalVarObs   = dfDesc.filter(\"type = 'Categorical Interval'\")\n",
    "shared.intervalVars = [row['field'] for row in intervalVarObs.select('field').collect()]\n",
    "intervalVarObs.select(F.col('field').alias('Categorical Interval')).show(20,False)"
   ]
  },
  {
   "cell_type": "code",
   "execution_count": 107,
   "metadata": {},
   "outputs": [
    {
     "name": "stdout",
     "output_type": "stream",
     "text": [
      "+--------------------------+\n",
      "|Categorical Binary        |\n",
      "+--------------------------+\n",
      "|assignment_late_submission|\n",
      "|is_affecting_grade        |\n",
      "|is_deleted                |\n",
      "|is_force_scored           |\n",
      "|is_manual_scoring_required|\n",
      "|item_is_offline_scored    |\n",
      "+--------------------------+\n",
      "\n"
     ]
    }
   ],
   "source": [
    "binaryVarObs     = dfDesc.filter(\"type = 'Categorical Binary'\")\n",
    "shared.binaryVars = [row['field'] for row in binaryVarObs.select('field').collect()]\n",
    "binaryVarObs.select(F.col('field').alias('Categorical Binary')).show(20,False)\n"
   ]
  },
  {
   "cell_type": "code",
   "execution_count": 108,
   "metadata": {},
   "outputs": [
    {
     "name": "stdout",
     "output_type": "stream",
     "text": [
      "root\n",
      " |-- ced_assignment_type_code: string (nullable = true)\n",
      " |-- is_affecting_grade: boolean (nullable = true)\n",
      " |-- number_of_learners: integer (nullable = true)\n",
      " |-- number_of_distinct_instance_items: integer (nullable = true)\n",
      " |-- assignment_max_attempts: integer (nullable = true)\n",
      " |-- assignment_late_submission: boolean (nullable = true)\n",
      " |-- assignment_final_submission_date: string (nullable = true)\n",
      " |-- assignment_start_date: string (nullable = true)\n",
      " |-- assignment_due_date: string (nullable = true)\n",
      " |-- min_student_start_datetime: string (nullable = true)\n",
      " |-- max_student_stop_datetime: string (nullable = true)\n",
      " |-- assignment_attempt_number: integer (nullable = true)\n",
      " |-- was_fully_scored_datetime: string (nullable = true)\n",
      " |-- was_submitted_datetime_actual: string (nullable = true)\n",
      " |-- was_in_progress_datetime: string (nullable = true)\n",
      " |-- is_force_scored: boolean (nullable = true)\n",
      " |-- is_manual_scoring_required: boolean (nullable = true)\n",
      " |-- student_start_datetime: string (nullable = true)\n",
      " |-- student_stop_datetime: string (nullable = true)\n",
      " |-- item_is_offline_scored: boolean (nullable = true)\n",
      " |-- learner_attempt_status: string (nullable = true)\n",
      " |-- points_possible_unweighted: double (nullable = true)\n",
      " |-- final_score_unweighted: integer (nullable = true)\n",
      " |-- scored_datetime: string (nullable = true)\n",
      " |-- item_type_code_name: string (nullable = true)\n",
      " |-- scoring_type_code: string (nullable = true)\n",
      " |-- response_correctness: string (nullable = true)\n",
      " |-- assigned_item_status: string (nullable = true)\n",
      " |-- is_deleted: boolean (nullable = true)\n",
      " |-- org_id: integer (nullable = true)\n",
      " |-- section_id: integer (nullable = true)\n",
      " |-- assessment_id: integer (nullable = true)\n",
      " |-- assessment_instance_id: integer (nullable = true)\n",
      " |-- learner_assignment_attempt_id: integer (nullable = true)\n",
      " |-- assessment_instance_attempt_id: integer (nullable = true)\n",
      " |-- learner_id: integer (nullable = true)\n",
      " |-- learner_assigned_item_attempt_id: integer (nullable = true)\n",
      " |-- assessment_item_response_id: integer (nullable = true)\n",
      " |-- org_new: string (nullable = true)\n",
      " |-- learner_new: string (nullable = true)\n",
      " |-- section_new: string (nullable = true)\n",
      " |-- assessment_new: string (nullable = true)\n",
      "\n"
     ]
    }
   ],
   "source": [
    "# Schema\n",
    "dfRaw.printSchema()"
   ]
  },
  {
   "cell_type": "code",
   "execution_count": 117,
   "metadata": {},
   "outputs": [],
   "source": [
    "dfFlt = dfRaw.filter(F.col('learner_attempt_status') == 'fully scored')"
   ]
  },
  {
   "cell_type": "code",
   "execution_count": 118,
   "outputs": [
    {
     "name": "stdout",
     "output_type": "stream",
     "text": [
      "assignment_due_date = 1566\n",
      "assignment_final_submission_date = 1566\n",
      "assignment_start_date = 1566\n",
      "student_start_datetime = 749\n",
      "student_stop_datetime = 749\n",
      "was_fully_scored_datetime = 750\n",
      "was_in_progress_datetime = 9965\n",
      "was_submitted_datetime_actual = 18469\n"
     ]
    }
   ],
   "source": [
    "%run './convert-default-dates.ipynb'"
   ],
   "metadata": {
    "collapsed": false,
    "pycharm": {
     "name": "#%%\n"
    }
   }
  },
  {
   "cell_type": "code",
   "execution_count": 119,
   "metadata": {},
   "outputs": [
    {
     "name": "stdout",
     "output_type": "stream",
     "text": [
      "assessment_id\n",
      "+------+----+\n",
      "|unique|null|\n",
      "+------+----+\n",
      "|   329|   0|\n",
      "+------+----+\n",
      "\n",
      "assessment_instance_attempt_id\n",
      "+------+----+\n",
      "|unique|null|\n",
      "+------+----+\n",
      "|  8483|3264|\n",
      "+------+----+\n",
      "\n",
      "assessment_instance_id\n",
      "+------+----+\n",
      "|unique|null|\n",
      "+------+----+\n",
      "|   615|   0|\n",
      "+------+----+\n",
      "\n",
      "assessment_item_response_id\n",
      "+------+-----+\n",
      "|unique| null|\n",
      "+------+-----+\n",
      "| 64368|15710|\n",
      "+------+-----+\n",
      "\n",
      "learner_assigned_item_attempt_id\n",
      "+------+----+\n",
      "|unique|null|\n",
      "+------+----+\n",
      "| 79689|   0|\n",
      "+------+----+\n",
      "\n",
      "learner_assignment_attempt_id\n",
      "+------+----+\n",
      "|unique|null|\n",
      "+------+----+\n",
      "|  8855|   0|\n",
      "+------+----+\n",
      "\n",
      "learner_id\n",
      "+------+----+\n",
      "|unique|null|\n",
      "+------+----+\n",
      "|  1126|   0|\n",
      "+------+----+\n",
      "\n",
      "org_id\n",
      "+------+----+\n",
      "|unique|null|\n",
      "+------+----+\n",
      "|     3|   0|\n",
      "+------+----+\n",
      "\n",
      "section_id\n",
      "+------+----+\n",
      "|unique|null|\n",
      "+------+----+\n",
      "|    46|   0|\n",
      "+------+----+\n",
      "\n"
     ]
    }
   ],
   "source": [
    "for f in shared.identifierVars:\n",
    "  print(f)\n",
    "  dfFlt.agg(\n",
    "    F.countDistinct(f).alias('unique'), \n",
    "    F.count(F.when(F.col(f).isNull(), f)).alias('null')\n",
    "  ).show()"
   ]
  },
  {
   "cell_type": "markdown",
   "metadata": {},
   "source": [
    "Totals\n",
    "- org_id: 3\n",
    "  - ID per organization\n",
    "- section_id: 46\n",
    "  - ID per section/school\n",
    "- learner_id: 1126\n",
    "  - ID per learner/student\n",
    "- assessment_id: 329\n",
    "  - ID per each assessment/quiz.  \n",
    "- assessment_instance_id: 615\n",
    "  - ID of each time a section uses the assessment\n",
    "- assessment_instance_attempt_id: 8483 null: 3264\n",
    "  - ID of each time an assessment is attempted by a student\n",
    "- assessment_item_response_id: 64368 null: 15710\n",
    "  - ID of each response/answer to an assessment question\n",
    "- learner_assignment_attempt_id: 8855\n",
    "  - ID of each learner attempt of an assigned assessment\n",
    "- learner_assigned_item_attempt_id: 79689\n",
    "  - ID of each learner attempt of a item/question on an assigned assessment"
   ]
  },
  {
   "cell_type": "markdown",
   "metadata": {},
   "source": [
    "###### Variable Descriptive Statistics"
   ]
  },
  {
   "cell_type": "code",
   "execution_count": 120,
   "metadata": {},
   "outputs": [
    {
     "name": "stdout",
     "output_type": "stream",
     "text": [
      "+--------------------+-----+\n",
      "|assigned_item_status|count|\n",
      "+--------------------+-----+\n",
      "|scored              |64804|\n",
      "|offline_scored      |12446|\n",
      "|assigned            |3264 |\n",
      "|responded           |34   |\n",
      "+--------------------+-----+\n",
      "\n",
      "+------------------------+-----+\n",
      "|ced_assignment_type_code|count|\n",
      "+------------------------+-----+\n",
      "|assessment              |76172|\n",
      "|practice                |2562 |\n",
      "|game                    |1555 |\n",
      "|clo                     |248  |\n",
      "|rubric                  |11   |\n",
      "+------------------------+-----+\n",
      "\n",
      "+----------------------+-----+\n",
      "|item_type_code_name   |count|\n",
      "+----------------------+-----+\n",
      "|multipleChoice        |32451|\n",
      "|fillInTheBlank        |12072|\n",
      "|equationEntry         |9516 |\n",
      "|trueFalse             |4963 |\n",
      "|cloze                 |3576 |\n",
      "|null                  |3264 |\n",
      "|multipleSelect        |2691 |\n",
      "|graphing              |2415 |\n",
      "|MultipleChoiceResponse|1550 |\n",
      "|choiceMatrix          |1336 |\n",
      "|matching              |1164 |\n",
      "|bucketing             |1051 |\n",
      "|selectText            |1025 |\n",
      "|essay                 |1000 |\n",
      "|shortAnswer           |983  |\n",
      "|sortable              |644  |\n",
      "|numberLine            |455  |\n",
      "|aheAlgo               |219  |\n",
      "|imageLabel            |108  |\n",
      "|fileUpload            |49   |\n",
      "|RubricResponse        |11   |\n",
      "|FillinBlankResponse   |5    |\n",
      "+----------------------+-----+\n",
      "\n",
      "+----------------------+-----+\n",
      "|learner_attempt_status|count|\n",
      "+----------------------+-----+\n",
      "|fully scored          |80548|\n",
      "+----------------------+-----+\n",
      "\n",
      "+--------------------+-----+\n",
      "|response_correctness|count|\n",
      "+--------------------+-----+\n",
      "|correct             |43761|\n",
      "|incorrect           |30496|\n",
      "|null                |3298 |\n",
      "|[unassigned]        |1566 |\n",
      "|partially_correct   |1427 |\n",
      "+--------------------+-----+\n",
      "\n",
      "+-----------------+-----+\n",
      "|scoring_type_code|count|\n",
      "+-----------------+-----+\n",
      "|automatic        |73467|\n",
      "|[unassigned]     |4864 |\n",
      "|manual           |1998 |\n",
      "|external         |219  |\n",
      "+-----------------+-----+\n",
      "\n"
     ]
    }
   ],
   "source": [
    "# Categorical / Nominal Values\n",
    "for f in shared.nominalVars:\n",
    "  dfFlt.groupBy(f).count().orderBy('count', ascending=False).show(50, False)\n",
    "  "
   ]
  },
  {
   "cell_type": "markdown",
   "metadata": {},
   "source": [
    "##### Null Values\n",
    "- response_correctness\n",
    "  - 3298 null values\n",
    "    - investigate further\n",
    "  - 1566 \"[unassigned]\"\n",
    "    - investigate further for relation to the 1566 assignment_attempt_number and assignment_max_attempts values\n",
    "  - Could be null because the question wasn't answered or a different method of scoring the question\n",
    "- item_type_code_name\n",
    "  - Investigate further\n",
    "  - Could be related to unstarted or unanswered questions\n",
    "\n",
    "##### Large number of categorical values\n",
    "- item_type_code_name\n",
    "  - Need to transform by reclassifying to reduce number of levels\n",
    "  \n",
    "##### learner_attempt_status\n",
    "- Unary \"fully scored\""
   ]
  },
  {
   "cell_type": "code",
   "execution_count": 121,
   "metadata": {},
   "outputs": [],
   "source": [
    "# Create Todo list\n",
    "add_todo('Investigate 3298 null values in response_correctness')\n",
    "add_todo('Investigate 1566 [unassigned] in response_correctness')\n",
    "add_todo('Investigate null values in item_type_code_name')\n",
    "add_todo('Reduce number of levels in item_type_code_name')\n",
    "add_todo('Remove unary learner_attempt_status = \"fully scored\"')"
   ]
  },
  {
   "cell_type": "code",
   "execution_count": 122,
   "metadata": {},
   "outputs": [
    {
     "data": {
      "text/plain": "<Figure size 432x288 with 2 Axes>",
      "image/png": "[encoded data removed]"
     },
     "metadata": {
      "needs_background": "light"
     },
     "output_type": "display_data"
    }
   ],
   "source": [
    "corr, ax = associations( dfFlt.select(*shared.nominalVars).toPandas(), nan_replace_value='null' )"
   ]
  },
  {
   "cell_type": "markdown",
   "metadata": {},
   "source": [
    "- High correlation between item_type_code_name and scoring_type_code\n",
    "- learner_attempt_status a single value ('fully scored)"
   ]
  },
  {
   "cell_type": "code",
   "execution_count": 123,
   "metadata": {},
   "outputs": [
    {
     "data": {
      "text/plain": "scoring_type_code       [unassigned]  automatic  external  manual  Total\nitem_type_code_name                                                     \nFillinBlankResponse                5          0         0       0      5\nMultipleChoiceResponse          1550          0         0       0   1550\nRubricResponse                    11          0         0       0     11\naheAlgo                            0          0       219       0    219\nbucketing                          0       1051         0       0   1051\nchoiceMatrix                       0       1336         0       0   1336\ncloze                              0       3576         0       0   3576\nequationEntry                      0       9516         0       0   9516\nessay                              9          0         0     991   1000\nfileUpload                         0          0         0      49     49\nfillInTheBlank                     0      12072         0       0  12072\ngraphing                           0       2415         0       0   2415\nimageLabel                         0        108         0       0    108\nmatching                           0       1164         0       0   1164\nmultipleChoice                     0      32451         0       0  32451\nmultipleSelect                     0       2691         0       0   2691\nnull                            3264          0         0       0   3264\nnumberLine                         0        455         0       0    455\nselectText                         0       1025         0       0   1025\nshortAnswer                       25          0         0     958    983\nsortable                           0        644         0       0    644\ntrueFalse                          0       4963         0       0   4963\nTotal                           4864      73467       219    1998  80548",
      "text/html": "<div>\n<style scoped>\n    .dataframe tbody tr th:only-of-type {\n        vertical-align: middle;\n    }\n\n    .dataframe tbody tr th {\n        vertical-align: top;\n    }\n\n    .dataframe thead th {\n        text-align: right;\n    }\n</style>\n<table border=\"1\" class=\"dataframe\">\n  <thead>\n    <tr style=\"text-align: right;\">\n      <th>scoring_type_code</th>\n      <th>[unassigned]</th>\n      <th>automatic</th>\n      <th>external</th>\n      <th>manual</th>\n      <th>Total</th>\n    </tr>\n    <tr>\n      <th>item_type_code_name</th>\n      <th></th>\n      <th></th>\n      <th></th>\n      <th></th>\n      <th></th>\n    </tr>\n  </thead>\n  <tbody>\n    <tr>\n      <th>FillinBlankResponse</th>\n      <td>5</td>\n      <td>0</td>\n      <td>0</td>\n      <td>0</td>\n      <td>5</td>\n    </tr>\n    <tr>\n      <th>MultipleChoiceResponse</th>\n      <td>1550</td>\n      <td>0</td>\n      <td>0</td>\n      <td>0</td>\n      <td>1550</td>\n    </tr>\n    <tr>\n      <th>RubricResponse</th>\n      <td>11</td>\n      <td>0</td>\n      <td>0</td>\n      <td>0</td>\n      <td>11</td>\n    </tr>\n    <tr>\n      <th>aheAlgo</th>\n      <td>0</td>\n      <td>0</td>\n      <td>219</td>\n      <td>0</td>\n      <td>219</td>\n    </tr>\n    <tr>\n      <th>bucketing</th>\n      <td>0</td>\n      <td>1051</td>\n      <td>0</td>\n      <td>0</td>\n      <td>1051</td>\n    </tr>\n    <tr>\n      <th>choiceMatrix</th>\n      <td>0</td>\n      <td>1336</td>\n      <td>0</td>\n      <td>0</td>\n      <td>1336</td>\n    </tr>\n    <tr>\n      <th>cloze</th>\n      <td>0</td>\n      <td>3576</td>\n      <td>0</td>\n      <td>0</td>\n      <td>3576</td>\n    </tr>\n    <tr>\n      <th>equationEntry</th>\n      <td>0</td>\n      <td>9516</td>\n      <td>0</td>\n      <td>0</td>\n      <td>9516</td>\n    </tr>\n    <tr>\n      <th>essay</th>\n      <td>9</td>\n      <td>0</td>\n      <td>0</td>\n      <td>991</td>\n      <td>1000</td>\n    </tr>\n    <tr>\n      <th>fileUpload</th>\n      <td>0</td>\n      <td>0</td>\n      <td>0</td>\n      <td>49</td>\n      <td>49</td>\n    </tr>\n    <tr>\n      <th>fillInTheBlank</th>\n      <td>0</td>\n      <td>12072</td>\n      <td>0</td>\n      <td>0</td>\n      <td>12072</td>\n    </tr>\n    <tr>\n      <th>graphing</th>\n      <td>0</td>\n      <td>2415</td>\n      <td>0</td>\n      <td>0</td>\n      <td>2415</td>\n    </tr>\n    <tr>\n      <th>imageLabel</th>\n      <td>0</td>\n      <td>108</td>\n      <td>0</td>\n      <td>0</td>\n      <td>108</td>\n    </tr>\n    <tr>\n      <th>matching</th>\n      <td>0</td>\n      <td>1164</td>\n      <td>0</td>\n      <td>0</td>\n      <td>1164</td>\n    </tr>\n    <tr>\n      <th>multipleChoice</th>\n      <td>0</td>\n      <td>32451</td>\n      <td>0</td>\n      <td>0</td>\n      <td>32451</td>\n    </tr>\n    <tr>\n      <th>multipleSelect</th>\n      <td>0</td>\n      <td>2691</td>\n      <td>0</td>\n      <td>0</td>\n      <td>2691</td>\n    </tr>\n    <tr>\n      <th>null</th>\n      <td>3264</td>\n      <td>0</td>\n      <td>0</td>\n      <td>0</td>\n      <td>3264</td>\n    </tr>\n    <tr>\n      <th>numberLine</th>\n      <td>0</td>\n      <td>455</td>\n      <td>0</td>\n      <td>0</td>\n      <td>455</td>\n    </tr>\n    <tr>\n      <th>selectText</th>\n      <td>0</td>\n      <td>1025</td>\n      <td>0</td>\n      <td>0</td>\n      <td>1025</td>\n    </tr>\n    <tr>\n      <th>shortAnswer</th>\n      <td>25</td>\n      <td>0</td>\n      <td>0</td>\n      <td>958</td>\n      <td>983</td>\n    </tr>\n    <tr>\n      <th>sortable</th>\n      <td>0</td>\n      <td>644</td>\n      <td>0</td>\n      <td>0</td>\n      <td>644</td>\n    </tr>\n    <tr>\n      <th>trueFalse</th>\n      <td>0</td>\n      <td>4963</td>\n      <td>0</td>\n      <td>0</td>\n      <td>4963</td>\n    </tr>\n    <tr>\n      <th>Total</th>\n      <td>4864</td>\n      <td>73467</td>\n      <td>219</td>\n      <td>1998</td>\n      <td>80548</td>\n    </tr>\n  </tbody>\n</table>\n</div>"
     },
     "execution_count": 123,
     "metadata": {},
     "output_type": "execute_result"
    }
   ],
   "source": [
    "def item_to_code():\n",
    "  dfPd = dfFlt.select('item_type_code_name','scoring_type_code').toPandas()\n",
    "  return pd.crosstab(dfPd.item_type_code_name.fillna('null'), dfPd.scoring_type_code.fillna('null'), margins=True, margins_name=\"Total\")\n",
    "  \n",
    "item_to_code()"
   ]
  },
  {
   "cell_type": "markdown",
   "metadata": {},
   "source": [
    "- item_type_code_name indicates the scoring_type_code\n",
    "  - scoring_type_code = '[unnassigned]' for item_type_code_name is..\n",
    "    - shortAnswer, null, essay (9 times), RubricResponse, MultipleChoiceResponse, FillInBlankResponse\n",
    "  - scoring_type_code = external only for item_type_code_name = aheAlgo\n",
    "  - scoring_type_code = 'manual' for item_type_code_name is..\n",
    "    - essay, fileUpload, shortAnswer"
   ]
  },
  {
   "cell_type": "code",
   "execution_count": 124,
   "metadata": {},
   "outputs": [
    {
     "name": "stdout",
     "output_type": "stream",
     "text": [
      "+-------+-------------------------+\n",
      "|summary|assignment_attempt_number|\n",
      "+-------+-------------------------+\n",
      "|count  |80548                    |\n",
      "|mean   |0.9805581764910364       |\n",
      "|stddev |0.13807271883793756      |\n",
      "|min    |0                        |\n",
      "|max    |1                        |\n",
      "+-------+-------------------------+\n",
      "\n",
      "+-------+-----------------------+\n",
      "|summary|assignment_max_attempts|\n",
      "+-------+-----------------------+\n",
      "|count  |80548                  |\n",
      "|mean   |0.9805581764910364     |\n",
      "|stddev |0.13807271883793756    |\n",
      "|min    |0                      |\n",
      "|max    |1                      |\n",
      "+-------+-----------------------+\n",
      "\n",
      "+-------+----------------------+\n",
      "|summary|final_score_unweighted|\n",
      "+-------+----------------------+\n",
      "|count  |80548                 |\n",
      "|mean   |13.131449570442468    |\n",
      "|stddev |14.834671089990382    |\n",
      "|min    |0                     |\n",
      "|max    |60                    |\n",
      "+-------+----------------------+\n",
      "\n",
      "+-------+---------------------------------+\n",
      "|summary|number_of_distinct_instance_items|\n",
      "+-------+---------------------------------+\n",
      "|count  |80548                            |\n",
      "|mean   |17.712742712419924               |\n",
      "|stddev |13.900641092150789               |\n",
      "|min    |1                                |\n",
      "|max    |60                               |\n",
      "+-------+---------------------------------+\n",
      "\n",
      "+-------+------------------+\n",
      "|summary|number_of_learners|\n",
      "+-------+------------------+\n",
      "|count  |80548             |\n",
      "|mean   |27.803744351194318|\n",
      "|stddev |8.831219354231424 |\n",
      "|min    |1                 |\n",
      "|max    |47                |\n",
      "+-------+------------------+\n",
      "\n",
      "+-------+--------------------------+\n",
      "|summary|points_possible_unweighted|\n",
      "+-------+--------------------------+\n",
      "|count  |80548                     |\n",
      "|mean   |21.6214140636639          |\n",
      "|stddev |16.763088563844388        |\n",
      "|min    |1.0                       |\n",
      "|max    |73.0                      |\n",
      "+-------+--------------------------+\n",
      "\n"
     ]
    }
   ],
   "source": [
    "def num_cont_vars():\n",
    "  # Numerical / Continuous Variables\n",
    "  desc = dfFlt.describe()\n",
    "  for f in shared.continousVars:\n",
    "    desc.select(\"summary\", f).show(5,False)\n",
    "\n",
    "num_cont_vars()"
   ]
  },
  {
   "cell_type": "code",
   "execution_count": 125,
   "metadata": {},
   "outputs": [
    {
     "name": "stdout",
     "output_type": "stream",
     "text": [
      "assignment_attempt_number\n",
      "assignment_max_attempts\n",
      "final_score_unweighted\n",
      "number_of_distinct_instance_items\n",
      "number_of_learners\n",
      "points_possible_unweighted\n"
     ]
    },
    {
     "data": {
      "text/plain": "<Figure size 432x288 with 1 Axes>",
      "image/png": "[encoded data removed]"
     },
     "metadata": {
      "needs_background": "light"
     },
     "output_type": "display_data"
    },
    {
     "data": {
      "text/plain": "<Figure size 432x288 with 1 Axes>",
      "image/png": "[encoded data removed]"
     },
     "metadata": {
      "needs_background": "light"
     },
     "output_type": "display_data"
    },
    {
     "data": {
      "text/plain": "<Figure size 432x288 with 1 Axes>",
      "image/png": "[encoded data removed]"
     },
     "metadata": {
      "needs_background": "light"
     },
     "output_type": "display_data"
    },
    {
     "data": {
      "text/plain": "<Figure size 432x288 with 1 Axes>",
      "image/png": "[encoded data removed]"
     },
     "metadata": {
      "needs_background": "light"
     },
     "output_type": "display_data"
    },
    {
     "data": {
      "text/plain": "<Figure size 432x288 with 1 Axes>",
      "image/png": "[encoded data removed]"
     },
     "metadata": {
      "needs_background": "light"
     },
     "output_type": "display_data"
    },
    {
     "data": {
      "text/plain": "<Figure size 432x288 with 1 Axes>",
      "image/png": "[encoded data removed]"
     },
     "metadata": {
      "needs_background": "light"
     },
     "output_type": "display_data"
    }
   ],
   "source": [
    "for f in shared.continousVars:\n",
    "  print(f)\n",
    "  dfFlt.select(f).toPandas().hist()"
   ]
  },
  {
   "cell_type": "markdown",
   "metadata": {},
   "source": [
    "Normal Distribution\n",
    "- number_of_learners\n",
    "- possible outliers greaterthan 40\n",
    "- investigate further\n",
    "\n",
    "Right Skewed\n",
    "- final_score_unweighted\n",
    "- number_of_distinct_instance_items\n",
    "- points_possible_unweighted\n",
    "\n",
    "Binary Values (0/1)\n",
    "- assignment_max_attempts\n",
    "- assignment_attempt_number\n",
    "- Appears binary but the variable name indicates it could have any values. The data only contains 1 and 0\n",
    "- Investigate further"
   ]
  },
  {
   "cell_type": "code",
   "execution_count": 126,
   "metadata": {},
   "outputs": [],
   "source": [
    "add_todo(\"Investigate number_of_learners > 40 outliers\")\n",
    "add_todo(\"Investigate binary variables assignment_attempt_number and assignment_max_attempts\")"
   ]
  },
  {
   "cell_type": "code",
   "execution_count": 127,
   "metadata": {},
   "outputs": [
    {
     "data": {
      "text/plain": "<Figure size 432x288 with 2 Axes>",
      "image/png": "[encoded data removed]"
     },
     "metadata": {
      "needs_background": "light"
     },
     "output_type": "display_data"
    }
   ],
   "source": [
    "corr, ax = associations( dfFlt.select(*shared.continousVars).toPandas(), nan_replace_value='null' )"
   ]
  },
  {
   "cell_type": "markdown",
   "metadata": {},
   "source": [
    "- assignment_attempt_number and assignment_max_attempts highly correlated"
   ]
  },
  {
   "cell_type": "code",
   "execution_count": 128,
   "metadata": {},
   "outputs": [
    {
     "data": {
      "text/plain": "assignment_max_attempts       0      1  Total\nassignment_attempt_number                    \n0                          1566      0   1566\n1                             0  78982  78982\nTotal                      1566  78982  80548",
      "text/html": "<div>\n<style scoped>\n    .dataframe tbody tr th:only-of-type {\n        vertical-align: middle;\n    }\n\n    .dataframe tbody tr th {\n        vertical-align: top;\n    }\n\n    .dataframe thead th {\n        text-align: right;\n    }\n</style>\n<table border=\"1\" class=\"dataframe\">\n  <thead>\n    <tr style=\"text-align: right;\">\n      <th>assignment_max_attempts</th>\n      <th>0</th>\n      <th>1</th>\n      <th>Total</th>\n    </tr>\n    <tr>\n      <th>assignment_attempt_number</th>\n      <th></th>\n      <th></th>\n      <th></th>\n    </tr>\n  </thead>\n  <tbody>\n    <tr>\n      <th>0</th>\n      <td>1566</td>\n      <td>0</td>\n      <td>1566</td>\n    </tr>\n    <tr>\n      <th>1</th>\n      <td>0</td>\n      <td>78982</td>\n      <td>78982</td>\n    </tr>\n    <tr>\n      <th>Total</th>\n      <td>1566</td>\n      <td>78982</td>\n      <td>80548</td>\n    </tr>\n  </tbody>\n</table>\n</div>"
     },
     "execution_count": 128,
     "metadata": {},
     "output_type": "execute_result"
    }
   ],
   "source": [
    "def attempt_to_max():\n",
    "  dfPd = dfFlt.select('assignment_attempt_number', 'assignment_max_attempts').toPandas()\n",
    "  return pd.crosstab(dfPd.assignment_attempt_number.fillna('null'), dfPd.assignment_max_attempts.fillna('null'), margins=True, margins_name=\"Total\")\n",
    "  \n",
    "attempt_to_max()"
   ]
  },
  {
   "cell_type": "markdown",
   "metadata": {},
   "source": [
    "- assignment_max_attempts 1 is always assignment_attempt_number = 1"
   ]
  },
  {
   "cell_type": "code",
   "execution_count": 129,
   "metadata": {},
   "outputs": [
    {
     "name": "stdout",
     "output_type": "stream",
     "text": [
      "assignment_attempt_number\n",
      "+----+----+\n",
      "|null|zero|\n",
      "+----+----+\n",
      "|   0|1566|\n",
      "+----+----+\n",
      "\n",
      "assignment_max_attempts\n",
      "+----+----+\n",
      "|null|zero|\n",
      "+----+----+\n",
      "|   0|1566|\n",
      "+----+----+\n",
      "\n",
      "final_score_unweighted\n",
      "+----+-----+\n",
      "|null| zero|\n",
      "+----+-----+\n",
      "|   0|16582|\n",
      "+----+-----+\n",
      "\n",
      "number_of_distinct_instance_items\n",
      "+----+----+\n",
      "|null|zero|\n",
      "+----+----+\n",
      "|   0|   0|\n",
      "+----+----+\n",
      "\n",
      "number_of_learners\n",
      "+----+----+\n",
      "|null|zero|\n",
      "+----+----+\n",
      "|   0|   0|\n",
      "+----+----+\n",
      "\n",
      "points_possible_unweighted\n",
      "+----+----+\n",
      "|null|zero|\n",
      "+----+----+\n",
      "|   0|   0|\n",
      "+----+----+\n",
      "\n"
     ]
    }
   ],
   "source": [
    "for c in shared.continousVars:\n",
    "  print(c)\n",
    "  dfFlt.agg(\n",
    "    F.count(F.when(F.col(c).isNull(), c)).alias('null'),\n",
    "    F.count(F.when(F.col(c) == 0, c)).alias(\"zero\")\n",
    "  ).show()"
   ]
  },
  {
   "cell_type": "markdown",
   "metadata": {},
   "source": [
    "- possibile correlation between assignment_attempt_number and assignment_max_attempts\n",
    "  - both have 1566 zero values\n",
    "  - Needs further investigation\n",
    "- final_score_unweighted has 16,582 zero values\n",
    "  - possibly because not yet scored\n",
    "  - needs further investigation"
   ]
  },
  {
   "cell_type": "code",
   "execution_count": 130,
   "metadata": {},
   "outputs": [],
   "source": [
    "add_todo('Investigate assignment_attempt_number and assignment_max_attempts both have 1566 values')\n",
    "add_todo('Investigate final_score_unweighted has 16,582 zero values')"
   ]
  },
  {
   "cell_type": "code",
   "execution_count": 131,
   "metadata": {},
   "outputs": [
    {
     "name": "stdout",
     "output_type": "stream",
     "text": [
      "assignment_due_date\n",
      "+------+----+-------------------+-------------------+\n",
      "|unique|null|min                |max                |\n",
      "+------+----+-------------------+-------------------+\n",
      "|190   |1566|2019-08-23 04:59:00|2020-05-26 04:59:00|\n",
      "+------+----+-------------------+-------------------+\n",
      "\n",
      "assignment_final_submission_date\n",
      "+------+----+-------------------+-------------------+\n",
      "|unique|null|min                |max                |\n",
      "+------+----+-------------------+-------------------+\n",
      "|199   |1566|2019-08-23 04:59:00|2020-06-05 04:59:00|\n",
      "+------+----+-------------------+-------------------+\n",
      "\n",
      "assignment_start_date\n",
      "+------+----+-------------------+-------------------+\n",
      "|unique|null|min                |max                |\n",
      "+------+----+-------------------+-------------------+\n",
      "|206   |1566|2019-08-21 05:00:00|2020-05-19 05:00:00|\n",
      "+------+----+-------------------+-------------------+\n",
      "\n",
      "max_student_stop_datetime\n",
      "+------+----+--------------------------+--------------------------+\n",
      "|unique|null|min                       |max                       |\n",
      "+------+----+--------------------------+--------------------------+\n",
      "|521   |0   |2019-08-22 04:06:27.518000|2020-05-26 04:59:17.367000|\n",
      "+------+----+--------------------------+--------------------------+\n",
      "\n",
      "min_student_start_datetime\n",
      "+------+----+--------------------------+--------------------------+\n",
      "|unique|null|min                       |max                       |\n",
      "+------+----+--------------------------+--------------------------+\n",
      "|613   |0   |2019-08-21 23:33:10.917000|2020-05-20 06:15:00.043000|\n",
      "+------+----+--------------------------+--------------------------+\n",
      "\n",
      "scored_datetime\n",
      "+------+----+----------------------+----------------------+\n",
      "|unique|null|min                   |max                   |\n",
      "+------+----+----------------------+----------------------+\n",
      "|7188  |0   |2019-08-22 02:37:58+00|2999-01-01 00:00:00+00|\n",
      "+------+----+----------------------+----------------------+\n",
      "\n",
      "student_start_datetime\n",
      "+------+----+--------------------------+--------------------------+\n",
      "|unique|null|min                       |max                       |\n",
      "+------+----+--------------------------+--------------------------+\n",
      "|7385  |749 |2019-08-22 01:57:32.893000|2020-05-26 04:59:17.367000|\n",
      "+------+----+--------------------------+--------------------------+\n",
      "\n",
      "student_stop_datetime\n",
      "+------+----+--------------------------+--------------------------+\n",
      "|unique|null|min                       |max                       |\n",
      "+------+----+--------------------------+--------------------------+\n",
      "|7127  |749 |2019-08-22 02:37:59.012000|2020-05-26 04:59:17.367000|\n",
      "+------+----+--------------------------+--------------------------+\n",
      "\n",
      "was_fully_scored_datetime\n",
      "+------+----+--------------------------+--------------------------+\n",
      "|unique|null|min                       |max                       |\n",
      "+------+----+--------------------------+--------------------------+\n",
      "|8587  |750 |2019-08-22 02:37:59.012000|2020-05-26 04:59:53.903000|\n",
      "+------+----+--------------------------+--------------------------+\n",
      "\n",
      "was_in_progress_datetime\n",
      "+------+----+--------------------------+--------------------------+\n",
      "|unique|null|min                       |max                       |\n",
      "+------+----+--------------------------+--------------------------+\n",
      "|7319  |9965|2019-08-22 01:57:32.893000|2020-05-26 03:30:53.599000|\n",
      "+------+----+--------------------------+--------------------------+\n",
      "\n",
      "was_submitted_datetime_actual\n",
      "+------+-----+--------------------------+--------------------------+\n",
      "|unique|null |min                       |max                       |\n",
      "+------+-----+--------------------------+--------------------------+\n",
      "|6545  |18469|2019-08-22 13:09:24.898000|2020-05-26 04:00:13.372000|\n",
      "+------+-----+--------------------------+--------------------------+\n",
      "\n"
     ]
    }
   ],
   "source": [
    "for f in shared.intervalVars:\n",
    "  print (f)\n",
    "  dfFlt.agg(\n",
    "    F.countDistinct(f).alias('unique'), \n",
    "    F.count(F.when(F.col(f).isNull(), f)).alias('null'),\n",
    "    F.min(f).alias('min'),\n",
    "    F.max(f).alias('max')\n",
    " ).show(1, False)"
   ]
  },
  {
   "cell_type": "markdown",
   "metadata": {},
   "source": [
    "Default Date Values\n",
    "- All variables have some dates have default values '2999-01-01 00:00:00' as max and '1900-01-01 00:00:00' as min\n",
    "- Almost all interval variables\n",
    "  - except max_student_stop_datetime and max_student_stop_datetime\n",
    "- These are substitutes for no value and will need to be replaced nulls\n",
    "- Further investigation is needed as what the nulls mean"
   ]
  },
  {
   "cell_type": "code",
   "execution_count": 132,
   "metadata": {},
   "outputs": [],
   "source": [
    "add_todo('Replace default dates with nulls')\n",
    "add_todo('Investigate why some dates are null')"
   ]
  },
  {
   "cell_type": "code",
   "execution_count": 133,
   "metadata": {},
   "outputs": [
    {
     "ename": "Py4JJavaError",
     "evalue": "An error occurred while calling o15226.collectToPython.\n: org.apache.spark.SparkException: Job aborted due to stage failure: Task 2 in stage 512.0 failed 1 times, most recent failure: Lost task 2.0 in stage 512.0 (TID 28066, duanes-macbook.lan, executor driver): org.apache.spark.SparkUpgradeException: You may get a different result due to the upgrading of Spark 3.0: Fail to parse '2019-11-22 12:54:16.795000' in the new parser. You can set spark.sql.legacy.timeParserPolicy to LEGACY to restore the behavior before Spark 3.0, or set to CORRECTED and treat it as an invalid datetime string.\n\tat org.apache.spark.sql.catalyst.util.DateTimeFormatterHelper$$anonfun$checkParsedDiff$1.applyOrElse(DateTimeFormatterHelper.scala:150)\n\tat org.apache.spark.sql.catalyst.util.DateTimeFormatterHelper$$anonfun$checkParsedDiff$1.applyOrElse(DateTimeFormatterHelper.scala:141)\n\tat scala.runtime.AbstractPartialFunction.apply(AbstractPartialFunction.scala:38)\n\tat org.apache.spark.sql.catalyst.util.Iso8601TimestampFormatter.$anonfun$parse$1(TimestampFormatter.scala:86)\n\tat scala.runtime.java8.JFunction0$mcJ$sp.apply(JFunction0$mcJ$sp.java:23)\n\tat scala.Option.getOrElse(Option.scala:189)\n\tat org.apache.spark.sql.catalyst.util.Iso8601TimestampFormatter.parse(TimestampFormatter.scala:77)\n\tat org.apache.spark.sql.catalyst.expressions.GeneratedClass$GeneratedIteratorForCodegenStage1.processNext(Unknown Source)\n\tat org.apache.spark.sql.execution.BufferedRowIterator.hasNext(BufferedRowIterator.java:43)\n\tat org.apache.spark.sql.execution.WholeStageCodegenExec$$anon$1.hasNext(WholeStageCodegenExec.scala:729)\n\tat org.apache.spark.sql.execution.SparkPlan.$anonfun$getByteArrayRdd$1(SparkPlan.scala:340)\n\tat org.apache.spark.rdd.RDD.$anonfun$mapPartitionsInternal$2(RDD.scala:872)\n\tat org.apache.spark.rdd.RDD.$anonfun$mapPartitionsInternal$2$adapted(RDD.scala:872)\n\tat org.apache.spark.rdd.MapPartitionsRDD.compute(MapPartitionsRDD.scala:52)\n\tat org.apache.spark.rdd.RDD.computeOrReadCheckpoint(RDD.scala:349)\n\tat org.apache.spark.rdd.RDD.iterator(RDD.scala:313)\n\tat org.apache.spark.scheduler.ResultTask.runTask(ResultTask.scala:90)\n\tat org.apache.spark.scheduler.Task.run(Task.scala:127)\n\tat org.apache.spark.executor.Executor$TaskRunner.$anonfun$run$3(Executor.scala:446)\n\tat org.apache.spark.util.Utils$.tryWithSafeFinally(Utils.scala:1377)\n\tat org.apache.spark.executor.Executor$TaskRunner.run(Executor.scala:449)\n\tat java.base/java.util.concurrent.ThreadPoolExecutor.runWorker(ThreadPoolExecutor.java:1135)\n\tat java.base/java.util.concurrent.ThreadPoolExecutor$Worker.run(ThreadPoolExecutor.java:635)\n\tat java.base/java.lang.Thread.run(Thread.java:844)\nCaused by: java.time.format.DateTimeParseException: Text '2019-11-22 12:54:16.795000' could not be parsed, unparsed text found at index 19\n\tat java.base/java.time.format.DateTimeFormatter.parseResolved0(DateTimeFormatter.java:2049)\n\tat java.base/java.time.format.DateTimeFormatter.parse(DateTimeFormatter.java:1874)\n\tat org.apache.spark.sql.catalyst.util.Iso8601TimestampFormatter.$anonfun$parse$1(TimestampFormatter.scala:78)\n\t... 20 more\n\nDriver stacktrace:\n\tat org.apache.spark.scheduler.DAGScheduler.failJobAndIndependentStages(DAGScheduler.scala:2059)\n\tat org.apache.spark.scheduler.DAGScheduler.$anonfun$abortStage$2(DAGScheduler.scala:2008)\n\tat org.apache.spark.scheduler.DAGScheduler.$anonfun$abortStage$2$adapted(DAGScheduler.scala:2007)\n\tat scala.collection.mutable.ResizableArray.foreach(ResizableArray.scala:62)\n\tat scala.collection.mutable.ResizableArray.foreach$(ResizableArray.scala:55)\n\tat scala.collection.mutable.ArrayBuffer.foreach(ArrayBuffer.scala:49)\n\tat org.apache.spark.scheduler.DAGScheduler.abortStage(DAGScheduler.scala:2007)\n\tat org.apache.spark.scheduler.DAGScheduler.$anonfun$handleTaskSetFailed$1(DAGScheduler.scala:973)\n\tat org.apache.spark.scheduler.DAGScheduler.$anonfun$handleTaskSetFailed$1$adapted(DAGScheduler.scala:973)\n\tat scala.Option.foreach(Option.scala:407)\n\tat org.apache.spark.scheduler.DAGScheduler.handleTaskSetFailed(DAGScheduler.scala:973)\n\tat org.apache.spark.scheduler.DAGSchedulerEventProcessLoop.doOnReceive(DAGScheduler.scala:2239)\n\tat org.apache.spark.scheduler.DAGSchedulerEventProcessLoop.onReceive(DAGScheduler.scala:2188)\n\tat org.apache.spark.scheduler.DAGSchedulerEventProcessLoop.onReceive(DAGScheduler.scala:2177)\n\tat org.apache.spark.util.EventLoop$$anon$1.run(EventLoop.scala:49)\n\tat org.apache.spark.scheduler.DAGScheduler.runJob(DAGScheduler.scala:775)\n\tat org.apache.spark.SparkContext.runJob(SparkContext.scala:2099)\n\tat org.apache.spark.SparkContext.runJob(SparkContext.scala:2120)\n\tat org.apache.spark.SparkContext.runJob(SparkContext.scala:2139)\n\tat org.apache.spark.SparkContext.runJob(SparkContext.scala:2164)\n\tat org.apache.spark.rdd.RDD.$anonfun$collect$1(RDD.scala:1004)\n\tat org.apache.spark.rdd.RDDOperationScope$.withScope(RDDOperationScope.scala:151)\n\tat org.apache.spark.rdd.RDDOperationScope$.withScope(RDDOperationScope.scala:112)\n\tat org.apache.spark.rdd.RDD.withScope(RDD.scala:388)\n\tat org.apache.spark.rdd.RDD.collect(RDD.scala:1003)\n\tat org.apache.spark.sql.execution.SparkPlan.executeCollect(SparkPlan.scala:385)\n\tat org.apache.spark.sql.Dataset.$anonfun$collectToPython$1(Dataset.scala:3450)\n\tat org.apache.spark.sql.Dataset.$anonfun$withAction$1(Dataset.scala:3618)\n\tat org.apache.spark.sql.execution.SQLExecution$.$anonfun$withNewExecutionId$5(SQLExecution.scala:100)\n\tat org.apache.spark.sql.execution.SQLExecution$.withSQLConfPropagated(SQLExecution.scala:160)\n\tat org.apache.spark.sql.execution.SQLExecution$.$anonfun$withNewExecutionId$1(SQLExecution.scala:87)\n\tat org.apache.spark.sql.SparkSession.withActive(SparkSession.scala:764)\n\tat org.apache.spark.sql.execution.SQLExecution$.withNewExecutionId(SQLExecution.scala:64)\n\tat org.apache.spark.sql.Dataset.withAction(Dataset.scala:3616)\n\tat org.apache.spark.sql.Dataset.collectToPython(Dataset.scala:3447)\n\tat jdk.internal.reflect.GeneratedMethodAccessor76.invoke(Unknown Source)\n\tat java.base/jdk.internal.reflect.DelegatingMethodAccessorImpl.invoke(DelegatingMethodAccessorImpl.java:43)\n\tat java.base/java.lang.reflect.Method.invoke(Method.java:564)\n\tat py4j.reflection.MethodInvoker.invoke(MethodInvoker.java:244)\n\tat py4j.reflection.ReflectionEngine.invoke(ReflectionEngine.java:357)\n\tat py4j.Gateway.invoke(Gateway.java:282)\n\tat py4j.commands.AbstractCommand.invokeMethod(AbstractCommand.java:132)\n\tat py4j.commands.CallCommand.execute(CallCommand.java:79)\n\tat py4j.GatewayConnection.run(GatewayConnection.java:238)\n\tat java.base/java.lang.Thread.run(Thread.java:844)\nCaused by: org.apache.spark.SparkUpgradeException: You may get a different result due to the upgrading of Spark 3.0: Fail to parse '2019-11-22 12:54:16.795000' in the new parser. You can set spark.sql.legacy.timeParserPolicy to LEGACY to restore the behavior before Spark 3.0, or set to CORRECTED and treat it as an invalid datetime string.\n\tat org.apache.spark.sql.catalyst.util.DateTimeFormatterHelper$$anonfun$checkParsedDiff$1.applyOrElse(DateTimeFormatterHelper.scala:150)\n\tat org.apache.spark.sql.catalyst.util.DateTimeFormatterHelper$$anonfun$checkParsedDiff$1.applyOrElse(DateTimeFormatterHelper.scala:141)\n\tat scala.runtime.AbstractPartialFunction.apply(AbstractPartialFunction.scala:38)\n\tat org.apache.spark.sql.catalyst.util.Iso8601TimestampFormatter.$anonfun$parse$1(TimestampFormatter.scala:86)\n\tat scala.runtime.java8.JFunction0$mcJ$sp.apply(JFunction0$mcJ$sp.java:23)\n\tat scala.Option.getOrElse(Option.scala:189)\n\tat org.apache.spark.sql.catalyst.util.Iso8601TimestampFormatter.parse(TimestampFormatter.scala:77)\n\tat org.apache.spark.sql.catalyst.expressions.GeneratedClass$GeneratedIteratorForCodegenStage1.processNext(Unknown Source)\n\tat org.apache.spark.sql.execution.BufferedRowIterator.hasNext(BufferedRowIterator.java:43)\n\tat org.apache.spark.sql.execution.WholeStageCodegenExec$$anon$1.hasNext(WholeStageCodegenExec.scala:729)\n\tat org.apache.spark.sql.execution.SparkPlan.$anonfun$getByteArrayRdd$1(SparkPlan.scala:340)\n\tat org.apache.spark.rdd.RDD.$anonfun$mapPartitionsInternal$2(RDD.scala:872)\n\tat org.apache.spark.rdd.RDD.$anonfun$mapPartitionsInternal$2$adapted(RDD.scala:872)\n\tat org.apache.spark.rdd.MapPartitionsRDD.compute(MapPartitionsRDD.scala:52)\n\tat org.apache.spark.rdd.RDD.computeOrReadCheckpoint(RDD.scala:349)\n\tat org.apache.spark.rdd.RDD.iterator(RDD.scala:313)\n\tat org.apache.spark.scheduler.ResultTask.runTask(ResultTask.scala:90)\n\tat org.apache.spark.scheduler.Task.run(Task.scala:127)\n\tat org.apache.spark.executor.Executor$TaskRunner.$anonfun$run$3(Executor.scala:446)\n\tat org.apache.spark.util.Utils$.tryWithSafeFinally(Utils.scala:1377)\n\tat org.apache.spark.executor.Executor$TaskRunner.run(Executor.scala:449)\n\tat java.base/java.util.concurrent.ThreadPoolExecutor.runWorker(ThreadPoolExecutor.java:1135)\n\tat java.base/java.util.concurrent.ThreadPoolExecutor$Worker.run(ThreadPoolExecutor.java:635)\n\t... 1 more\nCaused by: java.time.format.DateTimeParseException: Text '2019-11-22 12:54:16.795000' could not be parsed, unparsed text found at index 19\n\tat java.base/java.time.format.DateTimeFormatter.parseResolved0(DateTimeFormatter.java:2049)\n\tat java.base/java.time.format.DateTimeFormatter.parse(DateTimeFormatter.java:1874)\n\tat org.apache.spark.sql.catalyst.util.Iso8601TimestampFormatter.$anonfun$parse$1(TimestampFormatter.scala:78)\n\t... 20 more\n",
     "output_type": "error",
     "traceback": [
      "\u001B[0;31m---------------------------------------------------------------------------\u001B[0m",
      "\u001B[0;31mPy4JJavaError\u001B[0m                             Traceback (most recent call last)",
      "\u001B[0;32m<ipython-input-133-73efa3f5716b>\u001B[0m in \u001B[0;36m<module>\u001B[0;34m\u001B[0m\n\u001B[0;32m----> 1\u001B[0;31m \u001B[0mcorr\u001B[0m\u001B[0;34m,\u001B[0m \u001B[0max\u001B[0m \u001B[0;34m=\u001B[0m \u001B[0massociations\u001B[0m\u001B[0;34m(\u001B[0m \u001B[0mdfFlt\u001B[0m\u001B[0;34m.\u001B[0m\u001B[0mselect\u001B[0m\u001B[0;34m(\u001B[0m\u001B[0;34m*\u001B[0m \u001B[0;34m(\u001B[0m\u001B[0mF\u001B[0m\u001B[0;34m.\u001B[0m\u001B[0munix_timestamp\u001B[0m\u001B[0;34m(\u001B[0m\u001B[0mc\u001B[0m\u001B[0;34m)\u001B[0m\u001B[0;34m.\u001B[0m\u001B[0malias\u001B[0m\u001B[0;34m(\u001B[0m\u001B[0mc\u001B[0m\u001B[0;34m)\u001B[0m \u001B[0;32mfor\u001B[0m \u001B[0mc\u001B[0m \u001B[0;32min\u001B[0m \u001B[0mshared\u001B[0m\u001B[0;34m.\u001B[0m\u001B[0mintervalVars\u001B[0m\u001B[0;34m)\u001B[0m \u001B[0;34m)\u001B[0m\u001B[0;34m.\u001B[0m\u001B[0mtoPandas\u001B[0m\u001B[0;34m(\u001B[0m\u001B[0;34m)\u001B[0m\u001B[0;34m,\u001B[0m \u001B[0mfigsize\u001B[0m\u001B[0;34m=\u001B[0m\u001B[0;34m[\u001B[0m\u001B[0;36m10\u001B[0m\u001B[0;34m,\u001B[0m\u001B[0;36m10\u001B[0m\u001B[0;34m]\u001B[0m \u001B[0;34m)\u001B[0m\u001B[0;34m\u001B[0m\u001B[0m\n\u001B[0m\u001B[1;32m      2\u001B[0m \u001B[0;34m\u001B[0m\u001B[0m\n",
      "\u001B[0;32m/Library/Frameworks/Python.framework/Versions/3.6/lib/python3.6/site-packages/pyspark/sql/pandas/conversion.py\u001B[0m in \u001B[0;36mtoPandas\u001B[0;34m(self)\u001B[0m\n\u001B[1;32m    136\u001B[0m \u001B[0;34m\u001B[0m\u001B[0m\n\u001B[1;32m    137\u001B[0m         \u001B[0;31m# Below is toPandas without Arrow optimization.\u001B[0m\u001B[0;34m\u001B[0m\u001B[0;34m\u001B[0m\u001B[0m\n\u001B[0;32m--> 138\u001B[0;31m         \u001B[0mpdf\u001B[0m \u001B[0;34m=\u001B[0m \u001B[0mpd\u001B[0m\u001B[0;34m.\u001B[0m\u001B[0mDataFrame\u001B[0m\u001B[0;34m.\u001B[0m\u001B[0mfrom_records\u001B[0m\u001B[0;34m(\u001B[0m\u001B[0mself\u001B[0m\u001B[0;34m.\u001B[0m\u001B[0mcollect\u001B[0m\u001B[0;34m(\u001B[0m\u001B[0;34m)\u001B[0m\u001B[0;34m,\u001B[0m \u001B[0mcolumns\u001B[0m\u001B[0;34m=\u001B[0m\u001B[0mself\u001B[0m\u001B[0;34m.\u001B[0m\u001B[0mcolumns\u001B[0m\u001B[0;34m)\u001B[0m\u001B[0;34m\u001B[0m\u001B[0m\n\u001B[0m\u001B[1;32m    139\u001B[0m         \u001B[0mcolumn_counter\u001B[0m \u001B[0;34m=\u001B[0m \u001B[0mCounter\u001B[0m\u001B[0;34m(\u001B[0m\u001B[0mself\u001B[0m\u001B[0;34m.\u001B[0m\u001B[0mcolumns\u001B[0m\u001B[0;34m)\u001B[0m\u001B[0;34m\u001B[0m\u001B[0m\n\u001B[1;32m    140\u001B[0m \u001B[0;34m\u001B[0m\u001B[0m\n",
      "\u001B[0;32m/Library/Frameworks/Python.framework/Versions/3.6/lib/python3.6/site-packages/pyspark/sql/dataframe.py\u001B[0m in \u001B[0;36mcollect\u001B[0;34m(self)\u001B[0m\n\u001B[1;32m    594\u001B[0m         \"\"\"\n\u001B[1;32m    595\u001B[0m         \u001B[0;32mwith\u001B[0m \u001B[0mSCCallSiteSync\u001B[0m\u001B[0;34m(\u001B[0m\u001B[0mself\u001B[0m\u001B[0;34m.\u001B[0m\u001B[0m_sc\u001B[0m\u001B[0;34m)\u001B[0m \u001B[0;32mas\u001B[0m \u001B[0mcss\u001B[0m\u001B[0;34m:\u001B[0m\u001B[0;34m\u001B[0m\u001B[0m\n\u001B[0;32m--> 596\u001B[0;31m             \u001B[0msock_info\u001B[0m \u001B[0;34m=\u001B[0m \u001B[0mself\u001B[0m\u001B[0;34m.\u001B[0m\u001B[0m_jdf\u001B[0m\u001B[0;34m.\u001B[0m\u001B[0mcollectToPython\u001B[0m\u001B[0;34m(\u001B[0m\u001B[0;34m)\u001B[0m\u001B[0;34m\u001B[0m\u001B[0m\n\u001B[0m\u001B[1;32m    597\u001B[0m         \u001B[0;32mreturn\u001B[0m \u001B[0mlist\u001B[0m\u001B[0;34m(\u001B[0m\u001B[0m_load_from_socket\u001B[0m\u001B[0;34m(\u001B[0m\u001B[0msock_info\u001B[0m\u001B[0;34m,\u001B[0m \u001B[0mBatchedSerializer\u001B[0m\u001B[0;34m(\u001B[0m\u001B[0mPickleSerializer\u001B[0m\u001B[0;34m(\u001B[0m\u001B[0;34m)\u001B[0m\u001B[0;34m)\u001B[0m\u001B[0;34m)\u001B[0m\u001B[0;34m)\u001B[0m\u001B[0;34m\u001B[0m\u001B[0m\n\u001B[1;32m    598\u001B[0m \u001B[0;34m\u001B[0m\u001B[0m\n",
      "\u001B[0;32m/Library/Frameworks/Python.framework/Versions/3.6/lib/python3.6/site-packages/py4j/java_gateway.py\u001B[0m in \u001B[0;36m__call__\u001B[0;34m(self, *args)\u001B[0m\n\u001B[1;32m   1303\u001B[0m         \u001B[0manswer\u001B[0m \u001B[0;34m=\u001B[0m \u001B[0mself\u001B[0m\u001B[0;34m.\u001B[0m\u001B[0mgateway_client\u001B[0m\u001B[0;34m.\u001B[0m\u001B[0msend_command\u001B[0m\u001B[0;34m(\u001B[0m\u001B[0mcommand\u001B[0m\u001B[0;34m)\u001B[0m\u001B[0;34m\u001B[0m\u001B[0m\n\u001B[1;32m   1304\u001B[0m         return_value = get_return_value(\n\u001B[0;32m-> 1305\u001B[0;31m             answer, self.gateway_client, self.target_id, self.name)\n\u001B[0m\u001B[1;32m   1306\u001B[0m \u001B[0;34m\u001B[0m\u001B[0m\n\u001B[1;32m   1307\u001B[0m         \u001B[0;32mfor\u001B[0m \u001B[0mtemp_arg\u001B[0m \u001B[0;32min\u001B[0m \u001B[0mtemp_args\u001B[0m\u001B[0;34m:\u001B[0m\u001B[0;34m\u001B[0m\u001B[0m\n",
      "\u001B[0;32m/Library/Frameworks/Python.framework/Versions/3.6/lib/python3.6/site-packages/pyspark/sql/utils.py\u001B[0m in \u001B[0;36mdeco\u001B[0;34m(*a, **kw)\u001B[0m\n\u001B[1;32m    126\u001B[0m     \u001B[0;32mdef\u001B[0m \u001B[0mdeco\u001B[0m\u001B[0;34m(\u001B[0m\u001B[0;34m*\u001B[0m\u001B[0ma\u001B[0m\u001B[0;34m,\u001B[0m \u001B[0;34m**\u001B[0m\u001B[0mkw\u001B[0m\u001B[0;34m)\u001B[0m\u001B[0;34m:\u001B[0m\u001B[0;34m\u001B[0m\u001B[0m\n\u001B[1;32m    127\u001B[0m         \u001B[0;32mtry\u001B[0m\u001B[0;34m:\u001B[0m\u001B[0;34m\u001B[0m\u001B[0m\n\u001B[0;32m--> 128\u001B[0;31m             \u001B[0;32mreturn\u001B[0m \u001B[0mf\u001B[0m\u001B[0;34m(\u001B[0m\u001B[0;34m*\u001B[0m\u001B[0ma\u001B[0m\u001B[0;34m,\u001B[0m \u001B[0;34m**\u001B[0m\u001B[0mkw\u001B[0m\u001B[0;34m)\u001B[0m\u001B[0;34m\u001B[0m\u001B[0m\n\u001B[0m\u001B[1;32m    129\u001B[0m         \u001B[0;32mexcept\u001B[0m \u001B[0mpy4j\u001B[0m\u001B[0;34m.\u001B[0m\u001B[0mprotocol\u001B[0m\u001B[0;34m.\u001B[0m\u001B[0mPy4JJavaError\u001B[0m \u001B[0;32mas\u001B[0m \u001B[0me\u001B[0m\u001B[0;34m:\u001B[0m\u001B[0;34m\u001B[0m\u001B[0m\n\u001B[1;32m    130\u001B[0m             \u001B[0mconverted\u001B[0m \u001B[0;34m=\u001B[0m \u001B[0mconvert_exception\u001B[0m\u001B[0;34m(\u001B[0m\u001B[0me\u001B[0m\u001B[0;34m.\u001B[0m\u001B[0mjava_exception\u001B[0m\u001B[0;34m)\u001B[0m\u001B[0;34m\u001B[0m\u001B[0m\n",
      "\u001B[0;32m/Library/Frameworks/Python.framework/Versions/3.6/lib/python3.6/site-packages/py4j/protocol.py\u001B[0m in \u001B[0;36mget_return_value\u001B[0;34m(answer, gateway_client, target_id, name)\u001B[0m\n\u001B[1;32m    326\u001B[0m                 raise Py4JJavaError(\n\u001B[1;32m    327\u001B[0m                     \u001B[0;34m\"An error occurred while calling {0}{1}{2}.\\n\"\u001B[0m\u001B[0;34m.\u001B[0m\u001B[0;34m\u001B[0m\u001B[0m\n\u001B[0;32m--> 328\u001B[0;31m                     format(target_id, \".\", name), value)\n\u001B[0m\u001B[1;32m    329\u001B[0m             \u001B[0;32melse\u001B[0m\u001B[0;34m:\u001B[0m\u001B[0;34m\u001B[0m\u001B[0m\n\u001B[1;32m    330\u001B[0m                 raise Py4JError(\n",
      "\u001B[0;31mPy4JJavaError\u001B[0m: An error occurred while calling o15226.collectToPython.\n: org.apache.spark.SparkException: Job aborted due to stage failure: Task 2 in stage 512.0 failed 1 times, most recent failure: Lost task 2.0 in stage 512.0 (TID 28066, duanes-macbook.lan, executor driver): org.apache.spark.SparkUpgradeException: You may get a different result due to the upgrading of Spark 3.0: Fail to parse '2019-11-22 12:54:16.795000' in the new parser. You can set spark.sql.legacy.timeParserPolicy to LEGACY to restore the behavior before Spark 3.0, or set to CORRECTED and treat it as an invalid datetime string.\n\tat org.apache.spark.sql.catalyst.util.DateTimeFormatterHelper$$anonfun$checkParsedDiff$1.applyOrElse(DateTimeFormatterHelper.scala:150)\n\tat org.apache.spark.sql.catalyst.util.DateTimeFormatterHelper$$anonfun$checkParsedDiff$1.applyOrElse(DateTimeFormatterHelper.scala:141)\n\tat scala.runtime.AbstractPartialFunction.apply(AbstractPartialFunction.scala:38)\n\tat org.apache.spark.sql.catalyst.util.Iso8601TimestampFormatter.$anonfun$parse$1(TimestampFormatter.scala:86)\n\tat scala.runtime.java8.JFunction0$mcJ$sp.apply(JFunction0$mcJ$sp.java:23)\n\tat scala.Option.getOrElse(Option.scala:189)\n\tat org.apache.spark.sql.catalyst.util.Iso8601TimestampFormatter.parse(TimestampFormatter.scala:77)\n\tat org.apache.spark.sql.catalyst.expressions.GeneratedClass$GeneratedIteratorForCodegenStage1.processNext(Unknown Source)\n\tat org.apache.spark.sql.execution.BufferedRowIterator.hasNext(BufferedRowIterator.java:43)\n\tat org.apache.spark.sql.execution.WholeStageCodegenExec$$anon$1.hasNext(WholeStageCodegenExec.scala:729)\n\tat org.apache.spark.sql.execution.SparkPlan.$anonfun$getByteArrayRdd$1(SparkPlan.scala:340)\n\tat org.apache.spark.rdd.RDD.$anonfun$mapPartitionsInternal$2(RDD.scala:872)\n\tat org.apache.spark.rdd.RDD.$anonfun$mapPartitionsInternal$2$adapted(RDD.scala:872)\n\tat org.apache.spark.rdd.MapPartitionsRDD.compute(MapPartitionsRDD.scala:52)\n\tat org.apache.spark.rdd.RDD.computeOrReadCheckpoint(RDD.scala:349)\n\tat org.apache.spark.rdd.RDD.iterator(RDD.scala:313)\n\tat org.apache.spark.scheduler.ResultTask.runTask(ResultTask.scala:90)\n\tat org.apache.spark.scheduler.Task.run(Task.scala:127)\n\tat org.apache.spark.executor.Executor$TaskRunner.$anonfun$run$3(Executor.scala:446)\n\tat org.apache.spark.util.Utils$.tryWithSafeFinally(Utils.scala:1377)\n\tat org.apache.spark.executor.Executor$TaskRunner.run(Executor.scala:449)\n\tat java.base/java.util.concurrent.ThreadPoolExecutor.runWorker(ThreadPoolExecutor.java:1135)\n\tat java.base/java.util.concurrent.ThreadPoolExecutor$Worker.run(ThreadPoolExecutor.java:635)\n\tat java.base/java.lang.Thread.run(Thread.java:844)\nCaused by: java.time.format.DateTimeParseException: Text '2019-11-22 12:54:16.795000' could not be parsed, unparsed text found at index 19\n\tat java.base/java.time.format.DateTimeFormatter.parseResolved0(DateTimeFormatter.java:2049)\n\tat java.base/java.time.format.DateTimeFormatter.parse(DateTimeFormatter.java:1874)\n\tat org.apache.spark.sql.catalyst.util.Iso8601TimestampFormatter.$anonfun$parse$1(TimestampFormatter.scala:78)\n\t... 20 more\n\nDriver stacktrace:\n\tat org.apache.spark.scheduler.DAGScheduler.failJobAndIndependentStages(DAGScheduler.scala:2059)\n\tat org.apache.spark.scheduler.DAGScheduler.$anonfun$abortStage$2(DAGScheduler.scala:2008)\n\tat org.apache.spark.scheduler.DAGScheduler.$anonfun$abortStage$2$adapted(DAGScheduler.scala:2007)\n\tat scala.collection.mutable.ResizableArray.foreach(ResizableArray.scala:62)\n\tat scala.collection.mutable.ResizableArray.foreach$(ResizableArray.scala:55)\n\tat scala.collection.mutable.ArrayBuffer.foreach(ArrayBuffer.scala:49)\n\tat org.apache.spark.scheduler.DAGScheduler.abortStage(DAGScheduler.scala:2007)\n\tat org.apache.spark.scheduler.DAGScheduler.$anonfun$handleTaskSetFailed$1(DAGScheduler.scala:973)\n\tat org.apache.spark.scheduler.DAGScheduler.$anonfun$handleTaskSetFailed$1$adapted(DAGScheduler.scala:973)\n\tat scala.Option.foreach(Option.scala:407)\n\tat org.apache.spark.scheduler.DAGScheduler.handleTaskSetFailed(DAGScheduler.scala:973)\n\tat org.apache.spark.scheduler.DAGSchedulerEventProcessLoop.doOnReceive(DAGScheduler.scala:2239)\n\tat org.apache.spark.scheduler.DAGSchedulerEventProcessLoop.onReceive(DAGScheduler.scala:2188)\n\tat org.apache.spark.scheduler.DAGSchedulerEventProcessLoop.onReceive(DAGScheduler.scala:2177)\n\tat org.apache.spark.util.EventLoop$$anon$1.run(EventLoop.scala:49)\n\tat org.apache.spark.scheduler.DAGScheduler.runJob(DAGScheduler.scala:775)\n\tat org.apache.spark.SparkContext.runJob(SparkContext.scala:2099)\n\tat org.apache.spark.SparkContext.runJob(SparkContext.scala:2120)\n\tat org.apache.spark.SparkContext.runJob(SparkContext.scala:2139)\n\tat org.apache.spark.SparkContext.runJob(SparkContext.scala:2164)\n\tat org.apache.spark.rdd.RDD.$anonfun$collect$1(RDD.scala:1004)\n\tat org.apache.spark.rdd.RDDOperationScope$.withScope(RDDOperationScope.scala:151)\n\tat org.apache.spark.rdd.RDDOperationScope$.withScope(RDDOperationScope.scala:112)\n\tat org.apache.spark.rdd.RDD.withScope(RDD.scala:388)\n\tat org.apache.spark.rdd.RDD.collect(RDD.scala:1003)\n\tat org.apache.spark.sql.execution.SparkPlan.executeCollect(SparkPlan.scala:385)\n\tat org.apache.spark.sql.Dataset.$anonfun$collectToPython$1(Dataset.scala:3450)\n\tat org.apache.spark.sql.Dataset.$anonfun$withAction$1(Dataset.scala:3618)\n\tat org.apache.spark.sql.execution.SQLExecution$.$anonfun$withNewExecutionId$5(SQLExecution.scala:100)\n\tat org.apache.spark.sql.execution.SQLExecution$.withSQLConfPropagated(SQLExecution.scala:160)\n\tat org.apache.spark.sql.execution.SQLExecution$.$anonfun$withNewExecutionId$1(SQLExecution.scala:87)\n\tat org.apache.spark.sql.SparkSession.withActive(SparkSession.scala:764)\n\tat org.apache.spark.sql.execution.SQLExecution$.withNewExecutionId(SQLExecution.scala:64)\n\tat org.apache.spark.sql.Dataset.withAction(Dataset.scala:3616)\n\tat org.apache.spark.sql.Dataset.collectToPython(Dataset.scala:3447)\n\tat jdk.internal.reflect.GeneratedMethodAccessor76.invoke(Unknown Source)\n\tat java.base/jdk.internal.reflect.DelegatingMethodAccessorImpl.invoke(DelegatingMethodAccessorImpl.java:43)\n\tat java.base/java.lang.reflect.Method.invoke(Method.java:564)\n\tat py4j.reflection.MethodInvoker.invoke(MethodInvoker.java:244)\n\tat py4j.reflection.ReflectionEngine.invoke(ReflectionEngine.java:357)\n\tat py4j.Gateway.invoke(Gateway.java:282)\n\tat py4j.commands.AbstractCommand.invokeMethod(AbstractCommand.java:132)\n\tat py4j.commands.CallCommand.execute(CallCommand.java:79)\n\tat py4j.GatewayConnection.run(GatewayConnection.java:238)\n\tat java.base/java.lang.Thread.run(Thread.java:844)\nCaused by: org.apache.spark.SparkUpgradeException: You may get a different result due to the upgrading of Spark 3.0: Fail to parse '2019-11-22 12:54:16.795000' in the new parser. You can set spark.sql.legacy.timeParserPolicy to LEGACY to restore the behavior before Spark 3.0, or set to CORRECTED and treat it as an invalid datetime string.\n\tat org.apache.spark.sql.catalyst.util.DateTimeFormatterHelper$$anonfun$checkParsedDiff$1.applyOrElse(DateTimeFormatterHelper.scala:150)\n\tat org.apache.spark.sql.catalyst.util.DateTimeFormatterHelper$$anonfun$checkParsedDiff$1.applyOrElse(DateTimeFormatterHelper.scala:141)\n\tat scala.runtime.AbstractPartialFunction.apply(AbstractPartialFunction.scala:38)\n\tat org.apache.spark.sql.catalyst.util.Iso8601TimestampFormatter.$anonfun$parse$1(TimestampFormatter.scala:86)\n\tat scala.runtime.java8.JFunction0$mcJ$sp.apply(JFunction0$mcJ$sp.java:23)\n\tat scala.Option.getOrElse(Option.scala:189)\n\tat org.apache.spark.sql.catalyst.util.Iso8601TimestampFormatter.parse(TimestampFormatter.scala:77)\n\tat org.apache.spark.sql.catalyst.expressions.GeneratedClass$GeneratedIteratorForCodegenStage1.processNext(Unknown Source)\n\tat org.apache.spark.sql.execution.BufferedRowIterator.hasNext(BufferedRowIterator.java:43)\n\tat org.apache.spark.sql.execution.WholeStageCodegenExec$$anon$1.hasNext(WholeStageCodegenExec.scala:729)\n\tat org.apache.spark.sql.execution.SparkPlan.$anonfun$getByteArrayRdd$1(SparkPlan.scala:340)\n\tat org.apache.spark.rdd.RDD.$anonfun$mapPartitionsInternal$2(RDD.scala:872)\n\tat org.apache.spark.rdd.RDD.$anonfun$mapPartitionsInternal$2$adapted(RDD.scala:872)\n\tat org.apache.spark.rdd.MapPartitionsRDD.compute(MapPartitionsRDD.scala:52)\n\tat org.apache.spark.rdd.RDD.computeOrReadCheckpoint(RDD.scala:349)\n\tat org.apache.spark.rdd.RDD.iterator(RDD.scala:313)\n\tat org.apache.spark.scheduler.ResultTask.runTask(ResultTask.scala:90)\n\tat org.apache.spark.scheduler.Task.run(Task.scala:127)\n\tat org.apache.spark.executor.Executor$TaskRunner.$anonfun$run$3(Executor.scala:446)\n\tat org.apache.spark.util.Utils$.tryWithSafeFinally(Utils.scala:1377)\n\tat org.apache.spark.executor.Executor$TaskRunner.run(Executor.scala:449)\n\tat java.base/java.util.concurrent.ThreadPoolExecutor.runWorker(ThreadPoolExecutor.java:1135)\n\tat java.base/java.util.concurrent.ThreadPoolExecutor$Worker.run(ThreadPoolExecutor.java:635)\n\t... 1 more\nCaused by: java.time.format.DateTimeParseException: Text '2019-11-22 12:54:16.795000' could not be parsed, unparsed text found at index 19\n\tat java.base/java.time.format.DateTimeFormatter.parseResolved0(DateTimeFormatter.java:2049)\n\tat java.base/java.time.format.DateTimeFormatter.parse(DateTimeFormatter.java:1874)\n\tat org.apache.spark.sql.catalyst.util.Iso8601TimestampFormatter.$anonfun$parse$1(TimestampFormatter.scala:78)\n\t... 20 more\n"
     ]
    }
   ],
   "source": [
    "corr, ax = associations( dfFlt.select(* (F.unix_timestamp(c).alias(c) for c in shared.intervalVars) ).toPandas(), figsize=[10,10] )"
   ]
  },
  {
   "cell_type": "markdown",
   "metadata": {},
   "source": [
    "- Correlated dates\n",
    "  - assignment_due_date and assignment_final_submission_date\n",
    "  - assigment_due_date and assignment_start_date \n",
    "  - min_student_start_datetime and max_student_start_datetime\n",
    "  - student_start_datetime and student_stop_datetime\n",
    "  - student_start_datetime and was_fully_scored_datetime\n",
    "  - student_stop_datetime and was_fully_scored_datetime\n",
    "- Correlation appears to be because the events closely follow each other"
   ]
  },
  {
   "cell_type": "code",
   "execution_count": null,
   "metadata": {},
   "outputs": [],
   "source": [
    "# Categorical / Interval Variables\n",
    "defaults = [\"2999-01-01 00:00:00\",\"1900-01-01 00:00:00\"]\n",
    "\n",
    "for f in shared.intervalVars:\n",
    "  print (f)\n",
    "  dfFlt.agg(\n",
    "    F.countDistinct(f).alias('unique'), \n",
    "    F.count( F.when(F.col(f).isNull(), f)).alias('null'),\n",
    "    F.min( F.when(F.col(f).isin(defaults) == False, F.col(f) )).alias('min'),\n",
    "    F.max( F.when(F.col(f).isin(defaults) == False, F.col(f) )).alias('max')\n",
    " ).show(1, False)"
   ]
  },
  {
   "cell_type": "markdown",
   "metadata": {},
   "source": [
    "Dates fall in range of a school year of 8/2019 to 5/2020"
   ]
  },
  {
   "cell_type": "code",
   "execution_count": null,
   "metadata": {},
   "outputs": [],
   "source": [
    "# Categorical / Nominal Values\n",
    "for f in shared.binaryVars:\n",
    "  dfFlt.groupBy(f).count().orderBy('count', ascending=False).show(50, False)"
   ]
  },
  {
   "cell_type": "markdown",
   "metadata": {},
   "source": [
    "Variables With Unary Values\n",
    "- assignment_late_submission and is_deleted\n",
    "- is_manual_scoring_required has only one true value\n",
    "- Variables will be removed"
   ]
  },
  {
   "cell_type": "code",
   "execution_count": null,
   "metadata": {},
   "outputs": [],
   "source": [
    "corr, ax = associations( dfFlt.select(*shared.binaryVars).toPandas(), nan_replace_value='null' )"
   ]
  },
  {
   "cell_type": "markdown",
   "metadata": {},
   "source": [
    "- No correlation"
   ]
  },
  {
   "cell_type": "code",
   "execution_count": null,
   "metadata": {},
   "outputs": [],
   "source": [
    "add_todo(\"Remove variables assignment_late_submission, is_manual_scoring_required and is_deleted\")"
   ]
  },
  {
   "cell_type": "code",
   "execution_count": null,
   "metadata": {},
   "outputs": [],
   "source": [
    "corr, ax = associations( dfFlt.select(*shared.binaryVars, *shared.nominalVars).toPandas(), nan_replace_value='null', figsize=[10,10] )"
   ]
  },
  {
   "cell_type": "markdown",
   "metadata": {},
   "source": [
    "- New correlations\n",
    "  - is_affecting_grade and ced_assignment_type_code\n",
    "  - item_is_offline_scored and assigned_item_status"
   ]
  },
  {
   "cell_type": "code",
   "execution_count": null,
   "metadata": {},
   "outputs": [],
   "source": [
    "def grade_to_code():\n",
    "  dfPd = dfFlt.select('is_affecting_grade','ced_assignment_type_code').toPandas()\n",
    "  return pd.crosstab(dfPd.is_affecting_grade.fillna('null'), dfPd.ced_assignment_type_code.fillna('null'), margins=True, margins_name=\"Total\")\n",
    "  \n",
    "grade_to_code()"
   ]
  },
  {
   "cell_type": "markdown",
   "metadata": {},
   "source": [
    "- is_affecting_grade = false when ced_assignment_type_code = practice"
   ]
  },
  {
   "cell_type": "code",
   "execution_count": null,
   "metadata": {},
   "outputs": [],
   "source": [
    "def offline_to_status():\n",
    "  dfPd = dfFlt.toPandas()\n",
    "  return pd.crosstab(dfPd.item_is_offline_scored.fillna('null'), dfPd.assigned_item_status.fillna('null'), margins=True, margins_name=\"Total\")\n",
    "  \n",
    "offline_to_status()"
   ]
  },
  {
   "cell_type": "markdown",
   "metadata": {},
   "source": [
    "- item_is_offline_scored = True is always assigned_item_status = offline_scored"
   ]
  },
  {
   "cell_type": "code",
   "execution_count": null,
   "metadata": {},
   "outputs": [],
   "source": [
    "def sections_by_org():\n",
    "  sByO = dfFlt.groupBy('org_new').agg(F.countDistinct('section_id').alias('sections')).orderBy('org_new')\n",
    "  pdDf = sByO.toPandas()\n",
    "\n",
    "  # Add mean\n",
    "  meanSections = sByO.agg(F.round(F.avg(F.col('sections'))).alias('mean')).collect()[0][0]\n",
    "  # Append row with mean\n",
    "  pdDf = pdDf.append({'org_new': 'mean', 'sections': meanSections}, ignore_index=True)\n",
    "\n",
    "  ax = pdDf.plot.bar('org_new','sections', title='Num Sections by Organization')\n",
    "  annotate_plot(ax)\n",
    "  plt.show()\n",
    "  \n",
    "sections_by_org()"
   ]
  },
  {
   "cell_type": "code",
   "execution_count": null,
   "metadata": {},
   "outputs": [],
   "source": [
    "def learners_by_org():\n",
    "  lByO = dfFlt.groupBy('org_new').agg(F.countDistinct('learner_id').alias('learners')).orderBy('org_new')\n",
    "  pdDf = lByO.toPandas()\n",
    "\n",
    "  # Add mean\n",
    "  meanlearners = lByO.agg(F.round(F.avg(F.col('learners'))).alias('mean')).collect()[0][0]\n",
    "  # Append row with mean\n",
    "  pdDf = pdDf.append({'org_new': 'mean', 'learners': meanlearners}, ignore_index=True)\n",
    "\n",
    "  ax = pdDf.plot.bar('org_new','learners', title='Num Learners by Organization')\n",
    "  annotate_plot(ax)\n",
    "  plt.show()\n",
    "  \n",
    "learners_by_org()"
   ]
  },
  {
   "cell_type": "code",
   "execution_count": null,
   "metadata": {},
   "outputs": [],
   "source": [
    "def sec_learners_by_org():\n",
    "  lByS = dfFlt.groupBy('org_new','section_id').agg(F.countDistinct('learner_id').alias('learners'))\n",
    "  # Av\n",
    "  lBySMean = lByS.groupBy('org_new').agg( F.avg('learners').alias('learners') ).orderBy('org_new')\n",
    "  pdDf = lBySMean.toPandas()\n",
    "\n",
    "  # Add mean\n",
    "  meanlearners = lBySMean.agg(F.round(F.avg(F.col('learners'))).alias('mean')).collect()[0][0]\n",
    "  # Append row with mean\n",
    "  pdDf = pdDf.append({'org_new': 'mean', 'learners': meanlearners}, ignore_index=True)\n",
    "\n",
    "  ax = pdDf.plot.bar('org_new','learners', title='Mean Section Learners by Organization')\n",
    "  annotate_plot(ax)\n",
    "  plt.show()\n",
    "  \n",
    "sec_learners_by_org()"
   ]
  },
  {
   "cell_type": "code",
   "execution_count": null,
   "metadata": {},
   "outputs": [],
   "source": [
    "def sec_assess_by_org():\n",
    "  assessBySection = dfFlt.groupBy('org_new','section_id').agg(F.countDistinct('assessment_id').alias('assessments'))\n",
    "  aByS = assessBySection.groupBy('org_new').agg( F.avg('assessments').alias('assessments') ).orderBy('org_new')\n",
    "\n",
    "  pdDf = aByS.toPandas()\n",
    "\n",
    "  # Add mean\n",
    "  meanAssess = aByS.agg(F.round(F.avg(F.col('assessments'))).alias('mean')).collect()[0][0]\n",
    "  # Append row with mean\n",
    "  pdDf = pdDf.append({'org_new': 'mean', 'assessments': meanAssess}, ignore_index=True)\n",
    "\n",
    "\n",
    "  ax = pdDf.plot.bar('org_new','assessments', title='Mean Section Assessments by Organization')\n",
    "  annotate_plot(ax)\n",
    "  plt.show()\n",
    "  \n",
    "sec_assess_by_org()"
   ]
  },
  {
   "cell_type": "code",
   "execution_count": null,
   "metadata": {},
   "outputs": [],
   "source": [
    "def assess_by_org():\n",
    "  assessBySection = dfFlt.groupBy('org_new','learner_id').agg(F.countDistinct('assessment_id').alias('assessments'))\n",
    "  aByS = assessBySection.groupBy('org_new').agg( F.avg('assessments').alias('assessments') ).orderBy('org_new')\n",
    "\n",
    "  pdDf = aByS.toPandas()\n",
    "\n",
    "  # Add mean\n",
    "  meanAssess = aByS.agg(F.round(F.avg(F.col('assessments'))).alias('mean')).collect()[0][0]\n",
    "  # Append row with mean\n",
    "  pdDf = pdDf.append({'org_new': 'mean', 'assessments': meanAssess}, ignore_index=True)\n",
    "\n",
    "  ax = pdDf.plot.bar('org_new','assessments', title='Mean Learners Assessments by Organization')\n",
    "  annotate_plot(ax)\n",
    "  plt.show()\n",
    "  \n",
    "assess_by_org()"
   ]
  },
  {
   "cell_type": "code",
   "execution_count": null,
   "metadata": {},
   "outputs": [],
   "source": [
    "# scores by orgs\n",
    "def scores_by_orgs():\n",
    "  sByO = dfFlt.groupBy('org_new').agg( F.avg('final_score_unweighted').alias('scores') ).orderBy('org_new')\n",
    "\n",
    "  pdDf = sByO.toPandas()\n",
    "\n",
    "  # Add mean\n",
    "  meanAssess = sByO.agg(F.round(F.avg(F.col('scores'))).alias('mean')).collect()[0][0]\n",
    "  # Append row with mean\n",
    "  pdDf = pdDf.append({'org_new': 'mean', 'scores': meanAssess}, ignore_index=True)\n",
    "\n",
    "  ax = pdDf.plot.bar('org_new','scores', title='Mean Scores by Organization')\n",
    "  annotate_plot(ax)\n",
    "  plt.show()\n",
    "  \n",
    "scores_by_orgs()"
   ]
  },
  {
   "cell_type": "code",
   "execution_count": null,
   "outputs": [],
   "source": [
    "shared.close()\n",
    "save_df(todoList, \"todolist\")\n",
    "save_df(dfFlt,    \"dfflt\")"
   ],
   "metadata": {
    "collapsed": false,
    "pycharm": {
     "name": "#%%\n"
    }
   }
  },
  {
   "cell_type": "code",
   "execution_count": null,
   "metadata": {},
   "outputs": [],
   "source": [
    "\n"
   ]
  }
 ],
 "metadata": {
  "kernelspec": {
   "display_name": "Python 3",
   "language": "python",
   "name": "python3"
  },
  "language_info": {
   "codemirror_mode": {
    "name": "ipython",
    "version": 3
   },
   "file_extension": ".py",
   "mimetype": "text/x-python",
   "name": "python",
   "nbconvert_exporter": "python",
   "pygments_lexer": "ipython3",
   "version": "3.8.5"
  },
  "name": "C772 Capstone Summarization Sub-Notebook",
  "notebookId": 199670002753040
 },
 "nbformat": 4,
 "nbformat_minor": 1
}