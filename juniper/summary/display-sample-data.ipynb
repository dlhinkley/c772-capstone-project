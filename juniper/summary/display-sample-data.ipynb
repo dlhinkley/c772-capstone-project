{
 "cells": [
  {
   "cell_type": "code",
   "execution_count": 28,
   "outputs": [
    {
     "name": "stdout",
     "output_type": "stream",
     "text": [
      "dython              0.6.1\n",
      "tinydb              4.2.0\n"
     ]
    }
   ],
   "source": [
    "%run '../lib/libraries.ipynb'"
   ],
   "metadata": {
    "collapsed": false,
    "pycharm": {
     "name": "#%%\n"
    }
   }
  },
  {
   "cell_type": "code",
   "execution_count": 29,
   "outputs": [],
   "source": [
    "dfRaw = load_df('dfRaw')\n",
    "cats = get_var_cats()"
   ],
   "metadata": {
    "collapsed": false,
    "pycharm": {
     "name": "#%%\n"
    }
   }
  },
  {
   "cell_type": "markdown",
   "source": [
    "###### Display Sample Data"
   ],
   "metadata": {
    "collapsed": false,
    "pycharm": {
     "name": "#%% md\n"
    }
   }
  },
  {
   "cell_type": "code",
   "execution_count": 30,
   "outputs": [
    {
     "data": {
      "text/plain": "   org_id\n0  349115\n1  360421\n2  360541",
      "text/html": "<div>\n<style scoped>\n    .dataframe tbody tr th:only-of-type {\n        vertical-align: middle;\n    }\n\n    .dataframe tbody tr th {\n        vertical-align: top;\n    }\n\n    .dataframe thead th {\n        text-align: right;\n    }\n</style>\n<table border=\"1\" class=\"dataframe\">\n  <thead>\n    <tr style=\"text-align: right;\">\n      <th></th>\n      <th>org_id</th>\n    </tr>\n  </thead>\n  <tbody>\n    <tr>\n      <th>0</th>\n      <td>349115</td>\n    </tr>\n    <tr>\n      <th>1</th>\n      <td>360421</td>\n    </tr>\n    <tr>\n      <th>2</th>\n      <td>360541</td>\n    </tr>\n  </tbody>\n</table>\n</div>"
     },
     "execution_count": 30,
     "metadata": {},
     "output_type": "execute_result"
    }
   ],
   "source": [
    "dfRaw.select(*cats['orgVars']).distinct().toPandas()"
   ],
   "metadata": {
    "collapsed": false,
    "pycharm": {
     "name": "#%%\n"
    }
   }
  },
  {
   "cell_type": "markdown",
   "source": [
    "- 3 organizations"
   ],
   "metadata": {
    "collapsed": false
   }
  },
  {
   "cell_type": "code",
   "execution_count": 31,
   "outputs": [
    {
     "data": {
      "text/plain": "    section_id\n0       498961\n1       499023\n2       537231\n3       498945\n4       498977\n5       498971\n6       498965\n7       499094\n8       499047\n9       530503\n10      499028\n11      527034\n12      498941\n13      498967\n14      522071\n15      509045\n16      499081\n17      520208",
      "text/html": "<div>\n<style scoped>\n    .dataframe tbody tr th:only-of-type {\n        vertical-align: middle;\n    }\n\n    .dataframe tbody tr th {\n        vertical-align: top;\n    }\n\n    .dataframe thead th {\n        text-align: right;\n    }\n</style>\n<table border=\"1\" class=\"dataframe\">\n  <thead>\n    <tr style=\"text-align: right;\">\n      <th></th>\n      <th>section_id</th>\n    </tr>\n  </thead>\n  <tbody>\n    <tr>\n      <th>0</th>\n      <td>498961</td>\n    </tr>\n    <tr>\n      <th>1</th>\n      <td>499023</td>\n    </tr>\n    <tr>\n      <th>2</th>\n      <td>537231</td>\n    </tr>\n    <tr>\n      <th>3</th>\n      <td>498945</td>\n    </tr>\n    <tr>\n      <th>4</th>\n      <td>498977</td>\n    </tr>\n    <tr>\n      <th>5</th>\n      <td>498971</td>\n    </tr>\n    <tr>\n      <th>6</th>\n      <td>498965</td>\n    </tr>\n    <tr>\n      <th>7</th>\n      <td>499094</td>\n    </tr>\n    <tr>\n      <th>8</th>\n      <td>499047</td>\n    </tr>\n    <tr>\n      <th>9</th>\n      <td>530503</td>\n    </tr>\n    <tr>\n      <th>10</th>\n      <td>499028</td>\n    </tr>\n    <tr>\n      <th>11</th>\n      <td>527034</td>\n    </tr>\n    <tr>\n      <th>12</th>\n      <td>498941</td>\n    </tr>\n    <tr>\n      <th>13</th>\n      <td>498967</td>\n    </tr>\n    <tr>\n      <th>14</th>\n      <td>522071</td>\n    </tr>\n    <tr>\n      <th>15</th>\n      <td>509045</td>\n    </tr>\n    <tr>\n      <th>16</th>\n      <td>499081</td>\n    </tr>\n    <tr>\n      <th>17</th>\n      <td>520208</td>\n    </tr>\n  </tbody>\n</table>\n</div>"
     },
     "execution_count": 31,
     "metadata": {},
     "output_type": "execute_result"
    }
   ],
   "source": [
    "dfRaw.filter( F.col('org_id') == 360421).select(*cats['sectionVars']).distinct().toPandas()"
   ],
   "metadata": {
    "collapsed": false,
    "pycharm": {
     "name": "#%%\n"
    }
   }
  },
  {
   "cell_type": "markdown",
   "source": [
    "- 18 sections in organization 360421"
   ],
   "metadata": {
    "collapsed": false
   }
  },
  {
   "cell_type": "code",
   "execution_count": 32,
   "outputs": [
    {
     "data": {
      "text/plain": "    learner_id\n0      1248228\n1      1249504\n2      1385147\n3      1332895\n4      1313317\n5      1355895\n6      1249790\n7      1372550\n8      1344830\n9      1365609\n10     1256982\n11     1249505\n12     1332744\n13     1317535\n14     1248093\n15     1248229\n16     1249881\n17     1263887\n18     1265162\n19     1251590\n20     1314462\n21     1316043\n22     1365062\n23     1252768",
      "text/html": "<div>\n<style scoped>\n    .dataframe tbody tr th:only-of-type {\n        vertical-align: middle;\n    }\n\n    .dataframe tbody tr th {\n        vertical-align: top;\n    }\n\n    .dataframe thead th {\n        text-align: right;\n    }\n</style>\n<table border=\"1\" class=\"dataframe\">\n  <thead>\n    <tr style=\"text-align: right;\">\n      <th></th>\n      <th>learner_id</th>\n    </tr>\n  </thead>\n  <tbody>\n    <tr>\n      <th>0</th>\n      <td>1248228</td>\n    </tr>\n    <tr>\n      <th>1</th>\n      <td>1249504</td>\n    </tr>\n    <tr>\n      <th>2</th>\n      <td>1385147</td>\n    </tr>\n    <tr>\n      <th>3</th>\n      <td>1332895</td>\n    </tr>\n    <tr>\n      <th>4</th>\n      <td>1313317</td>\n    </tr>\n    <tr>\n      <th>5</th>\n      <td>1355895</td>\n    </tr>\n    <tr>\n      <th>6</th>\n      <td>1249790</td>\n    </tr>\n    <tr>\n      <th>7</th>\n      <td>1372550</td>\n    </tr>\n    <tr>\n      <th>8</th>\n      <td>1344830</td>\n    </tr>\n    <tr>\n      <th>9</th>\n      <td>1365609</td>\n    </tr>\n    <tr>\n      <th>10</th>\n      <td>1256982</td>\n    </tr>\n    <tr>\n      <th>11</th>\n      <td>1249505</td>\n    </tr>\n    <tr>\n      <th>12</th>\n      <td>1332744</td>\n    </tr>\n    <tr>\n      <th>13</th>\n      <td>1317535</td>\n    </tr>\n    <tr>\n      <th>14</th>\n      <td>1248093</td>\n    </tr>\n    <tr>\n      <th>15</th>\n      <td>1248229</td>\n    </tr>\n    <tr>\n      <th>16</th>\n      <td>1249881</td>\n    </tr>\n    <tr>\n      <th>17</th>\n      <td>1263887</td>\n    </tr>\n    <tr>\n      <th>18</th>\n      <td>1265162</td>\n    </tr>\n    <tr>\n      <th>19</th>\n      <td>1251590</td>\n    </tr>\n    <tr>\n      <th>20</th>\n      <td>1314462</td>\n    </tr>\n    <tr>\n      <th>21</th>\n      <td>1316043</td>\n    </tr>\n    <tr>\n      <th>22</th>\n      <td>1365062</td>\n    </tr>\n    <tr>\n      <th>23</th>\n      <td>1252768</td>\n    </tr>\n  </tbody>\n</table>\n</div>"
     },
     "execution_count": 32,
     "metadata": {},
     "output_type": "execute_result"
    }
   ],
   "source": [
    "dfRaw.filter( F.col('section_id') == 498941).select(*cats['learnerVars']).distinct().toPandas()"
   ],
   "metadata": {
    "collapsed": false,
    "pycharm": {
     "name": "#%%\n"
    }
   }
  },
  {
   "cell_type": "markdown",
   "source": [
    "- 24 learners in section 498941"
   ],
   "metadata": {
    "collapsed": false
   }
  },
  {
   "cell_type": "code",
   "execution_count": 33,
   "outputs": [
    {
     "data": {
      "text/plain": "   assessment_id  assessment_instance_id\n0         721038                  846625\n1         721235                  876562\n2         720657                  799125\n3         720761                  879857\n4         720511                  813988\n5         720591                  878024",
      "text/html": "<div>\n<style scoped>\n    .dataframe tbody tr th:only-of-type {\n        vertical-align: middle;\n    }\n\n    .dataframe tbody tr th {\n        vertical-align: top;\n    }\n\n    .dataframe thead th {\n        text-align: right;\n    }\n</style>\n<table border=\"1\" class=\"dataframe\">\n  <thead>\n    <tr style=\"text-align: right;\">\n      <th></th>\n      <th>assessment_id</th>\n      <th>assessment_instance_id</th>\n    </tr>\n  </thead>\n  <tbody>\n    <tr>\n      <th>0</th>\n      <td>721038</td>\n      <td>846625</td>\n    </tr>\n    <tr>\n      <th>1</th>\n      <td>721235</td>\n      <td>876562</td>\n    </tr>\n    <tr>\n      <th>2</th>\n      <td>720657</td>\n      <td>799125</td>\n    </tr>\n    <tr>\n      <th>3</th>\n      <td>720761</td>\n      <td>879857</td>\n    </tr>\n    <tr>\n      <th>4</th>\n      <td>720511</td>\n      <td>813988</td>\n    </tr>\n    <tr>\n      <th>5</th>\n      <td>720591</td>\n      <td>878024</td>\n    </tr>\n  </tbody>\n</table>\n</div>"
     },
     "execution_count": 33,
     "metadata": {},
     "output_type": "execute_result"
    }
   ],
   "source": [
    "dfRaw.filter( F.col('section_id') == 498941).select(*cats['assessmentVars']).distinct().toPandas()"
   ],
   "metadata": {
    "collapsed": false,
    "pycharm": {
     "name": "#%%\n"
    }
   }
  },
  {
   "cell_type": "markdown",
   "source": [
    "- 6 assessments in section 498941"
   ],
   "metadata": {
    "collapsed": false
   }
  },
  {
   "cell_type": "markdown",
   "source": [
    "###### Display Assignments for Section 498941"
   ],
   "metadata": {
    "collapsed": false
   }
  },
  {
   "cell_type": "code",
   "execution_count": 34,
   "outputs": [
    {
     "data": {
      "text/plain": "  assignment_due_date assignment_final_submission_date  \\\n0 2019-10-30 04:59:00              2019-10-30 04:59:00   \n1 2019-11-06 05:59:00              2019-11-06 05:59:00   \n2 2020-01-18 05:59:00              2020-01-18 05:59:00   \n3 2020-02-15 05:59:00              2020-02-15 05:59:00   \n4 2020-02-29 05:59:00              2020-02-29 05:59:00   \n5 2020-04-12 04:59:00              2020-04-12 04:59:00   \n\n   assignment_late_submission  assignment_max_attempts assignment_start_date  \\\n0                       False                        1   2019-10-28 05:00:00   \n1                       False                        1   2019-10-31 05:00:00   \n2                       False                        1   2020-01-16 06:00:00   \n3                       False                        1   2020-02-13 06:00:00   \n4                       False                        1   2020-02-27 06:00:00   \n5                       False                        1   2020-04-09 05:00:00   \n\n  ced_assignment_type_code  is_affecting_grade max_student_stop_datetime  \\\n0                      clo                True   2019-11-16 04:09:25.260   \n1               assessment                True   2019-11-05 23:21:59.287   \n2               assessment                True   2020-01-17 20:11:14.079   \n3               assessment                True                       NaT   \n4               assessment                True   2020-02-29 06:00:06.925   \n5               assessment                True   2020-04-12 04:59:13.840   \n\n  min_student_start_datetime  number_of_distinct_instance_items  \\\n0    2019-10-28 19:49:28.028                                  2   \n1    2019-10-31 19:19:21.510                                 18   \n2    2020-01-16 20:18:26.011                                 19   \n3                        NaT                                  9   \n4    2020-02-27 21:04:03.241                                 10   \n5    2020-04-09 17:00:20.741                                 12   \n\n   number_of_learners  \n0                  27  \n1                  27  \n2                  23  \n3                  23  \n4                  22  \n5                  23  ",
      "text/html": "<div>\n<style scoped>\n    .dataframe tbody tr th:only-of-type {\n        vertical-align: middle;\n    }\n\n    .dataframe tbody tr th {\n        vertical-align: top;\n    }\n\n    .dataframe thead th {\n        text-align: right;\n    }\n</style>\n<table border=\"1\" class=\"dataframe\">\n  <thead>\n    <tr style=\"text-align: right;\">\n      <th></th>\n      <th>assignment_due_date</th>\n      <th>assignment_final_submission_date</th>\n      <th>assignment_late_submission</th>\n      <th>assignment_max_attempts</th>\n      <th>assignment_start_date</th>\n      <th>ced_assignment_type_code</th>\n      <th>is_affecting_grade</th>\n      <th>max_student_stop_datetime</th>\n      <th>min_student_start_datetime</th>\n      <th>number_of_distinct_instance_items</th>\n      <th>number_of_learners</th>\n    </tr>\n  </thead>\n  <tbody>\n    <tr>\n      <th>0</th>\n      <td>2019-10-30 04:59:00</td>\n      <td>2019-10-30 04:59:00</td>\n      <td>False</td>\n      <td>1</td>\n      <td>2019-10-28 05:00:00</td>\n      <td>clo</td>\n      <td>True</td>\n      <td>2019-11-16 04:09:25.260</td>\n      <td>2019-10-28 19:49:28.028</td>\n      <td>2</td>\n      <td>27</td>\n    </tr>\n    <tr>\n      <th>1</th>\n      <td>2019-11-06 05:59:00</td>\n      <td>2019-11-06 05:59:00</td>\n      <td>False</td>\n      <td>1</td>\n      <td>2019-10-31 05:00:00</td>\n      <td>assessment</td>\n      <td>True</td>\n      <td>2019-11-05 23:21:59.287</td>\n      <td>2019-10-31 19:19:21.510</td>\n      <td>18</td>\n      <td>27</td>\n    </tr>\n    <tr>\n      <th>2</th>\n      <td>2020-01-18 05:59:00</td>\n      <td>2020-01-18 05:59:00</td>\n      <td>False</td>\n      <td>1</td>\n      <td>2020-01-16 06:00:00</td>\n      <td>assessment</td>\n      <td>True</td>\n      <td>2020-01-17 20:11:14.079</td>\n      <td>2020-01-16 20:18:26.011</td>\n      <td>19</td>\n      <td>23</td>\n    </tr>\n    <tr>\n      <th>3</th>\n      <td>2020-02-15 05:59:00</td>\n      <td>2020-02-15 05:59:00</td>\n      <td>False</td>\n      <td>1</td>\n      <td>2020-02-13 06:00:00</td>\n      <td>assessment</td>\n      <td>True</td>\n      <td>NaT</td>\n      <td>NaT</td>\n      <td>9</td>\n      <td>23</td>\n    </tr>\n    <tr>\n      <th>4</th>\n      <td>2020-02-29 05:59:00</td>\n      <td>2020-02-29 05:59:00</td>\n      <td>False</td>\n      <td>1</td>\n      <td>2020-02-27 06:00:00</td>\n      <td>assessment</td>\n      <td>True</td>\n      <td>2020-02-29 06:00:06.925</td>\n      <td>2020-02-27 21:04:03.241</td>\n      <td>10</td>\n      <td>22</td>\n    </tr>\n    <tr>\n      <th>5</th>\n      <td>2020-04-12 04:59:00</td>\n      <td>2020-04-12 04:59:00</td>\n      <td>False</td>\n      <td>1</td>\n      <td>2020-04-09 05:00:00</td>\n      <td>assessment</td>\n      <td>True</td>\n      <td>2020-04-12 04:59:13.840</td>\n      <td>2020-04-09 17:00:20.741</td>\n      <td>12</td>\n      <td>23</td>\n    </tr>\n  </tbody>\n</table>\n</div>"
     },
     "execution_count": 34,
     "metadata": {},
     "output_type": "execute_result"
    }
   ],
   "source": [
    "dfRaw.filter( F.col('section_id') == 498941).select( *cats['assignmentVars']).distinct().orderBy('assignment_due_date').toPandas()"
   ],
   "metadata": {
    "collapsed": false,
    "pycharm": {
     "name": "#%%\n"
    }
   }
  },
  {
   "cell_type": "markdown",
   "source": [
    "- 6 assignments (one for each assessment) in section 498941"
   ],
   "metadata": {
    "collapsed": false
   }
  },
  {
   "cell_type": "markdown",
   "source": [
    "###### Display Assignment Items for Assessment 720657 of Section 498941"
   ],
   "metadata": {
    "collapsed": false
   }
  },
  {
   "cell_type": "code",
   "execution_count": 35,
   "outputs": [
    {
     "data": {
      "text/plain": "   item_is_offline_scored item_type_code_name scoring_type_code\n0                   False                None      [unassigned]\n1                    True           trueFalse         automatic\n2                   False      multipleChoice         automatic\n3                   False            matching         automatic\n4                   False               essay      [unassigned]\n5                   False         shortAnswer      [unassigned]\n6                   False           trueFalse         automatic",
      "text/html": "<div>\n<style scoped>\n    .dataframe tbody tr th:only-of-type {\n        vertical-align: middle;\n    }\n\n    .dataframe tbody tr th {\n        vertical-align: top;\n    }\n\n    .dataframe thead th {\n        text-align: right;\n    }\n</style>\n<table border=\"1\" class=\"dataframe\">\n  <thead>\n    <tr style=\"text-align: right;\">\n      <th></th>\n      <th>item_is_offline_scored</th>\n      <th>item_type_code_name</th>\n      <th>scoring_type_code</th>\n    </tr>\n  </thead>\n  <tbody>\n    <tr>\n      <th>0</th>\n      <td>False</td>\n      <td>None</td>\n      <td>[unassigned]</td>\n    </tr>\n    <tr>\n      <th>1</th>\n      <td>True</td>\n      <td>trueFalse</td>\n      <td>automatic</td>\n    </tr>\n    <tr>\n      <th>2</th>\n      <td>False</td>\n      <td>multipleChoice</td>\n      <td>automatic</td>\n    </tr>\n    <tr>\n      <th>3</th>\n      <td>False</td>\n      <td>matching</td>\n      <td>automatic</td>\n    </tr>\n    <tr>\n      <th>4</th>\n      <td>False</td>\n      <td>essay</td>\n      <td>[unassigned]</td>\n    </tr>\n    <tr>\n      <th>5</th>\n      <td>False</td>\n      <td>shortAnswer</td>\n      <td>[unassigned]</td>\n    </tr>\n    <tr>\n      <th>6</th>\n      <td>False</td>\n      <td>trueFalse</td>\n      <td>automatic</td>\n    </tr>\n  </tbody>\n</table>\n</div>"
     },
     "execution_count": 35,
     "metadata": {},
     "output_type": "execute_result"
    }
   ],
   "source": [
    "dfRaw.filter( F.col('assessment_id') == 720657).select(*cats['itemVars']).distinct().toPandas()"
   ],
   "metadata": {
    "collapsed": false,
    "pycharm": {
     "name": "#%%\n"
    }
   }
  },
  {
   "cell_type": "markdown",
   "source": [
    "- 7 items in assessment 720657\n",
    "- 1 item (true/false) is offline scored\n",
    "- 4 items automatice scoring code and 3 unassigned"
   ],
   "metadata": {
    "collapsed": false
   }
  },
  {
   "cell_type": "markdown",
   "source": [
    "###### Display Assignment Attempt for Attempt 1115526"
   ],
   "metadata": {
    "collapsed": false
   }
  },
  {
   "cell_type": "code",
   "execution_count": 36,
   "outputs": [
    {
     "data": {
      "text/plain": "   assessment_instance_attempt_id  assignment_attempt_number  \\\n0                         1115526                          1   \n\n   final_score_unweighted  is_force_scored  is_manual_scoring_required  \\\n0                       0            False                       False   \n\n   learner_assignment_attempt_id learner_attempt_status  \\\n0                        1050015            in progress   \n\n   points_possible_unweighted scored_datetime  student_start_datetime  \\\n0                        39.0             NaT 2019-11-03 22:41:04.219   \n\n  student_stop_datetime was_fully_scored_datetime was_in_progress_datetime  \\\n0                   NaT                       NaT  2019-11-03 22:41:04.219   \n\n  was_submitted_datetime_actual  \n0                           NaT  ",
      "text/html": "<div>\n<style scoped>\n    .dataframe tbody tr th:only-of-type {\n        vertical-align: middle;\n    }\n\n    .dataframe tbody tr th {\n        vertical-align: top;\n    }\n\n    .dataframe thead th {\n        text-align: right;\n    }\n</style>\n<table border=\"1\" class=\"dataframe\">\n  <thead>\n    <tr style=\"text-align: right;\">\n      <th></th>\n      <th>assessment_instance_attempt_id</th>\n      <th>assignment_attempt_number</th>\n      <th>final_score_unweighted</th>\n      <th>is_force_scored</th>\n      <th>is_manual_scoring_required</th>\n      <th>learner_assignment_attempt_id</th>\n      <th>learner_attempt_status</th>\n      <th>points_possible_unweighted</th>\n      <th>scored_datetime</th>\n      <th>student_start_datetime</th>\n      <th>student_stop_datetime</th>\n      <th>was_fully_scored_datetime</th>\n      <th>was_in_progress_datetime</th>\n      <th>was_submitted_datetime_actual</th>\n    </tr>\n  </thead>\n  <tbody>\n    <tr>\n      <th>0</th>\n      <td>1115526</td>\n      <td>1</td>\n      <td>0</td>\n      <td>False</td>\n      <td>False</td>\n      <td>1050015</td>\n      <td>in progress</td>\n      <td>39.0</td>\n      <td>NaT</td>\n      <td>2019-11-03 22:41:04.219</td>\n      <td>NaT</td>\n      <td>NaT</td>\n      <td>2019-11-03 22:41:04.219</td>\n      <td>NaT</td>\n    </tr>\n  </tbody>\n</table>\n</div>"
     },
     "execution_count": 36,
     "metadata": {},
     "output_type": "execute_result"
    }
   ],
   "source": [
    "dfRaw.filter( F.col('assessment_instance_attempt_id') == 1115526 ).select(*cats['assignmentAttemptVars']).distinct().toPandas()"
   ],
   "metadata": {
    "collapsed": false,
    "pycharm": {
     "name": "#%%\n"
    }
   }
  },
  {
   "cell_type": "markdown",
   "source": [
    "- Attempt is in progress (not finished)\n",
    "- Empty (default) scored_datetime, student_stop_datetime, was_fully_scored_datetime, was_submitted_datetime_actual\n",
    "- Final score is 0\n",
    "- Same values in student_start_datetime and was_in_progress_datetime"
   ],
   "metadata": {
    "collapsed": false
   }
  },
  {
   "cell_type": "markdown",
   "source": [
    "###### Display Assignment Attempt for Attempt 1159455"
   ],
   "metadata": {
    "collapsed": false
   }
  },
  {
   "cell_type": "code",
   "execution_count": 37,
   "outputs": [
    {
     "data": {
      "text/plain": "   assessment_instance_attempt_id  assignment_attempt_number  \\\n0                         1159455                          1   \n\n   final_score_unweighted  is_force_scored  is_manual_scoring_required  \\\n0                       9            False                       False   \n\n   learner_assignment_attempt_id learner_attempt_status  \\\n0                         965818           fully scored   \n\n   points_possible_unweighted     scored_datetime  student_start_datetime  \\\n0                        12.0 2020-04-10 20:59:35 2020-04-09 18:30:43.079   \n\n    student_stop_datetime was_fully_scored_datetime was_in_progress_datetime  \\\n0 2020-04-11 03:59:35.992       2020-04-11 03:59:35  2020-04-09 18:30:43.079   \n\n  was_submitted_datetime_actual  \n0       2020-04-11 03:59:35.992  ",
      "text/html": "<div>\n<style scoped>\n    .dataframe tbody tr th:only-of-type {\n        vertical-align: middle;\n    }\n\n    .dataframe tbody tr th {\n        vertical-align: top;\n    }\n\n    .dataframe thead th {\n        text-align: right;\n    }\n</style>\n<table border=\"1\" class=\"dataframe\">\n  <thead>\n    <tr style=\"text-align: right;\">\n      <th></th>\n      <th>assessment_instance_attempt_id</th>\n      <th>assignment_attempt_number</th>\n      <th>final_score_unweighted</th>\n      <th>is_force_scored</th>\n      <th>is_manual_scoring_required</th>\n      <th>learner_assignment_attempt_id</th>\n      <th>learner_attempt_status</th>\n      <th>points_possible_unweighted</th>\n      <th>scored_datetime</th>\n      <th>student_start_datetime</th>\n      <th>student_stop_datetime</th>\n      <th>was_fully_scored_datetime</th>\n      <th>was_in_progress_datetime</th>\n      <th>was_submitted_datetime_actual</th>\n    </tr>\n  </thead>\n  <tbody>\n    <tr>\n      <th>0</th>\n      <td>1159455</td>\n      <td>1</td>\n      <td>9</td>\n      <td>False</td>\n      <td>False</td>\n      <td>965818</td>\n      <td>fully scored</td>\n      <td>12.0</td>\n      <td>2020-04-10 20:59:35</td>\n      <td>2020-04-09 18:30:43.079</td>\n      <td>2020-04-11 03:59:35.992</td>\n      <td>2020-04-11 03:59:35</td>\n      <td>2020-04-09 18:30:43.079</td>\n      <td>2020-04-11 03:59:35.992</td>\n    </tr>\n  </tbody>\n</table>\n</div>"
     },
     "execution_count": 37,
     "metadata": {},
     "output_type": "execute_result"
    }
   ],
   "source": [
    "dfRaw.filter( F.col('assessment_instance_attempt_id') == 1159455 ).select(*cats['assignmentAttemptVars']).distinct().toPandas()"
   ],
   "metadata": {
    "collapsed": false,
    "pycharm": {
     "name": "#%%\n"
    }
   }
  },
  {
   "cell_type": "markdown",
   "source": [
    "- Attempt is finished (fully scored)"
   ],
   "metadata": {
    "collapsed": false
   }
  },
  {
   "cell_type": "markdown",
   "source": [
    "###### Display Assignment Attempt Items for Attempt 1115526"
   ],
   "metadata": {
    "collapsed": false
   }
  },
  {
   "cell_type": "code",
   "execution_count": 38,
   "outputs": [
    {
     "data": {
      "text/plain": "    assessment_item_response_id assigned_item_status  is_deleted  \\\n0                     1572894.0               scored       False   \n1                     1592595.0               scored       False   \n2                     1626110.0               scored       False   \n3                     1571371.0               scored       False   \n4                     1561797.0               scored       False   \n5                     1616296.0               scored       False   \n6                     1571743.0               scored       False   \n7                     1556172.0               scored       False   \n8                     1652901.0               scored       False   \n9                     1631451.0               scored       False   \n10                    1664219.0               scored       False   \n11                    1610844.0               scored       False   \n12                    1568785.0               scored       False   \n13                    1609716.0               scored       False   \n14                    1627468.0               scored       False   \n15                          NaN            delivered       False   \n\n    learner_assigned_item_attempt_id response_correctness  \n0                            1531985              correct  \n1                            1532003              correct  \n2                            1532004              correct  \n3                            1531981            incorrect  \n4                            1531983            incorrect  \n5                            1531998            incorrect  \n6                            1532001              correct  \n7                            1532002              correct  \n8                            1532000            incorrect  \n9                            1531984            incorrect  \n10                           1531979              correct  \n11                           1531970              correct  \n12                           1531980            incorrect  \n13                           1531982    partially_correct  \n14                           1531978            incorrect  \n15                           1531999                 None  ",
      "text/html": "<div>\n<style scoped>\n    .dataframe tbody tr th:only-of-type {\n        vertical-align: middle;\n    }\n\n    .dataframe tbody tr th {\n        vertical-align: top;\n    }\n\n    .dataframe thead th {\n        text-align: right;\n    }\n</style>\n<table border=\"1\" class=\"dataframe\">\n  <thead>\n    <tr style=\"text-align: right;\">\n      <th></th>\n      <th>assessment_item_response_id</th>\n      <th>assigned_item_status</th>\n      <th>is_deleted</th>\n      <th>learner_assigned_item_attempt_id</th>\n      <th>response_correctness</th>\n    </tr>\n  </thead>\n  <tbody>\n    <tr>\n      <th>0</th>\n      <td>1572894.0</td>\n      <td>scored</td>\n      <td>False</td>\n      <td>1531985</td>\n      <td>correct</td>\n    </tr>\n    <tr>\n      <th>1</th>\n      <td>1592595.0</td>\n      <td>scored</td>\n      <td>False</td>\n      <td>1532003</td>\n      <td>correct</td>\n    </tr>\n    <tr>\n      <th>2</th>\n      <td>1626110.0</td>\n      <td>scored</td>\n      <td>False</td>\n      <td>1532004</td>\n      <td>correct</td>\n    </tr>\n    <tr>\n      <th>3</th>\n      <td>1571371.0</td>\n      <td>scored</td>\n      <td>False</td>\n      <td>1531981</td>\n      <td>incorrect</td>\n    </tr>\n    <tr>\n      <th>4</th>\n      <td>1561797.0</td>\n      <td>scored</td>\n      <td>False</td>\n      <td>1531983</td>\n      <td>incorrect</td>\n    </tr>\n    <tr>\n      <th>5</th>\n      <td>1616296.0</td>\n      <td>scored</td>\n      <td>False</td>\n      <td>1531998</td>\n      <td>incorrect</td>\n    </tr>\n    <tr>\n      <th>6</th>\n      <td>1571743.0</td>\n      <td>scored</td>\n      <td>False</td>\n      <td>1532001</td>\n      <td>correct</td>\n    </tr>\n    <tr>\n      <th>7</th>\n      <td>1556172.0</td>\n      <td>scored</td>\n      <td>False</td>\n      <td>1532002</td>\n      <td>correct</td>\n    </tr>\n    <tr>\n      <th>8</th>\n      <td>1652901.0</td>\n      <td>scored</td>\n      <td>False</td>\n      <td>1532000</td>\n      <td>incorrect</td>\n    </tr>\n    <tr>\n      <th>9</th>\n      <td>1631451.0</td>\n      <td>scored</td>\n      <td>False</td>\n      <td>1531984</td>\n      <td>incorrect</td>\n    </tr>\n    <tr>\n      <th>10</th>\n      <td>1664219.0</td>\n      <td>scored</td>\n      <td>False</td>\n      <td>1531979</td>\n      <td>correct</td>\n    </tr>\n    <tr>\n      <th>11</th>\n      <td>1610844.0</td>\n      <td>scored</td>\n      <td>False</td>\n      <td>1531970</td>\n      <td>correct</td>\n    </tr>\n    <tr>\n      <th>12</th>\n      <td>1568785.0</td>\n      <td>scored</td>\n      <td>False</td>\n      <td>1531980</td>\n      <td>incorrect</td>\n    </tr>\n    <tr>\n      <th>13</th>\n      <td>1609716.0</td>\n      <td>scored</td>\n      <td>False</td>\n      <td>1531982</td>\n      <td>partially_correct</td>\n    </tr>\n    <tr>\n      <th>14</th>\n      <td>1627468.0</td>\n      <td>scored</td>\n      <td>False</td>\n      <td>1531978</td>\n      <td>incorrect</td>\n    </tr>\n    <tr>\n      <th>15</th>\n      <td>NaN</td>\n      <td>delivered</td>\n      <td>False</td>\n      <td>1531999</td>\n      <td>None</td>\n    </tr>\n  </tbody>\n</table>\n</div>"
     },
     "execution_count": 38,
     "metadata": {},
     "output_type": "execute_result"
    }
   ],
   "source": [
    "dfRaw.filter( F.col('assessment_instance_attempt_id') == 1115526 ).select(*cats['itemAttemptVars']).distinct().toPandas()"
   ],
   "metadata": {
    "collapsed": false,
    "pycharm": {
     "name": "#%%\n"
    }
   }
  },
  {
   "cell_type": "markdown",
   "source": [
    "- 16 observations\n",
    "- 15 answered (scored)\n",
    "  - 7 correct\n",
    "  - 7 incorrect\n",
    "  - 1 partically correct\n",
    "- 1 not answered (delivered)\n",
    "  - assessment not completed"
   ],
   "metadata": {
    "collapsed": false
   }
  },
  {
   "cell_type": "markdown",
   "source": [
    "###### Display Assignment Attempt Items for Attempt 1159455"
   ],
   "metadata": {
    "collapsed": false
   }
  },
  {
   "cell_type": "code",
   "execution_count": 39,
   "outputs": [
    {
     "data": {
      "text/plain": "    assessment_item_response_id assigned_item_status  is_deleted  \\\n0                       1596516               scored       False   \n1                       1581835               scored       False   \n2                       1549179               scored       False   \n3                       1547897               scored       False   \n4                       1635317               scored       False   \n5                       1585073               scored       False   \n6                       1622897               scored       False   \n7                       1616794               scored       False   \n8                       1586273               scored       False   \n9                       1554205               scored       False   \n10                      1652023               scored       False   \n11                      1656622               scored       False   \n\n    learner_assigned_item_attempt_id response_correctness  \n0                            1413322              correct  \n1                            1413319              correct  \n2                            1413324              correct  \n3                            1413317            incorrect  \n4                            1413318              correct  \n5                            1413325              correct  \n6                            1413321            incorrect  \n7                            1413316              correct  \n8                            1413320              correct  \n9                            1413323              correct  \n10                           1413315              correct  \n11                           1413326            incorrect  ",
      "text/html": "<div>\n<style scoped>\n    .dataframe tbody tr th:only-of-type {\n        vertical-align: middle;\n    }\n\n    .dataframe tbody tr th {\n        vertical-align: top;\n    }\n\n    .dataframe thead th {\n        text-align: right;\n    }\n</style>\n<table border=\"1\" class=\"dataframe\">\n  <thead>\n    <tr style=\"text-align: right;\">\n      <th></th>\n      <th>assessment_item_response_id</th>\n      <th>assigned_item_status</th>\n      <th>is_deleted</th>\n      <th>learner_assigned_item_attempt_id</th>\n      <th>response_correctness</th>\n    </tr>\n  </thead>\n  <tbody>\n    <tr>\n      <th>0</th>\n      <td>1596516</td>\n      <td>scored</td>\n      <td>False</td>\n      <td>1413322</td>\n      <td>correct</td>\n    </tr>\n    <tr>\n      <th>1</th>\n      <td>1581835</td>\n      <td>scored</td>\n      <td>False</td>\n      <td>1413319</td>\n      <td>correct</td>\n    </tr>\n    <tr>\n      <th>2</th>\n      <td>1549179</td>\n      <td>scored</td>\n      <td>False</td>\n      <td>1413324</td>\n      <td>correct</td>\n    </tr>\n    <tr>\n      <th>3</th>\n      <td>1547897</td>\n      <td>scored</td>\n      <td>False</td>\n      <td>1413317</td>\n      <td>incorrect</td>\n    </tr>\n    <tr>\n      <th>4</th>\n      <td>1635317</td>\n      <td>scored</td>\n      <td>False</td>\n      <td>1413318</td>\n      <td>correct</td>\n    </tr>\n    <tr>\n      <th>5</th>\n      <td>1585073</td>\n      <td>scored</td>\n      <td>False</td>\n      <td>1413325</td>\n      <td>correct</td>\n    </tr>\n    <tr>\n      <th>6</th>\n      <td>1622897</td>\n      <td>scored</td>\n      <td>False</td>\n      <td>1413321</td>\n      <td>incorrect</td>\n    </tr>\n    <tr>\n      <th>7</th>\n      <td>1616794</td>\n      <td>scored</td>\n      <td>False</td>\n      <td>1413316</td>\n      <td>correct</td>\n    </tr>\n    <tr>\n      <th>8</th>\n      <td>1586273</td>\n      <td>scored</td>\n      <td>False</td>\n      <td>1413320</td>\n      <td>correct</td>\n    </tr>\n    <tr>\n      <th>9</th>\n      <td>1554205</td>\n      <td>scored</td>\n      <td>False</td>\n      <td>1413323</td>\n      <td>correct</td>\n    </tr>\n    <tr>\n      <th>10</th>\n      <td>1652023</td>\n      <td>scored</td>\n      <td>False</td>\n      <td>1413315</td>\n      <td>correct</td>\n    </tr>\n    <tr>\n      <th>11</th>\n      <td>1656622</td>\n      <td>scored</td>\n      <td>False</td>\n      <td>1413326</td>\n      <td>incorrect</td>\n    </tr>\n  </tbody>\n</table>\n</div>"
     },
     "execution_count": 39,
     "metadata": {},
     "output_type": "execute_result"
    }
   ],
   "source": [
    "dfRaw.filter( F.col('assessment_instance_attempt_id') == 1159455 ).select(*cats['itemAttemptVars']).distinct().toPandas()"
   ],
   "metadata": {
    "collapsed": false,
    "pycharm": {
     "name": "#%%\n"
    }
   }
  },
  {
   "cell_type": "code",
   "execution_count": null,
   "outputs": [],
   "source": [],
   "metadata": {
    "collapsed": false,
    "pycharm": {
     "name": "#%%\n"
    }
   }
  }
 ],
 "metadata": {
  "kernelspec": {
   "display_name": "Python 3",
   "language": "python",
   "name": "python3"
  },
  "language_info": {
   "codemirror_mode": {
    "name": "ipython",
    "version": 2
   },
   "file_extension": ".py",
   "mimetype": "text/x-python",
   "name": "python",
   "nbconvert_exporter": "python",
   "pygments_lexer": "ipython2",
   "version": "2.7.6"
  }
 },
 "nbformat": 4,
 "nbformat_minor": 0
}