{
 "cells": [
  {
   "cell_type": "code",
   "execution_count": 16,
   "outputs": [
    {
     "name": "stdout",
     "output_type": "stream",
     "text": [
      "Requirement already satisfied: tinydb in /Users/duane.hinkley/PycharmProjects/c772-capstone-project/venv/lib/python3.6/site-packages (4.2.0)\n"
     ]
    }
   ],
   "source": [
    "%run '../child/libraries.ipynb'"
   ],
   "metadata": {
    "collapsed": false,
    "pycharm": {
     "name": "#%%\n"
    }
   }
  },
  {
   "cell_type": "code",
   "execution_count": 17,
   "outputs": [],
   "source": [
    "dfRaw1 = load_df('dfRaw1')\n",
    "shared = load_dict('shared')"
   ],
   "metadata": {
    "collapsed": false,
    "pycharm": {
     "name": "#%%\n"
    }
   }
  },
  {
   "cell_type": "markdown",
   "source": [
    "###### Display Sample Data"
   ],
   "metadata": {
    "collapsed": false,
    "pycharm": {
     "name": "#%% md\n"
    }
   }
  },
  {
   "cell_type": "code",
   "execution_count": 18,
   "outputs": [
    {
     "data": {
      "text/plain": "   org_id               org_new\n0  349115  Philadelphia Schools\n1  360541        Dallas Schools\n2  360421     San Diego Schools",
      "text/html": "<div>\n<style scoped>\n    .dataframe tbody tr th:only-of-type {\n        vertical-align: middle;\n    }\n\n    .dataframe tbody tr th {\n        vertical-align: top;\n    }\n\n    .dataframe thead th {\n        text-align: right;\n    }\n</style>\n<table border=\"1\" class=\"dataframe\">\n  <thead>\n    <tr style=\"text-align: right;\">\n      <th></th>\n      <th>org_id</th>\n      <th>org_new</th>\n    </tr>\n  </thead>\n  <tbody>\n    <tr>\n      <th>0</th>\n      <td>349115</td>\n      <td>Philadelphia Schools</td>\n    </tr>\n    <tr>\n      <th>1</th>\n      <td>360541</td>\n      <td>Dallas Schools</td>\n    </tr>\n    <tr>\n      <th>2</th>\n      <td>360421</td>\n      <td>San Diego Schools</td>\n    </tr>\n  </tbody>\n</table>\n</div>"
     },
     "execution_count": 18,
     "metadata": {},
     "output_type": "execute_result"
    }
   ],
   "source": [
    "dfRaw1.select(*shared['orgVars'], 'org_new').distinct().toPandas()"
   ],
   "metadata": {
    "collapsed": false,
    "pycharm": {
     "name": "#%%\n"
    }
   }
  },
  {
   "cell_type": "markdown",
   "source": [
    "- 3 organizations"
   ],
   "metadata": {
    "collapsed": false
   }
  },
  {
   "cell_type": "code",
   "execution_count": 19,
   "outputs": [
    {
     "data": {
      "text/plain": "    section_id                     section_new\n0       520208  Christopher Columbus Secondary\n1       499081        Lyndon Johnson Secondary\n2       509045             Queen Victoria Prep\n3       522071        George Clooney Elementry\n4       530503           Lech Walesa Secondary\n5       499028          Paul Krugman Elementry\n6       498967     Margaret Thatcher Elementry\n7       498965      Aung San Suu Kyi Secondary\n8       499023        Ingrid Bergman Elementry\n9       498971            Lance Armstrong High\n10      499094            Anne Frank Elementry\n11      527034           Jon Stewart Secondary\n12      498961            Dalai Lama Elementry\n13      499047     Katherine Hepburn Secondary\n14      498941              Ronald Reagan High\n15      498945                 C.S. Lewis Prep\n16      537231                    Al Gore High\n17      498977          Lionel Messi Elementry",
      "text/html": "<div>\n<style scoped>\n    .dataframe tbody tr th:only-of-type {\n        vertical-align: middle;\n    }\n\n    .dataframe tbody tr th {\n        vertical-align: top;\n    }\n\n    .dataframe thead th {\n        text-align: right;\n    }\n</style>\n<table border=\"1\" class=\"dataframe\">\n  <thead>\n    <tr style=\"text-align: right;\">\n      <th></th>\n      <th>section_id</th>\n      <th>section_new</th>\n    </tr>\n  </thead>\n  <tbody>\n    <tr>\n      <th>0</th>\n      <td>520208</td>\n      <td>Christopher Columbus Secondary</td>\n    </tr>\n    <tr>\n      <th>1</th>\n      <td>499081</td>\n      <td>Lyndon Johnson Secondary</td>\n    </tr>\n    <tr>\n      <th>2</th>\n      <td>509045</td>\n      <td>Queen Victoria Prep</td>\n    </tr>\n    <tr>\n      <th>3</th>\n      <td>522071</td>\n      <td>George Clooney Elementry</td>\n    </tr>\n    <tr>\n      <th>4</th>\n      <td>530503</td>\n      <td>Lech Walesa Secondary</td>\n    </tr>\n    <tr>\n      <th>5</th>\n      <td>499028</td>\n      <td>Paul Krugman Elementry</td>\n    </tr>\n    <tr>\n      <th>6</th>\n      <td>498967</td>\n      <td>Margaret Thatcher Elementry</td>\n    </tr>\n    <tr>\n      <th>7</th>\n      <td>498965</td>\n      <td>Aung San Suu Kyi Secondary</td>\n    </tr>\n    <tr>\n      <th>8</th>\n      <td>499023</td>\n      <td>Ingrid Bergman Elementry</td>\n    </tr>\n    <tr>\n      <th>9</th>\n      <td>498971</td>\n      <td>Lance Armstrong High</td>\n    </tr>\n    <tr>\n      <th>10</th>\n      <td>499094</td>\n      <td>Anne Frank Elementry</td>\n    </tr>\n    <tr>\n      <th>11</th>\n      <td>527034</td>\n      <td>Jon Stewart Secondary</td>\n    </tr>\n    <tr>\n      <th>12</th>\n      <td>498961</td>\n      <td>Dalai Lama Elementry</td>\n    </tr>\n    <tr>\n      <th>13</th>\n      <td>499047</td>\n      <td>Katherine Hepburn Secondary</td>\n    </tr>\n    <tr>\n      <th>14</th>\n      <td>498941</td>\n      <td>Ronald Reagan High</td>\n    </tr>\n    <tr>\n      <th>15</th>\n      <td>498945</td>\n      <td>C.S. Lewis Prep</td>\n    </tr>\n    <tr>\n      <th>16</th>\n      <td>537231</td>\n      <td>Al Gore High</td>\n    </tr>\n    <tr>\n      <th>17</th>\n      <td>498977</td>\n      <td>Lionel Messi Elementry</td>\n    </tr>\n  </tbody>\n</table>\n</div>"
     },
     "execution_count": 19,
     "metadata": {},
     "output_type": "execute_result"
    }
   ],
   "source": [
    "dfRaw1.filter( F.col('org_id') == 360421).select(*shared['sectionVars'], 'section_new').distinct().toPandas()"
   ],
   "metadata": {
    "collapsed": false,
    "pycharm": {
     "name": "#%%\n"
    }
   }
  },
  {
   "cell_type": "markdown",
   "source": [
    "- 18 sections in organization 360421"
   ],
   "metadata": {
    "collapsed": false
   }
  },
  {
   "cell_type": "code",
   "execution_count": 20,
   "outputs": [
    {
     "data": {
      "text/plain": "    learner_id learner_new\n0      1372550       Sucha\n1      1316043     Colleen\n2      1263887      Dorise\n3      1344830    Charlena\n4      1365609    Phillida\n5      1251590      Indira\n6      1249504      Tandie\n7      1248228      Spiros\n8      1355895    Bcspatch\n9      1252768      Marita\n10     1365062       Drona\n11     1332895      Phuong\n12     1248229        Rori\n13     1265162      Werner\n14     1249790       Karil\n15     1249505        Alec\n16     1317535       Maier\n17     1249881      Sissie\n18     1256982       Ronan\n19     1314462      Lettie\n20     1313317     Angelie\n21     1385147    Lisabeth\n22     1332744       Neala\n23     1248093     Donetta",
      "text/html": "<div>\n<style scoped>\n    .dataframe tbody tr th:only-of-type {\n        vertical-align: middle;\n    }\n\n    .dataframe tbody tr th {\n        vertical-align: top;\n    }\n\n    .dataframe thead th {\n        text-align: right;\n    }\n</style>\n<table border=\"1\" class=\"dataframe\">\n  <thead>\n    <tr style=\"text-align: right;\">\n      <th></th>\n      <th>learner_id</th>\n      <th>learner_new</th>\n    </tr>\n  </thead>\n  <tbody>\n    <tr>\n      <th>0</th>\n      <td>1372550</td>\n      <td>Sucha</td>\n    </tr>\n    <tr>\n      <th>1</th>\n      <td>1316043</td>\n      <td>Colleen</td>\n    </tr>\n    <tr>\n      <th>2</th>\n      <td>1263887</td>\n      <td>Dorise</td>\n    </tr>\n    <tr>\n      <th>3</th>\n      <td>1344830</td>\n      <td>Charlena</td>\n    </tr>\n    <tr>\n      <th>4</th>\n      <td>1365609</td>\n      <td>Phillida</td>\n    </tr>\n    <tr>\n      <th>5</th>\n      <td>1251590</td>\n      <td>Indira</td>\n    </tr>\n    <tr>\n      <th>6</th>\n      <td>1249504</td>\n      <td>Tandie</td>\n    </tr>\n    <tr>\n      <th>7</th>\n      <td>1248228</td>\n      <td>Spiros</td>\n    </tr>\n    <tr>\n      <th>8</th>\n      <td>1355895</td>\n      <td>Bcspatch</td>\n    </tr>\n    <tr>\n      <th>9</th>\n      <td>1252768</td>\n      <td>Marita</td>\n    </tr>\n    <tr>\n      <th>10</th>\n      <td>1365062</td>\n      <td>Drona</td>\n    </tr>\n    <tr>\n      <th>11</th>\n      <td>1332895</td>\n      <td>Phuong</td>\n    </tr>\n    <tr>\n      <th>12</th>\n      <td>1248229</td>\n      <td>Rori</td>\n    </tr>\n    <tr>\n      <th>13</th>\n      <td>1265162</td>\n      <td>Werner</td>\n    </tr>\n    <tr>\n      <th>14</th>\n      <td>1249790</td>\n      <td>Karil</td>\n    </tr>\n    <tr>\n      <th>15</th>\n      <td>1249505</td>\n      <td>Alec</td>\n    </tr>\n    <tr>\n      <th>16</th>\n      <td>1317535</td>\n      <td>Maier</td>\n    </tr>\n    <tr>\n      <th>17</th>\n      <td>1249881</td>\n      <td>Sissie</td>\n    </tr>\n    <tr>\n      <th>18</th>\n      <td>1256982</td>\n      <td>Ronan</td>\n    </tr>\n    <tr>\n      <th>19</th>\n      <td>1314462</td>\n      <td>Lettie</td>\n    </tr>\n    <tr>\n      <th>20</th>\n      <td>1313317</td>\n      <td>Angelie</td>\n    </tr>\n    <tr>\n      <th>21</th>\n      <td>1385147</td>\n      <td>Lisabeth</td>\n    </tr>\n    <tr>\n      <th>22</th>\n      <td>1332744</td>\n      <td>Neala</td>\n    </tr>\n    <tr>\n      <th>23</th>\n      <td>1248093</td>\n      <td>Donetta</td>\n    </tr>\n  </tbody>\n</table>\n</div>"
     },
     "execution_count": 20,
     "metadata": {},
     "output_type": "execute_result"
    }
   ],
   "source": [
    "dfRaw1.filter( F.col('section_id') == 498941).select(*shared['learnerVars'], 'learner_new').distinct().toPandas()"
   ],
   "metadata": {
    "collapsed": false,
    "pycharm": {
     "name": "#%%\n"
    }
   }
  },
  {
   "cell_type": "markdown",
   "source": [
    "- 24 learners in section 498941"
   ],
   "metadata": {
    "collapsed": false
   }
  },
  {
   "cell_type": "code",
   "execution_count": 21,
   "outputs": [
    {
     "data": {
      "text/plain": "   assessment_id  assessment_instance_id            assessment_new\n0         720511                  813988             Odds And Ends\n1         720657                  799125           The Early Earth\n2         720591                  878024      I Love The Nightlife\n3         720761                  879857         Those Funny Brits\n4         721235                  876562    Transportation In Song\n5         721038                  846625  Hail, Hail Rock 'N' Roll",
      "text/html": "<div>\n<style scoped>\n    .dataframe tbody tr th:only-of-type {\n        vertical-align: middle;\n    }\n\n    .dataframe tbody tr th {\n        vertical-align: top;\n    }\n\n    .dataframe thead th {\n        text-align: right;\n    }\n</style>\n<table border=\"1\" class=\"dataframe\">\n  <thead>\n    <tr style=\"text-align: right;\">\n      <th></th>\n      <th>assessment_id</th>\n      <th>assessment_instance_id</th>\n      <th>assessment_new</th>\n    </tr>\n  </thead>\n  <tbody>\n    <tr>\n      <th>0</th>\n      <td>720511</td>\n      <td>813988</td>\n      <td>Odds And Ends</td>\n    </tr>\n    <tr>\n      <th>1</th>\n      <td>720657</td>\n      <td>799125</td>\n      <td>The Early Earth</td>\n    </tr>\n    <tr>\n      <th>2</th>\n      <td>720591</td>\n      <td>878024</td>\n      <td>I Love The Nightlife</td>\n    </tr>\n    <tr>\n      <th>3</th>\n      <td>720761</td>\n      <td>879857</td>\n      <td>Those Funny Brits</td>\n    </tr>\n    <tr>\n      <th>4</th>\n      <td>721235</td>\n      <td>876562</td>\n      <td>Transportation In Song</td>\n    </tr>\n    <tr>\n      <th>5</th>\n      <td>721038</td>\n      <td>846625</td>\n      <td>Hail, Hail Rock 'N' Roll</td>\n    </tr>\n  </tbody>\n</table>\n</div>"
     },
     "execution_count": 21,
     "metadata": {},
     "output_type": "execute_result"
    }
   ],
   "source": [
    "dfRaw1.filter( F.col('section_id') == 498941).select(*shared['assessmentVars'], 'assessment_new').distinct().toPandas()"
   ],
   "metadata": {
    "collapsed": false,
    "pycharm": {
     "name": "#%%\n"
    }
   }
  },
  {
   "cell_type": "markdown",
   "source": [
    "- 6 assessments in section 498941"
   ],
   "metadata": {
    "collapsed": false
   }
  },
  {
   "cell_type": "markdown",
   "source": [
    "###### Display Assignments for Section 498941"
   ],
   "metadata": {
    "collapsed": false
   }
  },
  {
   "cell_type": "code",
   "execution_count": 22,
   "outputs": [
    {
     "data": {
      "text/plain": "             assessment_new  assignment_due_date  \\\n0  Hail, Hail Rock 'N' Roll  2019-10-30 04:59:00   \n1           The Early Earth  2019-11-06 05:59:00   \n2      I Love The Nightlife  2020-01-18 05:59:00   \n3             Odds And Ends  2020-02-15 05:59:00   \n4    Transportation In Song  2020-02-29 05:59:00   \n5         Those Funny Brits  2020-04-12 04:59:00   \n\n  assignment_final_submission_date  assignment_late_submission  \\\n0              2019-10-30 04:59:00                       False   \n1              2019-11-06 05:59:00                       False   \n2              2020-01-18 05:59:00                       False   \n3              2020-02-15 05:59:00                       False   \n4              2020-02-29 05:59:00                       False   \n5              2020-04-12 04:59:00                       False   \n\n   assignment_max_attempts assignment_start_date ced_assignment_type_code  \\\n0                        1   2019-10-28 05:00:00                      clo   \n1                        1   2019-10-31 05:00:00               assessment   \n2                        1   2020-01-16 06:00:00               assessment   \n3                        1   2020-02-13 06:00:00               assessment   \n4                        1   2020-02-27 06:00:00               assessment   \n5                        1   2020-04-09 05:00:00               assessment   \n\n   is_affecting_grade   max_student_stop_datetime  min_student_start_datetime  \\\n0                True  2019-11-16 04:09:25.260000  2019-10-28 19:49:28.028000   \n1                True  2019-11-05 23:21:59.287000  2019-10-31 19:19:21.510000   \n2                True  2020-01-17 20:11:14.079000  2020-01-16 20:18:26.011000   \n3                True         2999-01-01 00:00:00         1900-01-01 00:00:00   \n4                True  2020-02-29 06:00:06.925000  2020-02-27 21:04:03.241000   \n5                True  2020-04-12 04:59:13.840000  2020-04-09 17:00:20.741000   \n\n   number_of_distinct_instance_items  number_of_learners  \n0                                  2                  27  \n1                                 18                  27  \n2                                 19                  23  \n3                                  9                  23  \n4                                 10                  22  \n5                                 12                  23  ",
      "text/html": "<div>\n<style scoped>\n    .dataframe tbody tr th:only-of-type {\n        vertical-align: middle;\n    }\n\n    .dataframe tbody tr th {\n        vertical-align: top;\n    }\n\n    .dataframe thead th {\n        text-align: right;\n    }\n</style>\n<table border=\"1\" class=\"dataframe\">\n  <thead>\n    <tr style=\"text-align: right;\">\n      <th></th>\n      <th>assessment_new</th>\n      <th>assignment_due_date</th>\n      <th>assignment_final_submission_date</th>\n      <th>assignment_late_submission</th>\n      <th>assignment_max_attempts</th>\n      <th>assignment_start_date</th>\n      <th>ced_assignment_type_code</th>\n      <th>is_affecting_grade</th>\n      <th>max_student_stop_datetime</th>\n      <th>min_student_start_datetime</th>\n      <th>number_of_distinct_instance_items</th>\n      <th>number_of_learners</th>\n    </tr>\n  </thead>\n  <tbody>\n    <tr>\n      <th>0</th>\n      <td>Hail, Hail Rock 'N' Roll</td>\n      <td>2019-10-30 04:59:00</td>\n      <td>2019-10-30 04:59:00</td>\n      <td>False</td>\n      <td>1</td>\n      <td>2019-10-28 05:00:00</td>\n      <td>clo</td>\n      <td>True</td>\n      <td>2019-11-16 04:09:25.260000</td>\n      <td>2019-10-28 19:49:28.028000</td>\n      <td>2</td>\n      <td>27</td>\n    </tr>\n    <tr>\n      <th>1</th>\n      <td>The Early Earth</td>\n      <td>2019-11-06 05:59:00</td>\n      <td>2019-11-06 05:59:00</td>\n      <td>False</td>\n      <td>1</td>\n      <td>2019-10-31 05:00:00</td>\n      <td>assessment</td>\n      <td>True</td>\n      <td>2019-11-05 23:21:59.287000</td>\n      <td>2019-10-31 19:19:21.510000</td>\n      <td>18</td>\n      <td>27</td>\n    </tr>\n    <tr>\n      <th>2</th>\n      <td>I Love The Nightlife</td>\n      <td>2020-01-18 05:59:00</td>\n      <td>2020-01-18 05:59:00</td>\n      <td>False</td>\n      <td>1</td>\n      <td>2020-01-16 06:00:00</td>\n      <td>assessment</td>\n      <td>True</td>\n      <td>2020-01-17 20:11:14.079000</td>\n      <td>2020-01-16 20:18:26.011000</td>\n      <td>19</td>\n      <td>23</td>\n    </tr>\n    <tr>\n      <th>3</th>\n      <td>Odds And Ends</td>\n      <td>2020-02-15 05:59:00</td>\n      <td>2020-02-15 05:59:00</td>\n      <td>False</td>\n      <td>1</td>\n      <td>2020-02-13 06:00:00</td>\n      <td>assessment</td>\n      <td>True</td>\n      <td>2999-01-01 00:00:00</td>\n      <td>1900-01-01 00:00:00</td>\n      <td>9</td>\n      <td>23</td>\n    </tr>\n    <tr>\n      <th>4</th>\n      <td>Transportation In Song</td>\n      <td>2020-02-29 05:59:00</td>\n      <td>2020-02-29 05:59:00</td>\n      <td>False</td>\n      <td>1</td>\n      <td>2020-02-27 06:00:00</td>\n      <td>assessment</td>\n      <td>True</td>\n      <td>2020-02-29 06:00:06.925000</td>\n      <td>2020-02-27 21:04:03.241000</td>\n      <td>10</td>\n      <td>22</td>\n    </tr>\n    <tr>\n      <th>5</th>\n      <td>Those Funny Brits</td>\n      <td>2020-04-12 04:59:00</td>\n      <td>2020-04-12 04:59:00</td>\n      <td>False</td>\n      <td>1</td>\n      <td>2020-04-09 05:00:00</td>\n      <td>assessment</td>\n      <td>True</td>\n      <td>2020-04-12 04:59:13.840000</td>\n      <td>2020-04-09 17:00:20.741000</td>\n      <td>12</td>\n      <td>23</td>\n    </tr>\n  </tbody>\n</table>\n</div>"
     },
     "execution_count": 22,
     "metadata": {},
     "output_type": "execute_result"
    }
   ],
   "source": [
    "dfRaw1.filter( F.col('section_id') == 498941).select('assessment_new', *shared['assignmentVars']).distinct().orderBy('assignment_due_date').toPandas()"
   ],
   "metadata": {
    "collapsed": false,
    "pycharm": {
     "name": "#%%\n"
    }
   }
  },
  {
   "cell_type": "markdown",
   "source": [
    "- 6 assignments (one for each assessment) in section 498941"
   ],
   "metadata": {
    "collapsed": false
   }
  },
  {
   "cell_type": "markdown",
   "source": [
    "###### Display Assignment Items for Assessment 720657 of Section 498941"
   ],
   "metadata": {
    "collapsed": false
   }
  },
  {
   "cell_type": "code",
   "execution_count": 23,
   "outputs": [
    {
     "data": {
      "text/plain": "   item_is_offline_scored item_type_code_name scoring_type_code\n0                   False                None      [unassigned]\n1                    True           trueFalse         automatic\n2                   False      multipleChoice         automatic\n3                   False            matching         automatic\n4                   False               essay      [unassigned]\n5                   False         shortAnswer      [unassigned]\n6                   False           trueFalse         automatic",
      "text/html": "<div>\n<style scoped>\n    .dataframe tbody tr th:only-of-type {\n        vertical-align: middle;\n    }\n\n    .dataframe tbody tr th {\n        vertical-align: top;\n    }\n\n    .dataframe thead th {\n        text-align: right;\n    }\n</style>\n<table border=\"1\" class=\"dataframe\">\n  <thead>\n    <tr style=\"text-align: right;\">\n      <th></th>\n      <th>item_is_offline_scored</th>\n      <th>item_type_code_name</th>\n      <th>scoring_type_code</th>\n    </tr>\n  </thead>\n  <tbody>\n    <tr>\n      <th>0</th>\n      <td>False</td>\n      <td>None</td>\n      <td>[unassigned]</td>\n    </tr>\n    <tr>\n      <th>1</th>\n      <td>True</td>\n      <td>trueFalse</td>\n      <td>automatic</td>\n    </tr>\n    <tr>\n      <th>2</th>\n      <td>False</td>\n      <td>multipleChoice</td>\n      <td>automatic</td>\n    </tr>\n    <tr>\n      <th>3</th>\n      <td>False</td>\n      <td>matching</td>\n      <td>automatic</td>\n    </tr>\n    <tr>\n      <th>4</th>\n      <td>False</td>\n      <td>essay</td>\n      <td>[unassigned]</td>\n    </tr>\n    <tr>\n      <th>5</th>\n      <td>False</td>\n      <td>shortAnswer</td>\n      <td>[unassigned]</td>\n    </tr>\n    <tr>\n      <th>6</th>\n      <td>False</td>\n      <td>trueFalse</td>\n      <td>automatic</td>\n    </tr>\n  </tbody>\n</table>\n</div>"
     },
     "execution_count": 23,
     "metadata": {},
     "output_type": "execute_result"
    }
   ],
   "source": [
    "dfRaw1.filter( F.col('assessment_id') == 720657).select(*shared['itemVars']).distinct().toPandas()"
   ],
   "metadata": {
    "collapsed": false,
    "pycharm": {
     "name": "#%%\n"
    }
   }
  },
  {
   "cell_type": "markdown",
   "source": [
    "- 7 items in assessment 720657\n",
    "- 1 item (true/false) is offline scored\n",
    "- 4 items automatice scoring code and 3 unassigned"
   ],
   "metadata": {
    "collapsed": false
   }
  },
  {
   "cell_type": "markdown",
   "source": [
    "###### Display Assignment Attempt for Attempt 1115526"
   ],
   "metadata": {
    "collapsed": false
   }
  },
  {
   "cell_type": "code",
   "execution_count": 24,
   "outputs": [
    {
     "data": {
      "text/plain": "   assessment_instance_attempt_id  assignment_attempt_number  \\\n0                         1115526                          1   \n\n   final_score_unweighted  is_force_scored  is_manual_scoring_required  \\\n0                       0            False                       False   \n\n   learner_assignment_attempt_id learner_attempt_status  \\\n0                        1050015            in progress   \n\n   points_possible_unweighted         scored_datetime  \\\n0                        39.0  2999-01-01 00:00:00+00   \n\n       student_start_datetime student_stop_datetime was_fully_scored_datetime  \\\n0  2019-11-03 22:41:04.219000   2999-01-01 00:00:00       2999-01-01 00:00:00   \n\n     was_in_progress_datetime was_submitted_datetime_actual  \n0  2019-11-03 22:41:04.219000           2999-01-01 00:00:00  ",
      "text/html": "<div>\n<style scoped>\n    .dataframe tbody tr th:only-of-type {\n        vertical-align: middle;\n    }\n\n    .dataframe tbody tr th {\n        vertical-align: top;\n    }\n\n    .dataframe thead th {\n        text-align: right;\n    }\n</style>\n<table border=\"1\" class=\"dataframe\">\n  <thead>\n    <tr style=\"text-align: right;\">\n      <th></th>\n      <th>assessment_instance_attempt_id</th>\n      <th>assignment_attempt_number</th>\n      <th>final_score_unweighted</th>\n      <th>is_force_scored</th>\n      <th>is_manual_scoring_required</th>\n      <th>learner_assignment_attempt_id</th>\n      <th>learner_attempt_status</th>\n      <th>points_possible_unweighted</th>\n      <th>scored_datetime</th>\n      <th>student_start_datetime</th>\n      <th>student_stop_datetime</th>\n      <th>was_fully_scored_datetime</th>\n      <th>was_in_progress_datetime</th>\n      <th>was_submitted_datetime_actual</th>\n    </tr>\n  </thead>\n  <tbody>\n    <tr>\n      <th>0</th>\n      <td>1115526</td>\n      <td>1</td>\n      <td>0</td>\n      <td>False</td>\n      <td>False</td>\n      <td>1050015</td>\n      <td>in progress</td>\n      <td>39.0</td>\n      <td>2999-01-01 00:00:00+00</td>\n      <td>2019-11-03 22:41:04.219000</td>\n      <td>2999-01-01 00:00:00</td>\n      <td>2999-01-01 00:00:00</td>\n      <td>2019-11-03 22:41:04.219000</td>\n      <td>2999-01-01 00:00:00</td>\n    </tr>\n  </tbody>\n</table>\n</div>"
     },
     "execution_count": 24,
     "metadata": {},
     "output_type": "execute_result"
    }
   ],
   "source": [
    "dfRaw1.filter( F.col('assessment_instance_attempt_id') == 1115526 ).select(*shared['assignmentAttemptVars']).distinct().toPandas()"
   ],
   "metadata": {
    "collapsed": false,
    "pycharm": {
     "name": "#%%\n"
    }
   }
  },
  {
   "cell_type": "markdown",
   "source": [
    "- Attempt is in progress (not finished)\n",
    "- Empty (default) scored_datetime, student_stop_datetime, was_fully_scored_datetime, was_submitted_datetime_actual\n",
    "- Final score is 0\n",
    "- Same values in student_start_datetime and was_in_progress_datetime"
   ],
   "metadata": {
    "collapsed": false
   }
  },
  {
   "cell_type": "markdown",
   "source": [
    "###### Display Assignment Attempt for Attempt 1159455"
   ],
   "metadata": {
    "collapsed": false
   }
  },
  {
   "cell_type": "code",
   "execution_count": 25,
   "outputs": [
    {
     "data": {
      "text/plain": "   assessment_instance_attempt_id  assignment_attempt_number  \\\n0                         1159455                          1   \n\n   final_score_unweighted  is_force_scored  is_manual_scoring_required  \\\n0                       9            False                       False   \n\n   learner_assignment_attempt_id learner_attempt_status  \\\n0                         965818           fully scored   \n\n   points_possible_unweighted         scored_datetime  \\\n0                        12.0  2020-04-11 03:59:35+00   \n\n       student_start_datetime       student_stop_datetime  \\\n0  2020-04-09 18:30:43.079000  2020-04-11 03:59:35.992000   \n\n  was_fully_scored_datetime    was_in_progress_datetime  \\\n0       2020-04-11 03:59:35  2020-04-09 18:30:43.079000   \n\n  was_submitted_datetime_actual  \n0    2020-04-11 03:59:35.992000  ",
      "text/html": "<div>\n<style scoped>\n    .dataframe tbody tr th:only-of-type {\n        vertical-align: middle;\n    }\n\n    .dataframe tbody tr th {\n        vertical-align: top;\n    }\n\n    .dataframe thead th {\n        text-align: right;\n    }\n</style>\n<table border=\"1\" class=\"dataframe\">\n  <thead>\n    <tr style=\"text-align: right;\">\n      <th></th>\n      <th>assessment_instance_attempt_id</th>\n      <th>assignment_attempt_number</th>\n      <th>final_score_unweighted</th>\n      <th>is_force_scored</th>\n      <th>is_manual_scoring_required</th>\n      <th>learner_assignment_attempt_id</th>\n      <th>learner_attempt_status</th>\n      <th>points_possible_unweighted</th>\n      <th>scored_datetime</th>\n      <th>student_start_datetime</th>\n      <th>student_stop_datetime</th>\n      <th>was_fully_scored_datetime</th>\n      <th>was_in_progress_datetime</th>\n      <th>was_submitted_datetime_actual</th>\n    </tr>\n  </thead>\n  <tbody>\n    <tr>\n      <th>0</th>\n      <td>1159455</td>\n      <td>1</td>\n      <td>9</td>\n      <td>False</td>\n      <td>False</td>\n      <td>965818</td>\n      <td>fully scored</td>\n      <td>12.0</td>\n      <td>2020-04-11 03:59:35+00</td>\n      <td>2020-04-09 18:30:43.079000</td>\n      <td>2020-04-11 03:59:35.992000</td>\n      <td>2020-04-11 03:59:35</td>\n      <td>2020-04-09 18:30:43.079000</td>\n      <td>2020-04-11 03:59:35.992000</td>\n    </tr>\n  </tbody>\n</table>\n</div>"
     },
     "execution_count": 25,
     "metadata": {},
     "output_type": "execute_result"
    }
   ],
   "source": [
    "dfRaw1.filter( F.col('assessment_instance_attempt_id') == 1159455 ).select(*shared['assignmentAttemptVars']).distinct().toPandas()"
   ],
   "metadata": {
    "collapsed": false,
    "pycharm": {
     "name": "#%%\n"
    }
   }
  },
  {
   "cell_type": "markdown",
   "source": [
    "- Attempt is finished (fully scored)"
   ],
   "metadata": {
    "collapsed": false
   }
  },
  {
   "cell_type": "markdown",
   "source": [
    "###### Display Assignment Attempt Items for Attempt 1115526"
   ],
   "metadata": {
    "collapsed": false
   }
  },
  {
   "cell_type": "code",
   "execution_count": 26,
   "outputs": [
    {
     "data": {
      "text/plain": "    assessment_item_response_id assigned_item_status  is_deleted  \\\n0                     1572894.0               scored       False   \n1                     1592595.0               scored       False   \n2                     1626110.0               scored       False   \n3                     1571371.0               scored       False   \n4                     1561797.0               scored       False   \n5                     1616296.0               scored       False   \n6                     1571743.0               scored       False   \n7                     1556172.0               scored       False   \n8                     1652901.0               scored       False   \n9                     1631451.0               scored       False   \n10                    1664219.0               scored       False   \n11                    1610844.0               scored       False   \n12                    1568785.0               scored       False   \n13                    1609716.0               scored       False   \n14                    1627468.0               scored       False   \n15                          NaN            delivered       False   \n\n    learner_assigned_item_attempt_id response_correctness  \n0                            1531985              correct  \n1                            1532003              correct  \n2                            1532004              correct  \n3                            1531981            incorrect  \n4                            1531983            incorrect  \n5                            1531998            incorrect  \n6                            1532001              correct  \n7                            1532002              correct  \n8                            1532000            incorrect  \n9                            1531984            incorrect  \n10                           1531979              correct  \n11                           1531970              correct  \n12                           1531980            incorrect  \n13                           1531982    partially_correct  \n14                           1531978            incorrect  \n15                           1531999                 None  ",
      "text/html": "<div>\n<style scoped>\n    .dataframe tbody tr th:only-of-type {\n        vertical-align: middle;\n    }\n\n    .dataframe tbody tr th {\n        vertical-align: top;\n    }\n\n    .dataframe thead th {\n        text-align: right;\n    }\n</style>\n<table border=\"1\" class=\"dataframe\">\n  <thead>\n    <tr style=\"text-align: right;\">\n      <th></th>\n      <th>assessment_item_response_id</th>\n      <th>assigned_item_status</th>\n      <th>is_deleted</th>\n      <th>learner_assigned_item_attempt_id</th>\n      <th>response_correctness</th>\n    </tr>\n  </thead>\n  <tbody>\n    <tr>\n      <th>0</th>\n      <td>1572894.0</td>\n      <td>scored</td>\n      <td>False</td>\n      <td>1531985</td>\n      <td>correct</td>\n    </tr>\n    <tr>\n      <th>1</th>\n      <td>1592595.0</td>\n      <td>scored</td>\n      <td>False</td>\n      <td>1532003</td>\n      <td>correct</td>\n    </tr>\n    <tr>\n      <th>2</th>\n      <td>1626110.0</td>\n      <td>scored</td>\n      <td>False</td>\n      <td>1532004</td>\n      <td>correct</td>\n    </tr>\n    <tr>\n      <th>3</th>\n      <td>1571371.0</td>\n      <td>scored</td>\n      <td>False</td>\n      <td>1531981</td>\n      <td>incorrect</td>\n    </tr>\n    <tr>\n      <th>4</th>\n      <td>1561797.0</td>\n      <td>scored</td>\n      <td>False</td>\n      <td>1531983</td>\n      <td>incorrect</td>\n    </tr>\n    <tr>\n      <th>5</th>\n      <td>1616296.0</td>\n      <td>scored</td>\n      <td>False</td>\n      <td>1531998</td>\n      <td>incorrect</td>\n    </tr>\n    <tr>\n      <th>6</th>\n      <td>1571743.0</td>\n      <td>scored</td>\n      <td>False</td>\n      <td>1532001</td>\n      <td>correct</td>\n    </tr>\n    <tr>\n      <th>7</th>\n      <td>1556172.0</td>\n      <td>scored</td>\n      <td>False</td>\n      <td>1532002</td>\n      <td>correct</td>\n    </tr>\n    <tr>\n      <th>8</th>\n      <td>1652901.0</td>\n      <td>scored</td>\n      <td>False</td>\n      <td>1532000</td>\n      <td>incorrect</td>\n    </tr>\n    <tr>\n      <th>9</th>\n      <td>1631451.0</td>\n      <td>scored</td>\n      <td>False</td>\n      <td>1531984</td>\n      <td>incorrect</td>\n    </tr>\n    <tr>\n      <th>10</th>\n      <td>1664219.0</td>\n      <td>scored</td>\n      <td>False</td>\n      <td>1531979</td>\n      <td>correct</td>\n    </tr>\n    <tr>\n      <th>11</th>\n      <td>1610844.0</td>\n      <td>scored</td>\n      <td>False</td>\n      <td>1531970</td>\n      <td>correct</td>\n    </tr>\n    <tr>\n      <th>12</th>\n      <td>1568785.0</td>\n      <td>scored</td>\n      <td>False</td>\n      <td>1531980</td>\n      <td>incorrect</td>\n    </tr>\n    <tr>\n      <th>13</th>\n      <td>1609716.0</td>\n      <td>scored</td>\n      <td>False</td>\n      <td>1531982</td>\n      <td>partially_correct</td>\n    </tr>\n    <tr>\n      <th>14</th>\n      <td>1627468.0</td>\n      <td>scored</td>\n      <td>False</td>\n      <td>1531978</td>\n      <td>incorrect</td>\n    </tr>\n    <tr>\n      <th>15</th>\n      <td>NaN</td>\n      <td>delivered</td>\n      <td>False</td>\n      <td>1531999</td>\n      <td>None</td>\n    </tr>\n  </tbody>\n</table>\n</div>"
     },
     "execution_count": 26,
     "metadata": {},
     "output_type": "execute_result"
    }
   ],
   "source": [
    "dfRaw1.filter( F.col('assessment_instance_attempt_id') == 1115526 ).select(*shared['itemAttemptVars']).distinct().toPandas()"
   ],
   "metadata": {
    "collapsed": false,
    "pycharm": {
     "name": "#%%\n"
    }
   }
  },
  {
   "cell_type": "markdown",
   "source": [
    "- 16 observations\n",
    "- 15 answered (scored)\n",
    "  - 7 correct\n",
    "  - 7 incorrect\n",
    "  - 1 partically correct\n",
    "- 1 not answered (delivered)\n",
    "  - assessment not completed"
   ],
   "metadata": {
    "collapsed": false
   }
  },
  {
   "cell_type": "markdown",
   "source": [
    "###### Display Assignment Attempt Items for Attempt 1159455"
   ],
   "metadata": {
    "collapsed": false
   }
  },
  {
   "cell_type": "code",
   "execution_count": 27,
   "outputs": [
    {
     "data": {
      "text/plain": "    assessment_item_response_id assigned_item_status  is_deleted  \\\n0                       1596516               scored       False   \n1                       1581835               scored       False   \n2                       1549179               scored       False   \n3                       1547897               scored       False   \n4                       1635317               scored       False   \n5                       1585073               scored       False   \n6                       1622897               scored       False   \n7                       1616794               scored       False   \n8                       1586273               scored       False   \n9                       1554205               scored       False   \n10                      1652023               scored       False   \n11                      1656622               scored       False   \n\n    learner_assigned_item_attempt_id response_correctness  \n0                            1413322              correct  \n1                            1413319              correct  \n2                            1413324              correct  \n3                            1413317            incorrect  \n4                            1413318              correct  \n5                            1413325              correct  \n6                            1413321            incorrect  \n7                            1413316              correct  \n8                            1413320              correct  \n9                            1413323              correct  \n10                           1413315              correct  \n11                           1413326            incorrect  ",
      "text/html": "<div>\n<style scoped>\n    .dataframe tbody tr th:only-of-type {\n        vertical-align: middle;\n    }\n\n    .dataframe tbody tr th {\n        vertical-align: top;\n    }\n\n    .dataframe thead th {\n        text-align: right;\n    }\n</style>\n<table border=\"1\" class=\"dataframe\">\n  <thead>\n    <tr style=\"text-align: right;\">\n      <th></th>\n      <th>assessment_item_response_id</th>\n      <th>assigned_item_status</th>\n      <th>is_deleted</th>\n      <th>learner_assigned_item_attempt_id</th>\n      <th>response_correctness</th>\n    </tr>\n  </thead>\n  <tbody>\n    <tr>\n      <th>0</th>\n      <td>1596516</td>\n      <td>scored</td>\n      <td>False</td>\n      <td>1413322</td>\n      <td>correct</td>\n    </tr>\n    <tr>\n      <th>1</th>\n      <td>1581835</td>\n      <td>scored</td>\n      <td>False</td>\n      <td>1413319</td>\n      <td>correct</td>\n    </tr>\n    <tr>\n      <th>2</th>\n      <td>1549179</td>\n      <td>scored</td>\n      <td>False</td>\n      <td>1413324</td>\n      <td>correct</td>\n    </tr>\n    <tr>\n      <th>3</th>\n      <td>1547897</td>\n      <td>scored</td>\n      <td>False</td>\n      <td>1413317</td>\n      <td>incorrect</td>\n    </tr>\n    <tr>\n      <th>4</th>\n      <td>1635317</td>\n      <td>scored</td>\n      <td>False</td>\n      <td>1413318</td>\n      <td>correct</td>\n    </tr>\n    <tr>\n      <th>5</th>\n      <td>1585073</td>\n      <td>scored</td>\n      <td>False</td>\n      <td>1413325</td>\n      <td>correct</td>\n    </tr>\n    <tr>\n      <th>6</th>\n      <td>1622897</td>\n      <td>scored</td>\n      <td>False</td>\n      <td>1413321</td>\n      <td>incorrect</td>\n    </tr>\n    <tr>\n      <th>7</th>\n      <td>1616794</td>\n      <td>scored</td>\n      <td>False</td>\n      <td>1413316</td>\n      <td>correct</td>\n    </tr>\n    <tr>\n      <th>8</th>\n      <td>1586273</td>\n      <td>scored</td>\n      <td>False</td>\n      <td>1413320</td>\n      <td>correct</td>\n    </tr>\n    <tr>\n      <th>9</th>\n      <td>1554205</td>\n      <td>scored</td>\n      <td>False</td>\n      <td>1413323</td>\n      <td>correct</td>\n    </tr>\n    <tr>\n      <th>10</th>\n      <td>1652023</td>\n      <td>scored</td>\n      <td>False</td>\n      <td>1413315</td>\n      <td>correct</td>\n    </tr>\n    <tr>\n      <th>11</th>\n      <td>1656622</td>\n      <td>scored</td>\n      <td>False</td>\n      <td>1413326</td>\n      <td>incorrect</td>\n    </tr>\n  </tbody>\n</table>\n</div>"
     },
     "execution_count": 27,
     "metadata": {},
     "output_type": "execute_result"
    }
   ],
   "source": [
    "dfRaw1.filter( F.col('assessment_instance_attempt_id') == 1159455 ).select(*shared['itemAttemptVars']).distinct().toPandas()"
   ],
   "metadata": {
    "collapsed": false,
    "pycharm": {
     "name": "#%%\n"
    }
   }
  },
  {
   "cell_type": "code",
   "execution_count": null,
   "outputs": [],
   "source": [],
   "metadata": {
    "collapsed": false,
    "pycharm": {
     "name": "#%%\n"
    }
   }
  }
 ],
 "metadata": {
  "kernelspec": {
   "display_name": "Python 3",
   "language": "python",
   "name": "python3"
  },
  "language_info": {
   "codemirror_mode": {
    "name": "ipython",
    "version": 2
   },
   "file_extension": ".py",
   "mimetype": "text/x-python",
   "name": "python",
   "nbconvert_exporter": "python",
   "pygments_lexer": "ipython2",
   "version": "2.7.6"
  }
 },
 "nbformat": 4,
 "nbformat_minor": 0
}