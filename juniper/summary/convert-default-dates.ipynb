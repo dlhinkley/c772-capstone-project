{
 "cells": [
  {
   "cell_type": "code",
   "execution_count": 1,
   "metadata": {
    "collapsed": true
   },
   "outputs": [
    {
     "name": "stdout",
     "output_type": "stream",
     "text": [
      "Requirement already satisfied: tinydb in /Users/duane.hinkley/PycharmProjects/c772-capstone-project/venv/lib/python3.6/site-packages (4.2.0)\n"
     ]
    }
   ],
   "source": [
    "%run '../child/libraries.ipynb'"
   ]
  },
  {
   "cell_type": "code",
   "execution_count": 5,
   "outputs": [],
   "source": [
    "dfFlt = load_df('dfFlt')\n",
    "shared1 = load_dict('shared1')"
   ],
   "metadata": {
    "collapsed": false,
    "pycharm": {
     "name": "#%%\n"
    }
   }
  },
  {
   "cell_type": "code",
   "execution_count": 6,
   "outputs": [],
   "source": [
    "dfFlt1 = dfFlt"
   ],
   "metadata": {
    "collapsed": false,
    "pycharm": {
     "name": "#%%\n"
    }
   }
  },
  {
   "cell_type": "markdown",
   "source": [
    "### Convert Default / Empty Dates to NULL"
   ],
   "metadata": {
    "collapsed": false
   }
  },
  {
   "cell_type": "code",
   "execution_count": 8,
   "outputs": [
    {
     "name": "stdout",
     "output_type": "stream",
     "text": [
      "assignment_due_date = 1566\n",
      "assignment_final_submission_date = 1566\n",
      "assignment_start_date = 1566\n",
      "scored_datetime = 3422\n",
      "student_start_datetime = 749\n",
      "student_stop_datetime = 749\n",
      "was_fully_scored_datetime = 750\n",
      "was_in_progress_datetime = 9965\n",
      "was_submitted_datetime_actual = 18469\n"
     ]
    }
   ],
   "source": [
    "# Count Default / Empty Dates\n",
    "def report_defaults():\n",
    "    for f in shared1['intervalVars']:\n",
    "      row = dfFlt1.filter( F.abs(F.months_between(F.col(f), F.current_timestamp() )) > 30 ).select(F.count(f).alias(\"null\")).collect()\n",
    "      found = row[0][0]\n",
    "      if (found > 0):\n",
    "        print (f,\"=\", found)\n",
    "\n",
    "report_defaults()"
   ],
   "metadata": {
    "collapsed": false,
    "pycharm": {
     "name": "#%%\n"
    }
   }
  },
  {
   "cell_type": "code",
   "execution_count": 9,
   "outputs": [],
   "source": [
    "# Set empty dates to null\n",
    "def set_empty_null():\n",
    "    global dfFlt1\n",
    "    for f in shared1['intervalVars']:\n",
    "      # Change to empty if date is more than 30 months in past or future\n",
    "      dfFlt1 = dfFlt1.withColumn(f, F.when( F.abs(F.months_between(F.col(f), F.current_timestamp() )) > 30, None ).otherwise( F.col(f) ) )\n",
    "\n",
    "set_empty_null()"
   ],
   "metadata": {
    "collapsed": false,
    "pycharm": {
     "name": "#%%\n"
    }
   }
  },
  {
   "cell_type": "code",
   "execution_count": 11,
   "outputs": [
    {
     "name": "stdout",
     "output_type": "stream",
     "text": [
      "None Found\n"
     ]
    }
   ],
   "source": [
    "# Count Default / Empty Dates\n",
    "def count_empty_dates():\n",
    "    exists = 0\n",
    "    for f in shared1['intervalVars']:\n",
    "      row = dfFlt1.filter( F.abs(F.months_between(F.col(f), F.current_timestamp() )) > 30 ).select(F.count(f).alias(\"null\")).collect()\n",
    "      found = row[0][0]\n",
    "      if (found > 0):\n",
    "        exists += 1\n",
    "        print (f,\"=\", found)\n",
    "\n",
    "    if (exists == 0):\n",
    "      print (\"None Found\")\n",
    "    else:\n",
    "      print (\"Found\", exists)\n",
    "\n",
    "count_empty_dates()"
   ],
   "metadata": {
    "collapsed": false,
    "pycharm": {
     "name": "#%%\n"
    }
   }
  },
  {
   "cell_type": "markdown",
   "source": [
    "##### All default dates converted"
   ],
   "metadata": {
    "collapsed": false
   }
  },
  {
   "cell_type": "code",
   "execution_count": 12,
   "outputs": [],
   "source": [
    "save_df(dfFlt1, 'dfFlt1')"
   ],
   "metadata": {
    "collapsed": false,
    "pycharm": {
     "name": "#%%\n"
    }
   }
  },
  {
   "cell_type": "code",
   "execution_count": null,
   "outputs": [],
   "source": [],
   "metadata": {
    "collapsed": false,
    "pycharm": {
     "name": "#%%\n"
    }
   }
  }
 ],
 "metadata": {
  "kernelspec": {
   "display_name": "Python 3",
   "language": "python",
   "name": "python3"
  },
  "language_info": {
   "codemirror_mode": {
    "name": "ipython",
    "version": 2
   },
   "file_extension": ".py",
   "mimetype": "text/x-python",
   "name": "python",
   "nbconvert_exporter": "python",
   "pygments_lexer": "ipython2",
   "version": "2.7.6"
  }
 },
 "nbformat": 4,
 "nbformat_minor": 0
}