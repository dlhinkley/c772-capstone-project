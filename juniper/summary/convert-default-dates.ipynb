{
 "cells": [
  {
   "cell_type": "code",
   "execution_count": null,
   "metadata": {
    "collapsed": true
   },
   "outputs": [],
   "source": []
  },
  {
   "cell_type": "markdown",
   "source": [
    "### Convert Default / Empty Dates to NULL"
   ],
   "metadata": {
    "collapsed": false
   }
  },
  {
   "cell_type": "code",
   "execution_count": null,
   "outputs": [],
   "source": [
    "# Count Default / Empty Dates\n",
    "def report_defaults():\n",
    "    global dfFlt\n",
    "    for f in shared['intervalVars']:\n",
    "      row = dfFlt.filter( F.abs(F.months_between(F.col(f), F.current_timestamp() )) > 30 ).select(F.count(f).alias(\"null\")).collect()\n",
    "      found = row[0][0]\n",
    "      if (found > 0):\n",
    "        print (f,\"=\", found)\n",
    "\n",
    "report_defaults()"
   ],
   "metadata": {
    "collapsed": false,
    "pycharm": {
     "name": "#%%\n"
    }
   }
  },
  {
   "cell_type": "code",
   "execution_count": null,
   "outputs": [],
   "source": [
    "# Set empty dates to null\n",
    "def set_empty_null():\n",
    "    global dfFlt\n",
    "    for f in shared['intervalVars']:\n",
    "      dfFlt = dfFlt.withColumn(f, F.when( F.abs(F.months_between(F.col(f), F.current_timestamp() )) > 30, None ).otherwise( F.col(f) ) )\n",
    "\n",
    "set_empty_null()"
   ],
   "metadata": {
    "collapsed": false,
    "pycharm": {
     "name": "#%%\n"
    }
   }
  },
  {
   "cell_type": "code",
   "execution_count": null,
   "outputs": [],
   "source": [
    "# Count Default / Empty Dates\n",
    "def count_empty_dates():\n",
    "    global dfFlt\n",
    "    exists = 0\n",
    "    for f in shared['intervalVars']:\n",
    "      row = dfFlt.filter( F.abs(F.months_between(F.col(f), F.current_timestamp() )) > 30 ).select(F.count(f).alias(\"null\")).collect()\n",
    "      found = row[0][0]\n",
    "      if (found > 0):\n",
    "        exists += 1\n",
    "        print (f,\"=\", found)\n",
    "\n",
    "    if (exists == 0):\n",
    "      print (\"None Found\")\n",
    "    else:\n",
    "      print (\"Found\", exists)"
   ],
   "metadata": {
    "collapsed": false,
    "pycharm": {
     "name": "#%%\n"
    }
   }
  },
  {
   "cell_type": "markdown",
   "source": [
    "##### All default dates converted"
   ],
   "metadata": {
    "collapsed": false
   }
  }
 ],
 "metadata": {
  "kernelspec": {
   "display_name": "Python 3",
   "language": "python",
   "name": "python3"
  },
  "language_info": {
   "codemirror_mode": {
    "name": "ipython",
    "version": 2
   },
   "file_extension": ".py",
   "mimetype": "text/x-python",
   "name": "python",
   "nbconvert_exporter": "python",
   "pygments_lexer": "ipython2",
   "version": "2.7.6"
  }
 },
 "nbformat": 4,
 "nbformat_minor": 0
}