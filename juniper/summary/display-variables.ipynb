{
 "cells": [
  {
   "cell_type": "code",
   "source": [
    "%run '../child/libraries.ipynb'"
   ],
   "metadata": {
    "collapsed": false,
    "pycharm": {
     "name": "#%%\n"
    }
   },
   "execution_count": 18,
   "outputs": [
    {
     "name": "stdout",
     "output_type": "stream",
     "text": [
      "Requirement already satisfied: tinydb in /Users/duane.hinkley/PycharmProjects/c772-capstone-project/venv/lib/python3.6/site-packages (4.2.0)\n"
     ]
    }
   ]
  },
  {
   "cell_type": "code",
   "execution_count": 19,
   "outputs": [],
   "source": [
    "dfDesc = load_df('dfDesc')\n",
    "shared = load_dict('shared')"
   ],
   "metadata": {
    "collapsed": false,
    "pycharm": {
     "name": "#%%\n"
    }
   }
  },
  {
   "cell_type": "code",
   "execution_count": 20,
   "outputs": [],
   "source": [
    "shared1 = shared;"
   ],
   "metadata": {
    "collapsed": false,
    "pycharm": {
     "name": "#%%\n"
    }
   }
  },
  {
   "cell_type": "markdown",
   "source": [
    "##### Display Variables"
   ],
   "metadata": {
    "collapsed": false,
    "pycharm": {
     "name": "#%% md\n"
    }
   }
  },
  {
   "cell_type": "markdown",
   "source": [
    "###### Display Categorical Identifier Variables"
   ],
   "metadata": {
    "collapsed": false
   }
  },
  {
   "cell_type": "code",
   "execution_count": 21,
   "outputs": [
    {
     "name": "stdout",
     "output_type": "stream",
     "text": [
      "+--------------------------------+\n",
      "|Categorical Identifier          |\n",
      "+--------------------------------+\n",
      "|assessment_id                   |\n",
      "|assessment_instance_attempt_id  |\n",
      "|assessment_instance_id          |\n",
      "|assessment_item_response_id     |\n",
      "|learner_assigned_item_attempt_id|\n",
      "|learner_assignment_attempt_id   |\n",
      "|learner_id                      |\n",
      "|org_id                          |\n",
      "|section_id                      |\n",
      "+--------------------------------+\n",
      "\n"
     ]
    }
   ],
   "source": [
    "# Save field names\n",
    "identifierVarObs = dfDesc.filter(\"type = 'Categorical Identifier'\")\n",
    "shared1['identifierVars'] = [row['field'] for row in identifierVarObs.select('field').collect()]\n",
    "identifierVarObs.select(F.col('field').alias('Categorical Identifier')).show(20,False)"
   ],
   "metadata": {
    "collapsed": false,
    "pycharm": {
     "name": "#%%\n"
    }
   }
  },
  {
   "cell_type": "markdown",
   "source": [
    "###### Display Categorical Nominal Variables"
   ],
   "metadata": {
    "collapsed": false
   }
  },
  {
   "cell_type": "code",
   "execution_count": 22,
   "outputs": [
    {
     "name": "stdout",
     "output_type": "stream",
     "text": [
      "+------------------------+\n",
      "|Categorical Nominal     |\n",
      "+------------------------+\n",
      "|assigned_item_status    |\n",
      "|ced_assignment_type_code|\n",
      "|item_type_code_name     |\n",
      "|learner_attempt_status  |\n",
      "|response_correctness    |\n",
      "|scoring_type_code       |\n",
      "+------------------------+\n",
      "\n"
     ]
    }
   ],
   "source": [
    "nominalVarObs    = dfDesc.filter(\"type = 'Categorical Nominal'\")\n",
    "shared1['nominalVars'] = [row['field'] for row in nominalVarObs.select('field').collect()]\n",
    "nominalVarObs.select(F.col('field').alias('Categorical Nominal')).show(20,False)"
   ],
   "metadata": {
    "collapsed": false,
    "pycharm": {
     "name": "#%%\n"
    }
   }
  },
  {
   "cell_type": "markdown",
   "source": [
    "###### Display Numeric Continuous Variables"
   ],
   "metadata": {
    "collapsed": false
   }
  },
  {
   "cell_type": "code",
   "execution_count": 23,
   "outputs": [
    {
     "name": "stdout",
     "output_type": "stream",
     "text": [
      "+---------------------------------+\n",
      "|Numeric Continuous               |\n",
      "+---------------------------------+\n",
      "|assignment_attempt_number        |\n",
      "|assignment_max_attempts          |\n",
      "|final_score_unweighted           |\n",
      "|number_of_distinct_instance_items|\n",
      "|number_of_learners               |\n",
      "|points_possible_unweighted       |\n",
      "+---------------------------------+\n",
      "\n"
     ]
    }
   ],
   "source": [
    "continousVarObs  = dfDesc.filter(\"type = 'Numeric Continuous'\")\n",
    "shared1['continousVars'] = [row['field'] for row in continousVarObs.select('field').collect()]\n",
    "continousVarObs.select(F.col('field').alias('Numeric Continuous')).show(20,False)"
   ],
   "metadata": {
    "collapsed": false,
    "pycharm": {
     "name": "#%%\n"
    }
   }
  },
  {
   "cell_type": "markdown",
   "source": [
    "###### Display Categorical Interval Varibles"
   ],
   "metadata": {
    "collapsed": false
   }
  },
  {
   "cell_type": "code",
   "execution_count": 24,
   "outputs": [
    {
     "name": "stdout",
     "output_type": "stream",
     "text": [
      "+--------------------------------+\n",
      "|Categorical Interval            |\n",
      "+--------------------------------+\n",
      "|assignment_due_date             |\n",
      "|assignment_final_submission_date|\n",
      "|assignment_start_date           |\n",
      "|max_student_stop_datetime       |\n",
      "|min_student_start_datetime      |\n",
      "|scored_datetime                 |\n",
      "|student_start_datetime          |\n",
      "|student_stop_datetime           |\n",
      "|was_fully_scored_datetime       |\n",
      "|was_in_progress_datetime        |\n",
      "|was_submitted_datetime_actual   |\n",
      "+--------------------------------+\n",
      "\n"
     ]
    }
   ],
   "source": [
    "intervalVarObs   = dfDesc.filter(\"type = 'Categorical Interval'\")\n",
    "shared1['intervalVars'] = [row['field'] for row in intervalVarObs.select('field').collect()]\n",
    "intervalVarObs.select(F.col('field').alias('Categorical Interval')).show(20,False)"
   ],
   "metadata": {
    "collapsed": false,
    "pycharm": {
     "name": "#%%\n"
    }
   }
  },
  {
   "cell_type": "code",
   "execution_count": 25,
   "outputs": [
    {
     "name": "stdout",
     "output_type": "stream",
     "text": [
      "+--------------------------+\n",
      "|Categorical Binary        |\n",
      "+--------------------------+\n",
      "|assignment_late_submission|\n",
      "|is_affecting_grade        |\n",
      "|is_deleted                |\n",
      "|is_force_scored           |\n",
      "|is_manual_scoring_required|\n",
      "|item_is_offline_scored    |\n",
      "+--------------------------+\n",
      "\n"
     ]
    }
   ],
   "source": [
    "binaryVarObs     = dfDesc.filter(\"type = 'Categorical Binary'\")\n",
    "shared1['binaryVars'] = [row['field'] for row in binaryVarObs.select('field').collect()]\n",
    "binaryVarObs.select(F.col('field').alias('Categorical Binary')).show(20,False)\n"
   ],
   "metadata": {
    "collapsed": false,
    "pycharm": {
     "name": "#%%\n"
    }
   }
  },
  {
   "cell_type": "code",
   "execution_count": 26,
   "metadata": {
    "collapsed": true,
    "pycharm": {
     "name": "#%%\n"
    }
   },
   "outputs": [],
   "source": [
    "save_dict(shared1, 'shared1')"
   ]
  },
  {
   "cell_type": "code",
   "execution_count": null,
   "outputs": [],
   "source": [],
   "metadata": {
    "collapsed": false,
    "pycharm": {
     "name": "#%%\n"
    }
   }
  }
 ],
 "metadata": {
  "kernelspec": {
   "display_name": "Python 3",
   "language": "python",
   "name": "python3"
  },
  "language_info": {
   "codemirror_mode": {
    "name": "ipython",
    "version": 2
   },
   "file_extension": ".py",
   "mimetype": "text/x-python",
   "name": "python",
   "nbconvert_exporter": "python",
   "pygments_lexer": "ipython2",
   "version": "2.7.6"
  }
 },
 "nbformat": 4,
 "nbformat_minor": 0
}