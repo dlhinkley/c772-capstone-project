{
 "cells": [
  {
   "cell_type": "markdown",
   "metadata": {},
   "source": [
    "### Display Variables"
   ]
  },
  {
   "cell_type": "code",
   "execution_count": 11,
   "metadata": {
    "pycharm": {
     "name": "#%%\n"
    }
   },
   "outputs": [
    {
     "name": "stdout",
     "output_type": "stream",
     "text": [
      "dython              0.6.1\n",
      "tinydb              4.2.0\n"
     ]
    }
   ],
   "source": [
    "%run '../lib/libraries.ipynb'"
   ]
  },
  {
   "cell_type": "code",
   "execution_count": 12,
   "metadata": {
    "pycharm": {
     "name": "#%%\n"
    }
   },
   "outputs": [],
   "source": [
    "dfDesc = load_df('dfDesc')"
   ]
  },
  {
   "cell_type": "markdown",
   "metadata": {},
   "source": [
    "###### Display Categorical Identifier Variables"
   ]
  },
  {
   "cell_type": "code",
   "execution_count": 13,
   "metadata": {
    "pycharm": {
     "name": "#%%\n"
    }
   },
   "outputs": [
    {
     "name": "stdout",
     "output_type": "stream",
     "text": [
      "+--------------------------------+\n",
      "|Categorical Identifier          |\n",
      "+--------------------------------+\n",
      "|assessment_id                   |\n",
      "|assessment_instance_attempt_id  |\n",
      "|assessment_instance_id          |\n",
      "|assessment_item_response_id     |\n",
      "|learner_assigned_item_attempt_id|\n",
      "|learner_assignment_attempt_id   |\n",
      "|learner_id                      |\n",
      "|org_id                          |\n",
      "|section_id                      |\n",
      "+--------------------------------+\n",
      "\n"
     ]
    }
   ],
   "source": [
    "(\n",
    "    dfDesc.filter(\"type = 'Categorical Identifier'\")\n",
    "        .select(F.col('field').alias('Categorical Identifier'))\n",
    "        .show(20,False)\n",
    ")"
   ]
  },
  {
   "cell_type": "markdown",
   "metadata": {},
   "source": [
    "###### Display Categorical Nominal Variables"
   ]
  },
  {
   "cell_type": "code",
   "execution_count": 14,
   "metadata": {
    "pycharm": {
     "name": "#%%\n"
    }
   },
   "outputs": [
    {
     "name": "stdout",
     "output_type": "stream",
     "text": [
      "+------------------------+\n",
      "|Categorical Nominal     |\n",
      "+------------------------+\n",
      "|assigned_item_status    |\n",
      "|ced_assignment_type_code|\n",
      "|item_type_code_name     |\n",
      "|learner_attempt_status  |\n",
      "|response_correctness    |\n",
      "|scoring_type_code       |\n",
      "+------------------------+\n",
      "\n"
     ]
    }
   ],
   "source": [
    "(\n",
    "    dfDesc.filter(\"type = 'Categorical Nominal'\")\n",
    "        .select(F.col('field').alias('Categorical Nominal'))\n",
    "        .show(20,False)\n",
    ")"
   ]
  },
  {
   "cell_type": "markdown",
   "metadata": {},
   "source": [
    "###### Display Numeric Continuous Variables"
   ]
  },
  {
   "cell_type": "code",
   "execution_count": 15,
   "metadata": {
    "pycharm": {
     "name": "#%%\n"
    }
   },
   "outputs": [
    {
     "name": "stdout",
     "output_type": "stream",
     "text": [
      "+---------------------------------+\n",
      "|Numeric Continuous               |\n",
      "+---------------------------------+\n",
      "|assignment_attempt_number        |\n",
      "|assignment_max_attempts          |\n",
      "|final_score_unweighted           |\n",
      "|number_of_distinct_instance_items|\n",
      "|number_of_learners               |\n",
      "|points_possible_unweighted       |\n",
      "+---------------------------------+\n",
      "\n"
     ]
    }
   ],
   "source": [
    "(\n",
    "    dfDesc.filter(\"type = 'Numeric Continuous'\")\n",
    "        .select(F.col('field').alias('Numeric Continuous'))\n",
    "        .show(20,False)\n",
    ")"
   ]
  },
  {
   "cell_type": "markdown",
   "metadata": {},
   "source": [
    "###### Display Categorical Interval Varibles"
   ]
  },
  {
   "cell_type": "code",
   "execution_count": 16,
   "metadata": {
    "pycharm": {
     "name": "#%%\n"
    }
   },
   "outputs": [
    {
     "name": "stdout",
     "output_type": "stream",
     "text": [
      "+--------------------------------+\n",
      "|Categorical Interval            |\n",
      "+--------------------------------+\n",
      "|assignment_due_date             |\n",
      "|assignment_final_submission_date|\n",
      "|assignment_start_date           |\n",
      "|max_student_stop_datetime       |\n",
      "|min_student_start_datetime      |\n",
      "|scored_datetime                 |\n",
      "|student_start_datetime          |\n",
      "|student_stop_datetime           |\n",
      "|was_fully_scored_datetime       |\n",
      "|was_in_progress_datetime        |\n",
      "|was_submitted_datetime_actual   |\n",
      "+--------------------------------+\n",
      "\n"
     ]
    }
   ],
   "source": [
    "(\n",
    "    dfDesc.filter(\"type = 'Categorical Interval'\")\n",
    "        .select(F.col('field').alias('Categorical Interval'))\n",
    "        .show(20,False)\n",
    ")"
   ]
  },
  {
   "cell_type": "code",
   "execution_count": 17,
   "metadata": {
    "pycharm": {
     "name": "#%%\n"
    }
   },
   "outputs": [
    {
     "name": "stdout",
     "output_type": "stream",
     "text": [
      "+--------------------------+\n",
      "|Categorical Binary        |\n",
      "+--------------------------+\n",
      "|assignment_late_submission|\n",
      "|is_affecting_grade        |\n",
      "|is_deleted                |\n",
      "|is_force_scored           |\n",
      "|is_manual_scoring_required|\n",
      "|item_is_offline_scored    |\n",
      "+--------------------------+\n",
      "\n"
     ]
    }
   ],
   "source": [
    "(\n",
    "    dfDesc.filter(\"type = 'Categorical Binary'\")\n",
    "        .select(F.col('field').alias('Categorical Binary'))\n",
    "        .show(20,False)\n",
    ")\n"
   ]
  },
  {
   "cell_type": "code",
   "execution_count": 17,
   "metadata": {
    "pycharm": {
     "name": "#%%\n"
    }
   },
   "outputs": [],
   "source": []
  }
 ],
 "metadata": {
  "kernelspec": {
   "display_name": "Python 3",
   "language": "python",
   "name": "python3"
  },
  "language_info": {
   "codemirror_mode": {
    "name": "ipython",
    "version": 3
   },
   "file_extension": ".py",
   "mimetype": "text/x-python",
   "name": "python",
   "nbconvert_exporter": "python",
   "pygments_lexer": "ipython3",
   "version": "3.6.3"
  }
 },
 "nbformat": 4,
 "nbformat_minor": 1
}
