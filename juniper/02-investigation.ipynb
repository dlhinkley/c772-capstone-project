{
 "cells": [
  {
   "cell_type": "markdown",
   "metadata": {
    "pycharm": {
     "name": "#%% md\n"
    }
   },
   "source": [
    "## Investigation"
   ]
  },
  {
   "cell_type": "code",
   "execution_count": 2,
   "metadata": {
    "pycharm": {
     "name": "#%%\n"
    },
    "scrolled": true
   },
   "outputs": [
    {
     "name": "stdout",
     "output_type": "stream",
     "text": [
      "dython              0.6.1\n",
      "tinydb              4.2.0\n"
     ]
    }
   ],
   "source": [
    "%run './lib/libraries.ipynb'"
   ]
  },
  {
   "cell_type": "code",
   "execution_count": 2,
   "metadata": {
    "pycharm": {
     "name": "#%%\n"
    }
   },
   "outputs": [],
   "source": [
    "dfRaw  = load_df('dfRaw')"
   ]
  },
  {
   "cell_type": "code",
   "execution_count": 3,
   "metadata": {
    "pycharm": {
     "name": "#%%\n"
    },
    "scrolled": true
   },
   "outputs": [
    {
     "name": "stdout",
     "output_type": "stream",
     "text": [
      "{'todo': 'Investigate 3298 null values in response_correctness', 'finished': True}\n",
      "{'todo': 'Investigate 1566 [unassigned] in response_correctness', 'finished': True}\n",
      "{'todo': 'Investigate null values in item_type_code_name', 'finished': False}\n",
      "{'todo': 'Reduce number of levels in item_type_code_name', 'finished': False}\n",
      "{'todo': 'Remove unary learner_attempt_status = \"fully scored\"', 'finished': True}\n",
      "{'todo': 'Investigate number_of_learners > 40 outliers', 'finished': False}\n",
      "{'todo': 'Investigate binary variables assignment_attempt_number and assignment_max_attempts', 'finished': True}\n",
      "{'todo': 'Investigate assignment_attempt_number and assignment_max_attempts both have 1566 values', 'finished': True}\n",
      "{'todo': 'Investigate final_score_unweighted has 16,582 zero values', 'finished': False}\n",
      "{'todo': 'Replace default dates with nulls', 'finished': False}\n",
      "{'todo': 'Investigate why some dates are null', 'finished': False}\n",
      "{'todo': 'Remove variables assignment_late_submission, is_manual_scoring_required and is_deleted', 'finished': True}\n",
      "{'todo': 'Investigate 3298 null values in response_correctness', 'finished': True}\n",
      "{'todo': 'Investigate 1566 [unassigned] in response_correctness', 'finished': True}\n",
      "{'todo': 'Investigate null values in item_type_code_name', 'finished': False}\n",
      "{'todo': 'Reduce number of levels in item_type_code_name', 'finished': False}\n",
      "{'todo': 'Remove unary learner_attempt_status = \"fully scored\"', 'finished': True}\n",
      "{'todo': 'Investigate number_of_learners > 40 outliers', 'finished': False}\n",
      "{'todo': 'Investigate binary variables assignment_attempt_number and assignment_max_attempts', 'finished': True}\n",
      "{'todo': 'Investigate assignment_attempt_number and assignment_max_attempts both have 1566 values', 'finished': True}\n",
      "{'todo': 'Investigate final_score_unweighted has 16,582 zero values', 'finished': False}\n",
      "{'todo': 'Replace default dates with nulls', 'finished': False}\n",
      "{'todo': 'Investigate why some dates are null', 'finished': False}\n",
      "{'todo': 'Remove variables assignment_late_submission, is_manual_scoring_required and is_deleted', 'finished': True}\n",
      "{'todo': 'Investigate 3298 null values in response_correctness', 'finished': False}\n",
      "{'todo': 'Investigate 1566 [unassigned] in response_correctness', 'finished': False}\n",
      "{'todo': 'Investigate null values in item_type_code_name', 'finished': False}\n",
      "{'todo': 'Reduce number of levels in item_type_code_name', 'finished': False}\n",
      "{'todo': 'Remove unary learner_attempt_status = \"fully scored\"', 'finished': False}\n",
      "{'todo': 'Investigate why some dates are null', 'finished': False}\n",
      "{'todo': 'Investigate why some dates are null', 'finished': False}\n"
     ]
    }
   ],
   "source": [
    "list_todo()\n"
   ]
  },
  {
   "cell_type": "markdown",
   "metadata": {
    "pycharm": {
     "name": "#%% md\n"
    }
   },
   "source": [
    "### [Investigate binary variables assignment_attempt_number and assignment_max_attempts](./investigation/attempt-number-vs-max.ipynb)"
   ]
  },
  {
   "cell_type": "markdown",
   "metadata": {
    "pycharm": {
     "name": "#%% md\n"
    }
   },
   "source": [
    "### [Investigate 1566 [unassigned] in response_correctness](./investigation/1566-unassigned-in-response-correctness.ipynb)"
   ]
  },
  {
   "cell_type": "markdown",
   "metadata": {
    "pycharm": {
     "name": "#%% md\n"
    }
   },
   "source": [
    "### [Investigate 3298 null values in response_correctness](./investigation/3298-null-in-response-correctness.ipynb)"
   ]
  },
  {
   "cell_type": "markdown",
   "metadata": {
    "pycharm": {
     "name": "#%% md\n"
    }
   },
   "source": [
    "### [Investigate null values in item_type_code_name](./investigation/item-type-code-name-nulls.ipynb)"
   ]
  },
  {
   "cell_type": "markdown",
   "metadata": {},
   "source": [
    "### [Investigate number_of_learners > 40 outliers](./investigation/num-learners-over-40.ipynb)"
   ]
  },
  {
   "cell_type": "code",
   "execution_count": 4,
   "metadata": {
    "pycharm": {
     "name": "#%%\n"
    }
   },
   "outputs": [
    {
     "name": "stdout",
     "output_type": "stream",
     "text": [
      "{'todo': 'Investigate 3298 null values in response_correctness', 'finished': True}\n",
      "{'todo': 'Investigate 1566 [unassigned] in response_correctness', 'finished': True}\n",
      "{'todo': 'Investigate null values in item_type_code_name', 'finished': True}\n",
      "{'todo': 'Reduce number of levels in item_type_code_name', 'finished': False}\n",
      "{'todo': 'Remove unary learner_attempt_status = \"fully scored\"', 'finished': True}\n",
      "{'todo': 'Investigate number_of_learners > 40 outliers', 'finished': False}\n",
      "{'todo': 'Investigate binary variables assignment_attempt_number and assignment_max_attempts', 'finished': True}\n",
      "{'todo': 'Investigate assignment_attempt_number and assignment_max_attempts both have 1566 values', 'finished': True}\n",
      "{'todo': 'Investigate final_score_unweighted has 16,582 zero values', 'finished': False}\n",
      "{'todo': 'Replace default dates with nulls', 'finished': False}\n",
      "{'todo': 'Investigate why some dates are null', 'finished': False}\n",
      "{'todo': 'Remove variables assignment_late_submission, is_manual_scoring_required and is_deleted', 'finished': True}\n",
      "{'todo': 'Investigate 3298 null values in response_correctness', 'finished': True}\n",
      "{'todo': 'Investigate 1566 [unassigned] in response_correctness', 'finished': True}\n",
      "{'todo': 'Investigate null values in item_type_code_name', 'finished': True}\n",
      "{'todo': 'Reduce number of levels in item_type_code_name', 'finished': False}\n",
      "{'todo': 'Remove unary learner_attempt_status = \"fully scored\"', 'finished': True}\n",
      "{'todo': 'Investigate number_of_learners > 40 outliers', 'finished': False}\n",
      "{'todo': 'Investigate binary variables assignment_attempt_number and assignment_max_attempts', 'finished': True}\n",
      "{'todo': 'Investigate assignment_attempt_number and assignment_max_attempts both have 1566 values', 'finished': True}\n",
      "{'todo': 'Investigate final_score_unweighted has 16,582 zero values', 'finished': False}\n",
      "{'todo': 'Replace default dates with nulls', 'finished': False}\n",
      "{'todo': 'Investigate why some dates are null', 'finished': False}\n",
      "{'todo': 'Remove variables assignment_late_submission, is_manual_scoring_required and is_deleted', 'finished': True}\n",
      "{'todo': 'Investigate 3298 null values in response_correctness', 'finished': True}\n",
      "{'todo': 'Investigate 1566 [unassigned] in response_correctness', 'finished': True}\n",
      "{'todo': 'Investigate null values in item_type_code_name', 'finished': True}\n",
      "{'todo': 'Reduce number of levels in item_type_code_name', 'finished': False}\n",
      "{'todo': 'Remove unary learner_attempt_status = \"fully scored\"', 'finished': False}\n",
      "{'todo': 'Investigate why some dates are null', 'finished': False}\n",
      "{'todo': 'Investigate why some dates are null', 'finished': False}\n"
     ]
    }
   ],
   "source": [
    "list_todo()\n",
    "\n",
    "- [Investigate number_of_learners > 40 outliers](./investigation/num-learners-over-40.ipynb)"
   ]
  },
  {
   "cell_type": "markdown",
   "metadata": {},
   "source": [
    "###### Statistics of final_score_unweighted to item_type_code_name = Null"
   ]
  },
  {
   "cell_type": "code",
   "execution_count": null,
   "metadata": {
    "pycharm": {
     "name": "#%%\n"
    }
   },
   "outputs": [],
   "source": [
    "dfInv.filter(F.col(\"item_type_code_name\").isNull() == True).select(\"final_score_unweighted\").toPandas().hist(bins=60)"
   ]
  },
  {
   "cell_type": "markdown",
   "metadata": {},
   "source": [
    "- Strongly correlated to a final_score_unweighted of 0"
   ]
  },
  {
   "cell_type": "code",
   "execution_count": null,
   "metadata": {
    "pycharm": {
     "name": "#%%\n"
    }
   },
   "outputs": [],
   "source": [
    "finish_todo('Investigate null values in item_type_code_name')\n",
    "\n",
    "\n"
   ]
  }
 ],
 "metadata": {
  "kernelspec": {
   "display_name": "Python 3",
   "language": "python",
   "name": "python3"
  },
  "language_info": {
   "codemirror_mode": {
    "name": "ipython",
    "version": 3
   },
   "file_extension": ".py",
   "mimetype": "text/x-python",
   "name": "python",
   "nbconvert_exporter": "python",
   "pygments_lexer": "ipython3",
   "version": "3.6.3"
  },
  "name": "C772 Capstone Investigation Sub-Notebook",
  "notebookId": 1125508361365702
 },
 "nbformat": 4,
 "nbformat_minor": 1
}
