{
 "cells": [
  {
   "cell_type": "markdown",
   "source": [
    "#### Data Exploration: Investigate Data"
   ],
   "metadata": {
    "collapsed": false,
    "pycharm": {
     "name": "#%% md\n"
    }
   }
  },
  {
   "cell_type": "code",
   "source": [
    "%run './lib/libraries.ipynb'"
   ],
   "metadata": {
    "collapsed": false,
    "pycharm": {
     "name": "#%%\n"
    }
   },
   "execution_count": 1,
   "outputs": [
    {
     "name": "stdout",
     "output_type": "stream",
     "text": [
      "dython              0.6.1\n",
      "tinydb              4.2.0\n"
     ]
    }
   ]
  },
  {
   "cell_type": "code",
   "execution_count": 2,
   "outputs": [],
   "source": [
    "dfRaw  = load_df('dfRaw')"
   ],
   "metadata": {
    "collapsed": false,
    "pycharm": {
     "name": "#%%\n"
    }
   }
  },
  {
   "cell_type": "code",
   "execution_count": 3,
   "outputs": [
    {
     "name": "stdout",
     "output_type": "stream",
     "text": [
      "{'todo': 'Investigate 3298 null values in response_correctness', 'finished': True}\n",
      "{'todo': 'Investigate 1566 [unassigned] in response_correctness', 'finished': True}\n",
      "{'todo': 'Investigate null values in item_type_code_name', 'finished': False}\n",
      "{'todo': 'Reduce number of levels in item_type_code_name', 'finished': False}\n",
      "{'todo': 'Remove unary learner_attempt_status = \"fully scored\"', 'finished': True}\n",
      "{'todo': 'Investigate number_of_learners > 40 outliers', 'finished': False}\n",
      "{'todo': 'Investigate binary variables assignment_attempt_number and assignment_max_attempts', 'finished': True}\n",
      "{'todo': 'Investigate assignment_attempt_number and assignment_max_attempts both have 1566 values', 'finished': True}\n",
      "{'todo': 'Investigate final_score_unweighted has 16,582 zero values', 'finished': False}\n",
      "{'todo': 'Replace default dates with nulls', 'finished': False}\n",
      "{'todo': 'Investigate why some dates are null', 'finished': False}\n",
      "{'todo': 'Remove variables assignment_late_submission, is_manual_scoring_required and is_deleted', 'finished': True}\n",
      "{'todo': 'Investigate 3298 null values in response_correctness', 'finished': True}\n",
      "{'todo': 'Investigate 1566 [unassigned] in response_correctness', 'finished': True}\n",
      "{'todo': 'Investigate null values in item_type_code_name', 'finished': False}\n",
      "{'todo': 'Reduce number of levels in item_type_code_name', 'finished': False}\n",
      "{'todo': 'Remove unary learner_attempt_status = \"fully scored\"', 'finished': True}\n",
      "{'todo': 'Investigate number_of_learners > 40 outliers', 'finished': False}\n",
      "{'todo': 'Investigate binary variables assignment_attempt_number and assignment_max_attempts', 'finished': True}\n",
      "{'todo': 'Investigate assignment_attempt_number and assignment_max_attempts both have 1566 values', 'finished': True}\n",
      "{'todo': 'Investigate final_score_unweighted has 16,582 zero values', 'finished': False}\n",
      "{'todo': 'Replace default dates with nulls', 'finished': False}\n",
      "{'todo': 'Investigate why some dates are null', 'finished': False}\n",
      "{'todo': 'Remove variables assignment_late_submission, is_manual_scoring_required and is_deleted', 'finished': True}\n",
      "{'todo': 'Investigate 3298 null values in response_correctness', 'finished': False}\n",
      "{'todo': 'Investigate 1566 [unassigned] in response_correctness', 'finished': False}\n",
      "{'todo': 'Investigate null values in item_type_code_name', 'finished': False}\n",
      "{'todo': 'Reduce number of levels in item_type_code_name', 'finished': False}\n",
      "{'todo': 'Remove unary learner_attempt_status = \"fully scored\"', 'finished': False}\n",
      "{'todo': 'Investigate why some dates are null', 'finished': False}\n",
      "{'todo': 'Investigate why some dates are null', 'finished': False}\n"
     ]
    }
   ],
   "source": [
    "list_todo()\n"
   ],
   "metadata": {
    "collapsed": false,
    "pycharm": {
     "name": "#%%\n"
    }
   }
  },
  {
   "cell_type": "markdown",
   "source": [
    "- [attempt-number-vs-max](./investigation/attempt-number-vs-max.ipynb)"
   ],
   "metadata": {
    "collapsed": false,
    "pycharm": {
     "name": "#%% md\n"
    }
   }
  },
  {
   "cell_type": "markdown",
   "source": [
    "- [1566-unassigned-in-response-correctness](./investigation/1566-unassigned-in-response-correctness.ipynb)"
   ],
   "metadata": {
    "collapsed": false,
    "pycharm": {
     "name": "#%% md\n"
    }
   }
  },
  {
   "cell_type": "markdown",
   "source": [
    "- [3298-null-in-response-correctness](./investigation/3298-null-in-response-correctness.ipynb)\n",
    "\n"
   ],
   "metadata": {
    "collapsed": false,
    "pycharm": {
     "name": "#%% md\n"
    }
   }
  },
  {
   "cell_type": "code",
   "execution_count": 6,
   "outputs": [
    {
     "name": "stdout",
     "output_type": "stream",
     "text": [
      "{'todo': 'Investigate 3298 null values in response_correctness', 'finished': True}\n",
      "{'todo': 'Investigate 1566 [unassigned] in response_correctness', 'finished': True}\n",
      "{'todo': 'Investigate null values in item_type_code_name', 'finished': False}\n",
      "{'todo': 'Reduce number of levels in item_type_code_name', 'finished': False}\n",
      "{'todo': 'Remove unary learner_attempt_status = \"fully scored\"', 'finished': True}\n",
      "{'todo': 'Investigate number_of_learners > 40 outliers', 'finished': False}\n",
      "{'todo': 'Investigate binary variables assignment_attempt_number and assignment_max_attempts', 'finished': True}\n",
      "{'todo': 'Investigate assignment_attempt_number and assignment_max_attempts both have 1566 values', 'finished': True}\n",
      "{'todo': 'Investigate final_score_unweighted has 16,582 zero values', 'finished': False}\n",
      "{'todo': 'Replace default dates with nulls', 'finished': False}\n",
      "{'todo': 'Investigate why some dates are null', 'finished': False}\n",
      "{'todo': 'Remove variables assignment_late_submission, is_manual_scoring_required and is_deleted', 'finished': True}\n"
     ]
    }
   ],
   "source": [
    "list_todo()"
   ],
   "metadata": {
    "collapsed": false,
    "pycharm": {
     "name": "#%%\n"
    }
   }
  },
  {
   "cell_type": "markdown",
   "source": [
    "- [item-type-code-name-nulls](./investigation/item-type-code-name-nulls.ipynb)\n"
   ],
   "metadata": {
    "collapsed": false,
    "pycharm": {
     "name": "#%% md\n"
    }
   }
  },
  {
   "cell_type": "markdown",
   "source": [
    "###### Statistics of final_score_unweighted to item_type_code_name = Null"
   ],
   "metadata": {
    "collapsed": false
   }
  },
  {
   "cell_type": "code",
   "execution_count": null,
   "outputs": [],
   "source": [
    "dfInv.filter(F.col(\"item_type_code_name\").isNull() == True).select(\"final_score_unweighted\").toPandas().hist(bins=60)"
   ],
   "metadata": {
    "collapsed": false,
    "pycharm": {
     "name": "#%%\n"
    }
   }
  },
  {
   "cell_type": "markdown",
   "source": [
    "- Strongly correlated to a final_score_unweighted of 0"
   ],
   "metadata": {
    "collapsed": false
   }
  },
  {
   "cell_type": "code",
   "execution_count": null,
   "outputs": [],
   "source": [
    "finish_todo('Investigate null values in item_type_code_name')\n",
    "\n",
    "\n"
   ],
   "metadata": {
    "collapsed": false,
    "pycharm": {
     "name": "#%%\n"
    }
   }
  }
 ],
 "metadata": {
  "name": "C772 Capstone Investigation Sub-Notebook",
  "notebookId": 1125508361365702,
  "kernelspec": {
   "name": "python3",
   "language": "python",
   "display_name": "Python 3"
  }
 },
 "nbformat": 4,
 "nbformat_minor": 0
}