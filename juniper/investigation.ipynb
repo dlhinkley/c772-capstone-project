{
 "cells": [
  {
   "cell_type": "markdown",
   "source": [
    "#### Data Exploration: Investigate Data"
   ],
   "metadata": {
    "collapsed": false
   }
  },
  {
   "cell_type": "code",
   "execution_count": 2,
   "outputs": [
    {
     "name": "stdout",
     "output_type": "stream",
     "text": [
      "Requirement already satisfied: tinydb in /Users/duane.hinkley/PycharmProjects/c772-capstone-project/venv/lib/python3.6/site-packages (4.2.0)\n"
     ]
    }
   ],
   "source": [
    "%run './child/libraries.ipynb'"
   ],
   "metadata": {
    "collapsed": false,
    "pycharm": {
     "name": "#%%\n"
    }
   }
  },
  {
   "cell_type": "code",
   "execution_count": 3,
   "outputs": [],
   "source": [
    "import pandas as pd\n",
    "import random\n",
    "import shelve"
   ],
   "metadata": {
    "collapsed": false,
    "pycharm": {
     "name": "#%%\n"
    }
   }
  },
  {
   "cell_type": "code",
   "execution_count": 9,
   "outputs": [],
   "source": [
    "shared1 = load_dict('shared1')\n",
    "dfFlt  = load_df('dfFlt')"
   ],
   "metadata": {
    "collapsed": false,
    "pycharm": {
     "name": "#%%\n"
    }
   }
  },
  {
   "cell_type": "code",
   "execution_count": 10,
   "outputs": [
    {
     "name": "stdout",
     "output_type": "stream",
     "text": [
      "{'todo': 'Investigate 3298 null values in response_correctness', 'finished': True}\n",
      "{'todo': 'Investigate 1566 [unassigned] in response_correctness', 'finished': True}\n",
      "{'todo': 'Investigate null values in item_type_code_name', 'finished': False}\n",
      "{'todo': 'Reduce number of levels in item_type_code_name', 'finished': False}\n",
      "{'todo': 'Remove unary learner_attempt_status = \"fully scored\"', 'finished': True}\n",
      "{'todo': 'Investigate number_of_learners > 40 outliers', 'finished': False}\n",
      "{'todo': 'Investigate binary variables assignment_attempt_number and assignment_max_attempts', 'finished': True}\n",
      "{'todo': 'Investigate assignment_attempt_number and assignment_max_attempts both have 1566 values', 'finished': True}\n",
      "{'todo': 'Investigate final_score_unweighted has 16,582 zero values', 'finished': False}\n",
      "{'todo': 'Replace default dates with nulls', 'finished': False}\n",
      "{'todo': 'Investigate why some dates are null', 'finished': False}\n",
      "{'todo': 'Remove variables assignment_late_submission, is_manual_scoring_required and is_deleted', 'finished': True}\n",
      "{'todo': 'Investigate 3298 null values in response_correctness', 'finished': False}\n",
      "{'todo': 'Investigate 1566 [unassigned] in response_correctness', 'finished': False}\n",
      "{'todo': 'Investigate null values in item_type_code_name', 'finished': False}\n",
      "{'todo': 'Reduce number of levels in item_type_code_name', 'finished': False}\n",
      "{'todo': 'Remove unary learner_attempt_status = \"fully scored\"', 'finished': False}\n",
      "{'todo': 'Investigate number_of_learners > 40 outliers', 'finished': False}\n",
      "{'todo': 'Investigate binary variables assignment_attempt_number and assignment_max_attempts', 'finished': False}\n",
      "{'todo': 'Investigate assignment_attempt_number and assignment_max_attempts both have 1566 values', 'finished': False}\n",
      "{'todo': 'Investigate final_score_unweighted has 16,582 zero values', 'finished': False}\n",
      "{'todo': 'Replace default dates with nulls', 'finished': False}\n",
      "{'todo': 'Investigate why some dates are null', 'finished': False}\n",
      "{'todo': 'Remove variables assignment_late_submission, is_manual_scoring_required and is_deleted', 'finished': False}\n"
     ]
    }
   ],
   "source": [
    "list_todo()"
   ],
   "metadata": {
    "collapsed": false,
    "pycharm": {
     "name": "#%%\n"
    }
   }
  },
  {
   "cell_type": "markdown",
   "source": [
    "###### Create Dataframe for Investigating Data"
   ],
   "metadata": {
    "collapsed": false
   }
  },
  {
   "cell_type": "code",
   "execution_count": 11,
   "outputs": [],
   "source": [
    "dfInv1 = dfFlt\n",
    "shared2 = shared1"
   ],
   "metadata": {
    "collapsed": false,
    "pycharm": {
     "name": "#%%\n"
    }
   }
  },
  {
   "cell_type": "markdown",
   "source": [
    "###### Remove variables assignment_late_submission, is_manual_scoring_required and is_deleted\n",
    "Do this early so they don't get in the way"
   ],
   "metadata": {
    "collapsed": false
   }
  },
  {
   "cell_type": "code",
   "execution_count": 12,
   "outputs": [],
   "source": [
    "dfInv1 = dfInv1.drop('assignment_late_submission', 'is_manual_scoring_required', 'is_deleted')\n",
    "shared2['binaryVars'].remove('assignment_late_submission')\n",
    "shared2['binaryVars'].remove('is_manual_scoring_required')\n",
    "shared2['binaryVars'].remove('is_deleted')"
   ],
   "metadata": {
    "collapsed": false,
    "pycharm": {
     "name": "#%%\n"
    }
   }
  },
  {
   "cell_type": "code",
   "execution_count": 13,
   "outputs": [],
   "source": [
    "finish_todo('Remove variables assignment_late_submission, is_manual_scoring_required and is_deleted')"
   ],
   "metadata": {
    "collapsed": false,
    "pycharm": {
     "name": "#%%\n"
    }
   }
  },
  {
   "cell_type": "markdown",
   "source": [
    "###### Remove unary learner_attempt_status\n",
    "Do this early so they don't get in the way"
   ],
   "metadata": {
    "collapsed": false
   }
  },
  {
   "cell_type": "code",
   "execution_count": 14,
   "outputs": [],
   "source": [
    "dfInv1 = dfInv1.drop('learner_attempt_status')\n",
    "shared2['nominalVars'].remove('learner_attempt_status')"
   ],
   "metadata": {
    "collapsed": false,
    "pycharm": {
     "name": "#%%\n"
    }
   }
  },
  {
   "cell_type": "code",
   "execution_count": 18,
   "outputs": [],
   "source": [
    "save_df(dfInv1, 'dfInv1')\n",
    "save_dict(shared2, 'shared2')"
   ],
   "metadata": {
    "collapsed": false,
    "pycharm": {
     "name": "#%%\n"
    }
   }
  },
  {
   "cell_type": "code",
   "execution_count": 19,
   "outputs": [],
   "source": [
    "finish_todo('Remove unary learner_attempt_status = \"fully scored\"')"
   ],
   "metadata": {
    "collapsed": false,
    "pycharm": {
     "name": "#%%\n"
    }
   }
  },
  {
   "cell_type": "markdown",
   "source": [
    "- [attempt-number-vs-max](./investigation/attempt-number-vs-max.ipynb)\n"
   ],
   "metadata": {
    "collapsed": false,
    "pycharm": {
     "name": "#%% md\n"
    }
   }
  },
  {
   "cell_type": "markdown",
   "source": [
    "- [1566-unassigned-in-response-correctness](./investigation/1566-unassigned-in-response-correctness.ipynb)\n"
   ],
   "metadata": {
    "collapsed": false,
    "pycharm": {
     "name": "#%% md\n"
    }
   }
  },
  {
   "cell_type": "code",
   "execution_count": 51,
   "outputs": [],
   "source": [
    "dfInv2 = load_df('dfInv2')\n",
    "\n"
   ],
   "metadata": {
    "collapsed": false,
    "pycharm": {
     "name": "#%%\n"
    }
   }
  },
  {
   "cell_type": "markdown",
   "source": [
    "- [3298-null-in-response-correctness](./investigation/3298-null-in-response-correctness.ipynb)\n"
   ],
   "metadata": {
    "collapsed": false,
    "pycharm": {
     "name": "#%% md\n"
    }
   }
  },
  {
   "cell_type": "code",
   "execution_count": 5,
   "outputs": [],
   "source": [
    "dfInv3 = load_df('dfInv3')\n",
    "shared = load_dict('shared')"
   ],
   "metadata": {
    "collapsed": false,
    "pycharm": {
     "name": "#%%\n"
    }
   }
  },
  {
   "cell_type": "code",
   "execution_count": 6,
   "outputs": [
    {
     "name": "stdout",
     "output_type": "stream",
     "text": [
      "{'todo': 'Investigate 3298 null values in response_correctness', 'finished': True}\n",
      "{'todo': 'Investigate 1566 [unassigned] in response_correctness', 'finished': True}\n",
      "{'todo': 'Investigate null values in item_type_code_name', 'finished': False}\n",
      "{'todo': 'Reduce number of levels in item_type_code_name', 'finished': False}\n",
      "{'todo': 'Remove unary learner_attempt_status = \"fully scored\"', 'finished': True}\n",
      "{'todo': 'Investigate number_of_learners > 40 outliers', 'finished': False}\n",
      "{'todo': 'Investigate binary variables assignment_attempt_number and assignment_max_attempts', 'finished': True}\n",
      "{'todo': 'Investigate assignment_attempt_number and assignment_max_attempts both have 1566 values', 'finished': True}\n",
      "{'todo': 'Investigate final_score_unweighted has 16,582 zero values', 'finished': False}\n",
      "{'todo': 'Replace default dates with nulls', 'finished': False}\n",
      "{'todo': 'Investigate why some dates are null', 'finished': False}\n",
      "{'todo': 'Remove variables assignment_late_submission, is_manual_scoring_required and is_deleted', 'finished': True}\n"
     ]
    }
   ],
   "source": [
    "list_todo()"
   ],
   "metadata": {
    "collapsed": false,
    "pycharm": {
     "name": "#%%\n"
    }
   }
  },
  {
   "cell_type": "markdown",
   "source": [
    "- [item-type-code-name-nulls](./investigation/item-type-code-name-nulls.ipynb)\n"
   ],
   "metadata": {
    "collapsed": false,
    "pycharm": {
     "name": "#%% md\n"
    }
   }
  },
  {
   "cell_type": "markdown",
   "source": [
    "###### Statistics of final_score_unweighted to item_type_code_name = Null"
   ],
   "metadata": {
    "collapsed": false
   }
  },
  {
   "cell_type": "code",
   "execution_count": null,
   "outputs": [],
   "source": [
    "dfInv.filter(F.col(\"item_type_code_name\").isNull() == True).select(\"final_score_unweighted\").toPandas().hist(bins=60)"
   ],
   "metadata": {
    "collapsed": false,
    "pycharm": {
     "name": "#%%\n"
    }
   }
  },
  {
   "cell_type": "markdown",
   "source": [
    "- Strongly correlated to a final_score_unweighted of 0"
   ],
   "metadata": {
    "collapsed": false
   }
  },
  {
   "cell_type": "code",
   "execution_count": null,
   "outputs": [],
   "source": [
    "finish_todo('Investigate null values in item_type_code_name')\n",
    "\n",
    "\n"
   ],
   "metadata": {
    "collapsed": false,
    "pycharm": {
     "name": "#%%\n"
    }
   }
  }
 ],
 "metadata": {
  "name": "C772 Capstone Investigation Sub-Notebook",
  "notebookId": 1125508361365702,
  "kernelspec": {
   "name": "python3",
   "language": "python",
   "display_name": "Python 3"
  }
 },
 "nbformat": 4,
 "nbformat_minor": 0
}