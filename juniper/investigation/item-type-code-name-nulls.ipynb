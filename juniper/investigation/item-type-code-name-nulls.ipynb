{
 "cells": [
  {
   "cell_type": "code",
   "execution_count": 1,
   "outputs": [
    {
     "name": "stdout",
     "output_type": "stream",
     "text": [
      "Requirement already satisfied: tinydb in /Users/duane.hinkley/PycharmProjects/c772-capstone-project/venv/lib/python3.6/site-packages (4.2.0)\n"
     ]
    }
   ],
   "source": [
    "%run '../lib/libraries.ipynb'"
   ],
   "metadata": {
    "collapsed": false,
    "pycharm": {
     "name": "#%%\n"
    }
   }
  },
  {
   "cell_type": "code",
   "execution_count": 2,
   "outputs": [],
   "source": [
    "dfInv3 = load_df('dfInv3')\n",
    "shared4 = load_dict('shared4')"
   ],
   "metadata": {
    "collapsed": false,
    "pycharm": {
     "name": "#%%\n"
    }
   }
  },
  {
   "cell_type": "markdown",
   "source": [
    "##### Investigate null values in item_type_code_name"
   ],
   "metadata": {
    "collapsed": false
   }
  },
  {
   "cell_type": "markdown",
   "source": [
    "###### Create a dataframe for investigation"
   ],
   "metadata": {
    "collapsed": false
   }
  },
  {
   "cell_type": "code",
   "execution_count": 3,
   "outputs": [],
   "source": [
    "nullItDf = dfInv3.filter(F.col('item_type_code_name').isNull())"
   ],
   "metadata": {
    "collapsed": false,
    "pycharm": {
     "name": "#%%\n"
    }
   }
  },
  {
   "cell_type": "markdown",
   "source": [
    "###### Number of null values"
   ],
   "metadata": {
    "collapsed": false,
    "pycharm": {
     "name": "#%% md\n"
    }
   }
  },
  {
   "cell_type": "code",
   "execution_count": 4,
   "outputs": [
    {
     "data": {
      "text/plain": "3264"
     },
     "execution_count": 4,
     "metadata": {},
     "output_type": "execute_result"
    }
   ],
   "source": [
    "nullItDf.select().count()"
   ],
   "metadata": {
    "collapsed": false,
    "pycharm": {
     "name": "#%%\n"
    }
   }
  },
  {
   "cell_type": "markdown",
   "source": [
    "###### Display any single values"
   ],
   "metadata": {
    "collapsed": false,
    "pycharm": {
     "name": "#%% md\n"
    }
   }
  },
  {
   "cell_type": "code",
   "execution_count": 5,
   "outputs": [
    {
     "data": {
      "text/plain": "                                           0\nitem_is_offline_scored                 False\nitem_type_code_name                     None\nscoring_type_code               [unassigned]\nassigned_item_status                assigned\nassessment_instance_attempt_id           NaN\nassessment_item_response_id              NaN",
      "text/html": "<div>\n<style scoped>\n    .dataframe tbody tr th:only-of-type {\n        vertical-align: middle;\n    }\n\n    .dataframe tbody tr th {\n        vertical-align: top;\n    }\n\n    .dataframe thead th {\n        text-align: right;\n    }\n</style>\n<table border=\"1\" class=\"dataframe\">\n  <thead>\n    <tr style=\"text-align: right;\">\n      <th></th>\n      <th>0</th>\n    </tr>\n  </thead>\n  <tbody>\n    <tr>\n      <th>item_is_offline_scored</th>\n      <td>False</td>\n    </tr>\n    <tr>\n      <th>item_type_code_name</th>\n      <td>None</td>\n    </tr>\n    <tr>\n      <th>scoring_type_code</th>\n      <td>[unassigned]</td>\n    </tr>\n    <tr>\n      <th>assigned_item_status</th>\n      <td>assigned</td>\n    </tr>\n    <tr>\n      <th>assessment_instance_attempt_id</th>\n      <td>NaN</td>\n    </tr>\n    <tr>\n      <th>assessment_item_response_id</th>\n      <td>NaN</td>\n    </tr>\n  </tbody>\n</table>\n</div>"
     },
     "execution_count": 5,
     "metadata": {},
     "output_type": "execute_result"
    }
   ],
   "source": [
    "cols = single_val(nullItDf.toPandas())\n",
    "display_sv_cols(nullItDf, cols)"
   ],
   "metadata": {
    "collapsed": false,
    "pycharm": {
     "name": "#%%\n"
    }
   }
  },
  {
   "cell_type": "markdown",
   "source": [
    "- Looks like it wasn't answered\n",
    "  - scoring_type_code = \"[unassigned]\"\n",
    "    - not scored\n",
    "  - assigned_items_status = assigned\n",
    "  - assessment_instance_attempt_id = null\n",
    "    - not attempted\n",
    "  - assessment_item_response_id = null\n",
    "    - not responsed\n",
    "\n",
    "- Maybe it's just one question from an assessment not answered"
   ],
   "metadata": {
    "collapsed": false,
    "pycharm": {
     "name": "#%% md\n"
    }
   }
  },
  {
   "cell_type": "markdown",
   "source": [
    "###### Display full assessment for one"
   ],
   "metadata": {
    "collapsed": false,
    "pycharm": {
     "name": "#%% md\n"
    }
   }
  },
  {
   "cell_type": "code",
   "execution_count": 16,
   "outputs": [
    {
     "data": {
      "text/plain": "      learner_assignment_attempt_id\n0                            964949\n1                            964949\n2                            964949\n3                           1094732\n4                            964949\n...                             ...\n3259                         965039\n3260                         965039\n3261                         965039\n3262                        1014415\n3263                        1014415\n\n[3264 rows x 1 columns]",
      "text/html": "<div>\n<style scoped>\n    .dataframe tbody tr th:only-of-type {\n        vertical-align: middle;\n    }\n\n    .dataframe tbody tr th {\n        vertical-align: top;\n    }\n\n    .dataframe thead th {\n        text-align: right;\n    }\n</style>\n<table border=\"1\" class=\"dataframe\">\n  <thead>\n    <tr style=\"text-align: right;\">\n      <th></th>\n      <th>learner_assignment_attempt_id</th>\n    </tr>\n  </thead>\n  <tbody>\n    <tr>\n      <th>0</th>\n      <td>964949</td>\n    </tr>\n    <tr>\n      <th>1</th>\n      <td>964949</td>\n    </tr>\n    <tr>\n      <th>2</th>\n      <td>964949</td>\n    </tr>\n    <tr>\n      <th>3</th>\n      <td>1094732</td>\n    </tr>\n    <tr>\n      <th>4</th>\n      <td>964949</td>\n    </tr>\n    <tr>\n      <th>...</th>\n      <td>...</td>\n    </tr>\n    <tr>\n      <th>3259</th>\n      <td>965039</td>\n    </tr>\n    <tr>\n      <th>3260</th>\n      <td>965039</td>\n    </tr>\n    <tr>\n      <th>3261</th>\n      <td>965039</td>\n    </tr>\n    <tr>\n      <th>3262</th>\n      <td>1014415</td>\n    </tr>\n    <tr>\n      <th>3263</th>\n      <td>1014415</td>\n    </tr>\n  </tbody>\n</table>\n<p>3264 rows × 1 columns</p>\n</div>"
     },
     "execution_count": 16,
     "metadata": {},
     "output_type": "execute_result"
    }
   ],
   "source": [
    "nullItDf.select('learner_assignment_attempt_id').toPandas()"
   ],
   "metadata": {
    "collapsed": false,
    "pycharm": {
     "name": "#%%\n"
    }
   }
  },
  {
   "cell_type": "code",
   "execution_count": 6,
   "outputs": [
    {
     "ename": "AnalysisException",
     "evalue": "cannot resolve '`is_deleted`' given input columns: [assessment_id, assessment_instance_attempt_id, assessment_instance_id, assessment_item_response_id, assessment_new, assigned_item_status, assignment_due_date, assignment_final_submission_date, assignment_start_date, ced_assignment_type_code, final_score_unweighted, is_affecting_grade, is_force_scored, item_is_offline_scored, item_type_code_name, learner_assigned_item_attempt_id, learner_assignment_attempt_id, learner_id, learner_new, max_student_stop_datetime, min_student_start_datetime, number_of_distinct_instance_items, number_of_learners, org_id, org_new, points_possible_unweighted, scored_datetime, scoring_type_code, section_id, section_new, student_start_datetime, student_stop_datetime, was_fully_scored_datetime, was_in_progress_datetime, was_submitted_datetime_actual];;\n'Project [assessment_item_response_id#30, assigned_item_status#21, 'is_deleted, learner_assigned_item_attempt_id#29, 'response_correctness]\n+- Filter (learner_assignment_attempt_id#26 = 964949)\n   +- Relation[ced_assignment_type_code#0,is_affecting_grade#1,number_of_learners#2,number_of_distinct_instance_items#3,assignment_final_submission_date#4,assignment_start_date#5,assignment_due_date#6,min_student_start_datetime#7,max_student_stop_datetime#8,was_fully_scored_datetime#9,was_submitted_datetime_actual#10,was_in_progress_datetime#11,is_force_scored#12,student_start_datetime#13,student_stop_datetime#14,item_is_offline_scored#15,points_possible_unweighted#16,final_score_unweighted#17,scored_datetime#18,item_type_code_name#19,scoring_type_code#20,assigned_item_status#21,org_id#22,section_id#23,... 11 more fields] parquet\n",
     "output_type": "error",
     "traceback": [
      "\u001B[0;31m---------------------------------------------------------------------------\u001B[0m",
      "\u001B[0;31mAnalysisException\u001B[0m                         Traceback (most recent call last)",
      "\u001B[0;32m<ipython-input-6-134b24713116>\u001B[0m in \u001B[0;36m<module>\u001B[0;34m\u001B[0m\n\u001B[1;32m      2\u001B[0m \u001B[0mlearner_assignment_attempt_id\u001B[0m \u001B[0;34m=\u001B[0m \u001B[0mrow\u001B[0m\u001B[0;34m[\u001B[0m\u001B[0;36m0\u001B[0m\u001B[0;34m]\u001B[0m\u001B[0;34m[\u001B[0m\u001B[0;36m0\u001B[0m\u001B[0;34m]\u001B[0m\u001B[0;34m\u001B[0m\u001B[0m\n\u001B[1;32m      3\u001B[0m \u001B[0;34m\u001B[0m\u001B[0m\n\u001B[0;32m----> 4\u001B[0;31m \u001B[0mdfInv3\u001B[0m\u001B[0;34m.\u001B[0m\u001B[0mfilter\u001B[0m\u001B[0;34m(\u001B[0m \u001B[0mF\u001B[0m\u001B[0;34m.\u001B[0m\u001B[0mcol\u001B[0m\u001B[0;34m(\u001B[0m\u001B[0;34m'learner_assignment_attempt_id'\u001B[0m\u001B[0;34m)\u001B[0m \u001B[0;34m==\u001B[0m \u001B[0mlearner_assignment_attempt_id\u001B[0m\u001B[0;34m)\u001B[0m\u001B[0;34m.\u001B[0m\u001B[0mselect\u001B[0m\u001B[0;34m(\u001B[0m\u001B[0;34m*\u001B[0m\u001B[0mshared4\u001B[0m\u001B[0;34m[\u001B[0m\u001B[0;34m'itemAttemptVars'\u001B[0m\u001B[0;34m]\u001B[0m\u001B[0;34m)\u001B[0m\u001B[0;34m.\u001B[0m\u001B[0mdistinct\u001B[0m\u001B[0;34m(\u001B[0m\u001B[0;34m)\u001B[0m\u001B[0;34m.\u001B[0m\u001B[0mtoPandas\u001B[0m\u001B[0;34m(\u001B[0m\u001B[0;34m)\u001B[0m\u001B[0;34m\u001B[0m\u001B[0m\n\u001B[0m\u001B[1;32m      5\u001B[0m \u001B[0;34m\u001B[0m\u001B[0m\n",
      "\u001B[0;32m~/PycharmProjects/c772-capstone-project/venv/lib/python3.6/site-packages/pyspark/sql/dataframe.py\u001B[0m in \u001B[0;36mselect\u001B[0;34m(self, *cols)\u001B[0m\n\u001B[1;32m   1419\u001B[0m         \u001B[0;34m[\u001B[0m\u001B[0mRow\u001B[0m\u001B[0;34m(\u001B[0m\u001B[0mname\u001B[0m\u001B[0;34m=\u001B[0m\u001B[0;34mu'Alice'\u001B[0m\u001B[0;34m,\u001B[0m \u001B[0mage\u001B[0m\u001B[0;34m=\u001B[0m\u001B[0;36m12\u001B[0m\u001B[0;34m)\u001B[0m\u001B[0;34m,\u001B[0m \u001B[0mRow\u001B[0m\u001B[0;34m(\u001B[0m\u001B[0mname\u001B[0m\u001B[0;34m=\u001B[0m\u001B[0;34mu'Bob'\u001B[0m\u001B[0;34m,\u001B[0m \u001B[0mage\u001B[0m\u001B[0;34m=\u001B[0m\u001B[0;36m15\u001B[0m\u001B[0;34m)\u001B[0m\u001B[0;34m]\u001B[0m\u001B[0;34m\u001B[0m\u001B[0m\n\u001B[1;32m   1420\u001B[0m         \"\"\"\n\u001B[0;32m-> 1421\u001B[0;31m         \u001B[0mjdf\u001B[0m \u001B[0;34m=\u001B[0m \u001B[0mself\u001B[0m\u001B[0;34m.\u001B[0m\u001B[0m_jdf\u001B[0m\u001B[0;34m.\u001B[0m\u001B[0mselect\u001B[0m\u001B[0;34m(\u001B[0m\u001B[0mself\u001B[0m\u001B[0;34m.\u001B[0m\u001B[0m_jcols\u001B[0m\u001B[0;34m(\u001B[0m\u001B[0;34m*\u001B[0m\u001B[0mcols\u001B[0m\u001B[0;34m)\u001B[0m\u001B[0;34m)\u001B[0m\u001B[0;34m\u001B[0m\u001B[0m\n\u001B[0m\u001B[1;32m   1422\u001B[0m         \u001B[0;32mreturn\u001B[0m \u001B[0mDataFrame\u001B[0m\u001B[0;34m(\u001B[0m\u001B[0mjdf\u001B[0m\u001B[0;34m,\u001B[0m \u001B[0mself\u001B[0m\u001B[0;34m.\u001B[0m\u001B[0msql_ctx\u001B[0m\u001B[0;34m)\u001B[0m\u001B[0;34m\u001B[0m\u001B[0m\n\u001B[1;32m   1423\u001B[0m \u001B[0;34m\u001B[0m\u001B[0m\n",
      "\u001B[0;32m~/PycharmProjects/c772-capstone-project/venv/lib/python3.6/site-packages/py4j/java_gateway.py\u001B[0m in \u001B[0;36m__call__\u001B[0;34m(self, *args)\u001B[0m\n\u001B[1;32m   1303\u001B[0m         \u001B[0manswer\u001B[0m \u001B[0;34m=\u001B[0m \u001B[0mself\u001B[0m\u001B[0;34m.\u001B[0m\u001B[0mgateway_client\u001B[0m\u001B[0;34m.\u001B[0m\u001B[0msend_command\u001B[0m\u001B[0;34m(\u001B[0m\u001B[0mcommand\u001B[0m\u001B[0;34m)\u001B[0m\u001B[0;34m\u001B[0m\u001B[0m\n\u001B[1;32m   1304\u001B[0m         return_value = get_return_value(\n\u001B[0;32m-> 1305\u001B[0;31m             answer, self.gateway_client, self.target_id, self.name)\n\u001B[0m\u001B[1;32m   1306\u001B[0m \u001B[0;34m\u001B[0m\u001B[0m\n\u001B[1;32m   1307\u001B[0m         \u001B[0;32mfor\u001B[0m \u001B[0mtemp_arg\u001B[0m \u001B[0;32min\u001B[0m \u001B[0mtemp_args\u001B[0m\u001B[0;34m:\u001B[0m\u001B[0;34m\u001B[0m\u001B[0m\n",
      "\u001B[0;32m~/PycharmProjects/c772-capstone-project/venv/lib/python3.6/site-packages/pyspark/sql/utils.py\u001B[0m in \u001B[0;36mdeco\u001B[0;34m(*a, **kw)\u001B[0m\n\u001B[1;32m    132\u001B[0m                 \u001B[0;31m# Hide where the exception came from that shows a non-Pythonic\u001B[0m\u001B[0;34m\u001B[0m\u001B[0;34m\u001B[0m\u001B[0m\n\u001B[1;32m    133\u001B[0m                 \u001B[0;31m# JVM exception message.\u001B[0m\u001B[0;34m\u001B[0m\u001B[0;34m\u001B[0m\u001B[0m\n\u001B[0;32m--> 134\u001B[0;31m                 \u001B[0mraise_from\u001B[0m\u001B[0;34m(\u001B[0m\u001B[0mconverted\u001B[0m\u001B[0;34m)\u001B[0m\u001B[0;34m\u001B[0m\u001B[0m\n\u001B[0m\u001B[1;32m    135\u001B[0m             \u001B[0;32melse\u001B[0m\u001B[0;34m:\u001B[0m\u001B[0;34m\u001B[0m\u001B[0m\n\u001B[1;32m    136\u001B[0m                 \u001B[0;32mraise\u001B[0m\u001B[0;34m\u001B[0m\u001B[0m\n",
      "\u001B[0;32m~/PycharmProjects/c772-capstone-project/venv/lib/python3.6/site-packages/pyspark/sql/utils.py\u001B[0m in \u001B[0;36mraise_from\u001B[0;34m(e)\u001B[0m\n",
      "\u001B[0;31mAnalysisException\u001B[0m: cannot resolve '`is_deleted`' given input columns: [assessment_id, assessment_instance_attempt_id, assessment_instance_id, assessment_item_response_id, assessment_new, assigned_item_status, assignment_due_date, assignment_final_submission_date, assignment_start_date, ced_assignment_type_code, final_score_unweighted, is_affecting_grade, is_force_scored, item_is_offline_scored, item_type_code_name, learner_assigned_item_attempt_id, learner_assignment_attempt_id, learner_id, learner_new, max_student_stop_datetime, min_student_start_datetime, number_of_distinct_instance_items, number_of_learners, org_id, org_new, points_possible_unweighted, scored_datetime, scoring_type_code, section_id, section_new, student_start_datetime, student_stop_datetime, was_fully_scored_datetime, was_in_progress_datetime, was_submitted_datetime_actual];;\n'Project [assessment_item_response_id#30, assigned_item_status#21, 'is_deleted, learner_assigned_item_attempt_id#29, 'response_correctness]\n+- Filter (learner_assignment_attempt_id#26 = 964949)\n   +- Relation[ced_assignment_type_code#0,is_affecting_grade#1,number_of_learners#2,number_of_distinct_instance_items#3,assignment_final_submission_date#4,assignment_start_date#5,assignment_due_date#6,min_student_start_datetime#7,max_student_stop_datetime#8,was_fully_scored_datetime#9,was_submitted_datetime_actual#10,was_in_progress_datetime#11,is_force_scored#12,student_start_datetime#13,student_stop_datetime#14,item_is_offline_scored#15,points_possible_unweighted#16,final_score_unweighted#17,scored_datetime#18,item_type_code_name#19,scoring_type_code#20,assigned_item_status#21,org_id#22,section_id#23,... 11 more fields] parquet\n"
     ]
    }
   ],
   "source": [
    "row = nullItDf.select('learner_assignment_attempt_id').limit(1).collect()\n",
    "learner_assignment_attempt_id = row[0][0]\n",
    "\n",
    "dfInv3.filter( F.col('learner_assignment_attempt_id') == learner_assignment_attempt_id).select(*shared4['itemAttemptVars']).distinct().toPandas()"
   ],
   "metadata": {
    "collapsed": false,
    "pycharm": {
     "name": "#%%\n"
    }
   }
  },
  {
   "cell_type": "code",
   "execution_count": null,
   "outputs": [],
   "source": [],
   "metadata": {
    "collapsed": false,
    "pycharm": {
     "name": "#%%\n"
    }
   }
  }
 ],
 "metadata": {
  "kernelspec": {
   "display_name": "Python 3",
   "language": "python",
   "name": "python3"
  },
  "language_info": {
   "codemirror_mode": {
    "name": "ipython",
    "version": 2
   },
   "file_extension": ".py",
   "mimetype": "text/x-python",
   "name": "python",
   "nbconvert_exporter": "python",
   "pygments_lexer": "ipython2",
   "version": "2.7.6"
  }
 },
 "nbformat": 4,
 "nbformat_minor": 0
}