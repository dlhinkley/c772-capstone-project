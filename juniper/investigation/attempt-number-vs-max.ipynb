{
 "cells": [
  {
   "cell_type": "code",
   "execution_count": 1,
   "outputs": [
    {
     "name": "stdout",
     "output_type": "stream",
     "text": [
      "dython              0.6.1\n",
      "tinydb              4.2.0\n"
     ]
    }
   ],
   "source": [
    "%run '../lib/libraries.ipynb'"
   ],
   "metadata": {
    "collapsed": false,
    "pycharm": {
     "name": "#%%\n"
    }
   }
  },
  {
   "cell_type": "code",
   "execution_count": 2,
   "outputs": [],
   "source": [
    "dfRaw = load_df('dfRaw')"
   ],
   "metadata": {
    "collapsed": false,
    "pycharm": {
     "name": "#%%\n"
    }
   }
  },
  {
   "cell_type": "markdown",
   "metadata": {
    "collapsed": true,
    "pycharm": {
     "name": "#%% md\n"
    }
   },
   "source": [
    "##### Investigate binary variables assignment_attempt_number and assignment_max_attempts\n",
    "Appears binary but the variable name indicates it could have any values. The data only contains 1 and 0\n"
   ]
  },
  {
   "cell_type": "code",
   "execution_count": 3,
   "outputs": [
    {
     "data": {
      "text/plain": "assignment_max_attempts       0      1  Total\nassignment_attempt_number                    \n0                          1566      0   1566\n1                             0  78982  78982\nTotal                      1566  78982  80548",
      "text/html": "<div>\n<style scoped>\n    .dataframe tbody tr th:only-of-type {\n        vertical-align: middle;\n    }\n\n    .dataframe tbody tr th {\n        vertical-align: top;\n    }\n\n    .dataframe thead th {\n        text-align: right;\n    }\n</style>\n<table border=\"1\" class=\"dataframe\">\n  <thead>\n    <tr style=\"text-align: right;\">\n      <th>assignment_max_attempts</th>\n      <th>0</th>\n      <th>1</th>\n      <th>Total</th>\n    </tr>\n    <tr>\n      <th>assignment_attempt_number</th>\n      <th></th>\n      <th></th>\n      <th></th>\n    </tr>\n  </thead>\n  <tbody>\n    <tr>\n      <th>0</th>\n      <td>1566</td>\n      <td>0</td>\n      <td>1566</td>\n    </tr>\n    <tr>\n      <th>1</th>\n      <td>0</td>\n      <td>78982</td>\n      <td>78982</td>\n    </tr>\n    <tr>\n      <th>Total</th>\n      <td>1566</td>\n      <td>78982</td>\n      <td>80548</td>\n    </tr>\n  </tbody>\n</table>\n</div>"
     },
     "execution_count": 3,
     "metadata": {},
     "output_type": "execute_result"
    }
   ],
   "source": [
    "def num_max_cross():\n",
    "    dfPd = dfRaw.select('assignment_attempt_number', 'assignment_max_attempts').toPandas()\n",
    "    # Return cross-tabulation table of assignment_attempt_number vs assignment_max_attempts adding counts for null values\n",
    "    return pd.crosstab(dfPd.assignment_attempt_number.fillna('null'), dfPd.assignment_max_attempts.fillna('null'), margins=True, margins_name=\"Total\")\n",
    "\n",
    "num_max_cross()"
   ],
   "metadata": {
    "collapsed": false,
    "pycharm": {
     "name": "#%%\n"
    }
   }
  },
  {
   "cell_type": "markdown",
   "source": [
    "- both variables only contain \"0\" 1566 out of 78,982 observations, otherwise the value is always \"1\"\n",
    "- are they the same 1566 as the \"[unassigned]\" in response_correctness"
   ],
   "metadata": {
    "collapsed": false
   }
  },
  {
   "cell_type": "markdown",
   "source": [
    "###### Verify same variables as the  1566 as the \"[unassigned]\" in response_correctness"
   ],
   "metadata": {
    "collapsed": false
   }
  },
  {
   "cell_type": "code",
   "execution_count": 4,
   "outputs": [
    {
     "data": {
      "text/plain": "1566"
     },
     "execution_count": 4,
     "metadata": {},
     "output_type": "execute_result"
    }
   ],
   "source": [
    "dfRaw.where( ( F.col('response_correctness') == '[unassigned]') & (F.col('assignment_max_attempts') == 0) & (F.col('assignment_attempt_number') == 0)).select().count()"
   ],
   "metadata": {
    "collapsed": false,
    "pycharm": {
     "name": "#%%\n"
    }
   }
  },
  {
   "cell_type": "markdown",
   "source": [
    "- This is related to the 1566 as the \"[unassigned]\" in response_correctness\n",
    "- Address in the investigation of the 1566"
   ],
   "metadata": {
    "collapsed": false,
    "pycharm": {
     "name": "#%% md\n"
    }
   }
  },
  {
   "cell_type": "code",
   "execution_count": 5,
   "outputs": [],
   "source": [
    "finish_todo(\"Investigate binary variables assignment_attempt_number and assignment_max_attempts\")"
   ],
   "metadata": {
    "collapsed": false,
    "pycharm": {
     "name": "#%%\n"
    }
   }
  },
  {
   "cell_type": "code",
   "execution_count": null,
   "outputs": [],
   "source": [],
   "metadata": {
    "collapsed": false,
    "pycharm": {
     "name": "#%%\n"
    }
   }
  }
 ],
 "metadata": {
  "kernelspec": {
   "display_name": "Python 3",
   "language": "python",
   "name": "python3"
  },
  "language_info": {
   "codemirror_mode": {
    "name": "ipython",
    "version": 2
   },
   "file_extension": ".py",
   "mimetype": "text/x-python",
   "name": "python",
   "nbconvert_exporter": "python",
   "pygments_lexer": "ipython2",
   "version": "2.7.6"
  }
 },
 "nbformat": 4,
 "nbformat_minor": 0
}