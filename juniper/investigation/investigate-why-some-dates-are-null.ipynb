{
 "cells": [
  {
   "cell_type": "markdown",
   "metadata": {
    "collapsed": true,
    "pycharm": {
     "name": "#%% md\n"
    }
   },
   "source": [
    "### Investigate why some dates are null\n",
    "All variables have have null dates"
   ]
  },
  {
   "cell_type": "code",
   "execution_count": 43,
   "outputs": [
    {
     "name": "stdout",
     "output_type": "stream",
     "text": [
      "dython              0.6.1\n",
      "tinydb              4.2.0\n"
     ]
    }
   ],
   "source": [
    "%run '../lib/libraries.ipynb'"
   ],
   "metadata": {
    "collapsed": false,
    "pycharm": {
     "name": "#%%\n"
    }
   }
  },
  {
   "cell_type": "code",
   "execution_count": 44,
   "outputs": [],
   "source": [
    "dfFlt  = load_df('dfFlt')\n",
    "dfDesc = load_df('dfDesc')\n",
    "cats   = get_var_cats()"
   ],
   "metadata": {
    "collapsed": false,
    "pycharm": {
     "name": "#%%\n"
    }
   }
  },
  {
   "cell_type": "markdown",
   "source": [
    "###### Date Categories"
   ],
   "metadata": {
    "collapsed": false,
    "pycharm": {
     "name": "#%% md\n"
    }
   }
  },
  {
   "cell_type": "code",
   "execution_count": 25,
   "outputs": [
    {
     "name": "stdout",
     "output_type": "stream",
     "text": [
      "+------------------+--------------------------------+\n",
      "|Category          |Categorical Interval            |\n",
      "+------------------+--------------------------------+\n",
      "|Assignment        |assignment_due_date             |\n",
      "|Assignment        |assignment_final_submission_date|\n",
      "|Assignment        |assignment_start_date           |\n",
      "|Assignment        |max_student_stop_datetime       |\n",
      "|Assignment        |min_student_start_datetime      |\n",
      "|Assignment Attempt|scored_datetime                 |\n",
      "|Assignment Attempt|student_start_datetime          |\n",
      "|Assignment Attempt|student_stop_datetime           |\n",
      "|Assignment Attempt|was_fully_scored_datetime       |\n",
      "|Assignment Attempt|was_in_progress_datetime        |\n",
      "|Assignment Attempt|was_submitted_datetime_actual   |\n",
      "+------------------+--------------------------------+\n",
      "\n"
     ]
    }
   ],
   "source": [
    "(\n",
    "    dfDesc.filter(\"type = 'Categorical Interval'\")\n",
    "        .select( F.col('category').alias('Category'), F.col('field').alias('Categorical Interval'))\n",
    "        .orderBy('category', 'field')\n",
    "        .show(20,False)\n",
    ")"
   ],
   "metadata": {
    "collapsed": false,
    "pycharm": {
     "name": "#%%\n"
    }
   }
  },
  {
   "cell_type": "markdown",
   "source": [
    "###### Display Assignments with null assignment_due_date"
   ],
   "metadata": {
    "collapsed": false
   }
  },
  {
   "cell_type": "code",
   "execution_count": 26,
   "outputs": [
    {
     "data": {
      "text/plain": "14"
     },
     "execution_count": 26,
     "metadata": {},
     "output_type": "execute_result"
    }
   ],
   "source": [
    "dfAdd = (\n",
    "        dfFlt.filter( F.col('assignment_due_date').isNull() )\n",
    "            .select('assessment_id', *cats['assignmentVars'])\n",
    "            .distinct()\n",
    ")\n",
    "dfAdd.count()"
   ],
   "metadata": {
    "collapsed": false,
    "pycharm": {
     "name": "#%%\n"
    }
   }
  },
  {
   "cell_type": "code",
   "execution_count": 27,
   "outputs": [
    {
     "data": {
      "text/plain": "    assessment_id assignment_due_date assignment_final_submission_date  \\\n0          651386                 NaT                              NaT   \n1          648915                 NaT                              NaT   \n2          724304                 NaT                              NaT   \n3          649617                 NaT                              NaT   \n4          727353                 NaT                              NaT   \n5          650257                 NaT                              NaT   \n6          699380                 NaT                              NaT   \n7          694589                 NaT                              NaT   \n8          752431                 NaT                              NaT   \n9          695917                 NaT                              NaT   \n10         650257                 NaT                              NaT   \n11         724303                 NaT                              NaT   \n12         724364                 NaT                              NaT   \n13         724303                 NaT                              NaT   \n\n    assignment_late_submission  assignment_max_attempts assignment_start_date  \\\n0                        False                        0                   NaT   \n1                        False                        0                   NaT   \n2                        False                        0                   NaT   \n3                        False                        0                   NaT   \n4                        False                        0                   NaT   \n5                        False                        0                   NaT   \n6                        False                        0                   NaT   \n7                        False                        0                   NaT   \n8                        False                        0                   NaT   \n9                        False                        0                   NaT   \n10                       False                        0                   NaT   \n11                       False                        0                   NaT   \n12                       False                        0                   NaT   \n13                       False                        0                   NaT   \n\n   ced_assignment_type_code  is_affecting_grade max_student_stop_datetime  \\\n0                    rubric                True   2019-10-14 18:21:14.218   \n1                      game                True   2019-10-16 16:04:30.823   \n2                      game                True   2020-04-06 16:43:46.137   \n3                      game                True   2020-03-05 20:31:47.482   \n4                      game                True   2020-03-20 05:40:51.557   \n5                      game                True   2019-11-04 20:39:55.217   \n6                      game                True   2019-09-10 14:44:06.405   \n7                      game                True   2020-01-22 20:51:51.617   \n8                    rubric                True   2019-10-14 18:21:11.124   \n9                      game                True   2019-10-25 19:06:18.094   \n10                     game                True   2019-11-08 19:33:39.400   \n11                     game                True   2020-03-26 00:24:54.259   \n12                     game                True   2020-04-25 20:44:02.962   \n13                     game                True   2019-10-24 18:34:44.312   \n\n   min_student_start_datetime  number_of_distinct_instance_items  \\\n0     2019-10-14 18:20:20.679                                  2   \n1     2019-10-16 15:49:32.513                                 10   \n2     2020-03-23 20:50:47.544                                 10   \n3     2020-03-04 18:14:24.499                                 10   \n4     2020-03-09 13:16:37.579                                 10   \n5     2019-11-04 16:11:26.289                                 10   \n6     2019-09-10 14:36:29.961                                  5   \n7     2020-01-10 19:08:01.434                                 10   \n8     2019-10-14 18:21:11.124                                  3   \n9     2019-10-25 18:59:17.046                                 10   \n10    2019-11-08 16:26:07.484                                 10   \n11    2020-03-17 18:57:38.926                                 10   \n12    2020-04-01 01:22:00.607                                 10   \n13    2019-10-17 00:50:13.965                                 10   \n\n    number_of_learners  \n0                    4  \n1                   12  \n2                    6  \n3                   32  \n4                   12  \n5                   29  \n6                    1  \n7                    2  \n8                    1  \n9                    1  \n10                  28  \n11                   9  \n12                   6  \n13                  18  ",
      "text/html": "<div>\n<style scoped>\n    .dataframe tbody tr th:only-of-type {\n        vertical-align: middle;\n    }\n\n    .dataframe tbody tr th {\n        vertical-align: top;\n    }\n\n    .dataframe thead th {\n        text-align: right;\n    }\n</style>\n<table border=\"1\" class=\"dataframe\">\n  <thead>\n    <tr style=\"text-align: right;\">\n      <th></th>\n      <th>assessment_id</th>\n      <th>assignment_due_date</th>\n      <th>assignment_final_submission_date</th>\n      <th>assignment_late_submission</th>\n      <th>assignment_max_attempts</th>\n      <th>assignment_start_date</th>\n      <th>ced_assignment_type_code</th>\n      <th>is_affecting_grade</th>\n      <th>max_student_stop_datetime</th>\n      <th>min_student_start_datetime</th>\n      <th>number_of_distinct_instance_items</th>\n      <th>number_of_learners</th>\n    </tr>\n  </thead>\n  <tbody>\n    <tr>\n      <th>0</th>\n      <td>651386</td>\n      <td>NaT</td>\n      <td>NaT</td>\n      <td>False</td>\n      <td>0</td>\n      <td>NaT</td>\n      <td>rubric</td>\n      <td>True</td>\n      <td>2019-10-14 18:21:14.218</td>\n      <td>2019-10-14 18:20:20.679</td>\n      <td>2</td>\n      <td>4</td>\n    </tr>\n    <tr>\n      <th>1</th>\n      <td>648915</td>\n      <td>NaT</td>\n      <td>NaT</td>\n      <td>False</td>\n      <td>0</td>\n      <td>NaT</td>\n      <td>game</td>\n      <td>True</td>\n      <td>2019-10-16 16:04:30.823</td>\n      <td>2019-10-16 15:49:32.513</td>\n      <td>10</td>\n      <td>12</td>\n    </tr>\n    <tr>\n      <th>2</th>\n      <td>724304</td>\n      <td>NaT</td>\n      <td>NaT</td>\n      <td>False</td>\n      <td>0</td>\n      <td>NaT</td>\n      <td>game</td>\n      <td>True</td>\n      <td>2020-04-06 16:43:46.137</td>\n      <td>2020-03-23 20:50:47.544</td>\n      <td>10</td>\n      <td>6</td>\n    </tr>\n    <tr>\n      <th>3</th>\n      <td>649617</td>\n      <td>NaT</td>\n      <td>NaT</td>\n      <td>False</td>\n      <td>0</td>\n      <td>NaT</td>\n      <td>game</td>\n      <td>True</td>\n      <td>2020-03-05 20:31:47.482</td>\n      <td>2020-03-04 18:14:24.499</td>\n      <td>10</td>\n      <td>32</td>\n    </tr>\n    <tr>\n      <th>4</th>\n      <td>727353</td>\n      <td>NaT</td>\n      <td>NaT</td>\n      <td>False</td>\n      <td>0</td>\n      <td>NaT</td>\n      <td>game</td>\n      <td>True</td>\n      <td>2020-03-20 05:40:51.557</td>\n      <td>2020-03-09 13:16:37.579</td>\n      <td>10</td>\n      <td>12</td>\n    </tr>\n    <tr>\n      <th>5</th>\n      <td>650257</td>\n      <td>NaT</td>\n      <td>NaT</td>\n      <td>False</td>\n      <td>0</td>\n      <td>NaT</td>\n      <td>game</td>\n      <td>True</td>\n      <td>2019-11-04 20:39:55.217</td>\n      <td>2019-11-04 16:11:26.289</td>\n      <td>10</td>\n      <td>29</td>\n    </tr>\n    <tr>\n      <th>6</th>\n      <td>699380</td>\n      <td>NaT</td>\n      <td>NaT</td>\n      <td>False</td>\n      <td>0</td>\n      <td>NaT</td>\n      <td>game</td>\n      <td>True</td>\n      <td>2019-09-10 14:44:06.405</td>\n      <td>2019-09-10 14:36:29.961</td>\n      <td>5</td>\n      <td>1</td>\n    </tr>\n    <tr>\n      <th>7</th>\n      <td>694589</td>\n      <td>NaT</td>\n      <td>NaT</td>\n      <td>False</td>\n      <td>0</td>\n      <td>NaT</td>\n      <td>game</td>\n      <td>True</td>\n      <td>2020-01-22 20:51:51.617</td>\n      <td>2020-01-10 19:08:01.434</td>\n      <td>10</td>\n      <td>2</td>\n    </tr>\n    <tr>\n      <th>8</th>\n      <td>752431</td>\n      <td>NaT</td>\n      <td>NaT</td>\n      <td>False</td>\n      <td>0</td>\n      <td>NaT</td>\n      <td>rubric</td>\n      <td>True</td>\n      <td>2019-10-14 18:21:11.124</td>\n      <td>2019-10-14 18:21:11.124</td>\n      <td>3</td>\n      <td>1</td>\n    </tr>\n    <tr>\n      <th>9</th>\n      <td>695917</td>\n      <td>NaT</td>\n      <td>NaT</td>\n      <td>False</td>\n      <td>0</td>\n      <td>NaT</td>\n      <td>game</td>\n      <td>True</td>\n      <td>2019-10-25 19:06:18.094</td>\n      <td>2019-10-25 18:59:17.046</td>\n      <td>10</td>\n      <td>1</td>\n    </tr>\n    <tr>\n      <th>10</th>\n      <td>650257</td>\n      <td>NaT</td>\n      <td>NaT</td>\n      <td>False</td>\n      <td>0</td>\n      <td>NaT</td>\n      <td>game</td>\n      <td>True</td>\n      <td>2019-11-08 19:33:39.400</td>\n      <td>2019-11-08 16:26:07.484</td>\n      <td>10</td>\n      <td>28</td>\n    </tr>\n    <tr>\n      <th>11</th>\n      <td>724303</td>\n      <td>NaT</td>\n      <td>NaT</td>\n      <td>False</td>\n      <td>0</td>\n      <td>NaT</td>\n      <td>game</td>\n      <td>True</td>\n      <td>2020-03-26 00:24:54.259</td>\n      <td>2020-03-17 18:57:38.926</td>\n      <td>10</td>\n      <td>9</td>\n    </tr>\n    <tr>\n      <th>12</th>\n      <td>724364</td>\n      <td>NaT</td>\n      <td>NaT</td>\n      <td>False</td>\n      <td>0</td>\n      <td>NaT</td>\n      <td>game</td>\n      <td>True</td>\n      <td>2020-04-25 20:44:02.962</td>\n      <td>2020-04-01 01:22:00.607</td>\n      <td>10</td>\n      <td>6</td>\n    </tr>\n    <tr>\n      <th>13</th>\n      <td>724303</td>\n      <td>NaT</td>\n      <td>NaT</td>\n      <td>False</td>\n      <td>0</td>\n      <td>NaT</td>\n      <td>game</td>\n      <td>True</td>\n      <td>2019-10-24 18:34:44.312</td>\n      <td>2019-10-17 00:50:13.965</td>\n      <td>10</td>\n      <td>18</td>\n    </tr>\n  </tbody>\n</table>\n</div>"
     },
     "execution_count": 27,
     "metadata": {},
     "output_type": "execute_result"
    }
   ],
   "source": [
    "dfAdd.orderBy('assignment_due_date').toPandas()"
   ],
   "metadata": {
    "collapsed": false,
    "pycharm": {
     "name": "#%%\n"
    }
   }
  },
  {
   "cell_type": "markdown",
   "source": [
    "###### Display Assignments with null assignment_final_submission_date"
   ],
   "metadata": {
    "collapsed": false
   }
  },
  {
   "cell_type": "code",
   "execution_count": 28,
   "outputs": [
    {
     "data": {
      "text/plain": "14"
     },
     "execution_count": 28,
     "metadata": {},
     "output_type": "execute_result"
    }
   ],
   "source": [
    "dfAdd = (\n",
    "        dfFlt.filter( F.col('assignment_final_submission_date').isNull() )\n",
    "            .select('assessment_id', *cats['assignmentVars'])\n",
    "            .distinct()\n",
    ")\n",
    "dfAdd.count()"
   ],
   "metadata": {
    "collapsed": false,
    "pycharm": {
     "name": "#%%\n"
    }
   }
  },
  {
   "cell_type": "code",
   "execution_count": 29,
   "outputs": [
    {
     "data": {
      "text/plain": "    assessment_id assignment_due_date assignment_final_submission_date  \\\n0          651386                 NaT                              NaT   \n1          648915                 NaT                              NaT   \n2          724304                 NaT                              NaT   \n3          649617                 NaT                              NaT   \n4          727353                 NaT                              NaT   \n5          650257                 NaT                              NaT   \n6          699380                 NaT                              NaT   \n7          694589                 NaT                              NaT   \n8          752431                 NaT                              NaT   \n9          695917                 NaT                              NaT   \n10         650257                 NaT                              NaT   \n11         724303                 NaT                              NaT   \n12         724364                 NaT                              NaT   \n13         724303                 NaT                              NaT   \n\n    assignment_late_submission  assignment_max_attempts assignment_start_date  \\\n0                        False                        0                   NaT   \n1                        False                        0                   NaT   \n2                        False                        0                   NaT   \n3                        False                        0                   NaT   \n4                        False                        0                   NaT   \n5                        False                        0                   NaT   \n6                        False                        0                   NaT   \n7                        False                        0                   NaT   \n8                        False                        0                   NaT   \n9                        False                        0                   NaT   \n10                       False                        0                   NaT   \n11                       False                        0                   NaT   \n12                       False                        0                   NaT   \n13                       False                        0                   NaT   \n\n   ced_assignment_type_code  is_affecting_grade max_student_stop_datetime  \\\n0                    rubric                True   2019-10-14 18:21:14.218   \n1                      game                True   2019-10-16 16:04:30.823   \n2                      game                True   2020-04-06 16:43:46.137   \n3                      game                True   2020-03-05 20:31:47.482   \n4                      game                True   2020-03-20 05:40:51.557   \n5                      game                True   2019-11-04 20:39:55.217   \n6                      game                True   2019-09-10 14:44:06.405   \n7                      game                True   2020-01-22 20:51:51.617   \n8                    rubric                True   2019-10-14 18:21:11.124   \n9                      game                True   2019-10-25 19:06:18.094   \n10                     game                True   2019-11-08 19:33:39.400   \n11                     game                True   2020-03-26 00:24:54.259   \n12                     game                True   2020-04-25 20:44:02.962   \n13                     game                True   2019-10-24 18:34:44.312   \n\n   min_student_start_datetime  number_of_distinct_instance_items  \\\n0     2019-10-14 18:20:20.679                                  2   \n1     2019-10-16 15:49:32.513                                 10   \n2     2020-03-23 20:50:47.544                                 10   \n3     2020-03-04 18:14:24.499                                 10   \n4     2020-03-09 13:16:37.579                                 10   \n5     2019-11-04 16:11:26.289                                 10   \n6     2019-09-10 14:36:29.961                                  5   \n7     2020-01-10 19:08:01.434                                 10   \n8     2019-10-14 18:21:11.124                                  3   \n9     2019-10-25 18:59:17.046                                 10   \n10    2019-11-08 16:26:07.484                                 10   \n11    2020-03-17 18:57:38.926                                 10   \n12    2020-04-01 01:22:00.607                                 10   \n13    2019-10-17 00:50:13.965                                 10   \n\n    number_of_learners  \n0                    4  \n1                   12  \n2                    6  \n3                   32  \n4                   12  \n5                   29  \n6                    1  \n7                    2  \n8                    1  \n9                    1  \n10                  28  \n11                   9  \n12                   6  \n13                  18  ",
      "text/html": "<div>\n<style scoped>\n    .dataframe tbody tr th:only-of-type {\n        vertical-align: middle;\n    }\n\n    .dataframe tbody tr th {\n        vertical-align: top;\n    }\n\n    .dataframe thead th {\n        text-align: right;\n    }\n</style>\n<table border=\"1\" class=\"dataframe\">\n  <thead>\n    <tr style=\"text-align: right;\">\n      <th></th>\n      <th>assessment_id</th>\n      <th>assignment_due_date</th>\n      <th>assignment_final_submission_date</th>\n      <th>assignment_late_submission</th>\n      <th>assignment_max_attempts</th>\n      <th>assignment_start_date</th>\n      <th>ced_assignment_type_code</th>\n      <th>is_affecting_grade</th>\n      <th>max_student_stop_datetime</th>\n      <th>min_student_start_datetime</th>\n      <th>number_of_distinct_instance_items</th>\n      <th>number_of_learners</th>\n    </tr>\n  </thead>\n  <tbody>\n    <tr>\n      <th>0</th>\n      <td>651386</td>\n      <td>NaT</td>\n      <td>NaT</td>\n      <td>False</td>\n      <td>0</td>\n      <td>NaT</td>\n      <td>rubric</td>\n      <td>True</td>\n      <td>2019-10-14 18:21:14.218</td>\n      <td>2019-10-14 18:20:20.679</td>\n      <td>2</td>\n      <td>4</td>\n    </tr>\n    <tr>\n      <th>1</th>\n      <td>648915</td>\n      <td>NaT</td>\n      <td>NaT</td>\n      <td>False</td>\n      <td>0</td>\n      <td>NaT</td>\n      <td>game</td>\n      <td>True</td>\n      <td>2019-10-16 16:04:30.823</td>\n      <td>2019-10-16 15:49:32.513</td>\n      <td>10</td>\n      <td>12</td>\n    </tr>\n    <tr>\n      <th>2</th>\n      <td>724304</td>\n      <td>NaT</td>\n      <td>NaT</td>\n      <td>False</td>\n      <td>0</td>\n      <td>NaT</td>\n      <td>game</td>\n      <td>True</td>\n      <td>2020-04-06 16:43:46.137</td>\n      <td>2020-03-23 20:50:47.544</td>\n      <td>10</td>\n      <td>6</td>\n    </tr>\n    <tr>\n      <th>3</th>\n      <td>649617</td>\n      <td>NaT</td>\n      <td>NaT</td>\n      <td>False</td>\n      <td>0</td>\n      <td>NaT</td>\n      <td>game</td>\n      <td>True</td>\n      <td>2020-03-05 20:31:47.482</td>\n      <td>2020-03-04 18:14:24.499</td>\n      <td>10</td>\n      <td>32</td>\n    </tr>\n    <tr>\n      <th>4</th>\n      <td>727353</td>\n      <td>NaT</td>\n      <td>NaT</td>\n      <td>False</td>\n      <td>0</td>\n      <td>NaT</td>\n      <td>game</td>\n      <td>True</td>\n      <td>2020-03-20 05:40:51.557</td>\n      <td>2020-03-09 13:16:37.579</td>\n      <td>10</td>\n      <td>12</td>\n    </tr>\n    <tr>\n      <th>5</th>\n      <td>650257</td>\n      <td>NaT</td>\n      <td>NaT</td>\n      <td>False</td>\n      <td>0</td>\n      <td>NaT</td>\n      <td>game</td>\n      <td>True</td>\n      <td>2019-11-04 20:39:55.217</td>\n      <td>2019-11-04 16:11:26.289</td>\n      <td>10</td>\n      <td>29</td>\n    </tr>\n    <tr>\n      <th>6</th>\n      <td>699380</td>\n      <td>NaT</td>\n      <td>NaT</td>\n      <td>False</td>\n      <td>0</td>\n      <td>NaT</td>\n      <td>game</td>\n      <td>True</td>\n      <td>2019-09-10 14:44:06.405</td>\n      <td>2019-09-10 14:36:29.961</td>\n      <td>5</td>\n      <td>1</td>\n    </tr>\n    <tr>\n      <th>7</th>\n      <td>694589</td>\n      <td>NaT</td>\n      <td>NaT</td>\n      <td>False</td>\n      <td>0</td>\n      <td>NaT</td>\n      <td>game</td>\n      <td>True</td>\n      <td>2020-01-22 20:51:51.617</td>\n      <td>2020-01-10 19:08:01.434</td>\n      <td>10</td>\n      <td>2</td>\n    </tr>\n    <tr>\n      <th>8</th>\n      <td>752431</td>\n      <td>NaT</td>\n      <td>NaT</td>\n      <td>False</td>\n      <td>0</td>\n      <td>NaT</td>\n      <td>rubric</td>\n      <td>True</td>\n      <td>2019-10-14 18:21:11.124</td>\n      <td>2019-10-14 18:21:11.124</td>\n      <td>3</td>\n      <td>1</td>\n    </tr>\n    <tr>\n      <th>9</th>\n      <td>695917</td>\n      <td>NaT</td>\n      <td>NaT</td>\n      <td>False</td>\n      <td>0</td>\n      <td>NaT</td>\n      <td>game</td>\n      <td>True</td>\n      <td>2019-10-25 19:06:18.094</td>\n      <td>2019-10-25 18:59:17.046</td>\n      <td>10</td>\n      <td>1</td>\n    </tr>\n    <tr>\n      <th>10</th>\n      <td>650257</td>\n      <td>NaT</td>\n      <td>NaT</td>\n      <td>False</td>\n      <td>0</td>\n      <td>NaT</td>\n      <td>game</td>\n      <td>True</td>\n      <td>2019-11-08 19:33:39.400</td>\n      <td>2019-11-08 16:26:07.484</td>\n      <td>10</td>\n      <td>28</td>\n    </tr>\n    <tr>\n      <th>11</th>\n      <td>724303</td>\n      <td>NaT</td>\n      <td>NaT</td>\n      <td>False</td>\n      <td>0</td>\n      <td>NaT</td>\n      <td>game</td>\n      <td>True</td>\n      <td>2020-03-26 00:24:54.259</td>\n      <td>2020-03-17 18:57:38.926</td>\n      <td>10</td>\n      <td>9</td>\n    </tr>\n    <tr>\n      <th>12</th>\n      <td>724364</td>\n      <td>NaT</td>\n      <td>NaT</td>\n      <td>False</td>\n      <td>0</td>\n      <td>NaT</td>\n      <td>game</td>\n      <td>True</td>\n      <td>2020-04-25 20:44:02.962</td>\n      <td>2020-04-01 01:22:00.607</td>\n      <td>10</td>\n      <td>6</td>\n    </tr>\n    <tr>\n      <th>13</th>\n      <td>724303</td>\n      <td>NaT</td>\n      <td>NaT</td>\n      <td>False</td>\n      <td>0</td>\n      <td>NaT</td>\n      <td>game</td>\n      <td>True</td>\n      <td>2019-10-24 18:34:44.312</td>\n      <td>2019-10-17 00:50:13.965</td>\n      <td>10</td>\n      <td>18</td>\n    </tr>\n  </tbody>\n</table>\n</div>"
     },
     "execution_count": 29,
     "metadata": {},
     "output_type": "execute_result"
    }
   ],
   "source": [
    "dfAdd.orderBy('assignment_due_date').toPandas()"
   ],
   "metadata": {
    "collapsed": false,
    "pycharm": {
     "name": "#%%\n"
    }
   }
  },
  {
   "cell_type": "markdown",
   "source": [
    "###### Display Assignments with null assignment_start_date"
   ],
   "metadata": {
    "collapsed": false
   }
  },
  {
   "cell_type": "code",
   "execution_count": 30,
   "outputs": [
    {
     "data": {
      "text/plain": "14"
     },
     "execution_count": 30,
     "metadata": {},
     "output_type": "execute_result"
    }
   ],
   "source": [
    "dfAdd = (\n",
    "        dfFlt.filter( F.col('assignment_start_date').isNull() )\n",
    "            .select('assessment_id', *cats['assignmentVars'])\n",
    "            .distinct()\n",
    ")\n",
    "dfAdd.count()"
   ],
   "metadata": {
    "collapsed": false,
    "pycharm": {
     "name": "#%%\n"
    }
   }
  },
  {
   "cell_type": "code",
   "execution_count": 31,
   "outputs": [
    {
     "data": {
      "text/plain": "    assessment_id assignment_due_date assignment_final_submission_date  \\\n0          651386                 NaT                              NaT   \n1          648915                 NaT                              NaT   \n2          724304                 NaT                              NaT   \n3          649617                 NaT                              NaT   \n4          727353                 NaT                              NaT   \n5          650257                 NaT                              NaT   \n6          699380                 NaT                              NaT   \n7          694589                 NaT                              NaT   \n8          752431                 NaT                              NaT   \n9          695917                 NaT                              NaT   \n10         650257                 NaT                              NaT   \n11         724303                 NaT                              NaT   \n12         724364                 NaT                              NaT   \n13         724303                 NaT                              NaT   \n\n    assignment_late_submission  assignment_max_attempts assignment_start_date  \\\n0                        False                        0                   NaT   \n1                        False                        0                   NaT   \n2                        False                        0                   NaT   \n3                        False                        0                   NaT   \n4                        False                        0                   NaT   \n5                        False                        0                   NaT   \n6                        False                        0                   NaT   \n7                        False                        0                   NaT   \n8                        False                        0                   NaT   \n9                        False                        0                   NaT   \n10                       False                        0                   NaT   \n11                       False                        0                   NaT   \n12                       False                        0                   NaT   \n13                       False                        0                   NaT   \n\n   ced_assignment_type_code  is_affecting_grade max_student_stop_datetime  \\\n0                    rubric                True   2019-10-14 18:21:14.218   \n1                      game                True   2019-10-16 16:04:30.823   \n2                      game                True   2020-04-06 16:43:46.137   \n3                      game                True   2020-03-05 20:31:47.482   \n4                      game                True   2020-03-20 05:40:51.557   \n5                      game                True   2019-11-04 20:39:55.217   \n6                      game                True   2019-09-10 14:44:06.405   \n7                      game                True   2020-01-22 20:51:51.617   \n8                    rubric                True   2019-10-14 18:21:11.124   \n9                      game                True   2019-10-25 19:06:18.094   \n10                     game                True   2019-11-08 19:33:39.400   \n11                     game                True   2020-03-26 00:24:54.259   \n12                     game                True   2020-04-25 20:44:02.962   \n13                     game                True   2019-10-24 18:34:44.312   \n\n   min_student_start_datetime  number_of_distinct_instance_items  \\\n0     2019-10-14 18:20:20.679                                  2   \n1     2019-10-16 15:49:32.513                                 10   \n2     2020-03-23 20:50:47.544                                 10   \n3     2020-03-04 18:14:24.499                                 10   \n4     2020-03-09 13:16:37.579                                 10   \n5     2019-11-04 16:11:26.289                                 10   \n6     2019-09-10 14:36:29.961                                  5   \n7     2020-01-10 19:08:01.434                                 10   \n8     2019-10-14 18:21:11.124                                  3   \n9     2019-10-25 18:59:17.046                                 10   \n10    2019-11-08 16:26:07.484                                 10   \n11    2020-03-17 18:57:38.926                                 10   \n12    2020-04-01 01:22:00.607                                 10   \n13    2019-10-17 00:50:13.965                                 10   \n\n    number_of_learners  \n0                    4  \n1                   12  \n2                    6  \n3                   32  \n4                   12  \n5                   29  \n6                    1  \n7                    2  \n8                    1  \n9                    1  \n10                  28  \n11                   9  \n12                   6  \n13                  18  ",
      "text/html": "<div>\n<style scoped>\n    .dataframe tbody tr th:only-of-type {\n        vertical-align: middle;\n    }\n\n    .dataframe tbody tr th {\n        vertical-align: top;\n    }\n\n    .dataframe thead th {\n        text-align: right;\n    }\n</style>\n<table border=\"1\" class=\"dataframe\">\n  <thead>\n    <tr style=\"text-align: right;\">\n      <th></th>\n      <th>assessment_id</th>\n      <th>assignment_due_date</th>\n      <th>assignment_final_submission_date</th>\n      <th>assignment_late_submission</th>\n      <th>assignment_max_attempts</th>\n      <th>assignment_start_date</th>\n      <th>ced_assignment_type_code</th>\n      <th>is_affecting_grade</th>\n      <th>max_student_stop_datetime</th>\n      <th>min_student_start_datetime</th>\n      <th>number_of_distinct_instance_items</th>\n      <th>number_of_learners</th>\n    </tr>\n  </thead>\n  <tbody>\n    <tr>\n      <th>0</th>\n      <td>651386</td>\n      <td>NaT</td>\n      <td>NaT</td>\n      <td>False</td>\n      <td>0</td>\n      <td>NaT</td>\n      <td>rubric</td>\n      <td>True</td>\n      <td>2019-10-14 18:21:14.218</td>\n      <td>2019-10-14 18:20:20.679</td>\n      <td>2</td>\n      <td>4</td>\n    </tr>\n    <tr>\n      <th>1</th>\n      <td>648915</td>\n      <td>NaT</td>\n      <td>NaT</td>\n      <td>False</td>\n      <td>0</td>\n      <td>NaT</td>\n      <td>game</td>\n      <td>True</td>\n      <td>2019-10-16 16:04:30.823</td>\n      <td>2019-10-16 15:49:32.513</td>\n      <td>10</td>\n      <td>12</td>\n    </tr>\n    <tr>\n      <th>2</th>\n      <td>724304</td>\n      <td>NaT</td>\n      <td>NaT</td>\n      <td>False</td>\n      <td>0</td>\n      <td>NaT</td>\n      <td>game</td>\n      <td>True</td>\n      <td>2020-04-06 16:43:46.137</td>\n      <td>2020-03-23 20:50:47.544</td>\n      <td>10</td>\n      <td>6</td>\n    </tr>\n    <tr>\n      <th>3</th>\n      <td>649617</td>\n      <td>NaT</td>\n      <td>NaT</td>\n      <td>False</td>\n      <td>0</td>\n      <td>NaT</td>\n      <td>game</td>\n      <td>True</td>\n      <td>2020-03-05 20:31:47.482</td>\n      <td>2020-03-04 18:14:24.499</td>\n      <td>10</td>\n      <td>32</td>\n    </tr>\n    <tr>\n      <th>4</th>\n      <td>727353</td>\n      <td>NaT</td>\n      <td>NaT</td>\n      <td>False</td>\n      <td>0</td>\n      <td>NaT</td>\n      <td>game</td>\n      <td>True</td>\n      <td>2020-03-20 05:40:51.557</td>\n      <td>2020-03-09 13:16:37.579</td>\n      <td>10</td>\n      <td>12</td>\n    </tr>\n    <tr>\n      <th>5</th>\n      <td>650257</td>\n      <td>NaT</td>\n      <td>NaT</td>\n      <td>False</td>\n      <td>0</td>\n      <td>NaT</td>\n      <td>game</td>\n      <td>True</td>\n      <td>2019-11-04 20:39:55.217</td>\n      <td>2019-11-04 16:11:26.289</td>\n      <td>10</td>\n      <td>29</td>\n    </tr>\n    <tr>\n      <th>6</th>\n      <td>699380</td>\n      <td>NaT</td>\n      <td>NaT</td>\n      <td>False</td>\n      <td>0</td>\n      <td>NaT</td>\n      <td>game</td>\n      <td>True</td>\n      <td>2019-09-10 14:44:06.405</td>\n      <td>2019-09-10 14:36:29.961</td>\n      <td>5</td>\n      <td>1</td>\n    </tr>\n    <tr>\n      <th>7</th>\n      <td>694589</td>\n      <td>NaT</td>\n      <td>NaT</td>\n      <td>False</td>\n      <td>0</td>\n      <td>NaT</td>\n      <td>game</td>\n      <td>True</td>\n      <td>2020-01-22 20:51:51.617</td>\n      <td>2020-01-10 19:08:01.434</td>\n      <td>10</td>\n      <td>2</td>\n    </tr>\n    <tr>\n      <th>8</th>\n      <td>752431</td>\n      <td>NaT</td>\n      <td>NaT</td>\n      <td>False</td>\n      <td>0</td>\n      <td>NaT</td>\n      <td>rubric</td>\n      <td>True</td>\n      <td>2019-10-14 18:21:11.124</td>\n      <td>2019-10-14 18:21:11.124</td>\n      <td>3</td>\n      <td>1</td>\n    </tr>\n    <tr>\n      <th>9</th>\n      <td>695917</td>\n      <td>NaT</td>\n      <td>NaT</td>\n      <td>False</td>\n      <td>0</td>\n      <td>NaT</td>\n      <td>game</td>\n      <td>True</td>\n      <td>2019-10-25 19:06:18.094</td>\n      <td>2019-10-25 18:59:17.046</td>\n      <td>10</td>\n      <td>1</td>\n    </tr>\n    <tr>\n      <th>10</th>\n      <td>650257</td>\n      <td>NaT</td>\n      <td>NaT</td>\n      <td>False</td>\n      <td>0</td>\n      <td>NaT</td>\n      <td>game</td>\n      <td>True</td>\n      <td>2019-11-08 19:33:39.400</td>\n      <td>2019-11-08 16:26:07.484</td>\n      <td>10</td>\n      <td>28</td>\n    </tr>\n    <tr>\n      <th>11</th>\n      <td>724303</td>\n      <td>NaT</td>\n      <td>NaT</td>\n      <td>False</td>\n      <td>0</td>\n      <td>NaT</td>\n      <td>game</td>\n      <td>True</td>\n      <td>2020-03-26 00:24:54.259</td>\n      <td>2020-03-17 18:57:38.926</td>\n      <td>10</td>\n      <td>9</td>\n    </tr>\n    <tr>\n      <th>12</th>\n      <td>724364</td>\n      <td>NaT</td>\n      <td>NaT</td>\n      <td>False</td>\n      <td>0</td>\n      <td>NaT</td>\n      <td>game</td>\n      <td>True</td>\n      <td>2020-04-25 20:44:02.962</td>\n      <td>2020-04-01 01:22:00.607</td>\n      <td>10</td>\n      <td>6</td>\n    </tr>\n    <tr>\n      <th>13</th>\n      <td>724303</td>\n      <td>NaT</td>\n      <td>NaT</td>\n      <td>False</td>\n      <td>0</td>\n      <td>NaT</td>\n      <td>game</td>\n      <td>True</td>\n      <td>2019-10-24 18:34:44.312</td>\n      <td>2019-10-17 00:50:13.965</td>\n      <td>10</td>\n      <td>18</td>\n    </tr>\n  </tbody>\n</table>\n</div>"
     },
     "execution_count": 31,
     "metadata": {},
     "output_type": "execute_result"
    }
   ],
   "source": [
    "dfAdd.orderBy('assignment_due_date').toPandas()"
   ],
   "metadata": {
    "collapsed": false,
    "pycharm": {
     "name": "#%%\n"
    }
   }
  },
  {
   "cell_type": "markdown",
   "source": [
    "###### Display Assignments with null max_student_stop_datetime"
   ],
   "metadata": {
    "collapsed": false
   }
  },
  {
   "cell_type": "code",
   "execution_count": 32,
   "outputs": [
    {
     "data": {
      "text/plain": "0"
     },
     "execution_count": 32,
     "metadata": {},
     "output_type": "execute_result"
    }
   ],
   "source": [
    "dfAdd = (\n",
    "        dfFlt.filter( F.col('max_student_stop_datetime').isNull() )\n",
    "            .select('assessment_id', *cats['assignmentVars'])\n",
    "            .distinct()\n",
    ")\n",
    "dfAdd.count()"
   ],
   "metadata": {
    "collapsed": false,
    "pycharm": {
     "name": "#%%\n"
    }
   }
  },
  {
   "cell_type": "code",
   "execution_count": 33,
   "outputs": [
    {
     "data": {
      "text/plain": "Empty DataFrame\nColumns: [assessment_id, assignment_due_date, assignment_final_submission_date, assignment_late_submission, assignment_max_attempts, assignment_start_date, ced_assignment_type_code, is_affecting_grade, max_student_stop_datetime, min_student_start_datetime, number_of_distinct_instance_items, number_of_learners]\nIndex: []",
      "text/html": "<div>\n<style scoped>\n    .dataframe tbody tr th:only-of-type {\n        vertical-align: middle;\n    }\n\n    .dataframe tbody tr th {\n        vertical-align: top;\n    }\n\n    .dataframe thead th {\n        text-align: right;\n    }\n</style>\n<table border=\"1\" class=\"dataframe\">\n  <thead>\n    <tr style=\"text-align: right;\">\n      <th></th>\n      <th>assessment_id</th>\n      <th>assignment_due_date</th>\n      <th>assignment_final_submission_date</th>\n      <th>assignment_late_submission</th>\n      <th>assignment_max_attempts</th>\n      <th>assignment_start_date</th>\n      <th>ced_assignment_type_code</th>\n      <th>is_affecting_grade</th>\n      <th>max_student_stop_datetime</th>\n      <th>min_student_start_datetime</th>\n      <th>number_of_distinct_instance_items</th>\n      <th>number_of_learners</th>\n    </tr>\n  </thead>\n  <tbody>\n  </tbody>\n</table>\n</div>"
     },
     "execution_count": 33,
     "metadata": {},
     "output_type": "execute_result"
    }
   ],
   "source": [
    "dfAdd.orderBy('assignment_due_date').toPandas()"
   ],
   "metadata": {
    "collapsed": false,
    "pycharm": {
     "name": "#%%\n"
    }
   }
  },
  {
   "cell_type": "markdown",
   "source": [
    "###### Display Assignments with null min_student_start_datetime"
   ],
   "metadata": {
    "collapsed": false
   }
  },
  {
   "cell_type": "code",
   "execution_count": 34,
   "outputs": [
    {
     "data": {
      "text/plain": "0"
     },
     "execution_count": 34,
     "metadata": {},
     "output_type": "execute_result"
    }
   ],
   "source": [
    "dfAdd = (\n",
    "        dfFlt.filter( F.col('min_student_start_datetime').isNull() )\n",
    "            .select('assessment_id', *cats['assignmentVars'])\n",
    "            .distinct()\n",
    ")\n",
    "dfAdd.count()"
   ],
   "metadata": {
    "collapsed": false,
    "pycharm": {
     "name": "#%%\n"
    }
   }
  },
  {
   "cell_type": "code",
   "execution_count": 35,
   "outputs": [
    {
     "data": {
      "text/plain": "Empty DataFrame\nColumns: [assessment_id, assignment_due_date, assignment_final_submission_date, assignment_late_submission, assignment_max_attempts, assignment_start_date, ced_assignment_type_code, is_affecting_grade, max_student_stop_datetime, min_student_start_datetime, number_of_distinct_instance_items, number_of_learners]\nIndex: []",
      "text/html": "<div>\n<style scoped>\n    .dataframe tbody tr th:only-of-type {\n        vertical-align: middle;\n    }\n\n    .dataframe tbody tr th {\n        vertical-align: top;\n    }\n\n    .dataframe thead th {\n        text-align: right;\n    }\n</style>\n<table border=\"1\" class=\"dataframe\">\n  <thead>\n    <tr style=\"text-align: right;\">\n      <th></th>\n      <th>assessment_id</th>\n      <th>assignment_due_date</th>\n      <th>assignment_final_submission_date</th>\n      <th>assignment_late_submission</th>\n      <th>assignment_max_attempts</th>\n      <th>assignment_start_date</th>\n      <th>ced_assignment_type_code</th>\n      <th>is_affecting_grade</th>\n      <th>max_student_stop_datetime</th>\n      <th>min_student_start_datetime</th>\n      <th>number_of_distinct_instance_items</th>\n      <th>number_of_learners</th>\n    </tr>\n  </thead>\n  <tbody>\n  </tbody>\n</table>\n</div>"
     },
     "execution_count": 35,
     "metadata": {},
     "output_type": "execute_result"
    }
   ],
   "source": [
    "dfAdd.orderBy('assignment_due_date').toPandas()\n"
   ],
   "metadata": {
    "collapsed": false,
    "pycharm": {
     "name": "#%%\n"
    }
   }
  },
  {
   "cell_type": "markdown",
   "source": [
    "###### Display Assignment Attempts for null scored_datetime"
   ],
   "metadata": {
    "collapsed": false
   }
  },
  {
   "cell_type": "code",
   "execution_count": 36,
   "outputs": [
    {
     "data": {
      "text/plain": "     assessment_instance_attempt_id  assignment_attempt_number  \\\n0                           1100126                          1   \n1                           1228551                          1   \n2                           1170651                          1   \n3                           1204222                          1   \n4                           1170866                          1   \n..                              ...                        ...   \n285                         1112834                          1   \n286                         1166374                          1   \n287                         1108461                          1   \n288                         1225413                          1   \n289                         1140276                          1   \n\n     final_score_unweighted  is_force_scored  is_manual_scoring_required  \\\n0                         0            False                       False   \n1                         0            False                       False   \n2                         0             True                       False   \n3                         0            False                       False   \n4                         0             True                       False   \n..                      ...              ...                         ...   \n285                       0             True                       False   \n286                       0            False                       False   \n287                       0             True                       False   \n288                       0            False                       False   \n289                       0             True                       False   \n\n     learner_assignment_attempt_id learner_attempt_status  \\\n0                          1073732           fully scored   \n1                           998365           fully scored   \n2                           976039           fully scored   \n3                           951051           fully scored   \n4                          1040219           fully scored   \n..                             ...                    ...   \n285                        1040477           fully scored   \n286                         979817           fully scored   \n287                        1057681           fully scored   \n288                        1073566           fully scored   \n289                         976313           fully scored   \n\n     points_possible_unweighted scored_datetime  student_start_datetime  \\\n0                          10.0             NaT 2019-12-17 15:26:23.662   \n1                          10.0             NaT 2020-05-01 02:59:35.812   \n2                          73.0             NaT 2020-02-26 17:19:02.535   \n3                          10.0             NaT 2019-12-04 19:03:27.217   \n4                          20.0             NaT 2020-03-10 18:19:13.438   \n..                          ...             ...                     ...   \n285                        20.0             NaT 2020-03-11 05:00:10.856   \n286                        10.0             NaT 2019-12-17 15:26:49.234   \n287                        11.0             NaT 2020-03-03 04:59:29.669   \n288                        10.0             NaT 2019-12-17 15:27:25.558   \n289                        73.0             NaT 2020-02-28 05:59:49.336   \n\n      student_stop_datetime was_fully_scored_datetime  \\\n0   2019-12-17 15:31:15.434   2019-12-17 15:31:15.000   \n1   2020-05-18 17:32:17.139   2020-05-18 17:32:17.139   \n2   2020-02-28 05:59:49.336   2020-02-28 06:00:25.734   \n3   2019-12-04 19:12:56.461   2019-12-04 19:12:56.510   \n4   2020-03-11 05:00:10.856   2020-03-11 05:00:36.017   \n..                      ...                       ...   \n285 2020-03-11 05:00:10.856   2020-03-11 05:00:37.236   \n286 2019-12-17 15:34:45.000   2019-12-17 15:34:45.000   \n287 2020-03-03 04:59:29.669   2020-03-03 05:03:38.000   \n288 2019-12-17 15:36:23.392   2019-12-17 15:36:23.000   \n289 2020-02-28 05:59:49.336   2020-02-28 06:00:26.000   \n\n    was_in_progress_datetime was_submitted_datetime_actual  \n0    2019-12-17 15:26:23.662       2019-12-17 15:31:15.434  \n1    2020-05-01 02:59:35.812                           NaT  \n2    2020-02-26 17:19:02.535                           NaT  \n3    2019-12-04 19:03:27.217       2019-12-04 19:12:56.461  \n4    2020-03-10 18:19:13.438                           NaT  \n..                       ...                           ...  \n285                      NaT                           NaT  \n286  2019-12-17 15:26:49.234                           NaT  \n287                      NaT                           NaT  \n288  2019-12-17 15:27:25.558       2019-12-17 15:36:23.392  \n289                      NaT                           NaT  \n\n[290 rows x 14 columns]",
      "text/html": "<div>\n<style scoped>\n    .dataframe tbody tr th:only-of-type {\n        vertical-align: middle;\n    }\n\n    .dataframe tbody tr th {\n        vertical-align: top;\n    }\n\n    .dataframe thead th {\n        text-align: right;\n    }\n</style>\n<table border=\"1\" class=\"dataframe\">\n  <thead>\n    <tr style=\"text-align: right;\">\n      <th></th>\n      <th>assessment_instance_attempt_id</th>\n      <th>assignment_attempt_number</th>\n      <th>final_score_unweighted</th>\n      <th>is_force_scored</th>\n      <th>is_manual_scoring_required</th>\n      <th>learner_assignment_attempt_id</th>\n      <th>learner_attempt_status</th>\n      <th>points_possible_unweighted</th>\n      <th>scored_datetime</th>\n      <th>student_start_datetime</th>\n      <th>student_stop_datetime</th>\n      <th>was_fully_scored_datetime</th>\n      <th>was_in_progress_datetime</th>\n      <th>was_submitted_datetime_actual</th>\n    </tr>\n  </thead>\n  <tbody>\n    <tr>\n      <th>0</th>\n      <td>1100126</td>\n      <td>1</td>\n      <td>0</td>\n      <td>False</td>\n      <td>False</td>\n      <td>1073732</td>\n      <td>fully scored</td>\n      <td>10.0</td>\n      <td>NaT</td>\n      <td>2019-12-17 15:26:23.662</td>\n      <td>2019-12-17 15:31:15.434</td>\n      <td>2019-12-17 15:31:15.000</td>\n      <td>2019-12-17 15:26:23.662</td>\n      <td>2019-12-17 15:31:15.434</td>\n    </tr>\n    <tr>\n      <th>1</th>\n      <td>1228551</td>\n      <td>1</td>\n      <td>0</td>\n      <td>False</td>\n      <td>False</td>\n      <td>998365</td>\n      <td>fully scored</td>\n      <td>10.0</td>\n      <td>NaT</td>\n      <td>2020-05-01 02:59:35.812</td>\n      <td>2020-05-18 17:32:17.139</td>\n      <td>2020-05-18 17:32:17.139</td>\n      <td>2020-05-01 02:59:35.812</td>\n      <td>NaT</td>\n    </tr>\n    <tr>\n      <th>2</th>\n      <td>1170651</td>\n      <td>1</td>\n      <td>0</td>\n      <td>True</td>\n      <td>False</td>\n      <td>976039</td>\n      <td>fully scored</td>\n      <td>73.0</td>\n      <td>NaT</td>\n      <td>2020-02-26 17:19:02.535</td>\n      <td>2020-02-28 05:59:49.336</td>\n      <td>2020-02-28 06:00:25.734</td>\n      <td>2020-02-26 17:19:02.535</td>\n      <td>NaT</td>\n    </tr>\n    <tr>\n      <th>3</th>\n      <td>1204222</td>\n      <td>1</td>\n      <td>0</td>\n      <td>False</td>\n      <td>False</td>\n      <td>951051</td>\n      <td>fully scored</td>\n      <td>10.0</td>\n      <td>NaT</td>\n      <td>2019-12-04 19:03:27.217</td>\n      <td>2019-12-04 19:12:56.461</td>\n      <td>2019-12-04 19:12:56.510</td>\n      <td>2019-12-04 19:03:27.217</td>\n      <td>2019-12-04 19:12:56.461</td>\n    </tr>\n    <tr>\n      <th>4</th>\n      <td>1170866</td>\n      <td>1</td>\n      <td>0</td>\n      <td>True</td>\n      <td>False</td>\n      <td>1040219</td>\n      <td>fully scored</td>\n      <td>20.0</td>\n      <td>NaT</td>\n      <td>2020-03-10 18:19:13.438</td>\n      <td>2020-03-11 05:00:10.856</td>\n      <td>2020-03-11 05:00:36.017</td>\n      <td>2020-03-10 18:19:13.438</td>\n      <td>NaT</td>\n    </tr>\n    <tr>\n      <th>...</th>\n      <td>...</td>\n      <td>...</td>\n      <td>...</td>\n      <td>...</td>\n      <td>...</td>\n      <td>...</td>\n      <td>...</td>\n      <td>...</td>\n      <td>...</td>\n      <td>...</td>\n      <td>...</td>\n      <td>...</td>\n      <td>...</td>\n      <td>...</td>\n    </tr>\n    <tr>\n      <th>285</th>\n      <td>1112834</td>\n      <td>1</td>\n      <td>0</td>\n      <td>True</td>\n      <td>False</td>\n      <td>1040477</td>\n      <td>fully scored</td>\n      <td>20.0</td>\n      <td>NaT</td>\n      <td>2020-03-11 05:00:10.856</td>\n      <td>2020-03-11 05:00:10.856</td>\n      <td>2020-03-11 05:00:37.236</td>\n      <td>NaT</td>\n      <td>NaT</td>\n    </tr>\n    <tr>\n      <th>286</th>\n      <td>1166374</td>\n      <td>1</td>\n      <td>0</td>\n      <td>False</td>\n      <td>False</td>\n      <td>979817</td>\n      <td>fully scored</td>\n      <td>10.0</td>\n      <td>NaT</td>\n      <td>2019-12-17 15:26:49.234</td>\n      <td>2019-12-17 15:34:45.000</td>\n      <td>2019-12-17 15:34:45.000</td>\n      <td>2019-12-17 15:26:49.234</td>\n      <td>NaT</td>\n    </tr>\n    <tr>\n      <th>287</th>\n      <td>1108461</td>\n      <td>1</td>\n      <td>0</td>\n      <td>True</td>\n      <td>False</td>\n      <td>1057681</td>\n      <td>fully scored</td>\n      <td>11.0</td>\n      <td>NaT</td>\n      <td>2020-03-03 04:59:29.669</td>\n      <td>2020-03-03 04:59:29.669</td>\n      <td>2020-03-03 05:03:38.000</td>\n      <td>NaT</td>\n      <td>NaT</td>\n    </tr>\n    <tr>\n      <th>288</th>\n      <td>1225413</td>\n      <td>1</td>\n      <td>0</td>\n      <td>False</td>\n      <td>False</td>\n      <td>1073566</td>\n      <td>fully scored</td>\n      <td>10.0</td>\n      <td>NaT</td>\n      <td>2019-12-17 15:27:25.558</td>\n      <td>2019-12-17 15:36:23.392</td>\n      <td>2019-12-17 15:36:23.000</td>\n      <td>2019-12-17 15:27:25.558</td>\n      <td>2019-12-17 15:36:23.392</td>\n    </tr>\n    <tr>\n      <th>289</th>\n      <td>1140276</td>\n      <td>1</td>\n      <td>0</td>\n      <td>True</td>\n      <td>False</td>\n      <td>976313</td>\n      <td>fully scored</td>\n      <td>73.0</td>\n      <td>NaT</td>\n      <td>2020-02-28 05:59:49.336</td>\n      <td>2020-02-28 05:59:49.336</td>\n      <td>2020-02-28 06:00:26.000</td>\n      <td>NaT</td>\n      <td>NaT</td>\n    </tr>\n  </tbody>\n</table>\n<p>290 rows × 14 columns</p>\n</div>"
     },
     "execution_count": 36,
     "metadata": {},
     "output_type": "execute_result"
    }
   ],
   "source": [
    "dfFlt.filter( F.col('scored_datetime').isNull() ).select(*cats['assignmentAttemptVars']).distinct().toPandas()"
   ],
   "metadata": {
    "collapsed": false,
    "pycharm": {
     "name": "#%%\n"
    }
   }
  },
  {
   "cell_type": "markdown",
   "source": [
    "###### Display Assignment Attempts for null student_start_datetime"
   ],
   "metadata": {
    "collapsed": false,
    "pycharm": {
     "name": "#%% md\n"
    }
   }
  },
  {
   "cell_type": "code",
   "execution_count": 37,
   "outputs": [
    {
     "data": {
      "text/plain": "    assessment_instance_attempt_id  assignment_attempt_number  \\\n0                              NaN                          1   \n1                        1142270.0                          1   \n2                              NaN                          1   \n3                        1147753.0                          1   \n4                        1099866.0                          1   \n..                             ...                        ...   \n71                       1171788.0                          1   \n72                       1110511.0                          1   \n73                       1116000.0                          1   \n74                             NaN                          1   \n75                       1113134.0                          1   \n\n    final_score_unweighted  is_force_scored  is_manual_scoring_required  \\\n0                       10            False                       False   \n1                       10            False                       False   \n2                        4            False                       False   \n3                       10            False                       False   \n4                       26            False                       False   \n..                     ...              ...                         ...   \n71                       6            False                       False   \n72                       9            False                       False   \n73                      10            False                       False   \n74                      32            False                       False   \n75                       9            False                       False   \n\n    learner_assignment_attempt_id learner_attempt_status  \\\n0                         1011070           fully scored   \n1                         1095588           fully scored   \n2                         1004534           fully scored   \n3                          968825           fully scored   \n4                         1058880           fully scored   \n..                            ...                    ...   \n71                        1005795           fully scored   \n72                        1019206           fully scored   \n73                        1019427           fully scored   \n74                        1058786           fully scored   \n75                        1000105           fully scored   \n\n    points_possible_unweighted     scored_datetime student_start_datetime  \\\n0                         10.0 2019-10-08 15:54:09                    NaT   \n1                         10.0 2019-09-19 19:15:48                    NaT   \n2                          4.0 2019-10-28 07:02:35                    NaT   \n3                         10.0 2019-11-07 04:31:54                    NaT   \n4                         45.0 2019-11-05 13:11:45                    NaT   \n..                         ...                 ...                    ...   \n71                         8.0 2019-10-25 12:45:15                    NaT   \n72                        10.0 2019-10-23 08:02:15                    NaT   \n73                        10.0 2019-10-23 08:20:13                    NaT   \n74                        45.0 2019-11-05 07:14:52                    NaT   \n75                        10.0 2019-10-23 07:18:51                    NaT   \n\n   student_stop_datetime was_fully_scored_datetime was_in_progress_datetime  \\\n0                    NaT                       NaT                      NaT   \n1                    NaT                       NaT                      NaT   \n2                    NaT                       NaT                      NaT   \n3                    NaT                       NaT                      NaT   \n4                    NaT                       NaT                      NaT   \n..                   ...                       ...                      ...   \n71                   NaT                       NaT                      NaT   \n72                   NaT                       NaT                      NaT   \n73                   NaT                       NaT                      NaT   \n74                   NaT                       NaT                      NaT   \n75                   NaT                       NaT                      NaT   \n\n   was_submitted_datetime_actual  \n0                            NaT  \n1                            NaT  \n2                            NaT  \n3                            NaT  \n4                            NaT  \n..                           ...  \n71                           NaT  \n72                           NaT  \n73                           NaT  \n74                           NaT  \n75                           NaT  \n\n[76 rows x 14 columns]",
      "text/html": "<div>\n<style scoped>\n    .dataframe tbody tr th:only-of-type {\n        vertical-align: middle;\n    }\n\n    .dataframe tbody tr th {\n        vertical-align: top;\n    }\n\n    .dataframe thead th {\n        text-align: right;\n    }\n</style>\n<table border=\"1\" class=\"dataframe\">\n  <thead>\n    <tr style=\"text-align: right;\">\n      <th></th>\n      <th>assessment_instance_attempt_id</th>\n      <th>assignment_attempt_number</th>\n      <th>final_score_unweighted</th>\n      <th>is_force_scored</th>\n      <th>is_manual_scoring_required</th>\n      <th>learner_assignment_attempt_id</th>\n      <th>learner_attempt_status</th>\n      <th>points_possible_unweighted</th>\n      <th>scored_datetime</th>\n      <th>student_start_datetime</th>\n      <th>student_stop_datetime</th>\n      <th>was_fully_scored_datetime</th>\n      <th>was_in_progress_datetime</th>\n      <th>was_submitted_datetime_actual</th>\n    </tr>\n  </thead>\n  <tbody>\n    <tr>\n      <th>0</th>\n      <td>NaN</td>\n      <td>1</td>\n      <td>10</td>\n      <td>False</td>\n      <td>False</td>\n      <td>1011070</td>\n      <td>fully scored</td>\n      <td>10.0</td>\n      <td>2019-10-08 15:54:09</td>\n      <td>NaT</td>\n      <td>NaT</td>\n      <td>NaT</td>\n      <td>NaT</td>\n      <td>NaT</td>\n    </tr>\n    <tr>\n      <th>1</th>\n      <td>1142270.0</td>\n      <td>1</td>\n      <td>10</td>\n      <td>False</td>\n      <td>False</td>\n      <td>1095588</td>\n      <td>fully scored</td>\n      <td>10.0</td>\n      <td>2019-09-19 19:15:48</td>\n      <td>NaT</td>\n      <td>NaT</td>\n      <td>NaT</td>\n      <td>NaT</td>\n      <td>NaT</td>\n    </tr>\n    <tr>\n      <th>2</th>\n      <td>NaN</td>\n      <td>1</td>\n      <td>4</td>\n      <td>False</td>\n      <td>False</td>\n      <td>1004534</td>\n      <td>fully scored</td>\n      <td>4.0</td>\n      <td>2019-10-28 07:02:35</td>\n      <td>NaT</td>\n      <td>NaT</td>\n      <td>NaT</td>\n      <td>NaT</td>\n      <td>NaT</td>\n    </tr>\n    <tr>\n      <th>3</th>\n      <td>1147753.0</td>\n      <td>1</td>\n      <td>10</td>\n      <td>False</td>\n      <td>False</td>\n      <td>968825</td>\n      <td>fully scored</td>\n      <td>10.0</td>\n      <td>2019-11-07 04:31:54</td>\n      <td>NaT</td>\n      <td>NaT</td>\n      <td>NaT</td>\n      <td>NaT</td>\n      <td>NaT</td>\n    </tr>\n    <tr>\n      <th>4</th>\n      <td>1099866.0</td>\n      <td>1</td>\n      <td>26</td>\n      <td>False</td>\n      <td>False</td>\n      <td>1058880</td>\n      <td>fully scored</td>\n      <td>45.0</td>\n      <td>2019-11-05 13:11:45</td>\n      <td>NaT</td>\n      <td>NaT</td>\n      <td>NaT</td>\n      <td>NaT</td>\n      <td>NaT</td>\n    </tr>\n    <tr>\n      <th>...</th>\n      <td>...</td>\n      <td>...</td>\n      <td>...</td>\n      <td>...</td>\n      <td>...</td>\n      <td>...</td>\n      <td>...</td>\n      <td>...</td>\n      <td>...</td>\n      <td>...</td>\n      <td>...</td>\n      <td>...</td>\n      <td>...</td>\n      <td>...</td>\n    </tr>\n    <tr>\n      <th>71</th>\n      <td>1171788.0</td>\n      <td>1</td>\n      <td>6</td>\n      <td>False</td>\n      <td>False</td>\n      <td>1005795</td>\n      <td>fully scored</td>\n      <td>8.0</td>\n      <td>2019-10-25 12:45:15</td>\n      <td>NaT</td>\n      <td>NaT</td>\n      <td>NaT</td>\n      <td>NaT</td>\n      <td>NaT</td>\n    </tr>\n    <tr>\n      <th>72</th>\n      <td>1110511.0</td>\n      <td>1</td>\n      <td>9</td>\n      <td>False</td>\n      <td>False</td>\n      <td>1019206</td>\n      <td>fully scored</td>\n      <td>10.0</td>\n      <td>2019-10-23 08:02:15</td>\n      <td>NaT</td>\n      <td>NaT</td>\n      <td>NaT</td>\n      <td>NaT</td>\n      <td>NaT</td>\n    </tr>\n    <tr>\n      <th>73</th>\n      <td>1116000.0</td>\n      <td>1</td>\n      <td>10</td>\n      <td>False</td>\n      <td>False</td>\n      <td>1019427</td>\n      <td>fully scored</td>\n      <td>10.0</td>\n      <td>2019-10-23 08:20:13</td>\n      <td>NaT</td>\n      <td>NaT</td>\n      <td>NaT</td>\n      <td>NaT</td>\n      <td>NaT</td>\n    </tr>\n    <tr>\n      <th>74</th>\n      <td>NaN</td>\n      <td>1</td>\n      <td>32</td>\n      <td>False</td>\n      <td>False</td>\n      <td>1058786</td>\n      <td>fully scored</td>\n      <td>45.0</td>\n      <td>2019-11-05 07:14:52</td>\n      <td>NaT</td>\n      <td>NaT</td>\n      <td>NaT</td>\n      <td>NaT</td>\n      <td>NaT</td>\n    </tr>\n    <tr>\n      <th>75</th>\n      <td>1113134.0</td>\n      <td>1</td>\n      <td>9</td>\n      <td>False</td>\n      <td>False</td>\n      <td>1000105</td>\n      <td>fully scored</td>\n      <td>10.0</td>\n      <td>2019-10-23 07:18:51</td>\n      <td>NaT</td>\n      <td>NaT</td>\n      <td>NaT</td>\n      <td>NaT</td>\n      <td>NaT</td>\n    </tr>\n  </tbody>\n</table>\n<p>76 rows × 14 columns</p>\n</div>"
     },
     "execution_count": 37,
     "metadata": {},
     "output_type": "execute_result"
    }
   ],
   "source": [
    "dfFlt.filter( F.col('student_start_datetime').isNull() ).select(*cats['assignmentAttemptVars']).distinct().toPandas()"
   ],
   "metadata": {
    "collapsed": false,
    "pycharm": {
     "name": "#%%\n"
    }
   }
  },
  {
   "cell_type": "markdown",
   "source": [
    "###### Display Assignment Attempts for null student_stop_datetime"
   ],
   "metadata": {
    "collapsed": false,
    "pycharm": {
     "name": "#%% md\n"
    }
   }
  },
  {
   "cell_type": "code",
   "execution_count": 38,
   "outputs": [
    {
     "data": {
      "text/plain": "    assessment_instance_attempt_id  assignment_attempt_number  \\\n0                              NaN                          1   \n1                        1142270.0                          1   \n2                              NaN                          1   \n3                        1147753.0                          1   \n4                        1099866.0                          1   \n..                             ...                        ...   \n71                       1171788.0                          1   \n72                       1110511.0                          1   \n73                       1116000.0                          1   \n74                             NaN                          1   \n75                       1113134.0                          1   \n\n    final_score_unweighted  is_force_scored  is_manual_scoring_required  \\\n0                       10            False                       False   \n1                       10            False                       False   \n2                        4            False                       False   \n3                       10            False                       False   \n4                       26            False                       False   \n..                     ...              ...                         ...   \n71                       6            False                       False   \n72                       9            False                       False   \n73                      10            False                       False   \n74                      32            False                       False   \n75                       9            False                       False   \n\n    learner_assignment_attempt_id learner_attempt_status  \\\n0                         1011070           fully scored   \n1                         1095588           fully scored   \n2                         1004534           fully scored   \n3                          968825           fully scored   \n4                         1058880           fully scored   \n..                            ...                    ...   \n71                        1005795           fully scored   \n72                        1019206           fully scored   \n73                        1019427           fully scored   \n74                        1058786           fully scored   \n75                        1000105           fully scored   \n\n    points_possible_unweighted     scored_datetime student_start_datetime  \\\n0                         10.0 2019-10-08 15:54:09                    NaT   \n1                         10.0 2019-09-19 19:15:48                    NaT   \n2                          4.0 2019-10-28 07:02:35                    NaT   \n3                         10.0 2019-11-07 04:31:54                    NaT   \n4                         45.0 2019-11-05 13:11:45                    NaT   \n..                         ...                 ...                    ...   \n71                         8.0 2019-10-25 12:45:15                    NaT   \n72                        10.0 2019-10-23 08:02:15                    NaT   \n73                        10.0 2019-10-23 08:20:13                    NaT   \n74                        45.0 2019-11-05 07:14:52                    NaT   \n75                        10.0 2019-10-23 07:18:51                    NaT   \n\n   student_stop_datetime was_fully_scored_datetime was_in_progress_datetime  \\\n0                    NaT                       NaT                      NaT   \n1                    NaT                       NaT                      NaT   \n2                    NaT                       NaT                      NaT   \n3                    NaT                       NaT                      NaT   \n4                    NaT                       NaT                      NaT   \n..                   ...                       ...                      ...   \n71                   NaT                       NaT                      NaT   \n72                   NaT                       NaT                      NaT   \n73                   NaT                       NaT                      NaT   \n74                   NaT                       NaT                      NaT   \n75                   NaT                       NaT                      NaT   \n\n   was_submitted_datetime_actual  \n0                            NaT  \n1                            NaT  \n2                            NaT  \n3                            NaT  \n4                            NaT  \n..                           ...  \n71                           NaT  \n72                           NaT  \n73                           NaT  \n74                           NaT  \n75                           NaT  \n\n[76 rows x 14 columns]",
      "text/html": "<div>\n<style scoped>\n    .dataframe tbody tr th:only-of-type {\n        vertical-align: middle;\n    }\n\n    .dataframe tbody tr th {\n        vertical-align: top;\n    }\n\n    .dataframe thead th {\n        text-align: right;\n    }\n</style>\n<table border=\"1\" class=\"dataframe\">\n  <thead>\n    <tr style=\"text-align: right;\">\n      <th></th>\n      <th>assessment_instance_attempt_id</th>\n      <th>assignment_attempt_number</th>\n      <th>final_score_unweighted</th>\n      <th>is_force_scored</th>\n      <th>is_manual_scoring_required</th>\n      <th>learner_assignment_attempt_id</th>\n      <th>learner_attempt_status</th>\n      <th>points_possible_unweighted</th>\n      <th>scored_datetime</th>\n      <th>student_start_datetime</th>\n      <th>student_stop_datetime</th>\n      <th>was_fully_scored_datetime</th>\n      <th>was_in_progress_datetime</th>\n      <th>was_submitted_datetime_actual</th>\n    </tr>\n  </thead>\n  <tbody>\n    <tr>\n      <th>0</th>\n      <td>NaN</td>\n      <td>1</td>\n      <td>10</td>\n      <td>False</td>\n      <td>False</td>\n      <td>1011070</td>\n      <td>fully scored</td>\n      <td>10.0</td>\n      <td>2019-10-08 15:54:09</td>\n      <td>NaT</td>\n      <td>NaT</td>\n      <td>NaT</td>\n      <td>NaT</td>\n      <td>NaT</td>\n    </tr>\n    <tr>\n      <th>1</th>\n      <td>1142270.0</td>\n      <td>1</td>\n      <td>10</td>\n      <td>False</td>\n      <td>False</td>\n      <td>1095588</td>\n      <td>fully scored</td>\n      <td>10.0</td>\n      <td>2019-09-19 19:15:48</td>\n      <td>NaT</td>\n      <td>NaT</td>\n      <td>NaT</td>\n      <td>NaT</td>\n      <td>NaT</td>\n    </tr>\n    <tr>\n      <th>2</th>\n      <td>NaN</td>\n      <td>1</td>\n      <td>4</td>\n      <td>False</td>\n      <td>False</td>\n      <td>1004534</td>\n      <td>fully scored</td>\n      <td>4.0</td>\n      <td>2019-10-28 07:02:35</td>\n      <td>NaT</td>\n      <td>NaT</td>\n      <td>NaT</td>\n      <td>NaT</td>\n      <td>NaT</td>\n    </tr>\n    <tr>\n      <th>3</th>\n      <td>1147753.0</td>\n      <td>1</td>\n      <td>10</td>\n      <td>False</td>\n      <td>False</td>\n      <td>968825</td>\n      <td>fully scored</td>\n      <td>10.0</td>\n      <td>2019-11-07 04:31:54</td>\n      <td>NaT</td>\n      <td>NaT</td>\n      <td>NaT</td>\n      <td>NaT</td>\n      <td>NaT</td>\n    </tr>\n    <tr>\n      <th>4</th>\n      <td>1099866.0</td>\n      <td>1</td>\n      <td>26</td>\n      <td>False</td>\n      <td>False</td>\n      <td>1058880</td>\n      <td>fully scored</td>\n      <td>45.0</td>\n      <td>2019-11-05 13:11:45</td>\n      <td>NaT</td>\n      <td>NaT</td>\n      <td>NaT</td>\n      <td>NaT</td>\n      <td>NaT</td>\n    </tr>\n    <tr>\n      <th>...</th>\n      <td>...</td>\n      <td>...</td>\n      <td>...</td>\n      <td>...</td>\n      <td>...</td>\n      <td>...</td>\n      <td>...</td>\n      <td>...</td>\n      <td>...</td>\n      <td>...</td>\n      <td>...</td>\n      <td>...</td>\n      <td>...</td>\n      <td>...</td>\n    </tr>\n    <tr>\n      <th>71</th>\n      <td>1171788.0</td>\n      <td>1</td>\n      <td>6</td>\n      <td>False</td>\n      <td>False</td>\n      <td>1005795</td>\n      <td>fully scored</td>\n      <td>8.0</td>\n      <td>2019-10-25 12:45:15</td>\n      <td>NaT</td>\n      <td>NaT</td>\n      <td>NaT</td>\n      <td>NaT</td>\n      <td>NaT</td>\n    </tr>\n    <tr>\n      <th>72</th>\n      <td>1110511.0</td>\n      <td>1</td>\n      <td>9</td>\n      <td>False</td>\n      <td>False</td>\n      <td>1019206</td>\n      <td>fully scored</td>\n      <td>10.0</td>\n      <td>2019-10-23 08:02:15</td>\n      <td>NaT</td>\n      <td>NaT</td>\n      <td>NaT</td>\n      <td>NaT</td>\n      <td>NaT</td>\n    </tr>\n    <tr>\n      <th>73</th>\n      <td>1116000.0</td>\n      <td>1</td>\n      <td>10</td>\n      <td>False</td>\n      <td>False</td>\n      <td>1019427</td>\n      <td>fully scored</td>\n      <td>10.0</td>\n      <td>2019-10-23 08:20:13</td>\n      <td>NaT</td>\n      <td>NaT</td>\n      <td>NaT</td>\n      <td>NaT</td>\n      <td>NaT</td>\n    </tr>\n    <tr>\n      <th>74</th>\n      <td>NaN</td>\n      <td>1</td>\n      <td>32</td>\n      <td>False</td>\n      <td>False</td>\n      <td>1058786</td>\n      <td>fully scored</td>\n      <td>45.0</td>\n      <td>2019-11-05 07:14:52</td>\n      <td>NaT</td>\n      <td>NaT</td>\n      <td>NaT</td>\n      <td>NaT</td>\n      <td>NaT</td>\n    </tr>\n    <tr>\n      <th>75</th>\n      <td>1113134.0</td>\n      <td>1</td>\n      <td>9</td>\n      <td>False</td>\n      <td>False</td>\n      <td>1000105</td>\n      <td>fully scored</td>\n      <td>10.0</td>\n      <td>2019-10-23 07:18:51</td>\n      <td>NaT</td>\n      <td>NaT</td>\n      <td>NaT</td>\n      <td>NaT</td>\n      <td>NaT</td>\n    </tr>\n  </tbody>\n</table>\n<p>76 rows × 14 columns</p>\n</div>"
     },
     "execution_count": 38,
     "metadata": {},
     "output_type": "execute_result"
    }
   ],
   "source": [
    "dfFlt.filter( F.col('student_stop_datetime').isNull() ).select(*cats['assignmentAttemptVars']).distinct().toPandas()\n"
   ],
   "metadata": {
    "collapsed": false,
    "pycharm": {
     "name": "#%%\n"
    }
   }
  },
  {
   "cell_type": "markdown",
   "source": [
    "###### Display Assignment Attempts for null was_fully_scored_datetime"
   ],
   "metadata": {
    "collapsed": false,
    "pycharm": {
     "name": "#%% md\n"
    }
   }
  },
  {
   "cell_type": "code",
   "execution_count": 39,
   "outputs": [
    {
     "data": {
      "text/plain": "    assessment_instance_attempt_id  assignment_attempt_number  \\\n0                              NaN                          1   \n1                        1142270.0                          1   \n2                              NaN                          1   \n3                        1239837.0                          1   \n4                        1147753.0                          1   \n..                             ...                        ...   \n72                       1171788.0                          1   \n73                       1110511.0                          1   \n74                       1116000.0                          1   \n75                             NaN                          1   \n76                       1113134.0                          1   \n\n    final_score_unweighted  is_force_scored  is_manual_scoring_required  \\\n0                       10            False                       False   \n1                       10            False                       False   \n2                        4            False                       False   \n3                        1            False                        True   \n4                       10            False                       False   \n..                     ...              ...                         ...   \n72                       6            False                       False   \n73                       9            False                       False   \n74                      10            False                       False   \n75                      32            False                       False   \n76                       9            False                       False   \n\n    learner_assignment_attempt_id learner_attempt_status  \\\n0                         1011070           fully scored   \n1                         1095588           fully scored   \n2                         1004534           fully scored   \n3                         1005215           fully scored   \n4                          968825           fully scored   \n..                            ...                    ...   \n72                        1005795           fully scored   \n73                        1019206           fully scored   \n74                        1019427           fully scored   \n75                        1058786           fully scored   \n76                        1000105           fully scored   \n\n    points_possible_unweighted     scored_datetime  student_start_datetime  \\\n0                         10.0 2019-10-08 15:54:09                     NaT   \n1                         10.0 2019-09-19 19:15:48                     NaT   \n2                          4.0 2019-10-28 07:02:35                     NaT   \n3                          6.0 2019-11-22 12:02:44 2019-11-22 19:58:15.402   \n4                         10.0 2019-11-07 04:31:54                     NaT   \n..                         ...                 ...                     ...   \n72                         8.0 2019-10-25 12:45:15                     NaT   \n73                        10.0 2019-10-23 08:02:15                     NaT   \n74                        10.0 2019-10-23 08:20:13                     NaT   \n75                        45.0 2019-11-05 07:14:52                     NaT   \n76                        10.0 2019-10-23 07:18:51                     NaT   \n\n     student_stop_datetime was_fully_scored_datetime was_in_progress_datetime  \\\n0                      NaT                       NaT                      NaT   \n1                      NaT                       NaT                      NaT   \n2                      NaT                       NaT                      NaT   \n3  2019-11-22 20:02:45.182                       NaT  2019-11-22 19:58:15.402   \n4                      NaT                       NaT                      NaT   \n..                     ...                       ...                      ...   \n72                     NaT                       NaT                      NaT   \n73                     NaT                       NaT                      NaT   \n74                     NaT                       NaT                      NaT   \n75                     NaT                       NaT                      NaT   \n76                     NaT                       NaT                      NaT   \n\n   was_submitted_datetime_actual  \n0                            NaT  \n1                            NaT  \n2                            NaT  \n3        2019-11-22 20:02:45.182  \n4                            NaT  \n..                           ...  \n72                           NaT  \n73                           NaT  \n74                           NaT  \n75                           NaT  \n76                           NaT  \n\n[77 rows x 14 columns]",
      "text/html": "<div>\n<style scoped>\n    .dataframe tbody tr th:only-of-type {\n        vertical-align: middle;\n    }\n\n    .dataframe tbody tr th {\n        vertical-align: top;\n    }\n\n    .dataframe thead th {\n        text-align: right;\n    }\n</style>\n<table border=\"1\" class=\"dataframe\">\n  <thead>\n    <tr style=\"text-align: right;\">\n      <th></th>\n      <th>assessment_instance_attempt_id</th>\n      <th>assignment_attempt_number</th>\n      <th>final_score_unweighted</th>\n      <th>is_force_scored</th>\n      <th>is_manual_scoring_required</th>\n      <th>learner_assignment_attempt_id</th>\n      <th>learner_attempt_status</th>\n      <th>points_possible_unweighted</th>\n      <th>scored_datetime</th>\n      <th>student_start_datetime</th>\n      <th>student_stop_datetime</th>\n      <th>was_fully_scored_datetime</th>\n      <th>was_in_progress_datetime</th>\n      <th>was_submitted_datetime_actual</th>\n    </tr>\n  </thead>\n  <tbody>\n    <tr>\n      <th>0</th>\n      <td>NaN</td>\n      <td>1</td>\n      <td>10</td>\n      <td>False</td>\n      <td>False</td>\n      <td>1011070</td>\n      <td>fully scored</td>\n      <td>10.0</td>\n      <td>2019-10-08 15:54:09</td>\n      <td>NaT</td>\n      <td>NaT</td>\n      <td>NaT</td>\n      <td>NaT</td>\n      <td>NaT</td>\n    </tr>\n    <tr>\n      <th>1</th>\n      <td>1142270.0</td>\n      <td>1</td>\n      <td>10</td>\n      <td>False</td>\n      <td>False</td>\n      <td>1095588</td>\n      <td>fully scored</td>\n      <td>10.0</td>\n      <td>2019-09-19 19:15:48</td>\n      <td>NaT</td>\n      <td>NaT</td>\n      <td>NaT</td>\n      <td>NaT</td>\n      <td>NaT</td>\n    </tr>\n    <tr>\n      <th>2</th>\n      <td>NaN</td>\n      <td>1</td>\n      <td>4</td>\n      <td>False</td>\n      <td>False</td>\n      <td>1004534</td>\n      <td>fully scored</td>\n      <td>4.0</td>\n      <td>2019-10-28 07:02:35</td>\n      <td>NaT</td>\n      <td>NaT</td>\n      <td>NaT</td>\n      <td>NaT</td>\n      <td>NaT</td>\n    </tr>\n    <tr>\n      <th>3</th>\n      <td>1239837.0</td>\n      <td>1</td>\n      <td>1</td>\n      <td>False</td>\n      <td>True</td>\n      <td>1005215</td>\n      <td>fully scored</td>\n      <td>6.0</td>\n      <td>2019-11-22 12:02:44</td>\n      <td>2019-11-22 19:58:15.402</td>\n      <td>2019-11-22 20:02:45.182</td>\n      <td>NaT</td>\n      <td>2019-11-22 19:58:15.402</td>\n      <td>2019-11-22 20:02:45.182</td>\n    </tr>\n    <tr>\n      <th>4</th>\n      <td>1147753.0</td>\n      <td>1</td>\n      <td>10</td>\n      <td>False</td>\n      <td>False</td>\n      <td>968825</td>\n      <td>fully scored</td>\n      <td>10.0</td>\n      <td>2019-11-07 04:31:54</td>\n      <td>NaT</td>\n      <td>NaT</td>\n      <td>NaT</td>\n      <td>NaT</td>\n      <td>NaT</td>\n    </tr>\n    <tr>\n      <th>...</th>\n      <td>...</td>\n      <td>...</td>\n      <td>...</td>\n      <td>...</td>\n      <td>...</td>\n      <td>...</td>\n      <td>...</td>\n      <td>...</td>\n      <td>...</td>\n      <td>...</td>\n      <td>...</td>\n      <td>...</td>\n      <td>...</td>\n      <td>...</td>\n    </tr>\n    <tr>\n      <th>72</th>\n      <td>1171788.0</td>\n      <td>1</td>\n      <td>6</td>\n      <td>False</td>\n      <td>False</td>\n      <td>1005795</td>\n      <td>fully scored</td>\n      <td>8.0</td>\n      <td>2019-10-25 12:45:15</td>\n      <td>NaT</td>\n      <td>NaT</td>\n      <td>NaT</td>\n      <td>NaT</td>\n      <td>NaT</td>\n    </tr>\n    <tr>\n      <th>73</th>\n      <td>1110511.0</td>\n      <td>1</td>\n      <td>9</td>\n      <td>False</td>\n      <td>False</td>\n      <td>1019206</td>\n      <td>fully scored</td>\n      <td>10.0</td>\n      <td>2019-10-23 08:02:15</td>\n      <td>NaT</td>\n      <td>NaT</td>\n      <td>NaT</td>\n      <td>NaT</td>\n      <td>NaT</td>\n    </tr>\n    <tr>\n      <th>74</th>\n      <td>1116000.0</td>\n      <td>1</td>\n      <td>10</td>\n      <td>False</td>\n      <td>False</td>\n      <td>1019427</td>\n      <td>fully scored</td>\n      <td>10.0</td>\n      <td>2019-10-23 08:20:13</td>\n      <td>NaT</td>\n      <td>NaT</td>\n      <td>NaT</td>\n      <td>NaT</td>\n      <td>NaT</td>\n    </tr>\n    <tr>\n      <th>75</th>\n      <td>NaN</td>\n      <td>1</td>\n      <td>32</td>\n      <td>False</td>\n      <td>False</td>\n      <td>1058786</td>\n      <td>fully scored</td>\n      <td>45.0</td>\n      <td>2019-11-05 07:14:52</td>\n      <td>NaT</td>\n      <td>NaT</td>\n      <td>NaT</td>\n      <td>NaT</td>\n      <td>NaT</td>\n    </tr>\n    <tr>\n      <th>76</th>\n      <td>1113134.0</td>\n      <td>1</td>\n      <td>9</td>\n      <td>False</td>\n      <td>False</td>\n      <td>1000105</td>\n      <td>fully scored</td>\n      <td>10.0</td>\n      <td>2019-10-23 07:18:51</td>\n      <td>NaT</td>\n      <td>NaT</td>\n      <td>NaT</td>\n      <td>NaT</td>\n      <td>NaT</td>\n    </tr>\n  </tbody>\n</table>\n<p>77 rows × 14 columns</p>\n</div>"
     },
     "execution_count": 39,
     "metadata": {},
     "output_type": "execute_result"
    }
   ],
   "source": [
    "dfFlt.filter( F.col('was_fully_scored_datetime').isNull() ).select(*cats['assignmentAttemptVars']).distinct().toPandas()"
   ],
   "metadata": {
    "collapsed": false,
    "pycharm": {
     "name": "#%%\n"
    }
   }
  },
  {
   "cell_type": "markdown",
   "source": [
    "###### Display Assignment Attempts for null was_in_progress_datetime"
   ],
   "metadata": {
    "collapsed": false
   }
  },
  {
   "cell_type": "code",
   "execution_count": 40,
   "outputs": [
    {
     "data": {
      "text/plain": "      assessment_instance_attempt_id  assignment_attempt_number  \\\n0                          1127902.0                          1   \n1                          1141791.0                          1   \n2                          1218664.0                          1   \n3                                NaN                          1   \n4                                NaN                          1   \n...                              ...                        ...   \n1613                       1117356.0                          1   \n1614                       1140276.0                          1   \n1615                       1140469.0                          1   \n1616                             NaN                          1   \n1617                       1169079.0                          1   \n\n      final_score_unweighted  is_force_scored  is_manual_scoring_required  \\\n0                          0             True                       False   \n1                          0             True                       False   \n2                          0             True                       False   \n3                          0             True                       False   \n4                          0             True                       False   \n...                      ...              ...                         ...   \n1613                       0             True                       False   \n1614                       0             True                       False   \n1615                       0             True                       False   \n1616                       0             True                       False   \n1617                       0             True                       False   \n\n      learner_assignment_attempt_id learner_attempt_status  \\\n0                            990418           fully scored   \n1                           1036237           fully scored   \n2                            997739           fully scored   \n3                           1002425           fully scored   \n4                            964973           fully scored   \n...                             ...                    ...   \n1613                        1005280           fully scored   \n1614                         976313           fully scored   \n1615                        1042178           fully scored   \n1616                        1054242           fully scored   \n1617                        1023500           fully scored   \n\n      points_possible_unweighted     scored_datetime  student_start_datetime  \\\n0                           24.0 2020-02-29 22:01:08 2020-03-01 06:00:31.749   \n1                           20.0 2020-03-07 22:00:18 2020-03-08 05:59:36.841   \n2                           10.0 2020-02-21 21:12:54 2020-02-22 05:00:07.569   \n3                            5.0 2020-01-23 04:49:58 2020-01-23 12:49:28.591   \n4                           10.0 2019-12-09 12:03:07 2019-12-09 20:00:02.038   \n...                          ...                 ...                     ...   \n1613                        15.0 2020-04-11 21:59:23 2020-04-12 04:59:13.840   \n1614                        73.0                 NaT 2020-02-28 05:59:49.336   \n1615                        14.0 2020-04-12 22:02:29 2020-04-13 04:59:58.104   \n1616                        10.0 2020-01-23 11:00:50 2020-01-23 19:00:06.260   \n1617                        11.0 2020-05-08 22:03:54 2020-05-09 05:01:51.317   \n\n       student_stop_datetime was_fully_scored_datetime  \\\n0    2020-03-01 06:00:31.749   2020-03-01 06:01:08.593   \n1    2020-03-08 05:59:36.841   2020-03-08 06:00:18.000   \n2    2020-02-22 05:00:07.569   2020-02-22 05:12:54.000   \n3    2020-01-23 12:49:28.591   2020-01-23 12:49:59.063   \n4    2019-12-09 20:00:02.038   2019-12-09 20:03:07.000   \n...                      ...                       ...   \n1613 2020-04-12 04:59:13.840   2020-04-12 04:59:23.430   \n1614 2020-02-28 05:59:49.336   2020-02-28 06:00:26.000   \n1615 2020-04-13 04:59:58.104   2020-04-13 05:02:30.479   \n1616 2020-01-23 19:00:06.260   2020-01-23 19:00:50.000   \n1617 2020-05-09 05:01:51.317   2020-05-09 05:03:54.777   \n\n     was_in_progress_datetime was_submitted_datetime_actual  \n0                         NaT                           NaT  \n1                         NaT                           NaT  \n2                         NaT                           NaT  \n3                         NaT                           NaT  \n4                         NaT                           NaT  \n...                       ...                           ...  \n1613                      NaT                           NaT  \n1614                      NaT                           NaT  \n1615                      NaT                           NaT  \n1616                      NaT                           NaT  \n1617                      NaT                           NaT  \n\n[1618 rows x 14 columns]",
      "text/html": "<div>\n<style scoped>\n    .dataframe tbody tr th:only-of-type {\n        vertical-align: middle;\n    }\n\n    .dataframe tbody tr th {\n        vertical-align: top;\n    }\n\n    .dataframe thead th {\n        text-align: right;\n    }\n</style>\n<table border=\"1\" class=\"dataframe\">\n  <thead>\n    <tr style=\"text-align: right;\">\n      <th></th>\n      <th>assessment_instance_attempt_id</th>\n      <th>assignment_attempt_number</th>\n      <th>final_score_unweighted</th>\n      <th>is_force_scored</th>\n      <th>is_manual_scoring_required</th>\n      <th>learner_assignment_attempt_id</th>\n      <th>learner_attempt_status</th>\n      <th>points_possible_unweighted</th>\n      <th>scored_datetime</th>\n      <th>student_start_datetime</th>\n      <th>student_stop_datetime</th>\n      <th>was_fully_scored_datetime</th>\n      <th>was_in_progress_datetime</th>\n      <th>was_submitted_datetime_actual</th>\n    </tr>\n  </thead>\n  <tbody>\n    <tr>\n      <th>0</th>\n      <td>1127902.0</td>\n      <td>1</td>\n      <td>0</td>\n      <td>True</td>\n      <td>False</td>\n      <td>990418</td>\n      <td>fully scored</td>\n      <td>24.0</td>\n      <td>2020-02-29 22:01:08</td>\n      <td>2020-03-01 06:00:31.749</td>\n      <td>2020-03-01 06:00:31.749</td>\n      <td>2020-03-01 06:01:08.593</td>\n      <td>NaT</td>\n      <td>NaT</td>\n    </tr>\n    <tr>\n      <th>1</th>\n      <td>1141791.0</td>\n      <td>1</td>\n      <td>0</td>\n      <td>True</td>\n      <td>False</td>\n      <td>1036237</td>\n      <td>fully scored</td>\n      <td>20.0</td>\n      <td>2020-03-07 22:00:18</td>\n      <td>2020-03-08 05:59:36.841</td>\n      <td>2020-03-08 05:59:36.841</td>\n      <td>2020-03-08 06:00:18.000</td>\n      <td>NaT</td>\n      <td>NaT</td>\n    </tr>\n    <tr>\n      <th>2</th>\n      <td>1218664.0</td>\n      <td>1</td>\n      <td>0</td>\n      <td>True</td>\n      <td>False</td>\n      <td>997739</td>\n      <td>fully scored</td>\n      <td>10.0</td>\n      <td>2020-02-21 21:12:54</td>\n      <td>2020-02-22 05:00:07.569</td>\n      <td>2020-02-22 05:00:07.569</td>\n      <td>2020-02-22 05:12:54.000</td>\n      <td>NaT</td>\n      <td>NaT</td>\n    </tr>\n    <tr>\n      <th>3</th>\n      <td>NaN</td>\n      <td>1</td>\n      <td>0</td>\n      <td>True</td>\n      <td>False</td>\n      <td>1002425</td>\n      <td>fully scored</td>\n      <td>5.0</td>\n      <td>2020-01-23 04:49:58</td>\n      <td>2020-01-23 12:49:28.591</td>\n      <td>2020-01-23 12:49:28.591</td>\n      <td>2020-01-23 12:49:59.063</td>\n      <td>NaT</td>\n      <td>NaT</td>\n    </tr>\n    <tr>\n      <th>4</th>\n      <td>NaN</td>\n      <td>1</td>\n      <td>0</td>\n      <td>True</td>\n      <td>False</td>\n      <td>964973</td>\n      <td>fully scored</td>\n      <td>10.0</td>\n      <td>2019-12-09 12:03:07</td>\n      <td>2019-12-09 20:00:02.038</td>\n      <td>2019-12-09 20:00:02.038</td>\n      <td>2019-12-09 20:03:07.000</td>\n      <td>NaT</td>\n      <td>NaT</td>\n    </tr>\n    <tr>\n      <th>...</th>\n      <td>...</td>\n      <td>...</td>\n      <td>...</td>\n      <td>...</td>\n      <td>...</td>\n      <td>...</td>\n      <td>...</td>\n      <td>...</td>\n      <td>...</td>\n      <td>...</td>\n      <td>...</td>\n      <td>...</td>\n      <td>...</td>\n      <td>...</td>\n    </tr>\n    <tr>\n      <th>1613</th>\n      <td>1117356.0</td>\n      <td>1</td>\n      <td>0</td>\n      <td>True</td>\n      <td>False</td>\n      <td>1005280</td>\n      <td>fully scored</td>\n      <td>15.0</td>\n      <td>2020-04-11 21:59:23</td>\n      <td>2020-04-12 04:59:13.840</td>\n      <td>2020-04-12 04:59:13.840</td>\n      <td>2020-04-12 04:59:23.430</td>\n      <td>NaT</td>\n      <td>NaT</td>\n    </tr>\n    <tr>\n      <th>1614</th>\n      <td>1140276.0</td>\n      <td>1</td>\n      <td>0</td>\n      <td>True</td>\n      <td>False</td>\n      <td>976313</td>\n      <td>fully scored</td>\n      <td>73.0</td>\n      <td>NaT</td>\n      <td>2020-02-28 05:59:49.336</td>\n      <td>2020-02-28 05:59:49.336</td>\n      <td>2020-02-28 06:00:26.000</td>\n      <td>NaT</td>\n      <td>NaT</td>\n    </tr>\n    <tr>\n      <th>1615</th>\n      <td>1140469.0</td>\n      <td>1</td>\n      <td>0</td>\n      <td>True</td>\n      <td>False</td>\n      <td>1042178</td>\n      <td>fully scored</td>\n      <td>14.0</td>\n      <td>2020-04-12 22:02:29</td>\n      <td>2020-04-13 04:59:58.104</td>\n      <td>2020-04-13 04:59:58.104</td>\n      <td>2020-04-13 05:02:30.479</td>\n      <td>NaT</td>\n      <td>NaT</td>\n    </tr>\n    <tr>\n      <th>1616</th>\n      <td>NaN</td>\n      <td>1</td>\n      <td>0</td>\n      <td>True</td>\n      <td>False</td>\n      <td>1054242</td>\n      <td>fully scored</td>\n      <td>10.0</td>\n      <td>2020-01-23 11:00:50</td>\n      <td>2020-01-23 19:00:06.260</td>\n      <td>2020-01-23 19:00:06.260</td>\n      <td>2020-01-23 19:00:50.000</td>\n      <td>NaT</td>\n      <td>NaT</td>\n    </tr>\n    <tr>\n      <th>1617</th>\n      <td>1169079.0</td>\n      <td>1</td>\n      <td>0</td>\n      <td>True</td>\n      <td>False</td>\n      <td>1023500</td>\n      <td>fully scored</td>\n      <td>11.0</td>\n      <td>2020-05-08 22:03:54</td>\n      <td>2020-05-09 05:01:51.317</td>\n      <td>2020-05-09 05:01:51.317</td>\n      <td>2020-05-09 05:03:54.777</td>\n      <td>NaT</td>\n      <td>NaT</td>\n    </tr>\n  </tbody>\n</table>\n<p>1618 rows × 14 columns</p>\n</div>"
     },
     "execution_count": 40,
     "metadata": {},
     "output_type": "execute_result"
    }
   ],
   "source": [
    "dfFlt.filter( F.col('was_in_progress_datetime').isNull() ).select(*cats['assignmentAttemptVars']).distinct().toPandas()"
   ],
   "metadata": {
    "collapsed": false,
    "pycharm": {
     "name": "#%%\n"
    }
   }
  },
  {
   "cell_type": "markdown",
   "source": [
    "###### Display Assignment Attempts for null was_in_progress_datetime"
   ],
   "metadata": {
    "collapsed": false
   }
  },
  {
   "cell_type": "code",
   "execution_count": 41,
   "outputs": [
    {
     "data": {
      "text/plain": "      assessment_instance_attempt_id  assignment_attempt_number  \\\n0                          1127902.0                          1   \n1                          1141791.0                          1   \n2                          1218664.0                          1   \n3                                NaN                          1   \n4                                NaN                          1   \n...                              ...                        ...   \n1613                       1117356.0                          1   \n1614                       1140276.0                          1   \n1615                       1140469.0                          1   \n1616                             NaN                          1   \n1617                       1169079.0                          1   \n\n      final_score_unweighted  is_force_scored  is_manual_scoring_required  \\\n0                          0             True                       False   \n1                          0             True                       False   \n2                          0             True                       False   \n3                          0             True                       False   \n4                          0             True                       False   \n...                      ...              ...                         ...   \n1613                       0             True                       False   \n1614                       0             True                       False   \n1615                       0             True                       False   \n1616                       0             True                       False   \n1617                       0             True                       False   \n\n      learner_assignment_attempt_id learner_attempt_status  \\\n0                            990418           fully scored   \n1                           1036237           fully scored   \n2                            997739           fully scored   \n3                           1002425           fully scored   \n4                            964973           fully scored   \n...                             ...                    ...   \n1613                        1005280           fully scored   \n1614                         976313           fully scored   \n1615                        1042178           fully scored   \n1616                        1054242           fully scored   \n1617                        1023500           fully scored   \n\n      points_possible_unweighted     scored_datetime  student_start_datetime  \\\n0                           24.0 2020-02-29 22:01:08 2020-03-01 06:00:31.749   \n1                           20.0 2020-03-07 22:00:18 2020-03-08 05:59:36.841   \n2                           10.0 2020-02-21 21:12:54 2020-02-22 05:00:07.569   \n3                            5.0 2020-01-23 04:49:58 2020-01-23 12:49:28.591   \n4                           10.0 2019-12-09 12:03:07 2019-12-09 20:00:02.038   \n...                          ...                 ...                     ...   \n1613                        15.0 2020-04-11 21:59:23 2020-04-12 04:59:13.840   \n1614                        73.0                 NaT 2020-02-28 05:59:49.336   \n1615                        14.0 2020-04-12 22:02:29 2020-04-13 04:59:58.104   \n1616                        10.0 2020-01-23 11:00:50 2020-01-23 19:00:06.260   \n1617                        11.0 2020-05-08 22:03:54 2020-05-09 05:01:51.317   \n\n       student_stop_datetime was_fully_scored_datetime  \\\n0    2020-03-01 06:00:31.749   2020-03-01 06:01:08.593   \n1    2020-03-08 05:59:36.841   2020-03-08 06:00:18.000   \n2    2020-02-22 05:00:07.569   2020-02-22 05:12:54.000   \n3    2020-01-23 12:49:28.591   2020-01-23 12:49:59.063   \n4    2019-12-09 20:00:02.038   2019-12-09 20:03:07.000   \n...                      ...                       ...   \n1613 2020-04-12 04:59:13.840   2020-04-12 04:59:23.430   \n1614 2020-02-28 05:59:49.336   2020-02-28 06:00:26.000   \n1615 2020-04-13 04:59:58.104   2020-04-13 05:02:30.479   \n1616 2020-01-23 19:00:06.260   2020-01-23 19:00:50.000   \n1617 2020-05-09 05:01:51.317   2020-05-09 05:03:54.777   \n\n     was_in_progress_datetime was_submitted_datetime_actual  \n0                         NaT                           NaT  \n1                         NaT                           NaT  \n2                         NaT                           NaT  \n3                         NaT                           NaT  \n4                         NaT                           NaT  \n...                       ...                           ...  \n1613                      NaT                           NaT  \n1614                      NaT                           NaT  \n1615                      NaT                           NaT  \n1616                      NaT                           NaT  \n1617                      NaT                           NaT  \n\n[1618 rows x 14 columns]",
      "text/html": "<div>\n<style scoped>\n    .dataframe tbody tr th:only-of-type {\n        vertical-align: middle;\n    }\n\n    .dataframe tbody tr th {\n        vertical-align: top;\n    }\n\n    .dataframe thead th {\n        text-align: right;\n    }\n</style>\n<table border=\"1\" class=\"dataframe\">\n  <thead>\n    <tr style=\"text-align: right;\">\n      <th></th>\n      <th>assessment_instance_attempt_id</th>\n      <th>assignment_attempt_number</th>\n      <th>final_score_unweighted</th>\n      <th>is_force_scored</th>\n      <th>is_manual_scoring_required</th>\n      <th>learner_assignment_attempt_id</th>\n      <th>learner_attempt_status</th>\n      <th>points_possible_unweighted</th>\n      <th>scored_datetime</th>\n      <th>student_start_datetime</th>\n      <th>student_stop_datetime</th>\n      <th>was_fully_scored_datetime</th>\n      <th>was_in_progress_datetime</th>\n      <th>was_submitted_datetime_actual</th>\n    </tr>\n  </thead>\n  <tbody>\n    <tr>\n      <th>0</th>\n      <td>1127902.0</td>\n      <td>1</td>\n      <td>0</td>\n      <td>True</td>\n      <td>False</td>\n      <td>990418</td>\n      <td>fully scored</td>\n      <td>24.0</td>\n      <td>2020-02-29 22:01:08</td>\n      <td>2020-03-01 06:00:31.749</td>\n      <td>2020-03-01 06:00:31.749</td>\n      <td>2020-03-01 06:01:08.593</td>\n      <td>NaT</td>\n      <td>NaT</td>\n    </tr>\n    <tr>\n      <th>1</th>\n      <td>1141791.0</td>\n      <td>1</td>\n      <td>0</td>\n      <td>True</td>\n      <td>False</td>\n      <td>1036237</td>\n      <td>fully scored</td>\n      <td>20.0</td>\n      <td>2020-03-07 22:00:18</td>\n      <td>2020-03-08 05:59:36.841</td>\n      <td>2020-03-08 05:59:36.841</td>\n      <td>2020-03-08 06:00:18.000</td>\n      <td>NaT</td>\n      <td>NaT</td>\n    </tr>\n    <tr>\n      <th>2</th>\n      <td>1218664.0</td>\n      <td>1</td>\n      <td>0</td>\n      <td>True</td>\n      <td>False</td>\n      <td>997739</td>\n      <td>fully scored</td>\n      <td>10.0</td>\n      <td>2020-02-21 21:12:54</td>\n      <td>2020-02-22 05:00:07.569</td>\n      <td>2020-02-22 05:00:07.569</td>\n      <td>2020-02-22 05:12:54.000</td>\n      <td>NaT</td>\n      <td>NaT</td>\n    </tr>\n    <tr>\n      <th>3</th>\n      <td>NaN</td>\n      <td>1</td>\n      <td>0</td>\n      <td>True</td>\n      <td>False</td>\n      <td>1002425</td>\n      <td>fully scored</td>\n      <td>5.0</td>\n      <td>2020-01-23 04:49:58</td>\n      <td>2020-01-23 12:49:28.591</td>\n      <td>2020-01-23 12:49:28.591</td>\n      <td>2020-01-23 12:49:59.063</td>\n      <td>NaT</td>\n      <td>NaT</td>\n    </tr>\n    <tr>\n      <th>4</th>\n      <td>NaN</td>\n      <td>1</td>\n      <td>0</td>\n      <td>True</td>\n      <td>False</td>\n      <td>964973</td>\n      <td>fully scored</td>\n      <td>10.0</td>\n      <td>2019-12-09 12:03:07</td>\n      <td>2019-12-09 20:00:02.038</td>\n      <td>2019-12-09 20:00:02.038</td>\n      <td>2019-12-09 20:03:07.000</td>\n      <td>NaT</td>\n      <td>NaT</td>\n    </tr>\n    <tr>\n      <th>...</th>\n      <td>...</td>\n      <td>...</td>\n      <td>...</td>\n      <td>...</td>\n      <td>...</td>\n      <td>...</td>\n      <td>...</td>\n      <td>...</td>\n      <td>...</td>\n      <td>...</td>\n      <td>...</td>\n      <td>...</td>\n      <td>...</td>\n      <td>...</td>\n    </tr>\n    <tr>\n      <th>1613</th>\n      <td>1117356.0</td>\n      <td>1</td>\n      <td>0</td>\n      <td>True</td>\n      <td>False</td>\n      <td>1005280</td>\n      <td>fully scored</td>\n      <td>15.0</td>\n      <td>2020-04-11 21:59:23</td>\n      <td>2020-04-12 04:59:13.840</td>\n      <td>2020-04-12 04:59:13.840</td>\n      <td>2020-04-12 04:59:23.430</td>\n      <td>NaT</td>\n      <td>NaT</td>\n    </tr>\n    <tr>\n      <th>1614</th>\n      <td>1140276.0</td>\n      <td>1</td>\n      <td>0</td>\n      <td>True</td>\n      <td>False</td>\n      <td>976313</td>\n      <td>fully scored</td>\n      <td>73.0</td>\n      <td>NaT</td>\n      <td>2020-02-28 05:59:49.336</td>\n      <td>2020-02-28 05:59:49.336</td>\n      <td>2020-02-28 06:00:26.000</td>\n      <td>NaT</td>\n      <td>NaT</td>\n    </tr>\n    <tr>\n      <th>1615</th>\n      <td>1140469.0</td>\n      <td>1</td>\n      <td>0</td>\n      <td>True</td>\n      <td>False</td>\n      <td>1042178</td>\n      <td>fully scored</td>\n      <td>14.0</td>\n      <td>2020-04-12 22:02:29</td>\n      <td>2020-04-13 04:59:58.104</td>\n      <td>2020-04-13 04:59:58.104</td>\n      <td>2020-04-13 05:02:30.479</td>\n      <td>NaT</td>\n      <td>NaT</td>\n    </tr>\n    <tr>\n      <th>1616</th>\n      <td>NaN</td>\n      <td>1</td>\n      <td>0</td>\n      <td>True</td>\n      <td>False</td>\n      <td>1054242</td>\n      <td>fully scored</td>\n      <td>10.0</td>\n      <td>2020-01-23 11:00:50</td>\n      <td>2020-01-23 19:00:06.260</td>\n      <td>2020-01-23 19:00:06.260</td>\n      <td>2020-01-23 19:00:50.000</td>\n      <td>NaT</td>\n      <td>NaT</td>\n    </tr>\n    <tr>\n      <th>1617</th>\n      <td>1169079.0</td>\n      <td>1</td>\n      <td>0</td>\n      <td>True</td>\n      <td>False</td>\n      <td>1023500</td>\n      <td>fully scored</td>\n      <td>11.0</td>\n      <td>2020-05-08 22:03:54</td>\n      <td>2020-05-09 05:01:51.317</td>\n      <td>2020-05-09 05:01:51.317</td>\n      <td>2020-05-09 05:03:54.777</td>\n      <td>NaT</td>\n      <td>NaT</td>\n    </tr>\n  </tbody>\n</table>\n<p>1618 rows × 14 columns</p>\n</div>"
     },
     "execution_count": 41,
     "metadata": {},
     "output_type": "execute_result"
    }
   ],
   "source": [
    "dfFlt.filter( F.col('was_in_progress_datetime').isNull() ).select(*cats['assignmentAttemptVars']).distinct().toPandas()"
   ],
   "metadata": {
    "collapsed": false,
    "pycharm": {
     "name": "#%%\n"
    }
   }
  },
  {
   "cell_type": "markdown",
   "source": [
    "###### Display Assignment Attempts for null was_submitted_datetime_actual"
   ],
   "metadata": {
    "collapsed": false,
    "pycharm": {
     "name": "#%% md\n"
    }
   }
  },
  {
   "cell_type": "code",
   "execution_count": 42,
   "outputs": [
    {
     "data": {
      "text/plain": "      assessment_instance_attempt_id  assignment_attempt_number  \\\n0                          1127902.0                          1   \n1                          1098351.0                          1   \n2                          1141791.0                          1   \n3                          1218664.0                          1   \n4                                NaN                          1   \n...                              ...                        ...   \n2392                       1140469.0                          1   \n2393                             NaN                          1   \n2394                       1119925.0                          1   \n2395                       1245038.0                          1   \n2396                       1169079.0                          1   \n\n      final_score_unweighted  is_force_scored  is_manual_scoring_required  \\\n0                          0             True                       False   \n1                          0            False                       False   \n2                          0             True                       False   \n3                          0             True                       False   \n4                          0             True                       False   \n...                      ...              ...                         ...   \n2392                       0             True                       False   \n2393                       0             True                       False   \n2394                       0            False                       False   \n2395                       1            False                       False   \n2396                       0             True                       False   \n\n      learner_assignment_attempt_id learner_attempt_status  \\\n0                            990418           fully scored   \n1                            961903           fully scored   \n2                           1036237           fully scored   \n3                            997739           fully scored   \n4                           1002425           fully scored   \n...                             ...                    ...   \n2392                        1042178           fully scored   \n2393                        1054242           fully scored   \n2394                         999995           fully scored   \n2395                        1049918           fully scored   \n2396                        1023500           fully scored   \n\n      points_possible_unweighted     scored_datetime  student_start_datetime  \\\n0                           24.0 2020-02-29 22:01:08 2020-03-01 06:00:31.749   \n1                            4.0 2020-04-10 22:02:52 2020-04-09 18:50:02.899   \n2                           20.0 2020-03-07 22:00:18 2020-03-08 05:59:36.841   \n3                           10.0 2020-02-21 21:12:54 2020-02-22 05:00:07.569   \n4                            5.0 2020-01-23 04:49:58 2020-01-23 12:49:28.591   \n...                          ...                 ...                     ...   \n2392                        14.0 2020-04-12 22:02:29 2020-04-13 04:59:58.104   \n2393                        10.0 2020-01-23 11:00:50 2020-01-23 19:00:06.260   \n2394                        10.0 2020-04-17 22:03:44 2020-05-04 20:50:06.242   \n2395                        10.0 2019-11-04 05:20:56 2019-11-01 12:51:03.172   \n2396                        11.0 2020-05-08 22:03:54 2020-05-09 05:01:51.317   \n\n       student_stop_datetime was_fully_scored_datetime  \\\n0    2020-03-01 06:00:31.749   2020-03-01 06:01:08.593   \n1    2020-05-04 20:43:18.188   2020-05-04 20:43:18.188   \n2    2020-03-08 05:59:36.841   2020-03-08 06:00:18.000   \n3    2020-02-22 05:00:07.569   2020-02-22 05:12:54.000   \n4    2020-01-23 12:49:28.591   2020-01-23 12:49:59.063   \n...                      ...                       ...   \n2392 2020-04-13 04:59:58.104   2020-04-13 05:02:30.479   \n2393 2020-01-23 19:00:06.260   2020-01-23 19:00:50.000   \n2394 2020-05-04 20:50:07.822   2020-05-04 20:50:07.822   \n2395 2019-11-04 13:20:56.601   2019-11-04 13:20:56.601   \n2396 2020-05-09 05:01:51.317   2020-05-09 05:03:54.777   \n\n     was_in_progress_datetime was_submitted_datetime_actual  \n0                         NaT                           NaT  \n1     2020-04-09 18:50:02.899                           NaT  \n2                         NaT                           NaT  \n3                         NaT                           NaT  \n4                         NaT                           NaT  \n...                       ...                           ...  \n2392                      NaT                           NaT  \n2393                      NaT                           NaT  \n2394  2020-05-04 20:50:06.242                           NaT  \n2395  2019-11-01 12:51:03.172                           NaT  \n2396                      NaT                           NaT  \n\n[2397 rows x 14 columns]",
      "text/html": "<div>\n<style scoped>\n    .dataframe tbody tr th:only-of-type {\n        vertical-align: middle;\n    }\n\n    .dataframe tbody tr th {\n        vertical-align: top;\n    }\n\n    .dataframe thead th {\n        text-align: right;\n    }\n</style>\n<table border=\"1\" class=\"dataframe\">\n  <thead>\n    <tr style=\"text-align: right;\">\n      <th></th>\n      <th>assessment_instance_attempt_id</th>\n      <th>assignment_attempt_number</th>\n      <th>final_score_unweighted</th>\n      <th>is_force_scored</th>\n      <th>is_manual_scoring_required</th>\n      <th>learner_assignment_attempt_id</th>\n      <th>learner_attempt_status</th>\n      <th>points_possible_unweighted</th>\n      <th>scored_datetime</th>\n      <th>student_start_datetime</th>\n      <th>student_stop_datetime</th>\n      <th>was_fully_scored_datetime</th>\n      <th>was_in_progress_datetime</th>\n      <th>was_submitted_datetime_actual</th>\n    </tr>\n  </thead>\n  <tbody>\n    <tr>\n      <th>0</th>\n      <td>1127902.0</td>\n      <td>1</td>\n      <td>0</td>\n      <td>True</td>\n      <td>False</td>\n      <td>990418</td>\n      <td>fully scored</td>\n      <td>24.0</td>\n      <td>2020-02-29 22:01:08</td>\n      <td>2020-03-01 06:00:31.749</td>\n      <td>2020-03-01 06:00:31.749</td>\n      <td>2020-03-01 06:01:08.593</td>\n      <td>NaT</td>\n      <td>NaT</td>\n    </tr>\n    <tr>\n      <th>1</th>\n      <td>1098351.0</td>\n      <td>1</td>\n      <td>0</td>\n      <td>False</td>\n      <td>False</td>\n      <td>961903</td>\n      <td>fully scored</td>\n      <td>4.0</td>\n      <td>2020-04-10 22:02:52</td>\n      <td>2020-04-09 18:50:02.899</td>\n      <td>2020-05-04 20:43:18.188</td>\n      <td>2020-05-04 20:43:18.188</td>\n      <td>2020-04-09 18:50:02.899</td>\n      <td>NaT</td>\n    </tr>\n    <tr>\n      <th>2</th>\n      <td>1141791.0</td>\n      <td>1</td>\n      <td>0</td>\n      <td>True</td>\n      <td>False</td>\n      <td>1036237</td>\n      <td>fully scored</td>\n      <td>20.0</td>\n      <td>2020-03-07 22:00:18</td>\n      <td>2020-03-08 05:59:36.841</td>\n      <td>2020-03-08 05:59:36.841</td>\n      <td>2020-03-08 06:00:18.000</td>\n      <td>NaT</td>\n      <td>NaT</td>\n    </tr>\n    <tr>\n      <th>3</th>\n      <td>1218664.0</td>\n      <td>1</td>\n      <td>0</td>\n      <td>True</td>\n      <td>False</td>\n      <td>997739</td>\n      <td>fully scored</td>\n      <td>10.0</td>\n      <td>2020-02-21 21:12:54</td>\n      <td>2020-02-22 05:00:07.569</td>\n      <td>2020-02-22 05:00:07.569</td>\n      <td>2020-02-22 05:12:54.000</td>\n      <td>NaT</td>\n      <td>NaT</td>\n    </tr>\n    <tr>\n      <th>4</th>\n      <td>NaN</td>\n      <td>1</td>\n      <td>0</td>\n      <td>True</td>\n      <td>False</td>\n      <td>1002425</td>\n      <td>fully scored</td>\n      <td>5.0</td>\n      <td>2020-01-23 04:49:58</td>\n      <td>2020-01-23 12:49:28.591</td>\n      <td>2020-01-23 12:49:28.591</td>\n      <td>2020-01-23 12:49:59.063</td>\n      <td>NaT</td>\n      <td>NaT</td>\n    </tr>\n    <tr>\n      <th>...</th>\n      <td>...</td>\n      <td>...</td>\n      <td>...</td>\n      <td>...</td>\n      <td>...</td>\n      <td>...</td>\n      <td>...</td>\n      <td>...</td>\n      <td>...</td>\n      <td>...</td>\n      <td>...</td>\n      <td>...</td>\n      <td>...</td>\n      <td>...</td>\n    </tr>\n    <tr>\n      <th>2392</th>\n      <td>1140469.0</td>\n      <td>1</td>\n      <td>0</td>\n      <td>True</td>\n      <td>False</td>\n      <td>1042178</td>\n      <td>fully scored</td>\n      <td>14.0</td>\n      <td>2020-04-12 22:02:29</td>\n      <td>2020-04-13 04:59:58.104</td>\n      <td>2020-04-13 04:59:58.104</td>\n      <td>2020-04-13 05:02:30.479</td>\n      <td>NaT</td>\n      <td>NaT</td>\n    </tr>\n    <tr>\n      <th>2393</th>\n      <td>NaN</td>\n      <td>1</td>\n      <td>0</td>\n      <td>True</td>\n      <td>False</td>\n      <td>1054242</td>\n      <td>fully scored</td>\n      <td>10.0</td>\n      <td>2020-01-23 11:00:50</td>\n      <td>2020-01-23 19:00:06.260</td>\n      <td>2020-01-23 19:00:06.260</td>\n      <td>2020-01-23 19:00:50.000</td>\n      <td>NaT</td>\n      <td>NaT</td>\n    </tr>\n    <tr>\n      <th>2394</th>\n      <td>1119925.0</td>\n      <td>1</td>\n      <td>0</td>\n      <td>False</td>\n      <td>False</td>\n      <td>999995</td>\n      <td>fully scored</td>\n      <td>10.0</td>\n      <td>2020-04-17 22:03:44</td>\n      <td>2020-05-04 20:50:06.242</td>\n      <td>2020-05-04 20:50:07.822</td>\n      <td>2020-05-04 20:50:07.822</td>\n      <td>2020-05-04 20:50:06.242</td>\n      <td>NaT</td>\n    </tr>\n    <tr>\n      <th>2395</th>\n      <td>1245038.0</td>\n      <td>1</td>\n      <td>1</td>\n      <td>False</td>\n      <td>False</td>\n      <td>1049918</td>\n      <td>fully scored</td>\n      <td>10.0</td>\n      <td>2019-11-04 05:20:56</td>\n      <td>2019-11-01 12:51:03.172</td>\n      <td>2019-11-04 13:20:56.601</td>\n      <td>2019-11-04 13:20:56.601</td>\n      <td>2019-11-01 12:51:03.172</td>\n      <td>NaT</td>\n    </tr>\n    <tr>\n      <th>2396</th>\n      <td>1169079.0</td>\n      <td>1</td>\n      <td>0</td>\n      <td>True</td>\n      <td>False</td>\n      <td>1023500</td>\n      <td>fully scored</td>\n      <td>11.0</td>\n      <td>2020-05-08 22:03:54</td>\n      <td>2020-05-09 05:01:51.317</td>\n      <td>2020-05-09 05:01:51.317</td>\n      <td>2020-05-09 05:03:54.777</td>\n      <td>NaT</td>\n      <td>NaT</td>\n    </tr>\n  </tbody>\n</table>\n<p>2397 rows × 14 columns</p>\n</div>"
     },
     "execution_count": 42,
     "metadata": {},
     "output_type": "execute_result"
    }
   ],
   "source": [
    "dfFlt.filter( F.col('was_submitted_datetime_actual').isNull() ).select(*cats['assignmentAttemptVars']).distinct().toPandas()\n",
    "\n"
   ],
   "metadata": {
    "collapsed": false,
    "pycharm": {
     "name": "#%%\n"
    }
   }
  },
  {
   "cell_type": "code",
   "execution_count": null,
   "outputs": [],
   "source": [],
   "metadata": {
    "collapsed": false,
    "pycharm": {
     "name": "#%%\n"
    }
   }
  }
 ],
 "metadata": {
  "kernelspec": {
   "display_name": "Python 3",
   "language": "python",
   "name": "python3"
  },
  "language_info": {
   "codemirror_mode": {
    "name": "ipython",
    "version": 2
   },
   "file_extension": ".py",
   "mimetype": "text/x-python",
   "name": "python",
   "nbconvert_exporter": "python",
   "pygments_lexer": "ipython2",
   "version": "2.7.6"
  }
 },
 "nbformat": 4,
 "nbformat_minor": 0
}