{
 "cells": [
  {
   "cell_type": "markdown",
   "metadata": {},
   "source": [
    "### Investigate 1566 [unassigned] in response_correctness"
   ]
  },
  {
   "cell_type": "code",
   "execution_count": 1,
   "metadata": {
    "pycharm": {
     "name": "#%%\n"
    }
   },
   "outputs": [
    {
     "name": "stdout",
     "output_type": "stream",
     "text": [
      "dython              0.6.1\n",
      "tinydb              4.2.0\n"
     ]
    }
   ],
   "source": [
    "%run '../lib/libraries.ipynb'"
   ]
  },
  {
   "cell_type": "code",
   "execution_count": 2,
   "metadata": {
    "pycharm": {
     "name": "#%%\n"
    }
   },
   "outputs": [],
   "source": [
    "dfRaw = load_df('dfRaw')"
   ]
  },
  {
   "cell_type": "markdown",
   "metadata": {},
   "source": [
    "###### Association of  assignment_attempt_number and assignment_max_attempts vs response_correctness"
   ]
  },
  {
   "cell_type": "code",
   "execution_count": 3,
   "metadata": {
    "pycharm": {
     "name": "#%%\n"
    }
   },
   "outputs": [
    {
     "data": {
      "text/plain": [
       "1566"
      ]
     },
     "execution_count": 3,
     "metadata": {},
     "output_type": "execute_result"
    }
   ],
   "source": [
    "dfRaw.where( ( F.col('response_correctness') == '[unassigned]') & (F.col('assignment_max_attempts') == 0) & (F.col('assignment_attempt_number') == 0)).select().count()"
   ]
  },
  {
   "cell_type": "markdown",
   "metadata": {},
   "source": [
    "- 1566 response_correctness \"[unassigned]\" is the same observations as 1566 assignment_attempt_number and assignment_max_attempts\n",
    "- investigate additonal correlations"
   ]
  },
  {
   "cell_type": "markdown",
   "metadata": {},
   "source": [
    "###### Variables Single Value Correlation to response_correctness = \"[unassigned]\""
   ]
  },
  {
   "cell_type": "code",
   "execution_count": 4,
   "metadata": {
    "pycharm": {
     "name": "#%%\n"
    }
   },
   "outputs": [
    {
     "data": {
      "text/html": [
       "<div>\n",
       "<style scoped>\n",
       "    .dataframe tbody tr th:only-of-type {\n",
       "        vertical-align: middle;\n",
       "    }\n",
       "\n",
       "    .dataframe tbody tr th {\n",
       "        vertical-align: top;\n",
       "    }\n",
       "\n",
       "    .dataframe thead th {\n",
       "        text-align: right;\n",
       "    }\n",
       "</style>\n",
       "<table border=\"1\" class=\"dataframe\">\n",
       "  <thead>\n",
       "    <tr style=\"text-align: right;\">\n",
       "      <th></th>\n",
       "      <th>0</th>\n",
       "    </tr>\n",
       "  </thead>\n",
       "  <tbody>\n",
       "    <tr>\n",
       "      <th>is_affecting_grade</th>\n",
       "      <td>True</td>\n",
       "    </tr>\n",
       "    <tr>\n",
       "      <th>assignment_max_attempts</th>\n",
       "      <td>0</td>\n",
       "    </tr>\n",
       "    <tr>\n",
       "      <th>assignment_late_submission</th>\n",
       "      <td>False</td>\n",
       "    </tr>\n",
       "    <tr>\n",
       "      <th>assignment_final_submission_date</th>\n",
       "      <td>NaT</td>\n",
       "    </tr>\n",
       "    <tr>\n",
       "      <th>assignment_start_date</th>\n",
       "      <td>NaT</td>\n",
       "    </tr>\n",
       "    <tr>\n",
       "      <th>assignment_due_date</th>\n",
       "      <td>NaT</td>\n",
       "    </tr>\n",
       "    <tr>\n",
       "      <th>assignment_attempt_number</th>\n",
       "      <td>0</td>\n",
       "    </tr>\n",
       "    <tr>\n",
       "      <th>is_force_scored</th>\n",
       "      <td>False</td>\n",
       "    </tr>\n",
       "    <tr>\n",
       "      <th>is_manual_scoring_required</th>\n",
       "      <td>False</td>\n",
       "    </tr>\n",
       "    <tr>\n",
       "      <th>item_is_offline_scored</th>\n",
       "      <td>False</td>\n",
       "    </tr>\n",
       "    <tr>\n",
       "      <th>learner_attempt_status</th>\n",
       "      <td>fully scored</td>\n",
       "    </tr>\n",
       "    <tr>\n",
       "      <th>scoring_type_code</th>\n",
       "      <td>[unassigned]</td>\n",
       "    </tr>\n",
       "    <tr>\n",
       "      <th>response_correctness</th>\n",
       "      <td>[unassigned]</td>\n",
       "    </tr>\n",
       "    <tr>\n",
       "      <th>assigned_item_status</th>\n",
       "      <td>scored</td>\n",
       "    </tr>\n",
       "    <tr>\n",
       "      <th>is_deleted</th>\n",
       "      <td>False</td>\n",
       "    </tr>\n",
       "    <tr>\n",
       "      <th>org_id</th>\n",
       "      <td>360541</td>\n",
       "    </tr>\n",
       "  </tbody>\n",
       "</table>\n",
       "</div>"
      ],
      "text/plain": [
       "                                             0\n",
       "is_affecting_grade                        True\n",
       "assignment_max_attempts                      0\n",
       "assignment_late_submission               False\n",
       "assignment_final_submission_date           NaT\n",
       "assignment_start_date                      NaT\n",
       "assignment_due_date                        NaT\n",
       "assignment_attempt_number                    0\n",
       "is_force_scored                          False\n",
       "is_manual_scoring_required               False\n",
       "item_is_offline_scored                   False\n",
       "learner_attempt_status            fully scored\n",
       "scoring_type_code                 [unassigned]\n",
       "response_correctness              [unassigned]\n",
       "assigned_item_status                    scored\n",
       "is_deleted                               False\n",
       "org_id                                  360541"
      ]
     },
     "execution_count": 4,
     "metadata": {},
     "output_type": "execute_result"
    }
   ],
   "source": [
    "dfUnassigned = dfRaw.filter(F.col(\"response_correctness\") == \"[unassigned]\")\n",
    "cols = single_val(dfUnassigned.toPandas())\n",
    "\n",
    "display_sv_cols(dfUnassigned, cols)"
   ]
  },
  {
   "cell_type": "markdown",
   "metadata": {},
   "source": [
    "- each observation is\n",
    "  - fully scored (learner_attempt_status = \"fully scored\")\n",
    "  - same organization\n",
    "  - has a score (unweighted_final_score varries, not included above)\n",
    "  - assignment_attempt_number = 0 and assignment_max_attempts = 0 single values\n",
    "  - Empty\n",
    "    - assignment_final_submission_date\n",
    "    - assignment_start_date\n",
    "    - assignment_start_date\n",
    "  - Everything points to an assignment that's not attempted"
   ]
  },
  {
   "cell_type": "markdown",
   "metadata": {},
   "source": [
    "###### Date Ranges for response_correctness = \"[unassigned]\""
   ]
  },
  {
   "cell_type": "code",
   "execution_count": 5,
   "metadata": {
    "pycharm": {
     "name": "#%%\n"
    }
   },
   "outputs": [
    {
     "name": "stdout",
     "output_type": "stream",
     "text": [
      "max_student_stop_datetime\n",
      "+------+----+-----------------------+-----------------------+\n",
      "|unique|null|min                    |max                    |\n",
      "+------+----+-----------------------+-----------------------+\n",
      "|14    |0   |2019-09-10 14:44:06.405|2020-04-25 20:44:02.962|\n",
      "+------+----+-----------------------+-----------------------+\n",
      "\n",
      "min_student_start_datetime\n",
      "+------+----+-----------------------+-----------------------+\n",
      "|unique|null|min                    |max                    |\n",
      "+------+----+-----------------------+-----------------------+\n",
      "|14    |0   |2019-09-10 14:36:29.961|2020-04-01 01:22:00.607|\n",
      "+------+----+-----------------------+-----------------------+\n",
      "\n",
      "scored_datetime\n",
      "+------+----+-----------------------+-----------------------+\n",
      "|unique|null|min                    |max                    |\n",
      "+------+----+-----------------------+-----------------------+\n",
      "|161   |0   |2019-09-10 07:44:06.405|2020-04-25 13:44:02.962|\n",
      "+------+----+-----------------------+-----------------------+\n",
      "\n",
      "student_start_datetime\n",
      "+------+----+-----------------------+-----------------------+\n",
      "|unique|null|min                    |max                    |\n",
      "+------+----+-----------------------+-----------------------+\n",
      "|161   |0   |2019-09-10 14:36:29.961|2020-04-25 20:36:14.435|\n",
      "+------+----+-----------------------+-----------------------+\n",
      "\n",
      "student_stop_datetime\n",
      "+------+----+-----------------------+-----------------------+\n",
      "|unique|null|min                    |max                    |\n",
      "+------+----+-----------------------+-----------------------+\n",
      "|161   |0   |2019-09-10 14:44:06.405|2020-04-25 20:44:02.962|\n",
      "+------+----+-----------------------+-----------------------+\n",
      "\n",
      "was_fully_scored_datetime\n",
      "+------+----+-----------------------+-----------------------+\n",
      "|unique|null|min                    |max                    |\n",
      "+------+----+-----------------------+-----------------------+\n",
      "|161   |0   |2019-09-10 14:44:06.405|2020-04-25 20:44:02.962|\n",
      "+------+----+-----------------------+-----------------------+\n",
      "\n",
      "was_in_progress_datetime\n",
      "+------+----+-----------------------+-----------------------+\n",
      "|unique|null|min                    |max                    |\n",
      "+------+----+-----------------------+-----------------------+\n",
      "|161   |0   |2019-09-10 14:36:29.961|2020-04-25 20:36:14.435|\n",
      "+------+----+-----------------------+-----------------------+\n",
      "\n",
      "was_submitted_datetime_actual\n",
      "+------+----+-----------------------+-----------------------+\n",
      "|unique|null|min                    |max                    |\n",
      "+------+----+-----------------------+-----------------------+\n",
      "|161   |0   |2019-09-10 14:44:06.405|2020-04-25 20:44:02.962|\n",
      "+------+----+-----------------------+-----------------------+\n",
      "\n"
     ]
    }
   ],
   "source": [
    "types = get_var_types()\n",
    "for f in types['intervalVars']:\n",
    "  if f not in [\"assignment_final_submission_date\", \"assignment_start_date\", \"assignment_due_date\"]:\n",
    "    print (f)\n",
    "    dfUnassigned.agg(\n",
    "      F.countDistinct(f).alias(\"unique\"),\n",
    "      F.count(F.when(F.col(f).isNull(), f)).alias(\"null\"),\n",
    "      F.min(f).alias(\"min\"),\n",
    "      F.max(f).alias(\"max\")\n",
    "   ).show(1, False)"
   ]
  },
  {
   "cell_type": "markdown",
   "metadata": {},
   "source": [
    "- dates spread among school year (9/10/2019 to 4/25/2020)\n",
    "- max_student_start_datetime and max_student_stop_datetime have the same number of unique values (14)\n",
    "  - these are entered by teacher\n",
    "- remaining fields have the same number of unique values (161)"
   ]
  },
  {
   "cell_type": "markdown",
   "metadata": {},
   "source": [
    "###### Categorical / Identifier Values for response_correctness = \"[unassigned]\""
   ]
  },
  {
   "cell_type": "code",
   "execution_count": 6,
   "metadata": {
    "pycharm": {
     "name": "#%%\n"
    }
   },
   "outputs": [
    {
     "name": "stdout",
     "output_type": "stream",
     "text": [
      "assessment_id\n",
      "+------+----+\n",
      "|unique|null|\n",
      "+------+----+\n",
      "|    12|   0|\n",
      "+------+----+\n",
      "\n",
      "assessment_instance_attempt_id\n",
      "+------+----+\n",
      "|unique|null|\n",
      "+------+----+\n",
      "|   161|   0|\n",
      "+------+----+\n",
      "\n",
      "assessment_instance_id\n",
      "+------+----+\n",
      "|unique|null|\n",
      "+------+----+\n",
      "|    14|   0|\n",
      "+------+----+\n",
      "\n",
      "assessment_item_response_id\n",
      "+------+----+\n",
      "|unique|null|\n",
      "+------+----+\n",
      "|  1566|   0|\n",
      "+------+----+\n",
      "\n",
      "learner_assigned_item_attempt_id\n",
      "+------+----+\n",
      "|unique|null|\n",
      "+------+----+\n",
      "|  1566|   0|\n",
      "+------+----+\n",
      "\n",
      "learner_assignment_attempt_id\n",
      "+------+----+\n",
      "|unique|null|\n",
      "+------+----+\n",
      "|   161|   0|\n",
      "+------+----+\n",
      "\n",
      "learner_id\n",
      "+------+----+\n",
      "|unique|null|\n",
      "+------+----+\n",
      "|    64|   0|\n",
      "+------+----+\n",
      "\n",
      "org_id\n",
      "+------+----+\n",
      "|unique|null|\n",
      "+------+----+\n",
      "|     1|   0|\n",
      "+------+----+\n",
      "\n",
      "section_id\n",
      "+------+----+\n",
      "|unique|null|\n",
      "+------+----+\n",
      "|     5|   0|\n",
      "+------+----+\n",
      "\n"
     ]
    }
   ],
   "source": [
    "for f in types['identifierVars']:\n",
    "  print(f)\n",
    "  dfUnassigned.agg(\n",
    "    F.countDistinct(f).alias(\"unique\"),\n",
    "    F.count(F.when(F.col(f).isNull(), f)).alias(\"null\")\n",
    "  ).show()"
   ]
  },
  {
   "cell_type": "markdown",
   "metadata": {},
   "source": [
    "- all scores for one organization\n",
    "  - 1 organization\n",
    "  - 5 sections\n",
    "  - 12 assessments\n",
    "  - 14 assessment intances\n",
    "    - 2 repeated\n",
    "    - see datetime variables above with 161 values\n",
    "  - 64 learners\n",
    "  - 161 attempts\n",
    "    - see datetime variables above with 161 values\n",
    "  - 1566 questions"
   ]
  },
  {
   "cell_type": "markdown",
   "metadata": {},
   "source": [
    "###### Conclusion: 1566 [unassigned] in response_correctness\n",
    "- isolated to one organization\n",
    "- no pattern, an outlier\n",
    "- 1566 is 2% of observations\n",
    "  - 1566 / 80548\n",
    "- remove 1566 rows\n",
    "- binary variables assignment_attempt_number and assignment_max_attempts\n",
    "  - will be unary after 1566 deleted\n",
    "  - remove variables"
   ]
  },
  {
   "cell_type": "code",
   "execution_count": 7,
   "metadata": {
    "pycharm": {
     "name": "#%%\n"
    }
   },
   "outputs": [],
   "source": [
    "finish_todo(\"Investigate 1566 [unassigned] in response_correctness\")\n",
    "finish_todo('Investigate assignment_attempt_number and assignment_max_attempts both have 1566 values')\n",
    "\n",
    "add_todo(\"Remove 1566 [unassigned] in response_correctness\")\n",
    "add_todo('Remove assignment_attempt_number and assignment_max_attempts')\n"
   ]
  },
  {
   "cell_type": "code",
   "execution_count": null,
   "metadata": {
    "pycharm": {
     "name": "#%%\n"
    }
   },
   "outputs": [],
   "source": []
  }
 ],
 "metadata": {
  "kernelspec": {
   "display_name": "Python 3",
   "language": "python",
   "name": "python3"
  },
  "language_info": {
   "codemirror_mode": {
    "name": "ipython",
    "version": 3
   },
   "file_extension": ".py",
   "mimetype": "text/x-python",
   "name": "python",
   "nbconvert_exporter": "python",
   "pygments_lexer": "ipython3",
   "version": "3.6.3"
  }
 },
 "nbformat": 4,
 "nbformat_minor": 1
}
