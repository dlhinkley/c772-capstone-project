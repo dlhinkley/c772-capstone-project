{
 "cells": [
  {
   "cell_type": "code",
   "execution_count": null,
   "metadata": {
    "collapsed": true
   },
   "outputs": [],
   "source": []
  },
  {
   "cell_type": "markdown",
   "source": [
    "###### Investigate 1566 [unassigned] in response_correctness"
   ],
   "metadata": {
    "collapsed": false
   }
  },
  {
   "cell_type": "markdown",
   "source": [
    "###### Cross-Tabulation of assignment_attempt_number vs response_correctness"
   ],
   "metadata": {
    "collapsed": false
   }
  },
  {
   "cell_type": "code",
   "execution_count": null,
   "outputs": [],
   "source": [
    "dfPd = dfInv.toPandas()\n",
    "# Return cross-tabulation table of assignment_attempt_number vs response_correctness adding counts for null values\n",
    "pd.crosstab(dfPd.assignment_attempt_number.fillna('null'), dfPd.response_correctness.fillna('null'), margins=True, margins_name=\"Total\")"
   ],
   "metadata": {
    "collapsed": false,
    "pycharm": {
     "name": "#%%\n"
    }
   }
  },
  {
   "cell_type": "markdown",
   "source": [
    "- 1566 response_correctness \"[unassigned]\" is the same observations as 1566 assignment_attempt_number and assignment_max_attempts\n",
    "- investigate additonal correlations"
   ],
   "metadata": {
    "collapsed": false
   }
  },
  {
   "cell_type": "markdown",
   "source": [
    "###### Variables Perfectly Correlated to response_correctness = \"[unassigned]\""
   ],
   "metadata": {
    "collapsed": false
   }
  },
  {
   "cell_type": "code",
   "execution_count": null,
   "outputs": [],
   "source": [
    "dfUnassigned = dfInv.filter(F.col(\"response_correctness\") == \"[unassigned]\")\n",
    "cols = single_val(dfUnassigned, \"response_correctness\")\n",
    "\n",
    "dfUnassigned.select(*cols[:5]).show(1)\n",
    "dfUnassigned.select(*cols[5:9]).show(1)\n",
    "dfUnassigned.select(*cols[9:]).show(1)"
   ],
   "metadata": {
    "collapsed": false,
    "pycharm": {
     "name": "#%%\n"
    }
   }
  },
  {
   "cell_type": "markdown",
   "source": [
    "- each observation is\n",
    "  - fully scored (learner_attempt_status = \"fully scored\")\n",
    "  - same organization\n",
    "  - has a score (unweighted_final_score varries, not included above)\n",
    "  - assignment_attempt_number = 0 and assignment_max_attempts = 0 perfectly correlated"
   ],
   "metadata": {
    "collapsed": false
   }
  },
  {
   "cell_type": "markdown",
   "source": [
    "###### Date Ranges for response_correctness = \"[unassigned]\""
   ],
   "metadata": {
    "collapsed": false
   }
  },
  {
   "cell_type": "code",
   "execution_count": null,
   "outputs": [],
   "source": [
    "for f in shared['intervalVars']:\n",
    "  if f not in [\"assignment_final_submission_date\", \"assignment_start_date\", \"assignment_due_date\"]:\n",
    "    print (f)\n",
    "    dfUnassigned.agg(\n",
    "      F.countDistinct(f).alias(\"unique\"),\n",
    "      F.count(F.when(F.col(f).isNull(), f)).alias(\"null\"),\n",
    "      F.min(f).alias(\"min\"),\n",
    "      F.max(f).alias(\"max\")\n",
    "   ).show(1, False)"
   ],
   "metadata": {
    "collapsed": false,
    "pycharm": {
     "name": "#%%\n"
    }
   }
  },
  {
   "cell_type": "markdown",
   "source": [
    "- dates spread among school year (9/10/2019 to 4/25/2020)\n",
    "- max_student_start_datetime and max_student_stop_datetime have the same number of unique values (14)\n",
    "  - these are entered by teacher\n",
    "- remaining fields have the same number of unique values (161)"
   ],
   "metadata": {
    "collapsed": false
   }
  },
  {
   "cell_type": "markdown",
   "source": [
    "###### Categorical / Identifier Values for response_correctness = \"[unassigned]\""
   ],
   "metadata": {
    "collapsed": false
   }
  },
  {
   "cell_type": "code",
   "execution_count": null,
   "outputs": [],
   "source": [
    "for f in shared['identifierVars']:\n",
    "  print(f)\n",
    "  dfUnassigned.agg(\n",
    "    F.countDistinct(f).alias(\"unique\"),\n",
    "    F.count(F.when(F.col(f).isNull(), f)).alias(\"null\")\n",
    "  ).show()"
   ],
   "metadata": {
    "collapsed": false,
    "pycharm": {
     "name": "#%%\n"
    }
   }
  },
  {
   "cell_type": "markdown",
   "source": [
    "- all scores for one organization\n",
    "  - 1 organization\n",
    "  - 5 sections\n",
    "  - 12 assessments\n",
    "  - 14 assessment intances\n",
    "    - 2 repeated\n",
    "    - see datetime variables above with 161 values\n",
    "  - 64 learners\n",
    "  - 161 attempts\n",
    "    - see datetime variables above with 161 values\n",
    "  - 1566 questions"
   ],
   "metadata": {
    "collapsed": false
   }
  },
  {
   "cell_type": "markdown",
   "source": [
    "####### Conclusion: 1566 [unassigned] in response_correctness\n",
    "- isolated to one organization\n",
    "- no pattern, an outlier\n",
    "- 1566 is 2% of observations\n",
    "  - 1566 / 80548\n",
    "- remove 1566 rows\n",
    "- binary variables assignment_attempt_number and assignment_max_attempts\n",
    "  - will be unary after 1566 deleted\n",
    "  - remove variables"
   ],
   "metadata": {
    "collapsed": false
   }
  },
  {
   "cell_type": "code",
   "execution_count": null,
   "outputs": [],
   "source": [
    "finish_todo(\"Investigate 1566 [unassigned] in response_correctness\")\n",
    "finish_todo('Investigate assignment_attempt_number and assignment_max_attempts both have 1566 values')"
   ],
   "metadata": {
    "collapsed": false,
    "pycharm": {
     "name": "#%%\n"
    }
   }
  },
  {
   "cell_type": "markdown",
   "source": [
    "###### Remove 1566 [unassigned] in response_correctness observations\""
   ],
   "metadata": {
    "collapsed": false
   }
  },
  {
   "cell_type": "code",
   "execution_count": null,
   "outputs": [],
   "source": [
    "# Make sure to preserve the nulls\n",
    "dfInv = dfInv.filter(F.col(\"response_correctness\").isNull() | (F.col(\"response_correctness\") != \"[unassigned]\"))\n"
   ],
   "metadata": {
    "collapsed": false,
    "pycharm": {
     "name": "#%%\n"
    }
   }
  }
 ],
 "metadata": {
  "kernelspec": {
   "display_name": "Python 3",
   "language": "python",
   "name": "python3"
  },
  "language_info": {
   "codemirror_mode": {
    "name": "ipython",
    "version": 2
   },
   "file_extension": ".py",
   "mimetype": "text/x-python",
   "name": "python",
   "nbconvert_exporter": "python",
   "pygments_lexer": "ipython2",
   "version": "2.7.6"
  }
 },
 "nbformat": 4,
 "nbformat_minor": 0
}