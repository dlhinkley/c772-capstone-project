{
 "cells": [
  {
   "cell_type": "code",
   "execution_count": 1,
   "outputs": [
    {
     "name": "stdout",
     "output_type": "stream",
     "text": [
      "Requirement already satisfied: tinydb in /Users/duane.hinkley/PycharmProjects/c772-capstone-project/venv/lib/python3.6/site-packages (4.2.0)\n"
     ]
    }
   ],
   "source": [
    "%run '../child/libraries.ipynb'"
   ],
   "metadata": {
    "collapsed": false,
    "pycharm": {
     "name": "#%%\n"
    }
   }
  },
  {
   "cell_type": "code",
   "execution_count": 2,
   "outputs": [],
   "source": [
    "dfInv1 = load_df('dfInv1')\n",
    "shared2 = load_dict('shared2')"
   ],
   "metadata": {
    "collapsed": false,
    "pycharm": {
     "name": "#%%\n"
    }
   }
  },
  {
   "cell_type": "markdown",
   "source": [
    "###### Investigate 1566 [unassigned] in response_correctness\n"
   ],
   "metadata": {
    "collapsed": false
   }
  },
  {
   "cell_type": "markdown",
   "source": [
    "###### Association of  assignment_attempt_number and assignment_max_attempts vs response_correctness"
   ],
   "metadata": {
    "collapsed": false
   }
  },
  {
   "cell_type": "code",
   "execution_count": 3,
   "outputs": [
    {
     "data": {
      "text/plain": "1566"
     },
     "execution_count": 3,
     "metadata": {},
     "output_type": "execute_result"
    }
   ],
   "source": [
    "dfInv1.where( ( F.col('response_correctness') == '[unassigned]') & (F.col('assignment_max_attempts') == 0) & (F.col('assignment_attempt_number') == 0)).select().count()"
   ],
   "metadata": {
    "collapsed": false,
    "pycharm": {
     "name": "#%%\n"
    }
   }
  },
  {
   "cell_type": "markdown",
   "source": [
    "- 1566 response_correctness \"[unassigned]\" is the same observations as 1566 assignment_attempt_number and assignment_max_attempts\n",
    "- investigate additonal correlations"
   ],
   "metadata": {
    "collapsed": false
   }
  },
  {
   "cell_type": "markdown",
   "source": [
    "###### Variables Single Value Correlation to response_correctness = \"[unassigned]\""
   ],
   "metadata": {
    "collapsed": false
   }
  },
  {
   "cell_type": "code",
   "execution_count": 4,
   "outputs": [
    {
     "ename": "OutOfBoundsDatetime",
     "evalue": "Out of bounds nanosecond timestamp: 2999-01-01 00:00:00",
     "output_type": "error",
     "traceback": [
      "\u001B[0;31m---------------------------------------------------------------------------\u001B[0m",
      "\u001B[0;31mOutOfBoundsDatetime\u001B[0m                       Traceback (most recent call last)",
      "\u001B[0;32m~/PycharmProjects/c772-capstone-project/venv/lib/python3.6/site-packages/pandas/core/arrays/datetimes.py\u001B[0m in \u001B[0;36mobjects_to_datetime64ns\u001B[0;34m(data, dayfirst, yearfirst, utc, errors, require_iso8601, allow_object)\u001B[0m\n\u001B[1;32m   2053\u001B[0m         \u001B[0;32mtry\u001B[0m\u001B[0;34m:\u001B[0m\u001B[0;34m\u001B[0m\u001B[0m\n\u001B[0;32m-> 2054\u001B[0;31m             \u001B[0mvalues\u001B[0m\u001B[0;34m,\u001B[0m \u001B[0mtz_parsed\u001B[0m \u001B[0;34m=\u001B[0m \u001B[0mconversion\u001B[0m\u001B[0;34m.\u001B[0m\u001B[0mdatetime_to_datetime64\u001B[0m\u001B[0;34m(\u001B[0m\u001B[0mdata\u001B[0m\u001B[0;34m)\u001B[0m\u001B[0;34m\u001B[0m\u001B[0m\n\u001B[0m\u001B[1;32m   2055\u001B[0m             \u001B[0;31m# If tzaware, these values represent unix timestamps, so we\u001B[0m\u001B[0;34m\u001B[0m\u001B[0;34m\u001B[0m\u001B[0m\n",
      "\u001B[0;32mpandas/_libs/tslibs/conversion.pyx\u001B[0m in \u001B[0;36mpandas._libs.tslibs.conversion.datetime_to_datetime64\u001B[0;34m()\u001B[0m\n",
      "\u001B[0;32mpandas/_libs/tslibs/np_datetime.pyx\u001B[0m in \u001B[0;36mpandas._libs.tslibs.np_datetime.check_dts_bounds\u001B[0;34m()\u001B[0m\n",
      "\u001B[0;31mOutOfBoundsDatetime\u001B[0m: Out of bounds nanosecond timestamp: 2999-01-01 00:00:00",
      "\nDuring handling of the above exception, another exception occurred:\n",
      "\u001B[0;31mOutOfBoundsDatetime\u001B[0m                       Traceback (most recent call last)",
      "\u001B[0;32m<ipython-input-4-94189d9b21f5>\u001B[0m in \u001B[0;36m<module>\u001B[0;34m\u001B[0m\n\u001B[1;32m      1\u001B[0m \u001B[0mdfUnassigned\u001B[0m \u001B[0;34m=\u001B[0m \u001B[0mdfInv1\u001B[0m\u001B[0;34m.\u001B[0m\u001B[0mfilter\u001B[0m\u001B[0;34m(\u001B[0m\u001B[0mF\u001B[0m\u001B[0;34m.\u001B[0m\u001B[0mcol\u001B[0m\u001B[0;34m(\u001B[0m\u001B[0;34m\"response_correctness\"\u001B[0m\u001B[0;34m)\u001B[0m \u001B[0;34m==\u001B[0m \u001B[0;34m\"[unassigned]\"\u001B[0m\u001B[0;34m)\u001B[0m\u001B[0;34m\u001B[0m\u001B[0m\n\u001B[0;32m----> 2\u001B[0;31m \u001B[0mcols\u001B[0m \u001B[0;34m=\u001B[0m \u001B[0msingle_val\u001B[0m\u001B[0;34m(\u001B[0m\u001B[0mdfUnassigned\u001B[0m\u001B[0;34m.\u001B[0m\u001B[0mtoPandas\u001B[0m\u001B[0;34m(\u001B[0m\u001B[0;34m)\u001B[0m\u001B[0;34m)\u001B[0m\u001B[0;34m\u001B[0m\u001B[0m\n\u001B[0m\u001B[1;32m      3\u001B[0m \u001B[0;34m\u001B[0m\u001B[0m\n\u001B[1;32m      4\u001B[0m \u001B[0mdisplay_sv_cols\u001B[0m\u001B[0;34m(\u001B[0m\u001B[0mdfUnassigned\u001B[0m\u001B[0;34m,\u001B[0m \u001B[0mcols\u001B[0m\u001B[0;34m)\u001B[0m\u001B[0;34m\u001B[0m\u001B[0m\n\u001B[1;32m      5\u001B[0m \u001B[0;34m\u001B[0m\u001B[0m\n",
      "\u001B[0;32m~/PycharmProjects/c772-capstone-project/venv/lib/python3.6/site-packages/pyspark/sql/pandas/conversion.py\u001B[0m in \u001B[0;36mtoPandas\u001B[0;34m(self)\u001B[0m\n\u001B[1;32m    173\u001B[0m \u001B[0;34m\u001B[0m\u001B[0m\n\u001B[1;32m    174\u001B[0m             \u001B[0;32mif\u001B[0m \u001B[0mt\u001B[0m \u001B[0;32mis\u001B[0m \u001B[0;32mnot\u001B[0m \u001B[0;32mNone\u001B[0m\u001B[0;34m:\u001B[0m\u001B[0;34m\u001B[0m\u001B[0m\n\u001B[0;32m--> 175\u001B[0;31m                 \u001B[0mseries\u001B[0m \u001B[0;34m=\u001B[0m \u001B[0mseries\u001B[0m\u001B[0;34m.\u001B[0m\u001B[0mastype\u001B[0m\u001B[0;34m(\u001B[0m\u001B[0mt\u001B[0m\u001B[0;34m,\u001B[0m \u001B[0mcopy\u001B[0m\u001B[0;34m=\u001B[0m\u001B[0;32mFalse\u001B[0m\u001B[0;34m)\u001B[0m\u001B[0;34m\u001B[0m\u001B[0m\n\u001B[0m\u001B[1;32m    176\u001B[0m \u001B[0;34m\u001B[0m\u001B[0m\n\u001B[1;32m    177\u001B[0m             \u001B[0;31m# `insert` API makes copy of data, we only do it for Series of duplicate column names.\u001B[0m\u001B[0;34m\u001B[0m\u001B[0;34m\u001B[0m\u001B[0m\n",
      "\u001B[0;32m~/PycharmProjects/c772-capstone-project/venv/lib/python3.6/site-packages/pandas/core/generic.py\u001B[0m in \u001B[0;36mastype\u001B[0;34m(self, dtype, copy, errors)\u001B[0m\n\u001B[1;32m   5541\u001B[0m         \u001B[0;32melse\u001B[0m\u001B[0;34m:\u001B[0m\u001B[0;34m\u001B[0m\u001B[0m\n\u001B[1;32m   5542\u001B[0m             \u001B[0;31m# else, only a single dtype is given\u001B[0m\u001B[0;34m\u001B[0m\u001B[0;34m\u001B[0m\u001B[0m\n\u001B[0;32m-> 5543\u001B[0;31m             \u001B[0mnew_data\u001B[0m \u001B[0;34m=\u001B[0m \u001B[0mself\u001B[0m\u001B[0;34m.\u001B[0m\u001B[0m_mgr\u001B[0m\u001B[0;34m.\u001B[0m\u001B[0mastype\u001B[0m\u001B[0;34m(\u001B[0m\u001B[0mdtype\u001B[0m\u001B[0;34m=\u001B[0m\u001B[0mdtype\u001B[0m\u001B[0;34m,\u001B[0m \u001B[0mcopy\u001B[0m\u001B[0;34m=\u001B[0m\u001B[0mcopy\u001B[0m\u001B[0;34m,\u001B[0m \u001B[0merrors\u001B[0m\u001B[0;34m=\u001B[0m\u001B[0merrors\u001B[0m\u001B[0;34m,\u001B[0m\u001B[0;34m)\u001B[0m\u001B[0;34m\u001B[0m\u001B[0m\n\u001B[0m\u001B[1;32m   5544\u001B[0m             \u001B[0;32mreturn\u001B[0m \u001B[0mself\u001B[0m\u001B[0;34m.\u001B[0m\u001B[0m_constructor\u001B[0m\u001B[0;34m(\u001B[0m\u001B[0mnew_data\u001B[0m\u001B[0;34m)\u001B[0m\u001B[0;34m.\u001B[0m\u001B[0m__finalize__\u001B[0m\u001B[0;34m(\u001B[0m\u001B[0mself\u001B[0m\u001B[0;34m,\u001B[0m \u001B[0mmethod\u001B[0m\u001B[0;34m=\u001B[0m\u001B[0;34m\"astype\"\u001B[0m\u001B[0;34m)\u001B[0m\u001B[0;34m\u001B[0m\u001B[0m\n\u001B[1;32m   5545\u001B[0m \u001B[0;34m\u001B[0m\u001B[0m\n",
      "\u001B[0;32m~/PycharmProjects/c772-capstone-project/venv/lib/python3.6/site-packages/pandas/core/internals/managers.py\u001B[0m in \u001B[0;36mastype\u001B[0;34m(self, dtype, copy, errors)\u001B[0m\n\u001B[1;32m    593\u001B[0m         \u001B[0mself\u001B[0m\u001B[0;34m,\u001B[0m \u001B[0mdtype\u001B[0m\u001B[0;34m,\u001B[0m \u001B[0mcopy\u001B[0m\u001B[0;34m:\u001B[0m \u001B[0mbool\u001B[0m \u001B[0;34m=\u001B[0m \u001B[0;32mFalse\u001B[0m\u001B[0;34m,\u001B[0m \u001B[0merrors\u001B[0m\u001B[0;34m:\u001B[0m \u001B[0mstr\u001B[0m \u001B[0;34m=\u001B[0m \u001B[0;34m\"raise\"\u001B[0m\u001B[0;34m\u001B[0m\u001B[0m\n\u001B[1;32m    594\u001B[0m     ) -> \"BlockManager\":\n\u001B[0;32m--> 595\u001B[0;31m         \u001B[0;32mreturn\u001B[0m \u001B[0mself\u001B[0m\u001B[0;34m.\u001B[0m\u001B[0mapply\u001B[0m\u001B[0;34m(\u001B[0m\u001B[0;34m\"astype\"\u001B[0m\u001B[0;34m,\u001B[0m \u001B[0mdtype\u001B[0m\u001B[0;34m=\u001B[0m\u001B[0mdtype\u001B[0m\u001B[0;34m,\u001B[0m \u001B[0mcopy\u001B[0m\u001B[0;34m=\u001B[0m\u001B[0mcopy\u001B[0m\u001B[0;34m,\u001B[0m \u001B[0merrors\u001B[0m\u001B[0;34m=\u001B[0m\u001B[0merrors\u001B[0m\u001B[0;34m)\u001B[0m\u001B[0;34m\u001B[0m\u001B[0m\n\u001B[0m\u001B[1;32m    596\u001B[0m \u001B[0;34m\u001B[0m\u001B[0m\n\u001B[1;32m    597\u001B[0m     def convert(\n",
      "\u001B[0;32m~/PycharmProjects/c772-capstone-project/venv/lib/python3.6/site-packages/pandas/core/internals/managers.py\u001B[0m in \u001B[0;36mapply\u001B[0;34m(self, f, align_keys, **kwargs)\u001B[0m\n\u001B[1;32m    404\u001B[0m                 \u001B[0mapplied\u001B[0m \u001B[0;34m=\u001B[0m \u001B[0mb\u001B[0m\u001B[0;34m.\u001B[0m\u001B[0mapply\u001B[0m\u001B[0;34m(\u001B[0m\u001B[0mf\u001B[0m\u001B[0;34m,\u001B[0m \u001B[0;34m**\u001B[0m\u001B[0mkwargs\u001B[0m\u001B[0;34m)\u001B[0m\u001B[0;34m\u001B[0m\u001B[0m\n\u001B[1;32m    405\u001B[0m             \u001B[0;32melse\u001B[0m\u001B[0;34m:\u001B[0m\u001B[0;34m\u001B[0m\u001B[0m\n\u001B[0;32m--> 406\u001B[0;31m                 \u001B[0mapplied\u001B[0m \u001B[0;34m=\u001B[0m \u001B[0mgetattr\u001B[0m\u001B[0;34m(\u001B[0m\u001B[0mb\u001B[0m\u001B[0;34m,\u001B[0m \u001B[0mf\u001B[0m\u001B[0;34m)\u001B[0m\u001B[0;34m(\u001B[0m\u001B[0;34m**\u001B[0m\u001B[0mkwargs\u001B[0m\u001B[0;34m)\u001B[0m\u001B[0;34m\u001B[0m\u001B[0m\n\u001B[0m\u001B[1;32m    407\u001B[0m             \u001B[0mresult_blocks\u001B[0m \u001B[0;34m=\u001B[0m \u001B[0m_extend_blocks\u001B[0m\u001B[0;34m(\u001B[0m\u001B[0mapplied\u001B[0m\u001B[0;34m,\u001B[0m \u001B[0mresult_blocks\u001B[0m\u001B[0;34m)\u001B[0m\u001B[0;34m\u001B[0m\u001B[0m\n\u001B[1;32m    408\u001B[0m \u001B[0;34m\u001B[0m\u001B[0m\n",
      "\u001B[0;32m~/PycharmProjects/c772-capstone-project/venv/lib/python3.6/site-packages/pandas/core/internals/blocks.py\u001B[0m in \u001B[0;36mastype\u001B[0;34m(self, dtype, copy, errors)\u001B[0m\n\u001B[1;32m    592\u001B[0m             \u001B[0mvals1d\u001B[0m \u001B[0;34m=\u001B[0m \u001B[0mvalues\u001B[0m\u001B[0;34m.\u001B[0m\u001B[0mravel\u001B[0m\u001B[0;34m(\u001B[0m\u001B[0;34m)\u001B[0m\u001B[0;34m\u001B[0m\u001B[0m\n\u001B[1;32m    593\u001B[0m             \u001B[0;32mtry\u001B[0m\u001B[0;34m:\u001B[0m\u001B[0;34m\u001B[0m\u001B[0m\n\u001B[0;32m--> 594\u001B[0;31m                 \u001B[0mvalues\u001B[0m \u001B[0;34m=\u001B[0m \u001B[0mastype_nansafe\u001B[0m\u001B[0;34m(\u001B[0m\u001B[0mvals1d\u001B[0m\u001B[0;34m,\u001B[0m \u001B[0mdtype\u001B[0m\u001B[0;34m,\u001B[0m \u001B[0mcopy\u001B[0m\u001B[0;34m=\u001B[0m\u001B[0;32mTrue\u001B[0m\u001B[0;34m)\u001B[0m\u001B[0;34m\u001B[0m\u001B[0m\n\u001B[0m\u001B[1;32m    595\u001B[0m             \u001B[0;32mexcept\u001B[0m \u001B[0;34m(\u001B[0m\u001B[0mValueError\u001B[0m\u001B[0;34m,\u001B[0m \u001B[0mTypeError\u001B[0m\u001B[0;34m)\u001B[0m\u001B[0;34m:\u001B[0m\u001B[0;34m\u001B[0m\u001B[0m\n\u001B[1;32m    596\u001B[0m                 \u001B[0;31m# e.g. astype_nansafe can fail on object-dtype of strings\u001B[0m\u001B[0;34m\u001B[0m\u001B[0;34m\u001B[0m\u001B[0m\n",
      "\u001B[0;32m~/PycharmProjects/c772-capstone-project/venv/lib/python3.6/site-packages/pandas/core/dtypes/cast.py\u001B[0m in \u001B[0;36mastype_nansafe\u001B[0;34m(arr, dtype, copy, skipna)\u001B[0m\n\u001B[1;32m    973\u001B[0m             \u001B[0;32mfrom\u001B[0m \u001B[0mpandas\u001B[0m \u001B[0;32mimport\u001B[0m \u001B[0mto_datetime\u001B[0m\u001B[0;34m\u001B[0m\u001B[0m\n\u001B[1;32m    974\u001B[0m \u001B[0;34m\u001B[0m\u001B[0m\n\u001B[0;32m--> 975\u001B[0;31m             \u001B[0;32mreturn\u001B[0m \u001B[0mastype_nansafe\u001B[0m\u001B[0;34m(\u001B[0m\u001B[0mto_datetime\u001B[0m\u001B[0;34m(\u001B[0m\u001B[0marr\u001B[0m\u001B[0;34m)\u001B[0m\u001B[0;34m.\u001B[0m\u001B[0mvalues\u001B[0m\u001B[0;34m,\u001B[0m \u001B[0mdtype\u001B[0m\u001B[0;34m,\u001B[0m \u001B[0mcopy\u001B[0m\u001B[0;34m=\u001B[0m\u001B[0mcopy\u001B[0m\u001B[0;34m)\u001B[0m\u001B[0;34m\u001B[0m\u001B[0m\n\u001B[0m\u001B[1;32m    976\u001B[0m         \u001B[0;32melif\u001B[0m \u001B[0mis_timedelta64_dtype\u001B[0m\u001B[0;34m(\u001B[0m\u001B[0mdtype\u001B[0m\u001B[0;34m)\u001B[0m\u001B[0;34m:\u001B[0m\u001B[0;34m\u001B[0m\u001B[0m\n\u001B[1;32m    977\u001B[0m             \u001B[0;32mfrom\u001B[0m \u001B[0mpandas\u001B[0m \u001B[0;32mimport\u001B[0m \u001B[0mto_timedelta\u001B[0m\u001B[0;34m\u001B[0m\u001B[0m\n",
      "\u001B[0;32m~/PycharmProjects/c772-capstone-project/venv/lib/python3.6/site-packages/pandas/core/tools/datetimes.py\u001B[0m in \u001B[0;36mto_datetime\u001B[0;34m(arg, errors, dayfirst, yearfirst, utc, format, exact, unit, infer_datetime_format, origin, cache)\u001B[0m\n\u001B[1;32m    813\u001B[0m     \u001B[0;32melif\u001B[0m \u001B[0mis_list_like\u001B[0m\u001B[0;34m(\u001B[0m\u001B[0marg\u001B[0m\u001B[0;34m)\u001B[0m\u001B[0;34m:\u001B[0m\u001B[0;34m\u001B[0m\u001B[0m\n\u001B[1;32m    814\u001B[0m         \u001B[0;32mtry\u001B[0m\u001B[0;34m:\u001B[0m\u001B[0;34m\u001B[0m\u001B[0m\n\u001B[0;32m--> 815\u001B[0;31m             \u001B[0mcache_array\u001B[0m \u001B[0;34m=\u001B[0m \u001B[0m_maybe_cache\u001B[0m\u001B[0;34m(\u001B[0m\u001B[0marg\u001B[0m\u001B[0;34m,\u001B[0m \u001B[0mformat\u001B[0m\u001B[0;34m,\u001B[0m \u001B[0mcache\u001B[0m\u001B[0;34m,\u001B[0m \u001B[0mconvert_listlike\u001B[0m\u001B[0;34m)\u001B[0m\u001B[0;34m\u001B[0m\u001B[0m\n\u001B[0m\u001B[1;32m    816\u001B[0m         \u001B[0;32mexcept\u001B[0m \u001B[0mtslibs\u001B[0m\u001B[0;34m.\u001B[0m\u001B[0mOutOfBoundsDatetime\u001B[0m\u001B[0;34m:\u001B[0m\u001B[0;34m\u001B[0m\u001B[0m\n\u001B[1;32m    817\u001B[0m             \u001B[0;31m# caching attempts to create a DatetimeIndex, which may raise\u001B[0m\u001B[0;34m\u001B[0m\u001B[0;34m\u001B[0m\u001B[0m\n",
      "\u001B[0;32m~/PycharmProjects/c772-capstone-project/venv/lib/python3.6/site-packages/pandas/core/tools/datetimes.py\u001B[0m in \u001B[0;36m_maybe_cache\u001B[0;34m(arg, format, cache, convert_listlike)\u001B[0m\n\u001B[1;32m    168\u001B[0m         \u001B[0munique_dates\u001B[0m \u001B[0;34m=\u001B[0m \u001B[0munique\u001B[0m\u001B[0;34m(\u001B[0m\u001B[0marg\u001B[0m\u001B[0;34m)\u001B[0m\u001B[0;34m\u001B[0m\u001B[0m\n\u001B[1;32m    169\u001B[0m         \u001B[0;32mif\u001B[0m \u001B[0mlen\u001B[0m\u001B[0;34m(\u001B[0m\u001B[0munique_dates\u001B[0m\u001B[0;34m)\u001B[0m \u001B[0;34m<\u001B[0m \u001B[0mlen\u001B[0m\u001B[0;34m(\u001B[0m\u001B[0marg\u001B[0m\u001B[0;34m)\u001B[0m\u001B[0;34m:\u001B[0m\u001B[0;34m\u001B[0m\u001B[0m\n\u001B[0;32m--> 170\u001B[0;31m             \u001B[0mcache_dates\u001B[0m \u001B[0;34m=\u001B[0m \u001B[0mconvert_listlike\u001B[0m\u001B[0;34m(\u001B[0m\u001B[0munique_dates\u001B[0m\u001B[0;34m,\u001B[0m \u001B[0mformat\u001B[0m\u001B[0;34m)\u001B[0m\u001B[0;34m\u001B[0m\u001B[0m\n\u001B[0m\u001B[1;32m    171\u001B[0m             \u001B[0mcache_array\u001B[0m \u001B[0;34m=\u001B[0m \u001B[0mSeries\u001B[0m\u001B[0;34m(\u001B[0m\u001B[0mcache_dates\u001B[0m\u001B[0;34m,\u001B[0m \u001B[0mindex\u001B[0m\u001B[0;34m=\u001B[0m\u001B[0munique_dates\u001B[0m\u001B[0;34m)\u001B[0m\u001B[0;34m\u001B[0m\u001B[0m\n\u001B[1;32m    172\u001B[0m     \u001B[0;32mreturn\u001B[0m \u001B[0mcache_array\u001B[0m\u001B[0;34m\u001B[0m\u001B[0m\n",
      "\u001B[0;32m~/PycharmProjects/c772-capstone-project/venv/lib/python3.6/site-packages/pandas/core/tools/datetimes.py\u001B[0m in \u001B[0;36m_convert_listlike_datetimes\u001B[0;34m(arg, format, name, tz, unit, errors, infer_datetime_format, dayfirst, yearfirst, exact)\u001B[0m\n\u001B[1;32m    464\u001B[0m             \u001B[0merrors\u001B[0m\u001B[0;34m=\u001B[0m\u001B[0merrors\u001B[0m\u001B[0;34m,\u001B[0m\u001B[0;34m\u001B[0m\u001B[0m\n\u001B[1;32m    465\u001B[0m             \u001B[0mrequire_iso8601\u001B[0m\u001B[0;34m=\u001B[0m\u001B[0mrequire_iso8601\u001B[0m\u001B[0;34m,\u001B[0m\u001B[0;34m\u001B[0m\u001B[0m\n\u001B[0;32m--> 466\u001B[0;31m             \u001B[0mallow_object\u001B[0m\u001B[0;34m=\u001B[0m\u001B[0;32mTrue\u001B[0m\u001B[0;34m,\u001B[0m\u001B[0;34m\u001B[0m\u001B[0m\n\u001B[0m\u001B[1;32m    467\u001B[0m         )\n\u001B[1;32m    468\u001B[0m \u001B[0;34m\u001B[0m\u001B[0m\n",
      "\u001B[0;32m~/PycharmProjects/c772-capstone-project/venv/lib/python3.6/site-packages/pandas/core/arrays/datetimes.py\u001B[0m in \u001B[0;36mobjects_to_datetime64ns\u001B[0;34m(data, dayfirst, yearfirst, utc, errors, require_iso8601, allow_object)\u001B[0m\n\u001B[1;32m   2057\u001B[0m             \u001B[0;32mreturn\u001B[0m \u001B[0mvalues\u001B[0m\u001B[0;34m.\u001B[0m\u001B[0mview\u001B[0m\u001B[0;34m(\u001B[0m\u001B[0;34m\"i8\"\u001B[0m\u001B[0;34m)\u001B[0m\u001B[0;34m,\u001B[0m \u001B[0mtz_parsed\u001B[0m\u001B[0;34m\u001B[0m\u001B[0m\n\u001B[1;32m   2058\u001B[0m         \u001B[0;32mexcept\u001B[0m \u001B[0;34m(\u001B[0m\u001B[0mValueError\u001B[0m\u001B[0;34m,\u001B[0m \u001B[0mTypeError\u001B[0m\u001B[0;34m)\u001B[0m\u001B[0;34m:\u001B[0m\u001B[0;34m\u001B[0m\u001B[0m\n\u001B[0;32m-> 2059\u001B[0;31m             \u001B[0;32mraise\u001B[0m \u001B[0me\u001B[0m\u001B[0;34m\u001B[0m\u001B[0m\n\u001B[0m\u001B[1;32m   2060\u001B[0m \u001B[0;34m\u001B[0m\u001B[0m\n\u001B[1;32m   2061\u001B[0m     \u001B[0;32mif\u001B[0m \u001B[0mtz_parsed\u001B[0m \u001B[0;32mis\u001B[0m \u001B[0;32mnot\u001B[0m \u001B[0;32mNone\u001B[0m\u001B[0;34m:\u001B[0m\u001B[0;34m\u001B[0m\u001B[0m\n",
      "\u001B[0;32m~/PycharmProjects/c772-capstone-project/venv/lib/python3.6/site-packages/pandas/core/arrays/datetimes.py\u001B[0m in \u001B[0;36mobjects_to_datetime64ns\u001B[0;34m(data, dayfirst, yearfirst, utc, errors, require_iso8601, allow_object)\u001B[0m\n\u001B[1;32m   2048\u001B[0m             \u001B[0mdayfirst\u001B[0m\u001B[0;34m=\u001B[0m\u001B[0mdayfirst\u001B[0m\u001B[0;34m,\u001B[0m\u001B[0;34m\u001B[0m\u001B[0m\n\u001B[1;32m   2049\u001B[0m             \u001B[0myearfirst\u001B[0m\u001B[0;34m=\u001B[0m\u001B[0myearfirst\u001B[0m\u001B[0;34m,\u001B[0m\u001B[0;34m\u001B[0m\u001B[0m\n\u001B[0;32m-> 2050\u001B[0;31m             \u001B[0mrequire_iso8601\u001B[0m\u001B[0;34m=\u001B[0m\u001B[0mrequire_iso8601\u001B[0m\u001B[0;34m,\u001B[0m\u001B[0;34m\u001B[0m\u001B[0m\n\u001B[0m\u001B[1;32m   2051\u001B[0m         )\n\u001B[1;32m   2052\u001B[0m     \u001B[0;32mexcept\u001B[0m \u001B[0mValueError\u001B[0m \u001B[0;32mas\u001B[0m \u001B[0me\u001B[0m\u001B[0;34m:\u001B[0m\u001B[0;34m\u001B[0m\u001B[0m\n",
      "\u001B[0;32mpandas/_libs/tslib.pyx\u001B[0m in \u001B[0;36mpandas._libs.tslib.array_to_datetime\u001B[0;34m()\u001B[0m\n",
      "\u001B[0;32mpandas/_libs/tslib.pyx\u001B[0m in \u001B[0;36mpandas._libs.tslib.array_to_datetime\u001B[0;34m()\u001B[0m\n",
      "\u001B[0;32mpandas/_libs/tslib.pyx\u001B[0m in \u001B[0;36mpandas._libs.tslib.array_to_datetime\u001B[0;34m()\u001B[0m\n",
      "\u001B[0;32mpandas/_libs/tslib.pyx\u001B[0m in \u001B[0;36mpandas._libs.tslib.array_to_datetime\u001B[0;34m()\u001B[0m\n",
      "\u001B[0;32mpandas/_libs/tslibs/np_datetime.pyx\u001B[0m in \u001B[0;36mpandas._libs.tslibs.np_datetime.check_dts_bounds\u001B[0;34m()\u001B[0m\n",
      "\u001B[0;31mOutOfBoundsDatetime\u001B[0m: Out of bounds nanosecond timestamp: 2999-01-01 00:00:00"
     ]
    }
   ],
   "source": [
    "dfUnassigned = dfInv1.filter(F.col(\"response_correctness\") == \"[unassigned]\")\n",
    "cols = single_val(dfUnassigned.toPandas())\n",
    "\n",
    "display_sv_cols(dfUnassigned, cols)"
   ],
   "metadata": {
    "collapsed": false,
    "pycharm": {
     "name": "#%%\n"
    }
   }
  },
  {
   "cell_type": "markdown",
   "source": [
    "- each observation is\n",
    "  - fully scored (learner_attempt_status = \"fully scored\")\n",
    "  - same organization\n",
    "  - has a score (unweighted_final_score varries, not included above)\n",
    "  - assignment_attempt_number = 0 and assignment_max_attempts = 0 single values"
   ],
   "metadata": {
    "collapsed": false
   }
  },
  {
   "cell_type": "markdown",
   "source": [
    "###### Date Ranges for response_correctness = \"[unassigned]\""
   ],
   "metadata": {
    "collapsed": false
   }
  },
  {
   "cell_type": "code",
   "execution_count": 13,
   "outputs": [
    {
     "name": "stdout",
     "output_type": "stream",
     "text": [
      "max_student_stop_datetime\n",
      "+------+----+-----------------------+-----------------------+\n",
      "|unique|null|min                    |max                    |\n",
      "+------+----+-----------------------+-----------------------+\n",
      "|14    |0   |2019-09-10 14:44:06.405|2020-04-25 20:44:02.962|\n",
      "+------+----+-----------------------+-----------------------+\n",
      "\n",
      "min_student_start_datetime\n",
      "+------+----+-----------------------+-----------------------+\n",
      "|unique|null|min                    |max                    |\n",
      "+------+----+-----------------------+-----------------------+\n",
      "|14    |0   |2019-09-10 14:36:29.961|2020-04-01 01:22:00.607|\n",
      "+------+----+-----------------------+-----------------------+\n",
      "\n",
      "scored_datetime\n",
      "+------+----+-----------------------+-----------------------+\n",
      "|unique|null|min                    |max                    |\n",
      "+------+----+-----------------------+-----------------------+\n",
      "|161   |0   |2019-09-10 07:44:06.405|2020-04-25 13:44:02.962|\n",
      "+------+----+-----------------------+-----------------------+\n",
      "\n",
      "student_start_datetime\n",
      "+------+----+-----------------------+-----------------------+\n",
      "|unique|null|min                    |max                    |\n",
      "+------+----+-----------------------+-----------------------+\n",
      "|161   |0   |2019-09-10 14:36:29.961|2020-04-25 20:36:14.435|\n",
      "+------+----+-----------------------+-----------------------+\n",
      "\n",
      "student_stop_datetime\n",
      "+------+----+-----------------------+-----------------------+\n",
      "|unique|null|min                    |max                    |\n",
      "+------+----+-----------------------+-----------------------+\n",
      "|161   |0   |2019-09-10 14:44:06.405|2020-04-25 20:44:02.962|\n",
      "+------+----+-----------------------+-----------------------+\n",
      "\n",
      "was_fully_scored_datetime\n",
      "+------+----+-----------------------+-----------------------+\n",
      "|unique|null|min                    |max                    |\n",
      "+------+----+-----------------------+-----------------------+\n",
      "|161   |0   |2019-09-10 14:44:06.405|2020-04-25 20:44:02.962|\n",
      "+------+----+-----------------------+-----------------------+\n",
      "\n",
      "was_in_progress_datetime\n",
      "+------+----+-----------------------+-----------------------+\n",
      "|unique|null|min                    |max                    |\n",
      "+------+----+-----------------------+-----------------------+\n",
      "|161   |0   |2019-09-10 14:36:29.961|2020-04-25 20:36:14.435|\n",
      "+------+----+-----------------------+-----------------------+\n",
      "\n",
      "was_submitted_datetime_actual\n",
      "+------+----+-----------------------+-----------------------+\n",
      "|unique|null|min                    |max                    |\n",
      "+------+----+-----------------------+-----------------------+\n",
      "|161   |0   |2019-09-10 14:44:06.405|2020-04-25 20:44:02.962|\n",
      "+------+----+-----------------------+-----------------------+\n",
      "\n"
     ]
    }
   ],
   "source": [
    "for f in shared2['intervalVars']:\n",
    "  if f not in [\"assignment_final_submission_date\", \"assignment_start_date\", \"assignment_due_date\"]:\n",
    "    print (f)\n",
    "    dfUnassigned.agg(\n",
    "      F.countDistinct(f).alias(\"unique\"),\n",
    "      F.count(F.when(F.col(f).isNull(), f)).alias(\"null\"),\n",
    "      F.min(f).alias(\"min\"),\n",
    "      F.max(f).alias(\"max\")\n",
    "   ).show(1, False)"
   ],
   "metadata": {
    "collapsed": false,
    "pycharm": {
     "name": "#%%\n"
    }
   }
  },
  {
   "cell_type": "markdown",
   "source": [
    "- dates spread among school year (9/10/2019 to 4/25/2020)\n",
    "- max_student_start_datetime and max_student_stop_datetime have the same number of unique values (14)\n",
    "  - these are entered by teacher\n",
    "- remaining fields have the same number of unique values (161)"
   ],
   "metadata": {
    "collapsed": false
   }
  },
  {
   "cell_type": "markdown",
   "source": [
    "###### Categorical / Identifier Values for response_correctness = \"[unassigned]\""
   ],
   "metadata": {
    "collapsed": false
   }
  },
  {
   "cell_type": "code",
   "execution_count": 14,
   "outputs": [
    {
     "name": "stdout",
     "output_type": "stream",
     "text": [
      "assessment_id\n",
      "+------+----+\n",
      "|unique|null|\n",
      "+------+----+\n",
      "|    12|   0|\n",
      "+------+----+\n",
      "\n",
      "assessment_instance_attempt_id\n",
      "+------+----+\n",
      "|unique|null|\n",
      "+------+----+\n",
      "|   161|   0|\n",
      "+------+----+\n",
      "\n",
      "assessment_instance_id\n",
      "+------+----+\n",
      "|unique|null|\n",
      "+------+----+\n",
      "|    14|   0|\n",
      "+------+----+\n",
      "\n",
      "assessment_item_response_id\n",
      "+------+----+\n",
      "|unique|null|\n",
      "+------+----+\n",
      "|  1566|   0|\n",
      "+------+----+\n",
      "\n",
      "learner_assigned_item_attempt_id\n",
      "+------+----+\n",
      "|unique|null|\n",
      "+------+----+\n",
      "|  1566|   0|\n",
      "+------+----+\n",
      "\n",
      "learner_assignment_attempt_id\n",
      "+------+----+\n",
      "|unique|null|\n",
      "+------+----+\n",
      "|   161|   0|\n",
      "+------+----+\n",
      "\n",
      "learner_id\n",
      "+------+----+\n",
      "|unique|null|\n",
      "+------+----+\n",
      "|    64|   0|\n",
      "+------+----+\n",
      "\n",
      "org_id\n",
      "+------+----+\n",
      "|unique|null|\n",
      "+------+----+\n",
      "|     1|   0|\n",
      "+------+----+\n",
      "\n",
      "section_id\n",
      "+------+----+\n",
      "|unique|null|\n",
      "+------+----+\n",
      "|     5|   0|\n",
      "+------+----+\n",
      "\n"
     ]
    }
   ],
   "source": [
    "for f in shared2['identifierVars']:\n",
    "  print(f)\n",
    "  dfUnassigned.agg(\n",
    "    F.countDistinct(f).alias(\"unique\"),\n",
    "    F.count(F.when(F.col(f).isNull(), f)).alias(\"null\")\n",
    "  ).show()"
   ],
   "metadata": {
    "collapsed": false,
    "pycharm": {
     "name": "#%%\n"
    }
   }
  },
  {
   "cell_type": "markdown",
   "source": [
    "- all scores for one organization\n",
    "  - 1 organization\n",
    "  - 5 sections\n",
    "  - 12 assessments\n",
    "  - 14 assessment intances\n",
    "    - 2 repeated\n",
    "    - see datetime variables above with 161 values\n",
    "  - 64 learners\n",
    "  - 161 attempts\n",
    "    - see datetime variables above with 161 values\n",
    "  - 1566 questions"
   ],
   "metadata": {
    "collapsed": false
   }
  },
  {
   "cell_type": "markdown",
   "source": [
    "###### Conclusion: 1566 [unassigned] in response_correctness\n",
    "- isolated to one organization\n",
    "- no pattern, an outlier\n",
    "- 1566 is 2% of observations\n",
    "  - 1566 / 80548\n",
    "- remove 1566 rows\n",
    "- binary variables assignment_attempt_number and assignment_max_attempts\n",
    "  - will be unary after 1566 deleted\n",
    "  - remove variables"
   ],
   "metadata": {
    "collapsed": false
   }
  },
  {
   "cell_type": "code",
   "execution_count": 15,
   "outputs": [],
   "source": [
    "finish_todo(\"Investigate 1566 [unassigned] in response_correctness\")\n",
    "finish_todo('Investigate assignment_attempt_number and assignment_max_attempts both have 1566 values')"
   ],
   "metadata": {
    "collapsed": false,
    "pycharm": {
     "name": "#%%\n"
    }
   }
  },
  {
   "cell_type": "markdown",
   "source": [
    "###### Remove 1566 [unassigned] in response_correctness observations\""
   ],
   "metadata": {
    "collapsed": false
   }
  },
  {
   "cell_type": "code",
   "execution_count": 17,
   "outputs": [],
   "source": [
    "# Make sure to preserve the nulls\n",
    "dfInv1 = dfInv1.filter(F.col(\"response_correctness\").isNull() | (F.col(\"response_correctness\") != \"[unassigned]\"))"
   ],
   "metadata": {
    "collapsed": false,
    "pycharm": {
     "name": "#%%\n"
    }
   }
  },
  {
   "cell_type": "markdown",
   "source": [
    "###### Remove unary variables assignment_attempt_number and assignment_max_attempts\n",
    "After 1566 unassigned in response_correctness is address, assignment_attempt_number and assignment_max_attemps is unary"
   ],
   "metadata": {
    "collapsed": false
   }
  },
  {
   "cell_type": "code",
   "execution_count": 19,
   "outputs": [],
   "source": [
    "dfInv2 = dfInv1.drop(\"assignment_attempt_number\", \"assignment_max_attempts\")"
   ],
   "metadata": {
    "collapsed": false,
    "pycharm": {
     "name": "#%%\n"
    }
   }
  },
  {
   "cell_type": "code",
   "execution_count": 20,
   "outputs": [],
   "source": [
    "save_df(dfInv2, 'dfInv2')"
   ],
   "metadata": {
    "collapsed": false,
    "pycharm": {
     "name": "#%%\n"
    }
   }
  },
  {
   "cell_type": "code",
   "execution_count": null,
   "outputs": [],
   "source": [],
   "metadata": {
    "collapsed": false,
    "pycharm": {
     "name": "#%%\n"
    }
   }
  }
 ],
 "metadata": {
  "kernelspec": {
   "display_name": "Python 3",
   "language": "python",
   "name": "python3"
  },
  "language_info": {
   "codemirror_mode": {
    "name": "ipython",
    "version": 2
   },
   "file_extension": ".py",
   "mimetype": "text/x-python",
   "name": "python",
   "nbconvert_exporter": "python",
   "pygments_lexer": "ipython2",
   "version": "2.7.6"
  }
 },
 "nbformat": 4,
 "nbformat_minor": 0
}