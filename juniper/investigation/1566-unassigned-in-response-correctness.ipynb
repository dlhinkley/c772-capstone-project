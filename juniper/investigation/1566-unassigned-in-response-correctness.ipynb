{
 "cells": [
  {
   "cell_type": "markdown",
   "source": [
    "###### Investigate 1566 [unassigned] in response_correctness"
   ],
   "metadata": {
    "collapsed": false
   }
  },
  {
   "cell_type": "code",
   "execution_count": 1,
   "outputs": [
    {
     "name": "stdout",
     "output_type": "stream",
     "text": [
      "Requirement already satisfied: tinydb in /Users/duane.hinkley/PycharmProjects/c772-capstone-project/venv/lib/python3.6/site-packages (4.2.0)\n"
     ]
    }
   ],
   "source": [
    "%run '../child/libraries.ipynb'"
   ],
   "metadata": {
    "collapsed": false,
    "pycharm": {
     "name": "#%%\n"
    }
   }
  },
  {
   "cell_type": "code",
   "execution_count": 2,
   "outputs": [],
   "source": [
    "dfInv1 = load_df('dfInv1')\n",
    "shared = load_dict('shared')"
   ],
   "metadata": {
    "collapsed": false,
    "pycharm": {
     "name": "#%%\n"
    }
   }
  },
  {
   "cell_type": "markdown",
   "source": [
    "###### Association of  assignment_attempt_number and assignment_max_attempts vs response_correctness"
   ],
   "metadata": {
    "collapsed": false
   }
  },
  {
   "cell_type": "code",
   "execution_count": 3,
   "outputs": [
    {
     "data": {
      "text/plain": "1566"
     },
     "execution_count": 3,
     "metadata": {},
     "output_type": "execute_result"
    }
   ],
   "source": [
    "dfInv1.where( ( F.col('response_correctness') == '[unassigned]') & (F.col('assignment_max_attempts') == 0) & (F.col('assignment_attempt_number') == 0)).select().count()"
   ],
   "metadata": {
    "collapsed": false,
    "pycharm": {
     "name": "#%%\n"
    }
   }
  },
  {
   "cell_type": "markdown",
   "source": [
    "- 1566 response_correctness \"[unassigned]\" is the same observations as 1566 assignment_attempt_number and assignment_max_attempts\n",
    "- investigate additonal correlations"
   ],
   "metadata": {
    "collapsed": false
   }
  },
  {
   "cell_type": "markdown",
   "source": [
    "###### Variables Single Value Correlation to response_correctness = \"[unassigned]\""
   ],
   "metadata": {
    "collapsed": false
   }
  },
  {
   "cell_type": "code",
   "execution_count": 12,
   "outputs": [
    {
     "data": {
      "text/plain": "                                                 0\nis_affecting_grade                            True\nassignment_max_attempts                          0\nassignment_final_submission_date               NaT\nassignment_start_date                          NaT\nassignment_due_date                            NaT\nassignment_attempt_number                        0\nis_force_scored                              False\nitem_is_offline_scored                       False\nscoring_type_code                     [unassigned]\nresponse_correctness                  [unassigned]\nassigned_item_status                        scored\norg_id                                      360541\norg_new                           New York Schools",
      "text/html": "<div>\n<style scoped>\n    .dataframe tbody tr th:only-of-type {\n        vertical-align: middle;\n    }\n\n    .dataframe tbody tr th {\n        vertical-align: top;\n    }\n\n    .dataframe thead th {\n        text-align: right;\n    }\n</style>\n<table border=\"1\" class=\"dataframe\">\n  <thead>\n    <tr style=\"text-align: right;\">\n      <th></th>\n      <th>0</th>\n    </tr>\n  </thead>\n  <tbody>\n    <tr>\n      <th>is_affecting_grade</th>\n      <td>True</td>\n    </tr>\n    <tr>\n      <th>assignment_max_attempts</th>\n      <td>0</td>\n    </tr>\n    <tr>\n      <th>assignment_final_submission_date</th>\n      <td>NaT</td>\n    </tr>\n    <tr>\n      <th>assignment_start_date</th>\n      <td>NaT</td>\n    </tr>\n    <tr>\n      <th>assignment_due_date</th>\n      <td>NaT</td>\n    </tr>\n    <tr>\n      <th>assignment_attempt_number</th>\n      <td>0</td>\n    </tr>\n    <tr>\n      <th>is_force_scored</th>\n      <td>False</td>\n    </tr>\n    <tr>\n      <th>item_is_offline_scored</th>\n      <td>False</td>\n    </tr>\n    <tr>\n      <th>scoring_type_code</th>\n      <td>[unassigned]</td>\n    </tr>\n    <tr>\n      <th>response_correctness</th>\n      <td>[unassigned]</td>\n    </tr>\n    <tr>\n      <th>assigned_item_status</th>\n      <td>scored</td>\n    </tr>\n    <tr>\n      <th>org_id</th>\n      <td>360541</td>\n    </tr>\n    <tr>\n      <th>org_new</th>\n      <td>New York Schools</td>\n    </tr>\n  </tbody>\n</table>\n</div>"
     },
     "execution_count": 12,
     "metadata": {},
     "output_type": "execute_result"
    }
   ],
   "source": [
    "dfUnassigned = dfInv1.filter(F.col(\"response_correctness\") == \"[unassigned]\")\n",
    "cols = single_val(dfUnassigned.toPandas())\n",
    "\n",
    "display_sv_cols(dfUnassigned, cols)"
   ],
   "metadata": {
    "collapsed": false,
    "pycharm": {
     "name": "#%%\n"
    }
   }
  },
  {
   "cell_type": "markdown",
   "source": [
    "- each observation is\n",
    "  - fully scored (learner_attempt_status = \"fully scored\")\n",
    "  - same organization\n",
    "  - has a score (unweighted_final_score varries, not included above)\n",
    "  - assignment_attempt_number = 0 and assignment_max_attempts = 0 single values"
   ],
   "metadata": {
    "collapsed": false
   }
  },
  {
   "cell_type": "markdown",
   "source": [
    "###### Date Ranges for response_correctness = \"[unassigned]\""
   ],
   "metadata": {
    "collapsed": false
   }
  },
  {
   "cell_type": "code",
   "execution_count": 13,
   "outputs": [
    {
     "name": "stdout",
     "output_type": "stream",
     "text": [
      "max_student_stop_datetime\n",
      "+------+----+-----------------------+-----------------------+\n",
      "|unique|null|min                    |max                    |\n",
      "+------+----+-----------------------+-----------------------+\n",
      "|14    |0   |2019-09-10 14:44:06.405|2020-04-25 20:44:02.962|\n",
      "+------+----+-----------------------+-----------------------+\n",
      "\n",
      "min_student_start_datetime\n",
      "+------+----+-----------------------+-----------------------+\n",
      "|unique|null|min                    |max                    |\n",
      "+------+----+-----------------------+-----------------------+\n",
      "|14    |0   |2019-09-10 14:36:29.961|2020-04-01 01:22:00.607|\n",
      "+------+----+-----------------------+-----------------------+\n",
      "\n",
      "scored_datetime\n",
      "+------+----+-----------------------+-----------------------+\n",
      "|unique|null|min                    |max                    |\n",
      "+------+----+-----------------------+-----------------------+\n",
      "|161   |0   |2019-09-10 07:44:06.405|2020-04-25 13:44:02.962|\n",
      "+------+----+-----------------------+-----------------------+\n",
      "\n",
      "student_start_datetime\n",
      "+------+----+-----------------------+-----------------------+\n",
      "|unique|null|min                    |max                    |\n",
      "+------+----+-----------------------+-----------------------+\n",
      "|161   |0   |2019-09-10 14:36:29.961|2020-04-25 20:36:14.435|\n",
      "+------+----+-----------------------+-----------------------+\n",
      "\n",
      "student_stop_datetime\n",
      "+------+----+-----------------------+-----------------------+\n",
      "|unique|null|min                    |max                    |\n",
      "+------+----+-----------------------+-----------------------+\n",
      "|161   |0   |2019-09-10 14:44:06.405|2020-04-25 20:44:02.962|\n",
      "+------+----+-----------------------+-----------------------+\n",
      "\n",
      "was_fully_scored_datetime\n",
      "+------+----+-----------------------+-----------------------+\n",
      "|unique|null|min                    |max                    |\n",
      "+------+----+-----------------------+-----------------------+\n",
      "|161   |0   |2019-09-10 14:44:06.405|2020-04-25 20:44:02.962|\n",
      "+------+----+-----------------------+-----------------------+\n",
      "\n",
      "was_in_progress_datetime\n",
      "+------+----+-----------------------+-----------------------+\n",
      "|unique|null|min                    |max                    |\n",
      "+------+----+-----------------------+-----------------------+\n",
      "|161   |0   |2019-09-10 14:36:29.961|2020-04-25 20:36:14.435|\n",
      "+------+----+-----------------------+-----------------------+\n",
      "\n",
      "was_submitted_datetime_actual\n",
      "+------+----+-----------------------+-----------------------+\n",
      "|unique|null|min                    |max                    |\n",
      "+------+----+-----------------------+-----------------------+\n",
      "|161   |0   |2019-09-10 14:44:06.405|2020-04-25 20:44:02.962|\n",
      "+------+----+-----------------------+-----------------------+\n",
      "\n"
     ]
    }
   ],
   "source": [
    "for f in shared['intervalVars']:\n",
    "  if f not in [\"assignment_final_submission_date\", \"assignment_start_date\", \"assignment_due_date\"]:\n",
    "    print (f)\n",
    "    dfUnassigned.agg(\n",
    "      F.countDistinct(f).alias(\"unique\"),\n",
    "      F.count(F.when(F.col(f).isNull(), f)).alias(\"null\"),\n",
    "      F.min(f).alias(\"min\"),\n",
    "      F.max(f).alias(\"max\")\n",
    "   ).show(1, False)"
   ],
   "metadata": {
    "collapsed": false,
    "pycharm": {
     "name": "#%%\n"
    }
   }
  },
  {
   "cell_type": "markdown",
   "source": [
    "- dates spread among school year (9/10/2019 to 4/25/2020)\n",
    "- max_student_start_datetime and max_student_stop_datetime have the same number of unique values (14)\n",
    "  - these are entered by teacher\n",
    "- remaining fields have the same number of unique values (161)"
   ],
   "metadata": {
    "collapsed": false
   }
  },
  {
   "cell_type": "markdown",
   "source": [
    "###### Categorical / Identifier Values for response_correctness = \"[unassigned]\""
   ],
   "metadata": {
    "collapsed": false
   }
  },
  {
   "cell_type": "code",
   "execution_count": 14,
   "outputs": [
    {
     "name": "stdout",
     "output_type": "stream",
     "text": [
      "assessment_id\n",
      "+------+----+\n",
      "|unique|null|\n",
      "+------+----+\n",
      "|    12|   0|\n",
      "+------+----+\n",
      "\n",
      "assessment_instance_attempt_id\n",
      "+------+----+\n",
      "|unique|null|\n",
      "+------+----+\n",
      "|   161|   0|\n",
      "+------+----+\n",
      "\n",
      "assessment_instance_id\n",
      "+------+----+\n",
      "|unique|null|\n",
      "+------+----+\n",
      "|    14|   0|\n",
      "+------+----+\n",
      "\n",
      "assessment_item_response_id\n",
      "+------+----+\n",
      "|unique|null|\n",
      "+------+----+\n",
      "|  1566|   0|\n",
      "+------+----+\n",
      "\n",
      "learner_assigned_item_attempt_id\n",
      "+------+----+\n",
      "|unique|null|\n",
      "+------+----+\n",
      "|  1566|   0|\n",
      "+------+----+\n",
      "\n",
      "learner_assignment_attempt_id\n",
      "+------+----+\n",
      "|unique|null|\n",
      "+------+----+\n",
      "|   161|   0|\n",
      "+------+----+\n",
      "\n",
      "learner_id\n",
      "+------+----+\n",
      "|unique|null|\n",
      "+------+----+\n",
      "|    64|   0|\n",
      "+------+----+\n",
      "\n",
      "org_id\n",
      "+------+----+\n",
      "|unique|null|\n",
      "+------+----+\n",
      "|     1|   0|\n",
      "+------+----+\n",
      "\n",
      "section_id\n",
      "+------+----+\n",
      "|unique|null|\n",
      "+------+----+\n",
      "|     5|   0|\n",
      "+------+----+\n",
      "\n"
     ]
    }
   ],
   "source": [
    "for f in shared['identifierVars']:\n",
    "  print(f)\n",
    "  dfUnassigned.agg(\n",
    "    F.countDistinct(f).alias(\"unique\"),\n",
    "    F.count(F.when(F.col(f).isNull(), f)).alias(\"null\")\n",
    "  ).show()"
   ],
   "metadata": {
    "collapsed": false,
    "pycharm": {
     "name": "#%%\n"
    }
   }
  },
  {
   "cell_type": "markdown",
   "source": [
    "- all scores for one organization\n",
    "  - 1 organization\n",
    "  - 5 sections\n",
    "  - 12 assessments\n",
    "  - 14 assessment intances\n",
    "    - 2 repeated\n",
    "    - see datetime variables above with 161 values\n",
    "  - 64 learners\n",
    "  - 161 attempts\n",
    "    - see datetime variables above with 161 values\n",
    "  - 1566 questions"
   ],
   "metadata": {
    "collapsed": false
   }
  },
  {
   "cell_type": "markdown",
   "source": [
    "###### Conclusion: 1566 [unassigned] in response_correctness\n",
    "- isolated to one organization\n",
    "- no pattern, an outlier\n",
    "- 1566 is 2% of observations\n",
    "  - 1566 / 80548\n",
    "- remove 1566 rows\n",
    "- binary variables assignment_attempt_number and assignment_max_attempts\n",
    "  - will be unary after 1566 deleted\n",
    "  - remove variables"
   ],
   "metadata": {
    "collapsed": false
   }
  },
  {
   "cell_type": "code",
   "execution_count": 15,
   "outputs": [],
   "source": [
    "finish_todo(\"Investigate 1566 [unassigned] in response_correctness\")\n",
    "finish_todo('Investigate assignment_attempt_number and assignment_max_attempts both have 1566 values')"
   ],
   "metadata": {
    "collapsed": false,
    "pycharm": {
     "name": "#%%\n"
    }
   }
  },
  {
   "cell_type": "markdown",
   "source": [
    "###### Remove 1566 [unassigned] in response_correctness observations\""
   ],
   "metadata": {
    "collapsed": false
   }
  },
  {
   "cell_type": "code",
   "execution_count": 17,
   "outputs": [],
   "source": [
    "# Make sure to preserve the nulls\n",
    "dfInv1 = dfInv1.filter(F.col(\"response_correctness\").isNull() | (F.col(\"response_correctness\") != \"[unassigned]\"))"
   ],
   "metadata": {
    "collapsed": false,
    "pycharm": {
     "name": "#%%\n"
    }
   }
  },
  {
   "cell_type": "markdown",
   "source": [
    "###### Remove unary variables assignment_attempt_number and assignment_max_attempts\n",
    "After 1566 unassigned in response_correctness is address, assignment_attempt_number and assignment_max_attemps is unary"
   ],
   "metadata": {
    "collapsed": false
   }
  },
  {
   "cell_type": "code",
   "execution_count": 19,
   "outputs": [],
   "source": [
    "dfInv2 = dfInv1.drop(\"assignment_attempt_number\", \"assignment_max_attempts\")"
   ],
   "metadata": {
    "collapsed": false,
    "pycharm": {
     "name": "#%%\n"
    }
   }
  },
  {
   "cell_type": "code",
   "execution_count": 20,
   "outputs": [],
   "source": [
    "save_df(dfInv2, 'dfInv2')"
   ],
   "metadata": {
    "collapsed": false,
    "pycharm": {
     "name": "#%%\n"
    }
   }
  },
  {
   "cell_type": "code",
   "execution_count": null,
   "outputs": [],
   "source": [],
   "metadata": {
    "collapsed": false,
    "pycharm": {
     "name": "#%%\n"
    }
   }
  }
 ],
 "metadata": {
  "kernelspec": {
   "display_name": "Python 3",
   "language": "python",
   "name": "python3"
  },
  "language_info": {
   "codemirror_mode": {
    "name": "ipython",
    "version": 2
   },
   "file_extension": ".py",
   "mimetype": "text/x-python",
   "name": "python",
   "nbconvert_exporter": "python",
   "pygments_lexer": "ipython2",
   "version": "2.7.6"
  }
 },
 "nbformat": 4,
 "nbformat_minor": 0
}