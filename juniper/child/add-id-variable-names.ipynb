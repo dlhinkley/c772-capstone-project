{
 "cells": [
  {
   "cell_type": "markdown",
   "metadata": {
    "collapsed": true,
    "pycharm": {
     "name": "#%% md\n"
    }
   },
   "source": [
    "##### Add Identifier Variable Names"
   ]
  },
  {
   "cell_type": "markdown",
   "source": [
    "1. Add org variable to use instead of org_id for readability"
   ],
   "metadata": {
    "collapsed": false
   }
  },
  {
   "cell_type": "code",
   "execution_count": null,
   "outputs": [],
   "source": [
    "def remap_org(df):\n",
    "  # Given a dataframe, add a learner field with randome names\n",
    "\n",
    "  url = 'https://gist.githubusercontent.com/Miserlou/11500b2345d3fe850c92/raw/e36859a9eef58c231865429ade1c142a2b75f16e/gistfile1.txt'\n",
    "  skip = [0,1,2,4]\n",
    "  # Read in a random name list\n",
    "  cityDf = pd.read_csv(url, skiprows=skip, skipfooter=26, engine='python')\n",
    "  # Get the largest cities\n",
    "  nameList = cityDf[ cityDf['population'] > 900000].city.tolist()\n",
    "  nameList = [' '.join( [ name, 'Schools' ] ) for name in nameList]\n",
    "  # Randomize the list\n",
    "  random.shuffle(nameList)\n",
    "\n",
    "  # Replace learner id with a random name\n",
    "  return id_to_name(df, 'org_id', 'org_new', nameList)\n",
    "\n",
    "dfRaw = remap_org(dfRaw)"
   ],
   "metadata": {
    "collapsed": false,
    "pycharm": {
     "name": "#%%\n"
    }
   }
  },
  {
   "cell_type": "markdown",
   "source": [
    "2. Add learner variable to use instead of learner_id for readability"
   ],
   "metadata": {
    "collapsed": false
   }
  },
  {
   "cell_type": "code",
   "execution_count": null,
   "outputs": [],
   "source": [
    "def remap_learner(df):\n",
    "  # Given a dataframe, add a learner field with randome names\n",
    "\n",
    "  # Read in a random name list\n",
    "  nameList = pd.read_csv('https://raw.githubusercontent.com/huntergregal/wordlists/master/names.txt', header=None, names=['list']).list.tolist()\n",
    "\n",
    "  # Randomize the list\n",
    "  random.shuffle(nameList)\n",
    "\n",
    "  # Replace learner id with a random name\n",
    "  return id_to_name(df, 'learner_id', 'learner_new', nameList)\n",
    "\n",
    "dfRaw = remap_learner(dfRaw)"
   ],
   "metadata": {
    "collapsed": false,
    "pycharm": {
     "name": "#%%\n"
    }
   }
  },
  {
   "cell_type": "markdown",
   "source": [
    "3. Add section variable to use instead of section_id for readability"
   ],
   "metadata": {
    "collapsed": false
   }
  },
  {
   "cell_type": "code",
   "execution_count": null,
   "outputs": [],
   "source": [
    "def remap_section(df):\n",
    "  # Given a dataframe, add a learner field with randome names\n",
    "\n",
    "  # Read in a random name list\n",
    "  nameList = pd.read_csv('https://raw.githubusercontent.com/kjhealy/hourly/master/data/famous-people.csv').Name.tolist()\n",
    "  suffix = ['High', 'Elementry', 'Secondary', 'Prep']\n",
    "\n",
    "  nameList = [' '.join( [ name, suffix[random.randint(0, 3)] ] ) for name in nameList]\n",
    "  # Randomize the list\n",
    "  random.shuffle(nameList)\n",
    "\n",
    "  # Replace learner id with a random name\n",
    "  return id_to_name(df, 'section_id', 'section_new', nameList)\n",
    "\n",
    "dfRaw = remap_section(dfRaw)"
   ],
   "metadata": {
    "collapsed": false,
    "pycharm": {
     "name": "#%%\n"
    }
   }
  },
  {
   "cell_type": "markdown",
   "source": [
    "4. Add assessment variable to use instead of assessment_id for readability"
   ],
   "metadata": {
    "collapsed": false
   }
  },
  {
   "cell_type": "code",
   "execution_count": null,
   "outputs": [],
   "source": [
    "def remap_assessment(df):\n",
    "  # Given a dataframe, add a learner field with randome names\n",
    "\n",
    "  # Read in a random name list\n",
    "  fields = ['one', 'two', 'topics', 'question','five','six','seven','eight', 'nine']\n",
    "  url = 'https://gist.githubusercontent.com/blackwatertepes/5172428/raw/8bf38936cb47f03ed3e0ffb76ea5027d4ff0368a/jeopardy.txt'\n",
    "  nameList = pd.read_csv(url, header=None, sep='\\t', low_memory=False,error_bad_lines=False, names=fields, nrows=2000).topics.tolist()\n",
    "\n",
    "  # Filter out names less than 2 words\n",
    "  nameList = filter(lambda x: len(x.split()) > 2, nameList)\n",
    "  # Title case\n",
    "  nameList = [name.title() for name in nameList]\n",
    "  # Randomize the list\n",
    "  random.shuffle(nameList)\n",
    "\n",
    "  # Replace learner id with a random name\n",
    "  return id_to_name(df, 'assessment_id', 'assessment_new', nameList)\n",
    "\n",
    "dfRaw = remap_assessment(dfRaw)\n",
    "\n",
    "\n",
    "\n"
   ],
   "metadata": {
    "collapsed": false,
    "pycharm": {
     "name": "#%%\n"
    }
   }
  }
 ],
 "metadata": {
  "kernelspec": {
   "display_name": "Python 3",
   "language": "python",
   "name": "python3"
  },
  "language_info": {
   "codemirror_mode": {
    "name": "ipython",
    "version": 2
   },
   "file_extension": ".py",
   "mimetype": "text/x-python",
   "name": "python",
   "nbconvert_exporter": "python",
   "pygments_lexer": "ipython2",
   "version": "2.7.6"
  }
 },
 "nbformat": 4,
 "nbformat_minor": 0
}