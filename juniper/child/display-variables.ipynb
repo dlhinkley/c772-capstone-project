{
 "cells": [
  {
   "cell_type": "markdown",
   "source": [
    "##### Display Variables"
   ],
   "metadata": {
    "collapsed": false
   }
  },
  {
   "cell_type": "markdown",
   "source": [
    "###### Display Categorical Identifier Variables"
   ],
   "metadata": {
    "collapsed": false
   }
  },
  {
   "cell_type": "code",
   "execution_count": null,
   "outputs": [],
   "source": [
    "# Save field names\n",
    "identifierVarObs = dfDesc.filter(\"type = 'Categorical Identifier'\")\n",
    "shared.identifierVars = [row['field'] for row in identifierVarObs.select('field').collect()]\n",
    "identifierVarObs.select(F.col('field').alias('Categorical Identifier')).show(20,False)"
   ],
   "metadata": {
    "collapsed": false,
    "pycharm": {
     "name": "#%%\n"
    }
   }
  },
  {
   "cell_type": "markdown",
   "source": [
    "###### Display Categorical Nominal Variables"
   ],
   "metadata": {
    "collapsed": false
   }
  },
  {
   "cell_type": "code",
   "execution_count": null,
   "outputs": [],
   "source": [
    "nominalVarObs    = dfDesc.filter(\"type = 'Categorical Nominal'\")\n",
    "shared.nominalVars = [row['field'] for row in nominalVarObs.select('field').collect()]\n",
    "nominalVarObs.select(F.col('field').alias('Categorical Nominal')).show(20,False)"
   ],
   "metadata": {
    "collapsed": false,
    "pycharm": {
     "name": "#%%\n"
    }
   }
  },
  {
   "cell_type": "markdown",
   "source": [
    "###### Display Numeric Continuous Variables"
   ],
   "metadata": {
    "collapsed": false
   }
  },
  {
   "cell_type": "code",
   "execution_count": null,
   "outputs": [],
   "source": [
    "continousVarObs  = dfDesc.filter(\"type = 'Numeric Continuous'\")\n",
    "shared.continousVars = [row['field'] for row in continousVarObs.select('field').collect()]\n",
    "continousVarObs.select(F.col('field').alias('Numeric Continuous')).show(20,False)"
   ],
   "metadata": {
    "collapsed": false,
    "pycharm": {
     "name": "#%%\n"
    }
   }
  },
  {
   "cell_type": "markdown",
   "source": [
    "###### Display Categorical Interval Varibles"
   ],
   "metadata": {
    "collapsed": false
   }
  },
  {
   "cell_type": "code",
   "execution_count": null,
   "outputs": [],
   "source": [
    "intervalVarObs   = dfDesc.filter(\"type = 'Categorical Interval'\")\n",
    "shared.intervalVars = [row['field'] for row in intervalVarObs.select('field').collect()]\n",
    "intervalVarObs.select(F.col('field').alias('Categorical Interval')).show(20,False)"
   ],
   "metadata": {
    "collapsed": false,
    "pycharm": {
     "name": "#%%\n"
    }
   }
  },
  {
   "cell_type": "code",
   "execution_count": null,
   "outputs": [],
   "source": [
    "binaryVarObs     = dfDesc.filter(\"type = 'Categorical Binary'\")\n",
    "shared.binaryVars = [row['field'] for row in binaryVarObs.select('field').collect()]\n",
    "binaryVarObs.select(F.col('field').alias('Categorical Binary')).show(20,False)\n"
   ],
   "metadata": {
    "collapsed": false,
    "pycharm": {
     "name": "#%%\n"
    }
   }
  },
  {
   "cell_type": "code",
   "execution_count": null,
   "metadata": {
    "collapsed": true
   },
   "outputs": [],
   "source": []
  }
 ],
 "metadata": {
  "kernelspec": {
   "display_name": "Python 3",
   "language": "python",
   "name": "python3"
  },
  "language_info": {
   "codemirror_mode": {
    "name": "ipython",
    "version": 2
   },
   "file_extension": ".py",
   "mimetype": "text/x-python",
   "name": "python",
   "nbconvert_exporter": "python",
   "pygments_lexer": "ipython2",
   "version": "2.7.6"
  }
 },
 "nbformat": 4,
 "nbformat_minor": 0
}