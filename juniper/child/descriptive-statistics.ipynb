{
 "cells": [
  {
   "cell_type": "markdown",
   "source": [
    "##### Variable Descriptive Statistics"
   ],
   "metadata": {
    "collapsed": false
   }
  },
  {
   "cell_type": "markdown",
   "source": [
    "###### Categorical / Identifier Variables"
   ],
   "metadata": {
    "collapsed": false
   }
  },
  {
   "cell_type": "code",
   "execution_count": null,
   "outputs": [],
   "source": [
    "for f in shared.identifierVars:\n",
    "  print(f)\n",
    "  dfFlt.agg(\n",
    "    F.countDistinct(f).alias('unique'),\n",
    "    F.count(F.when(F.col(f).isNull(), f)).alias('null')\n",
    "  ).show()"
   ],
   "metadata": {
    "collapsed": false,
    "pycharm": {
     "name": "#%%\n"
    }
   }
  },
  {
   "cell_type": "markdown",
   "source": [
    "Totals\n",
    "- org_id: 3\n",
    "  - ID per organization\n",
    "- section_id: 46\n",
    "  - ID per section/school\n",
    "- learner_id: 1126\n",
    "  - ID per learner/student\n",
    "- assessment_id: 329\n",
    "  - ID per each assessment/quiz.\n",
    "- assessment_instance_id: 615\n",
    "  - ID of each time a section uses the assessment\n",
    "- assessment_instance_attempt_id: 8483 null: 3264\n",
    "  - ID of each time an assessment is attempted by a student\n",
    "- assessment_item_response_id: 64368 null: 15710\n",
    "  - ID of each response/answer to an assessment question\n",
    "- learner_assignment_attempt_id: 8855\n",
    "  - ID of each learner attempt of an assigned assessment\n",
    "- learner_assigned_item_attempt_id: 79689\n",
    "  - ID of each learner attempt of a item/question on an assigned assessment"
   ],
   "metadata": {
    "collapsed": false
   }
  },
  {
   "cell_type": "markdown",
   "source": [
    "###### Categorical / Nominal Variables"
   ],
   "metadata": {
    "collapsed": false
   }
  },
  {
   "cell_type": "code",
   "execution_count": null,
   "outputs": [],
   "source": [
    "# Categorical / Nominal Values\n",
    "for f in shared.nominalVars:\n",
    "  dfFlt.groupBy(f).count().orderBy('count', ascending=False).show(50, False)\n"
   ],
   "metadata": {
    "collapsed": false,
    "pycharm": {
     "name": "#%%\n"
    }
   }
  },
  {
   "cell_type": "markdown",
   "source": [
    "##### Null Values\n",
    "- response_correctness\n",
    "  - 3298 null values\n",
    "    - investigate further\n",
    "  - 1566 \"[unassigned]\"\n",
    "    - investigate further for relation to the 1566 assignment_attempt_number and assignment_max_attempts values\n",
    "  - Could be null because the question wasn't answered or a different method of scoring the question\n",
    "- item_type_code_name\n",
    "  - Investigate further\n",
    "  - Could be related to unstarted or unanswered questions\n",
    "\n",
    "##### Large number of categorical values\n",
    "- item_type_code_name\n",
    "  - Need to transform by reclassifying to reduce number of levels\n",
    "\n",
    "##### learner_attempt_status\n",
    "- Unary \"fully scored\""
   ],
   "metadata": {
    "collapsed": false
   }
  },
  {
   "cell_type": "code",
   "execution_count": null,
   "outputs": [],
   "source": [
    "# Create Todo list\n",
    "add_todo('Investigate 3298 null values in response_correctness')\n",
    "add_todo('Investigate 1566 [unassigned] in response_correctness')\n",
    "add_todo('Investigate null values in item_type_code_name')\n",
    "add_todo('Reduce number of levels in item_type_code_name')\n",
    "add_todo('Remove unary learner_attempt_status = \"fully scored\"')"
   ],
   "metadata": {
    "collapsed": false,
    "pycharm": {
     "name": "#%%\n"
    }
   }
  },
  {
   "cell_type": "markdown",
   "source": [
    "###### Categorical / Nominal Correlations Heatmap"
   ],
   "metadata": {
    "collapsed": false
   }
  },
  {
   "cell_type": "code",
   "execution_count": null,
   "outputs": [],
   "source": [
    "corr, ax = associations( dfFlt.select(*shared.nominalVars).toPandas(), nan_replace_value='null' )"
   ],
   "metadata": {
    "collapsed": false,
    "pycharm": {
     "name": "#%%\n"
    }
   }
  },
  {
   "cell_type": "markdown",
   "source": [
    "- High correlation between item_type_code_name and scoring_type_code\n",
    "- learner_attempt_status a single value ('fully scored)"
   ],
   "metadata": {
    "collapsed": false
   }
  },
  {
   "cell_type": "markdown",
   "source": [
    "###### Display item_type_code_name and scoring_type_code Corelation"
   ],
   "metadata": {
    "collapsed": false
   }
  },
  {
   "cell_type": "code",
   "execution_count": null,
   "outputs": [],
   "source": [
    "def item_to_code():\n",
    "  dfPd = dfFlt.select('item_type_code_name','scoring_type_code').toPandas()\n",
    "  return pd.crosstab(dfPd.item_type_code_name.fillna('null'), dfPd.scoring_type_code.fillna('null'), margins=True, margins_name=\"Total\")\n",
    "\n",
    "item_to_code()"
   ],
   "metadata": {
    "collapsed": false,
    "pycharm": {
     "name": "#%%\n"
    }
   }
  },
  {
   "cell_type": "markdown",
   "source": [
    "- item_type_code_name indicates the scoring_type_code\n",
    "  - scoring_type_code = '[unnassigned]' for item_type_code_name is..\n",
    "    - shortAnswer, null, essay (9 times), RubricResponse, MultipleChoiceResponse, FillInBlankResponse\n",
    "  - scoring_type_code = external only for item_type_code_name = aheAlgo\n",
    "  - scoring_type_code = 'manual' for item_type_code_name is..\n",
    "    - essay, fileUpload, shortAnswer"
   ],
   "metadata": {
    "collapsed": false
   }
  },
  {
   "cell_type": "markdown",
   "source": [
    "###### Numerical / Continuous Variables"
   ],
   "metadata": {
    "collapsed": false
   }
  },
  {
   "cell_type": "code",
   "execution_count": null,
   "outputs": [],
   "source": [
    "def num_cont_vars():\n",
    "  # Numerical / Continuous Variables\n",
    "  desc = dfFlt.describe()\n",
    "  for f in shared.continousVars:\n",
    "    desc.select(\"summary\", f).show(5,False)\n",
    "\n",
    "num_cont_vars()"
   ],
   "metadata": {
    "collapsed": false,
    "pycharm": {
     "name": "#%%\n"
    }
   }
  },
  {
   "cell_type": "markdown",
   "source": [
    "###### Numerical / Continuous Histograms"
   ],
   "metadata": {
    "collapsed": false
   }
  },
  {
   "cell_type": "code",
   "execution_count": null,
   "outputs": [],
   "source": [
    "for f in shared.continousVars:\n",
    "  print(f)\n",
    "  dfFlt.select(f).toPandas().hist()"
   ],
   "metadata": {
    "collapsed": false,
    "pycharm": {
     "name": "#%%\n"
    }
   }
  },
  {
   "cell_type": "markdown",
   "source": [
    "Normal Distribution\n",
    "- number_of_learners\n",
    "- possible outliers greaterthan 40\n",
    "- investigate further\n",
    "\n",
    "Right Skewed\n",
    "- final_score_unweighted\n",
    "- number_of_distinct_instance_items\n",
    "- points_possible_unweighted\n",
    "\n",
    "Binary Values (0/1)\n",
    "- assignment_max_attempts\n",
    "- assignment_attempt_number\n",
    "- Appears binary but the variable name indicates it could have any values. The data only contains 1 and 0\n",
    "- Investigate further"
   ],
   "metadata": {
    "collapsed": false
   }
  },
  {
   "cell_type": "code",
   "execution_count": null,
   "outputs": [],
   "source": [
    "add_todo(\"Investigate number_of_learners > 40 outliers\")\n",
    "add_todo(\"Investigate binary variables assignment_attempt_number and assignment_max_attempts\")"
   ],
   "metadata": {
    "collapsed": false,
    "pycharm": {
     "name": "#%%\n"
    }
   }
  },
  {
   "cell_type": "markdown",
   "source": [
    "###### Numerical / Continuous Correlations Heatmap"
   ],
   "metadata": {
    "collapsed": false
   }
  },
  {
   "cell_type": "code",
   "execution_count": null,
   "outputs": [],
   "source": [
    "corr, ax = associations( dfFlt.select(*shared.continousVars).toPandas(), nan_replace_value='null' )"
   ],
   "metadata": {
    "collapsed": false,
    "pycharm": {
     "name": "#%%\n"
    }
   }
  },
  {
   "cell_type": "markdown",
   "source": [
    "- assignment_attempt_number and assignment_max_attempts highly correlated"
   ],
   "metadata": {
    "collapsed": false
   }
  },
  {
   "cell_type": "markdown",
   "source": [
    "###### Display assignment_attempt_number and assignment_max_attempts Correlation"
   ],
   "metadata": {
    "collapsed": false
   }
  },
  {
   "cell_type": "code",
   "execution_count": null,
   "outputs": [],
   "source": [
    "def attempt_to_max():\n",
    "  dfPd = dfFlt.select('assignment_attempt_number', 'assignment_max_attempts').toPandas()\n",
    "  return pd.crosstab(dfPd.assignment_attempt_number.fillna('null'), dfPd.assignment_max_attempts.fillna('null'), margins=True, margins_name=\"Total\")\n",
    "\n",
    "attempt_to_max()"
   ],
   "metadata": {
    "collapsed": false,
    "pycharm": {
     "name": "#%%\n"
    }
   }
  },
  {
   "cell_type": "markdown",
   "source": [
    "- assignment_max_attempts 1 is always assignment_attempt_number = 1"
   ],
   "metadata": {
    "collapsed": false
   }
  },
  {
   "cell_type": "markdown",
   "source": [
    "###### Null and Zero Numerical / Continuous Variables"
   ],
   "metadata": {
    "collapsed": false
   }
  },
  {
   "cell_type": "code",
   "execution_count": null,
   "outputs": [],
   "source": [
    "for c in shared.continousVars:\n",
    "  print(c)\n",
    "  dfFlt.agg(\n",
    "    F.count(F.when(F.col(c).isNull(), c)).alias('null'),\n",
    "    F.count(F.when(F.col(c) == 0, c)).alias(\"zero\")\n",
    "  ).show()"
   ],
   "metadata": {
    "collapsed": false,
    "pycharm": {
     "name": "#%%\n"
    }
   }
  },
  {
   "cell_type": "markdown",
   "source": [
    "- possibile correlation between assignment_attempt_number and assignment_max_attempts\n",
    "  - both have 1566 zero values\n",
    "  - Needs further investigation\n",
    "- final_score_unweighted has 16,582 zero values\n",
    "  - possibly because not yet scored\n",
    "  - needs further investigation"
   ],
   "metadata": {
    "collapsed": false
   }
  },
  {
   "cell_type": "code",
   "execution_count": null,
   "outputs": [],
   "source": [
    "add_todo('Investigate assignment_attempt_number and assignment_max_attempts both have 1566 values')\n",
    "add_todo('Investigate final_score_unweighted has 16,582 zero values')"
   ],
   "metadata": {
    "collapsed": false,
    "pycharm": {
     "name": "#%%\n"
    }
   }
  },
  {
   "cell_type": "markdown",
   "source": [
    "###### Categorical / Interval Variables"
   ],
   "metadata": {
    "collapsed": false
   }
  },
  {
   "cell_type": "code",
   "execution_count": null,
   "outputs": [],
   "source": [
    "for f in shared.intervalVars:\n",
    "  print (f)\n",
    "  dfFlt.agg(\n",
    "    F.countDistinct(f).alias('unique'),\n",
    "    F.count(F.when(F.col(f).isNull(), f)).alias('null'),\n",
    "    F.min(f).alias('min'),\n",
    "    F.max(f).alias('max')\n",
    " ).show(1, False)"
   ],
   "metadata": {
    "collapsed": false,
    "pycharm": {
     "name": "#%%\n"
    }
   }
  },
  {
   "cell_type": "markdown",
   "source": [
    "Default Date Values\n",
    "- All variables have some dates have default values '2999-01-01 00:00:00' as max and '1900-01-01 00:00:00' as min\n",
    "- Almost all interval variables\n",
    "  - except max_student_stop_datetime and max_student_stop_datetime\n",
    "- These are substitutes for no value and will need to be replaced nulls\n",
    "- Further investigation is needed as what the nulls mean"
   ],
   "metadata": {
    "collapsed": false
   }
  },
  {
   "cell_type": "code",
   "execution_count": null,
   "outputs": [],
   "source": [
    "add_todo('Replace default dates with nulls')\n",
    "add_todo('Investigate why some dates are null')"
   ],
   "metadata": {
    "collapsed": false,
    "pycharm": {
     "name": "#%%\n"
    }
   }
  },
  {
   "cell_type": "markdown",
   "source": [
    "###### Categorical / Interval Correlations Heatmap"
   ],
   "metadata": {
    "collapsed": false
   }
  },
  {
   "cell_type": "code",
   "execution_count": null,
   "outputs": [],
   "source": [
    "corr, ax = associations( dfFlt.select(* (F.unix_timestamp(c).alias(c) for c in shared.intervalVars) ).toPandas(), figsize=[10,10] )"
   ],
   "metadata": {
    "collapsed": false,
    "pycharm": {
     "name": "#%%\n"
    }
   }
  },
  {
   "cell_type": "markdown",
   "source": [
    "- Correlated dates\n",
    "  - assignment_due_date and assignment_final_submission_date\n",
    "  - assigment_due_date and assignment_start_date\n",
    "  - min_student_start_datetime and max_student_start_datetime\n",
    "  - student_start_datetime and student_stop_datetime\n",
    "  - student_start_datetime and was_fully_scored_datetime\n",
    "  - student_stop_datetime and was_fully_scored_datetime\n",
    "- Correlation appears to be because the events closely follow each other"
   ],
   "metadata": {
    "collapsed": false
   }
  },
  {
   "cell_type": "markdown",
   "source": [
    "###### Categorical / Interval Variables"
   ],
   "metadata": {
    "collapsed": false
   }
  },
  {
   "cell_type": "code",
   "execution_count": null,
   "outputs": [],
   "source": [
    "# Categorical / Interval Variables\n",
    "\n",
    "for f in shared.intervalVars:\n",
    "  print (f)\n",
    "  dfFlt.agg(\n",
    "    F.countDistinct(f).alias('unique'),\n",
    "    F.count( F.when(F.col(f).isNull(), f)).alias('null'),\n",
    "    F.min( F.when(F.col(f).isNull() == False, F.col(f) )).alias('min'),\n",
    "    F.max( F.when(F.col(f).isNull() == False, F.col(f) )).alias('max')\n",
    " ).show(1, False)"
   ],
   "metadata": {
    "collapsed": false,
    "pycharm": {
     "name": "#%%\n"
    }
   }
  },
  {
   "cell_type": "markdown",
   "source": [
    "Dates fall in range of a school year of 8/2019 to 5/2020"
   ],
   "metadata": {
    "collapsed": false
   }
  },
  {
   "cell_type": "markdown",
   "source": [
    "###### Binary Variables"
   ],
   "metadata": {
    "collapsed": false
   }
  },
  {
   "cell_type": "code",
   "execution_count": null,
   "outputs": [],
   "source": [
    "# Categorical / Nominal Values\n",
    "for f in shared.binaryVars:\n",
    "  dfFlt.groupBy(f).count().orderBy('count', ascending=False).show(50, False)"
   ],
   "metadata": {
    "collapsed": false,
    "pycharm": {
     "name": "#%%\n"
    }
   }
  },
  {
   "cell_type": "markdown",
   "source": [
    "Variables With Unary Values\n",
    "- assignment_late_submission and is_deleted\n",
    "- is_manual_scoring_required has only one true value\n",
    "- Variables will be removed"
   ],
   "metadata": {
    "collapsed": false
   }
  },
  {
   "cell_type": "markdown",
   "source": [
    "###### Binary Correlations Heatmap"
   ],
   "metadata": {
    "collapsed": false
   }
  },
  {
   "cell_type": "code",
   "execution_count": null,
   "outputs": [],
   "source": [
    "corr, ax = associations( dfFlt.select(*shared.binaryVars).toPandas(), nan_replace_value='null' )"
   ],
   "metadata": {
    "collapsed": false,
    "pycharm": {
     "name": "#%%\n"
    }
   }
  },
  {
   "cell_type": "markdown",
   "source": [
    "- No correlation"
   ],
   "metadata": {
    "collapsed": false
   }
  },
  {
   "cell_type": "code",
   "execution_count": null,
   "outputs": [],
   "source": [
    "add_todo(\"Remove variables assignment_late_submission, is_manual_scoring_required and is_deleted\")"
   ],
   "metadata": {
    "collapsed": false,
    "pycharm": {
     "name": "#%%\n"
    }
   }
  },
  {
   "cell_type": "markdown",
   "source": [
    "###### Categorical / Nominal and Binary Correlations Heatmap"
   ],
   "metadata": {
    "collapsed": false
   }
  },
  {
   "cell_type": "code",
   "execution_count": null,
   "outputs": [],
   "source": [
    "corr, ax = associations( dfFlt.select(*shared.binaryVars, *shared.nominalVars).toPandas(), nan_replace_value='null', figsize=[10,10] )"
   ],
   "metadata": {
    "collapsed": false,
    "pycharm": {
     "name": "#%%\n"
    }
   }
  },
  {
   "cell_type": "markdown",
   "source": [
    "- New correlations\n",
    "  - is_affecting_grade and ced_assignment_type_code\n",
    "  - item_is_offline_scored and assigned_item_status"
   ],
   "metadata": {
    "collapsed": false
   }
  },
  {
   "cell_type": "markdown",
   "source": [
    "###### Display is_affecting_grade and ced_assignment_type_code Correlation"
   ],
   "metadata": {
    "collapsed": false
   }
  },
  {
   "cell_type": "code",
   "execution_count": null,
   "outputs": [],
   "source": [
    "def grade_to_code():\n",
    "  dfPd = dfFlt.select('is_affecting_grade','ced_assignment_type_code').toPandas()\n",
    "  return pd.crosstab(dfPd.is_affecting_grade.fillna('null'), dfPd.ced_assignment_type_code.fillna('null'), margins=True, margins_name=\"Total\")\n",
    "\n",
    "grade_to_code()"
   ],
   "metadata": {
    "collapsed": false,
    "pycharm": {
     "name": "#%%\n"
    }
   }
  },
  {
   "cell_type": "markdown",
   "source": [
    "- is_affecting_grade = false when ced_assignment_type_code = practice"
   ],
   "metadata": {
    "collapsed": false
   }
  },
  {
   "cell_type": "markdown",
   "source": [
    "###### Display item_is_offline_scored and assigned_item_status Correlation"
   ],
   "metadata": {
    "collapsed": false
   }
  },
  {
   "cell_type": "code",
   "execution_count": null,
   "outputs": [],
   "source": [
    "def offline_to_status():\n",
    "  dfPd = dfFlt.toPandas()\n",
    "  return pd.crosstab(dfPd.item_is_offline_scored.fillna('null'), dfPd.assigned_item_status.fillna('null'), margins=True, margins_name=\"Total\")\n",
    "\n",
    "offline_to_status()"
   ],
   "metadata": {
    "collapsed": false,
    "pycharm": {
     "name": "#%%\n"
    }
   }
  },
  {
   "cell_type": "markdown",
   "source": [
    "- item_is_offline_scored = True is always assigned_item_status = offline_scored"
   ],
   "metadata": {
    "collapsed": false
   }
  },
  {
   "cell_type": "markdown",
   "source": [
    "###### Num Sections by Organization"
   ],
   "metadata": {
    "collapsed": false
   }
  },
  {
   "cell_type": "code",
   "execution_count": null,
   "outputs": [],
   "source": [
    "def sections_by_org():\n",
    "  sByO = dfFlt.groupBy('org_new').agg(F.countDistinct('section_id').alias('sections')).orderBy('org_new')\n",
    "  pdDf = sByO.toPandas()\n",
    "\n",
    "  # Add mean\n",
    "  meanSections = sByO.agg(F.round(F.avg(F.col('sections'))).alias('mean')).collect()[0][0]\n",
    "  # Append row with mean\n",
    "  pdDf = pdDf.append({'org_new': 'mean', 'sections': meanSections}, ignore_index=True)\n",
    "\n",
    "  ax = pdDf.plot.bar('org_new','sections', title='Num Sections by Organization')\n",
    "  annotate_plot(ax)\n",
    "  plt.show()\n",
    "\n",
    "sections_by_org()"
   ],
   "metadata": {
    "collapsed": false,
    "pycharm": {
     "name": "#%%\n"
    }
   }
  },
  {
   "cell_type": "markdown",
   "source": [
    "###### Num Learners by Organization"
   ],
   "metadata": {
    "collapsed": false
   }
  },
  {
   "cell_type": "code",
   "execution_count": null,
   "outputs": [],
   "source": [
    "def learners_by_org():\n",
    "  lByO = dfFlt.groupBy('org_new').agg(F.countDistinct('learner_id').alias('learners')).orderBy('org_new')\n",
    "  pdDf = lByO.toPandas()\n",
    "\n",
    "  # Add mean\n",
    "  meanlearners = lByO.agg(F.round(F.avg(F.col('learners'))).alias('mean')).collect()[0][0]\n",
    "  # Append row with mean\n",
    "  pdDf = pdDf.append({'org_new': 'mean', 'learners': meanlearners}, ignore_index=True)\n",
    "\n",
    "  ax = pdDf.plot.bar('org_new','learners', title='Num Learners by Organization')\n",
    "  annotate_plot(ax)\n",
    "  plt.show()\n",
    "\n",
    "learners_by_org()"
   ],
   "metadata": {
    "collapsed": false,
    "pycharm": {
     "name": "#%%\n"
    }
   }
  },
  {
   "cell_type": "markdown",
   "source": [
    "###### Mean Section Learners by Organization"
   ],
   "metadata": {
    "collapsed": false
   }
  },
  {
   "cell_type": "code",
   "execution_count": null,
   "outputs": [],
   "source": [
    "def sec_learners_by_org():\n",
    "  lByS = dfFlt.groupBy('org_new','section_id').agg(F.countDistinct('learner_id').alias('learners'))\n",
    "  # Av\n",
    "  lBySMean = lByS.groupBy('org_new').agg( F.avg('learners').alias('learners') ).orderBy('org_new')\n",
    "  pdDf = lBySMean.toPandas()\n",
    "\n",
    "  # Add mean\n",
    "  meanlearners = lBySMean.agg(F.round(F.avg(F.col('learners'))).alias('mean')).collect()[0][0]\n",
    "  # Append row with mean\n",
    "  pdDf = pdDf.append({'org_new': 'mean', 'learners': meanlearners}, ignore_index=True)\n",
    "\n",
    "  ax = pdDf.plot.bar('org_new','learners', title='Mean Section Learners by Organization')\n",
    "  annotate_plot(ax)\n",
    "  plt.show()\n",
    "\n",
    "sec_learners_by_org()"
   ],
   "metadata": {
    "collapsed": false,
    "pycharm": {
     "name": "#%%\n"
    }
   }
  },
  {
   "cell_type": "markdown",
   "source": [
    "###### Mean Section Assessments by Organization"
   ],
   "metadata": {
    "collapsed": false
   }
  },
  {
   "cell_type": "code",
   "execution_count": null,
   "outputs": [],
   "source": [
    "def sec_assess_by_org():\n",
    "  assessBySection = dfFlt.groupBy('org_new','section_id').agg(F.countDistinct('assessment_id').alias('assessments'))\n",
    "  aByS = assessBySection.groupBy('org_new').agg( F.avg('assessments').alias('assessments') ).orderBy('org_new')\n",
    "\n",
    "  pdDf = aByS.toPandas()\n",
    "\n",
    "  # Add mean\n",
    "  meanAssess = aByS.agg(F.round(F.avg(F.col('assessments'))).alias('mean')).collect()[0][0]\n",
    "  # Append row with mean\n",
    "  pdDf = pdDf.append({'org_new': 'mean', 'assessments': meanAssess}, ignore_index=True)\n",
    "\n",
    "\n",
    "  ax = pdDf.plot.bar('org_new','assessments', title='Mean Section Assessments by Organization')\n",
    "  annotate_plot(ax)\n",
    "  plt.show()\n",
    "\n",
    "sec_assess_by_org()"
   ],
   "metadata": {
    "collapsed": false,
    "pycharm": {
     "name": "#%%\n"
    }
   }
  },
  {
   "cell_type": "markdown",
   "source": [
    "###### Mean Learners Assessments by Organization"
   ],
   "metadata": {
    "collapsed": false
   }
  },
  {
   "cell_type": "code",
   "execution_count": null,
   "outputs": [],
   "source": [
    "def assess_by_org():\n",
    "  assessBySection = dfFlt.groupBy('org_new','learner_id').agg(F.countDistinct('assessment_id').alias('assessments'))\n",
    "  aByS = assessBySection.groupBy('org_new').agg( F.avg('assessments').alias('assessments') ).orderBy('org_new')\n",
    "\n",
    "  pdDf = aByS.toPandas()\n",
    "\n",
    "  # Add mean\n",
    "  meanAssess = aByS.agg(F.round(F.avg(F.col('assessments'))).alias('mean')).collect()[0][0]\n",
    "  # Append row with mean\n",
    "  pdDf = pdDf.append({'org_new': 'mean', 'assessments': meanAssess}, ignore_index=True)\n",
    "\n",
    "  ax = pdDf.plot.bar('org_new','assessments', title='Mean Learners Assessments by Organization')\n",
    "  annotate_plot(ax)\n",
    "  plt.show()\n",
    "\n",
    "assess_by_org()"
   ],
   "metadata": {
    "collapsed": false,
    "pycharm": {
     "name": "#%%\n"
    }
   }
  },
  {
   "cell_type": "markdown",
   "source": [
    "###### Mean Scores by Organization"
   ],
   "metadata": {
    "collapsed": false
   }
  },
  {
   "cell_type": "code",
   "execution_count": null,
   "outputs": [],
   "source": [
    "def scores_by_orgs():\n",
    "  sByO = dfFlt.groupBy('org_new').agg( F.avg('final_score_unweighted').alias('scores') ).orderBy('org_new')\n",
    "\n",
    "  pdDf = sByO.toPandas()\n",
    "\n",
    "  # Add mean\n",
    "  meanAssess = sByO.agg(F.round(F.avg(F.col('scores'))).alias('mean')).collect()[0][0]\n",
    "  # Append row with mean\n",
    "  pdDf = pdDf.append({'org_new': 'mean', 'scores': meanAssess}, ignore_index=True)\n",
    "\n",
    "  ax = pdDf.plot.bar('org_new','scores', title='Mean Scores by Organization')\n",
    "  annotate_plot(ax)\n",
    "  plt.show()\n",
    "\n",
    "scores_by_orgs()\n"
   ],
   "metadata": {
    "collapsed": false,
    "pycharm": {
     "name": "#%%\n"
    }
   }
  }
 ],
 "metadata": {
  "kernelspec": {
   "display_name": "Python 3",
   "language": "python",
   "name": "python3"
  },
  "language_info": {
   "codemirror_mode": {
    "name": "ipython",
    "version": 2
   },
   "file_extension": ".py",
   "mimetype": "text/x-python",
   "name": "python",
   "nbconvert_exporter": "python",
   "pygments_lexer": "ipython2",
   "version": "2.7.6"
  }
 },
 "nbformat": 4,
 "nbformat_minor": 0
}