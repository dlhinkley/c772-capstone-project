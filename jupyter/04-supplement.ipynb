{
 "cells": [
  {
   "cell_type": "markdown",
   "metadata": {
    "collapsed": true,
    "pycharm": {
     "name": "#%% md\n"
    }
   },
   "source": [
    "## Supplement\n",
    "- Add duration"
   ]
  },
  {
   "cell_type": "code",
   "execution_count": 30,
   "outputs": [
    {
     "name": "stdout",
     "output_type": "stream",
     "text": [
      "dython              0.6.1\n",
      "tinydb              4.2.0\n"
     ]
    },
    {
     "name": "stderr",
     "output_type": "stream",
     "text": [
      "WARNING: You are using pip version 20.2.3; however, version 20.2.4 is available.\n",
      "You should consider upgrading via the '/Users/duane.hinkley/PycharmProjects/c772-capstone-project/venv/bin/python -m pip install --upgrade pip' command.\n",
      "WARNING: You are using pip version 20.2.3; however, version 20.2.4 is available.\n",
      "You should consider upgrading via the '/Users/duane.hinkley/PycharmProjects/c772-capstone-project/venv/bin/python -m pip install --upgrade pip' command.\n"
     ]
    }
   ],
   "source": [
    "%run './lib/libraries.ipynb'"
   ],
   "metadata": {
    "collapsed": false,
    "pycharm": {
     "name": "#%%\n"
    }
   }
  },
  {
   "cell_type": "code",
   "execution_count": 31,
   "outputs": [],
   "source": [
    "dfClean  = load_df('dfClean')\n",
    "types = get_var_types()"
   ],
   "metadata": {
    "collapsed": false,
    "pycharm": {
     "name": "#%%\n"
    }
   }
  },
  {
   "cell_type": "markdown",
   "source": [
    "###### Create dataframe with only completed items"
   ],
   "metadata": {
    "collapsed": false,
    "pycharm": {
     "name": "#%% md\n"
    }
   }
  },
  {
   "cell_type": "code",
   "execution_count": 32,
   "outputs": [],
   "source": [
    "dfSub = dfClean.filter(F.col('assessment_item_response_id').isNull()  == False)"
   ],
   "metadata": {
    "collapsed": false,
    "pycharm": {
     "name": "#%%\n"
    }
   }
  },
  {
   "cell_type": "markdown",
   "source": [
    "###### Number of observations"
   ],
   "metadata": {
    "collapsed": false,
    "pycharm": {
     "name": "#%% md\n"
    }
   }
  },
  {
   "cell_type": "code",
   "execution_count": 5,
   "outputs": [
    {
     "data": {
      "text/plain": "64804"
     },
     "execution_count": 5,
     "metadata": {},
     "output_type": "execute_result"
    }
   ],
   "source": [
    "dfSub.count()"
   ],
   "metadata": {
    "collapsed": false,
    "pycharm": {
     "name": "#%%\n"
    }
   }
  },
  {
   "cell_type": "markdown",
   "source": [
    "- 64, 804\n"
   ],
   "metadata": {
    "collapsed": false,
    "pycharm": {
     "name": "#%% md\n"
    }
   }
  },
  {
   "cell_type": "markdown",
   "source": [
    "###### Add attempt and item durations variables"
   ],
   "metadata": {
    "collapsed": false,
    "pycharm": {
     "name": "#%% md\n"
    }
   }
  },
  {
   "cell_type": "code",
   "execution_count": 33,
   "outputs": [],
   "source": [
    "dfSub = dfSub.withColumn(\n",
    "    'item_attempt_duration_mins', (F.col('item_attempt_end_datetime_utc').cast('long') - F.col('item_attempt_start_datetime_utc').cast('long')) / 60\n",
    ").withColumn(\n",
    "    'student_duration_mins', (F.col('student_stop_datetime').cast('long') - F.col('student_start_datetime').cast('long')) / 60\n",
    ")\n",
    "\n",
    "pdDf = get_random_sample(dfSub).select('student_duration_mins','item_attempt_duration_mins').toPandas()"
   ],
   "metadata": {
    "collapsed": false,
    "pycharm": {
     "name": "#%%\n"
    }
   }
  },
  {
   "cell_type": "markdown",
   "source": [
    "###### Duration Descriptive Statistics"
   ],
   "metadata": {
    "collapsed": false,
    "pycharm": {
     "name": "#%% md\n"
    }
   }
  },
  {
   "cell_type": "code",
   "execution_count": 34,
   "outputs": [
    {
     "data": {
      "text/plain": "       student_duration_mins  item_attempt_duration_mins\ncount            6539.000000                 6542.000000\nmean             1285.723403                  499.770040\nstd              6093.208897                 3352.739651\nmin                 0.000000               -54758.400000\n25%                12.033333                    0.466667\n50%                28.883333                    1.883333\n75%               315.066667                    9.716667\nmax            206222.850000                67532.350000",
      "text/html": "<div>\n<style scoped>\n    .dataframe tbody tr th:only-of-type {\n        vertical-align: middle;\n    }\n\n    .dataframe tbody tr th {\n        vertical-align: top;\n    }\n\n    .dataframe thead th {\n        text-align: right;\n    }\n</style>\n<table border=\"1\" class=\"dataframe\">\n  <thead>\n    <tr style=\"text-align: right;\">\n      <th></th>\n      <th>student_duration_mins</th>\n      <th>item_attempt_duration_mins</th>\n    </tr>\n  </thead>\n  <tbody>\n    <tr>\n      <th>count</th>\n      <td>6539.000000</td>\n      <td>6542.000000</td>\n    </tr>\n    <tr>\n      <th>mean</th>\n      <td>1285.723403</td>\n      <td>499.770040</td>\n    </tr>\n    <tr>\n      <th>std</th>\n      <td>6093.208897</td>\n      <td>3352.739651</td>\n    </tr>\n    <tr>\n      <th>min</th>\n      <td>0.000000</td>\n      <td>-54758.400000</td>\n    </tr>\n    <tr>\n      <th>25%</th>\n      <td>12.033333</td>\n      <td>0.466667</td>\n    </tr>\n    <tr>\n      <th>50%</th>\n      <td>28.883333</td>\n      <td>1.883333</td>\n    </tr>\n    <tr>\n      <th>75%</th>\n      <td>315.066667</td>\n      <td>9.716667</td>\n    </tr>\n    <tr>\n      <th>max</th>\n      <td>206222.850000</td>\n      <td>67532.350000</td>\n    </tr>\n  </tbody>\n</table>\n</div>"
     },
     "execution_count": 34,
     "metadata": {},
     "output_type": "execute_result"
    }
   ],
   "source": [
    "pdDf.describe()"
   ],
   "metadata": {
    "collapsed": false,
    "pycharm": {
     "name": "#%%\n"
    }
   }
  },
  {
   "cell_type": "markdown",
   "source": [
    "- Outliers\n",
    "  - student_duration_mins\n",
    "    - mean 28\n",
    "    - 75% quartile 315\n",
    "    - max 206,222\n",
    "  - item_attempt_duration_mins\n",
    "    - mean 2\n",
    "    - 75% quartile 10\n",
    "    - max 67,532"
   ],
   "metadata": {
    "collapsed": false,
    "pycharm": {
     "name": "#%% md\n"
    }
   }
  },
  {
   "cell_type": "markdown",
   "source": [
    "###### Outliers By Categorical / Nominal Values"
   ],
   "metadata": {
    "collapsed": false
   }
  },
  {
   "cell_type": "code",
   "execution_count": 20,
   "outputs": [
    {
     "name": "stdout",
     "output_type": "stream",
     "text": [
      "assigned_item_status\n",
      "+--------------------+-----+--------+-----+--------+\n",
      "|assigned_item_status|count|     min| mean|     max|\n",
      "+--------------------+-----+--------+-----+--------+\n",
      "|              scored|64804|-54766.0|530.0|109353.0|\n",
      "+--------------------+-----+--------+-----+--------+\n",
      "\n",
      "ced_assignment_type_code\n",
      "+------------------------+-----+--------+-----+--------+\n",
      "|ced_assignment_type_code|count|     min| mean|     max|\n",
      "+------------------------+-----+--------+-----+--------+\n",
      "|                  rubric|   11|     0.0|  0.0|     0.0|\n",
      "|                     clo|  214|     0.0|215.0| 21359.0|\n",
      "|                practice| 1593|-35406.0|178.0| 27297.0|\n",
      "|                    game| 1555|     0.0|  0.0|    24.0|\n",
      "|              assessment|61431|-54766.0|553.0|109353.0|\n",
      "+------------------------+-----+--------+-----+--------+\n",
      "\n",
      "item_type_code_name\n",
      "+-------------------+-----+--------+-----+--------+\n",
      "|item_type_code_name|count|     min| mean|     max|\n",
      "+-------------------+-----+--------+-----+--------+\n",
      "|      equationEntry| 7841|     0.0|423.0| 44628.0|\n",
      "|     multipleChoice|28254|     0.0|523.0|109353.0|\n",
      "|              Other|13646|-54766.0|670.0| 75309.0|\n",
      "|          trueFalse| 4561|     0.0|591.0| 67546.0|\n",
      "|     fillInTheBlank|10502|-54758.0|419.0| 67535.0|\n",
      "+-------------------+-----+--------+-----+--------+\n",
      "\n",
      "response_correctness\n",
      "+--------------------+-----+--------+-----+--------+\n",
      "|response_correctness|count|     min| mean|     max|\n",
      "+--------------------+-----+--------+-----+--------+\n",
      "|   partially_correct| 1424|-35406.0|554.0| 40474.0|\n",
      "|           incorrect|18103|-54766.0|518.0|109353.0|\n",
      "|        [unassigned]| 1566|     0.0|  0.0|    24.0|\n",
      "|             correct|43711|-54759.0|553.0| 75310.0|\n",
      "+--------------------+-----+--------+-----+--------+\n",
      "\n",
      "scoring_type_code\n",
      "+-----------------+-----+--------+-----+--------+\n",
      "|scoring_type_code|count|     min| mean|     max|\n",
      "+-----------------+-----+--------+-----+--------+\n",
      "|        automatic|61668|-54766.0|540.0|109353.0|\n",
      "|     [unassigned]| 1566|     0.0|  0.0|    24.0|\n",
      "|           manual| 1351|     0.0|777.0| 38660.0|\n",
      "|         external|  219|     0.0|  5.0|    34.0|\n",
      "+-----------------+-----+--------+-----+--------+\n",
      "\n"
     ]
    }
   ],
   "source": [
    "# Categorical / Nominal Values\n",
    "for f in types['nominalVars']:\n",
    "    if (f != 'learner_attempt_status'):\n",
    "        print(f)\n",
    "        group_by_describe(dfSub, f, 'item_attempt_duration_mins').show()\n"
   ],
   "metadata": {
    "collapsed": false,
    "pycharm": {
     "name": "#%%\n"
    }
   }
  },
  {
   "cell_type": "markdown",
   "source": [
    "- Outliers in every group"
   ],
   "metadata": {
    "collapsed": false,
    "pycharm": {
     "name": "#%% md\n"
    }
   }
  },
  {
   "cell_type": "markdown",
   "source": [
    "###### Outliers By Categorical / Identifier"
   ],
   "metadata": {
    "collapsed": false
   }
  },
  {
   "cell_type": "code",
   "execution_count": null,
   "outputs": [],
   "source": [
    "# Categorical / Nominal Values\n",
    "for f in types['identifierVars']:\n",
    "    if (f != 'learner_attempt_status'):\n",
    "        print(f)\n",
    "        group_by_describe(dfSub, f, 'item_attempt_duration_mins').show(100)"
   ],
   "metadata": {
    "collapsed": false,
    "pycharm": {
     "name": "#%%\n"
    }
   }
  },
  {
   "cell_type": "markdown",
   "source": [
    "- No pattern"
   ],
   "metadata": {
    "collapsed": false
   }
  },
  {
   "cell_type": "markdown",
   "source": [
    "###### Outliers By Categorical / Identifier"
   ],
   "metadata": {
    "collapsed": false
   }
  },
  {
   "cell_type": "code",
   "execution_count": 23,
   "outputs": [
    {
     "name": "stdout",
     "output_type": "stream",
     "text": [
      "org_id\n",
      "+------+-----+--------+-----+--------+\n",
      "|org_id|count|     min| mean|     max|\n",
      "+------+-----+--------+-----+--------+\n",
      "|117713|10310|-35406.0| 43.0| 27297.0|\n",
      "|130845|30301|-54766.0|339.0| 54806.0|\n",
      "| 19164|24193|     0.0|976.0|109353.0|\n",
      "+------+-----+--------+-----+--------+\n",
      "\n",
      "section_id\n",
      "+----------+-----+--------+------+--------+\n",
      "|section_id|count|     min|  mean|     max|\n",
      "+----------+-----+--------+------+--------+\n",
      "|    151413|  150|     0.0|5526.0| 34073.0|\n",
      "|    150278| 4675|     0.0|  58.0|  9974.0|\n",
      "|    270010| 1805|     0.0| 998.0| 12966.0|\n",
      "|    150165| 5406|-35406.0|  49.0| 27297.0|\n",
      "|    150062|  416|     0.0|   5.0|   137.0|\n",
      "|    190290| 6005|     0.0| 191.0| 10707.0|\n",
      "|    171183|  168|     0.0|3093.0| 22635.0|\n",
      "|    224222|  448|     0.0| 327.0|  2847.0|\n",
      "|    157833|  180|     0.0|1572.0| 29809.0|\n",
      "|    297288|  359|     0.0| 200.0|  4406.0|\n",
      "|    215692|    3|     0.0|   0.0|     0.0|\n",
      "|    190142| 2092|     0.0| 110.0| 30120.0|\n",
      "|    298667|    4|     0.0| 355.0|  1412.0|\n",
      "|    239742|  541|     0.0| 332.0|  7179.0|\n",
      "|    192349|  724|     0.0| 148.0|  1458.0|\n",
      "|    289384| 3492|     0.0| 697.0| 44560.0|\n",
      "|    216220|    5|     0.0|   1.0|     1.0|\n",
      "|    224713| 4506|     0.0| 768.0| 54806.0|\n",
      "|    189069| 1118|     0.0|  21.0|  1417.0|\n",
      "|    252012|  221|     0.0| 156.0|  1734.0|\n",
      "|    149902| 2892|     0.0| 138.0| 14366.0|\n",
      "|    156185|  154|     0.0|  32.0|  1581.0|\n",
      "|    231698|  418|     0.0|  35.0|  1430.0|\n",
      "|    149956| 1249|     0.0|  48.0|  8984.0|\n",
      "|    172320| 7619|     0.0|1130.0| 75310.0|\n",
      "|    156942|  130|     0.0|  46.0|  5727.0|\n",
      "|    165855|   30|     0.0|  10.0|    37.0|\n",
      "|    150237| 2516|-54766.0|  79.0| 16086.0|\n",
      "|    189587|  264|     0.0|  40.0|  1985.0|\n",
      "|    253011|  490|     0.0| 429.0|  7457.0|\n",
      "|    249540|  166|     0.0| 165.0|  1421.0|\n",
      "|    267758|   63|     0.0| 323.0|  1204.0|\n",
      "|    168233| 2027|     0.0| 174.0|  6843.0|\n",
      "|    206756| 2305|     0.0|   3.0|    95.0|\n",
      "|    180635|  216|     0.0| 148.0| 10287.0|\n",
      "|    219273| 2675|     0.0| 143.0| 15820.0|\n",
      "|    154760|   48|     0.0|   2.0|    44.0|\n",
      "|    182278|  241|     0.0|1706.0| 32561.0|\n",
      "|    149815|  618|     0.0|   5.0|    43.0|\n",
      "|    271646|  235|     0.0|   9.0|  1111.0|\n",
      "|    171796|   84|     0.0|   0.0|     3.0|\n",
      "|    177931| 2244|     0.0|2064.0| 44519.0|\n",
      "|    283568| 3568|     0.0| 168.0| 15850.0|\n",
      "|    235530|  428|     0.0|   5.0|    36.0|\n",
      "|    234477|  383|     0.0|  48.0|  4453.0|\n",
      "|    159774| 1423|     0.0|4587.0|109353.0|\n",
      "+----------+-----+--------+------+--------+\n",
      "\n",
      "learner_id\n",
      "+----------+-----+--------+-------+-------+\n",
      "|learner_id|count|     min|   mean|    max|\n",
      "+----------+-----+--------+-------+-------+\n",
      "|    904764|  144|     0.0|   15.0|  372.0|\n",
      "|    980759|   80|     0.0|    2.0|   15.0|\n",
      "|    994698|   83|     0.0|   26.0| 1402.0|\n",
      "|   1009575|   71|     0.0| 1180.0|27334.0|\n",
      "|    992623|   99|     0.0|  761.0| 4293.0|\n",
      "|   1034201|    2|     2.0|   25.0|   49.0|\n",
      "|   1031978|  115|     0.0|   90.0| 4296.0|\n",
      "|    972664|   91|     0.0|  375.0|30120.0|\n",
      "|    948113|   69|-54766.0| -776.0|   78.0|\n",
      "|   1043147|   12|     0.0|    1.0|    2.0|\n",
      "|   1003926|   15|     0.0|   55.0|  808.0|\n",
      "|   1024398|    1|    30.0|   30.0|   30.0|\n",
      "|   1042665|   15|     0.0|    1.0|    4.0|\n",
      "|   1034076|   36|     0.0|    6.0|   73.0|\n",
      "|    997246|  120|     0.0|  124.0| 1469.0|\n",
      "|   1041207|   15|     0.0|    2.0|    5.0|\n",
      "|    925607|   99|     0.0|    5.0|   25.0|\n",
      "|    943098|  126|     0.0|   17.0| 1452.0|\n",
      "|    983079|   11|     0.0|    3.0|    8.0|\n",
      "|    990400|   21|     0.0|    2.0|    4.0|\n",
      "|   1004590|   15|     1.0|   12.0|   22.0|\n",
      "|    928288|   22|     1.0|    3.0|   14.0|\n",
      "|    936881|   12|  1166.0| 1479.0| 2077.0|\n",
      "|    927934|  152|     0.0|  132.0| 1432.0|\n",
      "|   1016751|   80|     0.0|    2.0|   17.0|\n",
      "|   1024868|  125|     0.0|  310.0| 2769.0|\n",
      "|    935388|   11|     0.0|    1.0|    4.0|\n",
      "|   1011051|   95|     0.0|   95.0| 1378.0|\n",
      "|    988988|   99|     0.0|   81.0|  640.0|\n",
      "|    989380|  116|     0.0|    3.0|   18.0|\n",
      "|   1017239|   68|     0.0|    4.0|   34.0|\n",
      "|   1005670|   55|     0.0|    5.0|   34.0|\n",
      "|   1024332|   20|     0.0|   76.0| 1415.0|\n",
      "|   1011351|   99|     0.0|  197.0| 1476.0|\n",
      "|   1026009|   20|     0.0|   77.0| 1439.0|\n",
      "|    948518|  100|     0.0|   80.0| 1474.0|\n",
      "|    965661|    4|     0.0|    7.0|    9.0|\n",
      "|    981403|   31|     1.0|   13.0|   31.0|\n",
      "|    996081|   15|     1.0|  908.0| 4051.0|\n",
      "|    927640|   32|     0.0|  142.0| 4287.0|\n",
      "|    912289|   70|     0.0|    2.0|   12.0|\n",
      "|    965111|  134|     0.0|   31.0| 1357.0|\n",
      "|   1044539|  131|     0.0|  712.0|13020.0|\n",
      "|    928511|   34|     0.0|  126.0| 4177.0|\n",
      "|   1009625|   14|     0.0|   12.0|   42.0|\n",
      "|   1030614|    5|     1.0|  287.0| 1111.0|\n",
      "|   1046432|   13|     0.0|    1.0|    4.0|\n",
      "|    983504|  120|     0.0|    4.0|   29.0|\n",
      "|    972533|   80|     0.0|   39.0| 1416.0|\n",
      "|    899376|  348|     0.0| 2639.0|27527.0|\n",
      "|    965212|   21|     0.0|  871.0| 2818.0|\n",
      "|   1002217|   46|     0.0|   10.0|   73.0|\n",
      "|   1017904|    1|    13.0|   13.0|   13.0|\n",
      "|   1029642|   11|     0.0|    1.0|    3.0|\n",
      "|    984253|  356|     0.0|  127.0|  900.0|\n",
      "|   1046621|   94|     0.0|  143.0| 1469.0|\n",
      "|    920050|   15|     0.0| 2455.0| 4092.0|\n",
      "|    996855|   52|     0.0|   14.0|   33.0|\n",
      "|    998794|  139|     0.0|   36.0| 1438.0|\n",
      "|   1010642|    8|     0.0|    2.0|    6.0|\n",
      "|   1046638|    1| 15019.0|15019.0|15019.0|\n",
      "|   1009873|   85|     0.0| 7069.0|38660.0|\n",
      "|    964674|   12|     0.0|    1.0|    5.0|\n",
      "|   1045718|   17|     0.0|    5.0|   43.0|\n",
      "|    944652|   98|     0.0|  193.0| 1440.0|\n",
      "|    997853|   21|     0.0|    7.0|   31.0|\n",
      "|    965763|  122|     0.0|   40.0| 4289.0|\n",
      "|    966934|   11|     0.0|    2.0|    5.0|\n",
      "|    933632|   10|     1.0|    3.0|   10.0|\n",
      "|   1040328|   21|     0.0|    3.0|    6.0|\n",
      "|    956830|    5|     0.0|    1.0|    1.0|\n",
      "|    903362|   36|     0.0|   49.0| 1600.0|\n",
      "|    925048|  237|     0.0|  142.0| 9974.0|\n",
      "|    967601|   80|     0.0|    3.0|   24.0|\n",
      "|    999518|   43|     0.0|  244.0| 8984.0|\n",
      "|   1034129|   70|     0.0|    4.0|   39.0|\n",
      "|   1009165|  138|     0.0|   28.0| 1438.0|\n",
      "|    961693|   15|     0.0|    3.0|   13.0|\n",
      "|    989426|  110|     0.0|  124.0| 5762.0|\n",
      "|    966388|  112|     0.0|    3.0|   24.0|\n",
      "|   1027751|  169|     0.0|   67.0| 4291.0|\n",
      "|    952359|   11|     0.0|    1.0|    7.0|\n",
      "|   1039968|   20|     0.0|    0.0|    3.0|\n",
      "|    998687|  114|     0.0|  119.0| 2900.0|\n",
      "|    918347|   15|     0.0|    0.0|    1.0|\n",
      "|   1000988|  178|     0.0|  746.0| 7212.0|\n",
      "|   1026292|   17|     0.0|    0.0|    1.0|\n",
      "|    962163|  111|     0.0|   38.0| 1450.0|\n",
      "|    967083|  113|     0.0|   16.0| 1323.0|\n",
      "|    966878|   11|     0.0|   16.0|  130.0|\n",
      "|   1001649|  178|     0.0|  909.0| 5786.0|\n",
      "|    930146|   11|     0.0|    4.0|    9.0|\n",
      "|   1046015|  104|     0.0|   31.0|  400.0|\n",
      "|    979440|    3|     0.0|    0.0|    0.0|\n",
      "|    985496|  104|     0.0|   18.0| 1412.0|\n",
      "|    908377|    9|     0.0|    1.0|    1.0|\n",
      "|   1016428|   41|     0.0|  358.0| 4382.0|\n",
      "|   1022055|  119|     0.0|   43.0| 1534.0|\n",
      "|    951430|   17|     0.0|  341.0| 5727.0|\n",
      "|    972133|   61|     0.0| 2201.0| 9347.0|\n",
      "+----------+-----+--------+-------+-------+\n",
      "only showing top 100 rows\n",
      "\n",
      "assessment_id\n",
      "+-------------+-----+--------+-------+-------+\n",
      "|assessment_id|count|     min|   mean|    max|\n",
      "+-------------+-----+--------+-------+-------+\n",
      "|       316184|  340|     0.0|    3.0|  169.0|\n",
      "|       353742|   21|     1.0|  225.0| 1415.0|\n",
      "|       341371|  136|     0.0|    2.0|   25.0|\n",
      "|       365579|    3|     0.0|    0.0|    0.0|\n",
      "|       366201|  270|     0.0|    1.0|   24.0|\n",
      "|       321810|   60|     0.0|    2.0|    9.0|\n",
      "|       304898|  261|     0.0| 4051.0|37594.0|\n",
      "|       328942|   69|     0.0|    9.0|  355.0|\n",
      "|       330755|   10|     0.0| 2301.0|23004.0|\n",
      "|       352344|    2|    12.0| 1684.0| 3356.0|\n",
      "|       332151|   60|     0.0|    1.0|    5.0|\n",
      "|       352807|   26|     1.0|  348.0| 2809.0|\n",
      "|       351112|    3|     3.0| 1476.0| 4421.0|\n",
      "|       338574|   10|     0.0|    2.0|   11.0|\n",
      "|       318553|  105|     0.0| 3970.0|75310.0|\n",
      "|       357275|   21|     3.0|  317.0| 2900.0|\n",
      "|       300107|   13|     0.0| 2302.0| 9974.0|\n",
      "|       442027|   10|     0.0|    1.0|    4.0|\n",
      "|       366109|    5|     0.0|    1.0|    1.0|\n",
      "|       421201|  370|     0.0|    3.0|   29.0|\n",
      "|       358246|    4|     3.0|    4.0|    6.0|\n",
      "|       307050|    5|     0.0|    0.0|    1.0|\n",
      "|       328326|  900|     0.0|   16.0| 1131.0|\n",
      "|       346339|  152|     0.0|    2.0|   10.0|\n",
      "|       426125|  104|     0.0|  219.0| 1450.0|\n",
      "|       365863|  320|     0.0|    1.0|   10.0|\n",
      "|       350424|  407|     0.0|    4.0|   95.0|\n",
      "|       384193|  126|     0.0|   28.0| 2884.0|\n",
      "|       340390|   85|     0.0|    0.0|    4.0|\n",
      "|       307497|   53|     0.0|    2.0|   28.0|\n",
      "|       307930|   10|     0.0|    2.0|   15.0|\n",
      "|       383472|   50|     0.0|   30.0| 1367.0|\n",
      "|       299966|   13|     3.0|  195.0| 1289.0|\n",
      "|       346915|  156|     0.0|    1.0|   14.0|\n",
      "|       361065|   18|     0.0|  241.0| 2862.0|\n",
      "|       404273|  775|     0.0|   50.0| 2833.0|\n",
      "|       321979|  160|     0.0|   18.0|   40.0|\n",
      "|       334272|  181|     0.0|   33.0| 2737.0|\n",
      "|       363276|  373|     0.0|    4.0|   34.0|\n",
      "|       351361|  100|     0.0|    1.0|    5.0|\n",
      "|       338690|   24|     0.0|  125.0| 1417.0|\n",
      "|       323703|  240|     0.0| 1382.0|23175.0|\n",
      "|       300299|   10|     1.0|    1.0|    3.0|\n",
      "|       299998|  452|     0.0|  113.0|11482.0|\n",
      "|       314474|    5|     0.0|    9.0|   17.0|\n",
      "|       336711|   20|     0.0|   79.0| 1580.0|\n",
      "|       306958|    8| 35776.0|37036.0|38660.0|\n",
      "|       353792|  366|     0.0|    6.0|   77.0|\n",
      "|       350244|   36|     2.0|   81.0| 1438.0|\n",
      "|       307990|   75|     0.0|    5.0|  118.0|\n",
      "|       321665|  359|     0.0|    2.0|  146.0|\n",
      "|       317380|  230|     0.0| 3152.0|36845.0|\n",
      "|       439696|   17|  1179.0| 1194.0| 1204.0|\n",
      "|       299804|   32|     4.0|  476.0| 2886.0|\n",
      "|       313079|   70|     0.0|    2.0|   14.0|\n",
      "|       299988|  240|     0.0|   59.0| 1452.0|\n",
      "|       365279|  570|     0.0|    0.0|    5.0|\n",
      "|       300231|  128|     0.0|    1.0|   11.0|\n",
      "|       333924|   12|     1.0|    2.0|    3.0|\n",
      "|       341225|   17|     4.0|  284.0| 1914.0|\n",
      "|       300691|   96|     0.0|  174.0| 2755.0|\n",
      "|       357326|   24|     0.0|  118.0| 1349.0|\n",
      "|       352505|    9|     0.0|    3.0|    7.0|\n",
      "|       327869|   10|     0.0|    1.0|    3.0|\n",
      "|       335425|   28|     0.0|    1.0|   11.0|\n",
      "|       350876|   81|     0.0|  123.0| 1442.0|\n",
      "|       325197|  390|     0.0|    3.0|   17.0|\n",
      "|       330573|   78|     0.0|  141.0| 2077.0|\n",
      "|       354813|   36|     0.0|    6.0|   45.0|\n",
      "|       347408|    4|     2.0| 2597.0| 8984.0|\n",
      "|       299866|  140|     0.0|    1.0|    4.0|\n",
      "|       352006|    8|     3.0| 1120.0| 4468.0|\n",
      "|       299764| 1695|     0.0|   10.0|   53.0|\n",
      "|       318077|  706|     0.0|   42.0| 1386.0|\n",
      "|       317467|   46|     0.0|   13.0|  247.0|\n",
      "|       364763|    8|     0.0|    0.0|    0.0|\n",
      "|       300714|   75|     0.0|  106.0| 1400.0|\n",
      "|       320512|  155|     0.0|  131.0|10062.0|\n",
      "|       364230|  400|     0.0|   59.0| 1460.0|\n",
      "|       329711|  650|     0.0| 3137.0|47538.0|\n",
      "|       300068|   33|-35406.0| -802.0| 4296.0|\n",
      "|       339431|   57|     0.0|    3.0|   18.0|\n",
      "|       375777|  532|     0.0| 2312.0|12966.0|\n",
      "|       419435|  634|     0.0|  591.0| 4829.0|\n",
      "|       354648|   25|     4.0|  434.0| 2886.0|\n",
      "|       365941|  120|     0.0|    0.0|    3.0|\n",
      "|       299894|   37|     2.0|  126.0| 1473.0|\n",
      "|       305277| 1835|     0.0|   53.0|38548.0|\n",
      "|       323987|  378|     0.0|   29.0|  214.0|\n",
      "|       406332|   17|     0.0|  248.0| 1415.0|\n",
      "|       300233|   32|     0.0|    1.0|    5.0|\n",
      "|       345522|  156|     0.0|    1.0|    5.0|\n",
      "|       344622|    4|     0.0|    0.0|    1.0|\n",
      "|       358057|    4|     1.0|    2.0|    3.0|\n",
      "|       308590|  108|     0.0| 2027.0|25584.0|\n",
      "|       316026|   55|     0.0|    4.0|   25.0|\n",
      "|       319406|  392|     0.0|  286.0| 5886.0|\n",
      "|       313435|   16|     0.0|    6.0|   49.0|\n",
      "|       336917|   20|     0.0|    2.0|   11.0|\n",
      "|       354681|    3|    10.0|   42.0|   95.0|\n",
      "+-------------+-----+--------+-------+-------+\n",
      "only showing top 100 rows\n",
      "\n"
     ]
    }
   ],
   "source": [
    "for f in ['org_id', 'section_id', 'learner_id', 'assessment_id']:\n",
    "    if (f != 'learner_attempt_status'):\n",
    "        print(f)\n",
    "        group_by_describe(dfSub, f, 'item_attempt_duration_mins').show(100)"
   ],
   "metadata": {
    "collapsed": false,
    "pycharm": {
     "name": "#%%\n"
    }
   }
  },
  {
   "cell_type": "markdown",
   "source": [
    "- No pattern"
   ],
   "metadata": {
    "collapsed": false,
    "pycharm": {
     "name": "#%% md\n"
    }
   }
  },
  {
   "cell_type": "markdown",
   "source": [
    "###### By Month"
   ],
   "metadata": {
    "collapsed": false,
    "pycharm": {
     "name": "#%% md\n"
    }
   }
  },
  {
   "cell_type": "code",
   "execution_count": 28,
   "outputs": [
    {
     "name": "stdout",
     "output_type": "stream",
     "text": [
      "DatetimeIndex(['1969-12-01', '1970-01-01', '1970-02-01'], dtype='datetime64[ns]', freq='MS')\n",
      "0 -2678400\n",
      "+-----+--------+-----+--------+\n",
      "|count|     min| mean|     max|\n",
      "+-----+--------+-----+--------+\n",
      "|64804|-54766.0|530.0|109353.0|\n",
      "+-----+--------+-----+--------+\n",
      "\n",
      "-2678399 0\n",
      "+-----+--------+-----+--------+\n",
      "|count|     min| mean|     max|\n",
      "+-----+--------+-----+--------+\n",
      "|64804|-54766.0|530.0|109353.0|\n",
      "+-----+--------+-----+--------+\n",
      "\n",
      "1 2678400\n",
      "+-----+--------+-----+--------+\n",
      "|count|     min| mean|     max|\n",
      "+-----+--------+-----+--------+\n",
      "|64804|-54766.0|530.0|109353.0|\n",
      "+-----+--------+-----+--------+\n",
      "\n"
     ]
    }
   ],
   "source": [
    "def by_date(pdDf,statsCol):\n",
    "    # Min and Max date plus and minus one month\n",
    "    max = pd.to_datetime(pdDf.max().max(), unit='s') + pd.DateOffset(months=1)\n",
    "    min = pd.to_datetime(pdDf.min().min(), unit='s') - pd.DateOffset(months=1)\n",
    "\n",
    "\n",
    "    # Date labels by month\n",
    "    yLabels = pd.date_range(start=min.date(), end=max.date(), freq='MS')\n",
    "    print (yLabels)\n",
    "    # Convert ticks to unix timestamp (int)\n",
    "    ytick = [t.value // 10 ** 9 for t in yLabels]\n",
    "    start = 0\n",
    "    for end in ytick:\n",
    "        print (start, end)\n",
    "        dfSub.filter(\n",
    "            ~F.col('item_attempt_start_datetime_utc').cast('long').between(start, end)\n",
    "        ).agg(\n",
    "          F.round( F.count(statsCol) ).alias('count'),\n",
    "          F.round( F.min(statsCol) ).alias('min'),\n",
    "          F.round( F.avg(statsCol) ).alias('mean'),\n",
    "          F.round( F.max(statsCol) ).alias('max')\n",
    "        ).show()\n",
    "        start = end + 1\n",
    "\n",
    "by_date(pdDf, 'item_attempt_duration_mins');"
   ],
   "metadata": {
    "collapsed": false,
    "pycharm": {
     "name": "#%%\n"
    }
   }
  },
  {
   "cell_type": "code",
   "execution_count": 35,
   "outputs": [
    {
     "name": "stdout",
     "output_type": "stream",
     "text": [
      "student_start_datetime\n",
      "+------+----+-----------------------+-----------------------+\n",
      "|unique|null|min                    |max                    |\n",
      "+------+----+-----------------------+-----------------------+\n",
      "|7385  |749 |2019-08-22 01:57:32.893|2020-05-26 04:59:17.367|\n",
      "+------+----+-----------------------+-----------------------+\n",
      "\n",
      "student_stop_datetime\n",
      "+------+----+-----------------------+-----------------------+\n",
      "|unique|null|min                    |max                    |\n",
      "+------+----+-----------------------+-----------------------+\n",
      "|7127  |749 |2019-08-22 02:37:59.012|2020-05-26 04:59:17.367|\n",
      "+------+----+-----------------------+-----------------------+\n",
      "\n",
      "item_attempt_start_datetime_utc\n",
      "+------+-----+-------------------+-------------------+\n",
      "|unique|null |min                |max                |\n",
      "+------+-----+-------------------+-------------------+\n",
      "|60182 |14999|2019-08-23 14:11:53|2020-05-26 03:56:13|\n",
      "+------+-----+-------------------+-------------------+\n",
      "\n",
      "item_attempt_end_datetime_utc\n",
      "+------+-----+-----------------------+-----------------------+\n",
      "|unique|null |min                    |max                    |\n",
      "+------+-----+-----------------------+-----------------------+\n",
      "|64747 |14999|2019-08-23 14:14:49.339|2020-05-26 04:00:11.393|\n",
      "+------+-----+-----------------------+-----------------------+\n",
      "\n"
     ]
    }
   ],
   "source": [
    "for f in ['student_start_datetime', 'student_stop_datetime', 'item_attempt_start_datetime_utc', 'item_attempt_end_datetime_utc']:\n",
    "  print (f)\n",
    "  dfFlt.agg(\n",
    "    F.countDistinct(f).alias('unique'),\n",
    "    F.count(F.when(F.col(f).isNull(), f)).alias('null'),\n",
    "    F.min(f).alias('min'),\n",
    "    F.max(f).alias('max')\n",
    " ).show(1, False)"
   ],
   "metadata": {
    "collapsed": false,
    "pycharm": {
     "name": "#%%\n"
    }
   }
  },
  {
   "cell_type": "code",
   "execution_count": null,
   "outputs": [],
   "source": [
    "pdDf.hist('item_attempt_duration_mins', bins=100)"
   ],
   "metadata": {
    "collapsed": false,
    "pycharm": {
     "name": "#%%\n"
    }
   }
  },
  {
   "cell_type": "code",
   "execution_count": 10,
   "outputs": [
    {
     "data": {
      "text/plain": "array([[<AxesSubplot:title={'center':'student_duration_mins'}>]],\n      dtype=object)"
     },
     "execution_count": 10,
     "metadata": {},
     "output_type": "execute_result"
    },
    {
     "data": {
      "text/plain": "<Figure size 432x288 with 1 Axes>",
      "image/png": "[encoded data removed]"
     },
     "metadata": {
      "needs_background": "light"
     },
     "output_type": "display_data"
    }
   ],
   "source": [
    "pdDf.hist('student_duration_mins', bins=100)"
   ],
   "metadata": {
    "collapsed": false,
    "pycharm": {
     "name": "#%%\n"
    }
   }
  },
  {
   "cell_type": "code",
   "execution_count": 22,
   "outputs": [
    {
     "data": {
      "text/plain": "<AxesSubplot:>"
     },
     "execution_count": 22,
     "metadata": {},
     "output_type": "execute_result"
    },
    {
     "data": {
      "text/plain": "<Figure size 432x288 with 1 Axes>",
      "image/png": "[encoded data removed]"
     },
     "metadata": {
      "needs_background": "light"
     },
     "output_type": "display_data"
    }
   ],
   "source": [
    "pdDf.boxplot(['item_attempt_duration_mins', 'student_duration_mins'])"
   ],
   "metadata": {
    "collapsed": false,
    "pycharm": {
     "name": "#%%\n"
    }
   }
  },
  {
   "cell_type": "code",
   "execution_count": 17,
   "outputs": [
    {
     "data": {
      "text/plain": "       student_duration_mins  item_attempt_duration_mins\ncount           77220.000000                65515.000000\nmean             1560.926878                  523.978035\nstd              7559.147777                 3454.616137\nmin             -1362.766667               -54766.016667\n25%                 6.166667                    0.416667\n50%                24.166667                    1.800000\n75%               253.466667                    9.533333\nmax            261008.166667               109353.100000",
      "text/html": "<div>\n<style scoped>\n    .dataframe tbody tr th:only-of-type {\n        vertical-align: middle;\n    }\n\n    .dataframe tbody tr th {\n        vertical-align: top;\n    }\n\n    .dataframe thead th {\n        text-align: right;\n    }\n</style>\n<table border=\"1\" class=\"dataframe\">\n  <thead>\n    <tr style=\"text-align: right;\">\n      <th></th>\n      <th>student_duration_mins</th>\n      <th>item_attempt_duration_mins</th>\n    </tr>\n  </thead>\n  <tbody>\n    <tr>\n      <th>count</th>\n      <td>77220.000000</td>\n      <td>65515.000000</td>\n    </tr>\n    <tr>\n      <th>mean</th>\n      <td>1560.926878</td>\n      <td>523.978035</td>\n    </tr>\n    <tr>\n      <th>std</th>\n      <td>7559.147777</td>\n      <td>3454.616137</td>\n    </tr>\n    <tr>\n      <th>min</th>\n      <td>-1362.766667</td>\n      <td>-54766.016667</td>\n    </tr>\n    <tr>\n      <th>25%</th>\n      <td>6.166667</td>\n      <td>0.416667</td>\n    </tr>\n    <tr>\n      <th>50%</th>\n      <td>24.166667</td>\n      <td>1.800000</td>\n    </tr>\n    <tr>\n      <th>75%</th>\n      <td>253.466667</td>\n      <td>9.533333</td>\n    </tr>\n    <tr>\n      <th>max</th>\n      <td>261008.166667</td>\n      <td>109353.100000</td>\n    </tr>\n  </tbody>\n</table>\n</div>"
     },
     "execution_count": 17,
     "metadata": {},
     "output_type": "execute_result"
    }
   ],
   "source": [
    "pdDf.describe()"
   ],
   "metadata": {
    "collapsed": false,
    "pycharm": {
     "name": "#%%\n"
    }
   }
  },
  {
   "cell_type": "code",
   "execution_count": 19,
   "outputs": [
    {
     "name": "stdout",
     "output_type": "stream",
     "text": [
      "+-------+---------------------+--------------------------+\n",
      "|summary|student_duration_mins|item_attempt_duration_mins|\n",
      "+-------+---------------------+--------------------------+\n",
      "|  count|                77220|                     65515|\n",
      "|   mean|   1560.9268775360476|         523.9780348011907|\n",
      "| stddev|    7559.147776612103|        3454.6161374710928|\n",
      "|    min|  -1362.7666666666667|        -54766.01666666667|\n",
      "|    max|   261008.16666666666|                  109353.1|\n",
      "+-------+---------------------+--------------------------+\n",
      "\n"
     ]
    }
   ],
   "source": [
    "dfSub.select('student_duration_mins','item_attempt_duration_mins').describe().show()"
   ],
   "metadata": {
    "collapsed": false,
    "pycharm": {
     "name": "#%%\n"
    }
   }
  },
  {
   "cell_type": "markdown",
   "source": [
    "#### Investigate Long Durations"
   ],
   "metadata": {
    "collapsed": false,
    "pycharm": {
     "name": "#%% md\n"
    }
   }
  },
  {
   "cell_type": "code",
   "execution_count": 20,
   "outputs": [],
   "source": [
    "dfLong = dfSub.filter( ~F.col('student_duration_mins').between(-300, 300) )"
   ],
   "metadata": {
    "collapsed": false,
    "pycharm": {
     "name": "#%%\n"
    }
   }
  },
  {
   "cell_type": "markdown",
   "source": [
    "###### Count Long Durations"
   ],
   "metadata": {
    "collapsed": false,
    "pycharm": {
     "name": "#%% md\n"
    }
   }
  },
  {
   "cell_type": "code",
   "execution_count": 21,
   "outputs": [
    {
     "data": {
      "text/plain": "16341"
     },
     "execution_count": 21,
     "metadata": {},
     "output_type": "execute_result"
    }
   ],
   "source": [
    "dfLong.count()"
   ],
   "metadata": {
    "collapsed": false,
    "pycharm": {
     "name": "#%%\n"
    }
   }
  },
  {
   "cell_type": "markdown",
   "source": [
    "- 18,880\n",
    "\n",
    "###### Display boxplot of dates"
   ],
   "metadata": {
    "collapsed": false,
    "pycharm": {
     "name": "#%% md\n"
    }
   }
  },
  {
   "cell_type": "code",
   "execution_count": 25,
   "outputs": [
    {
     "data": {
      "text/plain": "<Figure size 432x288 with 2 Axes>",
      "image/png": "[encoded data removed]"
     },
     "metadata": {
      "needs_background": "light"
     },
     "output_type": "display_data"
    }
   ],
   "source": [
    "dual_date_boxplot(\n",
    "    get_random_sample(dfClean),\n",
    "    dfLong,\n",
    "    title1=\"All Dates\",\n",
    "    title2='Long Dates',\n",
    "    main='All vs Long Dates'\n",
    ")"
   ],
   "metadata": {
    "collapsed": false,
    "pycharm": {
     "name": "#%%\n"
    }
   }
  },
  {
   "cell_type": "code",
   "execution_count": 41,
   "outputs": [],
   "source": [
    "dfShort = dfSub.filter( F.col('item_attempt_duration_mins').between(-7, 7) )"
   ],
   "metadata": {
    "collapsed": false,
    "pycharm": {
     "name": "#%%\n"
    }
   }
  },
  {
   "cell_type": "markdown",
   "source": [
    "###### Count Short Durations"
   ],
   "metadata": {
    "collapsed": false,
    "pycharm": {
     "name": "#%% md\n"
    }
   }
  },
  {
   "cell_type": "code",
   "execution_count": 42,
   "outputs": [
    {
     "data": {
      "text/plain": "45712"
     },
     "execution_count": 42,
     "metadata": {},
     "output_type": "execute_result"
    }
   ],
   "source": [
    "dfShort.count()"
   ],
   "metadata": {
    "collapsed": false,
    "pycharm": {
     "name": "#%%\n"
    }
   }
  },
  {
   "cell_type": "markdown",
   "source": [
    "- 58,340"
   ],
   "metadata": {
    "collapsed": false,
    "pycharm": {
     "name": "#%% md\n"
    }
   }
  },
  {
   "cell_type": "markdown",
   "source": [
    "###### Describe"
   ],
   "metadata": {
    "collapsed": false
   }
  },
  {
   "cell_type": "code",
   "execution_count": 43,
   "outputs": [
    {
     "name": "stdout",
     "output_type": "stream",
     "text": [
      "+-------+---------------------+--------------------------+\n",
      "|summary|student_duration_mins|item_attempt_duration_mins|\n",
      "+-------+---------------------+--------------------------+\n",
      "|  count|                45682|                     45712|\n",
      "|   mean|    841.8166925703586|        1.5199550081671018|\n",
      "| stddev|    5132.173204151978|        1.6827352864897638|\n",
      "|    min|                  0.0|                       0.0|\n",
      "|    max|   261008.16666666666|                       7.0|\n",
      "+-------+---------------------+--------------------------+\n",
      "\n"
     ]
    }
   ],
   "source": [
    "dfShort.select('student_duration_mins','item_attempt_duration_mins').describe().show()"
   ],
   "metadata": {
    "collapsed": false,
    "pycharm": {
     "name": "#%%\n"
    }
   }
  },
  {
   "cell_type": "markdown",
   "source": [
    "- 58,340\n"
   ],
   "metadata": {
    "collapsed": false,
    "pycharm": {
     "name": "#%% md\n"
    }
   }
  },
  {
   "cell_type": "markdown",
   "source": [
    "###### Display boxplot of dates"
   ],
   "metadata": {
    "collapsed": false,
    "pycharm": {
     "name": "#%% md\n"
    }
   }
  },
  {
   "cell_type": "code",
   "execution_count": 29,
   "outputs": [
    {
     "data": {
      "text/plain": "<Figure size 432x288 with 2 Axes>",
      "image/png": "[encoded data removed]"
     },
     "metadata": {
      "needs_background": "light"
     },
     "output_type": "display_data"
    }
   ],
   "source": [
    "dual_date_boxplot(\n",
    "    get_random_sample(dfClean),\n",
    "    dfShort,\n",
    "    title1=\"All Dates\",\n",
    "    title2='Short Dates',\n",
    "    main='All vs Long Dates'\n",
    ")"
   ],
   "metadata": {
    "collapsed": false,
    "pycharm": {
     "name": "#%%\n"
    }
   }
  },
  {
   "cell_type": "code",
   "execution_count": null,
   "outputs": [],
   "source": [
    "dfShort.toPandas().boxplot('item_attempt_duration_mins')"
   ],
   "metadata": {
    "collapsed": false,
    "pycharm": {
     "name": "#%%\n"
    }
   }
  },
  {
   "cell_type": "code",
   "execution_count": 45,
   "outputs": [
    {
     "data": {
      "text/plain": "array([[<AxesSubplot:title={'center':'item_attempt_duration_mins'}>]],\n      dtype=object)"
     },
     "execution_count": 45,
     "metadata": {},
     "output_type": "execute_result"
    },
    {
     "data": {
      "text/plain": "<Figure size 432x288 with 1 Axes>",
      "image/png": "[encoded data removed]"
     },
     "metadata": {
      "needs_background": "light"
     },
     "output_type": "display_data"
    }
   ],
   "source": [
    "dfShort.toPandas().hist('item_attempt_duration_mins')"
   ],
   "metadata": {
    "collapsed": false,
    "pycharm": {
     "name": "#%%\n"
    }
   }
  },
  {
   "cell_type": "code",
   "execution_count": null,
   "outputs": [],
   "source": [
    "dfShort.toPandas().boxplot('student_duration_mins')"
   ],
   "metadata": {
    "collapsed": false,
    "pycharm": {
     "name": "#%%\n"
    }
   }
  },
  {
   "cell_type": "code",
   "execution_count": null,
   "outputs": [],
   "source": [],
   "metadata": {
    "collapsed": false,
    "pycharm": {
     "name": "#%%\n"
    }
   }
  }
 ],
 "metadata": {
  "kernelspec": {
   "display_name": "Python 3",
   "language": "python",
   "name": "python3"
  },
  "language_info": {
   "codemirror_mode": {
    "name": "ipython",
    "version": 2
   },
   "file_extension": ".py",
   "mimetype": "text/x-python",
   "name": "python",
   "nbconvert_exporter": "python",
   "pygments_lexer": "ipython2",
   "version": "2.7.6"
  }
 },
 "nbformat": 4,
 "nbformat_minor": 0
}