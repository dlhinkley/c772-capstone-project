{
 "cells": [
  {
   "cell_type": "markdown",
   "metadata": {
    "collapsed": true,
    "pycharm": {
     "name": "#%% md\n"
    }
   },
   "source": [
    "### Reduce item_type_code_name levels"
   ]
  },
  {
   "cell_type": "code",
   "execution_count": 48,
   "outputs": [],
   "source": [
    "%%capture\n",
    "\n",
    "%run '../lib/libraries.ipynb'"
   ],
   "metadata": {
    "collapsed": false,
    "pycharm": {
     "name": "#%%\n"
    }
   }
  },
  {
   "cell_type": "code",
   "execution_count": 49,
   "outputs": [],
   "source": [
    "filterDf  = load_df('filterDf')\n",
    "types = get_var_types()"
   ],
   "metadata": {
    "collapsed": false,
    "pycharm": {
     "name": "#%%\n"
    }
   }
  },
  {
   "cell_type": "markdown",
   "source": [
    "###### Display levels"
   ],
   "metadata": {
    "collapsed": false,
    "pycharm": {
     "name": "#%% md\n"
    }
   }
  },
  {
   "cell_type": "code",
   "execution_count": 50,
   "outputs": [
    {
     "name": "stdout",
     "output_type": "stream",
     "text": [
      "+----------------------+-----+\n",
      "|item_type_code_name   |count|\n",
      "+----------------------+-----+\n",
      "|multipleChoice        |26704|\n",
      "|fillInTheBlank        |10497|\n",
      "|equationEntry         |7841 |\n",
      "|trueFalse             |4561 |\n",
      "|cloze                 |3024 |\n",
      "|multipleSelect        |2295 |\n",
      "|graphing              |2076 |\n",
      "|MultipleChoiceResponse|1550 |\n",
      "|choiceMatrix          |1203 |\n",
      "|matching              |924  |\n",
      "|shortAnswer           |853  |\n",
      "|selectText            |813  |\n",
      "|bucketing             |799  |\n",
      "|sortable              |549  |\n",
      "|essay                 |531  |\n",
      "|numberLine            |302  |\n",
      "|aheAlgo               |219  |\n",
      "|imageLabel            |80   |\n",
      "|RubricResponse        |11   |\n",
      "|FillinBlankResponse   |5    |\n",
      "|fileUpload            |1    |\n",
      "+----------------------+-----+\n",
      "\n"
     ]
    }
   ],
   "source": [
    "count_values(filterDf, 'item_type_code_name').show(50, False)"
   ],
   "metadata": {
    "collapsed": false,
    "pycharm": {
     "name": "#%%\n"
    }
   }
  },
  {
   "cell_type": "markdown",
   "source": [
    "###### Display item_type_code_name and scoring_type_code Corelation"
   ],
   "metadata": {
    "collapsed": false,
    "pycharm": {
     "name": "#%% md\n"
    }
   }
  },
  {
   "cell_type": "code",
   "execution_count": 51,
   "outputs": [
    {
     "data": {
      "text/plain": "scoring_type_code       [unassigned]  automatic  external  manual  Total\nitem_type_code_name                                                     \nFillinBlankResponse                5          0         0       0      5\nMultipleChoiceResponse          1550          0         0       0   1550\nRubricResponse                    11          0         0       0     11\naheAlgo                            0          0       219       0    219\nbucketing                          0        799         0       0    799\nchoiceMatrix                       0       1203         0       0   1203\ncloze                              0       3024         0       0   3024\nequationEntry                      0       7841         0       0   7841\nessay                              9          0         0     522    531\nfileUpload                         0          0         0       1      1\nfillInTheBlank                     0      10497         0       0  10497\ngraphing                           0       2076         0       0   2076\nimageLabel                         0         80         0       0     80\nmatching                           0        924         0       0    924\nmultipleChoice                     0      26704         0       0  26704\nmultipleSelect                     0       2295         0       0   2295\nnumberLine                         0        302         0       0    302\nselectText                         0        813         0       0    813\nshortAnswer                       25          0         0     828    853\nsortable                           0        549         0       0    549\ntrueFalse                          0       4561         0       0   4561\nTotal                           1600      61668       219    1351  64838",
      "text/html": "<div>\n<style scoped>\n    .dataframe tbody tr th:only-of-type {\n        vertical-align: middle;\n    }\n\n    .dataframe tbody tr th {\n        vertical-align: top;\n    }\n\n    .dataframe thead th {\n        text-align: right;\n    }\n</style>\n<table border=\"1\" class=\"dataframe\">\n  <thead>\n    <tr style=\"text-align: right;\">\n      <th>scoring_type_code</th>\n      <th>[unassigned]</th>\n      <th>automatic</th>\n      <th>external</th>\n      <th>manual</th>\n      <th>Total</th>\n    </tr>\n    <tr>\n      <th>item_type_code_name</th>\n      <th></th>\n      <th></th>\n      <th></th>\n      <th></th>\n      <th></th>\n    </tr>\n  </thead>\n  <tbody>\n    <tr>\n      <th>FillinBlankResponse</th>\n      <td>5</td>\n      <td>0</td>\n      <td>0</td>\n      <td>0</td>\n      <td>5</td>\n    </tr>\n    <tr>\n      <th>MultipleChoiceResponse</th>\n      <td>1550</td>\n      <td>0</td>\n      <td>0</td>\n      <td>0</td>\n      <td>1550</td>\n    </tr>\n    <tr>\n      <th>RubricResponse</th>\n      <td>11</td>\n      <td>0</td>\n      <td>0</td>\n      <td>0</td>\n      <td>11</td>\n    </tr>\n    <tr>\n      <th>aheAlgo</th>\n      <td>0</td>\n      <td>0</td>\n      <td>219</td>\n      <td>0</td>\n      <td>219</td>\n    </tr>\n    <tr>\n      <th>bucketing</th>\n      <td>0</td>\n      <td>799</td>\n      <td>0</td>\n      <td>0</td>\n      <td>799</td>\n    </tr>\n    <tr>\n      <th>choiceMatrix</th>\n      <td>0</td>\n      <td>1203</td>\n      <td>0</td>\n      <td>0</td>\n      <td>1203</td>\n    </tr>\n    <tr>\n      <th>cloze</th>\n      <td>0</td>\n      <td>3024</td>\n      <td>0</td>\n      <td>0</td>\n      <td>3024</td>\n    </tr>\n    <tr>\n      <th>equationEntry</th>\n      <td>0</td>\n      <td>7841</td>\n      <td>0</td>\n      <td>0</td>\n      <td>7841</td>\n    </tr>\n    <tr>\n      <th>essay</th>\n      <td>9</td>\n      <td>0</td>\n      <td>0</td>\n      <td>522</td>\n      <td>531</td>\n    </tr>\n    <tr>\n      <th>fileUpload</th>\n      <td>0</td>\n      <td>0</td>\n      <td>0</td>\n      <td>1</td>\n      <td>1</td>\n    </tr>\n    <tr>\n      <th>fillInTheBlank</th>\n      <td>0</td>\n      <td>10497</td>\n      <td>0</td>\n      <td>0</td>\n      <td>10497</td>\n    </tr>\n    <tr>\n      <th>graphing</th>\n      <td>0</td>\n      <td>2076</td>\n      <td>0</td>\n      <td>0</td>\n      <td>2076</td>\n    </tr>\n    <tr>\n      <th>imageLabel</th>\n      <td>0</td>\n      <td>80</td>\n      <td>0</td>\n      <td>0</td>\n      <td>80</td>\n    </tr>\n    <tr>\n      <th>matching</th>\n      <td>0</td>\n      <td>924</td>\n      <td>0</td>\n      <td>0</td>\n      <td>924</td>\n    </tr>\n    <tr>\n      <th>multipleChoice</th>\n      <td>0</td>\n      <td>26704</td>\n      <td>0</td>\n      <td>0</td>\n      <td>26704</td>\n    </tr>\n    <tr>\n      <th>multipleSelect</th>\n      <td>0</td>\n      <td>2295</td>\n      <td>0</td>\n      <td>0</td>\n      <td>2295</td>\n    </tr>\n    <tr>\n      <th>numberLine</th>\n      <td>0</td>\n      <td>302</td>\n      <td>0</td>\n      <td>0</td>\n      <td>302</td>\n    </tr>\n    <tr>\n      <th>selectText</th>\n      <td>0</td>\n      <td>813</td>\n      <td>0</td>\n      <td>0</td>\n      <td>813</td>\n    </tr>\n    <tr>\n      <th>shortAnswer</th>\n      <td>25</td>\n      <td>0</td>\n      <td>0</td>\n      <td>828</td>\n      <td>853</td>\n    </tr>\n    <tr>\n      <th>sortable</th>\n      <td>0</td>\n      <td>549</td>\n      <td>0</td>\n      <td>0</td>\n      <td>549</td>\n    </tr>\n    <tr>\n      <th>trueFalse</th>\n      <td>0</td>\n      <td>4561</td>\n      <td>0</td>\n      <td>0</td>\n      <td>4561</td>\n    </tr>\n    <tr>\n      <th>Total</th>\n      <td>1600</td>\n      <td>61668</td>\n      <td>219</td>\n      <td>1351</td>\n      <td>64838</td>\n    </tr>\n  </tbody>\n</table>\n</div>"
     },
     "execution_count": 51,
     "metadata": {},
     "output_type": "execute_result"
    }
   ],
   "source": [
    "dfPd = filterDf.select('item_type_code_name','scoring_type_code').toPandas()\n",
    "pd.crosstab(dfPd.item_type_code_name.fillna('null'), dfPd.scoring_type_code.fillna('null'), margins=True, margins_name=\"Total\")"
   ],
   "metadata": {
    "collapsed": false,
    "pycharm": {
     "name": "#%%\n"
    }
   }
  },
  {
   "cell_type": "markdown",
   "source": [
    "- unassigned\n",
    "    - FillinBlankResponse\n",
    "    - MultipleChoiceResponse\n",
    "    - shortAnswer\n",
    "- manual\n",
    "  - aheAlg"
   ],
   "metadata": {
    "collapsed": false
   }
  },
  {
   "cell_type": "code",
   "execution_count": 52,
   "outputs": [
    {
     "name": "stdout",
     "output_type": "stream",
     "text": [
      "+-------------------+------------------------+\n",
      "|item_type_code_name|item_type_code_name_swoe|\n",
      "+-------------------+------------------------+\n",
      "|         fileUpload|       0.958169577610213|\n",
      "|FillinBlankResponse|      0.6523843277995943|\n",
      "|FillinBlankResponse|      0.6523843277995943|\n",
      "|FillinBlankResponse|      0.6523843277995943|\n",
      "|FillinBlankResponse|      0.6523843277995943|\n",
      "|FillinBlankResponse|      0.6523843277995943|\n",
      "|      equationEntry|      0.6998692812113955|\n",
      "|      equationEntry|      0.6998692812113955|\n",
      "|      equationEntry|      0.6998692812113955|\n",
      "|      equationEntry|      0.6998692812113955|\n",
      "|      equationEntry|      0.6998692812113955|\n",
      "|      equationEntry|      0.6998692812113955|\n",
      "|      equationEntry|      0.6998692812113955|\n",
      "|      equationEntry|      0.6998692812113955|\n",
      "|      equationEntry|      0.6998692812113955|\n",
      "|      equationEntry|      0.6998692812113955|\n",
      "|      equationEntry|      0.6998692812113955|\n",
      "|      equationEntry|      0.6998692812113955|\n",
      "|      equationEntry|      0.6998692812113955|\n",
      "|      equationEntry|      0.6998692812113955|\n",
      "+-------------------+------------------------+\n",
      "only showing top 20 rows\n",
      "\n"
     ]
    }
   ],
   "source": [
    "encode_categories_as_swoe(filterDf).select('item_type_code_name', 'item_type_code_name_swoe').show()"
   ],
   "metadata": {
    "collapsed": false,
    "pycharm": {
     "name": "#%%\n"
    }
   }
  },
  {
   "cell_type": "code",
   "execution_count": 52,
   "outputs": [],
   "source": [],
   "metadata": {
    "collapsed": false,
    "pycharm": {
     "name": "#%%\n"
    }
   }
  }
 ],
 "metadata": {
  "kernelspec": {
   "display_name": "Python 3",
   "language": "python",
   "name": "python3"
  },
  "language_info": {
   "codemirror_mode": {
    "name": "ipython",
    "version": 2
   },
   "file_extension": ".py",
   "mimetype": "text/x-python",
   "name": "python",
   "nbconvert_exporter": "python",
   "pygments_lexer": "ipython2",
   "version": "2.7.6"
  }
 },
 "nbformat": 4,
 "nbformat_minor": 0
}