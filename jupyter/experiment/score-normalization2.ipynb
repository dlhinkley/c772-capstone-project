{
 "cells": [
  {
   "cell_type": "markdown",
   "source": [
    "### Score Normalization\n",
    "Ref: file:///Users/duane.hinkley/Zotero/storage/H5KPZK4R/score-normilization.html\n",
    "1. Convert score to percentage\n",
    "2. Normalize"
   ],
   "metadata": {
    "collapsed": false
   }
  },
  {
   "cell_type": "code",
   "execution_count": 32,
   "outputs": [
    {
     "name": "stdout",
     "output_type": "stream",
     "text": [
      "dython              0.6.1\n",
      "tinydb              4.2.0\n"
     ]
    }
   ],
   "source": [
    "%run '../lib/libraries.ipynb'"
   ],
   "metadata": {
    "collapsed": false,
    "pycharm": {
     "name": "#%%\n"
    }
   }
  },
  {
   "cell_type": "code",
   "execution_count": 33,
   "outputs": [],
   "source": [
    "cleanDf = load_df('cleanDf')\n",
    "cats = get_var_cats()"
   ],
   "metadata": {
    "collapsed": false,
    "pycharm": {
     "name": "#%%\n"
    }
   }
  },
  {
   "cell_type": "markdown",
   "metadata": {
    "collapsed": true,
    "pycharm": {
     "name": "#%% md\n"
    }
   },
   "source": [
    "Display scores for assessement_id 748408"
   ]
  },
  {
   "cell_type": "code",
   "execution_count": 34,
   "outputs": [
    {
     "data": {
      "text/plain": "    learner_assignment_attempt_id  points_possible_unweighted  \\\n0                         1002584                        48.0   \n1                         1002763                        48.0   \n2                         1002598                        48.0   \n3                         1002637                        48.0   \n4                         1002558                        48.0   \n5                         1002614                        48.0   \n6                         1002702                        48.0   \n7                         1002681                        48.0   \n8                         1002648                        48.0   \n9                         1002587                        48.0   \n10                        1002575                        48.0   \n11                        1002798                        48.0   \n12                        1002807                        48.0   \n13                        1002687                        48.0   \n14                        1002669                        48.0   \n15                        1002814                        48.0   \n16                        1002831                        48.0   \n\n    final_score_unweighted  \n0                       44  \n1                       41  \n2                       39  \n3                       43  \n4                       44  \n5                       40  \n6                       32  \n7                       11  \n8                       46  \n9                       37  \n10                      23  \n11                      39  \n12                      45  \n13                      38  \n14                      20  \n15                      29  \n16                      44  ",
      "text/html": "<div>\n<style scoped>\n    .dataframe tbody tr th:only-of-type {\n        vertical-align: middle;\n    }\n\n    .dataframe tbody tr th {\n        vertical-align: top;\n    }\n\n    .dataframe thead th {\n        text-align: right;\n    }\n</style>\n<table border=\"1\" class=\"dataframe\">\n  <thead>\n    <tr style=\"text-align: right;\">\n      <th></th>\n      <th>learner_assignment_attempt_id</th>\n      <th>points_possible_unweighted</th>\n      <th>final_score_unweighted</th>\n    </tr>\n  </thead>\n  <tbody>\n    <tr>\n      <th>0</th>\n      <td>1002584</td>\n      <td>48.0</td>\n      <td>44</td>\n    </tr>\n    <tr>\n      <th>1</th>\n      <td>1002763</td>\n      <td>48.0</td>\n      <td>41</td>\n    </tr>\n    <tr>\n      <th>2</th>\n      <td>1002598</td>\n      <td>48.0</td>\n      <td>39</td>\n    </tr>\n    <tr>\n      <th>3</th>\n      <td>1002637</td>\n      <td>48.0</td>\n      <td>43</td>\n    </tr>\n    <tr>\n      <th>4</th>\n      <td>1002558</td>\n      <td>48.0</td>\n      <td>44</td>\n    </tr>\n    <tr>\n      <th>5</th>\n      <td>1002614</td>\n      <td>48.0</td>\n      <td>40</td>\n    </tr>\n    <tr>\n      <th>6</th>\n      <td>1002702</td>\n      <td>48.0</td>\n      <td>32</td>\n    </tr>\n    <tr>\n      <th>7</th>\n      <td>1002681</td>\n      <td>48.0</td>\n      <td>11</td>\n    </tr>\n    <tr>\n      <th>8</th>\n      <td>1002648</td>\n      <td>48.0</td>\n      <td>46</td>\n    </tr>\n    <tr>\n      <th>9</th>\n      <td>1002587</td>\n      <td>48.0</td>\n      <td>37</td>\n    </tr>\n    <tr>\n      <th>10</th>\n      <td>1002575</td>\n      <td>48.0</td>\n      <td>23</td>\n    </tr>\n    <tr>\n      <th>11</th>\n      <td>1002798</td>\n      <td>48.0</td>\n      <td>39</td>\n    </tr>\n    <tr>\n      <th>12</th>\n      <td>1002807</td>\n      <td>48.0</td>\n      <td>45</td>\n    </tr>\n    <tr>\n      <th>13</th>\n      <td>1002687</td>\n      <td>48.0</td>\n      <td>38</td>\n    </tr>\n    <tr>\n      <th>14</th>\n      <td>1002669</td>\n      <td>48.0</td>\n      <td>20</td>\n    </tr>\n    <tr>\n      <th>15</th>\n      <td>1002814</td>\n      <td>48.0</td>\n      <td>29</td>\n    </tr>\n    <tr>\n      <th>16</th>\n      <td>1002831</td>\n      <td>48.0</td>\n      <td>44</td>\n    </tr>\n  </tbody>\n</table>\n</div>"
     },
     "execution_count": 34,
     "metadata": {},
     "output_type": "execute_result"
    }
   ],
   "source": [
    "cleanDf.filter( F.col('assessment_id') == 748408 ).select('learner_assignment_attempt_id', 'points_possible_unweighted', 'final_score_unweighted').distinct().toPandas()"
   ],
   "metadata": {
    "collapsed": false,
    "pycharm": {
     "name": "#%%\n"
    }
   }
  },
  {
   "cell_type": "markdown",
   "source": [
    "Formula:\n",
    "\n",
    "Z=(X-M)/S\n",
    "z refers to the z-score,\n",
    "M is the estimate of the population's mean,\n",
    "S is the estimate of the population's standard deviation,\n",
    "X is an individual score within the distribution having mean M and variance S."
   ],
   "metadata": {
    "collapsed": false,
    "pycharm": {
     "name": "#%% md\n"
    }
   }
  },
  {
   "cell_type": "markdown",
   "source": [
    "percentage conversion"
   ],
   "metadata": {
    "collapsed": false,
    "pycharm": {
     "name": "#%% md\n"
    }
   }
  },
  {
   "cell_type": "code",
   "execution_count": 53,
   "outputs": [],
   "source": [
    "dfPercent = cleanDf.filter(~F.col('learner_assignment_attempt_id').isNull()).withColumn('percent', F.round( F.col('final_score_unweighted') / F.col('points_possible_unweighted') * 100) )"
   ],
   "metadata": {
    "collapsed": false,
    "pycharm": {
     "name": "#%%\n"
    }
   }
  },
  {
   "cell_type": "code",
   "execution_count": 54,
   "outputs": [
    {
     "name": "stdout",
     "output_type": "stream",
     "text": [
      "+--------------------------+----------------------+-------+\n",
      "|points_possible_unweighted|final_score_unweighted|percent|\n",
      "+--------------------------+----------------------+-------+\n",
      "|                       4.0|                     3|   75.0|\n",
      "|                      10.0|                    10|  100.0|\n",
      "|                      10.0|                    10|  100.0|\n",
      "|                      20.0|                    18|   90.0|\n",
      "|                      20.0|                    18|   90.0|\n",
      "|                      20.0|                    18|   90.0|\n",
      "|                       4.0|                     3|   75.0|\n",
      "|                      10.0|                    10|  100.0|\n",
      "|                       4.0|                     3|   75.0|\n",
      "|                       4.0|                     3|   75.0|\n",
      "|                      20.0|                    18|   90.0|\n",
      "|                      20.0|                    18|   90.0|\n",
      "|                      10.0|                     7|   70.0|\n",
      "|                      20.0|                    18|   90.0|\n",
      "|                      20.0|                    18|   90.0|\n",
      "|                       4.0|                     3|   75.0|\n",
      "|                       4.0|                     3|   75.0|\n",
      "|                       4.0|                     3|   75.0|\n",
      "|                       4.0|                     3|   75.0|\n",
      "|                      20.0|                    18|   90.0|\n",
      "+--------------------------+----------------------+-------+\n",
      "only showing top 20 rows\n",
      "\n"
     ]
    }
   ],
   "source": [
    "dfPercent.select('points_possible_unweighted', 'final_score_unweighted', 'percent').show()"
   ],
   "metadata": {
    "collapsed": false,
    "pycharm": {
     "name": "#%%\n"
    }
   }
  },
  {
   "cell_type": "markdown",
   "source": [
    "mean and standard deviation"
   ],
   "metadata": {
    "collapsed": false,
    "pycharm": {
     "name": "#%% md\n"
    }
   }
  },
  {
   "cell_type": "code",
   "execution_count": 55,
   "outputs": [
    {
     "name": "stdout",
     "output_type": "stream",
     "text": [
      "+-------------+------------------+------------------+\n",
      "|assessment_id|                sd|               avg|\n",
      "+-------------+------------------+------------------+\n",
      "|       748408|20.231189734226806| 75.41176470588235|\n",
      "|       661489| 39.04980772214684|40.168350168350166|\n",
      "|       699380|               0.0|              40.0|\n",
      "|       756753|10.657453489407915|  92.6470588235294|\n",
      "|       687644| 17.57200928192567|41.714285714285715|\n",
      "|       696973| 2.054804667656318| 72.66666666666667|\n",
      "|       653848|               0.0|             100.0|\n",
      "|       722540| 3.031088913245535|             98.25|\n",
      "|       729577| 22.46185983823001| 51.19047619047619|\n",
      "|       725646|               0.0|              10.0|\n",
      "|       721940| 29.95469830623042| 62.22222222222222|\n",
      "|       694324|               0.0|              75.0|\n",
      "|       740994|               0.0|              71.0|\n",
      "|       740960|               0.0|              82.0|\n",
      "|       756773| 6.428243465332243| 93.63636363636364|\n",
      "|       654733|               0.0|             100.0|\n",
      "|       760435|17.099461442766334| 72.46428571428571|\n",
      "|       714854|16.329992010201792| 78.15384615384616|\n",
      "|       764598| 6.108802575145908| 93.72093023255815|\n",
      "|       651569|  40.7926461919336|51.795918367346935|\n",
      "+-------------+------------------+------------------+\n",
      "only showing top 20 rows\n",
      "\n"
     ]
    }
   ],
   "source": [
    "s = (dfPercent.groupBy(\"assessment_id\")\n",
    "  .agg(\n",
    "      F.stddev_pop(\"percent\").alias(\"sd\"),\n",
    "      F.avg(\"percent\").alias(\"avg\")))\n",
    "\n",
    "s.show()"
   ],
   "metadata": {
    "collapsed": false,
    "pycharm": {
     "name": "#%%\n"
    }
   }
  },
  {
   "cell_type": "markdown",
   "source": [
    "Normalized score"
   ],
   "metadata": {
    "collapsed": false,
    "pycharm": {
     "name": "#%% md\n"
    }
   }
  },
  {
   "cell_type": "code",
   "execution_count": 56,
   "outputs": [
    {
     "name": "stdout",
     "output_type": "stream",
     "text": [
      "+-------------+-------+------------------+\n",
      "|assessment_id|percent|             score|\n",
      "+-------------+-------+------------------+\n",
      "|       736105|   75.0| 0.880696034077061|\n",
      "|       727353|  100.0| 0.872730216669552|\n",
      "|       727353|  100.0| 0.872730216669552|\n",
      "|       732131|   90.0|0.8248550491389581|\n",
      "|       732131|   90.0|0.8248550491389581|\n",
      "|       732131|   90.0|0.8248550491389581|\n",
      "|       736105|   75.0| 0.880696034077061|\n",
      "|       727353|  100.0| 0.872730216669552|\n",
      "|       736105|   75.0| 0.880696034077061|\n",
      "|       736105|   75.0| 0.880696034077061|\n",
      "|       732131|   90.0|0.8248550491389581|\n",
      "|       732131|   90.0|0.8248550491389581|\n",
      "|       724303|   70.0|-0.787400787401181|\n",
      "|       732131|   90.0|0.8248550491389581|\n",
      "|       732131|   90.0|0.8248550491389581|\n",
      "|       730403|   75.0|0.2721238827974116|\n",
      "|       730403|   75.0|0.2721238827974116|\n",
      "|       730403|   75.0|0.2721238827974116|\n",
      "|       730403|   75.0|0.2721238827974116|\n",
      "|       732131|   90.0|0.8248550491389581|\n",
      "+-------------+-------+------------------+\n",
      "only showing top 20 rows\n",
      "\n"
     ]
    }
   ],
   "source": [
    "dfPercent.join(F.broadcast(s), [\"assessment_id\"])\n",
    "\n",
    "(dfPercent\n",
    "    .join(F.broadcast(s), [\"assessment_id\"])\n",
    "    .select(\n",
    "        \"assessment_id\",\n",
    "        \"percent\",\n",
    "        ((dfPercent.percent - s.avg) / s.sd).alias('score')\n",
    ")).show()"
   ],
   "metadata": {
    "collapsed": false,
    "pycharm": {
     "name": "#%%\n"
    }
   }
  },
  {
   "cell_type": "code",
   "execution_count": 57,
   "outputs": [],
   "source": [
    "from scipy import stats\n",
    "\n",
    "x = dfPercent.join(s, on=['assessment_id'], how='left').select(\n",
    "        \"assessment_id\",\n",
    "        \"percent\",\n",
    "        ((dfPercent.percent - s.avg) / s.sd).alias('score')\n",
    ").toPandas()"
   ],
   "metadata": {
    "collapsed": false,
    "pycharm": {
     "name": "#%%\n"
    }
   }
  },
  {
   "cell_type": "markdown",
   "source": [
    "Is score distribution normal?"
   ],
   "metadata": {
    "collapsed": false
   }
  },
  {
   "cell_type": "code",
   "source": [
    "from scipy.stats import shapiro\n",
    "\n",
    "stat, p = shapiro(x.score)\n",
    "print('Statistics=%.3f, p=%.3f' % (stat, p))\n",
    "# interpret\n",
    "alpha = 0.05\n",
    "if p > alpha:\n",
    "\tprint('Sample looks Gaussian (fail to reject H0)')\n",
    "else:\n",
    "\tprint('Sample does not look Gaussian (reject H0)')"
   ],
   "metadata": {
    "collapsed": false,
    "pycharm": {
     "name": "#%%\n"
    }
   },
   "execution_count": 58,
   "outputs": [
    {
     "name": "stdout",
     "output_type": "stream",
     "text": [
      "Statistics=nan, p=1.000\n",
      "Sample looks Gaussian (fail to reject H0)\n"
     ]
    },
    {
     "name": "stderr",
     "output_type": "stream",
     "text": [
      "/Users/duane.hinkley/PycharmProjects/c772-capstone-project/venv/lib/python3.6/site-packages/scipy/stats/morestats.py:1681: UserWarning: p-value may not be accurate for N > 5000.\n",
      "  warnings.warn(\"p-value may not be accurate for N > 5000.\")\n"
     ]
    }
   ]
  },
  {
   "cell_type": "markdown",
   "source": [
    "D’Agostino’s K^2 Test"
   ],
   "metadata": {
    "collapsed": false,
    "pycharm": {
     "name": "#%% md\n"
    }
   }
  },
  {
   "cell_type": "code",
   "execution_count": 59,
   "outputs": [
    {
     "name": "stdout",
     "output_type": "stream",
     "text": [
      "Statistics=nan, p=nan\n",
      "Sample does not look Gaussian (reject H0)\n"
     ]
    }
   ],
   "source": [
    "from scipy.stats import normaltest\n",
    "\n",
    "# normality test\n",
    "stat, p = normaltest(x.score)\n",
    "print('Statistics=%.3f, p=%.3f' % (stat, p))\n",
    "# interpret\n",
    "alpha = 0.05\n",
    "if p > alpha:\n",
    "\tprint('Sample looks Gaussian (fail to reject H0)')\n",
    "else:\n",
    "\tprint('Sample does not look Gaussian (reject H0)')"
   ],
   "metadata": {
    "collapsed": false,
    "pycharm": {
     "name": "#%%\n"
    }
   }
  },
  {
   "cell_type": "markdown",
   "source": [
    "Anderson-Darling Test"
   ],
   "metadata": {
    "collapsed": false,
    "pycharm": {
     "name": "#%% md\n"
    }
   }
  },
  {
   "cell_type": "code",
   "execution_count": 60,
   "outputs": [
    {
     "name": "stdout",
     "output_type": "stream",
     "text": [
      "Statistic: nan\n",
      "15.000: 0.576, data does not look normal (reject H0)\n",
      "10.000: 0.656, data does not look normal (reject H0)\n",
      "5.000: 0.787, data does not look normal (reject H0)\n",
      "2.500: 0.918, data does not look normal (reject H0)\n",
      "1.000: 1.092, data does not look normal (reject H0)\n"
     ]
    }
   ],
   "source": [
    "from scipy.stats import anderson\n",
    "\n",
    "# normality test\n",
    "result = anderson(x.score)\n",
    "print('Statistic: %.3f' % result.statistic)\n",
    "p = 0\n",
    "for i in range(len(result.critical_values)):\n",
    "\tsl, cv = result.significance_level[i], result.critical_values[i]\n",
    "\tif result.statistic < result.critical_values[i]:\n",
    "\t\tprint('%.3f: %.3f, data looks normal (fail to reject H0)' % (sl, cv))\n",
    "\telse:\n",
    "\t\tprint('%.3f: %.3f, data does not look normal (reject H0)' % (sl, cv))"
   ],
   "metadata": {
    "collapsed": false,
    "pycharm": {
     "name": "#%%\n"
    }
   }
  },
  {
   "cell_type": "markdown",
   "source": [
    "QQ Plot of scores for all assessments"
   ],
   "metadata": {
    "collapsed": false
   }
  },
  {
   "cell_type": "code",
   "execution_count": 61,
   "outputs": [
    {
     "data": {
      "text/plain": "<Figure size 432x288 with 1 Axes>",
      "image/png": "[encoded data removed]"
     },
     "metadata": {
      "needs_background": "light"
     },
     "output_type": "display_data"
    }
   ],
   "source": [
    "from statsmodels.graphics.gofplots import qqplot\n",
    "from matplotlib import pyplot\n",
    "\n",
    "# q-q plot\n",
    "qqplot(x.score, line='s')\n",
    "pyplot.show()"
   ],
   "metadata": {
    "collapsed": false,
    "pycharm": {
     "name": "#%%\n"
    }
   }
  },
  {
   "cell_type": "markdown",
   "source": [
    "QQ Plot of scores for one assessment"
   ],
   "metadata": {
    "collapsed": false,
    "pycharm": {
     "name": "#%% md\n"
    }
   }
  },
  {
   "cell_type": "code",
   "execution_count": 62,
   "outputs": [
    {
     "data": {
      "text/plain": "<Figure size 432x288 with 1 Axes>",
      "image/png": "[encoded data removed]"
     },
     "metadata": {
      "needs_background": "light"
     },
     "output_type": "display_data"
    }
   ],
   "source": [
    "from statsmodels.graphics.gofplots import qqplot\n",
    "from matplotlib import pyplot\n",
    "\n",
    "# q-q plot\n",
    "qqplot(x[ x['assessment_id'] == 748408 ].score, line='s')\n",
    "pyplot.show()"
   ],
   "metadata": {
    "collapsed": false,
    "pycharm": {
     "name": "#%%\n"
    }
   }
  },
  {
   "cell_type": "code",
   "execution_count": 63,
   "outputs": [
    {
     "data": {
      "text/plain": "<Figure size 432x288 with 1 Axes>",
      "image/png": "[encoded data removed]"
     },
     "metadata": {
      "needs_background": "light"
     },
     "output_type": "display_data"
    }
   ],
   "source": [
    "# q-q plot\n",
    "qqplot(x.score, line='s')\n",
    "pyplot.show()"
   ],
   "metadata": {
    "collapsed": false,
    "pycharm": {
     "name": "#%%\n"
    }
   }
  },
  {
   "cell_type": "markdown",
   "source": [
    "histogram of scores for all assessments"
   ],
   "metadata": {
    "collapsed": false
   }
  },
  {
   "cell_type": "code",
   "execution_count": 64,
   "outputs": [
    {
     "data": {
      "text/plain": "array([[<AxesSubplot:title={'center':'score'}>]], dtype=object)"
     },
     "execution_count": 64,
     "metadata": {},
     "output_type": "execute_result"
    },
    {
     "data": {
      "text/plain": "<Figure size 432x288 with 1 Axes>",
      "image/png": "[encoded data removed]"
     },
     "metadata": {
      "needs_background": "light"
     },
     "output_type": "display_data"
    }
   ],
   "source": [
    "x.hist('score')"
   ],
   "metadata": {
    "collapsed": false,
    "pycharm": {
     "name": "#%%\n"
    }
   }
  },
  {
   "cell_type": "markdown",
   "source": [
    "histogram of scores for one assessment"
   ],
   "metadata": {
    "collapsed": false
   }
  },
  {
   "cell_type": "code",
   "execution_count": 65,
   "outputs": [
    {
     "data": {
      "text/plain": "array([[<AxesSubplot:title={'center':'score'}>]], dtype=object)"
     },
     "execution_count": 65,
     "metadata": {},
     "output_type": "execute_result"
    },
    {
     "data": {
      "text/plain": "<Figure size 432x288 with 1 Axes>",
      "image/png": "[encoded data removed]"
     },
     "metadata": {
      "needs_background": "light"
     },
     "output_type": "display_data"
    }
   ],
   "source": [
    "x[ x['assessment_id'] == 748408 ].hist('score')"
   ],
   "metadata": {
    "collapsed": false,
    "pycharm": {
     "name": "#%%\n"
    }
   }
  },
  {
   "cell_type": "markdown",
   "source": [
    "histogram of percents for one assessment"
   ],
   "metadata": {
    "collapsed": false
   }
  },
  {
   "cell_type": "code",
   "execution_count": null,
   "outputs": [],
   "source": [
    "x[ x['assessment_id'] == 748408 ].hist('percent')"
   ],
   "metadata": {
    "collapsed": false,
    "pycharm": {
     "name": "#%%\n"
    }
   }
  },
  {
   "cell_type": "markdown",
   "source": [
    "- Normaliztion is not different than percent"
   ],
   "metadata": {
    "collapsed": false
   }
  },
  {
   "cell_type": "markdown",
   "source": [
    "histogram of final score for one assessment"
   ],
   "metadata": {
    "collapsed": false
   }
  },
  {
   "cell_type": "code",
   "execution_count": 68,
   "outputs": [
    {
     "data": {
      "text/plain": "array([[<AxesSubplot:title={'center':'final_score_unweighted'}>]],\n      dtype=object)"
     },
     "execution_count": 68,
     "metadata": {},
     "output_type": "execute_result"
    },
    {
     "data": {
      "text/plain": "<Figure size 432x288 with 1 Axes>",
      "image/png": "[encoded data removed]"
     },
     "metadata": {
      "needs_background": "light"
     },
     "output_type": "display_data"
    }
   ],
   "source": [
    "cleanDf.filter(F.col('assessment_id') == 748408).toPandas().hist('final_score_unweighted')"
   ],
   "metadata": {
    "collapsed": false,
    "pycharm": {
     "name": "#%%\n"
    }
   }
  },
  {
   "cell_type": "markdown",
   "source": [
    "- Normaliztion is not different than score\n",
    "\n"
   ],
   "metadata": {
    "collapsed": false,
    "pycharm": {
     "name": "#%% md\n"
    }
   }
  }
 ],
 "metadata": {
  "kernelspec": {
   "display_name": "Python 3",
   "language": "python",
   "name": "python3"
  },
  "language_info": {
   "codemirror_mode": {
    "name": "ipython",
    "version": 2
   },
   "file_extension": ".py",
   "mimetype": "text/x-python",
   "name": "python",
   "nbconvert_exporter": "python",
   "pygments_lexer": "ipython2",
   "version": "2.7.6"
  }
 },
 "nbformat": 4,
 "nbformat_minor": 0
}