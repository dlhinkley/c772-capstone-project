{
 "cells": [
  {
   "cell_type": "markdown",
   "source": [
    "### Score Normalization\n",
    "Ref: file:///Users/duane.hinkley/Zotero/storage/H5KPZK4R/score-normilization.html"
   ],
   "metadata": {
    "collapsed": false
   }
  },
  {
   "cell_type": "code",
   "execution_count": 62,
   "outputs": [
    {
     "name": "stdout",
     "output_type": "stream",
     "text": [
      "dython              0.6.1\n",
      "tinydb              4.2.0\n"
     ]
    }
   ],
   "source": [
    "%run './lib/libraries.ipynb'"
   ],
   "metadata": {
    "collapsed": false,
    "pycharm": {
     "name": "#%%\n"
    }
   }
  },
  {
   "cell_type": "code",
   "execution_count": 63,
   "outputs": [],
   "source": [
    "filterDf = load_df('filterDf')\n",
    "cats = get_var_cats()"
   ],
   "metadata": {
    "collapsed": false,
    "pycharm": {
     "name": "#%%\n"
    }
   }
  },
  {
   "cell_type": "markdown",
   "metadata": {
    "collapsed": true,
    "pycharm": {
     "name": "#%% md\n"
    }
   },
   "source": [
    "Display scores for assessement_id 748408"
   ]
  },
  {
   "cell_type": "code",
   "execution_count": 64,
   "outputs": [
    {
     "data": {
      "text/plain": "    learner_assignment_attempt_id  assessment_instance_attempt_id  \\\n0                         1002687                         1231041   \n1                         1002584                         1148290   \n2                         1002575                         1110794   \n3                         1002702                         1227978   \n4                         1002648                         1155442   \n5                         1002598                         1098979   \n6                         1002614                         1122674   \n7                         1002831                         1175820   \n8                         1002637                         1117904   \n9                         1002558                         1190008   \n10                        1002669                         1165346   \n11                        1002763                         1098986   \n12                        1002798                         1125030   \n13                        1002807                         1239925   \n14                        1002587                         1098981   \n15                        1002681                         1193414   \n16                        1002814                         1210783   \n\n    assignment_attempt_number  final_score_unweighted  is_force_scored  \\\n0                           1                      38            False   \n1                           1                      44            False   \n2                           1                      23            False   \n3                           1                      32            False   \n4                           1                      46            False   \n5                           1                      39            False   \n6                           1                      40            False   \n7                           1                      44            False   \n8                           1                      43            False   \n9                           1                      44            False   \n10                          1                      20            False   \n11                          1                      41            False   \n12                          1                      39            False   \n13                          1                      45            False   \n14                          1                      37            False   \n15                          1                      11            False   \n16                          1                      29            False   \n\n    is_manual_scoring_required  learner_assignment_attempt_id  \\\n0                        False                        1002687   \n1                        False                        1002584   \n2                        False                        1002575   \n3                        False                        1002702   \n4                        False                        1002648   \n5                        False                        1002598   \n6                        False                        1002614   \n7                        False                        1002831   \n8                        False                        1002637   \n9                        False                        1002558   \n10                       False                        1002669   \n11                       False                        1002763   \n12                       False                        1002798   \n13                       False                        1002807   \n14                       False                        1002587   \n15                       False                        1002681   \n16                       False                        1002814   \n\n   learner_attempt_status  points_possible_unweighted     scored_datetime  \\\n0            fully scored                        48.0 2019-12-13 10:21:57   \n1            fully scored                        48.0 2019-12-13 10:17:50   \n2            fully scored                        48.0 2020-01-08 07:08:16   \n3            fully scored                        48.0 2020-01-09 09:59:44   \n4            fully scored                        48.0 2019-12-13 10:23:15   \n5            fully scored                        48.0 2020-01-08 07:03:42   \n6            fully scored                        48.0 2020-01-08 07:01:42   \n7            fully scored                        48.0 2020-01-08 07:05:32   \n8            fully scored                        48.0 2020-01-09 09:37:13   \n9            fully scored                        48.0 2019-12-13 09:53:22   \n10           fully scored                        48.0 2019-12-13 09:57:47   \n11           fully scored                        48.0 2019-12-13 10:26:42   \n12           fully scored                        48.0 2019-12-13 10:24:01   \n13           fully scored                        48.0 2019-12-13 10:10:05   \n14           fully scored                        48.0 2019-12-13 09:55:54   \n15           fully scored                        48.0 2020-01-10 09:43:23   \n16           fully scored                        48.0 2019-12-13 09:50:26   \n\n    student_start_datetime   student_stop_datetime was_fully_scored_datetime  \\\n0  2019-12-13 17:11:12.994 2019-12-13 18:16:42.211   2019-12-13 18:21:57.891   \n1  2019-12-13 17:11:19.226 2019-12-13 18:01:39.552   2019-12-13 18:17:51.195   \n2  2019-12-13 17:11:40.970 2019-12-13 19:49:42.369   2020-01-08 15:08:16.987   \n3  2019-12-13 17:11:20.474 2019-12-13 19:49:09.331   2020-01-09 17:59:44.637   \n4  2019-12-13 17:10:29.972 2019-12-13 18:12:21.236   2019-12-13 18:23:15.737   \n5  2019-12-11 19:28:13.214 2019-12-13 18:15:09.274   2020-01-08 15:03:42.000   \n6  2019-12-12 18:16:15.273 2019-12-13 18:16:09.253   2020-01-08 15:01:42.000   \n7  2019-12-13 17:12:22.668 2019-12-13 18:16:44.329   2020-01-08 15:05:32.722   \n8  2019-12-13 17:12:22.130 2019-12-13 18:12:51.117   2020-01-09 17:28:08.000   \n9  2019-12-13 17:10:04.346 2019-12-13 17:35:40.186   2019-12-13 17:53:22.357   \n10 2019-12-13 17:15:06.663 2019-12-13 17:55:01.954   2019-12-13 17:57:47.000   \n11 2019-12-13 17:10:31.726 2019-12-13 18:19:38.762   2019-12-13 18:26:43.237   \n12 2019-12-13 17:21:06.881 2019-12-13 18:16:30.858   2019-12-13 18:24:01.922   \n13 2019-12-13 17:10:26.348 2019-12-13 18:07:45.090   2019-12-13 18:10:05.000   \n14 2019-12-13 17:11:40.673 2019-12-13 17:50:54.380   2019-12-13 17:55:54.000   \n15 2019-12-13 17:12:01.207 2019-12-13 18:27:37.020   2020-01-10 17:43:23.734   \n16 2019-12-13 17:12:02.067 2019-12-13 17:47:26.614   2019-12-13 17:50:26.752   \n\n   was_in_progress_datetime was_submitted_datetime_actual  \n0   2019-12-13 17:11:12.994       2019-12-13 18:16:42.211  \n1   2019-12-13 17:11:19.226       2019-12-13 18:01:39.552  \n2   2019-12-13 17:11:40.970       2019-12-13 19:49:42.369  \n3   2019-12-13 17:11:20.474       2019-12-13 19:49:09.331  \n4   2019-12-13 17:10:29.972       2019-12-13 18:12:21.236  \n5   2019-12-11 19:28:13.214       2019-12-13 18:15:09.274  \n6   2019-12-12 18:16:15.273       2019-12-13 18:16:09.253  \n7   2019-12-13 17:12:22.668       2019-12-13 18:16:44.329  \n8   2019-12-13 17:12:22.130       2019-12-13 18:12:51.117  \n9   2019-12-13 17:10:04.346       2019-12-13 17:35:40.186  \n10  2019-12-13 17:15:06.663       2019-12-13 17:55:01.954  \n11  2019-12-13 17:10:31.726       2019-12-13 18:19:38.762  \n12  2019-12-13 17:21:06.881       2019-12-13 18:16:30.858  \n13  2019-12-13 17:10:26.348       2019-12-13 18:07:45.090  \n14  2019-12-13 17:11:40.673       2019-12-13 17:50:54.380  \n15  2019-12-13 17:12:01.207       2019-12-13 18:27:37.020  \n16  2019-12-13 17:12:02.067       2019-12-13 17:47:26.614  ",
      "text/html": "<div>\n<style scoped>\n    .dataframe tbody tr th:only-of-type {\n        vertical-align: middle;\n    }\n\n    .dataframe tbody tr th {\n        vertical-align: top;\n    }\n\n    .dataframe thead th {\n        text-align: right;\n    }\n</style>\n<table border=\"1\" class=\"dataframe\">\n  <thead>\n    <tr style=\"text-align: right;\">\n      <th></th>\n      <th>learner_assignment_attempt_id</th>\n      <th>assessment_instance_attempt_id</th>\n      <th>assignment_attempt_number</th>\n      <th>final_score_unweighted</th>\n      <th>is_force_scored</th>\n      <th>is_manual_scoring_required</th>\n      <th>learner_assignment_attempt_id</th>\n      <th>learner_attempt_status</th>\n      <th>points_possible_unweighted</th>\n      <th>scored_datetime</th>\n      <th>student_start_datetime</th>\n      <th>student_stop_datetime</th>\n      <th>was_fully_scored_datetime</th>\n      <th>was_in_progress_datetime</th>\n      <th>was_submitted_datetime_actual</th>\n    </tr>\n  </thead>\n  <tbody>\n    <tr>\n      <th>0</th>\n      <td>1002687</td>\n      <td>1231041</td>\n      <td>1</td>\n      <td>38</td>\n      <td>False</td>\n      <td>False</td>\n      <td>1002687</td>\n      <td>fully scored</td>\n      <td>48.0</td>\n      <td>2019-12-13 10:21:57</td>\n      <td>2019-12-13 17:11:12.994</td>\n      <td>2019-12-13 18:16:42.211</td>\n      <td>2019-12-13 18:21:57.891</td>\n      <td>2019-12-13 17:11:12.994</td>\n      <td>2019-12-13 18:16:42.211</td>\n    </tr>\n    <tr>\n      <th>1</th>\n      <td>1002584</td>\n      <td>1148290</td>\n      <td>1</td>\n      <td>44</td>\n      <td>False</td>\n      <td>False</td>\n      <td>1002584</td>\n      <td>fully scored</td>\n      <td>48.0</td>\n      <td>2019-12-13 10:17:50</td>\n      <td>2019-12-13 17:11:19.226</td>\n      <td>2019-12-13 18:01:39.552</td>\n      <td>2019-12-13 18:17:51.195</td>\n      <td>2019-12-13 17:11:19.226</td>\n      <td>2019-12-13 18:01:39.552</td>\n    </tr>\n    <tr>\n      <th>2</th>\n      <td>1002575</td>\n      <td>1110794</td>\n      <td>1</td>\n      <td>23</td>\n      <td>False</td>\n      <td>False</td>\n      <td>1002575</td>\n      <td>fully scored</td>\n      <td>48.0</td>\n      <td>2020-01-08 07:08:16</td>\n      <td>2019-12-13 17:11:40.970</td>\n      <td>2019-12-13 19:49:42.369</td>\n      <td>2020-01-08 15:08:16.987</td>\n      <td>2019-12-13 17:11:40.970</td>\n      <td>2019-12-13 19:49:42.369</td>\n    </tr>\n    <tr>\n      <th>3</th>\n      <td>1002702</td>\n      <td>1227978</td>\n      <td>1</td>\n      <td>32</td>\n      <td>False</td>\n      <td>False</td>\n      <td>1002702</td>\n      <td>fully scored</td>\n      <td>48.0</td>\n      <td>2020-01-09 09:59:44</td>\n      <td>2019-12-13 17:11:20.474</td>\n      <td>2019-12-13 19:49:09.331</td>\n      <td>2020-01-09 17:59:44.637</td>\n      <td>2019-12-13 17:11:20.474</td>\n      <td>2019-12-13 19:49:09.331</td>\n    </tr>\n    <tr>\n      <th>4</th>\n      <td>1002648</td>\n      <td>1155442</td>\n      <td>1</td>\n      <td>46</td>\n      <td>False</td>\n      <td>False</td>\n      <td>1002648</td>\n      <td>fully scored</td>\n      <td>48.0</td>\n      <td>2019-12-13 10:23:15</td>\n      <td>2019-12-13 17:10:29.972</td>\n      <td>2019-12-13 18:12:21.236</td>\n      <td>2019-12-13 18:23:15.737</td>\n      <td>2019-12-13 17:10:29.972</td>\n      <td>2019-12-13 18:12:21.236</td>\n    </tr>\n    <tr>\n      <th>5</th>\n      <td>1002598</td>\n      <td>1098979</td>\n      <td>1</td>\n      <td>39</td>\n      <td>False</td>\n      <td>False</td>\n      <td>1002598</td>\n      <td>fully scored</td>\n      <td>48.0</td>\n      <td>2020-01-08 07:03:42</td>\n      <td>2019-12-11 19:28:13.214</td>\n      <td>2019-12-13 18:15:09.274</td>\n      <td>2020-01-08 15:03:42.000</td>\n      <td>2019-12-11 19:28:13.214</td>\n      <td>2019-12-13 18:15:09.274</td>\n    </tr>\n    <tr>\n      <th>6</th>\n      <td>1002614</td>\n      <td>1122674</td>\n      <td>1</td>\n      <td>40</td>\n      <td>False</td>\n      <td>False</td>\n      <td>1002614</td>\n      <td>fully scored</td>\n      <td>48.0</td>\n      <td>2020-01-08 07:01:42</td>\n      <td>2019-12-12 18:16:15.273</td>\n      <td>2019-12-13 18:16:09.253</td>\n      <td>2020-01-08 15:01:42.000</td>\n      <td>2019-12-12 18:16:15.273</td>\n      <td>2019-12-13 18:16:09.253</td>\n    </tr>\n    <tr>\n      <th>7</th>\n      <td>1002831</td>\n      <td>1175820</td>\n      <td>1</td>\n      <td>44</td>\n      <td>False</td>\n      <td>False</td>\n      <td>1002831</td>\n      <td>fully scored</td>\n      <td>48.0</td>\n      <td>2020-01-08 07:05:32</td>\n      <td>2019-12-13 17:12:22.668</td>\n      <td>2019-12-13 18:16:44.329</td>\n      <td>2020-01-08 15:05:32.722</td>\n      <td>2019-12-13 17:12:22.668</td>\n      <td>2019-12-13 18:16:44.329</td>\n    </tr>\n    <tr>\n      <th>8</th>\n      <td>1002637</td>\n      <td>1117904</td>\n      <td>1</td>\n      <td>43</td>\n      <td>False</td>\n      <td>False</td>\n      <td>1002637</td>\n      <td>fully scored</td>\n      <td>48.0</td>\n      <td>2020-01-09 09:37:13</td>\n      <td>2019-12-13 17:12:22.130</td>\n      <td>2019-12-13 18:12:51.117</td>\n      <td>2020-01-09 17:28:08.000</td>\n      <td>2019-12-13 17:12:22.130</td>\n      <td>2019-12-13 18:12:51.117</td>\n    </tr>\n    <tr>\n      <th>9</th>\n      <td>1002558</td>\n      <td>1190008</td>\n      <td>1</td>\n      <td>44</td>\n      <td>False</td>\n      <td>False</td>\n      <td>1002558</td>\n      <td>fully scored</td>\n      <td>48.0</td>\n      <td>2019-12-13 09:53:22</td>\n      <td>2019-12-13 17:10:04.346</td>\n      <td>2019-12-13 17:35:40.186</td>\n      <td>2019-12-13 17:53:22.357</td>\n      <td>2019-12-13 17:10:04.346</td>\n      <td>2019-12-13 17:35:40.186</td>\n    </tr>\n    <tr>\n      <th>10</th>\n      <td>1002669</td>\n      <td>1165346</td>\n      <td>1</td>\n      <td>20</td>\n      <td>False</td>\n      <td>False</td>\n      <td>1002669</td>\n      <td>fully scored</td>\n      <td>48.0</td>\n      <td>2019-12-13 09:57:47</td>\n      <td>2019-12-13 17:15:06.663</td>\n      <td>2019-12-13 17:55:01.954</td>\n      <td>2019-12-13 17:57:47.000</td>\n      <td>2019-12-13 17:15:06.663</td>\n      <td>2019-12-13 17:55:01.954</td>\n    </tr>\n    <tr>\n      <th>11</th>\n      <td>1002763</td>\n      <td>1098986</td>\n      <td>1</td>\n      <td>41</td>\n      <td>False</td>\n      <td>False</td>\n      <td>1002763</td>\n      <td>fully scored</td>\n      <td>48.0</td>\n      <td>2019-12-13 10:26:42</td>\n      <td>2019-12-13 17:10:31.726</td>\n      <td>2019-12-13 18:19:38.762</td>\n      <td>2019-12-13 18:26:43.237</td>\n      <td>2019-12-13 17:10:31.726</td>\n      <td>2019-12-13 18:19:38.762</td>\n    </tr>\n    <tr>\n      <th>12</th>\n      <td>1002798</td>\n      <td>1125030</td>\n      <td>1</td>\n      <td>39</td>\n      <td>False</td>\n      <td>False</td>\n      <td>1002798</td>\n      <td>fully scored</td>\n      <td>48.0</td>\n      <td>2019-12-13 10:24:01</td>\n      <td>2019-12-13 17:21:06.881</td>\n      <td>2019-12-13 18:16:30.858</td>\n      <td>2019-12-13 18:24:01.922</td>\n      <td>2019-12-13 17:21:06.881</td>\n      <td>2019-12-13 18:16:30.858</td>\n    </tr>\n    <tr>\n      <th>13</th>\n      <td>1002807</td>\n      <td>1239925</td>\n      <td>1</td>\n      <td>45</td>\n      <td>False</td>\n      <td>False</td>\n      <td>1002807</td>\n      <td>fully scored</td>\n      <td>48.0</td>\n      <td>2019-12-13 10:10:05</td>\n      <td>2019-12-13 17:10:26.348</td>\n      <td>2019-12-13 18:07:45.090</td>\n      <td>2019-12-13 18:10:05.000</td>\n      <td>2019-12-13 17:10:26.348</td>\n      <td>2019-12-13 18:07:45.090</td>\n    </tr>\n    <tr>\n      <th>14</th>\n      <td>1002587</td>\n      <td>1098981</td>\n      <td>1</td>\n      <td>37</td>\n      <td>False</td>\n      <td>False</td>\n      <td>1002587</td>\n      <td>fully scored</td>\n      <td>48.0</td>\n      <td>2019-12-13 09:55:54</td>\n      <td>2019-12-13 17:11:40.673</td>\n      <td>2019-12-13 17:50:54.380</td>\n      <td>2019-12-13 17:55:54.000</td>\n      <td>2019-12-13 17:11:40.673</td>\n      <td>2019-12-13 17:50:54.380</td>\n    </tr>\n    <tr>\n      <th>15</th>\n      <td>1002681</td>\n      <td>1193414</td>\n      <td>1</td>\n      <td>11</td>\n      <td>False</td>\n      <td>False</td>\n      <td>1002681</td>\n      <td>fully scored</td>\n      <td>48.0</td>\n      <td>2020-01-10 09:43:23</td>\n      <td>2019-12-13 17:12:01.207</td>\n      <td>2019-12-13 18:27:37.020</td>\n      <td>2020-01-10 17:43:23.734</td>\n      <td>2019-12-13 17:12:01.207</td>\n      <td>2019-12-13 18:27:37.020</td>\n    </tr>\n    <tr>\n      <th>16</th>\n      <td>1002814</td>\n      <td>1210783</td>\n      <td>1</td>\n      <td>29</td>\n      <td>False</td>\n      <td>False</td>\n      <td>1002814</td>\n      <td>fully scored</td>\n      <td>48.0</td>\n      <td>2019-12-13 09:50:26</td>\n      <td>2019-12-13 17:12:02.067</td>\n      <td>2019-12-13 17:47:26.614</td>\n      <td>2019-12-13 17:50:26.752</td>\n      <td>2019-12-13 17:12:02.067</td>\n      <td>2019-12-13 17:47:26.614</td>\n    </tr>\n  </tbody>\n</table>\n</div>"
     },
     "execution_count": 64,
     "metadata": {},
     "output_type": "execute_result"
    }
   ],
   "source": [
    "filterDf.filter( F.col('assessment_id') == 748408 ).select('learner_assignment_attempt_id', *cats['assignmentAttemptVars']).distinct().toPandas()"
   ],
   "metadata": {
    "collapsed": false,
    "pycharm": {
     "name": "#%%\n"
    }
   }
  },
  {
   "cell_type": "markdown",
   "source": [
    "Formula:\n",
    "\n",
    "Z=(X-M)/S\n",
    "z refers to the z-score,\n",
    "M is the estimate of the population's mean,\n",
    "S is the estimate of the population's standard deviation,\n",
    "X is an individual score within the distribution having mean M and variance S."
   ],
   "metadata": {
    "collapsed": false,
    "pycharm": {
     "name": "#%% md\n"
    }
   }
  },
  {
   "cell_type": "markdown",
   "source": [
    "mean and standard deviation"
   ],
   "metadata": {
    "collapsed": false,
    "pycharm": {
     "name": "#%% md\n"
    }
   }
  },
  {
   "cell_type": "code",
   "execution_count": 65,
   "outputs": [
    {
     "name": "stdout",
     "output_type": "stream",
     "text": [
      "+-------------+------------------+------------------+\n",
      "|assessment_id|                sd|               avg|\n",
      "+-------------+------------------+------------------+\n",
      "|       748408|  9.70285157671306|  36.1764705882353|\n",
      "|       661489|3.9049807722146905| 4.016835016835016|\n",
      "|       699380|               0.0|               2.0|\n",
      "|       756753|1.0657453489407904| 9.264705882352942|\n",
      "|       687644| 4.712120714991611|11.285714285714286|\n",
      "|       696973|0.8164965809277269|              32.0|\n",
      "|       653848|               0.0|               4.0|\n",
      "|       722540|0.4330127018922194|             14.75|\n",
      "|       729577|0.8984743935292004|2.0476190476190474|\n",
      "|       725646|               0.0|               2.0|\n",
      "|       721940| 5.990939661246087|12.444444444444445|\n",
      "|       694324|               0.0|               3.0|\n",
      "|       740994|               0.0|               5.0|\n",
      "|       740960|               0.0|              14.0|\n",
      "|       756773|0.6428243465332258| 9.363636363636363|\n",
      "|       654733|               0.0|               2.0|\n",
      "|       760435| 6.521843203842769|27.535714285714285|\n",
      "|       714854|1.8011337652258608| 8.576923076923077|\n",
      "|       764598|0.6108802575145912| 9.372093023255815|\n",
      "|       651569|  20.3963230959668|25.897959183673468|\n",
      "+-------------+------------------+------------------+\n",
      "only showing top 20 rows\n",
      "\n"
     ]
    }
   ],
   "source": [
    "s = (filterDf.groupBy(\"assessment_id\")\n",
    "  .agg(\n",
    "      F.stddev_pop(\"final_score_unweighted\").alias(\"sd\"),\n",
    "      F.avg(\"final_score_unweighted\").alias(\"avg\")))\n",
    "\n",
    "s.show()"
   ],
   "metadata": {
    "collapsed": false,
    "pycharm": {
     "name": "#%%\n"
    }
   }
  },
  {
   "cell_type": "markdown",
   "source": [
    "Normalized score"
   ],
   "metadata": {
    "collapsed": false,
    "pycharm": {
     "name": "#%% md\n"
    }
   }
  },
  {
   "cell_type": "code",
   "execution_count": 66,
   "outputs": [
    {
     "name": "stdout",
     "output_type": "stream",
     "text": [
      "+-------------+----------------------+-------------------+\n",
      "|assessment_id|final_score_unweighted|              score|\n",
      "+-------------+----------------------+-------------------+\n",
      "|       736105|                     3| 0.8806960340770612|\n",
      "|       727353|                    10|  0.872730216669552|\n",
      "|       727353|                    10|  0.872730216669552|\n",
      "|       732131|                    18| 0.8248550491389584|\n",
      "|       732131|                    18| 0.8248550491389584|\n",
      "|       732131|                    18| 0.8248550491389584|\n",
      "|       736105|                     3| 0.8806960340770612|\n",
      "|       727353|                    10|  0.872730216669552|\n",
      "|       736105|                     3| 0.8806960340770612|\n",
      "|       736105|                     3| 0.8806960340770612|\n",
      "|       732131|                    18| 0.8248550491389584|\n",
      "|       732131|                    18| 0.8248550491389584|\n",
      "|       724303|                     7|-0.7874007874011821|\n",
      "|       732131|                    18| 0.8248550491389584|\n",
      "|       732131|                    18| 0.8248550491389584|\n",
      "|       730403|                     3| 0.2721238827974113|\n",
      "|       730403|                     3| 0.2721238827974113|\n",
      "|       730403|                     3| 0.2721238827974113|\n",
      "|       730403|                     3| 0.2721238827974113|\n",
      "|       732131|                    18| 0.8248550491389584|\n",
      "+-------------+----------------------+-------------------+\n",
      "only showing top 20 rows\n",
      "\n"
     ]
    }
   ],
   "source": [
    "filterDf.join(F.broadcast(s), [\"assessment_id\"])\n",
    "\n",
    "(filterDf\n",
    "    .join(F.broadcast(s), [\"assessment_id\"])\n",
    "    .select(\n",
    "        \"assessment_id\",\n",
    "        \"final_score_unweighted\",\n",
    "        ((filterDf.final_score_unweighted - s.avg) / s.sd).alias('score')\n",
    ")).show()"
   ],
   "metadata": {
    "collapsed": false,
    "pycharm": {
     "name": "#%%\n"
    }
   }
  },
  {
   "cell_type": "code",
   "execution_count": 73,
   "outputs": [],
   "source": [
    "from scipy import stats\n",
    "\n",
    "x = filterDf.join(s, on=['assessment_id'], how='left').select(\n",
    "        \"assessment_id\",\n",
    "        \"final_score_unweighted\",\n",
    "        ((filterDf.final_score_unweighted - s.avg) / s.sd * 5).alias('score')\n",
    ").toPandas()"
   ],
   "metadata": {
    "collapsed": false,
    "pycharm": {
     "name": "#%%\n"
    }
   }
  },
  {
   "cell_type": "markdown",
   "source": [
    "Is score distribution normal?"
   ],
   "metadata": {
    "collapsed": false
   }
  },
  {
   "cell_type": "code",
   "source": [
    "from scipy.stats import shapiro\n",
    "\n",
    "stat, p = shapiro(x.score)\n",
    "print('Statistics=%.3f, p=%.3f' % (stat, p))\n",
    "# interpret\n",
    "alpha = 0.05\n",
    "if p > alpha:\n",
    "\tprint('Sample looks Gaussian (fail to reject H0)')\n",
    "else:\n",
    "\tprint('Sample does not look Gaussian (reject H0)')"
   ],
   "metadata": {
    "collapsed": false,
    "pycharm": {
     "name": "#%%\n"
    }
   },
   "execution_count": 74,
   "outputs": [
    {
     "name": "stdout",
     "output_type": "stream",
     "text": [
      "Statistics=nan, p=1.000\n",
      "Sample looks Gaussian (fail to reject H0)\n"
     ]
    },
    {
     "name": "stderr",
     "output_type": "stream",
     "text": [
      "/Users/duane.hinkley/PycharmProjects/c772-capstone-project/venv/lib/python3.6/site-packages/scipy/stats/morestats.py:1681: UserWarning: p-value may not be accurate for N > 5000.\n",
      "  warnings.warn(\"p-value may not be accurate for N > 5000.\")\n"
     ]
    }
   ]
  },
  {
   "cell_type": "markdown",
   "source": [
    "D’Agostino’s K^2 Test"
   ],
   "metadata": {
    "collapsed": false,
    "pycharm": {
     "name": "#%% md\n"
    }
   }
  },
  {
   "cell_type": "code",
   "execution_count": 75,
   "outputs": [
    {
     "name": "stdout",
     "output_type": "stream",
     "text": [
      "Statistics=nan, p=nan\n",
      "Sample does not look Gaussian (reject H0)\n"
     ]
    }
   ],
   "source": [
    "from scipy.stats import normaltest\n",
    "\n",
    "# normality test\n",
    "stat, p = normaltest(x.score)\n",
    "print('Statistics=%.3f, p=%.3f' % (stat, p))\n",
    "# interpret\n",
    "alpha = 0.05\n",
    "if p > alpha:\n",
    "\tprint('Sample looks Gaussian (fail to reject H0)')\n",
    "else:\n",
    "\tprint('Sample does not look Gaussian (reject H0)')"
   ],
   "metadata": {
    "collapsed": false,
    "pycharm": {
     "name": "#%%\n"
    }
   }
  },
  {
   "cell_type": "markdown",
   "source": [
    "Anderson-Darling Test"
   ],
   "metadata": {
    "collapsed": false,
    "pycharm": {
     "name": "#%% md\n"
    }
   }
  },
  {
   "cell_type": "code",
   "execution_count": 76,
   "outputs": [
    {
     "name": "stdout",
     "output_type": "stream",
     "text": [
      "Statistic: nan\n",
      "15.000: 0.576, data does not look normal (reject H0)\n",
      "10.000: 0.656, data does not look normal (reject H0)\n",
      "5.000: 0.787, data does not look normal (reject H0)\n",
      "2.500: 0.918, data does not look normal (reject H0)\n",
      "1.000: 1.092, data does not look normal (reject H0)\n"
     ]
    }
   ],
   "source": [
    "from scipy.stats import anderson\n",
    "\n",
    "# normality test\n",
    "result = anderson(x.score)\n",
    "print('Statistic: %.3f' % result.statistic)\n",
    "p = 0\n",
    "for i in range(len(result.critical_values)):\n",
    "\tsl, cv = result.significance_level[i], result.critical_values[i]\n",
    "\tif result.statistic < result.critical_values[i]:\n",
    "\t\tprint('%.3f: %.3f, data looks normal (fail to reject H0)' % (sl, cv))\n",
    "\telse:\n",
    "\t\tprint('%.3f: %.3f, data does not look normal (reject H0)' % (sl, cv))"
   ],
   "metadata": {
    "collapsed": false,
    "pycharm": {
     "name": "#%%\n"
    }
   }
  },
  {
   "cell_type": "markdown",
   "source": [
    "QQ Plot of scores"
   ],
   "metadata": {
    "collapsed": false,
    "pycharm": {
     "name": "#%% md\n"
    }
   }
  },
  {
   "cell_type": "code",
   "execution_count": 77,
   "outputs": [
    {
     "data": {
      "text/plain": "<Figure size 432x288 with 1 Axes>",
      "image/png": "[encoded data removed]"
     },
     "metadata": {
      "needs_background": "light"
     },
     "output_type": "display_data"
    }
   ],
   "source": [
    "from statsmodels.graphics.gofplots import qqplot\n",
    "from matplotlib import pyplot\n",
    "\n",
    "# q-q plot\n",
    "qqplot(x[ x['assessment_id'] == 748408 ].score, line='s')\n",
    "pyplot.show()"
   ],
   "metadata": {
    "collapsed": false,
    "pycharm": {
     "name": "#%%\n"
    }
   }
  },
  {
   "cell_type": "code",
   "execution_count": 79,
   "outputs": [
    {
     "data": {
      "text/plain": "<Figure size 432x288 with 1 Axes>",
      "image/png": "[encoded data removed]"
     },
     "metadata": {
      "needs_background": "light"
     },
     "output_type": "display_data"
    }
   ],
   "source": [
    "# q-q plot\n",
    "qqplot(x.score, line='s')\n",
    "pyplot.show()"
   ],
   "metadata": {
    "collapsed": false,
    "pycharm": {
     "name": "#%%\n"
    }
   }
  },
  {
   "cell_type": "markdown",
   "source": [
    "histogram of scores"
   ],
   "metadata": {
    "collapsed": false,
    "pycharm": {
     "name": "#%% md\n"
    }
   }
  },
  {
   "cell_type": "code",
   "execution_count": 80,
   "outputs": [
    {
     "data": {
      "text/plain": "array([[<AxesSubplot:title={'center':'score'}>]], dtype=object)"
     },
     "execution_count": 80,
     "metadata": {},
     "output_type": "execute_result"
    },
    {
     "data": {
      "text/plain": "<Figure size 432x288 with 1 Axes>",
      "image/png": "[encoded data removed]"
     },
     "metadata": {
      "needs_background": "light"
     },
     "output_type": "display_data"
    }
   ],
   "source": [
    "x[ x['assessment_id'] == 748408 ].hist('score')"
   ],
   "metadata": {
    "collapsed": false,
    "pycharm": {
     "name": "#%%\n"
    }
   }
  },
  {
   "cell_type": "code",
   "execution_count": 50,
   "outputs": [],
   "source": [],
   "metadata": {
    "collapsed": false,
    "pycharm": {
     "name": "#%%\n"
    }
   }
  }
 ],
 "metadata": {
  "kernelspec": {
   "display_name": "Python 3",
   "language": "python",
   "name": "python3"
  },
  "language_info": {
   "codemirror_mode": {
    "name": "ipython",
    "version": 2
   },
   "file_extension": ".py",
   "mimetype": "text/x-python",
   "name": "python",
   "nbconvert_exporter": "python",
   "pygments_lexer": "ipython2",
   "version": "2.7.6"
  }
 },
 "nbformat": 4,
 "nbformat_minor": 0
}