{
 "cells": [
  {
   "cell_type": "markdown",
   "metadata": {
    "pycharm": {
     "name": "#%% md\n"
    }
   },
   "source": [
    "## Investigation\n",
    "\n",
    "- Focusing mainly on assessment item (ai) and assessment attempt (aa)\n",
    "- Specifically:\n",
    "  - assignment_final_submission_date\n",
    "  - assignment_due_date\n",
    "  - item_attempt_end_datetime_utc\n",
    "  - item_attempt_start_datetime_utc\n",
    "  - student_stop_datetime\n",
    "  - student_start_datetime\n",
    "  - item_type_code_name\n",
    "  - number_of_distinct_instance_items\n",
    "  - raw_score\n",
    "\n",
    "\n",
    "### [Investigate binary variables assignment_attempt_number and assignment_max_attempts](./investigation/attempt-number-vs-max.ipynb)\n",
    "\n",
    "### [Investigate unassigned in response_correctness](./investigation/unassigned-in-response-correctness.ipynb)\n",
    "\n",
    "### [Investigate null values in response_correctness](./investigation/null-in-response-correctness.ipynb)\n",
    "\n",
    "### [Investigate null values in raw_score](./investigation/null-in-raw-score.ipynb)\n",
    "\n",
    "### [Investigate number_of_learners > 40 outliers](./investigation/num-learners-over-40.ipynb)\n",
    "\n",
    "### [Investigate zero values in raw_score](./investigation/investigate-zero-values-in-raw-score.ipynb)\n",
    "\n",
    "### [Investigate final_score_unweighted zero values](./investigation/final-score-unweighted-zero-values.ipynb)\n",
    "\n",
    "### [Investigate null student and scored dates](./investigation/investigate-null-student-and-scored-dates.ipynb)\n",
    "\n",
    "### [Investigate null assignment dates](./investigation/investigate-null-assignment-dates.ipynb)\n",
    "\n",
    "### [Investigate null dates in scored_datetime](./investigation/investigate-null-dates-in-scored-datetime.ipynb)\n",
    "\n",
    "### [Investigate null dates in was_in_progress_datetime](./investigation/investigate-null-dates-in-was-in-progress-datetime.ipynb)\n",
    "\n",
    "### [Investigate null dates in was_submitted_datetime_actual](./investigation/investigate-null-dates-in-was-submitted-datetime-actual.ipynb)\n",
    "\n",
    "### [Investigate attempt stop dates before start date](./investigation/investigate-attempt-stop-dates-before-start-dates.ipynb)\n",
    "\n",
    "### [Investigate max durations outliers in item attempt times](./investigation/investigate-max-durations-outliers-in-item-attempt-times.ipynb)\n",
    "\n",
    "### [Investigate max durations outliers in student attempt times](./investigation/investigate-max-durations-outliers-in-student-attempt-times.ipynb)\n",
    "\n",
    "### [Investigate timeliness durations min and max outliers](./investigation/investigate-timeliness-durations-min-and-max-outliers.ipynb)\n",
    "\n",
    "### [Investigate [unassigned] in scoring_type_code](./investigation/investigate-unassigned-in-scoring_type_code.ipynb)\n",
    "\n"
   ]
  }
 ],
 "metadata": {
  "kernelspec": {
   "display_name": "Python 3",
   "language": "python",
   "name": "python3"
  },
  "language_info": {
   "codemirror_mode": {
    "name": "ipython",
    "version": 3
   },
   "file_extension": ".py",
   "mimetype": "text/x-python",
   "name": "python",
   "nbconvert_exporter": "python",
   "pygments_lexer": "ipython3",
   "version": "3.6.3"
  },
  "name": "C772 Capstone Investigation Sub-Notebook",
  "notebookId": 1125508361365702
 },
 "nbformat": 4,
 "nbformat_minor": 1
}