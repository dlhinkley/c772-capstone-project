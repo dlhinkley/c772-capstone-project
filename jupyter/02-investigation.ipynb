{
 "cells": [
  {
   "cell_type": "markdown",
   "metadata": {
    "pycharm": {
     "name": "#%% md\n"
    }
   },
   "source": [
    "## Investigation\n",
    "\n",
    "- Focusing mainly on assessment item (ai) and assessment attempt (aa)\n",
    "- Specifically:\n",
    "  - assignment_final_submission_date\n",
    "  - assignment_due_date\n",
    "  - item_attempt_end_datetime_utc\n",
    "  - item_attempt_start_datetime_utc\n",
    "  - student_stop_datetime\n",
    "  - student_start_datetime\n",
    "  - item_type_code_name\n",
    "  - number_of_distinct_instance_items\n",
    "  - raw_score\n",
    "\n",
    "\n",
    "### [Investigate binary variables assignment_attempt_number and assignment_max_attempts](./investigation/attempt-number-vs-max.ipynb)\n",
    "\n",
    "### [Investigate 1566 unassigned in response_correctness](./investigation/1566-unassigned-in-response-correctness.ipynb)\n",
    "\n",
    "### [Investigate 3298 null values in response_correctness](./investigation/3298-null-in-response-correctness.ipynb)\n",
    "\n",
    "### [Investigate null values in raw_score](./investigation/null-in-raw-score.ipynb)\n",
    "\n",
    "### [Investigate null values in item_type_code_name](./investigation/item-type-code-name-nulls.ipynb)\n",
    "\n",
    "### [Investigate number_of_learners > 40 outliers](./investigation/num-learners-over-40.ipynb)\n",
    "\n",
    "### [Investigate 31084 zero values in raw_score](./investigation/investigate-31084-zero-values-in-raw-score.ipynb)\n",
    "\n",
    "### [Investigate final_score_unweighted zero values](./investigation/final-score-unweighted-zero-values.ipynb)\n",
    "\n",
    "### [Investigate 1566 null dates](./investigation/investigate-1566-null-dates.ipynb)\n",
    "\n",
    "### [Investigate 749 to 750 null dates](./investigation/investigate-749-to-750-null-dates.ipynb)\n",
    "\n",
    "### [Investigate 3422 null dates in scored_datetime](./investigation/investigate-3422-null-dates-in-scored-datetime.ipynb)\n",
    "\n",
    "### [Investigate 9965 null dates in was_in_progress_datetime](./investigation/investigate-9965-null-dates-in-was-in-progress-datetime.ipynb)\n",
    "\n",
    "### [Investigate 18469 null dates in was_submitted_datetime_actual](./investigation/investigate-18469-null-dates-in-was-submitted-datetime-actual.ipynb)\n",
    "\n",
    "### [Investigate 14999 null dates in item attempt dates](./investigation/investigate-14999-null-dates-in-item-attempt-dates.ipynb)\n",
    "\n",
    "### [Investigate 15710 null assessment_item_response_id](./investigation/investigate-15710-null-assessment-item-response-id.ipynb)\n",
    "\n"
   ]
  },
  {
   "cell_type": "code",
   "execution_count": null,
   "metadata": {
    "pycharm": {
     "name": "#%%\n"
    }
   },
   "outputs": [],
   "source": []
  }
 ],
 "metadata": {
  "kernelspec": {
   "display_name": "Python 3",
   "language": "python",
   "name": "python3"
  },
  "language_info": {
   "codemirror_mode": {
    "name": "ipython",
    "version": 3
   },
   "file_extension": ".py",
   "mimetype": "text/x-python",
   "name": "python",
   "nbconvert_exporter": "python",
   "pygments_lexer": "ipython3",
   "version": "3.6.3"
  },
  "name": "C772 Capstone Investigation Sub-Notebook",
  "notebookId": 1125508361365702
 },
 "nbformat": 4,
 "nbformat_minor": 1
}