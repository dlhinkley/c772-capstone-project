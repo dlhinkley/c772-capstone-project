{
 "cells": [
  {
   "cell_type": "markdown",
   "metadata": {
    "pycharm": {
     "name": "#%% md\n"
    }
   },
   "source": [
    "## Investigation"
   ]
  },
  {
   "cell_type": "code",
   "execution_count": 1,
   "metadata": {
    "pycharm": {
     "name": "#%%\n"
    },
    "scrolled": true
   },
   "outputs": [
    {
     "name": "stdout",
     "output_type": "stream",
     "text": [
      "dython              0.6.1\n",
      "tinydb              4.2.0\n"
     ]
    }
   ],
   "source": [
    "%run './lib/libraries.ipynb'"
   ]
  },
  {
   "cell_type": "code",
   "execution_count": 2,
   "metadata": {
    "pycharm": {
     "name": "#%%\n"
    }
   },
   "outputs": [],
   "source": [
    "dfFlt  = load_df('dfFlt')"
   ]
  },
  {
   "cell_type": "code",
   "execution_count": 3,
   "metadata": {
    "pycharm": {
     "name": "#%%\n"
    },
    "scrolled": true
   },
   "outputs": [
    {
     "name": "stdout",
     "output_type": "stream",
     "text": [
      "{'todo': 'Investigate 3298 null values in response_correctness', 'finished': False}\n",
      "{'todo': 'Investigate 1566 [unassigned] in response_correctness', 'finished': False}\n",
      "{'todo': 'Investigate null values in item_type_code_name', 'finished': False}\n",
      "{'todo': 'Reduce number of levels in item_type_code_name', 'finished': False}\n",
      "{'todo': 'Remove unary learner_attempt_status = \"fully scored\"', 'finished': False}\n",
      "{'todo': 'Investigate number_of_learners > 40 outliers', 'finished': False}\n",
      "{'todo': 'Investigate binary variables assignment_attempt_number and assignment_max_attempts', 'finished': False}\n",
      "{'todo': 'Investigate assignment_attempt_number and assignment_max_attempts both have 1566 values', 'finished': False}\n",
      "{'todo': 'Investigate final_score_unweighted has 16,582 zero values', 'finished': False}\n",
      "{'todo': 'Investigate why some dates are null', 'finished': False}\n",
      "{'todo': 'Remove variables assignment_late_submission, is_manual_scoring_required and is_deleted', 'finished': False}\n"
     ]
    }
   ],
   "source": [
    "list_todo()\n"
   ]
  },
  {
   "cell_type": "markdown",
   "metadata": {
    "pycharm": {
     "name": "#%% md\n"
    }
   },
   "source": [
    "### [Investigate binary variables assignment_attempt_number and assignment_max_attempts](./investigation/attempt-number-vs-max.ipynb)"
   ]
  },
  {
   "cell_type": "markdown",
   "metadata": {
    "pycharm": {
     "name": "#%% md\n"
    }
   },
   "source": [
    "### [Investigate 1566 [unassigned] in response_correctness](./investigation/1566-unassigned-in-response-correctness.ipynb)"
   ]
  },
  {
   "cell_type": "markdown",
   "metadata": {
    "pycharm": {
     "name": "#%% md\n"
    }
   },
   "source": [
    "### [Investigate 3298 null values in response_correctness](./investigation/3298-null-in-response-correctness.ipynb)"
   ]
  },
  {
   "cell_type": "markdown",
   "metadata": {
    "pycharm": {
     "name": "#%% md\n"
    }
   },
   "source": [
    "### [Investigate null values in item_type_code_name](./investigation/item-type-code-name-nulls.ipynb)"
   ]
  },
  {
   "cell_type": "markdown",
   "metadata": {},
   "source": [
    "### [Investigate number_of_learners > 40 outliers](./investigation/num-learners-over-40.ipynb)"
   ]
  },
  {
   "cell_type": "code",
   "execution_count": 6,
   "metadata": {
    "pycharm": {
     "name": "#%%\n"
    }
   },
   "outputs": [
    {
     "name": "stdout",
     "output_type": "stream",
     "text": [
      "{'todo': 'Investigate 3298 null values in response_correctness', 'finished': True}\n",
      "{'todo': 'Investigate 1566 [unassigned] in response_correctness', 'finished': True}\n",
      "{'todo': 'Investigate null values in item_type_code_name', 'finished': True}\n",
      "{'todo': 'Reduce number of levels in item_type_code_name', 'finished': False}\n",
      "{'todo': 'Remove unary learner_attempt_status = \"fully scored\"', 'finished': False}\n",
      "{'todo': 'Investigate number_of_learners > 40 outliers', 'finished': True}\n",
      "{'todo': 'Investigate binary variables assignment_attempt_number and assignment_max_attempts', 'finished': True}\n",
      "{'todo': 'Investigate assignment_attempt_number and assignment_max_attempts both have 1566 values', 'finished': True}\n",
      "{'todo': 'Investigate final_score_unweighted has 16,582 zero values', 'finished': False}\n",
      "{'todo': 'Investigate why some dates are null', 'finished': False}\n",
      "{'todo': 'Remove variables assignment_late_submission, is_manual_scoring_required and is_deleted', 'finished': False}\n",
      "{'todo': 'Impute number_of_learners with calculated values', 'finished': False}\n",
      "{'todo': 'Remove 3298 null values in response_correctness', 'finished': False}\n",
      "{'todo': 'Remove 1566 [unassigned] in response_correctness', 'finished': False}\n",
      "{'todo': 'Remove assignment_attempt_number and assignment_max_attempts', 'finished': False}\n"
     ]
    }
   ],
   "source": [
    "list_todo()"
   ]
  },
  {
   "cell_type": "markdown",
   "source": [
    "### [Investigate final_score_unweighted has 16,582 zero values](./investigation/final-score-unweighted-zero-values.ipynb)"
   ],
   "metadata": {
    "collapsed": false,
    "pycharm": {
     "name": "#%% md\n"
    }
   }
  },
  {
   "cell_type": "markdown",
   "source": [
    "### [Investigate 1566 null dates](./investigation/investigate-1566-null-dates.ipynb)"
   ],
   "metadata": {
    "collapsed": false
   }
  },
  {
   "cell_type": "markdown",
   "source": [
    "### [Investigate 749 to 750 null dates](./investigation/investigate-749-to-750-null-dates.ipynb)"
   ],
   "metadata": {
    "collapsed": false
   }
  },
  {
   "cell_type": "markdown",
   "source": [
    "### [Investigate 3422 null dates in scored_datetime](./investigation/investigate-3422-null dates-in-scored-datetime.ipynb)"
   ],
   "metadata": {
    "collapsed": false
   }
  },
  {
   "cell_type": "markdown",
   "source": [
    "### [Investigate 9965 null dates in was_in_progress_datetime](./investigation/investigate-9965-null-dates-in-was-in-progress-datetime.ipynb)"
   ],
   "metadata": {
    "collapsed": false
   }
  },
  {
   "cell_type": "markdown",
   "source": [
    "### [Investigate 18469 null dates in was_submitted_datetime_actual](./investigation/investigate-18469-null-dates-in was-submitted-datetime-actual.ipynb)\n",
    "\n",
    "### [Investigate 15710 null assessment_item_response_id](./investigation/investigate-15710-null-assessment-item-response-id.ipynb)"
   ],
   "metadata": {
    "collapsed": false,
    "pycharm": {
     "name": "#%% md\n"
    }
   }
  },
  {
   "cell_type": "markdown",
   "metadata": {},
   "source": [
    "###### Statistics of final_score_unweighted to item_type_code_name = Null"
   ]
  },
  {
   "cell_type": "code",
   "execution_count": 5,
   "metadata": {
    "pycharm": {
     "name": "#%%\n"
    }
   },
   "outputs": [
    {
     "ename": "NameError",
     "evalue": "name 'dfInv' is not defined",
     "output_type": "error",
     "traceback": [
      "\u001B[0;31m---------------------------------------------------------------------------\u001B[0m",
      "\u001B[0;31mNameError\u001B[0m                                 Traceback (most recent call last)",
      "\u001B[0;32m<ipython-input-5-b8559ecabbe0>\u001B[0m in \u001B[0;36m<module>\u001B[0;34m\u001B[0m\n\u001B[0;32m----> 1\u001B[0;31m \u001B[0mdfInv\u001B[0m\u001B[0;34m.\u001B[0m\u001B[0mfilter\u001B[0m\u001B[0;34m(\u001B[0m\u001B[0mF\u001B[0m\u001B[0;34m.\u001B[0m\u001B[0mcol\u001B[0m\u001B[0;34m(\u001B[0m\u001B[0;34m\"item_type_code_name\"\u001B[0m\u001B[0;34m)\u001B[0m\u001B[0;34m.\u001B[0m\u001B[0misNull\u001B[0m\u001B[0;34m(\u001B[0m\u001B[0;34m)\u001B[0m \u001B[0;34m==\u001B[0m \u001B[0;32mTrue\u001B[0m\u001B[0;34m)\u001B[0m\u001B[0;34m.\u001B[0m\u001B[0mselect\u001B[0m\u001B[0;34m(\u001B[0m\u001B[0;34m\"final_score_unweighted\"\u001B[0m\u001B[0;34m)\u001B[0m\u001B[0;34m.\u001B[0m\u001B[0mtoPandas\u001B[0m\u001B[0;34m(\u001B[0m\u001B[0;34m)\u001B[0m\u001B[0;34m.\u001B[0m\u001B[0mhist\u001B[0m\u001B[0;34m(\u001B[0m\u001B[0mbins\u001B[0m\u001B[0;34m=\u001B[0m\u001B[0;36m60\u001B[0m\u001B[0;34m)\u001B[0m\u001B[0;34m\u001B[0m\u001B[0m\n\u001B[0m\u001B[1;32m      2\u001B[0m \u001B[0;34m\u001B[0m\u001B[0m\n",
      "\u001B[0;31mNameError\u001B[0m: name 'dfInv' is not defined"
     ]
    }
   ],
   "source": [
    "dfInv.filter(F.col(\"item_type_code_name\").isNull() == True).select(\"final_score_unweighted\").toPandas().hist(bins=60)"
   ]
  },
  {
   "cell_type": "markdown",
   "metadata": {},
   "source": [
    "- Strongly correlated to a final_score_unweighted of 0"
   ]
  },
  {
   "cell_type": "code",
   "execution_count": null,
   "metadata": {
    "pycharm": {
     "name": "#%%\n"
    }
   },
   "outputs": [],
   "source": [
    "finish_todo('Investigate null values in item_type_code_name')\n",
    "\n",
    "\n"
   ]
  }
 ],
 "metadata": {
  "kernelspec": {
   "display_name": "Python 3",
   "language": "python",
   "name": "python3"
  },
  "language_info": {
   "codemirror_mode": {
    "name": "ipython",
    "version": 3
   },
   "file_extension": ".py",
   "mimetype": "text/x-python",
   "name": "python",
   "nbconvert_exporter": "python",
   "pygments_lexer": "ipython3",
   "version": "3.6.3"
  },
  "name": "C772 Capstone Investigation Sub-Notebook",
  "notebookId": 1125508361365702
 },
 "nbformat": 4,
 "nbformat_minor": 1
}