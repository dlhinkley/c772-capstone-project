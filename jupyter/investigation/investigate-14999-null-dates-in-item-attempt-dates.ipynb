{
 "cells": [
  {
   "cell_type": "markdown",
   "source": [
    "### Investigate 14999 null dates in item attempt dates"
   ],
   "metadata": {
    "collapsed": false
   }
  },
  {
   "cell_type": "code",
   "execution_count": 7,
   "outputs": [
    {
     "name": "stdout",
     "output_type": "stream",
     "text": [
      "dython              0.6.1\n",
      "tinydb              4.2.0\n"
     ]
    },
    {
     "name": "stderr",
     "output_type": "stream",
     "text": [
      "WARNING: You are using pip version 20.2.3; however, version 20.2.4 is available.\n",
      "You should consider upgrading via the '/Users/duane.hinkley/PycharmProjects/c772-capstone-project/venv/bin/python -m pip install --upgrade pip' command.\n",
      "WARNING: You are using pip version 20.2.3; however, version 20.2.4 is available.\n",
      "You should consider upgrading via the '/Users/duane.hinkley/PycharmProjects/c772-capstone-project/venv/bin/python -m pip install --upgrade pip' command.\n"
     ]
    }
   ],
   "source": [
    "%run '../lib/libraries.ipynb'"
   ],
   "metadata": {
    "collapsed": false,
    "pycharm": {
     "name": "#%%\n"
    }
   }
  },
  {
   "cell_type": "code",
   "execution_count": 11,
   "outputs": [],
   "source": [
    "dfFlt  = load_df('dfFlt')\n",
    "types = get_var_types()"
   ],
   "metadata": {
    "collapsed": false,
    "pycharm": {
     "name": "#%%\n"
    }
   }
  },
  {
   "cell_type": "markdown",
   "source": [
    "###### Create Dataframe of null observations"
   ],
   "metadata": {
    "collapsed": false
   }
  },
  {
   "cell_type": "code",
   "execution_count": 9,
   "outputs": [
    {
     "data": {
      "text/plain": "14999"
     },
     "execution_count": 9,
     "metadata": {},
     "output_type": "execute_result"
    }
   ],
   "source": [
    "nullDf = dfFlt.filter(F.col('item_attempt_start_datetime_utc').isNull())\n",
    "nullDf.count()"
   ],
   "metadata": {
    "collapsed": false,
    "pycharm": {
     "name": "#%%\n"
    }
   }
  },
  {
   "cell_type": "markdown",
   "source": [
    "Dataframe contains the 14,999 null item_attempt_start_datetime_utc\n",
    "\n",
    "\n",
    "###### Display distinct values"
   ],
   "metadata": {
    "collapsed": false
   }
  },
  {
   "cell_type": "code",
   "execution_count": 10,
   "outputs": [
    {
     "data": {
      "text/plain": "                                       0\nassignment_max_attempts                1\nassignment_late_submission         False\nassignment_attempt_number              1\nis_manual_scoring_required         False\nlearner_attempt_status      fully scored\nis_deleted                         False",
      "text/html": "<div>\n<style scoped>\n    .dataframe tbody tr th:only-of-type {\n        vertical-align: middle;\n    }\n\n    .dataframe tbody tr th {\n        vertical-align: top;\n    }\n\n    .dataframe thead th {\n        text-align: right;\n    }\n</style>\n<table border=\"1\" class=\"dataframe\">\n  <thead>\n    <tr style=\"text-align: right;\">\n      <th></th>\n      <th>0</th>\n    </tr>\n  </thead>\n  <tbody>\n    <tr>\n      <th>assignment_max_attempts</th>\n      <td>1</td>\n    </tr>\n    <tr>\n      <th>assignment_late_submission</th>\n      <td>False</td>\n    </tr>\n    <tr>\n      <th>assignment_attempt_number</th>\n      <td>1</td>\n    </tr>\n    <tr>\n      <th>is_manual_scoring_required</th>\n      <td>False</td>\n    </tr>\n    <tr>\n      <th>learner_attempt_status</th>\n      <td>fully scored</td>\n    </tr>\n    <tr>\n      <th>is_deleted</th>\n      <td>False</td>\n    </tr>\n  </tbody>\n</table>\n</div>"
     },
     "execution_count": 10,
     "metadata": {},
     "output_type": "execute_result"
    }
   ],
   "source": [
    "distinct_val(nullDf)"
   ],
   "metadata": {
    "collapsed": false,
    "pycharm": {
     "name": "#%%\n"
    }
   }
  },
  {
   "cell_type": "markdown",
   "source": [
    "- No new values"
   ],
   "metadata": {
    "collapsed": false
   }
  },
  {
   "cell_type": "markdown",
   "source": [
    "###### Display counts of dates"
   ],
   "metadata": {
    "collapsed": false,
    "pycharm": {
     "name": "#%% md\n"
    }
   }
  },
  {
   "cell_type": "code",
   "execution_count": 12,
   "outputs": [
    {
     "name": "stdout",
     "output_type": "stream",
     "text": [
      "assignment_due_date\n",
      "+------+----+-------------------+-------------------+\n",
      "|unique|null|min                |max                |\n",
      "+------+----+-------------------+-------------------+\n",
      "|190   |1566|2019-08-23 04:59:00|2020-05-26 04:59:00|\n",
      "+------+----+-------------------+-------------------+\n",
      "\n",
      "assignment_final_submission_date\n",
      "+------+----+-------------------+-------------------+\n",
      "|unique|null|min                |max                |\n",
      "+------+----+-------------------+-------------------+\n",
      "|199   |1566|2019-08-23 04:59:00|2020-06-05 04:59:00|\n",
      "+------+----+-------------------+-------------------+\n",
      "\n",
      "assignment_start_date\n",
      "+------+----+-------------------+-------------------+\n",
      "|unique|null|min                |max                |\n",
      "+------+----+-------------------+-------------------+\n",
      "|206   |1566|2019-08-21 05:00:00|2020-05-19 05:00:00|\n",
      "+------+----+-------------------+-------------------+\n",
      "\n",
      "item_attempt_end_datetime_utc\n",
      "+------+-----+-----------------------+-----------------------+\n",
      "|unique|null |min                    |max                    |\n",
      "+------+-----+-----------------------+-----------------------+\n",
      "|64747 |14999|2019-08-23 14:14:49.339|2020-05-26 04:00:11.393|\n",
      "+------+-----+-----------------------+-----------------------+\n",
      "\n",
      "item_attempt_start_datetime_utc\n",
      "+------+-----+-------------------+-------------------+\n",
      "|unique|null |min                |max                |\n",
      "+------+-----+-------------------+-------------------+\n",
      "|60182 |14999|2019-08-23 14:11:53|2020-05-26 03:56:13|\n",
      "+------+-----+-------------------+-------------------+\n",
      "\n",
      "max_student_stop_datetime\n",
      "+------+----+-----------------------+-----------------------+\n",
      "|unique|null|min                    |max                    |\n",
      "+------+----+-----------------------+-----------------------+\n",
      "|521   |0   |2019-08-22 04:06:27.518|2020-05-26 04:59:17.367|\n",
      "+------+----+-----------------------+-----------------------+\n",
      "\n",
      "min_student_start_datetime\n",
      "+------+----+-----------------------+-----------------------+\n",
      "|unique|null|min                    |max                    |\n",
      "+------+----+-----------------------+-----------------------+\n",
      "|613   |0   |2019-08-21 23:33:10.917|2020-05-20 06:15:00.043|\n",
      "+------+----+-----------------------+-----------------------+\n",
      "\n",
      "scored_datetime\n",
      "+------+----+-------------------+-------------------+\n",
      "|unique|null|min                |max                |\n",
      "+------+----+-------------------+-------------------+\n",
      "|7187  |3422|2019-08-21 19:37:58|2020-05-25 21:59:53|\n",
      "+------+----+-------------------+-------------------+\n",
      "\n",
      "student_start_datetime\n",
      "+------+----+-----------------------+-----------------------+\n",
      "|unique|null|min                    |max                    |\n",
      "+------+----+-----------------------+-----------------------+\n",
      "|7385  |749 |2019-08-22 01:57:32.893|2020-05-26 04:59:17.367|\n",
      "+------+----+-----------------------+-----------------------+\n",
      "\n",
      "student_stop_datetime\n",
      "+------+----+-----------------------+-----------------------+\n",
      "|unique|null|min                    |max                    |\n",
      "+------+----+-----------------------+-----------------------+\n",
      "|7127  |749 |2019-08-22 02:37:59.012|2020-05-26 04:59:17.367|\n",
      "+------+----+-----------------------+-----------------------+\n",
      "\n",
      "was_fully_scored_datetime\n",
      "+------+----+-----------------------+-----------------------+\n",
      "|unique|null|min                    |max                    |\n",
      "+------+----+-----------------------+-----------------------+\n",
      "|8587  |750 |2019-08-22 02:37:59.012|2020-05-26 04:59:53.903|\n",
      "+------+----+-----------------------+-----------------------+\n",
      "\n",
      "was_in_progress_datetime\n",
      "+------+----+-----------------------+-----------------------+\n",
      "|unique|null|min                    |max                    |\n",
      "+------+----+-----------------------+-----------------------+\n",
      "|7319  |9965|2019-08-22 01:57:32.893|2020-05-26 03:30:53.599|\n",
      "+------+----+-----------------------+-----------------------+\n",
      "\n",
      "was_submitted_datetime_actual\n",
      "+------+-----+-----------------------+-----------------------+\n",
      "|unique|null |min                    |max                    |\n",
      "+------+-----+-----------------------+-----------------------+\n",
      "|6545  |18469|2019-08-22 13:09:24.898|2020-05-26 04:00:13.372|\n",
      "+------+-----+-----------------------+-----------------------+\n",
      "\n"
     ]
    }
   ],
   "source": [
    "date_min_max_null_unique(dfFlt, types['intervalVars'])"
   ],
   "metadata": {
    "collapsed": false,
    "pycharm": {
     "name": "#%%\n"
    }
   }
  },
  {
   "cell_type": "markdown",
   "source": [
    "###### Common observations with null was_submitted_datetime_actual"
   ],
   "metadata": {
    "collapsed": false,
    "pycharm": {
     "name": "#%% md\n"
    }
   }
  },
  {
   "cell_type": "code",
   "execution_count": 13,
   "outputs": [
    {
     "data": {
      "text/plain": "13994"
     },
     "execution_count": 13,
     "metadata": {},
     "output_type": "execute_result"
    }
   ],
   "source": [
    "nullDf.filter(F.col('was_submitted_datetime_actual').isNull()).count()"
   ],
   "metadata": {
    "collapsed": false,
    "pycharm": {
     "name": "#%%\n"
    }
   }
  },
  {
   "cell_type": "markdown",
   "source": [
    "- 13994 in common"
   ],
   "metadata": {
    "collapsed": false,
    "pycharm": {
     "name": "#%% md\n"
    }
   }
  },
  {
   "cell_type": "markdown",
   "source": [
    "###### Common observations with 0 raw_score"
   ],
   "metadata": {
    "collapsed": false
   }
  },
  {
   "cell_type": "code",
   "execution_count": 14,
   "outputs": [
    {
     "data": {
      "text/plain": "11701"
     },
     "execution_count": 14,
     "metadata": {},
     "output_type": "execute_result"
    }
   ],
   "source": [
    "nullDf.filter(F.col('raw_score') == 0).count()"
   ],
   "metadata": {
    "collapsed": false,
    "pycharm": {
     "name": "#%%\n"
    }
   }
  },
  {
   "cell_type": "markdown",
   "source": [
    "- 11701 in common"
   ],
   "metadata": {
    "collapsed": false
   }
  },
  {
   "cell_type": "markdown",
   "source": [
    "#### Conclusion\n",
    "- address with the 15710 null assessment_item_response_id solution"
   ],
   "metadata": {
    "collapsed": false,
    "pycharm": {
     "name": "#%% md\n"
    }
   }
  },
  {
   "cell_type": "code",
   "execution_count": 5,
   "outputs": [],
   "source": [
    "finish_todo('Investigate 14999 null dates in item attempt dates')"
   ],
   "metadata": {
    "collapsed": false,
    "pycharm": {
     "name": "#%%\n"
    }
   }
  },
  {
   "cell_type": "code",
   "execution_count": 5,
   "outputs": [],
   "source": [],
   "metadata": {
    "collapsed": false,
    "pycharm": {
     "name": "#%%\n"
    }
   }
  }
 ],
 "metadata": {
  "kernelspec": {
   "display_name": "Python 3",
   "language": "python",
   "name": "python3"
  },
  "language_info": {
   "codemirror_mode": {
    "name": "ipython",
    "version": 2
   },
   "file_extension": ".py",
   "mimetype": "text/x-python",
   "name": "python",
   "nbconvert_exporter": "python",
   "pygments_lexer": "ipython2",
   "version": "2.7.6"
  }
 },
 "nbformat": 4,
 "nbformat_minor": 0
}