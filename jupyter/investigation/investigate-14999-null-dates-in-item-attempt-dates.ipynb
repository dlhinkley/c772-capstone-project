{
 "cells": [
  {
   "cell_type": "markdown",
   "source": [
    "### Investigate 14999 null dates in item attempt dates"
   ],
   "metadata": {
    "collapsed": false
   }
  },
  {
   "cell_type": "code",
   "execution_count": 1,
   "outputs": [
    {
     "name": "stdout",
     "output_type": "stream",
     "text": [
      "dython              0.6.1\n",
      "tinydb              4.2.0\n"
     ]
    },
    {
     "name": "stderr",
     "output_type": "stream",
     "text": [
      "WARNING: You are using pip version 20.2.3; however, version 20.2.4 is available.\n",
      "You should consider upgrading via the '/Users/duane.hinkley/PycharmProjects/c772-capstone-project/venv/bin/python -m pip install --upgrade pip' command.\n",
      "WARNING: You are using pip version 20.2.3; however, version 20.2.4 is available.\n",
      "You should consider upgrading via the '/Users/duane.hinkley/PycharmProjects/c772-capstone-project/venv/bin/python -m pip install --upgrade pip' command.\n"
     ]
    }
   ],
   "source": [
    "%run '../lib/libraries.ipynb'"
   ],
   "metadata": {
    "collapsed": false,
    "pycharm": {
     "name": "#%%\n"
    }
   }
  },
  {
   "cell_type": "code",
   "execution_count": 2,
   "outputs": [],
   "source": [
    "dfFlt  = load_df('dfFlt')"
   ],
   "metadata": {
    "collapsed": false,
    "pycharm": {
     "name": "#%%\n"
    }
   }
  },
  {
   "cell_type": "markdown",
   "source": [
    "###### Create Dataframe of null observations"
   ],
   "metadata": {
    "collapsed": false
   }
  },
  {
   "cell_type": "code",
   "execution_count": 3,
   "outputs": [
    {
     "data": {
      "text/plain": "14999"
     },
     "execution_count": 3,
     "metadata": {},
     "output_type": "execute_result"
    }
   ],
   "source": [
    "nullDf = dfFlt.filter(F.col('item_attempt_start_datetime_utc').isNull())\n",
    "nullDf.count()"
   ],
   "metadata": {
    "collapsed": false,
    "pycharm": {
     "name": "#%%\n"
    }
   }
  },
  {
   "cell_type": "markdown",
   "source": [
    "Dataframe contains the 14,999 null item_attempt_start_datetime_utc\n",
    "\n",
    "\n",
    "###### Display distinct values"
   ],
   "metadata": {
    "collapsed": false
   }
  },
  {
   "cell_type": "code",
   "execution_count": 4,
   "outputs": [
    {
     "data": {
      "text/plain": "                                            0\nassignment_max_attempts                     1\nassignment_late_submission              False\nassignment_attempt_number                   1\nis_manual_scoring_required              False\nlearner_attempt_status           fully scored\nitem_attempt_start_datetime_utc           NaT\nitem_attempt_end_datetime_utc             NaT\nis_deleted                              False\nassessment_item_response_id               NaN",
      "text/html": "<div>\n<style scoped>\n    .dataframe tbody tr th:only-of-type {\n        vertical-align: middle;\n    }\n\n    .dataframe tbody tr th {\n        vertical-align: top;\n    }\n\n    .dataframe thead th {\n        text-align: right;\n    }\n</style>\n<table border=\"1\" class=\"dataframe\">\n  <thead>\n    <tr style=\"text-align: right;\">\n      <th></th>\n      <th>0</th>\n    </tr>\n  </thead>\n  <tbody>\n    <tr>\n      <th>assignment_max_attempts</th>\n      <td>1</td>\n    </tr>\n    <tr>\n      <th>assignment_late_submission</th>\n      <td>False</td>\n    </tr>\n    <tr>\n      <th>assignment_attempt_number</th>\n      <td>1</td>\n    </tr>\n    <tr>\n      <th>is_manual_scoring_required</th>\n      <td>False</td>\n    </tr>\n    <tr>\n      <th>learner_attempt_status</th>\n      <td>fully scored</td>\n    </tr>\n    <tr>\n      <th>item_attempt_start_datetime_utc</th>\n      <td>NaT</td>\n    </tr>\n    <tr>\n      <th>item_attempt_end_datetime_utc</th>\n      <td>NaT</td>\n    </tr>\n    <tr>\n      <th>is_deleted</th>\n      <td>False</td>\n    </tr>\n    <tr>\n      <th>assessment_item_response_id</th>\n      <td>NaN</td>\n    </tr>\n  </tbody>\n</table>\n</div>"
     },
     "execution_count": 4,
     "metadata": {},
     "output_type": "execute_result"
    }
   ],
   "source": [
    "distinct_val(nullDf)"
   ],
   "metadata": {
    "collapsed": false,
    "pycharm": {
     "name": "#%%\n"
    }
   }
  },
  {
   "cell_type": "markdown",
   "source": [
    "- assessment_item_response_id is also null\n",
    "- subset of the 15710 null assessment_item_response_id\n",
    "\n",
    "#### Conslusion\n",
    "- address with the 15710 null assessment_item_response_id solution"
   ],
   "metadata": {
    "collapsed": false
   }
  },
  {
   "cell_type": "code",
   "execution_count": null,
   "outputs": [],
   "source": [
    "finish_todo('Investigate 14999 null dates in item attempt dates')"
   ],
   "metadata": {
    "collapsed": false,
    "pycharm": {
     "name": "#%%\n"
    }
   }
  },
  {
   "cell_type": "code",
   "execution_count": null,
   "outputs": [],
   "source": [],
   "metadata": {
    "collapsed": false,
    "pycharm": {
     "name": "#%%\n"
    }
   }
  }
 ],
 "metadata": {
  "kernelspec": {
   "display_name": "Python 3",
   "language": "python",
   "name": "python3"
  },
  "language_info": {
   "codemirror_mode": {
    "name": "ipython",
    "version": 2
   },
   "file_extension": ".py",
   "mimetype": "text/x-python",
   "name": "python",
   "nbconvert_exporter": "python",
   "pygments_lexer": "ipython2",
   "version": "2.7.6"
  }
 },
 "nbformat": 4,
 "nbformat_minor": 0
}