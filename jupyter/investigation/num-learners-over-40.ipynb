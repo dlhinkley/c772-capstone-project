{
 "cells": [
  {
   "cell_type": "markdown",
   "metadata": {},
   "source": [
    "### Investigate number_of_learners > 40 outliers\n",
    "\n",
    "Problem:\n",
    "\n",
    "number_of_learners is normally distributed with a large number\n",
    "of outliers over 40"
   ]
  },
  {
   "cell_type": "code",
   "execution_count": 1,
   "metadata": {
    "execution": {
     "iopub.execute_input": "2020-10-28T01:26:30.290191Z",
     "iopub.status.busy": "2020-10-28T01:26:30.286495Z",
     "iopub.status.idle": "2020-10-28T01:26:38.573830Z",
     "shell.execute_reply": "2020-10-28T01:26:38.574521Z"
    },
    "pycharm": {
     "name": "#%%\n"
    }
   },
   "outputs": [],
   "source": [
    "%%capture\n",
    "\n",
    "%run '../lib/libraries.ipynb'"
   ]
  },
  {
   "cell_type": "code",
   "execution_count": 2,
   "metadata": {
    "execution": {
     "iopub.execute_input": "2020-10-28T01:26:38.581013Z",
     "iopub.status.busy": "2020-10-28T01:26:38.579686Z",
     "iopub.status.idle": "2020-10-28T01:26:43.547247Z",
     "shell.execute_reply": "2020-10-28T01:26:43.548327Z"
    },
    "pycharm": {
     "name": "#%%\n"
    }
   },
   "outputs": [],
   "source": [
    "filterDf = load_df('filterDf')\n",
    "rawDf = load_df('rawDf')"
   ]
  },
  {
   "cell_type": "markdown",
   "metadata": {
    "pycharm": {
     "name": "#%% md\n"
    }
   },
   "source": [
    "#### Display histogram"
   ]
  },
  {
   "cell_type": "code",
   "execution_count": 3,
   "metadata": {
    "execution": {
     "iopub.execute_input": "2020-10-28T01:26:43.556703Z",
     "iopub.status.busy": "2020-10-28T01:26:43.555259Z",
     "iopub.status.idle": "2020-10-28T01:26:45.989276Z",
     "shell.execute_reply": "2020-10-28T01:26:45.989955Z"
    },
    "pycharm": {
     "name": "#%%\n"
    }
   },
   "outputs": [
    {
     "data": {
      "text/plain": "<Figure size 432x288 with 1 Axes>",
      "image/png": "[encoded data removed]"
     },
     "metadata": {
      "needs_background": "light"
     },
     "output_type": "display_data"
    }
   ],
   "source": [
    "out = filterDf.select('number_of_learners').toPandas().hist()"
   ]
  },
  {
   "cell_type": "markdown",
   "metadata": {
    "pycharm": {
     "name": "#%% md\n"
    }
   },
   "source": [
    "- Just under 10,000 over 40 learners\n",
    "- Normally distributed"
   ]
  },
  {
   "cell_type": "markdown",
   "metadata": {},
   "source": [
    "#### Compare Full vs Filtered Dataset\n",
    "- Is the difference from filtering by Fully Scored?\n",
    "- Filtered dataset is only \"Fully Scored\" observations"
   ]
  },
  {
   "cell_type": "code",
   "execution_count": 4,
   "metadata": {
    "execution": {
     "iopub.execute_input": "2020-10-28T01:26:45.996184Z",
     "iopub.status.busy": "2020-10-28T01:26:45.995124Z",
     "iopub.status.idle": "2020-10-28T01:26:47.187478Z",
     "shell.execute_reply": "2020-10-28T01:26:47.188265Z"
    },
    "pycharm": {
     "name": "#%%\n"
    }
   },
   "outputs": [
    {
     "data": {
      "text/plain": "<Figure size 432x288 with 2 Axes>",
      "image/png": "[encoded data removed]"
     },
     "metadata": {
      "needs_background": "light"
     },
     "output_type": "display_data"
    }
   ],
   "source": [
    "dual_hist(\n",
    "    rawDf.select('number_of_learners').toPandas(),\n",
    "    filterDf.select('number_of_learners').toPandas(),\n",
    "    title1='Raw',\n",
    "    title2='Filtered',\n",
    "    main='Raw vs Filtered Dataset'\n",
    ")"
   ]
  },
  {
   "cell_type": "markdown",
   "metadata": {
    "pycharm": {
     "name": "#%% md\n"
    }
   },
   "source": [
    "- No Difference (except for qty)\n",
    "- Not from filtering"
   ]
  },
  {
   "cell_type": "markdown",
   "metadata": {},
   "source": [
    "#### Filtered Calculated\n",
    "- Add recalculation the number_of_learners"
   ]
  },
  {
   "cell_type": "code",
   "execution_count": 5,
   "metadata": {
    "execution": {
     "iopub.execute_input": "2020-10-28T01:26:47.196605Z",
     "iopub.status.busy": "2020-10-28T01:26:47.194987Z",
     "iopub.status.idle": "2020-10-28T01:26:57.770269Z",
     "shell.execute_reply": "2020-10-28T01:26:57.771333Z"
    },
    "pycharm": {
     "name": "#%%\n"
    }
   },
   "outputs": [
    {
     "data": {
      "text/plain": "<Figure size 432x288 with 2 Axes>",
      "image/png": "[encoded data removed]"
     },
     "metadata": {
      "needs_background": "light"
     },
     "output_type": "display_data"
    }
   ],
   "source": [
    "# Calculate number of learners on Filtered\n",
    "dfCount = filterDf.groupBy('assessment_instance_id', 'number_of_learners').agg(\n",
    "F.countDistinct('learner_id').alias('number_of_learners_calc')\n",
    ")\n",
    "\n",
    "dfPd = dfCount.toPandas()\n",
    "\n",
    "\n",
    "dual_hist(\n",
    "    dfPd['number_of_learners'],\n",
    "    dfPd['number_of_learners_calc'],\n",
    "    title1='Actual',\n",
    "    title2='Calc',\n",
    "    main='Filtered Actual vs Calculated By assessment_instance_id'\n",
    ")"
   ]
  },
  {
   "cell_type": "markdown",
   "metadata": {
    "pycharm": {
     "name": "#%% md\n"
    }
   },
   "source": [
    "- Significantly Different\n",
    "- Calculated\n",
    "  - Normal distribution with outliers\n",
    "    - Outliers at 1 to 5 and 40\n",
    "  - Or, Skewed Right Normal distribution"
   ]
  },
  {
   "cell_type": "markdown",
   "metadata": {
    "pycharm": {
     "name": "#%% md\n"
    }
   },
   "source": [
    "#### Conclusion\n",
    "- Variable won't be used\n",
    "- No further action needed\n"
   ]
  },
  {
   "cell_type": "code",
   "execution_count": 6,
   "metadata": {
    "execution": {
     "iopub.execute_input": "2020-10-28T01:26:57.777868Z",
     "iopub.status.busy": "2020-10-28T01:26:57.776653Z",
     "iopub.status.idle": "2020-10-28T01:26:57.782381Z",
     "shell.execute_reply": "2020-10-28T01:26:57.783278Z"
    },
    "pycharm": {
     "name": "#%%\n"
    }
   },
   "outputs": [
    {
     "name": "stdout",
     "output_type": "stream",
     "text": [
      "Finished: Investigate number_of_learners > 40 outliers\n"
     ]
    }
   ],
   "source": [
    "finish_todo('Investigate number_of_learners > 40 outliers')"
   ]
  },
  {
   "cell_type": "code",
   "execution_count": 6,
   "metadata": {
    "pycharm": {
     "name": "#%%\n"
    }
   },
   "outputs": [],
   "source": []
  }
 ],
 "metadata": {
  "kernelspec": {
   "display_name": "Python 3",
   "language": "python",
   "name": "python3"
  },
  "language_info": {
   "codemirror_mode": {
    "name": "ipython",
    "version": 3
   },
   "file_extension": ".py",
   "mimetype": "text/x-python",
   "name": "python",
   "nbconvert_exporter": "python",
   "pygments_lexer": "ipython3",
   "version": "3.6.3"
  }
 },
 "nbformat": 4,
 "nbformat_minor": 1
}