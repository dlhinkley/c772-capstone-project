{
 "cells": [
  {
   "cell_type": "markdown",
   "metadata": {
    "collapsed": false
   },
   "source": [
    "### Investigate final_score_unweighted zero values"
   ]
  },
  {
   "cell_type": "code",
   "execution_count": 1,
   "metadata": {
    "collapsed": false,
    "execution": {
     "iopub.execute_input": "2020-10-28T01:20:12.652746Z",
     "iopub.status.busy": "2020-10-28T01:20:12.648831Z",
     "iopub.status.idle": "2020-10-28T01:20:21.542680Z",
     "shell.execute_reply": "2020-10-28T01:20:21.541792Z"
    },
    "pycharm": {
     "name": "#%%\n"
    }
   },
   "outputs": [],
   "source": [
    "%%capture\n",
    "\n",
    "%run '../lib/libraries.ipynb'"
   ]
  },
  {
   "cell_type": "code",
   "execution_count": 2,
   "metadata": {
    "collapsed": false,
    "execution": {
     "iopub.execute_input": "2020-10-28T01:20:21.548615Z",
     "iopub.status.busy": "2020-10-28T01:20:21.547630Z",
     "iopub.status.idle": "2020-10-28T01:20:28.173551Z",
     "shell.execute_reply": "2020-10-28T01:20:28.174212Z"
    },
    "pycharm": {
     "name": "#%%\n"
    }
   },
   "outputs": [],
   "source": [
    "filterDf = load_df('filterDf')\n",
    "types = get_var_types()"
   ]
  },
  {
   "cell_type": "markdown",
   "metadata": {
    "collapsed": false
   },
   "source": [
    "#### Create zero value dataframe"
   ]
  },
  {
   "cell_type": "code",
   "execution_count": 3,
   "metadata": {
    "collapsed": false,
    "execution": {
     "iopub.execute_input": "2020-10-28T01:20:28.180726Z",
     "iopub.status.busy": "2020-10-28T01:20:28.179326Z",
     "iopub.status.idle": "2020-10-28T01:20:28.400132Z",
     "shell.execute_reply": "2020-10-28T01:20:28.399144Z"
    },
    "pycharm": {
     "name": "#%%\n"
    }
   },
   "outputs": [],
   "source": [
    "zeroDf = filterDf.filter(F.col('final_score_unweighted') == 0)"
   ]
  },
  {
   "cell_type": "markdown",
   "metadata": {
    "collapsed": false
   },
   "source": [
    "#### Count zero values"
   ]
  },
  {
   "cell_type": "code",
   "execution_count": 4,
   "metadata": {
    "collapsed": false,
    "execution": {
     "iopub.execute_input": "2020-10-28T01:20:28.407451Z",
     "iopub.status.busy": "2020-10-28T01:20:28.405992Z",
     "iopub.status.idle": "2020-10-28T01:20:29.216398Z",
     "shell.execute_reply": "2020-10-28T01:20:29.217405Z"
    },
    "pycharm": {
     "name": "#%%\n"
    }
   },
   "outputs": [
    {
     "data": {
      "text/plain": "2867"
     },
     "execution_count": 4,
     "metadata": {},
     "output_type": "execute_result"
    }
   ],
   "source": [
    "zeroDf.count()"
   ]
  },
  {
   "cell_type": "markdown",
   "metadata": {
    "collapsed": false
   },
   "source": [
    "- 2,867 zero values"
   ]
  },
  {
   "cell_type": "code",
   "execution_count": 5,
   "metadata": {
    "collapsed": false,
    "execution": {
     "iopub.execute_input": "2020-10-28T01:20:29.224510Z",
     "iopub.status.busy": "2020-10-28T01:20:29.223076Z",
     "iopub.status.idle": "2020-10-28T01:20:37.416406Z",
     "shell.execute_reply": "2020-10-28T01:20:37.417479Z"
    },
    "pycharm": {
     "name": "#%%\n"
    }
   },
   "outputs": [
    {
     "data": {
      "text/plain": "                                     0\nfinal_score_unweighted (aa)          0\nis_manual_scoring_required (aa)  False\nitem_is_offline_scored (i)       False",
      "text/html": "<div>\n<style scoped>\n    .dataframe tbody tr th:only-of-type {\n        vertical-align: middle;\n    }\n\n    .dataframe tbody tr th {\n        vertical-align: top;\n    }\n\n    .dataframe thead th {\n        text-align: right;\n    }\n</style>\n<table border=\"1\" class=\"dataframe\">\n  <thead>\n    <tr style=\"text-align: right;\">\n      <th></th>\n      <th>0</th>\n    </tr>\n  </thead>\n  <tbody>\n    <tr>\n      <th>final_score_unweighted (aa)</th>\n      <td>0</td>\n    </tr>\n    <tr>\n      <th>is_manual_scoring_required (aa)</th>\n      <td>False</td>\n    </tr>\n    <tr>\n      <th>item_is_offline_scored (i)</th>\n      <td>False</td>\n    </tr>\n  </tbody>\n</table>\n</div>"
     },
     "execution_count": 5,
     "metadata": {},
     "output_type": "execute_result"
    }
   ],
   "source": [
    "distinct_val(zeroDf)"
   ]
  },
  {
   "cell_type": "markdown",
   "metadata": {
    "collapsed": false
   },
   "source": [
    "- Not manual or offline scored"
   ]
  },
  {
   "cell_type": "markdown",
   "metadata": {
    "collapsed": false
   },
   "source": [
    "###### Are the zero scores valid"
   ]
  },
  {
   "cell_type": "code",
   "execution_count": 6,
   "metadata": {
    "collapsed": false,
    "execution": {
     "iopub.execute_input": "2020-10-28T01:20:38.074713Z",
     "iopub.status.busy": "2020-10-28T01:20:38.073110Z",
     "iopub.status.idle": "2020-10-28T01:20:43.076250Z",
     "shell.execute_reply": "2020-10-28T01:20:43.077191Z"
    },
    "pycharm": {
     "name": "#%%\n"
    }
   },
   "outputs": [
    {
     "data": {
      "text/plain": "response_correctness  [unassigned]  correct  incorrect  partially_correct\nzero_score                                                               \nNo                             0.0     96.0        0.0                4.0\nYes                            1.0      0.0       99.0                0.0",
      "text/html": "<div>\n<style scoped>\n    .dataframe tbody tr th:only-of-type {\n        vertical-align: middle;\n    }\n\n    .dataframe tbody tr th {\n        vertical-align: top;\n    }\n\n    .dataframe thead th {\n        text-align: right;\n    }\n</style>\n<table border=\"1\" class=\"dataframe\">\n  <thead>\n    <tr style=\"text-align: right;\">\n      <th>response_correctness</th>\n      <th>[unassigned]</th>\n      <th>correct</th>\n      <th>incorrect</th>\n      <th>partially_correct</th>\n    </tr>\n    <tr>\n      <th>zero_score</th>\n      <th></th>\n      <th></th>\n      <th></th>\n      <th></th>\n    </tr>\n  </thead>\n  <tbody>\n    <tr>\n      <th>No</th>\n      <td>0.0</td>\n      <td>96.0</td>\n      <td>0.0</td>\n      <td>4.0</td>\n    </tr>\n    <tr>\n      <th>Yes</th>\n      <td>1.0</td>\n      <td>0.0</td>\n      <td>99.0</td>\n      <td>0.0</td>\n    </tr>\n  </tbody>\n</table>\n</div>"
     },
     "execution_count": 6,
     "metadata": {},
     "output_type": "execute_result"
    }
   ],
   "source": [
    "pdDf = add_zero_raw_score_var(zeroDf).toPandas()\n",
    "\n",
    "crosstab_percent( pd.crosstab(pdDf.zero_score, pdDf.response_correctness) )"
   ]
  },
  {
   "cell_type": "markdown",
   "metadata": {
    "collapsed": false
   },
   "source": [
    "- Yes"
   ]
  },
  {
   "cell_type": "markdown",
   "metadata": {
    "collapsed": false
   },
   "source": [
    "##### Conclusion:\n",
    "- No further action needed\n",
    "- The 2,867 zero values correct"
   ]
  },
  {
   "cell_type": "code",
   "execution_count": 7,
   "metadata": {
    "collapsed": false,
    "execution": {
     "iopub.execute_input": "2020-10-28T01:20:43.082955Z",
     "iopub.status.busy": "2020-10-28T01:20:43.081953Z",
     "iopub.status.idle": "2020-10-28T01:20:43.086433Z",
     "shell.execute_reply": "2020-10-28T01:20:43.087061Z"
    },
    "pycharm": {
     "name": "#%%\n"
    }
   },
   "outputs": [
    {
     "name": "stdout",
     "output_type": "stream",
     "text": [
      "Finished: Investigate final_score_unweighted zero values\n"
     ]
    }
   ],
   "source": [
    "finish_todo('Investigate final_score_unweighted zero values')"
   ]
  },
  {
   "cell_type": "code",
   "execution_count": 7,
   "metadata": {
    "collapsed": false,
    "pycharm": {
     "name": "#%%\n"
    }
   },
   "outputs": [],
   "source": []
  }
 ],
 "metadata": {
  "kernelspec": {
   "display_name": "Python 3",
   "language": "python",
   "name": "python3"
  },
  "language_info": {
   "codemirror_mode": {
    "name": "ipython",
    "version": 3
   },
   "file_extension": ".py",
   "mimetype": "text/x-python",
   "name": "python",
   "nbconvert_exporter": "python",
   "pygments_lexer": "ipython3",
   "version": "3.6.3"
  }
 },
 "nbformat": 4,
 "nbformat_minor": 1
}