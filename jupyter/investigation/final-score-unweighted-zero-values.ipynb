{
 "cells": [
  {
   "cell_type": "markdown",
   "metadata": {
    "collapsed": false
   },
   "source": [
    "### Investigate final_score_unweighted zero values"
   ]
  },
  {
   "cell_type": "code",
   "execution_count": 1,
   "metadata": {
    "collapsed": false,
    "execution": {
     "iopub.execute_input": "2020-10-28T01:20:12.652746Z",
     "iopub.status.busy": "2020-10-28T01:20:12.648831Z",
     "iopub.status.idle": "2020-10-28T01:20:21.542680Z",
     "shell.execute_reply": "2020-10-28T01:20:21.541792Z"
    },
    "pycharm": {
     "name": "#%%\n"
    }
   },
   "outputs": [
    {
     "name": "stdout",
     "output_type": "stream",
     "text": [
      "dython              0.6.1\n"
     ]
    },
    {
     "name": "stderr",
     "output_type": "stream",
     "text": [
      "WARNING: You are using pip version 20.2.3; however, version 20.2.4 is available.\n",
      "You should consider upgrading via the '/Users/duane.hinkley/PycharmProjects/c772-capstone-project/venv/bin/python -m pip install --upgrade pip' command.\n"
     ]
    },
    {
     "name": "stdout",
     "output_type": "stream",
     "text": [
      "tinydb              4.2.0\n"
     ]
    },
    {
     "name": "stderr",
     "output_type": "stream",
     "text": [
      "WARNING: You are using pip version 20.2.3; however, version 20.2.4 is available.\n",
      "You should consider upgrading via the '/Users/duane.hinkley/PycharmProjects/c772-capstone-project/venv/bin/python -m pip install --upgrade pip' command.\n"
     ]
    }
   ],
   "source": [
    "%%capture\n",
    "\n",
    "%run '../lib/libraries.ipynb'"
   ]
  },
  {
   "cell_type": "code",
   "execution_count": 2,
   "metadata": {
    "collapsed": false,
    "execution": {
     "iopub.execute_input": "2020-10-28T01:20:21.548615Z",
     "iopub.status.busy": "2020-10-28T01:20:21.547630Z",
     "iopub.status.idle": "2020-10-28T01:20:28.173551Z",
     "shell.execute_reply": "2020-10-28T01:20:28.174212Z"
    },
    "pycharm": {
     "name": "#%%\n"
    }
   },
   "outputs": [],
   "source": [
    "filterDf = load_df('filterDf')\n",
    "types = get_var_types()"
   ]
  },
  {
   "cell_type": "markdown",
   "metadata": {
    "collapsed": false
   },
   "source": [
    "#### Create zero value dataframe"
   ]
  },
  {
   "cell_type": "code",
   "execution_count": 3,
   "metadata": {
    "collapsed": false,
    "execution": {
     "iopub.execute_input": "2020-10-28T01:20:28.180726Z",
     "iopub.status.busy": "2020-10-28T01:20:28.179326Z",
     "iopub.status.idle": "2020-10-28T01:20:28.400132Z",
     "shell.execute_reply": "2020-10-28T01:20:28.399144Z"
    },
    "pycharm": {
     "name": "#%%\n"
    }
   },
   "outputs": [],
   "source": [
    "zeroDf = filterDf.filter(F.col('final_score_unweighted') == 0)"
   ]
  },
  {
   "cell_type": "markdown",
   "metadata": {
    "collapsed": false
   },
   "source": [
    "#### Count zero values"
   ]
  },
  {
   "cell_type": "code",
   "execution_count": 4,
   "metadata": {
    "collapsed": false,
    "execution": {
     "iopub.execute_input": "2020-10-28T01:20:28.407451Z",
     "iopub.status.busy": "2020-10-28T01:20:28.405992Z",
     "iopub.status.idle": "2020-10-28T01:20:29.216398Z",
     "shell.execute_reply": "2020-10-28T01:20:29.217405Z"
    },
    "pycharm": {
     "name": "#%%\n"
    }
   },
   "outputs": [
    {
     "data": {
      "text/plain": [
       "16582"
      ]
     },
     "execution_count": 1,
     "metadata": {},
     "output_type": "execute_result"
    }
   ],
   "source": [
    "zeroDf.count()"
   ]
  },
  {
   "cell_type": "markdown",
   "metadata": {
    "collapsed": false
   },
   "source": [
    "- 2,867 zero values"
   ]
  },
  {
   "cell_type": "code",
   "execution_count": 5,
   "metadata": {
    "collapsed": false,
    "execution": {
     "iopub.execute_input": "2020-10-28T01:20:29.224510Z",
     "iopub.status.busy": "2020-10-28T01:20:29.223076Z",
     "iopub.status.idle": "2020-10-28T01:20:37.416406Z",
     "shell.execute_reply": "2020-10-28T01:20:37.417479Z"
    },
    "pycharm": {
     "name": "#%%\n"
    }
   },
   "outputs": [
    {
     "data": {
      "text/html": [
       "<div>\n",
       "<style scoped>\n",
       "    .dataframe tbody tr th:only-of-type {\n",
       "        vertical-align: middle;\n",
       "    }\n",
       "\n",
       "    .dataframe tbody tr th {\n",
       "        vertical-align: top;\n",
       "    }\n",
       "\n",
       "    .dataframe thead th {\n",
       "        text-align: right;\n",
       "    }\n",
       "</style>\n",
       "<table border=\"1\" class=\"dataframe\">\n",
       "  <thead>\n",
       "    <tr style=\"text-align: right;\">\n",
       "      <th></th>\n",
       "      <th>0</th>\n",
       "    </tr>\n",
       "  </thead>\n",
       "  <tbody>\n",
       "    <tr>\n",
       "      <th>is_manual_scoring_required</th>\n",
       "      <td>False</td>\n",
       "    </tr>\n",
       "    <tr>\n",
       "      <th>final_score_unweighted</th>\n",
       "      <td>0</td>\n",
       "    </tr>\n",
       "  </tbody>\n",
       "</table>\n",
       "</div>"
      ],
      "text/plain": [
       "                                0\n",
       "is_manual_scoring_required  False\n",
       "final_score_unweighted          0"
      ]
     },
     "execution_count": 1,
     "metadata": {},
     "output_type": "execute_result"
    }
   ],
   "source": [
    "distinct_val(zeroDf)"
   ]
  },
  {
   "cell_type": "markdown",
   "metadata": {
    "collapsed": false
   },
   "source": [
    "- No additional values"
   ]
  },
  {
   "cell_type": "markdown",
   "metadata": {
    "collapsed": false
   },
   "source": [
    "###### Count observations with no response"
   ]
  },
  {
   "cell_type": "code",
   "execution_count": 6,
   "metadata": {
    "collapsed": false,
    "execution": {
     "iopub.execute_input": "2020-10-28T01:20:37.426177Z",
     "iopub.status.busy": "2020-10-28T01:20:37.424738Z",
     "iopub.status.idle": "2020-10-28T01:20:37.709761Z",
     "shell.execute_reply": "2020-10-28T01:20:37.711261Z"
    },
    "pycharm": {
     "name": "#%%\n"
    }
   },
   "outputs": [
    {
     "data": {
      "text/plain": [
       "13715"
      ]
     },
     "execution_count": 1,
     "metadata": {},
     "output_type": "execute_result"
    }
   ],
   "source": [
    "zeroDf.filter(F.col('assessment_item_response_id').isNull()).count()"
   ]
  },
  {
   "cell_type": "markdown",
   "metadata": {
    "collapsed": false
   },
   "source": [
    "- 13,715"
   ]
  },
  {
   "cell_type": "markdown",
   "metadata": {
    "collapsed": false
   },
   "source": [
    "###### Exclude observations with no response"
   ]
  },
  {
   "cell_type": "code",
   "execution_count": 7,
   "metadata": {
    "collapsed": false,
    "execution": {
     "iopub.execute_input": "2020-10-28T01:20:37.720491Z",
     "iopub.status.busy": "2020-10-28T01:20:37.718814Z",
     "iopub.status.idle": "2020-10-28T01:20:37.739478Z",
     "shell.execute_reply": "2020-10-28T01:20:37.740687Z"
    },
    "pycharm": {
     "name": "#%%\n"
    }
   },
   "outputs": [],
   "source": [
    "noResponseDf = zeroDf.filter(~F.col('assessment_item_response_id').isNull())"
   ]
  },
  {
   "cell_type": "markdown",
   "metadata": {
    "collapsed": false
   },
   "source": [
    "###### Remaining count"
   ]
  },
  {
   "cell_type": "code",
   "execution_count": 8,
   "metadata": {
    "collapsed": false,
    "execution": {
     "iopub.execute_input": "2020-10-28T01:20:37.749312Z",
     "iopub.status.busy": "2020-10-28T01:20:37.747797Z",
     "iopub.status.idle": "2020-10-28T01:20:38.052210Z",
     "shell.execute_reply": "2020-10-28T01:20:38.053286Z"
    },
    "pycharm": {
     "name": "#%%\n"
    }
   },
   "outputs": [
    {
     "data": {
      "text/plain": [
       "2867"
      ]
     },
     "execution_count": 1,
     "metadata": {},
     "output_type": "execute_result"
    }
   ],
   "source": [
    "noResponseDf.count()"
   ]
  },
  {
   "cell_type": "code",
   "execution_count": 9,
   "metadata": {
    "collapsed": false,
    "execution": {
     "iopub.execute_input": "2020-10-28T01:20:38.061042Z",
     "iopub.status.busy": "2020-10-28T01:20:38.059588Z",
     "iopub.status.idle": "2020-10-28T01:20:38.064736Z",
     "shell.execute_reply": "2020-10-28T01:20:38.065880Z"
    },
    "pycharm": {
     "name": "#%%md\n"
    }
   },
   "outputs": [
    {
     "data": {
      "text/plain": [
       "-2867"
      ]
     },
     "execution_count": 1,
     "metadata": {},
     "output_type": "execute_result"
    }
   ],
   "source": [
    "- 2867"
   ]
  },
  {
   "cell_type": "markdown",
   "metadata": {
    "collapsed": false
   },
   "source": [
    "###### Are the remaining zero scores valid"
   ]
  },
  {
   "cell_type": "code",
   "execution_count": 10,
   "metadata": {
    "collapsed": false,
    "execution": {
     "iopub.execute_input": "2020-10-28T01:20:38.074713Z",
     "iopub.status.busy": "2020-10-28T01:20:38.073110Z",
     "iopub.status.idle": "2020-10-28T01:20:43.076250Z",
     "shell.execute_reply": "2020-10-28T01:20:43.077191Z"
    },
    "pycharm": {
     "name": "#%%\n"
    }
   },
   "outputs": [
    {
     "data": {
      "text/html": [
       "<div>\n",
       "<style scoped>\n",
       "    .dataframe tbody tr th:only-of-type {\n",
       "        vertical-align: middle;\n",
       "    }\n",
       "\n",
       "    .dataframe tbody tr th {\n",
       "        vertical-align: top;\n",
       "    }\n",
       "\n",
       "    .dataframe thead th {\n",
       "        text-align: right;\n",
       "    }\n",
       "</style>\n",
       "<table border=\"1\" class=\"dataframe\">\n",
       "  <thead>\n",
       "    <tr style=\"text-align: right;\">\n",
       "      <th>response_correctness</th>\n",
       "      <th>[unassigned]</th>\n",
       "      <th>correct</th>\n",
       "      <th>incorrect</th>\n",
       "      <th>partially_correct</th>\n",
       "    </tr>\n",
       "    <tr>\n",
       "      <th>zero_score</th>\n",
       "      <th></th>\n",
       "      <th></th>\n",
       "      <th></th>\n",
       "      <th></th>\n",
       "    </tr>\n",
       "  </thead>\n",
       "  <tbody>\n",
       "    <tr>\n",
       "      <th>No</th>\n",
       "      <td>0.0</td>\n",
       "      <td>96.0</td>\n",
       "      <td>0.0</td>\n",
       "      <td>4.0</td>\n",
       "    </tr>\n",
       "    <tr>\n",
       "      <th>Yes</th>\n",
       "      <td>1.0</td>\n",
       "      <td>0.0</td>\n",
       "      <td>99.0</td>\n",
       "      <td>0.0</td>\n",
       "    </tr>\n",
       "  </tbody>\n",
       "</table>\n",
       "</div>"
      ],
      "text/plain": [
       "response_correctness  [unassigned]  correct  incorrect  partially_correct\n",
       "zero_score                                                               \n",
       "No                             0.0     96.0        0.0                4.0\n",
       "Yes                            1.0      0.0       99.0                0.0"
      ]
     },
     "execution_count": 1,
     "metadata": {},
     "output_type": "execute_result"
    }
   ],
   "source": [
    "pdDf = add_zero_raw_score_var(noResponseDf).toPandas()\n",
    "\n",
    "crosstab_percent( pd.crosstab(pdDf.zero_score, pdDf.response_correctness) )"
   ]
  },
  {
   "cell_type": "markdown",
   "metadata": {
    "collapsed": false
   },
   "source": [
    "- Remaining observations\n",
    "  - raw_score = 0 (zero_score = Yes)\n",
    "    - response_correctnss\n",
    "      - 1% [unassigned]\n",
    "      - 99% incorrect\n",
    "  - raw_score > 0 (zero_score = No)\n",
    "    - response_correctnss\n",
    "      - 96% incorrect\n",
    "      - 4% partially_correct"
   ]
  },
  {
   "cell_type": "markdown",
   "metadata": {
    "collapsed": false
   },
   "source": [
    "##### Conclusion:\n",
    "- No further action needed\n",
    "- The 2,867 zero values correct"
   ]
  },
  {
   "cell_type": "code",
   "execution_count": 11,
   "metadata": {
    "collapsed": false,
    "execution": {
     "iopub.execute_input": "2020-10-28T01:20:43.082955Z",
     "iopub.status.busy": "2020-10-28T01:20:43.081953Z",
     "iopub.status.idle": "2020-10-28T01:20:43.086433Z",
     "shell.execute_reply": "2020-10-28T01:20:43.087061Z"
    },
    "pycharm": {
     "name": "#%%\n"
    }
   },
   "outputs": [],
   "source": [
    "finish_todo('Investigate final_score_unweighted zero values')"
   ]
  },
  {
   "cell_type": "code",
   "execution_count": 11,
   "metadata": {
    "collapsed": false,
    "pycharm": {
     "name": "#%%\n"
    }
   },
   "outputs": [],
   "source": []
  }
 ],
 "metadata": {
  "kernelspec": {
   "display_name": "Python 3",
   "language": "python",
   "name": "python3"
  },
  "language_info": {
   "codemirror_mode": {
    "name": "ipython",
    "version": 3
   },
   "file_extension": ".py",
   "mimetype": "text/x-python",
   "name": "python",
   "nbconvert_exporter": "python",
   "pygments_lexer": "ipython3",
   "version": "3.6.3"
  }
 },
 "nbformat": 4,
 "nbformat_minor": 1
}