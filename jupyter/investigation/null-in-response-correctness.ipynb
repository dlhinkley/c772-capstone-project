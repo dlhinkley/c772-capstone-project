{
 "cells": [
  {
   "cell_type": "markdown",
   "metadata": {},
   "source": [
    "### Investigate null values in response_correctness"
   ]
  },
  {
   "cell_type": "code",
   "execution_count": 2,
   "metadata": {
    "execution": {
     "iopub.execute_input": "2020-10-28T01:19:16.544438Z",
     "iopub.status.busy": "2020-10-28T01:19:16.541664Z",
     "iopub.status.idle": "2020-10-28T01:19:24.082013Z",
     "shell.execute_reply": "2020-10-28T01:19:24.082701Z"
    },
    "pycharm": {
     "name": "#%%\n"
    },
    "scrolled": true
   },
   "outputs": [],
   "source": [
    "%%capture\n",
    "\n",
    "%run '../lib/libraries.ipynb'"
   ]
  },
  {
   "cell_type": "code",
   "execution_count": 3,
   "metadata": {
    "execution": {
     "iopub.execute_input": "2020-10-28T01:19:24.088477Z",
     "iopub.status.busy": "2020-10-28T01:19:24.087160Z",
     "iopub.status.idle": "2020-10-28T01:19:28.696730Z",
     "shell.execute_reply": "2020-10-28T01:19:28.695916Z"
    },
    "pycharm": {
     "name": "#%%\n"
    }
   },
   "outputs": [],
   "source": [
    "filterDf = load_df('filterDf')"
   ]
  },
  {
   "cell_type": "markdown",
   "metadata": {},
   "source": [
    "###### Select the null values in response_correctness"
   ]
  },
  {
   "cell_type": "code",
   "execution_count": 4,
   "metadata": {
    "execution": {
     "iopub.execute_input": "2020-10-28T01:19:28.702134Z",
     "iopub.status.busy": "2020-10-28T01:19:28.701241Z",
     "iopub.status.idle": "2020-10-28T01:19:28.773425Z",
     "shell.execute_reply": "2020-10-28T01:19:28.774052Z"
    },
    "pycharm": {
     "name": "#%%\n"
    }
   },
   "outputs": [
    {
     "data": {
      "text/plain": "34"
     },
     "execution_count": 4,
     "metadata": {},
     "output_type": "execute_result"
    }
   ],
   "source": [
    "rcNullDf = filterDf.filter(F.col('response_correctness').isNull() )\n",
    "rcNullDf.count()"
   ]
  },
  {
   "cell_type": "markdown",
   "metadata": {
    "collapsed": false,
    "pycharm": {
     "name": "#%% md\n"
    }
   },
   "source": [
    "###### Display Distinct Values"
   ]
  },
  {
   "cell_type": "code",
   "execution_count": 5,
   "metadata": {
    "execution": {
     "iopub.execute_input": "2020-10-28T01:19:28.779087Z",
     "iopub.status.busy": "2020-10-28T01:19:28.778194Z",
     "iopub.status.idle": "2020-10-28T01:19:38.096516Z",
     "shell.execute_reply": "2020-10-28T01:19:38.097280Z"
    },
    "pycharm": {
     "name": "#%%\n"
    }
   },
   "outputs": [
    {
     "data": {
      "text/plain": "                                            0\nassigned_item_status (ia)           responded\nassignment_attempt_number (aa)              1\nassignment_max_attempts (a)                 1\nis_force_scored (aa)                    False\nis_manual_scoring_required (aa)         False\nitem_is_offline_scored (i)              False\nraw_score (ia)                            NaN\nresponse_correctness (ia)                None\nscoring_type_code (i)            [unassigned]",
      "text/html": "<div>\n<style scoped>\n    .dataframe tbody tr th:only-of-type {\n        vertical-align: middle;\n    }\n\n    .dataframe tbody tr th {\n        vertical-align: top;\n    }\n\n    .dataframe thead th {\n        text-align: right;\n    }\n</style>\n<table border=\"1\" class=\"dataframe\">\n  <thead>\n    <tr style=\"text-align: right;\">\n      <th></th>\n      <th>0</th>\n    </tr>\n  </thead>\n  <tbody>\n    <tr>\n      <th>assigned_item_status (ia)</th>\n      <td>responded</td>\n    </tr>\n    <tr>\n      <th>assignment_attempt_number (aa)</th>\n      <td>1</td>\n    </tr>\n    <tr>\n      <th>assignment_max_attempts (a)</th>\n      <td>1</td>\n    </tr>\n    <tr>\n      <th>is_force_scored (aa)</th>\n      <td>False</td>\n    </tr>\n    <tr>\n      <th>is_manual_scoring_required (aa)</th>\n      <td>False</td>\n    </tr>\n    <tr>\n      <th>item_is_offline_scored (i)</th>\n      <td>False</td>\n    </tr>\n    <tr>\n      <th>raw_score (ia)</th>\n      <td>NaN</td>\n    </tr>\n    <tr>\n      <th>response_correctness (ia)</th>\n      <td>None</td>\n    </tr>\n    <tr>\n      <th>scoring_type_code (i)</th>\n      <td>[unassigned]</td>\n    </tr>\n  </tbody>\n</table>\n</div>"
     },
     "execution_count": 5,
     "metadata": {},
     "output_type": "execute_result"
    }
   ],
   "source": [
    "distinct_val(rcNullDf)"
   ]
  },
  {
   "cell_type": "markdown",
   "metadata": {},
   "source": [
    "- Not scored\n",
    "  - assigned_item_status = responded\n",
    "  - raw_score = null\n",
    "  - response_correctness = None\n",
    "  - scoring_type_code = [unassigned]\n"
   ]
  },
  {
   "cell_type": "markdown",
   "metadata": {
    "pycharm": {
     "name": "#%% md\n"
    }
   },
   "source": [
    "###### Conclusion\n",
    "- Only using scored items\n",
    "  - Remove values"
   ]
  },
  {
   "cell_type": "markdown",
   "source": [
    "###### Test Removal"
   ],
   "metadata": {
    "collapsed": false,
    "pycharm": {
     "name": "#%% md\n"
    }
   }
  },
  {
   "cell_type": "code",
   "execution_count": 6,
   "outputs": [
    {
     "data": {
      "text/plain": "34"
     },
     "execution_count": 6,
     "metadata": {},
     "output_type": "execute_result"
    }
   ],
   "source": [
    "filterDf.count() - remove_null_response_correctness(filterDf).count()"
   ],
   "metadata": {
    "collapsed": false,
    "pycharm": {
     "name": "#%%\n"
    }
   }
  },
  {
   "cell_type": "markdown",
   "source": [
    "- Removed 34 observations"
   ],
   "metadata": {
    "collapsed": false,
    "pycharm": {
     "name": "#%% md\n"
    }
   }
  },
  {
   "cell_type": "code",
   "execution_count": 7,
   "metadata": {
    "collapsed": false,
    "execution": {
     "iopub.execute_input": "2020-10-28T01:19:45.954208Z",
     "iopub.status.busy": "2020-10-28T01:19:45.952811Z",
     "iopub.status.idle": "2020-10-28T01:19:45.957619Z",
     "shell.execute_reply": "2020-10-28T01:19:45.958964Z"
    },
    "pycharm": {
     "name": "#%%\n"
    }
   },
   "outputs": [
    {
     "name": "stdout",
     "output_type": "stream",
     "text": [
      "Finished: Investigate null values in response_correctness\n",
      "Todo: Remove null values in response_correctness\n"
     ]
    }
   ],
   "source": [
    "finish_todo('Investigate null values in response_correctness')\n",
    "add_todo('Remove null values in response_correctness')"
   ]
  },
  {
   "cell_type": "code",
   "execution_count": 7,
   "metadata": {
    "pycharm": {
     "name": "#%%\n"
    }
   },
   "outputs": [],
   "source": []
  }
 ],
 "metadata": {
  "kernelspec": {
   "display_name": "Python 3",
   "language": "python",
   "name": "python3"
  },
  "language_info": {
   "codemirror_mode": {
    "name": "ipython",
    "version": 3
   },
   "file_extension": ".py",
   "mimetype": "text/x-python",
   "name": "python",
   "nbconvert_exporter": "python",
   "pygments_lexer": "ipython3",
   "version": "3.6.3"
  }
 },
 "nbformat": 4,
 "nbformat_minor": 1
}