{
 "cells": [
  {
   "cell_type": "markdown",
   "source": [
    "### Investigate attempt stop dates before start dates"
   ],
   "metadata": {
    "collapsed": false
   }
  },
  {
   "cell_type": "code",
   "execution_count": 75,
   "outputs": [
    {
     "name": "stdout",
     "output_type": "stream",
     "text": [
      "dython              0.6.1\n",
      "tinydb              4.2.0\n"
     ]
    },
    {
     "name": "stderr",
     "output_type": "stream",
     "text": [
      "WARNING: You are using pip version 20.2.3; however, version 20.2.4 is available.\n",
      "You should consider upgrading via the '/Users/duane.hinkley/PycharmProjects/c772-capstone-project/venv/bin/python -m pip install --upgrade pip' command.\n",
      "WARNING: You are using pip version 20.2.3; however, version 20.2.4 is available.\n",
      "You should consider upgrading via the '/Users/duane.hinkley/PycharmProjects/c772-capstone-project/venv/bin/python -m pip install --upgrade pip' command.\n"
     ]
    }
   ],
   "source": [
    "%run '../lib/libraries.ipynb'"
   ],
   "metadata": {
    "collapsed": false,
    "pycharm": {
     "name": "#%%\n"
    }
   }
  },
  {
   "cell_type": "code",
   "execution_count": 76,
   "outputs": [],
   "source": [
    "filterDf  = load_df('filterDf')\n",
    "types = get_var_types()"
   ],
   "metadata": {
    "collapsed": false,
    "pycharm": {
     "name": "#%%\n"
    }
   }
  },
  {
   "cell_type": "markdown",
   "source": [
    "###### Create datafram of attempts with responses"
   ],
   "metadata": {
    "collapsed": false,
    "pycharm": {
     "name": "#%% md\n"
    }
   }
  },
  {
   "cell_type": "code",
   "execution_count": 77,
   "outputs": [
    {
     "data": {
      "text/plain": "64838"
     },
     "execution_count": 77,
     "metadata": {},
     "output_type": "execute_result"
    }
   ],
   "source": [
    "durDf = select_attempts_with_responses(filterDf)\n",
    "durDf.count()"
   ],
   "metadata": {
    "collapsed": false,
    "pycharm": {
     "name": "#%%\n"
    }
   }
  },
  {
   "cell_type": "markdown",
   "source": [
    "###### Add duration vars"
   ],
   "metadata": {
    "collapsed": false,
    "pycharm": {
     "name": "#%% md\n"
    }
   }
  },
  {
   "cell_type": "code",
   "execution_count": 78,
   "outputs": [],
   "source": [
    "durDf = add_attempt_duration(durDf)"
   ],
   "metadata": {
    "collapsed": false,
    "pycharm": {
     "name": "#%%\n"
    }
   }
  },
  {
   "cell_type": "markdown",
   "source": [
    "###### Display problem"
   ],
   "metadata": {
    "collapsed": false
   }
  },
  {
   "cell_type": "code",
   "execution_count": 79,
   "outputs": [
    {
     "data": {
      "text/plain": "       item_attempt_duration_mins  student_duration_mins  \\\ncount                64838.000000           64401.000000   \nmean                   529.455197            1339.521364   \nstd                   3472.187274            6329.121880   \nmin                 -54766.016667               0.000000   \n25%                      0.433333              11.350000   \n50%                      1.850000              27.916667   \n75%                      9.700000             271.566667   \nmax                 109353.100000          261008.166667   \n\n       timeliness_duration_mins  \ncount              62835.000000  \nmean               19557.169458  \nstd                25314.287750  \nmin                -2751.200000  \n25%                 2230.983333  \n50%                 7781.166667  \n75%                27825.066667  \nmax               144985.150000  ",
      "text/html": "<div>\n<style scoped>\n    .dataframe tbody tr th:only-of-type {\n        vertical-align: middle;\n    }\n\n    .dataframe tbody tr th {\n        vertical-align: top;\n    }\n\n    .dataframe thead th {\n        text-align: right;\n    }\n</style>\n<table border=\"1\" class=\"dataframe\">\n  <thead>\n    <tr style=\"text-align: right;\">\n      <th></th>\n      <th>item_attempt_duration_mins</th>\n      <th>student_duration_mins</th>\n      <th>timeliness_duration_mins</th>\n    </tr>\n  </thead>\n  <tbody>\n    <tr>\n      <th>count</th>\n      <td>64838.000000</td>\n      <td>64401.000000</td>\n      <td>62835.000000</td>\n    </tr>\n    <tr>\n      <th>mean</th>\n      <td>529.455197</td>\n      <td>1339.521364</td>\n      <td>19557.169458</td>\n    </tr>\n    <tr>\n      <th>std</th>\n      <td>3472.187274</td>\n      <td>6329.121880</td>\n      <td>25314.287750</td>\n    </tr>\n    <tr>\n      <th>min</th>\n      <td>-54766.016667</td>\n      <td>0.000000</td>\n      <td>-2751.200000</td>\n    </tr>\n    <tr>\n      <th>25%</th>\n      <td>0.433333</td>\n      <td>11.350000</td>\n      <td>2230.983333</td>\n    </tr>\n    <tr>\n      <th>50%</th>\n      <td>1.850000</td>\n      <td>27.916667</td>\n      <td>7781.166667</td>\n    </tr>\n    <tr>\n      <th>75%</th>\n      <td>9.700000</td>\n      <td>271.566667</td>\n      <td>27825.066667</td>\n    </tr>\n    <tr>\n      <th>max</th>\n      <td>109353.100000</td>\n      <td>261008.166667</td>\n      <td>144985.150000</td>\n    </tr>\n  </tbody>\n</table>\n</div>"
     },
     "execution_count": 79,
     "metadata": {},
     "output_type": "execute_result"
    }
   ],
   "source": [
    "durDf.select(types['durationVars']).toPandas().describe()"
   ],
   "metadata": {
    "collapsed": false,
    "pycharm": {
     "name": "#%%\n"
    }
   }
  },
  {
   "cell_type": "markdown",
   "source": [
    "- negative values in min"
   ],
   "metadata": {
    "collapsed": false,
    "pycharm": {
     "name": "#%% md\n"
    }
   }
  },
  {
   "cell_type": "markdown",
   "source": [
    "###### Count item attempt dates with end before start"
   ],
   "metadata": {
    "collapsed": false
   }
  },
  {
   "cell_type": "code",
   "execution_count": 80,
   "outputs": [
    {
     "data": {
      "text/plain": "8"
     },
     "execution_count": 80,
     "metadata": {},
     "output_type": "execute_result"
    }
   ],
   "source": [
    "durDf.filter( F.col('item_attempt_end_datetime_utc') < F.col('item_attempt_start_datetime_utc')).count()"
   ],
   "metadata": {
    "collapsed": false,
    "pycharm": {
     "name": "#%%\n"
    }
   }
  },
  {
   "cell_type": "markdown",
   "source": [
    "8 observations"
   ],
   "metadata": {
    "collapsed": false
   }
  },
  {
   "cell_type": "markdown",
   "source": [
    "###### Count  attempt dates with end before start"
   ],
   "metadata": {
    "collapsed": false
   }
  },
  {
   "cell_type": "code",
   "execution_count": 81,
   "outputs": [
    {
     "data": {
      "text/plain": "0"
     },
     "execution_count": 81,
     "metadata": {},
     "output_type": "execute_result"
    }
   ],
   "source": [
    "durDf.filter( F.col('student_stop_datetime') < F.col('student_start_datetime')).count()"
   ],
   "metadata": {
    "collapsed": false,
    "pycharm": {
     "name": "#%%\n"
    }
   }
  },
  {
   "cell_type": "markdown",
   "source": [
    "0 observations"
   ],
   "metadata": {
    "collapsed": false
   }
  },
  {
   "cell_type": "markdown",
   "source": [
    "###### Count  due dates with end before start"
   ],
   "metadata": {
    "collapsed": false
   }
  },
  {
   "cell_type": "code",
   "execution_count": 82,
   "outputs": [
    {
     "data": {
      "text/plain": "28"
     },
     "execution_count": 82,
     "metadata": {},
     "output_type": "execute_result"
    }
   ],
   "source": [
    "durDf.filter( F.col('assignment_due_date') < F.col('student_start_datetime')).count()"
   ],
   "metadata": {
    "collapsed": false,
    "pycharm": {
     "name": "#%%\n"
    }
   }
  },
  {
   "cell_type": "markdown",
   "source": [
    "- These are late assignments\n",
    "- 28 observations"
   ],
   "metadata": {
    "collapsed": false
   }
  },
  {
   "cell_type": "markdown",
   "source": [
    "###### Count all end before start dates"
   ],
   "metadata": {
    "collapsed": false
   }
  },
  {
   "cell_type": "code",
   "execution_count": 83,
   "outputs": [
    {
     "name": "stdout",
     "output_type": "stream",
     "text": [
      "8\n"
     ]
    }
   ],
   "source": [
    "before = durDf.count()\n",
    "after = remove_stop_dates_before_start_dates(durDf).count()\n",
    "print (before - after)"
   ],
   "metadata": {
    "collapsed": false,
    "pycharm": {
     "name": "#%%\n"
    }
   }
  },
  {
   "cell_type": "markdown",
   "source": [
    "8 observations"
   ],
   "metadata": {
    "collapsed": false
   }
  },
  {
   "cell_type": "markdown",
   "source": [
    "###### Check min problem fixed"
   ],
   "metadata": {
    "collapsed": false,
    "pycharm": {
     "name": "#%% md\n"
    }
   }
  },
  {
   "cell_type": "code",
   "execution_count": 84,
   "outputs": [
    {
     "data": {
      "text/plain": "       item_attempt_duration_mins  student_duration_mins  \\\ncount                64830.000000           64393.000000   \nmean                   535.355057            1333.812447   \nstd                   3429.858289            6307.833932   \nmin                      0.000000               0.000000   \n25%                      0.433333              11.350000   \n50%                      1.850000              27.900000   \n75%                      9.712500             271.566667   \nmax                 109353.100000          261008.166667   \n\n       timeliness_duration_mins  \ncount              62827.000000  \nmean               19558.222651  \nstd                25315.659349  \nmin                -2751.200000  \n25%                 2230.958333  \n50%                 7781.166667  \n75%                27825.066667  \nmax               144985.150000  ",
      "text/html": "<div>\n<style scoped>\n    .dataframe tbody tr th:only-of-type {\n        vertical-align: middle;\n    }\n\n    .dataframe tbody tr th {\n        vertical-align: top;\n    }\n\n    .dataframe thead th {\n        text-align: right;\n    }\n</style>\n<table border=\"1\" class=\"dataframe\">\n  <thead>\n    <tr style=\"text-align: right;\">\n      <th></th>\n      <th>item_attempt_duration_mins</th>\n      <th>student_duration_mins</th>\n      <th>timeliness_duration_mins</th>\n    </tr>\n  </thead>\n  <tbody>\n    <tr>\n      <th>count</th>\n      <td>64830.000000</td>\n      <td>64393.000000</td>\n      <td>62827.000000</td>\n    </tr>\n    <tr>\n      <th>mean</th>\n      <td>535.355057</td>\n      <td>1333.812447</td>\n      <td>19558.222651</td>\n    </tr>\n    <tr>\n      <th>std</th>\n      <td>3429.858289</td>\n      <td>6307.833932</td>\n      <td>25315.659349</td>\n    </tr>\n    <tr>\n      <th>min</th>\n      <td>0.000000</td>\n      <td>0.000000</td>\n      <td>-2751.200000</td>\n    </tr>\n    <tr>\n      <th>25%</th>\n      <td>0.433333</td>\n      <td>11.350000</td>\n      <td>2230.958333</td>\n    </tr>\n    <tr>\n      <th>50%</th>\n      <td>1.850000</td>\n      <td>27.900000</td>\n      <td>7781.166667</td>\n    </tr>\n    <tr>\n      <th>75%</th>\n      <td>9.712500</td>\n      <td>271.566667</td>\n      <td>27825.066667</td>\n    </tr>\n    <tr>\n      <th>max</th>\n      <td>109353.100000</td>\n      <td>261008.166667</td>\n      <td>144985.150000</td>\n    </tr>\n  </tbody>\n</table>\n</div>"
     },
     "execution_count": 84,
     "metadata": {},
     "output_type": "execute_result"
    }
   ],
   "source": [
    "remove_stop_dates_before_start_dates(durDf).select(types['durationVars']).toPandas().describe()"
   ],
   "metadata": {
    "collapsed": false,
    "pycharm": {
     "name": "#%%\n"
    }
   }
  },
  {
   "cell_type": "markdown",
   "source": [
    "#### Conclusion\n",
    "- Delete the observations"
   ],
   "metadata": {
    "collapsed": false
   }
  },
  {
   "cell_type": "code",
   "execution_count": 85,
   "outputs": [
    {
     "name": "stdout",
     "output_type": "stream",
     "text": [
      "Finished: Investigate attempt stop dates before start date\n",
      "Todo: Remove attempt stop dates before start date\n"
     ]
    }
   ],
   "source": [
    "finish_todo('Investigate attempt stop dates before start date')\n",
    "add_todo('Remove attempt stop dates before start date')"
   ],
   "metadata": {
    "collapsed": false,
    "pycharm": {
     "name": "#%%\n"
    }
   }
  },
  {
   "cell_type": "code",
   "execution_count": 85,
   "outputs": [],
   "source": [
    "\n"
   ],
   "metadata": {
    "collapsed": false,
    "pycharm": {
     "name": "#%%\n"
    }
   }
  }
 ],
 "metadata": {
  "kernelspec": {
   "display_name": "Python 3",
   "language": "python",
   "name": "python3"
  },
  "language_info": {
   "codemirror_mode": {
    "name": "ipython",
    "version": 2
   },
   "file_extension": ".py",
   "mimetype": "text/x-python",
   "name": "python",
   "nbconvert_exporter": "python",
   "pygments_lexer": "ipython2",
   "version": "2.7.6"
  }
 },
 "nbformat": 4,
 "nbformat_minor": 0
}