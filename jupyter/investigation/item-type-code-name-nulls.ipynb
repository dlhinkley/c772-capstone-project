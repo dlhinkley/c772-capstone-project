{
 "cells": [
  {
   "cell_type": "markdown",
   "metadata": {},
   "source": [
    "### Investigate null values in item_type_code_name"
   ]
  },
  {
   "cell_type": "code",
   "execution_count": 41,
   "metadata": {
    "execution": {
     "iopub.execute_input": "2020-10-28T01:26:03.681475Z",
     "iopub.status.busy": "2020-10-28T01:26:03.679125Z",
     "iopub.status.idle": "2020-10-28T01:26:12.380672Z",
     "shell.execute_reply": "2020-10-28T01:26:12.381398Z"
    },
    "pycharm": {
     "name": "#%%\n"
    }
   },
   "outputs": [
    {
     "name": "stdout",
     "output_type": "stream",
     "text": [
      "dython              0.6.1\n",
      "tinydb              4.2.0\n"
     ]
    },
    {
     "name": "stderr",
     "output_type": "stream",
     "text": [
      "WARNING: You are using pip version 20.2.3; however, version 20.2.4 is available.\n",
      "You should consider upgrading via the '/Users/duane.hinkley/PycharmProjects/c772-capstone-project/venv/bin/python -m pip install --upgrade pip' command.\n",
      "WARNING: You are using pip version 20.2.3; however, version 20.2.4 is available.\n",
      "You should consider upgrading via the '/Users/duane.hinkley/PycharmProjects/c772-capstone-project/venv/bin/python -m pip install --upgrade pip' command.\n"
     ]
    }
   ],
   "source": [
    "%run '../lib/libraries.ipynb'"
   ]
  },
  {
   "cell_type": "code",
   "execution_count": 42,
   "metadata": {
    "execution": {
     "iopub.execute_input": "2020-10-28T01:26:12.386936Z",
     "iopub.status.busy": "2020-10-28T01:26:12.385975Z",
     "iopub.status.idle": "2020-10-28T01:26:17.098464Z",
     "shell.execute_reply": "2020-10-28T01:26:17.099091Z"
    },
    "pycharm": {
     "name": "#%%\n"
    }
   },
   "outputs": [],
   "source": [
    "filterDf = load_df('filterDf')"
   ]
  },
  {
   "cell_type": "markdown",
   "metadata": {},
   "source": [
    "###### Create a dataframe of null observations"
   ]
  },
  {
   "cell_type": "code",
   "execution_count": 43,
   "metadata": {
    "execution": {
     "iopub.execute_input": "2020-10-28T01:26:17.104529Z",
     "iopub.status.busy": "2020-10-28T01:26:17.103652Z",
     "iopub.status.idle": "2020-10-28T01:26:17.181942Z",
     "shell.execute_reply": "2020-10-28T01:26:17.182581Z"
    },
    "pycharm": {
     "name": "#%%\n"
    }
   },
   "outputs": [
    {
     "data": {
      "text/plain": "3264"
     },
     "execution_count": 43,
     "metadata": {},
     "output_type": "execute_result"
    }
   ],
   "source": [
    "nullDf = filterDf.filter(F.col('item_type_code_name').isNull())\n",
    "\n",
    "nullDf.count()"
   ]
  },
  {
   "cell_type": "markdown",
   "source": [
    "3,264 observations\n",
    "- close to the 3298 nulls in response correctness"
   ],
   "metadata": {
    "collapsed": false,
    "pycharm": {
     "name": "#%% md\n"
    }
   }
  },
  {
   "cell_type": "markdown",
   "metadata": {
    "pycharm": {
     "name": "#%% md\n"
    }
   },
   "source": [
    "###### Display distinct values"
   ]
  },
  {
   "cell_type": "code",
   "execution_count": 44,
   "metadata": {
    "execution": {
     "iopub.execute_input": "2020-10-28T01:26:19.916461Z",
     "iopub.status.busy": "2020-10-28T01:26:19.915117Z",
     "iopub.status.idle": "2020-10-28T01:26:26.720165Z",
     "shell.execute_reply": "2020-10-28T01:26:26.721317Z"
    },
    "pycharm": {
     "name": "#%%\n"
    }
   },
   "outputs": [
    {
     "data": {
      "text/plain": "                                                 0\nassessment_instance_attempt_id (aa)            NaN\nassessment_item_response_id (ia)               NaN\nassigned_item_status (ia)                 assigned\nassignment_attempt_number (aa)                   1\nassignment_max_attempts (a)                      1\nis_manual_scoring_required (aa)              False\nitem_attempt_end_datetime_utc (ia)             NaT\nitem_attempt_start_datetime_utc (ia)           NaT\nitem_is_offline_scored (i)                   False\nitem_type_code_name (i)                       None\nraw_score (ia)                                 NaN\nresponse_correctness (ia)                     None\nscoring_type_code (i)                 [unassigned]",
      "text/html": "<div>\n<style scoped>\n    .dataframe tbody tr th:only-of-type {\n        vertical-align: middle;\n    }\n\n    .dataframe tbody tr th {\n        vertical-align: top;\n    }\n\n    .dataframe thead th {\n        text-align: right;\n    }\n</style>\n<table border=\"1\" class=\"dataframe\">\n  <thead>\n    <tr style=\"text-align: right;\">\n      <th></th>\n      <th>0</th>\n    </tr>\n  </thead>\n  <tbody>\n    <tr>\n      <th>assessment_instance_attempt_id (aa)</th>\n      <td>NaN</td>\n    </tr>\n    <tr>\n      <th>assessment_item_response_id (ia)</th>\n      <td>NaN</td>\n    </tr>\n    <tr>\n      <th>assigned_item_status (ia)</th>\n      <td>assigned</td>\n    </tr>\n    <tr>\n      <th>assignment_attempt_number (aa)</th>\n      <td>1</td>\n    </tr>\n    <tr>\n      <th>assignment_max_attempts (a)</th>\n      <td>1</td>\n    </tr>\n    <tr>\n      <th>is_manual_scoring_required (aa)</th>\n      <td>False</td>\n    </tr>\n    <tr>\n      <th>item_attempt_end_datetime_utc (ia)</th>\n      <td>NaT</td>\n    </tr>\n    <tr>\n      <th>item_attempt_start_datetime_utc (ia)</th>\n      <td>NaT</td>\n    </tr>\n    <tr>\n      <th>item_is_offline_scored (i)</th>\n      <td>False</td>\n    </tr>\n    <tr>\n      <th>item_type_code_name (i)</th>\n      <td>None</td>\n    </tr>\n    <tr>\n      <th>raw_score (ia)</th>\n      <td>NaN</td>\n    </tr>\n    <tr>\n      <th>response_correctness (ia)</th>\n      <td>None</td>\n    </tr>\n    <tr>\n      <th>scoring_type_code (i)</th>\n      <td>[unassigned]</td>\n    </tr>\n  </tbody>\n</table>\n</div>"
     },
     "execution_count": 44,
     "metadata": {},
     "output_type": "execute_result"
    }
   ],
   "source": [
    "distinct_val(nullDf)"
   ]
  },
  {
   "cell_type": "markdown",
   "metadata": {
    "pycharm": {
     "name": "#%% md\n"
    }
   },
   "source": [
    "- Not attempted\n",
    "  - assessment_instance_attempt_id = Null (NaN)\n",
    "  - raw_score = null (Nan)\n",
    "\n",
    "- item_type_code_name may be set when attempted"
   ]
  },
  {
   "cell_type": "markdown",
   "source": [
    "##### Conclusion\n",
    "- null values are correct\n"
   ],
   "metadata": {
    "collapsed": false,
    "pycharm": {
     "name": "#%% md\n"
    }
   }
  },
  {
   "cell_type": "code",
   "execution_count": 45,
   "metadata": {
    "execution": {
     "iopub.execute_input": "2020-10-28T01:26:26.748287Z",
     "iopub.status.busy": "2020-10-28T01:26:26.746834Z",
     "iopub.status.idle": "2020-10-28T01:26:26.753008Z",
     "shell.execute_reply": "2020-10-28T01:26:26.754218Z"
    },
    "pycharm": {
     "name": "#%%\n"
    }
   },
   "outputs": [],
   "source": [
    "finish_todo('Investigate null values in item_type_code_name')"
   ]
  },
  {
   "cell_type": "code",
   "execution_count": 45,
   "metadata": {
    "pycharm": {
     "name": "#%%\n"
    }
   },
   "outputs": [],
   "source": []
  }
 ],
 "metadata": {
  "kernelspec": {
   "display_name": "Python 3",
   "language": "python",
   "name": "python3"
  },
  "language_info": {
   "codemirror_mode": {
    "name": "ipython",
    "version": 3
   },
   "file_extension": ".py",
   "mimetype": "text/x-python",
   "name": "python",
   "nbconvert_exporter": "python",
   "pygments_lexer": "ipython3",
   "version": "3.6.3"
  }
 },
 "nbformat": 4,
 "nbformat_minor": 1
}