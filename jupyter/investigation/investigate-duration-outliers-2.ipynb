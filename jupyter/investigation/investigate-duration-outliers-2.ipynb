{
 "cells": [
  {
   "cell_type": "markdown",
   "source": [
    "### Investigate max durations outliers in item and student attempt times\n",
    "The duration between student start and stop times have large number of outliers of over 100 minutes"
   ],
   "metadata": {
    "collapsed": false
   }
  },
  {
   "cell_type": "code",
   "execution_count": 19,
   "outputs": [
    {
     "name": "stdout",
     "output_type": "stream",
     "text": [
      "dython              0.6.1\n",
      "tinydb              4.2.0\n"
     ]
    },
    {
     "name": "stderr",
     "output_type": "stream",
     "text": [
      "WARNING: You are using pip version 20.2.3; however, version 20.2.4 is available.\n",
      "You should consider upgrading via the '/Users/duane.hinkley/PycharmProjects/c772-capstone-project/venv/bin/python -m pip install --upgrade pip' command.\n",
      "WARNING: You are using pip version 20.2.3; however, version 20.2.4 is available.\n",
      "You should consider upgrading via the '/Users/duane.hinkley/PycharmProjects/c772-capstone-project/venv/bin/python -m pip install --upgrade pip' command.\n"
     ]
    }
   ],
   "source": [
    "%run '../lib/libraries.ipynb'"
   ],
   "metadata": {
    "collapsed": false,
    "pycharm": {
     "name": "#%%\n"
    }
   }
  },
  {
   "cell_type": "code",
   "execution_count": 20,
   "outputs": [],
   "source": [
    "filterDf = load_df('filterDf')\n",
    "types = get_var_types()"
   ],
   "metadata": {
    "collapsed": false,
    "pycharm": {
     "name": "#%%\n"
    }
   }
  },
  {
   "cell_type": "markdown",
   "source": [
    "#### Create dataframe with durations"
   ],
   "metadata": {
    "collapsed": false
   }
  },
  {
   "cell_type": "markdown",
   "source": [
    "###### Count before"
   ],
   "metadata": {
    "collapsed": false
   }
  },
  {
   "cell_type": "code",
   "execution_count": 21,
   "outputs": [
    {
     "data": {
      "text/plain": "80548"
     },
     "execution_count": 21,
     "metadata": {},
     "output_type": "execute_result"
    }
   ],
   "source": [
    "filterDf.count()"
   ],
   "metadata": {
    "collapsed": false,
    "pycharm": {
     "name": "#%%\n"
    }
   }
  },
  {
   "cell_type": "markdown",
   "source": [
    "- 80,548"
   ],
   "metadata": {
    "collapsed": false
   }
  },
  {
   "cell_type": "code",
   "execution_count": 21,
   "outputs": [],
   "source": [],
   "metadata": {
    "collapsed": false,
    "pycharm": {
     "name": "#%%\n"
    }
   }
  },
  {
   "cell_type": "code",
   "execution_count": 22,
   "outputs": [],
   "source": [
    "durDf = add_attempt_duration(filterDf)"
   ],
   "metadata": {
    "collapsed": false,
    "pycharm": {
     "name": "#%%\n"
    }
   }
  },
  {
   "cell_type": "markdown",
   "source": [
    "###### Count after"
   ],
   "metadata": {
    "collapsed": false
   }
  },
  {
   "cell_type": "code",
   "execution_count": 23,
   "outputs": [
    {
     "data": {
      "text/plain": "80548"
     },
     "execution_count": 23,
     "metadata": {},
     "output_type": "execute_result"
    }
   ],
   "source": [
    "durDf.count()"
   ],
   "metadata": {
    "collapsed": false,
    "pycharm": {
     "name": "#%%\n"
    }
   }
  },
  {
   "cell_type": "markdown",
   "source": [
    "- 80,548"
   ],
   "metadata": {
    "collapsed": false
   }
  },
  {
   "cell_type": "markdown",
   "source": [
    "###### Remove stop dates before start dates to focus on max"
   ],
   "metadata": {
    "collapsed": false
   }
  },
  {
   "cell_type": "code",
   "execution_count": 24,
   "outputs": [
    {
     "data": {
      "text/plain": "65541"
     },
     "execution_count": 24,
     "metadata": {},
     "output_type": "execute_result"
    }
   ],
   "source": [
    "remove_stop_dates_before_start_dates(durDf).count()"
   ],
   "metadata": {
    "collapsed": false,
    "pycharm": {
     "name": "#%%\n"
    }
   }
  },
  {
   "cell_type": "markdown",
   "source": [
    "- removed too many\n",
    "  - ~ 15K observations"
   ],
   "metadata": {
    "collapsed": false
   }
  },
  {
   "cell_type": "markdown",
   "source": [
    "##### Investigate removing too many dates\n"
   ],
   "metadata": {
    "collapsed": false,
    "pycharm": {
     "name": "#%% md\n"
    }
   }
  },
  {
   "cell_type": "markdown",
   "source": [
    "###### Preview an assessment with outliers (assessment_instance_attempt_id == 770557)"
   ],
   "metadata": {
    "collapsed": false
   }
  },
  {
   "cell_type": "code",
   "execution_count": 25,
   "outputs": [
    {
     "name": "stdout",
     "output_type": "stream",
     "text": [
      "+------------------------+------------------+------------------+---------------------------------+-----------------------+--------------------------+--------------------------------+---------------------+-------------------+--------------------------+-------------------------+-------------------------+-------------------------+-----------------------------+------------------------+---------------+--------------------------+-----------------------+----------------------+----------------------+----------------------+--------------------------+----------------------+-------------------+-------------------+-----------------+---------+--------------------+-------------------------------+-----------------------------+--------------------+----------+------+----------+-------------+----------------------+-----------------------------+------------------------------+----------+--------------------------------+---------------------------+\n",
      "|ced_assignment_type_code|is_affecting_grade|number_of_learners|number_of_distinct_instance_items|assignment_max_attempts|assignment_late_submission|assignment_final_submission_date|assignment_start_date|assignment_due_date|min_student_start_datetime|max_student_stop_datetime|assignment_attempt_number|was_fully_scored_datetime|was_submitted_datetime_actual|was_in_progress_datetime|is_force_scored|is_manual_scoring_required|student_start_datetime |student_stop_datetime |item_is_offline_scored|learner_attempt_status|points_possible_unweighted|final_score_unweighted|scored_datetime    |item_type_code_name|scoring_type_code|raw_score|response_correctness|item_attempt_start_datetime_utc|item_attempt_end_datetime_utc|assigned_item_status|is_deleted|org_id|section_id|assessment_id|assessment_instance_id|learner_assignment_attempt_id|assessment_instance_attempt_id|learner_id|learner_assigned_item_attempt_id|assessment_item_response_id|\n",
      "+------------------------+------------------+------------------+---------------------------------+-----------------------+--------------------------+--------------------------------+---------------------+-------------------+--------------------------+-------------------------+-------------------------+-------------------------+-----------------------------+------------------------+---------------+--------------------------+-----------------------+----------------------+----------------------+----------------------+--------------------------+----------------------+-------------------+-------------------+-----------------+---------+--------------------+-------------------------------+-----------------------------+--------------------+----------+------+----------+-------------+----------------------+-----------------------------+------------------------------+----------+--------------------------------+---------------------------+\n",
      "|assessment              |true              |19                |30                               |1                      |false                     |2020-03-06 16:17:00             |2020-02-25 14:00:00  |2020-03-06 16:17:00|2020-02-25 14:50:04.2     |2020-03-10 00:00:03.872  |1                        |2020-03-05 13:59:34.341  |2020-03-09 23:54:59.93       |2020-02-26 02:20:08.468 |false          |false                     |2020-02-26 02:20:08.468|2020-03-09 23:54:59.93|false                 |fully scored          |32.0                      |17                    |2020-03-09 16:57:16|equationEntry      |automatic        |1        |correct             |2020-02-27 20:00:09.789        |2020-03-03 15:11:38.251      |scored              |false     |130845|270010    |375777       |525739                |675250                       |770557                        |972133    |1123519                         |1293737                    |\n",
      "|assessment              |true              |19                |30                               |1                      |false                     |2020-03-06 16:17:00             |2020-02-25 14:00:00  |2020-03-06 16:17:00|2020-02-25 14:50:04.2     |2020-03-10 00:00:03.872  |1                        |2020-03-05 13:59:34.341  |2020-03-09 23:54:59.93       |2020-02-26 02:20:08.468 |false          |false                     |2020-02-26 02:20:08.468|2020-03-09 23:54:59.93|false                 |fully scored          |32.0                      |17                    |2020-03-09 16:57:16|multipleChoice     |automatic        |1        |correct             |2020-02-26 02:20:08            |2020-03-03 14:07:18.593      |scored              |false     |130845|270010    |375777       |525739                |675250                       |770557                        |972133    |1123520                         |1329834                    |\n",
      "|assessment              |true              |19                |30                               |1                      |false                     |2020-03-06 16:17:00             |2020-02-25 14:00:00  |2020-03-06 16:17:00|2020-02-25 14:50:04.2     |2020-03-10 00:00:03.872  |1                        |2020-03-05 13:59:34.341  |2020-03-09 23:54:59.93       |2020-02-26 02:20:08.468 |false          |false                     |2020-02-26 02:20:08.468|2020-03-09 23:54:59.93|true                  |fully scored          |32.0                      |17                    |2020-03-09 16:57:16|equationEntry      |automatic        |0        |incorrect           |null                           |null                         |offline_scored      |false     |130845|270010    |375777       |525739                |675250                       |770557                        |972133    |1123521                         |null                       |\n",
      "|assessment              |true              |19                |30                               |1                      |false                     |2020-03-06 16:17:00             |2020-02-25 14:00:00  |2020-03-06 16:17:00|2020-02-25 14:50:04.2     |2020-03-10 00:00:03.872  |1                        |2020-03-05 13:59:34.341  |2020-03-09 23:54:59.93       |2020-02-26 02:20:08.468 |false          |false                     |2020-02-26 02:20:08.468|2020-03-09 23:54:59.93|true                  |fully scored          |32.0                      |17                    |2020-03-09 16:57:16|multipleChoice     |automatic        |0        |incorrect           |null                           |null                         |offline_scored      |false     |130845|270010    |375777       |525739                |675250                       |770557                        |972133    |1123522                         |null                       |\n",
      "|assessment              |true              |19                |30                               |1                      |false                     |2020-03-06 16:17:00             |2020-02-25 14:00:00  |2020-03-06 16:17:00|2020-02-25 14:50:04.2     |2020-03-10 00:00:03.872  |1                        |2020-03-05 13:59:34.341  |2020-03-09 23:54:59.93       |2020-02-26 02:20:08.468 |false          |false                     |2020-02-26 02:20:08.468|2020-03-09 23:54:59.93|true                  |fully scored          |32.0                      |17                    |2020-03-09 16:57:16|multipleChoice     |automatic        |0        |incorrect           |null                           |null                         |offline_scored      |false     |130845|270010    |375777       |525739                |675250                       |770557                        |972133    |1123523                         |null                       |\n",
      "|assessment              |true              |19                |30                               |1                      |false                     |2020-03-06 16:17:00             |2020-02-25 14:00:00  |2020-03-06 16:17:00|2020-02-25 14:50:04.2     |2020-03-10 00:00:03.872  |1                        |2020-03-05 13:59:34.341  |2020-03-09 23:54:59.93       |2020-02-26 02:20:08.468 |false          |false                     |2020-02-26 02:20:08.468|2020-03-09 23:54:59.93|true                  |fully scored          |32.0                      |17                    |2020-03-09 16:57:16|multipleChoice     |automatic        |1        |correct             |null                           |null                         |offline_scored      |false     |130845|270010    |375777       |525739                |675250                       |770557                        |972133    |1123524                         |null                       |\n",
      "|assessment              |true              |19                |30                               |1                      |false                     |2020-03-06 16:17:00             |2020-02-25 14:00:00  |2020-03-06 16:17:00|2020-02-25 14:50:04.2     |2020-03-10 00:00:03.872  |1                        |2020-03-05 13:59:34.341  |2020-03-09 23:54:59.93       |2020-02-26 02:20:08.468 |false          |false                     |2020-02-26 02:20:08.468|2020-03-09 23:54:59.93|false                 |fully scored          |32.0                      |17                    |2020-03-09 16:57:16|multipleChoice     |automatic        |1        |correct             |2020-02-27 20:00:09.808        |2020-03-03 15:11:38.712      |scored              |false     |130845|270010    |375777       |525739                |675250                       |770557                        |972133    |1123525                         |1331568                    |\n",
      "|assessment              |true              |19                |30                               |1                      |false                     |2020-03-06 16:17:00             |2020-02-25 14:00:00  |2020-03-06 16:17:00|2020-02-25 14:50:04.2     |2020-03-10 00:00:03.872  |1                        |2020-03-05 13:59:34.341  |2020-03-09 23:54:59.93       |2020-02-26 02:20:08.468 |false          |false                     |2020-02-26 02:20:08.468|2020-03-09 23:54:59.93|false                 |fully scored          |32.0                      |17                    |2020-03-09 16:57:16|multipleChoice     |automatic        |1        |correct             |2020-02-27 20:00:09.585        |2020-03-03 14:13:30.873      |scored              |false     |130845|270010    |375777       |525739                |675250                       |770557                        |972133    |1123526                         |1291359                    |\n",
      "|assessment              |true              |19                |30                               |1                      |false                     |2020-03-06 16:17:00             |2020-02-25 14:00:00  |2020-03-06 16:17:00|2020-02-25 14:50:04.2     |2020-03-10 00:00:03.872  |1                        |2020-03-05 13:59:34.341  |2020-03-09 23:54:59.93       |2020-02-26 02:20:08.468 |false          |false                     |2020-02-26 02:20:08.468|2020-03-09 23:54:59.93|true                  |fully scored          |32.0                      |17                    |2020-03-09 16:57:16|multipleChoice     |automatic        |0        |incorrect           |null                           |null                         |offline_scored      |false     |130845|270010    |375777       |525739                |675250                       |770557                        |972133    |1123527                         |null                       |\n",
      "|assessment              |true              |19                |30                               |1                      |false                     |2020-03-06 16:17:00             |2020-02-25 14:00:00  |2020-03-06 16:17:00|2020-02-25 14:50:04.2     |2020-03-10 00:00:03.872  |1                        |2020-03-05 13:59:34.341  |2020-03-09 23:54:59.93       |2020-02-26 02:20:08.468 |false          |false                     |2020-02-26 02:20:08.468|2020-03-09 23:54:59.93|false                 |fully scored          |32.0                      |17                    |2020-03-09 16:57:16|multipleChoice     |automatic        |1        |correct             |2020-02-27 20:00:09.73         |2020-03-03 15:03:04.01       |scored              |false     |130845|270010    |375777       |525739                |675250                       |770557                        |972133    |1123528                         |1268694                    |\n",
      "|assessment              |true              |19                |30                               |1                      |false                     |2020-03-06 16:17:00             |2020-02-25 14:00:00  |2020-03-06 16:17:00|2020-02-25 14:50:04.2     |2020-03-10 00:00:03.872  |1                        |2020-03-05 13:59:34.341  |2020-03-09 23:54:59.93       |2020-02-26 02:20:08.468 |false          |false                     |2020-02-26 02:20:08.468|2020-03-09 23:54:59.93|false                 |fully scored          |32.0                      |17                    |2020-03-09 16:57:16|multipleChoice     |automatic        |1        |correct             |2020-02-27 20:00:09.688        |2020-03-03 15:01:42.77       |scored              |false     |130845|270010    |375777       |525739                |675250                       |770557                        |972133    |1123529                         |1323212                    |\n",
      "|assessment              |true              |19                |30                               |1                      |false                     |2020-03-06 16:17:00             |2020-02-25 14:00:00  |2020-03-06 16:17:00|2020-02-25 14:50:04.2     |2020-03-10 00:00:03.872  |1                        |2020-03-05 13:59:34.341  |2020-03-09 23:54:59.93       |2020-02-26 02:20:08.468 |false          |false                     |2020-02-26 02:20:08.468|2020-03-09 23:54:59.93|false                 |fully scored          |32.0                      |17                    |2020-03-09 16:57:16|equationEntry      |automatic        |0        |incorrect           |2020-02-27 20:00:09.667        |2020-03-03 15:01:42.062      |scored              |false     |130845|270010    |375777       |525739                |675250                       |770557                        |972133    |1123530                         |1272907                    |\n",
      "|assessment              |true              |19                |30                               |1                      |false                     |2020-03-06 16:17:00             |2020-02-25 14:00:00  |2020-03-06 16:17:00|2020-02-25 14:50:04.2     |2020-03-10 00:00:03.872  |1                        |2020-03-05 13:59:34.341  |2020-03-09 23:54:59.93       |2020-02-26 02:20:08.468 |false          |false                     |2020-02-26 02:20:08.468|2020-03-09 23:54:59.93|false                 |fully scored          |32.0                      |17                    |2020-03-09 16:57:16|multipleChoice     |automatic        |1        |correct             |2020-02-27 20:00:09.771        |2020-03-03 15:05:09.975      |scored              |false     |130845|270010    |375777       |525739                |675250                       |770557                        |972133    |1123531                         |1337541                    |\n",
      "|assessment              |true              |19                |30                               |1                      |false                     |2020-03-06 16:17:00             |2020-02-25 14:00:00  |2020-03-06 16:17:00|2020-02-25 14:50:04.2     |2020-03-10 00:00:03.872  |1                        |2020-03-05 13:59:34.341  |2020-03-09 23:54:59.93       |2020-02-26 02:20:08.468 |false          |false                     |2020-02-26 02:20:08.468|2020-03-09 23:54:59.93|false                 |fully scored          |32.0                      |17                    |2020-03-09 16:57:16|equationEntry      |automatic        |0        |incorrect           |2020-02-27 20:00:09.71         |2020-03-03 15:03:03.473      |scored              |false     |130845|270010    |375777       |525739                |675250                       |770557                        |972133    |1123532                         |1344695                    |\n",
      "|assessment              |true              |19                |30                               |1                      |false                     |2020-03-06 16:17:00             |2020-02-25 14:00:00  |2020-03-06 16:17:00|2020-02-25 14:50:04.2     |2020-03-10 00:00:03.872  |1                        |2020-03-05 13:59:34.341  |2020-03-09 23:54:59.93       |2020-02-26 02:20:08.468 |false          |false                     |2020-02-26 02:20:08.468|2020-03-09 23:54:59.93|false                 |fully scored          |32.0                      |17                    |2020-03-09 16:57:16|cloze              |automatic        |1        |correct             |2020-02-27 20:00:09.603        |2020-03-03 14:13:31.207      |scored              |false     |130845|270010    |375777       |525739                |675250                       |770557                        |972133    |1123533                         |1287682                    |\n",
      "|assessment              |true              |19                |30                               |1                      |false                     |2020-03-06 16:17:00             |2020-02-25 14:00:00  |2020-03-06 16:17:00|2020-02-25 14:50:04.2     |2020-03-10 00:00:03.872  |1                        |2020-03-05 13:59:34.341  |2020-03-09 23:54:59.93       |2020-02-26 02:20:08.468 |false          |false                     |2020-02-26 02:20:08.468|2020-03-09 23:54:59.93|true                  |fully scored          |32.0                      |17                    |2020-03-09 16:57:16|equationEntry      |automatic        |0        |incorrect           |null                           |null                         |offline_scored      |false     |130845|270010    |375777       |525739                |675250                       |770557                        |972133    |1123534                         |null                       |\n",
      "|assessment              |true              |19                |30                               |1                      |false                     |2020-03-06 16:17:00             |2020-02-25 14:00:00  |2020-03-06 16:17:00|2020-02-25 14:50:04.2     |2020-03-10 00:00:03.872  |1                        |2020-03-05 13:59:34.341  |2020-03-09 23:54:59.93       |2020-02-26 02:20:08.468 |false          |false                     |2020-02-26 02:20:08.468|2020-03-09 23:54:59.93|false                 |fully scored          |32.0                      |17                    |2020-03-09 16:57:16|equationEntry      |automatic        |0        |incorrect           |2020-02-27 20:00:09.866        |2020-03-03 14:01:30.571      |scored              |false     |130845|270010    |375777       |525739                |675250                       |770557                        |972133    |1123535                         |1265423                    |\n",
      "|assessment              |true              |19                |30                               |1                      |false                     |2020-03-06 16:17:00             |2020-02-25 14:00:00  |2020-03-06 16:17:00|2020-02-25 14:50:04.2     |2020-03-10 00:00:03.872  |1                        |2020-03-05 13:59:34.341  |2020-03-09 23:54:59.93       |2020-02-26 02:20:08.468 |false          |false                     |2020-02-26 02:20:08.468|2020-03-09 23:54:59.93|false                 |fully scored          |32.0                      |17                    |2020-03-09 16:57:16|cloze              |automatic        |3        |correct             |2020-02-26 02:20:08            |2020-03-03 14:07:18.959      |scored              |false     |130845|270010    |375777       |525739                |675250                       |770557                        |972133    |1123536                         |1266843                    |\n",
      "|assessment              |true              |19                |30                               |1                      |false                     |2020-03-06 16:17:00             |2020-02-25 14:00:00  |2020-03-06 16:17:00|2020-02-25 14:50:04.2     |2020-03-10 00:00:03.872  |1                        |2020-03-05 13:59:34.341  |2020-03-09 23:54:59.93       |2020-02-26 02:20:08.468 |false          |false                     |2020-02-26 02:20:08.468|2020-03-09 23:54:59.93|true                  |fully scored          |32.0                      |17                    |2020-03-09 16:57:16|multipleChoice     |automatic        |0        |incorrect           |null                           |null                         |offline_scored      |false     |130845|270010    |375777       |525739                |675250                       |770557                        |972133    |1123537                         |null                       |\n",
      "|assessment              |true              |19                |30                               |1                      |false                     |2020-03-06 16:17:00             |2020-02-25 14:00:00  |2020-03-06 16:17:00|2020-02-25 14:50:04.2     |2020-03-10 00:00:03.872  |1                        |2020-03-05 13:59:34.341  |2020-03-09 23:54:59.93       |2020-02-26 02:20:08.468 |false          |false                     |2020-02-26 02:20:08.468|2020-03-09 23:54:59.93|true                  |fully scored          |32.0                      |17                    |2020-03-09 16:57:16|equationEntry      |automatic        |0        |incorrect           |null                           |null                         |offline_scored      |false     |130845|270010    |375777       |525739                |675250                       |770557                        |972133    |1123538                         |null                       |\n",
      "|assessment              |true              |19                |30                               |1                      |false                     |2020-03-06 16:17:00             |2020-02-25 14:00:00  |2020-03-06 16:17:00|2020-02-25 14:50:04.2     |2020-03-10 00:00:03.872  |1                        |2020-03-05 13:59:34.341  |2020-03-09 23:54:59.93       |2020-02-26 02:20:08.468 |false          |false                     |2020-02-26 02:20:08.468|2020-03-09 23:54:59.93|true                  |fully scored          |32.0                      |17                    |2020-03-09 16:57:16|equationEntry      |automatic        |0        |incorrect           |null                           |null                         |offline_scored      |false     |130845|270010    |375777       |525739                |675250                       |770557                        |972133    |1123539                         |null                       |\n",
      "|assessment              |true              |19                |30                               |1                      |false                     |2020-03-06 16:17:00             |2020-02-25 14:00:00  |2020-03-06 16:17:00|2020-02-25 14:50:04.2     |2020-03-10 00:00:03.872  |1                        |2020-03-05 13:59:34.341  |2020-03-09 23:54:59.93       |2020-02-26 02:20:08.468 |false          |false                     |2020-02-26 02:20:08.468|2020-03-09 23:54:59.93|false                 |fully scored          |32.0                      |17                    |2020-03-09 16:57:16|equationEntry      |automatic        |0        |incorrect           |2020-02-27 20:00:09.751        |2020-03-03 15:05:09.407      |scored              |false     |130845|270010    |375777       |525739                |675250                       |770557                        |972133    |1123540                         |1298721                    |\n",
      "|assessment              |true              |19                |30                               |1                      |false                     |2020-03-06 16:17:00             |2020-02-25 14:00:00  |2020-03-06 16:17:00|2020-02-25 14:50:04.2     |2020-03-10 00:00:03.872  |1                        |2020-03-05 13:59:34.341  |2020-03-09 23:54:59.93       |2020-02-26 02:20:08.468 |false          |false                     |2020-02-26 02:20:08.468|2020-03-09 23:54:59.93|false                 |fully scored          |32.0                      |17                    |2020-03-09 16:57:16|multipleChoice     |automatic        |1        |correct             |2020-02-27 20:00:10.058        |2020-03-03 14:04:36.329      |scored              |false     |130845|270010    |375777       |525739                |675250                       |770557                        |972133    |1123541                         |1293062                    |\n",
      "|assessment              |true              |19                |30                               |1                      |false                     |2020-03-06 16:17:00             |2020-02-25 14:00:00  |2020-03-06 16:17:00|2020-02-25 14:50:04.2     |2020-03-10 00:00:03.872  |1                        |2020-03-05 13:59:34.341  |2020-03-09 23:54:59.93       |2020-02-26 02:20:08.468 |false          |false                     |2020-02-26 02:20:08.468|2020-03-09 23:54:59.93|false                 |fully scored          |32.0                      |17                    |2020-03-09 16:57:16|multipleChoice     |automatic        |1        |correct             |2020-02-27 20:00:10.078        |2020-03-03 14:04:36.71       |scored              |false     |130845|270010    |375777       |525739                |675250                       |770557                        |972133    |1123542                         |1325394                    |\n",
      "|assessment              |true              |19                |30                               |1                      |false                     |2020-03-06 16:17:00             |2020-02-25 14:00:00  |2020-03-06 16:17:00|2020-02-25 14:50:04.2     |2020-03-10 00:00:03.872  |1                        |2020-03-05 13:59:34.341  |2020-03-09 23:54:59.93       |2020-02-26 02:20:08.468 |false          |false                     |2020-02-26 02:20:08.468|2020-03-09 23:54:59.93|true                  |fully scored          |32.0                      |17                    |2020-03-09 16:57:16|multipleChoice     |automatic        |0        |incorrect           |null                           |null                         |offline_scored      |false     |130845|270010    |375777       |525739                |675250                       |770557                        |972133    |1123543                         |null                       |\n",
      "|assessment              |true              |19                |30                               |1                      |false                     |2020-03-06 16:17:00             |2020-02-25 14:00:00  |2020-03-06 16:17:00|2020-02-25 14:50:04.2     |2020-03-10 00:00:03.872  |1                        |2020-03-05 13:59:34.341  |2020-03-09 23:54:59.93       |2020-02-26 02:20:08.468 |false          |false                     |2020-02-26 02:20:08.468|2020-03-09 23:54:59.93|false                 |fully scored          |32.0                      |17                    |2020-03-09 16:57:16|cloze              |automatic        |1        |correct             |2020-02-27 20:00:09.646        |2020-03-03 14:16:47.568      |scored              |false     |130845|270010    |375777       |525739                |675250                       |770557                        |972133    |1123544                         |1288600                    |\n",
      "|assessment              |true              |19                |30                               |1                      |false                     |2020-03-06 16:17:00             |2020-02-25 14:00:00  |2020-03-06 16:17:00|2020-02-25 14:50:04.2     |2020-03-10 00:00:03.872  |1                        |2020-03-05 13:59:34.341  |2020-03-09 23:54:59.93       |2020-02-26 02:20:08.468 |false          |false                     |2020-02-26 02:20:08.468|2020-03-09 23:54:59.93|true                  |fully scored          |32.0                      |17                    |2020-03-09 16:57:16|multipleChoice     |automatic        |1        |correct             |null                           |null                         |offline_scored      |false     |130845|270010    |375777       |525739                |675250                       |770557                        |972133    |1123545                         |null                       |\n",
      "|assessment              |true              |19                |30                               |1                      |false                     |2020-03-06 16:17:00             |2020-02-25 14:00:00  |2020-03-06 16:17:00|2020-02-25 14:50:04.2     |2020-03-10 00:00:03.872  |1                        |2020-03-05 13:59:34.341  |2020-03-09 23:54:59.93       |2020-02-26 02:20:08.468 |false          |false                     |2020-02-26 02:20:08.468|2020-03-09 23:54:59.93|true                  |fully scored          |32.0                      |17                    |2020-03-09 16:57:16|equationEntry      |automatic        |0        |incorrect           |null                           |null                         |offline_scored      |false     |130845|270010    |375777       |525739                |675250                       |770557                        |972133    |1123546                         |null                       |\n",
      "|assessment              |true              |19                |30                               |1                      |false                     |2020-03-06 16:17:00             |2020-02-25 14:00:00  |2020-03-06 16:17:00|2020-02-25 14:50:04.2     |2020-03-10 00:00:03.872  |1                        |2020-03-05 13:59:34.341  |2020-03-09 23:54:59.93       |2020-02-26 02:20:08.468 |false          |false                     |2020-02-26 02:20:08.468|2020-03-09 23:54:59.93|false                 |fully scored          |32.0                      |17                    |2020-03-09 16:57:16|multipleChoice     |automatic        |0        |incorrect           |2020-02-27 20:00:09.884        |2020-03-03 14:01:30.935      |scored              |false     |130845|270010    |375777       |525739                |675250                       |770557                        |972133    |1123547                         |1316599                    |\n",
      "|assessment              |true              |19                |30                               |1                      |false                     |2020-03-06 16:17:00             |2020-02-25 14:00:00  |2020-03-06 16:17:00|2020-02-25 14:50:04.2     |2020-03-10 00:00:03.872  |1                        |2020-03-05 13:59:34.341  |2020-03-09 23:54:59.93       |2020-02-26 02:20:08.468 |false          |false                     |2020-02-26 02:20:08.468|2020-03-09 23:54:59.93|false                 |fully scored          |32.0                      |17                    |2020-03-09 16:57:16|multipleChoice     |automatic        |1        |correct             |2020-02-27 20:00:09.626        |2020-03-03 14:16:47.212      |scored              |false     |130845|270010    |375777       |525739                |675250                       |770557                        |972133    |1123548                         |1334837                    |\n",
      "+------------------------+------------------+------------------+---------------------------------+-----------------------+--------------------------+--------------------------------+---------------------+-------------------+--------------------------+-------------------------+-------------------------+-------------------------+-----------------------------+------------------------+---------------+--------------------------+-----------------------+----------------------+----------------------+----------------------+--------------------------+----------------------+-------------------+-------------------+-----------------+---------+--------------------+-------------------------------+-----------------------------+--------------------+----------+------+----------+-------------+----------------------+-----------------------------+------------------------------+----------+--------------------------------+---------------------------+\n",
      "\n"
     ]
    }
   ],
   "source": [
    "cols = [\n",
    "       'number_of_distinct_instance_items',\n",
    "       'assignment_late_submission',\n",
    "       'assignment_final_submission_date',\n",
    "       'assignment_start_date',\n",
    "       'assignment_due_date',\n",
    "       'was_fully_scored_datetime',\n",
    "       'was_submitted_datetime_actual',\n",
    "       'was_in_progress_datetime',\n",
    "       'is_force_scored',\n",
    "       'is_manual_scoring_required',\n",
    "       'student_start_datetime', \n",
    "       'student_stop_datetime', \n",
    "       'item_is_offline_scored',\n",
    "       'learner_attempt_status',\n",
    "       'points_possible_unweighted',\n",
    "       'final_score_unweighted',\n",
    "       'scored_datetime',    \n",
    "       'item_type_code_name',\n",
    "       'scoring_type_code',\n",
    "       'raw_score',\n",
    "       'response_correctness',\n",
    "       'item_attempt_start_datetime_utc',\n",
    "       'item_attempt_end_datetime_utc',\n",
    "       'assigned_item_status',\n",
    "       'assessment_item_response_id',\n",
    "       \n",
    "]\n",
    "filterDf.filter( F.col('assessment_instance_attempt_id') == 770557).show(50, False)"
   ],
   "metadata": {
    "collapsed": false,
    "pycharm": {
     "name": "#%%\n"
    }
   }
  },
  {
   "cell_type": "code",
   "source": [
    "filterDf.filter( F.col('assessment_instance_attempt_id') == 770557).count()"
   ],
   "metadata": {
    "collapsed": false,
    "pycharm": {
     "name": "#%%\n"
    }
   },
   "execution_count": 26,
   "outputs": [
    {
     "data": {
      "text/plain": "30"
     },
     "execution_count": 26,
     "metadata": {},
     "output_type": "execute_result"
    }
   ]
  },
  {
   "cell_type": "markdown",
   "source": [
    "- 30 observations in attempt"
   ],
   "metadata": {
    "collapsed": false,
    "pycharm": {
     "name": "#%% md\n"
    }
   }
  },
  {
   "cell_type": "markdown",
   "source": [
    "###### Save attempt dataframe"
   ],
   "metadata": {
    "collapsed": false,
    "pycharm": {
     "name": "#%% md\n"
    }
   }
  },
  {
   "cell_type": "code",
   "execution_count": 27,
   "outputs": [
    {
     "data": {
      "text/plain": "30"
     },
     "execution_count": 27,
     "metadata": {},
     "output_type": "execute_result"
    }
   ],
   "source": [
    "attDf = filterDf.filter( F.col('assessment_instance_attempt_id') == 770557)\n",
    "attDf.count()"
   ],
   "metadata": {
    "collapsed": false,
    "pycharm": {
     "name": "#%%\n"
    }
   }
  },
  {
   "cell_type": "markdown",
   "source": [
    "- Still 30 observations"
   ],
   "metadata": {
    "collapsed": false,
    "pycharm": {
     "name": "#%% md\n"
    }
   }
  },
  {
   "cell_type": "markdown",
   "source": [
    "###### item start date <= stop date"
   ],
   "metadata": {
    "collapsed": false,
    "pycharm": {
     "name": "#%% md\n"
    }
   }
  },
  {
   "cell_type": "code",
   "execution_count": 28,
   "outputs": [
    {
     "data": {
      "text/plain": "18"
     },
     "execution_count": 28,
     "metadata": {},
     "output_type": "execute_result"
    }
   ],
   "source": [
    "attDf.filter(\n",
    "       ( F.col('item_attempt_start_datetime_utc') <= F.col('item_attempt_end_datetime_utc') )\n",
    "   ).count()"
   ],
   "metadata": {
    "collapsed": false,
    "pycharm": {
     "name": "#%%\n"
    }
   }
  },
  {
   "cell_type": "markdown",
   "source": [
    "- 18"
   ],
   "metadata": {
    "collapsed": false,
    "pycharm": {
     "name": "#%% md\n"
    }
   }
  },
  {
   "cell_type": "markdown",
   "source": [
    "###### item start date > stop date"
   ],
   "metadata": {
    "collapsed": false,
    "pycharm": {
     "name": "#%% md\n"
    }
   }
  },
  {
   "cell_type": "code",
   "execution_count": 29,
   "outputs": [
    {
     "data": {
      "text/plain": "0"
     },
     "execution_count": 29,
     "metadata": {},
     "output_type": "execute_result"
    }
   ],
   "source": [
    "attDf.filter(\n",
    "       ( F.col('item_attempt_start_datetime_utc') > F.col('item_attempt_end_datetime_utc') )\n",
    "   ).count()"
   ],
   "metadata": {
    "collapsed": false,
    "pycharm": {
     "name": "#%%\n"
    }
   }
  },
  {
   "cell_type": "markdown",
   "source": [
    "- 0"
   ],
   "metadata": {
    "collapsed": false,
    "pycharm": {
     "name": "#%% md\n"
    }
   }
  },
  {
   "cell_type": "markdown",
   "source": [
    "###### item start date or stop date null"
   ],
   "metadata": {
    "collapsed": false
   }
  },
  {
   "cell_type": "code",
   "execution_count": 30,
   "outputs": [
    {
     "data": {
      "text/plain": "12"
     },
     "execution_count": 30,
     "metadata": {},
     "output_type": "execute_result"
    }
   ],
   "source": [
    "attDf.filter(\n",
    "       ( F.col('item_attempt_start_datetime_utc').isNull() | F.col('item_attempt_end_datetime_utc').isNull() )\n",
    "   ).count()"
   ],
   "metadata": {
    "collapsed": false,
    "pycharm": {
     "name": "#%%\n"
    }
   }
  },
  {
   "cell_type": "markdown",
   "source": [
    "- 12\n",
    "  - 12 + 18 = 30"
   ],
   "metadata": {
    "collapsed": false
   }
  },
  {
   "cell_type": "markdown",
   "source": [
    "###### item start date or stop date null using filter"
   ],
   "metadata": {
    "collapsed": false
   }
  },
  {
   "cell_type": "code",
   "execution_count": 31,
   "outputs": [
    {
     "data": {
      "text/plain": "18"
     },
     "execution_count": 31,
     "metadata": {},
     "output_type": "execute_result"
    }
   ],
   "source": [
    "clean_item_attempt_dates(attDf).count()"
   ],
   "metadata": {
    "collapsed": false,
    "pycharm": {
     "name": "#%%\n"
    }
   }
  },
  {
   "cell_type": "markdown",
   "source": [
    "- same 18 dates"
   ],
   "metadata": {
    "collapsed": false,
    "pycharm": {
     "name": "#%% md\n"
    }
   }
  },
  {
   "cell_type": "markdown",
   "source": [
    "###### full dataset item start date or stop date null"
   ],
   "metadata": {
    "collapsed": false
   }
  },
  {
   "cell_type": "code",
   "execution_count": 32,
   "outputs": [
    {
     "data": {
      "text/plain": "14999"
     },
     "execution_count": 32,
     "metadata": {},
     "output_type": "execute_result"
    }
   ],
   "source": [
    "filterDf.filter(\n",
    "       ( F.col('item_attempt_start_datetime_utc').isNull() | F.col('item_attempt_end_datetime_utc').isNull() )\n",
    "   ).count()\n"
   ],
   "metadata": {
    "collapsed": false,
    "pycharm": {
     "name": "#%%\n"
    }
   }
  },
  {
   "cell_type": "markdown",
   "source": [
    "The 14999 removed was null dates\n"
   ],
   "metadata": {
    "collapsed": false,
    "pycharm": {
     "name": "#%% md\n"
    }
   }
  },
  {
   "cell_type": "markdown",
   "source": [
    "##### Statistics on full set"
   ],
   "metadata": {
    "collapsed": false
   }
  },
  {
   "cell_type": "code",
   "execution_count": null,
   "outputs": [],
   "source": [
    "durDf.select(types['durationVars']).toPandas().describe()"
   ],
   "metadata": {
    "collapsed": false,
    "pycharm": {
     "name": "#%%\n"
    }
   }
  },
  {
   "cell_type": "markdown",
   "source": [
    "##### Statistics on not null dates"
   ],
   "metadata": {
    "collapsed": false,
    "pycharm": {
     "name": "#%% md\n"
    }
   }
  },
  {
   "cell_type": "code",
   "execution_count": 33,
   "outputs": [
    {
     "data": {
      "text/plain": "       item_attempt_duration_mins  student_duration_mins\ncount                65549.000000           79799.000000\nmean                   523.712277            1506.039395\nstd                   3453.739951            7443.391797\nmin                 -54766.016667           -1362.766667\n25%                      0.416667               4.866667\n50%                      1.800000              22.533333\n75%                      9.533333              90.566667\nmax                 109353.100000          261008.166667",
      "text/html": "<div>\n<style scoped>\n    .dataframe tbody tr th:only-of-type {\n        vertical-align: middle;\n    }\n\n    .dataframe tbody tr th {\n        vertical-align: top;\n    }\n\n    .dataframe thead th {\n        text-align: right;\n    }\n</style>\n<table border=\"1\" class=\"dataframe\">\n  <thead>\n    <tr style=\"text-align: right;\">\n      <th></th>\n      <th>item_attempt_duration_mins</th>\n      <th>student_duration_mins</th>\n    </tr>\n  </thead>\n  <tbody>\n    <tr>\n      <th>count</th>\n      <td>65549.000000</td>\n      <td>79799.000000</td>\n    </tr>\n    <tr>\n      <th>mean</th>\n      <td>523.712277</td>\n      <td>1506.039395</td>\n    </tr>\n    <tr>\n      <th>std</th>\n      <td>3453.739951</td>\n      <td>7443.391797</td>\n    </tr>\n    <tr>\n      <th>min</th>\n      <td>-54766.016667</td>\n      <td>-1362.766667</td>\n    </tr>\n    <tr>\n      <th>25%</th>\n      <td>0.416667</td>\n      <td>4.866667</td>\n    </tr>\n    <tr>\n      <th>50%</th>\n      <td>1.800000</td>\n      <td>22.533333</td>\n    </tr>\n    <tr>\n      <th>75%</th>\n      <td>9.533333</td>\n      <td>90.566667</td>\n    </tr>\n    <tr>\n      <th>max</th>\n      <td>109353.100000</td>\n      <td>261008.166667</td>\n    </tr>\n  </tbody>\n</table>\n</div>"
     },
     "execution_count": 33,
     "metadata": {},
     "output_type": "execute_result"
    }
   ],
   "source": [],
   "metadata": {
    "collapsed": false,
    "pycharm": {
     "name": "#%%\n"
    }
   }
  },
  {
   "cell_type": "markdown",
   "source": [
    "###### item start date > stop date"
   ],
   "metadata": {
    "collapsed": false
   }
  },
  {
   "cell_type": "code",
   "execution_count": 34,
   "outputs": [
    {
     "data": {
      "text/plain": "       item_attempt_duration_mins  student_duration_mins\ncount                65104.000000           79799.000000\nmean                   525.695223            1506.039395\nstd                   3463.177723            7443.391797\nmin                 -54766.016667           -1362.766667\n25%                      0.416667               4.866667\n50%                      1.816667              22.533333\n75%                      9.583333              90.566667\nmax                 109353.100000          261008.166667",
      "text/html": "<div>\n<style scoped>\n    .dataframe tbody tr th:only-of-type {\n        vertical-align: middle;\n    }\n\n    .dataframe tbody tr th {\n        vertical-align: top;\n    }\n\n    .dataframe thead th {\n        text-align: right;\n    }\n</style>\n<table border=\"1\" class=\"dataframe\">\n  <thead>\n    <tr style=\"text-align: right;\">\n      <th></th>\n      <th>item_attempt_duration_mins</th>\n      <th>student_duration_mins</th>\n    </tr>\n  </thead>\n  <tbody>\n    <tr>\n      <th>count</th>\n      <td>65104.000000</td>\n      <td>79799.000000</td>\n    </tr>\n    <tr>\n      <th>mean</th>\n      <td>525.695223</td>\n      <td>1506.039395</td>\n    </tr>\n    <tr>\n      <th>std</th>\n      <td>3463.177723</td>\n      <td>7443.391797</td>\n    </tr>\n    <tr>\n      <th>min</th>\n      <td>-54766.016667</td>\n      <td>-1362.766667</td>\n    </tr>\n    <tr>\n      <th>25%</th>\n      <td>0.416667</td>\n      <td>4.866667</td>\n    </tr>\n    <tr>\n      <th>50%</th>\n      <td>1.816667</td>\n      <td>22.533333</td>\n    </tr>\n    <tr>\n      <th>75%</th>\n      <td>9.583333</td>\n      <td>90.566667</td>\n    </tr>\n    <tr>\n      <th>max</th>\n      <td>109353.100000</td>\n      <td>261008.166667</td>\n    </tr>\n  </tbody>\n</table>\n</div>"
     },
     "execution_count": 34,
     "metadata": {},
     "output_type": "execute_result"
    }
   ],
   "source": [
    "durDf.filter(\n",
    "       ( F.col('student_stop_datetime') <= F.col('student_stop_datetime') )\n",
    "   ).select( types['durationVars'] ).toPandas().describe()\n"
   ],
   "metadata": {
    "collapsed": false,
    "pycharm": {
     "name": "#%%\n"
    }
   }
  },
  {
   "cell_type": "code",
   "execution_count": null,
   "outputs": [],
   "source": [
    "durDf.filter( F.col('assessment_instance_attempt_id') == 770557).show(50, False)"
   ],
   "metadata": {
    "collapsed": false,
    "pycharm": {
     "name": "#%%\n"
    }
   }
  },
  {
   "cell_type": "markdown",
   "source": [
    "##### offline_scored has null item_attempt_start_datetime_utc, item_attempt_end_datetime_utc and assessment_item_response_id"
   ],
   "metadata": {
    "collapsed": false,
    "pycharm": {
     "name": "#%% md\n"
    }
   }
  },
  {
   "cell_type": "code",
   "execution_count": null,
   "outputs": [],
   "source": [
    "finish_todo('Investigate max durations outliers in item and student attempt times')"
   ],
   "metadata": {
    "collapsed": false,
    "pycharm": {
     "name": "#%%\n"
    }
   }
  }
 ],
 "metadata": {
  "kernelspec": {
   "display_name": "Python 3",
   "language": "python",
   "name": "python3"
  },
  "language_info": {
   "codemirror_mode": {
    "name": "ipython",
    "version": 2
   },
   "file_extension": ".py",
   "mimetype": "text/x-python",
   "name": "python",
   "nbconvert_exporter": "python",
   "pygments_lexer": "ipython2",
   "version": "2.7.6"
  }
 },
 "nbformat": 4,
 "nbformat_minor": 0
}