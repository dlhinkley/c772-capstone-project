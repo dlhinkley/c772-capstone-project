{
 "cells": [
  {
   "cell_type": "markdown",
   "metadata": {},
   "source": [
    "### Investigate 1566 null dates\n",
    "    - in\n",
    "      - assignment_due_date\n",
    "      - assignment_final_submission_date\n",
    "      - assignment_start_date\n",
    "    - Verify same observations as 1566 [unassigned] in response_correctness'"
   ]
  },
  {
   "cell_type": "code",
   "execution_count": 1,
   "metadata": {
    "pycharm": {
     "name": "#%%\n"
    }
   },
   "outputs": [
    {
     "name": "stdout",
     "output_type": "stream",
     "text": [
      "dython              0.6.1\n",
      "tinydb              4.2.0\n"
     ]
    }
   ],
   "source": [
    "%run '../lib/libraries.ipynb'"
   ]
  },
  {
   "cell_type": "code",
   "execution_count": 2,
   "metadata": {
    "pycharm": {
     "name": "#%%\n"
    }
   },
   "outputs": [],
   "source": [
    "dfFlt  = load_df('dfFlt')"
   ]
  },
  {
   "cell_type": "markdown",
   "metadata": {
    "pycharm": {
     "name": "#%% md\n"
    }
   },
   "source": [
    "#### Verify same observations as 1566 [unassigned] in response_correctness'\n",
    "\n",
    "##### Count the null dates in the 1566 [unassigned] observations"
   ]
  },
  {
   "cell_type": "code",
   "execution_count": 3,
   "metadata": {
    "pycharm": {
     "name": "#%%\n"
    }
   },
   "outputs": [
    {
     "data": {
      "text/plain": "                                     0\nassignment_due_date               1566\nassignment_final_submission_date  1566\nassignment_start_date             1566",
      "text/html": "<div>\n<style scoped>\n    .dataframe tbody tr th:only-of-type {\n        vertical-align: middle;\n    }\n\n    .dataframe tbody tr th {\n        vertical-align: top;\n    }\n\n    .dataframe thead th {\n        text-align: right;\n    }\n</style>\n<table border=\"1\" class=\"dataframe\">\n  <thead>\n    <tr style=\"text-align: right;\">\n      <th></th>\n      <th>0</th>\n    </tr>\n  </thead>\n  <tbody>\n    <tr>\n      <th>assignment_due_date</th>\n      <td>1566</td>\n    </tr>\n    <tr>\n      <th>assignment_final_submission_date</th>\n      <td>1566</td>\n    </tr>\n    <tr>\n      <th>assignment_start_date</th>\n      <td>1566</td>\n    </tr>\n  </tbody>\n</table>\n</div>"
     },
     "execution_count": 3,
     "metadata": {},
     "output_type": "execute_result"
    }
   ],
   "source": [
    "dfUnassigned = dfFlt.filter(F.col(\"response_correctness\") == \"[unassigned]\")\n",
    "\n",
    "dfUnassigned.agg(\n",
    "        F.sum(F.when(F.col('assignment_due_date').isNull(),              1).otherwise(0)).alias('assignment_due_date'),\n",
    "        F.sum(F.when(F.col('assignment_final_submission_date').isNull(), 1).otherwise(0)).alias('assignment_final_submission_date'),\n",
    "        F.sum(F.when(F.col('assignment_start_date').isNull(),            1).otherwise(0)).alias('assignment_start_date'),\n",
    "      ).toPandas().head(1).transpose()"
   ]
  },
  {
   "cell_type": "markdown",
   "metadata": {
    "pycharm": {
     "name": "#%% md\n"
    }
   },
   "source": [
    "- They are the same observations\n",
    "- Will be addressed with the 1566 [unassigned] in response_correctness"
   ]
  },
  {
   "cell_type": "code",
   "execution_count": 4,
   "metadata": {
    "pycharm": {
     "name": "#%%\n"
    }
   },
   "outputs": [],
   "source": [
    "finish_todo('Investigate 1566 null dates')"
   ]
  }
 ],
 "metadata": {
  "kernelspec": {
   "display_name": "Python 3",
   "language": "python",
   "name": "python3"
  },
  "language_info": {
   "codemirror_mode": {
    "name": "ipython",
    "version": 3
   },
   "file_extension": ".py",
   "mimetype": "text/x-python",
   "name": "python",
   "nbconvert_exporter": "python",
   "pygments_lexer": "ipython3",
   "version": "3.6.3"
  }
 },
 "nbformat": 4,
 "nbformat_minor": 1
}