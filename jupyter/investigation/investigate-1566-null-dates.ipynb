{
 "cells": [
  {
   "cell_type": "markdown",
   "metadata": {},
   "source": [
    "### Investigate 1566 null dates\n",
    "    - in\n",
    "      - assignment_due_date\n",
    "      - assignment_final_submission_date\n",
    "      - assignment_start_date\n",
    "    - Verify same observations as 1566 [unassigned] in response_correctness'"
   ]
  },
  {
   "cell_type": "code",
   "execution_count": 5,
   "metadata": {
    "execution": {
     "iopub.execute_input": "2020-10-28T01:21:41.889723Z",
     "iopub.status.busy": "2020-10-28T01:21:41.886444Z",
     "iopub.status.idle": "2020-10-28T01:21:51.433130Z",
     "shell.execute_reply": "2020-10-28T01:21:51.433860Z"
    },
    "pycharm": {
     "name": "#%%\n"
    }
   },
   "outputs": [
    {
     "name": "stdout",
     "output_type": "stream",
     "text": [
      "dython              0.6.1\n",
      "tinydb              4.2.0\n"
     ]
    },
    {
     "name": "stderr",
     "output_type": "stream",
     "text": [
      "WARNING: You are using pip version 20.2.3; however, version 20.2.4 is available.\n",
      "You should consider upgrading via the '/Users/duane.hinkley/PycharmProjects/c772-capstone-project/venv/bin/python -m pip install --upgrade pip' command.\n",
      "WARNING: You are using pip version 20.2.3; however, version 20.2.4 is available.\n",
      "You should consider upgrading via the '/Users/duane.hinkley/PycharmProjects/c772-capstone-project/venv/bin/python -m pip install --upgrade pip' command.\n"
     ]
    }
   ],
   "source": [
    "%run '../lib/libraries.ipynb'"
   ]
  },
  {
   "cell_type": "code",
   "execution_count": 2,
   "metadata": {
    "execution": {
     "iopub.execute_input": "2020-10-28T01:21:51.440293Z",
     "iopub.status.busy": "2020-10-28T01:21:51.439230Z",
     "iopub.status.idle": "2020-10-28T01:21:56.596766Z",
     "shell.execute_reply": "2020-10-28T01:21:56.597642Z"
    },
    "pycharm": {
     "name": "#%%\n"
    }
   },
   "outputs": [],
   "source": [
    "filterDf  = load_df('filterDf')"
   ]
  },
  {
   "cell_type": "markdown",
   "source": [
    "###### Create Dataframe of 1566 [unassigned] observations"
   ],
   "metadata": {
    "collapsed": false
   }
  },
  {
   "cell_type": "code",
   "execution_count": 3,
   "outputs": [
    {
     "data": {
      "text/plain": "1566"
     },
     "execution_count": 3,
     "metadata": {},
     "output_type": "execute_result"
    }
   ],
   "source": [
    "unassignedDf = filterDf.filter(F.col(\"response_correctness\") == \"[unassigned]\")\n",
    "\n",
    "unassignedDf.count()"
   ],
   "metadata": {
    "collapsed": false,
    "pycharm": {
     "name": "#%%\n"
    }
   }
  },
  {
   "cell_type": "markdown",
   "source": [
    "1,566 unassigned observations"
   ],
   "metadata": {
    "collapsed": false,
    "pycharm": {
     "name": "#%% md\n"
    }
   }
  },
  {
   "cell_type": "markdown",
   "source": [
    "###### Display distinct values"
   ],
   "metadata": {
    "collapsed": false
   }
  },
  {
   "cell_type": "code",
   "execution_count": 4,
   "outputs": [
    {
     "data": {
      "text/plain": "                                                 0\nassigned_item_status (ia)                   scored\nassignment_attempt_number (aa)                   0\nassignment_due_date (a)                        NaT\nassignment_final_submission_date (a)           NaT\nassignment_max_attempts (a)                      0\nassignment_start_date (a)                      NaT\nis_affecting_grade (a)                        True\nis_force_scored (aa)                         False\nis_manual_scoring_required (aa)              False\nitem_is_offline_scored (i)                   False\norg_id (o)                                  117713\nresponse_correctness (ia)             [unassigned]\nscoring_type_code (i)                 [unassigned]",
      "text/html": "<div>\n<style scoped>\n    .dataframe tbody tr th:only-of-type {\n        vertical-align: middle;\n    }\n\n    .dataframe tbody tr th {\n        vertical-align: top;\n    }\n\n    .dataframe thead th {\n        text-align: right;\n    }\n</style>\n<table border=\"1\" class=\"dataframe\">\n  <thead>\n    <tr style=\"text-align: right;\">\n      <th></th>\n      <th>0</th>\n    </tr>\n  </thead>\n  <tbody>\n    <tr>\n      <th>assigned_item_status (ia)</th>\n      <td>scored</td>\n    </tr>\n    <tr>\n      <th>assignment_attempt_number (aa)</th>\n      <td>0</td>\n    </tr>\n    <tr>\n      <th>assignment_due_date (a)</th>\n      <td>NaT</td>\n    </tr>\n    <tr>\n      <th>assignment_final_submission_date (a)</th>\n      <td>NaT</td>\n    </tr>\n    <tr>\n      <th>assignment_max_attempts (a)</th>\n      <td>0</td>\n    </tr>\n    <tr>\n      <th>assignment_start_date (a)</th>\n      <td>NaT</td>\n    </tr>\n    <tr>\n      <th>is_affecting_grade (a)</th>\n      <td>True</td>\n    </tr>\n    <tr>\n      <th>is_force_scored (aa)</th>\n      <td>False</td>\n    </tr>\n    <tr>\n      <th>is_manual_scoring_required (aa)</th>\n      <td>False</td>\n    </tr>\n    <tr>\n      <th>item_is_offline_scored (i)</th>\n      <td>False</td>\n    </tr>\n    <tr>\n      <th>org_id (o)</th>\n      <td>117713</td>\n    </tr>\n    <tr>\n      <th>response_correctness (ia)</th>\n      <td>[unassigned]</td>\n    </tr>\n    <tr>\n      <th>scoring_type_code (i)</th>\n      <td>[unassigned]</td>\n    </tr>\n  </tbody>\n</table>\n</div>"
     },
     "execution_count": 4,
     "metadata": {},
     "output_type": "execute_result"
    }
   ],
   "source": [
    "distinct_val(unassignedDf)"
   ],
   "metadata": {
    "collapsed": false,
    "pycharm": {
     "name": "#%%\n"
    }
   }
  },
  {
   "cell_type": "markdown",
   "source": [
    "- is_affecting_grade = True\n",
    "- assignment_max_attempts = 0\n",
    "- assignment_attempt_number = 0\n",
    "- is_force_scored = False\n",
    "- is_manual_scoring_required = False\n",
    "- item_is_offline_scored = False\n",
    "- scoring_type_code = [unassigned]\n",
    "- response_correctness = [unassigned]\n",
    "- assigned_item_status = scored\n",
    "- org_id = 117713\n",
    "- Null values\n",
    "  - assignment_due_date\n",
    "  - assignment_final_submission_date\n",
    "  - assignment_start_date"
   ],
   "metadata": {
    "collapsed": false
   }
  },
  {
   "cell_type": "markdown",
   "source": [
    "###### Compare dates with full sample"
   ],
   "metadata": {
    "collapsed": false
   }
  },
  {
   "cell_type": "code",
   "execution_count": 6,
   "outputs": [
    {
     "data": {
      "text/plain": "<Figure size 432x288 with 2 Axes>",
      "image/png": "[encoded data removed]"
     },
     "metadata": {
      "needs_background": "light"
     },
     "output_type": "display_data"
    }
   ],
   "source": [
    "dual_date_boxplot(\n",
    "    get_random_sample(filterDf),\n",
    "    unassignedDf,\n",
    "    title1=\"All Dates\",\n",
    "    title2='Null Dates',\n",
    "    main='All vs Null Dates'\n",
    ")"
   ],
   "metadata": {
    "collapsed": false,
    "pycharm": {
     "name": "#%%\n"
    }
   }
  },
  {
   "cell_type": "markdown",
   "source": [
    "- Null dates (assignment)\n",
    "  - assignment_due_date\n",
    "  - assignment_final_submission_date\n",
    "  - assignment_start_date\n",
    "- Median shifted from 1/15 to 11/5\n",
    "  - all remaining"
   ],
   "metadata": {
    "collapsed": false,
    "pycharm": {
     "name": "#%% md\n"
    }
   }
  },
  {
   "cell_type": "markdown",
   "metadata": {
    "pycharm": {
     "name": "#%% md\n"
    }
   },
   "source": [
    "#### Verify same observations as 1566 [unassigned] in response_correctness'\n",
    "\n",
    "##### Count the null dates in the 1566 [unassigned] observations"
   ]
  },
  {
   "cell_type": "code",
   "execution_count": 3,
   "metadata": {
    "execution": {
     "iopub.execute_input": "2020-10-28T01:21:56.606954Z",
     "iopub.status.busy": "2020-10-28T01:21:56.605577Z",
     "iopub.status.idle": "2020-10-28T01:21:59.764615Z",
     "shell.execute_reply": "2020-10-28T01:21:59.765645Z"
    },
    "pycharm": {
     "name": "#%%\n"
    }
   },
   "outputs": [
    {
     "data": {
      "text/html": [
       "<div>\n",
       "<style scoped>\n",
       "    .dataframe tbody tr th:only-of-type {\n",
       "        vertical-align: middle;\n",
       "    }\n",
       "\n",
       "    .dataframe tbody tr th {\n",
       "        vertical-align: top;\n",
       "    }\n",
       "\n",
       "    .dataframe thead th {\n",
       "        text-align: right;\n",
       "    }\n",
       "</style>\n",
       "<table border=\"1\" class=\"dataframe\">\n",
       "  <thead>\n",
       "    <tr style=\"text-align: right;\">\n",
       "      <th></th>\n",
       "      <th>0</th>\n",
       "    </tr>\n",
       "  </thead>\n",
       "  <tbody>\n",
       "    <tr>\n",
       "      <th>assignment_due_date</th>\n",
       "      <td>1566</td>\n",
       "    </tr>\n",
       "    <tr>\n",
       "      <th>assignment_final_submission_date</th>\n",
       "      <td>1566</td>\n",
       "    </tr>\n",
       "    <tr>\n",
       "      <th>assignment_start_date</th>\n",
       "      <td>1566</td>\n",
       "    </tr>\n",
       "  </tbody>\n",
       "</table>\n",
       "</div>"
      ],
      "text/plain": [
       "                                     0\n",
       "assignment_due_date               1566\n",
       "assignment_final_submission_date  1566\n",
       "assignment_start_date             1566"
      ]
     },
     "execution_count": 1,
     "metadata": {},
     "output_type": "execute_result"
    }
   ],
   "source": [
    "\n",
    "unassignedDf.agg(\n",
    "        F.sum(F.when(F.col('assignment_due_date').isNull(),              1).otherwise(0)).alias('assignment_due_date'),\n",
    "        F.sum(F.when(F.col('assignment_final_submission_date').isNull(), 1).otherwise(0)).alias('assignment_final_submission_date'),\n",
    "        F.sum(F.when(F.col('assignment_start_date').isNull(),            1).otherwise(0)).alias('assignment_start_date'),\n",
    "      ).toPandas().head(1).transpose()"
   ]
  },
  {
   "cell_type": "markdown",
   "metadata": {
    "pycharm": {
     "name": "#%% md\n"
    }
   },
   "source": [
    "- They are the same observations\n",
    "- Will be addressed with the 1566 [unassigned] in response_correctness"
   ]
  },
  {
   "cell_type": "code",
   "execution_count": 4,
   "metadata": {
    "execution": {
     "iopub.execute_input": "2020-10-28T01:21:59.773301Z",
     "iopub.status.busy": "2020-10-28T01:21:59.771891Z",
     "iopub.status.idle": "2020-10-28T01:21:59.776047Z",
     "shell.execute_reply": "2020-10-28T01:21:59.777303Z"
    },
    "pycharm": {
     "name": "#%%\n"
    }
   },
   "outputs": [],
   "source": [
    "finish_todo('Investigate 1566 null dates')"
   ]
  }
 ],
 "metadata": {
  "kernelspec": {
   "display_name": "Python 3",
   "language": "python",
   "name": "python3"
  },
  "language_info": {
   "codemirror_mode": {
    "name": "ipython",
    "version": 3
   },
   "file_extension": ".py",
   "mimetype": "text/x-python",
   "name": "python",
   "nbconvert_exporter": "python",
   "pygments_lexer": "ipython3",
   "version": "3.6.3"
  }
 },
 "nbformat": 4,
 "nbformat_minor": 1
}