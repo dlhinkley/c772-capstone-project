{
 "cells": [
  {
   "cell_type": "markdown",
   "metadata": {
    "collapsed": true,
    "pycharm": {
     "name": "#%% md\n"
    }
   },
   "source": [
    "### Investigate null student and scored dates\n",
    "   - in\n",
    "      - student_start_datetime\n",
    "      - student_stop_datetime\n",
    "      - was_fully_scored_datetime"
   ]
  },
  {
   "cell_type": "code",
   "execution_count": 1,
   "metadata": {
    "execution": {
     "iopub.execute_input": "2020-10-28T01:25:03.602753Z",
     "iopub.status.busy": "2020-10-28T01:25:03.599183Z",
     "iopub.status.idle": "2020-10-28T01:25:12.861324Z",
     "shell.execute_reply": "2020-10-28T01:25:12.861994Z"
    },
    "pycharm": {
     "name": "#%%\n"
    }
   },
   "outputs": [
    {
     "name": "stdout",
     "output_type": "stream",
     "text": [
      "dython              0.6.1\n",
      "tinydb              4.2.0\n"
     ]
    },
    {
     "name": "stderr",
     "output_type": "stream",
     "text": [
      "WARNING: You are using pip version 20.2.3; however, version 20.2.4 is available.\n",
      "You should consider upgrading via the '/Users/duane.hinkley/PycharmProjects/c772-capstone-project/venv/bin/python -m pip install --upgrade pip' command.\n",
      "WARNING: You are using pip version 20.2.3; however, version 20.2.4 is available.\n",
      "You should consider upgrading via the '/Users/duane.hinkley/PycharmProjects/c772-capstone-project/venv/bin/python -m pip install --upgrade pip' command.\n"
     ]
    }
   ],
   "source": [
    "%%capture\n",
    "\n",
    "%run '../lib/libraries.ipynb'"
   ]
  },
  {
   "cell_type": "code",
   "execution_count": 2,
   "metadata": {
    "execution": {
     "iopub.execute_input": "2020-10-28T01:25:12.868472Z",
     "iopub.status.busy": "2020-10-28T01:25:12.867017Z",
     "iopub.status.idle": "2020-10-28T01:25:17.454525Z",
     "shell.execute_reply": "2020-10-28T01:25:17.455157Z"
    },
    "pycharm": {
     "name": "#%%\n"
    }
   },
   "outputs": [],
   "source": [
    "filterDf  = load_df('filterDf')"
   ]
  },
  {
   "cell_type": "markdown",
   "metadata": {
    "pycharm": {
     "name": "#%% md\n"
    }
   },
   "source": [
    "###### Create dataframe of null dates"
   ]
  },
  {
   "cell_type": "code",
   "execution_count": 3,
   "metadata": {
    "execution": {
     "iopub.execute_input": "2020-10-28T01:25:17.460478Z",
     "iopub.status.busy": "2020-10-28T01:25:17.459614Z",
     "iopub.status.idle": "2020-10-28T01:25:20.056845Z",
     "shell.execute_reply": "2020-10-28T01:25:20.055650Z"
    },
    "pycharm": {
     "name": "#%%\n"
    }
   },
   "outputs": [
    {
     "data": {
      "text/plain": "749"
     },
     "execution_count": 3,
     "metadata": {},
     "output_type": "execute_result"
    }
   ],
   "source": [
    "nullDf = filterDf.filter(F.col('student_start_datetime').isNull())\n",
    "\n",
    "nullDf.count()"
   ]
  },
  {
   "cell_type": "markdown",
   "source": [
    "749 null observations"
   ],
   "metadata": {
    "collapsed": false,
    "pycharm": {
     "name": "#%% md\n"
    }
   }
  },
  {
   "cell_type": "markdown",
   "source": [
    "###### Date statistics"
   ],
   "metadata": {
    "collapsed": false,
    "pycharm": {
     "name": "#%% md\n"
    }
   }
  },
  {
   "cell_type": "code",
   "execution_count": 4,
   "outputs": [
    {
     "data": {
      "text/plain": "                           distinct  null         min         max\nscored_datetime                  65    36  2019-08-21  2019-11-07\nstudent_start_datetime            0   749        None        None\nstudent_stop_datetime             0   749        None        None\nwas_fully_scored_datetime         0   749        None        None",
      "text/html": "<div>\n<style scoped>\n    .dataframe tbody tr th:only-of-type {\n        vertical-align: middle;\n    }\n\n    .dataframe tbody tr th {\n        vertical-align: top;\n    }\n\n    .dataframe thead th {\n        text-align: right;\n    }\n</style>\n<table border=\"1\" class=\"dataframe\">\n  <thead>\n    <tr style=\"text-align: right;\">\n      <th></th>\n      <th>distinct</th>\n      <th>null</th>\n      <th>min</th>\n      <th>max</th>\n    </tr>\n  </thead>\n  <tbody>\n    <tr>\n      <th>scored_datetime</th>\n      <td>65</td>\n      <td>36</td>\n      <td>2019-08-21</td>\n      <td>2019-11-07</td>\n    </tr>\n    <tr>\n      <th>student_start_datetime</th>\n      <td>0</td>\n      <td>749</td>\n      <td>None</td>\n      <td>None</td>\n    </tr>\n    <tr>\n      <th>student_stop_datetime</th>\n      <td>0</td>\n      <td>749</td>\n      <td>None</td>\n      <td>None</td>\n    </tr>\n    <tr>\n      <th>was_fully_scored_datetime</th>\n      <td>0</td>\n      <td>749</td>\n      <td>None</td>\n      <td>None</td>\n    </tr>\n  </tbody>\n</table>\n</div>"
     },
     "execution_count": 4,
     "metadata": {},
     "output_type": "execute_result"
    }
   ],
   "source": [
    "date_statisticts(nullDf, ['scored_datetime', 'student_start_datetime', 'student_stop_datetime', 'was_fully_scored_datetime'])"
   ],
   "metadata": {
    "collapsed": false,
    "pycharm": {
     "name": "#%%\n"
    }
   }
  },
  {
   "cell_type": "markdown",
   "metadata": {
    "pycharm": {
     "name": "#%% md\n"
    }
   },
   "source": [
    "###### Display distinct values"
   ]
  },
  {
   "cell_type": "code",
   "execution_count": 5,
   "metadata": {
    "execution": {
     "iopub.execute_input": "2020-10-28T01:25:20.065489Z",
     "iopub.status.busy": "2020-10-28T01:25:20.064066Z",
     "iopub.status.idle": "2020-10-28T01:25:26.429412Z",
     "shell.execute_reply": "2020-10-28T01:25:26.430379Z"
    },
    "pycharm": {
     "name": "#%%\n"
    }
   },
   "outputs": [
    {
     "data": {
      "text/plain": "                                             0\nassignment_attempt_number (aa)               1\nassignment_max_attempts (a)                  1\nced_assignment_type_code (a)        assessment\nis_affecting_grade (a)                    True\nis_force_scored (aa)                     False\nis_manual_scoring_required (aa)          False\norg_id (o)                               19164\nstudent_start_datetime (aa)                NaT\nstudent_stop_datetime (aa)                 NaT\nwas_fully_scored_datetime (aa)             NaT\nwas_in_progress_datetime (aa)              NaT\nwas_submitted_datetime_actual (aa)         NaT",
      "text/html": "<div>\n<style scoped>\n    .dataframe tbody tr th:only-of-type {\n        vertical-align: middle;\n    }\n\n    .dataframe tbody tr th {\n        vertical-align: top;\n    }\n\n    .dataframe thead th {\n        text-align: right;\n    }\n</style>\n<table border=\"1\" class=\"dataframe\">\n  <thead>\n    <tr style=\"text-align: right;\">\n      <th></th>\n      <th>0</th>\n    </tr>\n  </thead>\n  <tbody>\n    <tr>\n      <th>assignment_attempt_number (aa)</th>\n      <td>1</td>\n    </tr>\n    <tr>\n      <th>assignment_max_attempts (a)</th>\n      <td>1</td>\n    </tr>\n    <tr>\n      <th>ced_assignment_type_code (a)</th>\n      <td>assessment</td>\n    </tr>\n    <tr>\n      <th>is_affecting_grade (a)</th>\n      <td>True</td>\n    </tr>\n    <tr>\n      <th>is_force_scored (aa)</th>\n      <td>False</td>\n    </tr>\n    <tr>\n      <th>is_manual_scoring_required (aa)</th>\n      <td>False</td>\n    </tr>\n    <tr>\n      <th>org_id (o)</th>\n      <td>19164</td>\n    </tr>\n    <tr>\n      <th>student_start_datetime (aa)</th>\n      <td>NaT</td>\n    </tr>\n    <tr>\n      <th>student_stop_datetime (aa)</th>\n      <td>NaT</td>\n    </tr>\n    <tr>\n      <th>was_fully_scored_datetime (aa)</th>\n      <td>NaT</td>\n    </tr>\n    <tr>\n      <th>was_in_progress_datetime (aa)</th>\n      <td>NaT</td>\n    </tr>\n    <tr>\n      <th>was_submitted_datetime_actual (aa)</th>\n      <td>NaT</td>\n    </tr>\n  </tbody>\n</table>\n</div>"
     },
     "execution_count": 5,
     "metadata": {},
     "output_type": "execute_result"
    }
   ],
   "source": [
    "distinct_val(nullDf)"
   ]
  },
  {
   "cell_type": "markdown",
   "metadata": {
    "pycharm": {
     "name": "#%% md\n"
    }
   },
   "source": [
    "- assignment_attempt_number = 1\n",
    "- assignment_max_attempts = 1\n",
    "- ced_assignment_type_code = assessment\n",
    "  - A majority (76,172) of observations have this code\n",
    "- is_affecting_grade = True\n",
    "- is_force_scored = False\n",
    "- is_manual_scoring_required = False\n",
    "- org_id = 19164\n",
    "  - All from one organization\n",
    "- Null values\n",
    "  - All \"Assessment Attempt\"\n",
    "  - student_start_datetime\n",
    "  - student_stop_datetime\n",
    "  - was_fully_scored_datetime\n",
    "  - was_in_progress_datetime\n",
    "  - was_submitted_datetime_actual"
   ]
  },
  {
   "cell_type": "markdown",
   "metadata": {
    "pycharm": {
     "name": "#%% md\n"
    }
   },
   "source": [
    "###### Compare dates with full sample"
   ]
  },
  {
   "cell_type": "code",
   "execution_count": 6,
   "metadata": {
    "execution": {
     "iopub.execute_input": "2020-10-28T01:25:26.437190Z",
     "iopub.status.busy": "2020-10-28T01:25:26.435320Z",
     "iopub.status.idle": "2020-10-28T01:25:27.878383Z",
     "shell.execute_reply": "2020-10-28T01:25:27.879053Z"
    },
    "pycharm": {
     "name": "#%%\n"
    }
   },
   "outputs": [
    {
     "data": {
      "text/plain": "<Figure size 432x288 with 2 Axes>",
      "image/png": "[encoded data removed]"
     },
     "metadata": {
      "needs_background": "light"
     },
     "output_type": "display_data"
    }
   ],
   "source": [
    "dual_date_boxplot(\n",
    "    get_random_sample(filterDf),\n",
    "    nullDf,\n",
    "    title1=\"All Dates\",\n",
    "    title2='Null Dates',\n",
    "    main='All vs Null Dates'\n",
    ")"
   ]
  },
  {
   "cell_type": "markdown",
   "metadata": {
    "pycharm": {
     "name": "#%% md\n"
    }
   },
   "source": [
    "- Null dates\n",
    "  - All assesment attempt (aa)\n",
    "    - except scored_datetime\n",
    "- Item Attempt (ia)\n",
    "  - between 11/15 and 10/15"
   ]
  },
  {
   "cell_type": "markdown",
   "source": [
    "##### Conclusion\n",
    "- Appears to be for a limited date range and one org\n",
    "- Will remove null observations"
   ],
   "metadata": {
    "collapsed": false,
    "pycharm": {
     "name": "#%% md\n"
    }
   }
  },
  {
   "cell_type": "markdown",
   "source": [
    "###### Test imputation"
   ],
   "metadata": {
    "collapsed": false,
    "pycharm": {
     "name": "#%% md\n"
    }
   }
  },
  {
   "cell_type": "code",
   "execution_count": 11,
   "outputs": [
    {
     "data": {
      "text/plain": "36"
     },
     "execution_count": 11,
     "metadata": {},
     "output_type": "execute_result"
    }
   ],
   "source": [
    "# Impute the dates then count records with null date\n",
    "null2Df = remove_749_to_750_null_dates(filterDf)\n",
    "null2Df.filter(F.col('student_start_datetime').isNull()).count()"
   ],
   "metadata": {
    "collapsed": false,
    "pycharm": {
     "name": "#%%\n"
    }
   }
  },
  {
   "cell_type": "code",
   "execution_count": 13,
   "outputs": [
    {
     "data": {
      "text/plain": "                                                                0\nassessment_id (a)                                          332151\nassessment_instance_id (a)                                 481025\nassignment_attempt_number (aa)                                  1\nassignment_due_date (a)                       2019-11-09 05:59:00\nassignment_final_submission_date (a)          2019-11-09 05:59:00\nassignment_max_attempts (a)                                     1\nassignment_start_date (a)                     2019-10-30 05:00:00\nced_assignment_type_code (a)                           assessment\nfinal_score_unweighted (aa)                                     0\nis_affecting_grade (a)                                       True\nis_force_scored (aa)                                        False\nis_manual_scoring_required (aa)                             False\nitem_is_offline_scored (i)                                  False\nmax_student_stop_datetime (a)          2019-10-31 17:23:19.626000\nmin_student_start_datetime (a)         2019-10-30 17:19:55.740000\nnumber_of_distinct_instance_items (a)                          18\nnumber_of_learners (a)                                         26\norg_id (o)                                                  19164\npoints_possible_unweighted (aa)                                39\nscored_datetime (aa)                                          NaT\nsection_id (s)                                             190142\nstudent_start_datetime (aa)                                   NaT\nNaN                                                          True\nstudent_stop_datetime (aa)                                    NaT\nNaN                                                          True\nwas_fully_scored_datetime (aa)                                NaT\nNaN                                                          True\nwas_in_progress_datetime (aa)                                 NaT\nwas_submitted_datetime_actual (aa)                            NaT",
      "text/html": "<div>\n<style scoped>\n    .dataframe tbody tr th:only-of-type {\n        vertical-align: middle;\n    }\n\n    .dataframe tbody tr th {\n        vertical-align: top;\n    }\n\n    .dataframe thead th {\n        text-align: right;\n    }\n</style>\n<table border=\"1\" class=\"dataframe\">\n  <thead>\n    <tr style=\"text-align: right;\">\n      <th></th>\n      <th>0</th>\n    </tr>\n  </thead>\n  <tbody>\n    <tr>\n      <th>assessment_id (a)</th>\n      <td>332151</td>\n    </tr>\n    <tr>\n      <th>assessment_instance_id (a)</th>\n      <td>481025</td>\n    </tr>\n    <tr>\n      <th>assignment_attempt_number (aa)</th>\n      <td>1</td>\n    </tr>\n    <tr>\n      <th>assignment_due_date (a)</th>\n      <td>2019-11-09 05:59:00</td>\n    </tr>\n    <tr>\n      <th>assignment_final_submission_date (a)</th>\n      <td>2019-11-09 05:59:00</td>\n    </tr>\n    <tr>\n      <th>assignment_max_attempts (a)</th>\n      <td>1</td>\n    </tr>\n    <tr>\n      <th>assignment_start_date (a)</th>\n      <td>2019-10-30 05:00:00</td>\n    </tr>\n    <tr>\n      <th>ced_assignment_type_code (a)</th>\n      <td>assessment</td>\n    </tr>\n    <tr>\n      <th>final_score_unweighted (aa)</th>\n      <td>0</td>\n    </tr>\n    <tr>\n      <th>is_affecting_grade (a)</th>\n      <td>True</td>\n    </tr>\n    <tr>\n      <th>is_force_scored (aa)</th>\n      <td>False</td>\n    </tr>\n    <tr>\n      <th>is_manual_scoring_required (aa)</th>\n      <td>False</td>\n    </tr>\n    <tr>\n      <th>item_is_offline_scored (i)</th>\n      <td>False</td>\n    </tr>\n    <tr>\n      <th>max_student_stop_datetime (a)</th>\n      <td>2019-10-31 17:23:19.626000</td>\n    </tr>\n    <tr>\n      <th>min_student_start_datetime (a)</th>\n      <td>2019-10-30 17:19:55.740000</td>\n    </tr>\n    <tr>\n      <th>number_of_distinct_instance_items (a)</th>\n      <td>18</td>\n    </tr>\n    <tr>\n      <th>number_of_learners (a)</th>\n      <td>26</td>\n    </tr>\n    <tr>\n      <th>org_id (o)</th>\n      <td>19164</td>\n    </tr>\n    <tr>\n      <th>points_possible_unweighted (aa)</th>\n      <td>39</td>\n    </tr>\n    <tr>\n      <th>scored_datetime (aa)</th>\n      <td>NaT</td>\n    </tr>\n    <tr>\n      <th>section_id (s)</th>\n      <td>190142</td>\n    </tr>\n    <tr>\n      <th>student_start_datetime (aa)</th>\n      <td>NaT</td>\n    </tr>\n    <tr>\n      <th>NaN</th>\n      <td>True</td>\n    </tr>\n    <tr>\n      <th>student_stop_datetime (aa)</th>\n      <td>NaT</td>\n    </tr>\n    <tr>\n      <th>NaN</th>\n      <td>True</td>\n    </tr>\n    <tr>\n      <th>was_fully_scored_datetime (aa)</th>\n      <td>NaT</td>\n    </tr>\n    <tr>\n      <th>NaN</th>\n      <td>True</td>\n    </tr>\n    <tr>\n      <th>was_in_progress_datetime (aa)</th>\n      <td>NaT</td>\n    </tr>\n    <tr>\n      <th>was_submitted_datetime_actual (aa)</th>\n      <td>NaT</td>\n    </tr>\n  </tbody>\n</table>\n</div>"
     },
     "execution_count": 13,
     "metadata": {},
     "output_type": "execute_result"
    }
   ],
   "source": [
    "distinct_val(null2Df.filter(F.col('student_start_datetime').isNull()))"
   ],
   "metadata": {
    "collapsed": false,
    "pycharm": {
     "name": "#%%\n"
    }
   }
  },
  {
   "cell_type": "code",
   "execution_count": 8,
   "metadata": {
    "execution": {
     "iopub.execute_input": "2020-10-28T01:25:27.884168Z",
     "iopub.status.busy": "2020-10-28T01:25:27.883239Z",
     "iopub.status.idle": "2020-10-28T01:25:27.889028Z",
     "shell.execute_reply": "2020-10-28T01:25:27.889867Z"
    },
    "pycharm": {
     "name": "#%%\n"
    }
   },
   "outputs": [
    {
     "name": "stdout",
     "output_type": "stream",
     "text": [
      "Finished: Investigate 749 t0 750 null dates\n",
      "Todo: Impute 749 t0 750 null dates\n"
     ]
    }
   ],
   "source": [
    "finish_todo('Investigate null student and scored dates')\n",
    "add_todo('Remove student start or stop null dates')"
   ]
  }
 ],
 "metadata": {
  "kernelspec": {
   "display_name": "Python 3",
   "language": "python",
   "name": "python3"
  },
  "language_info": {
   "codemirror_mode": {
    "name": "ipython",
    "version": 3
   },
   "file_extension": ".py",
   "mimetype": "text/x-python",
   "name": "python",
   "nbconvert_exporter": "python",
   "pygments_lexer": "ipython3",
   "version": "3.6.3"
  }
 },
 "nbformat": 4,
 "nbformat_minor": 1
}