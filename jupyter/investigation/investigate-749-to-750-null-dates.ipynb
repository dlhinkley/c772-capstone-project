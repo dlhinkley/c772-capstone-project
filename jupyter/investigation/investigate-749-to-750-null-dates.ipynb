{
 "cells": [
  {
   "cell_type": "markdown",
   "metadata": {
    "collapsed": true,
    "pycharm": {
     "name": "#%% md\n"
    }
   },
   "source": [
    "### Investigate 749 to 750 null dates\n",
    "   - in\n",
    "      - student_start_datetime\n",
    "      - student_stop_datetime\n",
    "      - was_fully_scored_datetime"
   ]
  },
  {
   "cell_type": "code",
   "execution_count": 4,
   "metadata": {
    "execution": {
     "iopub.execute_input": "2020-10-28T01:25:03.602753Z",
     "iopub.status.busy": "2020-10-28T01:25:03.599183Z",
     "iopub.status.idle": "2020-10-28T01:25:12.861324Z",
     "shell.execute_reply": "2020-10-28T01:25:12.861994Z"
    },
    "pycharm": {
     "name": "#%%\n"
    }
   },
   "outputs": [
    {
     "name": "stdout",
     "output_type": "stream",
     "text": [
      "dython              0.6.1\n",
      "tinydb              4.2.0\n"
     ]
    },
    {
     "name": "stderr",
     "output_type": "stream",
     "text": [
      "WARNING: You are using pip version 20.2.3; however, version 20.2.4 is available.\n",
      "You should consider upgrading via the '/Users/duane.hinkley/PycharmProjects/c772-capstone-project/venv/bin/python -m pip install --upgrade pip' command.\n",
      "WARNING: You are using pip version 20.2.3; however, version 20.2.4 is available.\n",
      "You should consider upgrading via the '/Users/duane.hinkley/PycharmProjects/c772-capstone-project/venv/bin/python -m pip install --upgrade pip' command.\n"
     ]
    }
   ],
   "source": [
    "%run '../lib/libraries.ipynb'"
   ]
  },
  {
   "cell_type": "code",
   "execution_count": 2,
   "metadata": {
    "execution": {
     "iopub.execute_input": "2020-10-28T01:25:12.868472Z",
     "iopub.status.busy": "2020-10-28T01:25:12.867017Z",
     "iopub.status.idle": "2020-10-28T01:25:17.454525Z",
     "shell.execute_reply": "2020-10-28T01:25:17.455157Z"
    },
    "pycharm": {
     "name": "#%%\n"
    }
   },
   "outputs": [],
   "source": [
    "filterDf  = load_df('filterDf')"
   ]
  },
  {
   "cell_type": "markdown",
   "metadata": {
    "pycharm": {
     "name": "#%% md\n"
    }
   },
   "source": [
    "###### Create dataframe of null dates"
   ]
  },
  {
   "cell_type": "code",
   "execution_count": 3,
   "metadata": {
    "execution": {
     "iopub.execute_input": "2020-10-28T01:25:17.460478Z",
     "iopub.status.busy": "2020-10-28T01:25:17.459614Z",
     "iopub.status.idle": "2020-10-28T01:25:20.056845Z",
     "shell.execute_reply": "2020-10-28T01:25:20.055650Z"
    },
    "pycharm": {
     "name": "#%%\n"
    }
   },
   "outputs": [
    {
     "data": {
      "text/plain": "749"
     },
     "execution_count": 3,
     "metadata": {},
     "output_type": "execute_result"
    }
   ],
   "source": [
    "nullDf = filterDf.filter(F.col('student_start_datetime').isNull())\n",
    "\n",
    "nullDf.count()"
   ]
  },
  {
   "cell_type": "markdown",
   "source": [
    "749 null observations"
   ],
   "metadata": {
    "collapsed": false,
    "pycharm": {
     "name": "#%% md\n"
    }
   }
  },
  {
   "cell_type": "markdown",
   "metadata": {
    "pycharm": {
     "name": "#%% md\n"
    }
   },
   "source": [
    "###### Display distinct values"
   ]
  },
  {
   "cell_type": "code",
   "execution_count": 5,
   "metadata": {
    "execution": {
     "iopub.execute_input": "2020-10-28T01:25:20.065489Z",
     "iopub.status.busy": "2020-10-28T01:25:20.064066Z",
     "iopub.status.idle": "2020-10-28T01:25:26.429412Z",
     "shell.execute_reply": "2020-10-28T01:25:26.430379Z"
    },
    "pycharm": {
     "name": "#%%\n"
    }
   },
   "outputs": [
    {
     "data": {
      "text/plain": "                                     0\nassignment_attempt_number            1\nassignment_max_attempts              1\nced_assignment_type_code    assessment\nis_affecting_grade                True\nis_force_scored                  False\nis_manual_scoring_required       False\norg_id                           19164",
      "text/html": "<div>\n<style scoped>\n    .dataframe tbody tr th:only-of-type {\n        vertical-align: middle;\n    }\n\n    .dataframe tbody tr th {\n        vertical-align: top;\n    }\n\n    .dataframe thead th {\n        text-align: right;\n    }\n</style>\n<table border=\"1\" class=\"dataframe\">\n  <thead>\n    <tr style=\"text-align: right;\">\n      <th></th>\n      <th>0</th>\n    </tr>\n  </thead>\n  <tbody>\n    <tr>\n      <th>assignment_attempt_number</th>\n      <td>1</td>\n    </tr>\n    <tr>\n      <th>assignment_max_attempts</th>\n      <td>1</td>\n    </tr>\n    <tr>\n      <th>ced_assignment_type_code</th>\n      <td>assessment</td>\n    </tr>\n    <tr>\n      <th>is_affecting_grade</th>\n      <td>True</td>\n    </tr>\n    <tr>\n      <th>is_force_scored</th>\n      <td>False</td>\n    </tr>\n    <tr>\n      <th>is_manual_scoring_required</th>\n      <td>False</td>\n    </tr>\n    <tr>\n      <th>org_id</th>\n      <td>19164</td>\n    </tr>\n  </tbody>\n</table>\n</div>"
     },
     "execution_count": 5,
     "metadata": {},
     "output_type": "execute_result"
    }
   ],
   "source": [
    "distinct_val(nullDf)"
   ]
  },
  {
   "cell_type": "markdown",
   "metadata": {
    "pycharm": {
     "name": "#%% md\n"
    }
   },
   "source": [
    "- assignment_attempt_number = 1\n",
    "- assignment_max_attempts = 1\n",
    "- ced_assignment_type_code = assessment\n",
    "  - A majority (76,172) of observations have this code\n",
    "- is_affecting_grade = True\n",
    "- is_force_scored = False\n",
    "- is_manual_scoring_required = False\n",
    "- org_id = 19164\n",
    "  - All from on organization"
   ]
  },
  {
   "cell_type": "markdown",
   "metadata": {
    "pycharm": {
     "name": "#%% md\n"
    }
   },
   "source": [
    "###### Compare dates with full sample"
   ]
  },
  {
   "cell_type": "code",
   "execution_count": 7,
   "metadata": {
    "execution": {
     "iopub.execute_input": "2020-10-28T01:25:26.437190Z",
     "iopub.status.busy": "2020-10-28T01:25:26.435320Z",
     "iopub.status.idle": "2020-10-28T01:25:27.878383Z",
     "shell.execute_reply": "2020-10-28T01:25:27.879053Z"
    },
    "pycharm": {
     "name": "#%%\n"
    }
   },
   "outputs": [
    {
     "data": {
      "text/plain": "<Figure size 432x288 with 2 Axes>",
      "image/png": "[encoded data removed]"
     },
     "metadata": {
      "needs_background": "light"
     },
     "output_type": "display_data"
    }
   ],
   "source": [
    "dual_date_boxplot(\n",
    "    get_random_sample(filterDf),\n",
    "    nullDf,\n",
    "    title1=\"All Dates\",\n",
    "    title2='Null Dates',\n",
    "    main='All vs Null Dates'\n",
    ")"
   ]
  },
  {
   "cell_type": "markdown",
   "metadata": {
    "pycharm": {
     "name": "#%% md\n"
    }
   },
   "source": [
    "- assignment_start_date, min_student_start_datetime & scored_datetime\n",
    "  - 10/2019 to 11/2019 (with outliers)\n",
    "- Appears to be for a limited date range and one org\n",
    "- Will impute missing values with mean"
   ]
  },
  {
   "cell_type": "code",
   "execution_count": 6,
   "metadata": {
    "execution": {
     "iopub.execute_input": "2020-10-28T01:25:27.884168Z",
     "iopub.status.busy": "2020-10-28T01:25:27.883239Z",
     "iopub.status.idle": "2020-10-28T01:25:27.889028Z",
     "shell.execute_reply": "2020-10-28T01:25:27.889867Z"
    },
    "pycharm": {
     "name": "#%%\n"
    }
   },
   "outputs": [],
   "source": [
    "finish_todo('Investigate 749 t0 750 null dates')\n",
    "add_todo('Impute 749 t0 750 null dates')"
   ]
  }
 ],
 "metadata": {
  "kernelspec": {
   "display_name": "Python 3",
   "language": "python",
   "name": "python3"
  },
  "language_info": {
   "codemirror_mode": {
    "name": "ipython",
    "version": 3
   },
   "file_extension": ".py",
   "mimetype": "text/x-python",
   "name": "python",
   "nbconvert_exporter": "python",
   "pygments_lexer": "ipython3",
   "version": "3.6.3"
  }
 },
 "nbformat": 4,
 "nbformat_minor": 1
}