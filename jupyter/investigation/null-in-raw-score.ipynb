{
 "cells": [
  {
   "cell_type": "markdown",
   "metadata": {
    "collapsed": false
   },
   "source": [
    "### Investigate null values in raw_score"
   ]
  },
  {
   "cell_type": "code",
   "execution_count": 1,
   "metadata": {
    "collapsed": false,
    "execution": {
     "iopub.execute_input": "2020-10-28T01:18:53.236237Z",
     "iopub.status.busy": "2020-10-28T01:18:53.234169Z",
     "iopub.status.idle": "2020-10-28T01:19:05.152675Z",
     "shell.execute_reply": "2020-10-28T01:19:05.153330Z"
    },
    "pycharm": {
     "name": "#%%\n"
    }
   },
   "outputs": [],
   "source": [
    "%%capture\n",
    "\n",
    "%run '../lib/libraries.ipynb'\n",
    "from ..lib import utilities as util\n",
    "from pyspark.sql import functions as F"
   ]
  },
  {
   "cell_type": "code",
   "execution_count": 2,
   "metadata": {
    "collapsed": false,
    "execution": {
     "iopub.execute_input": "2020-10-28T01:19:05.159564Z",
     "iopub.status.busy": "2020-10-28T01:19:05.158229Z",
     "iopub.status.idle": "2020-10-28T01:19:10.042522Z",
     "shell.execute_reply": "2020-10-28T01:19:10.043708Z"
    },
    "pycharm": {
     "name": "#%%\n"
    }
   },
   "outputs": [],
   "source": [
    "filterDf = util.load_df('filterDf')"
   ]
  },
  {
   "cell_type": "markdown",
   "metadata": {
    "collapsed": false
   },
   "source": [
    "###### Select the null values in raw_score"
   ]
  },
  {
   "cell_type": "code",
   "execution_count": 3,
   "metadata": {
    "collapsed": false,
    "execution": {
     "iopub.execute_input": "2020-10-28T01:19:10.051447Z",
     "iopub.status.busy": "2020-10-28T01:19:10.050073Z",
     "iopub.status.idle": "2020-10-28T01:19:10.141709Z",
     "shell.execute_reply": "2020-10-28T01:19:10.142667Z"
    },
    "pycharm": {
     "name": "#%%\n"
    }
   },
   "outputs": [
    {
     "data": {
      "text/plain": "34"
     },
     "execution_count": 3,
     "metadata": {},
     "output_type": "execute_result"
    }
   ],
   "source": [
    "rcNullDf = filterDf.filter(F.col('raw_score').isNull() )\n",
    "rcNullDf.count()"
   ]
  },
  {
   "cell_type": "markdown",
   "metadata": {
    "collapsed": false,
    "pycharm": {
     "name": "#%% md\n"
    }
   },
   "source": [
    "###### Display values with null response_correctness"
   ]
  },
  {
   "cell_type": "code",
   "execution_count": 4,
   "metadata": {
    "collapsed": false,
    "execution": {
     "iopub.execute_input": "2020-10-28T01:19:10.149488Z",
     "iopub.status.busy": "2020-10-28T01:19:10.147976Z",
     "iopub.status.idle": "2020-10-28T01:19:12.562448Z",
     "shell.execute_reply": "2020-10-28T01:19:12.563735Z"
    },
    "pycharm": {
     "name": "#%%\n"
    }
   },
   "outputs": [
    {
     "data": {
      "text/plain": "34"
     },
     "execution_count": 4,
     "metadata": {},
     "output_type": "execute_result"
    }
   ],
   "source": [
    "rcNullDf.filter(F.col('response_correctness').isNull() ).count()"
   ]
  },
  {
   "cell_type": "markdown",
   "metadata": {
    "collapsed": false
   },
   "source": [
    "#### Conclusion\n",
    "- All values are null response_correctness\n",
    "- Will be addressed in \"Remove null values in response_correctness\""
   ]
  },
  {
   "cell_type": "code",
   "execution_count": 5,
   "metadata": {
    "collapsed": false,
    "execution": {
     "iopub.execute_input": "2020-10-28T01:19:12.572247Z",
     "iopub.status.busy": "2020-10-28T01:19:12.570779Z",
     "iopub.status.idle": "2020-10-28T01:19:12.574629Z",
     "shell.execute_reply": "2020-10-28T01:19:12.575732Z"
    },
    "pycharm": {
     "name": "#%%\n"
    }
   },
   "outputs": [
    {
     "name": "stdout",
     "output_type": "stream",
     "text": [
      "Finished: Investigate null values in raw_score\n"
     ]
    }
   ],
   "source": [
    "util.finish_todo('Investigate null values in raw_score')"
   ]
  },
  {
   "cell_type": "code",
   "execution_count": 5,
   "metadata": {
    "collapsed": false,
    "pycharm": {
     "name": "#%%\n"
    }
   },
   "outputs": [],
   "source": []
  }
 ],
 "metadata": {
  "kernelspec": {
   "display_name": "Python 3",
   "language": "python",
   "name": "python3"
  },
  "language_info": {
   "codemirror_mode": {
    "name": "ipython",
    "version": 3
   },
   "file_extension": ".py",
   "mimetype": "text/x-python",
   "name": "python",
   "nbconvert_exporter": "python",
   "pygments_lexer": "ipython3",
   "version": "3.6.3"
  }
 },
 "nbformat": 4,
 "nbformat_minor": 0
}