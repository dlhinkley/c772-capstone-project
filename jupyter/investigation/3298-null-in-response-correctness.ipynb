{
 "cells": [
  {
   "cell_type": "markdown",
   "metadata": {},
   "source": [
    "### Investigate 3298 null values in response_correctness"
   ]
  },
  {
   "cell_type": "code",
   "execution_count": 10,
   "metadata": {
    "pycharm": {
     "name": "#%%\n"
    },
    "scrolled": true
   },
   "outputs": [
    {
     "name": "stdout",
     "output_type": "stream",
     "text": [
      "dython              0.6.1\n",
      "tinydb              4.2.0\n"
     ]
    },
    {
     "name": "stderr",
     "output_type": "stream",
     "text": [
      "WARNING: You are using pip version 20.2.3; however, version 20.2.4 is available.\n",
      "You should consider upgrading via the '/Users/duane.hinkley/PycharmProjects/c772-capstone-project/venv/bin/python -m pip install --upgrade pip' command.\n",
      "WARNING: You are using pip version 20.2.3; however, version 20.2.4 is available.\n",
      "You should consider upgrading via the '/Users/duane.hinkley/PycharmProjects/c772-capstone-project/venv/bin/python -m pip install --upgrade pip' command.\n"
     ]
    }
   ],
   "source": [
    "%run '../lib/libraries.ipynb'"
   ]
  },
  {
   "cell_type": "code",
   "execution_count": 11,
   "metadata": {
    "pycharm": {
     "name": "#%%\n"
    }
   },
   "outputs": [],
   "source": [
    "dfFlt = load_df('dfFlt')"
   ]
  },
  {
   "cell_type": "markdown",
   "metadata": {},
   "source": [
    "###### Select the  3298 null values in response_correctness"
   ]
  },
  {
   "cell_type": "code",
   "execution_count": 12,
   "metadata": {
    "pycharm": {
     "name": "#%%\n"
    }
   },
   "outputs": [],
   "source": [
    "rcNullDf = dfFlt.filter(F.col('response_correctness').isNull() )"
   ]
  },
  {
   "cell_type": "markdown",
   "source": [
    "###### Display Distinct Values"
   ],
   "metadata": {
    "collapsed": false,
    "pycharm": {
     "name": "#%% md\n"
    }
   }
  },
  {
   "cell_type": "code",
   "execution_count": 13,
   "metadata": {
    "pycharm": {
     "name": "#%%\n"
    }
   },
   "outputs": [
    {
     "data": {
      "text/plain": "                                       0\nassignment_max_attempts                1\nassignment_late_submission         False\nassignment_attempt_number              1\nis_manual_scoring_required         False\nitem_is_offline_scored             False\nlearner_attempt_status      fully scored\nscoring_type_code           [unassigned]\nraw_score                            NaN\nresponse_correctness                None\nis_deleted                         False",
      "text/html": "<div>\n<style scoped>\n    .dataframe tbody tr th:only-of-type {\n        vertical-align: middle;\n    }\n\n    .dataframe tbody tr th {\n        vertical-align: top;\n    }\n\n    .dataframe thead th {\n        text-align: right;\n    }\n</style>\n<table border=\"1\" class=\"dataframe\">\n  <thead>\n    <tr style=\"text-align: right;\">\n      <th></th>\n      <th>0</th>\n    </tr>\n  </thead>\n  <tbody>\n    <tr>\n      <th>assignment_max_attempts</th>\n      <td>1</td>\n    </tr>\n    <tr>\n      <th>assignment_late_submission</th>\n      <td>False</td>\n    </tr>\n    <tr>\n      <th>assignment_attempt_number</th>\n      <td>1</td>\n    </tr>\n    <tr>\n      <th>is_manual_scoring_required</th>\n      <td>False</td>\n    </tr>\n    <tr>\n      <th>item_is_offline_scored</th>\n      <td>False</td>\n    </tr>\n    <tr>\n      <th>learner_attempt_status</th>\n      <td>fully scored</td>\n    </tr>\n    <tr>\n      <th>scoring_type_code</th>\n      <td>[unassigned]</td>\n    </tr>\n    <tr>\n      <th>raw_score</th>\n      <td>NaN</td>\n    </tr>\n    <tr>\n      <th>response_correctness</th>\n      <td>None</td>\n    </tr>\n    <tr>\n      <th>is_deleted</th>\n      <td>False</td>\n    </tr>\n  </tbody>\n</table>\n</div>"
     },
     "execution_count": 13,
     "metadata": {},
     "output_type": "execute_result"
    }
   ],
   "source": [
    "distinct_val(rcNullDf)"
   ]
  },
  {
   "cell_type": "markdown",
   "metadata": {},
   "source": [
    "- New Distinct values\n",
    "  - Values\n",
    "    - item_is_offline_scored = False (scored automatically)\n",
    "    - scoring_type_code = \"[unassigned]\" (scored manually by human)\n",
    "      - \"[unassigned]\" is an unexpected value possibly indicating a automated scoring anomaly\n",
    "    - response_correctness = \"None\" (actually null)\n",
    "    - raw_score is also null\n",
    "  - Many values indicate the item not attempted\n"
   ]
  },
  {
   "cell_type": "markdown",
   "source": [
    "###### Display Attempt Categorical / Identifiers"
   ],
   "metadata": {
    "collapsed": false,
    "pycharm": {
     "name": "#%% md\n"
    }
   }
  },
  {
   "cell_type": "code",
   "execution_count": 21,
   "outputs": [
    {
     "name": "stdout",
     "output_type": "stream",
     "text": [
      "assessment_instance_attempt_id\n",
      "+------+----+\n",
      "|unique|null|\n",
      "+------+----+\n",
      "|    14|3264|\n",
      "+------+----+\n",
      "\n",
      "assessment_item_response_id\n",
      "+------+----+\n",
      "|unique|null|\n",
      "+------+----+\n",
      "|    24|3264|\n",
      "+------+----+\n",
      "\n"
     ]
    }
   ],
   "source": [
    "types = get_var_types()\n",
    "\n",
    "for f in [\n",
    "    'assessment_instance_attempt_id',\n",
    "    'assessment_item_response_id',\n",
    "]:\n",
    "  print(f)\n",
    "  rcNullDf.agg(\n",
    "    F.countDistinct(f).alias('unique'),\n",
    "    F.count(F.when(F.col(f).isNull(), f)).alias('null')\n",
    "  ).show()\n"
   ],
   "metadata": {
    "collapsed": false,
    "pycharm": {
     "name": "#%%\n"
    }
   }
  },
  {
   "cell_type": "markdown",
   "metadata": {},
   "source": [
    "- Indicate items not attempted\n",
    "  - 3264 of the 3298 have no response or attempt"
   ]
  },
  {
   "cell_type": "markdown",
   "metadata": {},
   "source": [
    "###### Display Interval Statistics for null and all"
   ]
  },
  {
   "cell_type": "code",
   "execution_count": 16,
   "metadata": {
    "pycharm": {
     "name": "#%%\n"
    }
   },
   "outputs": [
    {
     "data": {
      "text/plain": "<Figure size 432x288 with 2 Axes>",
      "image/png": "[encoded data removed]"
     },
     "metadata": {
      "needs_background": "light"
     },
     "output_type": "display_data"
    }
   ],
   "source": [
    "dual_date_boxplot(\n",
    "    get_random_sample(dfFlt),\n",
    "    rcNullDf,\n",
    "    title1='All',\n",
    "    title2='Null',\n",
    "    main='All and After Null Dates'\n",
    ")"
   ]
  },
  {
   "cell_type": "markdown",
   "metadata": {},
   "source": [
    "- All dates\n",
    "    - Equal distribution between 8/2019 and 5/2020\n",
    "- Null dates\n",
    "    - Majority of nulls between 10/2019 and 1/2020\n",
    "      - max_student_stop_datetime\n",
    "      - student_start_datetime\n",
    "      - student_stop_datetime\n",
    "      - was_fully_scored_datetime\n",
    "    - between 10/2019 and 11/2019\n",
    "      - was_in_progress_datetime\n",
    "      - was_submitted_datetime_actual\n",
    "      - item_attempt_start_datetime_utc\n",
    "      - item_attempt_stop_datetime_utc\n",
    "- Conclusion\n",
    "  - Null dates happened between 10/2019 and 11/2019"
   ]
  },
  {
   "cell_type": "markdown",
   "metadata": {
    "pycharm": {
     "name": "#%% md\n"
    }
   },
   "source": [
    "###### Cross tabulation of response_correctness to raw_score"
   ]
  },
  {
   "cell_type": "code",
   "execution_count": 31,
   "metadata": {
    "pycharm": {
     "name": "#%%\n"
    }
   },
   "outputs": [
    {
     "data": {
      "text/plain": "response_correctness  [unassigned]  correct  incorrect  partially_correct\nzero_score                                                               \nNo                             2.0     57.0       39.0                2.0",
      "text/html": "<div>\n<style scoped>\n    .dataframe tbody tr th:only-of-type {\n        vertical-align: middle;\n    }\n\n    .dataframe tbody tr th {\n        vertical-align: top;\n    }\n\n    .dataframe thead th {\n        text-align: right;\n    }\n</style>\n<table border=\"1\" class=\"dataframe\">\n  <thead>\n    <tr style=\"text-align: right;\">\n      <th>response_correctness</th>\n      <th>[unassigned]</th>\n      <th>correct</th>\n      <th>incorrect</th>\n      <th>partially_correct</th>\n    </tr>\n    <tr>\n      <th>zero_score</th>\n      <th></th>\n      <th></th>\n      <th></th>\n      <th></th>\n    </tr>\n  </thead>\n  <tbody>\n    <tr>\n      <th>No</th>\n      <td>2.0</td>\n      <td>57.0</td>\n      <td>39.0</td>\n      <td>2.0</td>\n    </tr>\n  </tbody>\n</table>\n</div>"
     },
     "execution_count": 31,
     "metadata": {},
     "output_type": "execute_result"
    }
   ],
   "source": [
    "pdDf =  dfFlt.withColumn('zero_score',\n",
    "                      F.when( F.col('raw_score').isNull(), 'Null')\n",
    "                        .when( F.col('raw_score').isNull(), 'Yes')\n",
    "                        .otherwise('No')\n",
    "            ).select('zero_score', 'response_correctness').toPandas()\n",
    "\n",
    "crosstab_percent( pd.crosstab(pdDf.zero_score, pdDf.response_correctness) )"
   ]
  },
  {
   "cell_type": "markdown",
   "metadata": {},
   "source": [
    "- response_correctness strongly correlated with raw_score\n",
    "- 95%, response_correctness = correct when score is not zero\n",
    "- 98%, response_correctness = incorrect when score is zero"
   ]
  },
  {
   "cell_type": "markdown",
   "metadata": {
    "pycharm": {
     "name": "#%% md\n"
    }
   },
   "source": [
    "###### Conclusion\n",
    "- Remove observations with response_correctness = null\n",
    "  - items not attempted"
   ]
  },
  {
   "cell_type": "code",
   "execution_count": null,
   "outputs": [],
   "source": [
    "finish_todo('Investigate 3298 null values in response_correctness')\n",
    "\n",
    "add_todo('Remove 3298 null values in response_correctness')"
   ],
   "metadata": {
    "collapsed": false,
    "pycharm": {
     "name": "#%%\n"
    }
   }
  },
  {
   "cell_type": "code",
   "execution_count": 10,
   "metadata": {
    "pycharm": {
     "name": "#%%\n"
    }
   },
   "outputs": [],
   "source": []
  }
 ],
 "metadata": {
  "kernelspec": {
   "display_name": "Python 3",
   "language": "python",
   "name": "python3"
  },
  "language_info": {
   "codemirror_mode": {
    "name": "ipython",
    "version": 3
   },
   "file_extension": ".py",
   "mimetype": "text/x-python",
   "name": "python",
   "nbconvert_exporter": "python",
   "pygments_lexer": "ipython3",
   "version": "3.6.3"
  }
 },
 "nbformat": 4,
 "nbformat_minor": 1
}