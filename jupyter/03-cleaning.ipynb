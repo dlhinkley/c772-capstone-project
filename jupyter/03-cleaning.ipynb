{
 "cells": [
  {
   "cell_type": "markdown",
   "metadata": {},
   "source": [
    "## Cleaning"
   ]
  },
  {
   "cell_type": "code",
   "execution_count": 214,
   "metadata": {
    "pycharm": {
     "name": "#%%\n"
    }
   },
   "outputs": [
    {
     "name": "stdout",
     "output_type": "stream",
     "text": [
      "dython              0.6.1\n",
      "tinydb              4.2.0\n"
     ]
    },
    {
     "name": "stderr",
     "output_type": "stream",
     "text": [
      "WARNING: You are using pip version 20.2.3; however, version 20.2.4 is available.\n",
      "You should consider upgrading via the '/Users/duane.hinkley/PycharmProjects/c772-capstone-project/venv/bin/python -m pip install --upgrade pip' command.\n",
      "WARNING: You are using pip version 20.2.3; however, version 20.2.4 is available.\n",
      "You should consider upgrading via the '/Users/duane.hinkley/PycharmProjects/c772-capstone-project/venv/bin/python -m pip install --upgrade pip' command.\n"
     ]
    }
   ],
   "source": [
    "%%capture\n",
    "\n",
    "%run './lib/libraries.ipynb'\n",
    "from .lib import utilities as util\n",
    "from pyspark.sql import functions as F"
   ]
  },
  {
   "cell_type": "code",
   "execution_count": 215,
   "metadata": {
    "pycharm": {
     "name": "#%%\n"
    }
   },
   "outputs": [],
   "source": [
    "filterDf  = util.load_df('filterDf')\n",
    "cleanDf = filterDf"
   ]
  },
  {
   "cell_type": "markdown",
   "source": [
    "### Remove unused variables\n",
    "\n",
    "#### Remove unary learner_attempt_status = \"fully scored\""
   ],
   "metadata": {
    "collapsed": false,
    "pycharm": {
     "name": "#%% md\n"
    }
   }
  },
  {
   "cell_type": "code",
   "execution_count": 216,
   "outputs": [],
   "source": [
    "cleanDf = cleanDf.drop('learner_attempt_status')"
   ],
   "metadata": {
    "collapsed": false,
    "pycharm": {
     "name": "#%%\n"
    }
   }
  },
  {
   "cell_type": "code",
   "execution_count": 217,
   "outputs": [],
   "source": [
    "util.finish_todo('Remove unary learner_attempt_status = \"fully scored\"')"
   ],
   "metadata": {
    "collapsed": false,
    "pycharm": {
     "name": "#%%\n"
    }
   }
  },
  {
   "cell_type": "markdown",
   "source": [
    "#### Remove attempt stop dates before start date"
   ],
   "metadata": {
    "collapsed": false,
    "pycharm": {
     "name": "#%% md\n"
    }
   }
  },
  {
   "cell_type": "code",
   "execution_count": 220,
   "outputs": [],
   "source": [
    "cleanDf = util.remove_stop_dates_before_start_dates(cleanDf)"
   ],
   "metadata": {
    "collapsed": false,
    "pycharm": {
     "name": "#%%\n"
    }
   }
  },
  {
   "cell_type": "code",
   "execution_count": 221,
   "outputs": [],
   "source": [
    "util.finish_todo('Remove attempt stop dates before start date')"
   ],
   "metadata": {
    "collapsed": false,
    "pycharm": {
     "name": "#%%\n"
    }
   }
  },
  {
   "cell_type": "markdown",
   "source": [
    "#### Remove 3298 null values in raw_score"
   ],
   "metadata": {
    "collapsed": false
   }
  },
  {
   "cell_type": "code",
   "execution_count": 222,
   "outputs": [],
   "source": [
    "cleanDf = cleanDf.filter( F.col('raw_score').isNull() == False )"
   ],
   "metadata": {
    "collapsed": false,
    "pycharm": {
     "name": "#%%\n"
    }
   }
  },
  {
   "cell_type": "code",
   "execution_count": 223,
   "outputs": [],
   "source": [
    "util.finish_todo('Remove 3298 null values in raw_score')"
   ],
   "metadata": {
    "collapsed": false,
    "pycharm": {
     "name": "#%%\n"
    }
   }
  },
  {
   "cell_type": "markdown",
   "source": [
    "#### Remove 1566 null dates"
   ],
   "metadata": {
    "collapsed": false,
    "pycharm": {
     "name": "#%% md\n"
    }
   }
  },
  {
   "cell_type": "code",
   "execution_count": 224,
   "outputs": [],
   "source": [
    "cleanDf = cleanDf.filter(\n",
    "      ( F.col('assignment_due_date').isNull() == False )\n",
    "    & ( F.col('assignment_final_submission_date').isNull() == False )\n",
    "    & ( F.col('assignment_start_date').isNull() == False )\n",
    " )"
   ],
   "metadata": {
    "collapsed": false,
    "pycharm": {
     "name": "#%%\n"
    }
   }
  },
  {
   "cell_type": "code",
   "execution_count": 225,
   "outputs": [],
   "source": [
    "util.finish_todo('Remove 1566 null dates')\n"
   ],
   "metadata": {
    "collapsed": false,
    "pycharm": {
     "name": "#%%\n"
    }
   }
  },
  {
   "cell_type": "markdown",
   "source": [
    "### Impute"
   ],
   "metadata": {
    "collapsed": false
   }
  },
  {
   "cell_type": "markdown",
   "source": [
    "#### Remove 749 t0 750 student start or stop null dates\n",
    "Impute null dates\n",
    "   - in\n",
    "      - student_start_datetime\n",
    "      - student_stop_datetime\n",
    "      - was_fully_scored_datetime"
   ],
   "metadata": {
    "collapsed": false
   }
  },
  {
   "cell_type": "markdown",
   "source": [
    "- Before"
   ],
   "metadata": {
    "collapsed": false,
    "pycharm": {
     "name": "#%% md\n"
    }
   }
  },
  {
   "cell_type": "code",
   "execution_count": 226,
   "outputs": [
    {
     "data": {
      "text/plain": "                           distinct  null         min         max\nstudent_start_datetime         6778   427  2019-08-23  2020-05-26\nstudent_stop_datetime          6600   427  2019-08-23  2020-05-26\nwas_fully_scored_datetime      6732   428  2019-08-23  2020-05-26",
      "text/html": "<div>\n<style scoped>\n    .dataframe tbody tr th:only-of-type {\n        vertical-align: middle;\n    }\n\n    .dataframe tbody tr th {\n        vertical-align: top;\n    }\n\n    .dataframe thead th {\n        text-align: right;\n    }\n</style>\n<table border=\"1\" class=\"dataframe\">\n  <thead>\n    <tr style=\"text-align: right;\">\n      <th></th>\n      <th>distinct</th>\n      <th>null</th>\n      <th>min</th>\n      <th>max</th>\n    </tr>\n  </thead>\n  <tbody>\n    <tr>\n      <th>student_start_datetime</th>\n      <td>6778</td>\n      <td>427</td>\n      <td>2019-08-23</td>\n      <td>2020-05-26</td>\n    </tr>\n    <tr>\n      <th>student_stop_datetime</th>\n      <td>6600</td>\n      <td>427</td>\n      <td>2019-08-23</td>\n      <td>2020-05-26</td>\n    </tr>\n    <tr>\n      <th>was_fully_scored_datetime</th>\n      <td>6732</td>\n      <td>428</td>\n      <td>2019-08-23</td>\n      <td>2020-05-26</td>\n    </tr>\n  </tbody>\n</table>\n</div>"
     },
     "execution_count": 226,
     "metadata": {},
     "output_type": "execute_result"
    }
   ],
   "source": [
    "util.date_statisticts(cleanDf, ['student_start_datetime', 'student_stop_datetime' , 'was_fully_scored_datetime'])"
   ],
   "metadata": {
    "collapsed": false,
    "pycharm": {
     "name": "#%%\n"
    }
   }
  },
  {
   "cell_type": "code",
   "execution_count": 227,
   "outputs": [],
   "source": [
    "cleanDf = util.remove_null_student_dates(cleanDf)\n",
    "\n",
    "# Delete any remaining nulls to make sure other varaibles are not imputed using these\n",
    "cleanDf = cleanDf.filter( (F.col('student_start_datetime').isNull() == False ) & (F.col('student_stop_datetime').isNull() == False ) & (F.col('was_fully_scored_datetime').isNull() == False ) )"
   ],
   "metadata": {
    "collapsed": false,
    "pycharm": {
     "name": "#%%\n"
    }
   }
  },
  {
   "cell_type": "markdown",
   "source": [
    "After"
   ],
   "metadata": {
    "collapsed": false,
    "pycharm": {
     "name": "#%% md\n"
    }
   }
  },
  {
   "cell_type": "code",
   "execution_count": 228,
   "outputs": [
    {
     "data": {
      "text/plain": "                           distinct  null         min         max\nstudent_start_datetime         6812     0  2019-08-23  2020-05-26\nstudent_stop_datetime          6634     0  2019-08-23  2020-05-26\nwas_fully_scored_datetime      6767     0  2019-08-23  2020-05-26",
      "text/html": "<div>\n<style scoped>\n    .dataframe tbody tr th:only-of-type {\n        vertical-align: middle;\n    }\n\n    .dataframe tbody tr th {\n        vertical-align: top;\n    }\n\n    .dataframe thead th {\n        text-align: right;\n    }\n</style>\n<table border=\"1\" class=\"dataframe\">\n  <thead>\n    <tr style=\"text-align: right;\">\n      <th></th>\n      <th>distinct</th>\n      <th>null</th>\n      <th>min</th>\n      <th>max</th>\n    </tr>\n  </thead>\n  <tbody>\n    <tr>\n      <th>student_start_datetime</th>\n      <td>6812</td>\n      <td>0</td>\n      <td>2019-08-23</td>\n      <td>2020-05-26</td>\n    </tr>\n    <tr>\n      <th>student_stop_datetime</th>\n      <td>6634</td>\n      <td>0</td>\n      <td>2019-08-23</td>\n      <td>2020-05-26</td>\n    </tr>\n    <tr>\n      <th>was_fully_scored_datetime</th>\n      <td>6767</td>\n      <td>0</td>\n      <td>2019-08-23</td>\n      <td>2020-05-26</td>\n    </tr>\n  </tbody>\n</table>\n</div>"
     },
     "execution_count": 228,
     "metadata": {},
     "output_type": "execute_result"
    }
   ],
   "source": [
    "util.date_statisticts(cleanDf, ['student_start_datetime', 'student_stop_datetime' , 'was_fully_scored_datetime'])"
   ],
   "metadata": {
    "collapsed": false,
    "pycharm": {
     "name": "#%%\n"
    }
   }
  },
  {
   "cell_type": "code",
   "execution_count": 229,
   "outputs": [
    {
     "data": {
      "text/plain": "<Figure size 432x288 with 2 Axes>",
      "image/png": "[encoded data removed]"
     },
     "metadata": {
      "needs_background": "light"
     },
     "output_type": "display_data"
    }
   ],
   "source": [
    "util.dual_date_boxplot(\n",
    "    util.get_random_sample(filterDf),\n",
    "    util.get_random_sample(cleanDf),\n",
    "    title1='Before',\n",
    "    title2='After',\n",
    "    main='Before and After Null Dates Fixed'\n",
    ")"
   ],
   "metadata": {
    "collapsed": false,
    "pycharm": {
     "name": "#%%\n"
    }
   }
  },
  {
   "cell_type": "markdown",
   "source": [
    "- Median changes\n",
    "  - assignment_start_date"
   ],
   "metadata": {
    "collapsed": false,
    "pycharm": {
     "name": "#%% md\n"
    }
   }
  },
  {
   "cell_type": "code",
   "execution_count": 230,
   "outputs": [
    {
     "data": {
      "text/plain": "<Figure size 432x288 with 4 Axes>",
      "image/png": "[encoded data removed]"
     },
     "metadata": {
      "needs_background": "light"
     },
     "output_type": "display_data"
    }
   ],
   "source": [
    "util.dual_mean_hours_assignment(\n",
    "    util.get_random_sample(filterDf),\n",
    "    util.get_random_sample(cleanDf),\n",
    "    title1 = 'Before',\n",
    "    title2 = 'After',\n",
    "    main = 'Before and After Imputation'\n",
    ")"
   ],
   "metadata": {
    "collapsed": false,
    "pycharm": {
     "name": "#%%\n"
    }
   }
  },
  {
   "cell_type": "markdown",
   "source": [
    "Before and After Values Match\n",
    "- student_start_datetime & scored_datetime = 9\n",
    "- student_stop_datetime  & scored_datetime = -12\n",
    "- was_fully_scored_datetime & scored_datetime = -17"
   ],
   "metadata": {
    "collapsed": false
   }
  },
  {
   "cell_type": "code",
   "execution_count": 231,
   "outputs": [],
   "source": [
    "util.finish_todo('Remove 749 t0 750 student start or stop null dates')"
   ],
   "metadata": {
    "collapsed": false,
    "pycharm": {
     "name": "#%%\n"
    }
   }
  },
  {
   "cell_type": "markdown",
   "source": [
    "#### Reduce number of levels in item_type_code_name"
   ],
   "metadata": {
    "collapsed": false
   }
  },
  {
   "cell_type": "markdown",
   "source": [
    "###### Categories before"
   ],
   "metadata": {
    "collapsed": false,
    "pycharm": {
     "name": "#%% md\n"
    }
   }
  },
  {
   "cell_type": "code",
   "execution_count": 232,
   "metadata": {},
   "outputs": [
    {
     "name": "stdout",
     "output_type": "stream",
     "text": [
      "+-------------------+\n",
      "|item_type_code_name|\n",
      "+-------------------+\n",
      "|aheAlgo            |\n",
      "|bucketing          |\n",
      "|choiceMatrix       |\n",
      "|cloze              |\n",
      "|equationEntry      |\n",
      "|essay              |\n",
      "|fileUpload         |\n",
      "|fillInTheBlank     |\n",
      "|graphing           |\n",
      "|imageLabel         |\n",
      "|matching           |\n",
      "|multipleChoice     |\n",
      "|multipleSelect     |\n",
      "|numberLine         |\n",
      "|selectText         |\n",
      "|shortAnswer        |\n",
      "|sortable           |\n",
      "|trueFalse          |\n",
      "+-------------------+\n",
      "\n"
     ]
    }
   ],
   "source": [
    "# Before Categories\n",
    "cleanDf.select(\"item_type_code_name\").distinct().orderBy(\"item_type_code_name\").show(50, False)\n"
   ]
  },
  {
   "cell_type": "code",
   "execution_count": 233,
   "metadata": {},
   "outputs": [],
   "source": [
    "cleanDf = util.reduce_type_code_levels(cleanDf)"
   ]
  },
  {
   "cell_type": "markdown",
   "source": [
    "###### Categories after"
   ],
   "metadata": {
    "collapsed": false,
    "pycharm": {
     "name": "#%% md\n"
    }
   }
  },
  {
   "cell_type": "code",
   "execution_count": 234,
   "outputs": [
    {
     "name": "stdout",
     "output_type": "stream",
     "text": [
      "+-------------------+-----+\n",
      "|item_type_code_name|count|\n",
      "+-------------------+-----+\n",
      "|multipleChoice     |26686|\n",
      "|Other              |13628|\n",
      "|fillInTheBlank     |10494|\n",
      "|equationEntry      |7841 |\n",
      "|trueFalse          |4551 |\n",
      "+-------------------+-----+\n",
      "\n"
     ]
    }
   ],
   "source": [
    "# Display new values\n",
    "cleanDf.groupBy(\"item_type_code_name\").count().orderBy(\"count\", ascending=False).show(50, False)"
   ],
   "metadata": {
    "collapsed": false,
    "pycharm": {
     "name": "#%%\n"
    }
   }
  },
  {
   "cell_type": "code",
   "execution_count": 235,
   "metadata": {},
   "outputs": [],
   "source": [
    "util.finish_todo('Reduce number of levels in item_type_code_name')\n"
   ]
  },
  {
   "cell_type": "code",
   "execution_count": 236,
   "outputs": [],
   "source": [
    "util.save_df(cleanDf, 'cleanDf')"
   ],
   "metadata": {
    "collapsed": false,
    "pycharm": {
     "name": "#%%\n"
    }
   }
  },
  {
   "cell_type": "code",
   "execution_count": 236,
   "outputs": [],
   "source": [],
   "metadata": {
    "collapsed": false,
    "pycharm": {
     "name": "#%%\n"
    }
   }
  }
 ],
 "metadata": {
  "kernelspec": {
   "display_name": "Python 3",
   "language": "python",
   "name": "python3"
  },
  "language_info": {
   "codemirror_mode": {
    "name": "ipython",
    "version": 3
   },
   "file_extension": ".py",
   "mimetype": "text/x-python",
   "name": "python",
   "nbconvert_exporter": "python",
   "pygments_lexer": "ipython3",
   "version": "3.6.3"
  },
  "name": "C772 Capstone Cleaning Sub-Notebook",
  "notebookId": 1125508361365903
 },
 "nbformat": 4,
 "nbformat_minor": 1
}