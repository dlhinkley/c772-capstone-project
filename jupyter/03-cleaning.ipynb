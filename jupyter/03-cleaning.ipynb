{
 "cells": [
  {
   "cell_type": "markdown",
   "metadata": {},
   "source": [
    "## Cleaning"
   ]
  },
  {
   "cell_type": "code",
   "execution_count": 1,
   "metadata": {
    "pycharm": {
     "name": "#%%\n"
    }
   },
   "outputs": [
    {
     "name": "stdout",
     "output_type": "stream",
     "text": [
      "dython              0.6.1\n",
      "tinydb              4.2.0\n"
     ]
    }
   ],
   "source": [
    "%run './lib/libraries.ipynb'"
   ]
  },
  {
   "cell_type": "code",
   "execution_count": 2,
   "metadata": {
    "pycharm": {
     "name": "#%%\n"
    }
   },
   "outputs": [],
   "source": [
    "dfClean  = load_df('dfFlt')"
   ]
  },
  {
   "cell_type": "code",
   "execution_count": 3,
   "metadata": {},
   "outputs": [
    {
     "data": {
      "text/html": [
       "<style scoped>\n",
       "  .ansiout {\n",
       "    display: block;\n",
       "    unicode-bidi: embed;\n",
       "    white-space: pre-wrap;\n",
       "    word-wrap: break-word;\n",
       "    word-break: break-all;\n",
       "    font-family: \"Source Code Pro\", \"Menlo\", monospace;;\n",
       "    font-size: 13px;\n",
       "    color: #555;\n",
       "    margin-left: 4px;\n",
       "    line-height: 19px;\n",
       "  }\n",
       "</style>\n",
       "<div class=\"ansiout\"></div>"
      ]
     },
     "metadata": {},
     "output_type": "display_data"
    }
   ],
   "source": []
  },
  {
   "cell_type": "markdown",
   "metadata": {},
   "source": [
    "###### Remove variables assignment_late_submission, is_manual_scoring_required and is_deleted\n",
    "Do this early so they don't get in the way"
   ]
  },
  {
   "cell_type": "code",
   "execution_count": null,
   "metadata": {
    "pycharm": {
     "name": "#%%\n"
    }
   },
   "outputs": [],
   "source": [
    "dfClean = dfClean.drop('assignment_late_submission', 'is_manual_scoring_required', 'is_deleted')"
   ]
  },
  {
   "cell_type": "code",
   "execution_count": null,
   "metadata": {
    "pycharm": {
     "name": "#%%\n"
    }
   },
   "outputs": [],
   "source": [
    "finish_todo('Remove variables assignment_late_submission, is_manual_scoring_required and is_deleted')"
   ]
  },
  {
   "cell_type": "markdown",
   "metadata": {},
   "source": [
    "###### Remove unary learner_attempt_status\n",
    "Do this early so they don't get in the way"
   ]
  },
  {
   "cell_type": "code",
   "execution_count": null,
   "metadata": {
    "pycharm": {
     "name": "#%%\n"
    }
   },
   "outputs": [],
   "source": [
    "dfClean = dfClean.drop('learner_attempt_status')"
   ]
  },
  {
   "cell_type": "code",
   "execution_count": null,
   "metadata": {
    "pycharm": {
     "name": "#%%\n"
    }
   },
   "outputs": [],
   "source": [
    "finish_todo('Remove unary learner_attempt_status = \"fully scored\"')\n",
    "\n"
   ]
  },
  {
   "cell_type": "markdown",
   "metadata": {},
   "source": [
    "###### Remove 1566 [unassigned] in response_correctness observations\""
   ]
  },
  {
   "cell_type": "code",
   "execution_count": null,
   "metadata": {
    "pycharm": {
     "name": "#%%\n"
    }
   },
   "outputs": [],
   "source": [
    "# Make sure to preserve the nulls\n",
    "dfFlt = remove_1566_unassigned()"
   ]
  },
  {
   "cell_type": "markdown",
   "metadata": {},
   "source": [
    "###### Remove unary variables assignment_attempt_number and assignment_max_attempts\n",
    "After 1566 unassigned in response_correctness is address, assignment_attempt_number and assignment_max_attemps is unary"
   ]
  },
  {
   "cell_type": "code",
   "execution_count": null,
   "metadata": {
    "pycharm": {
     "name": "#%%\n"
    }
   },
   "outputs": [],
   "source": [
    "dfClean = dfClean.drop(\"assignment_attempt_number\", \"assignment_max_attempts\")\n"
   ]
  },
  {
   "cell_type": "code",
   "execution_count": null,
   "metadata": {
    "pycharm": {
     "name": "#%%\n"
    }
   },
   "outputs": [],
   "source": [
    "finish_todo(\"Remove 1566 [unassigned] in response_correctness\")\n",
    "finish_todo('Remove assignment_attempt_number and assignment_max_attempts')\n"
   ]
  },
  {
   "cell_type": "markdown",
   "metadata": {},
   "source": [
    "###### Remove response_correctness"
   ]
  },
  {
   "cell_type": "code",
   "execution_count": null,
   "metadata": {
    "pycharm": {
     "name": "#%%\n"
    }
   },
   "outputs": [],
   "source": [
    "dfClean = dfClean.drop('response_correctness')"
   ]
  },
  {
   "cell_type": "code",
   "execution_count": null,
   "metadata": {
    "pycharm": {
     "name": "#%%\n"
    }
   },
   "outputs": [],
   "source": [
    "finish_todo('Remove 3298 null values in response_correctness')\n"
   ]
  },
  {
   "cell_type": "markdown",
   "metadata": {},
   "source": [
    "### Reclassify categories in item_type_code_name"
   ]
  },
  {
   "cell_type": "code",
   "execution_count": 10,
   "metadata": {},
   "outputs": [
    {
     "data": {
      "text/html": [
       "<style scoped>\n",
       "  .ansiout {\n",
       "    display: block;\n",
       "    unicode-bidi: embed;\n",
       "    white-space: pre-wrap;\n",
       "    word-wrap: break-word;\n",
       "    word-break: break-all;\n",
       "    font-family: \"Source Code Pro\", \"Menlo\", monospace;;\n",
       "    font-size: 13px;\n",
       "    color: #555;\n",
       "    margin-left: 4px;\n",
       "    line-height: 19px;\n",
       "  }\n",
       "</style>\n",
       "<div class=\"ansiout\">+----------------------+\n",
       "item_type_code_name   |\n",
       "+----------------------+\n",
       "null                  |\n",
       "FillinBlankResponse   |\n",
       "MultipleChoiceResponse|\n",
       "RubricResponse        |\n",
       "aheAlgo               |\n",
       "bucketing             |\n",
       "choiceMatrix          |\n",
       "cloze                 |\n",
       "equationEntry         |\n",
       "essay                 |\n",
       "fileUpload            |\n",
       "fillInTheBlank        |\n",
       "graphing              |\n",
       "imageLabel            |\n",
       "matching              |\n",
       "multipleChoice        |\n",
       "multipleSelect        |\n",
       "numberLine            |\n",
       "selectText            |\n",
       "shortAnswer           |\n",
       "sortable              |\n",
       "trueFalse             |\n",
       "+----------------------+\n",
       "\n",
       "</div>"
      ]
     },
     "metadata": {},
     "output_type": "display_data"
    }
   ],
   "source": [
    "# Before Categories\n",
    "dfClean.select(\"item_type_code_name\").distinct().orderBy(\"item_type_code_name\").show(50, False)\n"
   ]
  },
  {
   "cell_type": "markdown",
   "metadata": {},
   "source": [
    "Combine Suffix Levels\n",
    "- The levels with the suffix Response (ex: FillinBlankResponse) is the same type of question as level without the suffix (ex: fillInTheBlank)"
   ]
  },
  {
   "cell_type": "code",
   "execution_count": 12,
   "metadata": {},
   "outputs": [
    {
     "data": {
      "text/html": [
       "<style scoped>\n",
       "  .ansiout {\n",
       "    display: block;\n",
       "    unicode-bidi: embed;\n",
       "    white-space: pre-wrap;\n",
       "    word-wrap: break-word;\n",
       "    word-break: break-all;\n",
       "    font-family: \"Source Code Pro\", \"Menlo\", monospace;;\n",
       "    font-size: 13px;\n",
       "    color: #555;\n",
       "    margin-left: 4px;\n",
       "    line-height: 19px;\n",
       "  }\n",
       "</style>\n",
       "<div class=\"ansiout\"></div>"
      ]
     },
     "metadata": {},
     "output_type": "display_data"
    }
   ],
   "source": [
    "# Combine fillInTheBlank and FillinBlankResponse \n",
    "dfClean = dfClean.withColumn(\"item_type_code_name\", when( col(\"item_type_code_name\") == \"FillinBlankResponse\", \"fillInTheBlank\" ).otherwise(col(\"item_type_code_name\")) )\n",
    "\n",
    "# Combine multipleChoice and MultipleChoiceResponse \n",
    "dfClean = dfClean.withColumn(\"item_type_code_name\", when( col(\"item_type_code_name\") == \"MultipleChoiceResponse\", \"multipleChoice\" ).otherwise(col(\"item_type_code_name\")) )\n"
   ]
  },
  {
   "cell_type": "code",
   "execution_count": 13,
   "metadata": {},
   "outputs": [
    {
     "data": {
      "text/html": [
       "<style scoped>\n",
       "  .ansiout {\n",
       "    display: block;\n",
       "    unicode-bidi: embed;\n",
       "    white-space: pre-wrap;\n",
       "    word-wrap: break-word;\n",
       "    word-break: break-all;\n",
       "    font-family: \"Source Code Pro\", \"Menlo\", monospace;;\n",
       "    font-size: 13px;\n",
       "    color: #555;\n",
       "    margin-left: 4px;\n",
       "    line-height: 19px;\n",
       "  }\n",
       "</style>\n",
       "<div class=\"ansiout\">+-------------------+-------------+--------------------+\n",
       "item_type_code_name|cnt_per_group|perc_of_count_total |\n",
       "+-------------------+-------------+--------------------+\n",
       "multipleChoice     |34001        |43.99487604161275   |\n",
       "fillInTheBlank     |12077        |15.626779152217793  |\n",
       "equationEntry      |9516         |12.313027276020911  |\n",
       "trueFalse          |4963         |6.421769059572485   |\n",
       "cloze              |3576         |4.627089695150355   |\n",
       "null               |3264         |4.223383882821801   |\n",
       "multipleSelect     |2691         |3.481962631333782   |\n",
       "graphing           |2415         |3.1248382588892913  |\n",
       "choiceMatrix       |1336         |1.7286889912530408  |\n",
       "matching           |1164         |1.5061332229180686  |\n",
       "bucketing          |1051         |1.3599192588375342  |\n",
       "selectText         |1025         |1.3262771078101547  |\n",
       "essay              |1000         |1.2939288856684437  |\n",
       "shortAnswer        |983          |1.27193209461208    |\n",
       "sortable           |644          |0.8332902023704778  |\n",
       "numberLine         |455          |0.5887376429791419  |\n",
       "aheAlgo            |219          |0.2833704259613891  |\n",
       "imageLabel         |108          |0.13974431965219192 |\n",
       "fileUpload         |49           |0.06340251539775374 |\n",
       "RubricResponse     |11           |0.014233217742352882|\n",
       "+-------------------+-------------+--------------------+\n",
       "\n",
       "</div>"
      ]
     },
     "metadata": {},
     "output_type": "display_data"
    }
   ],
   "source": [
    "from pyspark.sql.functions import col, round\n",
    "\n",
    "tot = dfClean.filter(col(\"item_type_code_name\").isNull() == False).count()\n",
    "\n",
    "freqTable = dfClean.groupBy(\"item_type_code_name\") \\\n",
    "               .count() \\\n",
    "               .withColumnRenamed('count', 'cnt_per_group') \\\n",
    "               .withColumn('perc_of_count_total', ( col('cnt_per_group') / tot) * 100 ) \\\n",
    "               .orderBy(\"cnt_per_group\", ascending=False)\n",
    "\n",
    "freqTable.show(50, False)"
   ]
  },
  {
   "cell_type": "markdown",
   "metadata": {},
   "source": [
    "We only want five levels, so convert everything below 6% to other"
   ]
  },
  {
   "cell_type": "code",
   "execution_count": 15,
   "metadata": {},
   "outputs": [
    {
     "data": {
      "text/html": [
       "<style scoped>\n",
       "  .ansiout {\n",
       "    display: block;\n",
       "    unicode-bidi: embed;\n",
       "    white-space: pre-wrap;\n",
       "    word-wrap: break-word;\n",
       "    word-break: break-all;\n",
       "    font-family: \"Source Code Pro\", \"Menlo\", monospace;;\n",
       "    font-size: 13px;\n",
       "    color: #555;\n",
       "    margin-left: 4px;\n",
       "    line-height: 19px;\n",
       "  }\n",
       "</style>\n",
       "<div class=\"ansiout\">+-------------------+-----+\n",
       "item_type_code_name|count|\n",
       "+-------------------+-----+\n",
       "multipleChoice     |34001|\n",
       "Other              |19991|\n",
       "fillInTheBlank     |12077|\n",
       "equationEntry      |9516 |\n",
       "trueFalse          |4963 |\n",
       "+-------------------+-----+\n",
       "\n",
       "</div>"
      ]
     },
     "metadata": {},
     "output_type": "display_data"
    }
   ],
   "source": [
    "otherRows    = freqTable.filter(\"perc_of_count_total < 6\")\n",
    "otherLevels  = [row['item_type_code_name'] for row in otherRows.select(\"item_type_code_name\").collect()]\n",
    "\n",
    "dfClean = dfClean.withColumn(\"item_type_code_name\", when( col(\"item_type_code_name\").isin(otherLevels) | col(\"item_type_code_name\").isNull() , \"Other\" ).otherwise(col(\"item_type_code_name\")) )\n",
    "\n",
    "# Display new values\n",
    "dfClean.groupBy(\"item_type_code_name\").count().orderBy(\"count\", ascending=False).show(50, False)\n"
   ]
  },
  {
   "cell_type": "code",
   "execution_count": 16,
   "metadata": {},
   "outputs": [
    {
     "data": {
      "text/html": [
       "<style scoped>\n",
       "  .ansiout {\n",
       "    display: block;\n",
       "    unicode-bidi: embed;\n",
       "    white-space: pre-wrap;\n",
       "    word-wrap: break-word;\n",
       "    word-break: break-all;\n",
       "    font-family: \"Source Code Pro\", \"Menlo\", monospace;;\n",
       "    font-size: 13px;\n",
       "    color: #555;\n",
       "    margin-left: 4px;\n",
       "    line-height: 19px;\n",
       "  }\n",
       "</style>\n",
       "<div class=\"ansiout\"></div>"
      ]
     },
     "metadata": {},
     "output_type": "display_data"
    }
   ],
   "source": [
    "dfClean.createOrReplaceTempView(\"clean_data\")"
   ]
  },
  {
   "cell_type": "code",
   "execution_count": 17,
   "metadata": {},
   "outputs": [
    {
     "data": {
      "text/html": [
       "<style scoped>\n",
       "  .ansiout {\n",
       "    display: block;\n",
       "    unicode-bidi: embed;\n",
       "    white-space: pre-wrap;\n",
       "    word-wrap: break-word;\n",
       "    word-break: break-all;\n",
       "    font-family: \"Source Code Pro\", \"Menlo\", monospace;;\n",
       "    font-size: 13px;\n",
       "    color: #555;\n",
       "    margin-left: 4px;\n",
       "    line-height: 19px;\n",
       "  }\n",
       "</style>\n",
       "<div class=\"ansiout\">+---------------------------------+\n",
       "field                            |\n",
       "+---------------------------------+\n",
       "assessment_id                    |\n",
       "assessment_instance_attempt_id   |\n",
       "assessment_instance_id           |\n",
       "assessment_item_response_id      |\n",
       "assigned_item_status             |\n",
       "assignment_attempt_number        |\n",
       "assignment_due_date              |\n",
       "assignment_final_submission_date |\n",
       "assignment_late_submission       |\n",
       "assignment_max_attempts          |\n",
       "assignment_start_date            |\n",
       "ced_assignment_type_code         |\n",
       "final_score_unweighted           |\n",
       "is_affecting_grade               |\n",
       "is_deleted                       |\n",
       "is_force_scored                  |\n",
       "is_manual_scoring_required       |\n",
       "item_is_offline_scored           |\n",
       "item_type_code_name              |\n",
       "learner_assigned_item_attempt_id |\n",
       "learner_assignment_attempt_id    |\n",
       "learner_attempt_status           |\n",
       "learner_id                       |\n",
       "max_student_stop_datetime        |\n",
       "min_student_start_datetime       |\n",
       "number_of_distinct_instance_items|\n",
       "number_of_learners               |\n",
       "org_id                           |\n",
       "points_possible_unweighted       |\n",
       "response_correctness             |\n",
       "scored_datetime                  |\n",
       "scoring_type_code                |\n",
       "section_id                       |\n",
       "student_start_datetime           |\n",
       "student_stop_datetime            |\n",
       "was_fully_scored_datetime        |\n",
       "was_in_progress_datetime         |\n",
       "was_submitted_datetime_actual    |\n",
       "+---------------------------------+\n",
       "\n",
       "</div>"
      ]
     },
     "metadata": {},
     "output_type": "display_data"
    }
   ],
   "source": [
    "dfDesc.select('field').show(40, False)"
   ]
  },
  {
   "cell_type": "markdown",
   "metadata": {},
   "source": [
    "### Reclassify categories in item_type_code_name"
   ]
  },
  {
   "cell_type": "code",
   "execution_count": 19,
   "metadata": {},
   "outputs": [
    {
     "data": {
      "text/html": [
       "<style scoped>\n",
       "  .ansiout {\n",
       "    display: block;\n",
       "    unicode-bidi: embed;\n",
       "    white-space: pre-wrap;\n",
       "    word-wrap: break-word;\n",
       "    word-break: break-all;\n",
       "    font-family: \"Source Code Pro\", \"Menlo\", monospace;;\n",
       "    font-size: 13px;\n",
       "    color: #555;\n",
       "    margin-left: 4px;\n",
       "    line-height: 19px;\n",
       "  }\n",
       "</style>\n",
       "<div class=\"ansiout\">+----------------------+\n",
       "item_type_code_name   |\n",
       "+----------------------+\n",
       "null                  |\n",
       "FillinBlankResponse   |\n",
       "MultipleChoiceResponse|\n",
       "RubricResponse        |\n",
       "aheAlgo               |\n",
       "bucketing             |\n",
       "choiceMatrix          |\n",
       "cloze                 |\n",
       "equationEntry         |\n",
       "essay                 |\n",
       "fileUpload            |\n",
       "fillInTheBlank        |\n",
       "graphing              |\n",
       "imageLabel            |\n",
       "matching              |\n",
       "multipleChoice        |\n",
       "multipleSelect        |\n",
       "numberLine            |\n",
       "selectText            |\n",
       "shortAnswer           |\n",
       "sortable              |\n",
       "trueFalse             |\n",
       "+----------------------+\n",
       "\n",
       "</div>"
      ]
     },
     "metadata": {},
     "output_type": "display_data"
    }
   ],
   "source": [
    "# Before Categories\n",
    "dfClean.select(\"item_type_code_name\").distinct().orderBy(\"item_type_code_name\").show(50, False)\n"
   ]
  },
  {
   "cell_type": "markdown",
   "metadata": {},
   "source": [
    "Combine Suffix Levels\n",
    "- The levels with the suffix Response (ex: FillinBlankResponse) is the same type of question as level without the suffix (ex: fillInTheBlank)"
   ]
  },
  {
   "cell_type": "code",
   "execution_count": 21,
   "metadata": {},
   "outputs": [
    {
     "data": {
      "text/html": [
       "<style scoped>\n",
       "  .ansiout {\n",
       "    display: block;\n",
       "    unicode-bidi: embed;\n",
       "    white-space: pre-wrap;\n",
       "    word-wrap: break-word;\n",
       "    word-break: break-all;\n",
       "    font-family: \"Source Code Pro\", \"Menlo\", monospace;;\n",
       "    font-size: 13px;\n",
       "    color: #555;\n",
       "    margin-left: 4px;\n",
       "    line-height: 19px;\n",
       "  }\n",
       "</style>\n",
       "<div class=\"ansiout\"></div>"
      ]
     },
     "metadata": {},
     "output_type": "display_data"
    }
   ],
   "source": [
    "# Combine fillInTheBlank and FillinBlankResponse \n",
    "dfClean = dfClean.withColumn(\"item_type_code_name\", when( col(\"item_type_code_name\") == \"FillinBlankResponse\", \"fillInTheBlank\" ).otherwise(col(\"item_type_code_name\")) )\n",
    "\n",
    "# Combine multipleChoice and MultipleChoiceResponse \n",
    "dfClean = dfClean.withColumn(\"item_type_code_name\", when( col(\"item_type_code_name\") == \"MultipleChoiceResponse\", \"multipleChoice\" ).otherwise(col(\"item_type_code_name\")) )\n"
   ]
  },
  {
   "cell_type": "code",
   "execution_count": 22,
   "metadata": {},
   "outputs": [
    {
     "data": {
      "text/html": [
       "<style scoped>\n",
       "  .ansiout {\n",
       "    display: block;\n",
       "    unicode-bidi: embed;\n",
       "    white-space: pre-wrap;\n",
       "    word-wrap: break-word;\n",
       "    word-break: break-all;\n",
       "    font-family: \"Source Code Pro\", \"Menlo\", monospace;;\n",
       "    font-size: 13px;\n",
       "    color: #555;\n",
       "    margin-left: 4px;\n",
       "    line-height: 19px;\n",
       "  }\n",
       "</style>\n",
       "<div class=\"ansiout\">+-------------------+-------------+--------------------+\n",
       "item_type_code_name|cnt_per_group|perc_of_count_total |\n",
       "+-------------------+-------------+--------------------+\n",
       "multipleChoice     |34001        |43.99487604161275   |\n",
       "fillInTheBlank     |12077        |15.626779152217793  |\n",
       "equationEntry      |9516         |12.313027276020911  |\n",
       "trueFalse          |4963         |6.421769059572485   |\n",
       "cloze              |3576         |4.627089695150355   |\n",
       "null               |3264         |4.223383882821801   |\n",
       "multipleSelect     |2691         |3.481962631333782   |\n",
       "graphing           |2415         |3.1248382588892913  |\n",
       "choiceMatrix       |1336         |1.7286889912530408  |\n",
       "matching           |1164         |1.5061332229180686  |\n",
       "bucketing          |1051         |1.3599192588375342  |\n",
       "selectText         |1025         |1.3262771078101547  |\n",
       "essay              |1000         |1.2939288856684437  |\n",
       "shortAnswer        |983          |1.27193209461208    |\n",
       "sortable           |644          |0.8332902023704778  |\n",
       "numberLine         |455          |0.5887376429791419  |\n",
       "aheAlgo            |219          |0.2833704259613891  |\n",
       "imageLabel         |108          |0.13974431965219192 |\n",
       "fileUpload         |49           |0.06340251539775374 |\n",
       "RubricResponse     |11           |0.014233217742352882|\n",
       "+-------------------+-------------+--------------------+\n",
       "\n",
       "</div>"
      ]
     },
     "metadata": {},
     "output_type": "display_data"
    }
   ],
   "source": [
    "from pyspark.sql.functions import col, round\n",
    "\n",
    "tot = dfClean.filter(col(\"item_type_code_name\").isNull() == False).count()\n",
    "\n",
    "freqTable = dfClean.groupBy(\"item_type_code_name\") \\\n",
    "               .count() \\\n",
    "               .withColumnRenamed('count', 'cnt_per_group') \\\n",
    "               .withColumn('perc_of_count_total', ( col('cnt_per_group') / tot) * 100 ) \\\n",
    "               .orderBy(\"cnt_per_group\", ascending=False)\n",
    "\n",
    "freqTable.show(50, False)"
   ]
  },
  {
   "cell_type": "markdown",
   "metadata": {},
   "source": [
    "We only want five levels, so convert everything below 6% to other"
   ]
  },
  {
   "cell_type": "code",
   "execution_count": 24,
   "metadata": {},
   "outputs": [
    {
     "data": {
      "text/html": [
       "<style scoped>\n",
       "  .ansiout {\n",
       "    display: block;\n",
       "    unicode-bidi: embed;\n",
       "    white-space: pre-wrap;\n",
       "    word-wrap: break-word;\n",
       "    word-break: break-all;\n",
       "    font-family: \"Source Code Pro\", \"Menlo\", monospace;;\n",
       "    font-size: 13px;\n",
       "    color: #555;\n",
       "    margin-left: 4px;\n",
       "    line-height: 19px;\n",
       "  }\n",
       "</style>\n",
       "<div class=\"ansiout\">+-------------------+-----+\n",
       "item_type_code_name|count|\n",
       "+-------------------+-----+\n",
       "multipleChoice     |34001|\n",
       "Other              |19991|\n",
       "fillInTheBlank     |12077|\n",
       "equationEntry      |9516 |\n",
       "trueFalse          |4963 |\n",
       "+-------------------+-----+\n",
       "\n",
       "</div>"
      ]
     },
     "metadata": {},
     "output_type": "display_data"
    }
   ],
   "source": [
    "otherRows    = freqTable.filter(\"perc_of_count_total < 6\")\n",
    "otherLevels  = [row['item_type_code_name'] for row in otherRows.select(\"item_type_code_name\").collect()]\n",
    "\n",
    "dfClean = dfClean.withColumn(\"item_type_code_name\", when( col(\"item_type_code_name\").isin(otherLevels) | col(\"item_type_code_name\").isNull() , \"Other\" ).otherwise(col(\"item_type_code_name\")) )\n",
    "\n",
    "# Display new values\n",
    "dfClean.groupBy(\"item_type_code_name\").count().orderBy(\"count\", ascending=False).show(50, False)\n"
   ]
  },
  {
   "cell_type": "code",
   "execution_count": 25,
   "metadata": {},
   "outputs": [
    {
     "data": {
      "text/html": [
       "<style scoped>\n",
       "  .ansiout {\n",
       "    display: block;\n",
       "    unicode-bidi: embed;\n",
       "    white-space: pre-wrap;\n",
       "    word-wrap: break-word;\n",
       "    word-break: break-all;\n",
       "    font-family: \"Source Code Pro\", \"Menlo\", monospace;;\n",
       "    font-size: 13px;\n",
       "    color: #555;\n",
       "    margin-left: 4px;\n",
       "    line-height: 19px;\n",
       "  }\n",
       "</style>\n",
       "<div class=\"ansiout\"></div>"
      ]
     },
     "metadata": {},
     "output_type": "display_data"
    }
   ],
   "source": [
    "dfClean.createOrReplaceTempView(\"clean_data\")"
   ]
  },
  {
   "cell_type": "markdown",
   "source": [
    "##### Impute 749 t0 750 null dates"
   ],
   "metadata": {
    "collapsed": false
   }
  },
  {
   "cell_type": "code",
   "execution_count": null,
   "outputs": [],
   "source": [
    "dfImpute = impute_749_to_750_null_dates(dfFlt)"
   ],
   "metadata": {
    "collapsed": false,
    "pycharm": {
     "name": "#%%\n"
    }
   }
  },
  {
   "cell_type": "code",
   "execution_count": null,
   "outputs": [],
   "source": [
    "date_boxplot(dfImpute, \"Null Dates Fixed\")"
   ],
   "metadata": {
    "collapsed": false,
    "pycharm": {
     "name": "#%%\n"
    }
   }
  },
  {
   "cell_type": "code",
   "execution_count": null,
   "outputs": [],
   "source": [
    "dual_mean_hours_assignment(\n",
    "    get_random_sample(dfClean),\n",
    "    dfImpute,\n",
    "    title1 = 'Before',\n",
    "    title2 = 'After',\n",
    "    main = 'Before and After Imputation'\n",
    ")"
   ],
   "metadata": {
    "collapsed": false,
    "pycharm": {
     "name": "#%%\n"
    }
   }
  },
  {
   "cell_type": "markdown",
   "source": [
    "Before and After Values Match\n",
    "- student_start_datetime & scored_datetime = 9\n",
    "- student_stop_datetime  & scored_datetime = -12\n",
    "- was_fully_scored_datetime & scored_datetime = -17"
   ],
   "metadata": {
    "collapsed": false
   }
  },
  {
   "cell_type": "code",
   "execution_count": null,
   "outputs": [],
   "source": [
    "finish_todo('Impute 749 t0 750 null dates')"
   ],
   "metadata": {
    "collapsed": false,
    "pycharm": {
     "name": "#%%\n"
    }
   }
  },
  {
   "cell_type": "markdown",
   "source": [
    "##### Impute 3422 null dates in scored_datetime"
   ],
   "metadata": {
    "collapsed": false
   }
  },
  {
   "cell_type": "code",
   "execution_count": null,
   "outputs": [],
   "source": [
    "\n",
    "dfImpute = impute_3422_null_dates(dfFlt)"
   ],
   "metadata": {
    "collapsed": false,
    "pycharm": {
     "name": "#%%\n"
    }
   }
  },
  {
   "cell_type": "code",
   "execution_count": null,
   "outputs": [],
   "source": [
    "date_boxplot(dfImpute, \"Null Dates Fixed\")"
   ],
   "metadata": {
    "collapsed": false,
    "pycharm": {
     "name": "#%%\n"
    }
   }
  },
  {
   "cell_type": "code",
   "execution_count": null,
   "outputs": [],
   "source": [
    "dual_mean_hours_assignment(\n",
    "    get_random_sample(dfClean),\n",
    "    dfImpute,\n",
    "    title1 = 'Before',\n",
    "    title2 = 'After',\n",
    "    main = 'Before and After Imputation'\n",
    ")"
   ],
   "metadata": {
    "collapsed": false,
    "pycharm": {
     "name": "#%%\n"
    }
   }
  },
  {
   "cell_type": "markdown",
   "source": [
    "\n",
    "Before and After Values Match\n",
    "- student_stop_datetime  & scored_datetime = -12"
   ],
   "metadata": {
    "collapsed": false
   }
  },
  {
   "cell_type": "code",
   "execution_count": null,
   "outputs": [],
   "source": [
    "finish_todo('Impute 3422 null dates in scored_datetime')"
   ],
   "metadata": {
    "collapsed": false,
    "pycharm": {
     "name": "#%%\n"
    }
   }
  },
  {
   "cell_type": "markdown",
   "source": [
    "#### Impute 9965 null dates in was_in_progress_datetime\n"
   ],
   "metadata": {
    "collapsed": false,
    "pycharm": {
     "name": "#%% md\n"
    }
   }
  },
  {
   "cell_type": "code",
   "execution_count": 5,
   "outputs": [],
   "source": [
    "\n",
    "dfImpute = impute_9965_null_dates(dfClean)"
   ],
   "metadata": {
    "collapsed": false,
    "pycharm": {
     "name": "#%%\n"
    }
   }
  },
  {
   "cell_type": "code",
   "execution_count": null,
   "outputs": [],
   "source": [
    "date_boxplot(dfImpute, \"Null Dates Fixed\")"
   ],
   "metadata": {
    "collapsed": false,
    "pycharm": {
     "name": "#%%\n"
    }
   }
  },
  {
   "cell_type": "code",
   "execution_count": null,
   "outputs": [],
   "source": [
    "dual_mean_hours_assignment(\n",
    "    get_random_sample(dfClean),\n",
    "    dfImpute,\n",
    "    title1 = 'Before',\n",
    "    title2 = 'After',\n",
    "    main = 'Before and After Imputation'\n",
    ")"
   ],
   "metadata": {
    "collapsed": false,
    "pycharm": {
     "name": "#%%\n"
    }
   }
  },
  {
   "cell_type": "markdown",
   "source": [
    "Before and After Values Match\n",
    "- student_start_datetime  & was_in_progress_datetime = -12"
   ],
   "metadata": {
    "collapsed": false
   }
  },
  {
   "cell_type": "code",
   "execution_count": null,
   "outputs": [],
   "source": [
    "finish_todo('Impute 9965 null dates in was_in_progress_datetime')\n"
   ],
   "metadata": {
    "collapsed": false,
    "pycharm": {
     "name": "#%%\n"
    }
   }
  },
  {
   "cell_type": "markdown",
   "source": [
    "### Impute 4446 of 18469 null dates in was_submitted_datetime_actual\n"
   ],
   "metadata": {
    "collapsed": false
   }
  },
  {
   "cell_type": "code",
   "execution_count": null,
   "outputs": [],
   "source": [
    "# Impute the 4446 null dates with the mean difference of was_submitted_datetime_actual and student_stop_datetime\n",
    "def impute_4446_null_dates(df):\n",
    "\n",
    "    # Get sample to extract means\n",
    "    pdDf = df.select( 'scored_datetime', 'was_submitted_datetime_actual').toPandas()\n",
    "\n",
    "    # Calculate mean difference in seconds\n",
    "    meanDiff = ( (pdDf['scored_datetime'] - pdDf['was_submitted_datetime_actual'])     / np.timedelta64(1, 's') ).mean()\n",
    "\n",
    "\n",
    "    return df.withColumn(\n",
    "                \"was_submitted_datetime_actual\",\n",
    "                F.when(\n",
    "                    (F.col('was_submitted_datetime_actual').isNull()) & (F.col('final_score_unweighted') > 0),\n",
    "                    (F.unix_timestamp(\"scored_datetime\") - meanDiff).cast('timestamp')\n",
    "                ).otherwise( F.col(\"was_submitted_datetime_actual\") )\n",
    "    )\n",
    "\n",
    "\n",
    "dfImpute = impute_4446_null_dates(dfClean)"
   ],
   "metadata": {
    "collapsed": false,
    "pycharm": {
     "name": "#%%\n"
    }
   }
  },
  {
   "cell_type": "code",
   "execution_count": null,
   "outputs": [],
   "source": [
    "date_boxplot(dfImpute, \"Null Dates Fixed\")"
   ],
   "metadata": {
    "collapsed": false,
    "pycharm": {
     "name": "#%%\n"
    }
   }
  },
  {
   "cell_type": "code",
   "execution_count": null,
   "outputs": [],
   "source": [
    "dual_mean_hours_assignment(\n",
    "    get_random_sample(dfClean),\n",
    "    get_random_sample(dfImpute),\n",
    "    title1 = 'Before',\n",
    "    title2 = 'After',\n",
    "    main = 'Before and After Imputation'\n",
    ")"
   ],
   "metadata": {
    "collapsed": false,
    "pycharm": {
     "name": "#%%\n"
    }
   }
  },
  {
   "cell_type": "markdown",
   "source": [
    "Values corrected\n",
    "- The corrected values adjusted the mean values of was_submited_datetime_actual up ~1 to 3 hours for related variables\n"
   ],
   "metadata": {
    "collapsed": false
   }
  },
  {
   "cell_type": "code",
   "execution_count": null,
   "outputs": [],
   "source": [
    "finish_todo('Impute 4446 of 18469 null dates in was_submitted_datetime_actual')\n"
   ],
   "metadata": {
    "collapsed": false,
    "pycharm": {
     "name": "#%%\n"
    }
   }
  }
 ],
 "metadata": {
  "kernelspec": {
   "display_name": "Python 3",
   "language": "python",
   "name": "python3"
  },
  "language_info": {
   "codemirror_mode": {
    "name": "ipython",
    "version": 3
   },
   "file_extension": ".py",
   "mimetype": "text/x-python",
   "name": "python",
   "nbconvert_exporter": "python",
   "pygments_lexer": "ipython3",
   "version": "3.6.3"
  },
  "name": "C772 Capstone Cleaning Sub-Notebook",
  "notebookId": 1125508361365903
 },
 "nbformat": 4,
 "nbformat_minor": 1
}