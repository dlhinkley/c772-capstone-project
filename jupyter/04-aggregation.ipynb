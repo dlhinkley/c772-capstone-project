{
 "cells": [
  {
   "cell_type": "markdown",
   "metadata": {},
   "source": [
    "## Aggregation\n",
    "\n",
    "- Convert scores to pass fail\n",
    "-"
   ]
  },
  {
   "cell_type": "code",
   "execution_count": 2,
   "metadata": {},
   "outputs": [
    {
     "data": {
      "text/html": [
       "<style scoped>\n",
       "  .table-result-container {\n",
       "    max-height: 300px;\n",
       "    overflow: auto;\n",
       "  }\n",
       "  table, th, td {\n",
       "    border: 1px solid black;\n",
       "    border-collapse: collapse;\n",
       "  }\n",
       "  th, td {\n",
       "    padding: 5px;\n",
       "  }\n",
       "  th {\n",
       "    text-align: left;\n",
       "  }\n",
       "</style><div class='table-result-container'><table class='table-result'><thead style='background-color: white'><tr></tr></thead><tbody></tbody></table></div>"
      ]
     },
     "metadata": {},
     "output_type": "display_data"
    }
   ],
   "source": [
    "%sql\n",
    "DROP TABLE IF EXISTS answers_by_attempt;\n",
    "CREATE TABLE answers_by_attempt AS (\n",
    "    SELECT a.learner_assignment_attempt_id,\n",
    "           count(a.assessment_item_response_id)   number_of_distinct_instance_items_answered\n",
    "    FROM (\n",
    "        SELECT DISTINCT learner_assignment_attempt_id, learner_assigned_item_attempt_id, assessment_item_response_id\n",
    "        FROM clean_data\n",
    "        WHERE learner_attempt_status = 'fully scored'\n",
    "    ) a\n",
    "    GROUP BY a.learner_assignment_attempt_id\n",
    ")"
   ]
  },
  {
   "cell_type": "code",
   "execution_count": 3,
   "metadata": {},
   "outputs": [
    {
     "data": {
      "text/html": [
       "<style scoped>\n",
       "  .ansiout {\n",
       "    display: block;\n",
       "    unicode-bidi: embed;\n",
       "    white-space: pre-wrap;\n",
       "    word-wrap: break-word;\n",
       "    word-break: break-all;\n",
       "    font-family: \"Source Code Pro\", \"Menlo\", monospace;;\n",
       "    font-size: 13px;\n",
       "    color: #555;\n",
       "    margin-left: 4px;\n",
       "    line-height: 19px;\n",
       "  }\n",
       "</style>\n",
       "<div class=\"ansiout\">root\n",
       "-- learner_assignment_attempt_id: integer (nullable = true)\n",
       "-- number_of_distinct_instance_items_answered: long (nullable = true)\n",
       "\n",
       "</div>"
      ]
     },
     "metadata": {},
     "output_type": "display_data"
    }
   ],
   "source": [
    "spark.sql(\"SELECT * FROM answers_by_attempt\").printSchema()\n"
   ]
  },
  {
   "cell_type": "code",
   "execution_count": 4,
   "metadata": {},
   "outputs": [
    {
     "data": {
      "text/html": [
       "<style scoped>\n",
       "  .table-result-container {\n",
       "    max-height: 300px;\n",
       "    overflow: auto;\n",
       "  }\n",
       "  table, th, td {\n",
       "    border: 1px solid black;\n",
       "    border-collapse: collapse;\n",
       "  }\n",
       "  th, td {\n",
       "    padding: 5px;\n",
       "  }\n",
       "  th {\n",
       "    text-align: left;\n",
       "  }\n",
       "</style><div class='table-result-container'><table class='table-result'><thead style='background-color: white'><tr></tr></thead><tbody></tbody></table></div>"
      ]
     },
     "metadata": {},
     "output_type": "display_data"
    }
   ],
   "source": [
    "%sql\n",
    "DROP TABLE IF EXISTS scores;\n",
    "CREATE TABLE scores AS (\n",
    "   SELECT DISTINCT (cl.learner_assignment_attempt_id)  AS attempt_id,\n",
    "                         cl.assessment_id,\n",
    "                         cl.learner_id,\n",
    "                         cl.section_id,\n",
    "                         cl.org_id,\n",
    "                         cl.final_score_unweighted,\n",
    "                         cl.points_possible_unweighted,\n",
    "                         cl.was_fully_scored_datetime,\n",
    "                         cl.number_of_distinct_instance_items, -- number of questions\n",
    "                         aba.number_of_distinct_instance_items_answered\n",
    "         FROM clean_data cl\n",
    "         LEFT JOIN answers_by_attempt aba ON cl.learner_assignment_attempt_id = aba.learner_assignment_attempt_id\n",
    "         WHERE learner_attempt_status = 'fully scored'\n",
    ");"
   ]
  },
  {
   "cell_type": "code",
   "execution_count": 5,
   "metadata": {},
   "outputs": [
    {
     "data": {
      "text/html": [
       "<style scoped>\n",
       "  .ansiout {\n",
       "    display: block;\n",
       "    unicode-bidi: embed;\n",
       "    white-space: pre-wrap;\n",
       "    word-wrap: break-word;\n",
       "    word-break: break-all;\n",
       "    font-family: \"Source Code Pro\", \"Menlo\", monospace;;\n",
       "    font-size: 13px;\n",
       "    color: #555;\n",
       "    margin-left: 4px;\n",
       "    line-height: 19px;\n",
       "  }\n",
       "</style>\n",
       "<div class=\"ansiout\">root\n",
       "-- attempt_id: integer (nullable = true)\n",
       "-- assessment_id: integer (nullable = true)\n",
       "-- learner_id: integer (nullable = true)\n",
       "-- section_id: integer (nullable = true)\n",
       "-- org_id: integer (nullable = true)\n",
       "-- final_score_unweighted: integer (nullable = true)\n",
       "-- points_possible_unweighted: double (nullable = true)\n",
       "-- was_fully_scored_datetime: timestamp (nullable = true)\n",
       "-- number_of_distinct_instance_items: integer (nullable = true)\n",
       "-- number_of_distinct_instance_items_answered: long (nullable = true)\n",
       "\n",
       "</div>"
      ]
     },
     "metadata": {},
     "output_type": "display_data"
    }
   ],
   "source": [
    "spark.sql(\"SELECT * FROM scores\").printSchema()\n"
   ]
  },
  {
   "cell_type": "code",
   "execution_count": 6,
   "metadata": {},
   "outputs": [
    {
     "data": {
      "text/html": [
       "<style scoped>\n",
       "  .table-result-container {\n",
       "    max-height: 300px;\n",
       "    overflow: auto;\n",
       "  }\n",
       "  table, th, td {\n",
       "    border: 1px solid black;\n",
       "    border-collapse: collapse;\n",
       "  }\n",
       "  th, td {\n",
       "    padding: 5px;\n",
       "  }\n",
       "  th {\n",
       "    text-align: left;\n",
       "  }\n",
       "</style><div class='table-result-container'><table class='table-result'><thead style='background-color: white'><tr></tr></thead><tbody></tbody></table></div>"
      ]
     },
     "metadata": {},
     "output_type": "display_data"
    }
   ],
   "source": [
    "%sql\n",
    "DROP TABLE IF EXISTS learners;\n",
    "CREATE TABLE learners AS (\n",
    "         SELECT learner_id,\n",
    "                section_id,\n",
    "                org_id,\n",
    "                MIN( DATE(was_fully_scored_datetime) ) AS min_was_fully_scored_date,\n",
    "                MAX( DATE(was_fully_scored_datetime) ) AS max_was_fully_scored_date,\n",
    "                DATEDIFF( MAX(DATE(was_fully_scored_datetime)), MIN(DATE(was_fully_scored_datetime)) ) AS days\n",
    "         FROM clean_data\n",
    "         GROUP BY learner_id, section_id, org_id\n",
    ");"
   ]
  },
  {
   "cell_type": "code",
   "execution_count": 7,
   "metadata": {},
   "outputs": [
    {
     "data": {
      "text/html": [
       "<style scoped>\n",
       "  .table-result-container {\n",
       "    max-height: 300px;\n",
       "    overflow: auto;\n",
       "  }\n",
       "  table, th, td {\n",
       "    border: 1px solid black;\n",
       "    border-collapse: collapse;\n",
       "  }\n",
       "  th, td {\n",
       "    padding: 5px;\n",
       "  }\n",
       "  th {\n",
       "    text-align: left;\n",
       "  }\n",
       "</style><div class='table-result-container'><table class='table-result'><thead style='background-color: white'><tr></tr></thead><tbody></tbody></table></div>"
      ]
     },
     "metadata": {},
     "output_type": "display_data"
    }
   ],
   "source": [
    "%sql\n",
    "DROP TABLE IF EXISTS sections;\n",
    "CREATE TABLE sections AS (\n",
    "         SELECT section_id,\n",
    "                MIN(DATE(was_fully_scored_datetime)) AS min_was_fully_scored_date,\n",
    "                MAX(DATE(was_fully_scored_datetime)) AS max_was_fully_scored_date,\n",
    "                DATEDIFF( MAX(DATE(was_fully_scored_datetime)), MIN(DATE(was_fully_scored_datetime)) ) AS days\n",
    "         FROM clean_data\n",
    "         GROUP BY section_id\n",
    "     );"
   ]
  },
  {
   "cell_type": "code",
   "execution_count": 8,
   "metadata": {},
   "outputs": [
    {
     "data": {
      "text/html": [
       "<style scoped>\n",
       "  .table-result-container {\n",
       "    max-height: 300px;\n",
       "    overflow: auto;\n",
       "  }\n",
       "  table, th, td {\n",
       "    border: 1px solid black;\n",
       "    border-collapse: collapse;\n",
       "  }\n",
       "  th, td {\n",
       "    padding: 5px;\n",
       "  }\n",
       "  th {\n",
       "    text-align: left;\n",
       "  }\n",
       "</style><div class='table-result-container'><table class='table-result'><thead style='background-color: white'><tr></tr></thead><tbody></tbody></table></div>"
      ]
     },
     "metadata": {},
     "output_type": "display_data"
    }
   ],
   "source": [
    "%sql\n",
    "DROP TABLE IF EXISTS assessments;\n",
    "CREATE TABLE assessments AS (\n",
    "         SELECT assessment_id,\n",
    "                MIN(DATE(was_fully_scored_datetime)) AS min_was_fully_scored_date,\n",
    "                MAX(DATE(was_fully_scored_datetime)) AS max_was_fully_scored_date,\n",
    "                DATEDIFF( MAX(DATE(was_fully_scored_datetime)), MIN(DATE(was_fully_scored_datetime)) ) AS days\n",
    "         FROM clean_data\n",
    "         GROUP BY assessment_id\n",
    "         )"
   ]
  },
  {
   "cell_type": "code",
   "execution_count": 9,
   "metadata": {},
   "outputs": [
    {
     "data": {
      "text/html": [
       "<style scoped>\n",
       "  .table-result-container {\n",
       "    max-height: 300px;\n",
       "    overflow: auto;\n",
       "  }\n",
       "  table, th, td {\n",
       "    border: 1px solid black;\n",
       "    border-collapse: collapse;\n",
       "  }\n",
       "  th, td {\n",
       "    padding: 5px;\n",
       "  }\n",
       "  th {\n",
       "    text-align: left;\n",
       "  }\n",
       "</style><div class='table-result-container'><table class='table-result'><thead style='background-color: white'><tr></tr></thead><tbody></tbody></table></div>"
      ]
     },
     "metadata": {},
     "output_type": "display_data"
    }
   ],
   "source": [
    "%sql\n",
    "DROP TABLE IF EXISTS orgs;\n",
    "CREATE TABLE orgs AS (\n",
    "         SELECT org_id,\n",
    "                MIN(DATE(was_fully_scored_datetime)) AS min_was_fully_scored_date,\n",
    "                MAX(DATE(was_fully_scored_datetime)) AS max_was_fully_scored_date,\n",
    "                DATEDIFF( MAX(DATE(was_fully_scored_datetime)), MIN(DATE(was_fully_scored_datetime)) ) AS days\n",
    "         FROM clean_data\n",
    "         GROUP BY org_id\n",
    "     )"
   ]
  },
  {
   "cell_type": "code",
   "execution_count": 10,
   "metadata": {},
   "outputs": [
    {
     "data": {
      "text/html": [
       "<style scoped>\n",
       "  .table-result-container {\n",
       "    max-height: 300px;\n",
       "    overflow: auto;\n",
       "  }\n",
       "  table, th, td {\n",
       "    border: 1px solid black;\n",
       "    border-collapse: collapse;\n",
       "  }\n",
       "  th, td {\n",
       "    padding: 5px;\n",
       "  }\n",
       "  th {\n",
       "    text-align: left;\n",
       "  }\n",
       "</style><div class='table-result-container'><table class='table-result'><thead style='background-color: white'><tr></tr></thead><tbody></tbody></table></div>"
      ]
     },
     "metadata": {},
     "output_type": "display_data"
    }
   ],
   "source": [
    "%sql\n",
    "DROP TABLE IF EXISTS score_by_learner;\n",
    "CREATE TABLE score_by_learner AS ( -- How learners performed on all assessments attempts\n",
    "         SELECT l.learner_id, --1126\n",
    "                ROUND(AVG(s.final_score_unweighted)) AS learner_final_score_unweighted,\n",
    "                ROUND(AVG(s.points_possible_unweighted)) AS learner_points_possible_unweighted,\n",
    "                ROUND(AVG(s.number_of_distinct_instance_items_answered)) AS learner_number_of_distinct_instance_items_answered,\n",
    "                ROUND(AVG(s.number_of_distinct_instance_items)) AS learner_number_of_distinct_instance_items,\n",
    "                COUNT(*) AS learner_num_attempts,\n",
    "                ROUND(AVG(l.days)) AS learner_days -- The number of days the learner took assessments\n",
    "\n",
    "         FROM learners l,\n",
    "              scores s\n",
    "         WHERE l.learner_id = s.learner_id\n",
    "         GROUP BY l.learner_id\n",
    "     )"
   ]
  },
  {
   "cell_type": "code",
   "execution_count": 11,
   "metadata": {},
   "outputs": [
    {
     "data": {
      "text/html": [
       "<style scoped>\n",
       "  .table-result-container {\n",
       "    max-height: 300px;\n",
       "    overflow: auto;\n",
       "  }\n",
       "  table, th, td {\n",
       "    border: 1px solid black;\n",
       "    border-collapse: collapse;\n",
       "  }\n",
       "  th, td {\n",
       "    padding: 5px;\n",
       "  }\n",
       "  th {\n",
       "    text-align: left;\n",
       "  }\n",
       "</style><div class='table-result-container'><table class='table-result'><thead style='background-color: white'><tr></tr></thead><tbody></tbody></table></div>"
      ]
     },
     "metadata": {},
     "output_type": "display_data"
    }
   ],
   "source": [
    "%sql\n",
    "DROP TABLE IF EXISTS score_by_assessment;\n",
    "CREATE TABLE score_by_assessment  AS ( -- How all learners performed on attempts of an assessment\n",
    "         SELECT a.assessment_id, -- 329\n",
    "                ROUND(AVG(s.final_score_unweighted)) AS assessment_final_score_unweighted,\n",
    "                ROUND(AVG(s.points_possible_unweighted)) AS assessment_points_possible_unweighted,\n",
    "                ROUND(AVG(s.number_of_distinct_instance_items_answered)) AS assessment_number_of_distinct_instance_items_answered,\n",
    "                ROUND(AVG(s.number_of_distinct_instance_items)) AS assessment_number_of_distinct_instance_items,\n",
    "                COUNT(*) AS assessment_num_attempts\n",
    "         FROM assessments a,\n",
    "              scores s\n",
    "         WHERE a.assessment_id = s.assessment_id\n",
    "         GROUP BY a.assessment_id\n",
    "     )"
   ]
  },
  {
   "cell_type": "code",
   "execution_count": 12,
   "metadata": {},
   "outputs": [
    {
     "data": {
      "text/html": [
       "<style scoped>\n",
       "  .table-result-container {\n",
       "    max-height: 300px;\n",
       "    overflow: auto;\n",
       "  }\n",
       "  table, th, td {\n",
       "    border: 1px solid black;\n",
       "    border-collapse: collapse;\n",
       "  }\n",
       "  th, td {\n",
       "    padding: 5px;\n",
       "  }\n",
       "  th {\n",
       "    text-align: left;\n",
       "  }\n",
       "</style><div class='table-result-container'><table class='table-result'><thead style='background-color: white'><tr></tr></thead><tbody></tbody></table></div>"
      ]
     },
     "metadata": {},
     "output_type": "display_data"
    }
   ],
   "source": [
    "%sql\n",
    "DROP TABLE IF EXISTS score_by_section;\n",
    "CREATE TABLE score_by_section  AS ( -- How all learners performed on attempts of an assessment by section\n",
    "         SELECT a.section_id, --490\n",
    "                s.assessment_id,\n",
    "                ROUND(AVG(s.final_score_unweighted)) AS section_final_score_unweighted,\n",
    "                ROUND(AVG(s.points_possible_unweighted)) AS section_points_possible_unweighted,\n",
    "                ROUND(AVG(s.number_of_distinct_instance_items_answered)) AS section_number_of_distinct_instance_items_answered,\n",
    "                ROUND(AVG(s.number_of_distinct_instance_items)) AS section_number_of_distinct_instance_items,\n",
    "                COUNT(*) AS section_num_attempts,\n",
    "                ROUND(AVG(a.days)) AS section_days\n",
    "         FROM sections a,\n",
    "              scores s\n",
    "         WHERE a.section_id = s.section_id\n",
    "         GROUP BY a.section_id, s.assessment_id\n",
    "     )"
   ]
  },
  {
   "cell_type": "code",
   "execution_count": 13,
   "metadata": {},
   "outputs": [
    {
     "data": {
      "text/html": [
       "<style scoped>\n",
       "  .table-result-container {\n",
       "    max-height: 300px;\n",
       "    overflow: auto;\n",
       "  }\n",
       "  table, th, td {\n",
       "    border: 1px solid black;\n",
       "    border-collapse: collapse;\n",
       "  }\n",
       "  th, td {\n",
       "    padding: 5px;\n",
       "  }\n",
       "  th {\n",
       "    text-align: left;\n",
       "  }\n",
       "</style><div class='table-result-container'><table class='table-result'><thead style='background-color: white'><tr></tr></thead><tbody></tbody></table></div>"
      ]
     },
     "metadata": {},
     "output_type": "display_data"
    }
   ],
   "source": [
    "%sql\n",
    "DROP TABLE IF EXISTS score_by_org;\n",
    "CREATE TABLE score_by_org  AS (\n",
    "         SELECT a.org_id, --329\n",
    "                s.assessment_id,\n",
    "                ROUND(AVG(s.final_score_unweighted)) AS organization_final_score_unweighted,\n",
    "                ROUND(AVG(s.points_possible_unweighted)) AS organization_points_possible_unweighted,\n",
    "                ROUND(AVG(s.number_of_distinct_instance_items_answered)) AS organization_number_of_distinct_instance_items_answered,\n",
    "                ROUND(AVG(s.number_of_distinct_instance_items)) AS organization_number_of_distinct_instance_items,\n",
    "                COUNT(*) AS organization_num_attempts,\n",
    "                ROUND(AVG(a.days)) AS organization_days\n",
    "         FROM orgs a,\n",
    "              scores s\n",
    "         WHERE a.org_id = s.org_id\n",
    "         GROUP BY a.org_id, s.assessment_id\n",
    "     )"
   ]
  },
  {
   "cell_type": "code",
   "execution_count": 14,
   "metadata": {},
   "outputs": [
    {
     "data": {
      "text/html": [
       "<style scoped>\n",
       "  .table-result-container {\n",
       "    max-height: 300px;\n",
       "    overflow: auto;\n",
       "  }\n",
       "  table, th, td {\n",
       "    border: 1px solid black;\n",
       "    border-collapse: collapse;\n",
       "  }\n",
       "  th, td {\n",
       "    padding: 5px;\n",
       "  }\n",
       "  th {\n",
       "    text-align: left;\n",
       "  }\n",
       "</style><div class='table-result-container'><table class='table-result'><thead style='background-color: white'><tr><th>attempt_id</th><th>assessment_id</th><th>learner_id</th><th>section_id</th><th>org_id</th><th>was_fully_scored_datetime</th><th>final_score_unweighted</th><th>points_possible_unweighted</th><th>number_of_distinct_instance_items</th><th>number_of_distinct_instance_items_answered</th></tr></thead><tbody><tr><td>1057378</td><td>705605</td><td>1295687</td><td>498959</td><td>349115</td><td>2020-02-25T15:43:35.000+0000</td><td>5</td><td>11.0</td><td>11</td><td>11</td></tr><tr><td>1038094</td><td>724435</td><td>1248322</td><td>498947</td><td>360541</td><td>2019-09-06T01:03:38.407+0000</td><td>12</td><td>12.0</td><td>1</td><td>1</td></tr><tr><td>977942</td><td>747722</td><td>1248377</td><td>499028</td><td>360421</td><td>2019-10-25T16:54:19.313+0000</td><td>3</td><td>20.0</td><td>20</td><td>20</td></tr><tr><td>950947</td><td>678303</td><td>1248284</td><td>498928</td><td>349115</td><td>2019-12-04T19:25:34.000+0000</td><td>9</td><td>10.0</td><td>10</td><td>10</td></tr><tr><td>994367</td><td>649459</td><td>1248306</td><td>498953</td><td>360541</td><td>2019-08-30T19:18:51.243+0000</td><td>8</td><td>20.0</td><td>10</td><td>10</td></tr><tr><td>1086424</td><td>690485</td><td>1248733</td><td>498943</td><td>349115</td><td>2020-01-28T13:58:29.000+0000</td><td>20</td><td>20.0</td><td>20</td><td>20</td></tr><tr><td>1025806</td><td>752434</td><td>1372797</td><td>522071</td><td>360421</td><td>2020-04-09T16:43:02.000+0000</td><td>6</td><td>12.0</td><td>12</td><td>12</td></tr><tr><td>1023479</td><td>693282</td><td>1248741</td><td>498978</td><td>360541</td><td>2020-05-09T05:03:53.000+0000</td><td>0</td><td>11.0</td><td>2</td><td>0</td></tr><tr><td>982631</td><td>661484</td><td>1249118</td><td>498922</td><td>349115</td><td>2019-10-30T17:07:12.013+0000</td><td>1</td><td>5.0</td><td>5</td><td>5</td></tr><tr><td>983595</td><td>690485</td><td>1248471</td><td>498927</td><td>349115</td><td>2020-01-28T14:48:20.090+0000</td><td>18</td><td>20.0</td><td>20</td><td>20</td></tr></tbody></table></div>"
      ]
     },
     "metadata": {},
     "output_type": "display_data"
    }
   ],
   "source": [
    "%sql\n",
    "SELECT attempt_id,\n",
    "       assessment_id,\n",
    "       learner_id,\n",
    "       section_id,\n",
    "       org_id,\n",
    "       was_fully_scored_datetime,\n",
    "       final_score_unweighted,\n",
    "       points_possible_unweighted,\n",
    "       number_of_distinct_instance_items,\n",
    "       number_of_distinct_instance_items_answered\n",
    "FROM scores s LIMIT 10;"
   ]
  },
  {
   "cell_type": "code",
   "execution_count": 15,
   "metadata": {},
   "outputs": [
    {
     "data": {
      "text/html": [
       "<style scoped>\n",
       "  .ansiout {\n",
       "    display: block;\n",
       "    unicode-bidi: embed;\n",
       "    white-space: pre-wrap;\n",
       "    word-wrap: break-word;\n",
       "    word-break: break-all;\n",
       "    font-family: \"Source Code Pro\", \"Menlo\", monospace;;\n",
       "    font-size: 13px;\n",
       "    color: #555;\n",
       "    margin-left: 4px;\n",
       "    line-height: 19px;\n",
       "  }\n",
       "</style>\n",
       "<div class=\"ansiout\">Out[44]: [&#39;assignment_due_date&#39;,\n",
       " &#39;assignment_final_submission_date&#39;,\n",
       " &#39;assignment_start_date&#39;,\n",
       " &#39;max_student_stop_datetime&#39;,\n",
       " &#39;min_student_start_datetime&#39;,\n",
       " &#39;scored_datetime&#39;,\n",
       " &#39;student_start_datetime&#39;,\n",
       " &#39;student_stop_datetime&#39;,\n",
       " &#39;was_fully_scored_datetime&#39;,\n",
       " &#39;was_in_progress_datetime&#39;,\n",
       " &#39;was_submitted_datetime_actual&#39;]</div>"
      ]
     },
     "metadata": {},
     "output_type": "display_data"
    }
   ],
   "source": [
    "intervalFields\n"
   ]
  },
  {
   "cell_type": "code",
   "execution_count": 16,
   "metadata": {},
   "outputs": [
    {
     "data": {
      "text/html": [
       "<style scoped>\n",
       "  .ansiout {\n",
       "    display: block;\n",
       "    unicode-bidi: embed;\n",
       "    white-space: pre-wrap;\n",
       "    word-wrap: break-word;\n",
       "    word-break: break-all;\n",
       "    font-family: \"Source Code Pro\", \"Menlo\", monospace;;\n",
       "    font-size: 13px;\n",
       "    color: #555;\n",
       "    margin-left: 4px;\n",
       "    line-height: 19px;\n",
       "  }\n",
       "</style>\n",
       "<div class=\"ansiout\">root\n",
       "-- ced_assignment_type_code: string (nullable = true)\n",
       "-- is_affecting_grade: boolean (nullable = true)\n",
       "-- number_of_learners: integer (nullable = true)\n",
       "-- number_of_distinct_instance_items: integer (nullable = true)\n",
       "-- assignment_max_attempts: integer (nullable = true)\n",
       "-- assignment_final_submission_date: timestamp (nullable = true)\n",
       "-- assignment_start_date: timestamp (nullable = true)\n",
       "-- assignment_due_date: timestamp (nullable = true)\n",
       "-- min_student_start_datetime: timestamp (nullable = true)\n",
       "-- max_student_stop_datetime: timestamp (nullable = true)\n",
       "-- assignment_attempt_number: integer (nullable = true)\n",
       "-- was_fully_scored_datetime: timestamp (nullable = true)\n",
       "-- was_submitted_datetime_actual: timestamp (nullable = true)\n",
       "-- was_in_progress_datetime: timestamp (nullable = true)\n",
       "-- is_force_scored: boolean (nullable = true)\n",
       "-- is_manual_scoring_required: boolean (nullable = true)\n",
       "-- student_start_datetime: timestamp (nullable = true)\n",
       "-- student_stop_datetime: timestamp (nullable = true)\n",
       "-- item_is_offline_scored: boolean (nullable = true)\n",
       "-- learner_attempt_status: string (nullable = true)\n",
       "-- points_possible_unweighted: double (nullable = true)\n",
       "-- final_score_unweighted: integer (nullable = true)\n",
       "-- scored_datetime: timestamp (nullable = true)\n",
       "-- item_type_code_name: string (nullable = true)\n",
       "-- scoring_type_code: string (nullable = true)\n",
       "-- response_correctness: string (nullable = true)\n",
       "-- assigned_item_status: string (nullable = true)\n",
       "-- org_id: integer (nullable = true)\n",
       "-- section_id: integer (nullable = true)\n",
       "-- assessment_id: integer (nullable = true)\n",
       "-- assessment_instance_id: integer (nullable = true)\n",
       "-- learner_assignment_attempt_id: integer (nullable = true)\n",
       "-- assessment_instance_attempt_id: integer (nullable = true)\n",
       "-- learner_id: integer (nullable = true)\n",
       "-- learner_assigned_item_attempt_id: integer (nullable = true)\n",
       "-- assessment_item_response_id: integer (nullable = true)\n",
       "\n",
       "</div>"
      ]
     },
     "metadata": {},
     "output_type": "display_data"
    }
   ],
   "source": [
    "spark.sql(\"SELECT * FROM clean_data LIMiT 20\").printSchema()"
   ]
  }
 ],
 "metadata": {
  "kernelspec": {
   "display_name": "Python 3",
   "language": "python",
   "name": "python3"
  },
  "language_info": {
   "codemirror_mode": {
    "name": "ipython",
    "version": 3
   },
   "file_extension": ".py",
   "mimetype": "text/x-python",
   "name": "python",
   "nbconvert_exporter": "python",
   "pygments_lexer": "ipython3",
   "version": "3.6.3"
  },
  "name": "C772 Capstone Aggregation Sub-Notebook",
  "notebookId": 1125508361365806
 },
 "nbformat": 4,
 "nbformat_minor": 1
}