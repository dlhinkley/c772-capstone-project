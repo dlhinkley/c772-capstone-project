{
 "cells": [
  {
   "cell_type": "markdown",
   "metadata": {
    "pycharm": {
     "name": "#%% md\n"
    }
   },
   "source": [
    "## Summarization"
   ]
  },
  {
   "cell_type": "code",
   "execution_count": 1,
   "metadata": {
    "execution": {
     "iopub.execute_input": "2020-10-28T01:00:50.760107Z",
     "iopub.status.busy": "2020-10-28T01:00:50.757227Z",
     "iopub.status.idle": "2020-10-28T01:01:02.065856Z",
     "shell.execute_reply": "2020-10-28T01:01:02.066726Z"
    },
    "pycharm": {
     "name": "#%%\n"
    }
   },
   "outputs": [
    {
     "name": "stdout",
     "output_type": "stream",
     "text": [
      "dython              0.6.1\n"
     ]
    },
    {
     "name": "stderr",
     "output_type": "stream",
     "text": [
      "WARNING: You are using pip version 20.2.3; however, version 20.2.4 is available.\n",
      "You should consider upgrading via the '/Users/duane.hinkley/PycharmProjects/c772-capstone-project/venv/bin/python -m pip install --upgrade pip' command.\n"
     ]
    },
    {
     "name": "stdout",
     "output_type": "stream",
     "text": [
      "tinydb              4.2.0\n"
     ]
    },
    {
     "name": "stderr",
     "output_type": "stream",
     "text": [
      "WARNING: You are using pip version 20.2.3; however, version 20.2.4 is available.\n",
      "You should consider upgrading via the '/Users/duane.hinkley/PycharmProjects/c772-capstone-project/venv/bin/python -m pip install --upgrade pip' command.\n"
     ]
    }
   ],
   "source": [
    "%run './lib/libraries.ipynb'"
   ]
  },
  {
   "cell_type": "markdown",
   "metadata": {},
   "source": [
    "#### Data Exploration: Load Data"
   ]
  },
  {
   "cell_type": "code",
   "execution_count": 2,
   "metadata": {
    "execution": {
     "iopub.execute_input": "2020-10-28T01:01:02.072974Z",
     "iopub.status.busy": "2020-10-28T01:01:02.071525Z",
     "iopub.status.idle": "2020-10-28T01:01:51.106701Z",
     "shell.execute_reply": "2020-10-28T01:01:51.109239Z"
    },
    "pycharm": {
     "name": "#%%\n"
    }
   },
   "outputs": [],
   "source": [
    "dfDesc = init_df_desc()\n",
    "dfFlt  = init_df_raw()"
   ]
  },
  {
   "cell_type": "markdown",
   "metadata": {},
   "source": [
    "#### Data Exploration: Summarize Data\n",
    "\n",
    "###### Number of observations"
   ]
  },
  {
   "cell_type": "code",
   "execution_count": 3,
   "metadata": {
    "execution": {
     "iopub.execute_input": "2020-10-28T01:01:51.119746Z",
     "iopub.status.busy": "2020-10-28T01:01:51.117606Z",
     "iopub.status.idle": "2020-10-28T01:01:54.023198Z",
     "shell.execute_reply": "2020-10-28T01:01:54.024395Z"
    },
    "pycharm": {
     "name": "#%%\n"
    }
   },
   "outputs": [
    {
     "data": {
      "text/plain": [
       "80548"
      ]
     },
     "execution_count": 1,
     "metadata": {},
     "output_type": "execute_result"
    }
   ],
   "source": [
    "dfFlt.select().count()"
   ]
  },
  {
   "cell_type": "markdown",
   "metadata": {},
   "source": [
    "###### Display Variable Descriptions"
   ]
  },
  {
   "cell_type": "code",
   "execution_count": 4,
   "metadata": {
    "execution": {
     "iopub.execute_input": "2020-10-28T01:01:54.033726Z",
     "iopub.status.busy": "2020-10-28T01:01:54.031949Z",
     "iopub.status.idle": "2020-10-28T01:01:54.190504Z",
     "shell.execute_reply": "2020-10-28T01:01:54.191422Z"
    },
    "pycharm": {
     "name": "#%%\n"
    }
   },
   "outputs": [
    {
     "data": {
      "text/html": [
       "<div>\n",
       "<style scoped>\n",
       "    .dataframe tbody tr th:only-of-type {\n",
       "        vertical-align: middle;\n",
       "    }\n",
       "\n",
       "    .dataframe tbody tr th {\n",
       "        vertical-align: top;\n",
       "    }\n",
       "\n",
       "    .dataframe thead th {\n",
       "        text-align: right;\n",
       "    }\n",
       "</style>\n",
       "<table border=\"1\" class=\"dataframe\">\n",
       "  <thead>\n",
       "    <tr style=\"text-align: right;\">\n",
       "      <th></th>\n",
       "      <th>field</th>\n",
       "      <th>category</th>\n",
       "      <th>type</th>\n",
       "      <th>description</th>\n",
       "    </tr>\n",
       "  </thead>\n",
       "  <tbody>\n",
       "    <tr>\n",
       "      <th>0</th>\n",
       "      <td>assessment_id</td>\n",
       "      <td>Assessment</td>\n",
       "      <td>Categorical Identifier</td>\n",
       "      <td>ID of an Assessment.</td>\n",
       "    </tr>\n",
       "    <tr>\n",
       "      <th>1</th>\n",
       "      <td>assessment_instance_attempt_id</td>\n",
       "      <td>Assignment Attempt</td>\n",
       "      <td>Categorical Identifier</td>\n",
       "      <td>ID of a learner's attempt of an assessment.</td>\n",
       "    </tr>\n",
       "    <tr>\n",
       "      <th>2</th>\n",
       "      <td>assessment_instance_id</td>\n",
       "      <td>Assessment</td>\n",
       "      <td>Categorical Identifier</td>\n",
       "      <td>ID of a section's instance of an assessment.</td>\n",
       "    </tr>\n",
       "    <tr>\n",
       "      <th>3</th>\n",
       "      <td>assessment_item_response_id</td>\n",
       "      <td>Item Attempt</td>\n",
       "      <td>Categorical Identifier</td>\n",
       "      <td>ID of a learners response to an assessment item.</td>\n",
       "    </tr>\n",
       "    <tr>\n",
       "      <th>4</th>\n",
       "      <td>assigned_item_status</td>\n",
       "      <td>Item Attempt</td>\n",
       "      <td>Categorical Nominal</td>\n",
       "      <td>Code indicating the status of the assessment item.  Values: scored, offline_scored: manually scored, assigned: not yet started, responded: being scored</td>\n",
       "    </tr>\n",
       "    <tr>\n",
       "      <th>5</th>\n",
       "      <td>assignment_attempt_number</td>\n",
       "      <td>Assignment Attempt</td>\n",
       "      <td>Numeric Continuous</td>\n",
       "      <td>The nth time a certain learner attempted the assessement.</td>\n",
       "    </tr>\n",
       "    <tr>\n",
       "      <th>6</th>\n",
       "      <td>assignment_due_date</td>\n",
       "      <td>Assignment</td>\n",
       "      <td>Categorical Interval</td>\n",
       "      <td>The date and time the assignment is due.</td>\n",
       "    </tr>\n",
       "    <tr>\n",
       "      <th>7</th>\n",
       "      <td>assignment_final_submission_date</td>\n",
       "      <td>Assignment</td>\n",
       "      <td>Categorical Interval</td>\n",
       "      <td>The date and time the assignment was submitted for scoring.</td>\n",
       "    </tr>\n",
       "    <tr>\n",
       "      <th>8</th>\n",
       "      <td>assignment_late_submission</td>\n",
       "      <td>Assignment</td>\n",
       "      <td>Categorical Binary</td>\n",
       "      <td>True if the assignment was submitted late.</td>\n",
       "    </tr>\n",
       "    <tr>\n",
       "      <th>9</th>\n",
       "      <td>assignment_max_attempts</td>\n",
       "      <td>Assignment</td>\n",
       "      <td>Numeric Continuous</td>\n",
       "      <td>The number of times a learner can attempt the assessment.</td>\n",
       "    </tr>\n",
       "    <tr>\n",
       "      <th>10</th>\n",
       "      <td>assignment_start_date</td>\n",
       "      <td>Assignment</td>\n",
       "      <td>Categorical Interval</td>\n",
       "      <td>The date and time a section is scheduled to start the assignment.</td>\n",
       "    </tr>\n",
       "    <tr>\n",
       "      <th>11</th>\n",
       "      <td>ced_assignment_type_code</td>\n",
       "      <td>Assignment</td>\n",
       "      <td>Categorical Nominal</td>\n",
       "      <td>Type of assessment values: rubric, assessment, practice, clo, game.</td>\n",
       "    </tr>\n",
       "    <tr>\n",
       "      <th>12</th>\n",
       "      <td>final_score_unweighted</td>\n",
       "      <td>Assignment Attempt</td>\n",
       "      <td>Numeric Continuous</td>\n",
       "      <td>Numeric final score of the assessment.</td>\n",
       "    </tr>\n",
       "    <tr>\n",
       "      <th>13</th>\n",
       "      <td>is_affecting_grade</td>\n",
       "      <td>Assignment</td>\n",
       "      <td>Categorical Binary</td>\n",
       "      <td>True if the assessment item affects the learner's grade.</td>\n",
       "    </tr>\n",
       "    <tr>\n",
       "      <th>14</th>\n",
       "      <td>is_deleted</td>\n",
       "      <td>Item Attempt</td>\n",
       "      <td>Categorical Binary</td>\n",
       "      <td>True if the record is deleted.</td>\n",
       "    </tr>\n",
       "    <tr>\n",
       "      <th>15</th>\n",
       "      <td>is_force_scored</td>\n",
       "      <td>Assignment Attempt</td>\n",
       "      <td>Categorical Binary</td>\n",
       "      <td>True if the assessment attempt was forced to be scored because the learner did not submit the assignment before the final possible submission datetime and the policy dictates forced scoring for that format.</td>\n",
       "    </tr>\n",
       "    <tr>\n",
       "      <th>16</th>\n",
       "      <td>is_manual_scoring_required</td>\n",
       "      <td>Assignment Attempt</td>\n",
       "      <td>Categorical Binary</td>\n",
       "      <td>True if the assessment attempt requires a manual score. Changes to false after manual scoring is entered.</td>\n",
       "    </tr>\n",
       "    <tr>\n",
       "      <th>17</th>\n",
       "      <td>item_attempt_end_datetime_utc</td>\n",
       "      <td>Item Attempt</td>\n",
       "      <td>Categorical Interval</td>\n",
       "      <td>The date and time assessment item attempt was finished</td>\n",
       "    </tr>\n",
       "    <tr>\n",
       "      <th>18</th>\n",
       "      <td>item_attempt_start_datetime_utc</td>\n",
       "      <td>Item Attempt</td>\n",
       "      <td>Categorical Interval</td>\n",
       "      <td>The date and time assessment item attempt was started</td>\n",
       "    </tr>\n",
       "    <tr>\n",
       "      <th>19</th>\n",
       "      <td>item_is_offline_scored</td>\n",
       "      <td>Item</td>\n",
       "      <td>Categorical Binary</td>\n",
       "      <td>True if the assessment item was scored manually. Example: Essay questions.</td>\n",
       "    </tr>\n",
       "    <tr>\n",
       "      <th>20</th>\n",
       "      <td>item_type_code_name</td>\n",
       "      <td>Item</td>\n",
       "      <td>Categorical Nominal</td>\n",
       "      <td>Code indicating the type of assessment item.  Example: shortAnswer, matching, etc.</td>\n",
       "    </tr>\n",
       "    <tr>\n",
       "      <th>21</th>\n",
       "      <td>learner_assigned_item_attempt_id</td>\n",
       "      <td>Item Attempt</td>\n",
       "      <td>Categorical Identifier</td>\n",
       "      <td>ID of and assessment item assigned to a learner.</td>\n",
       "    </tr>\n",
       "    <tr>\n",
       "      <th>22</th>\n",
       "      <td>learner_assignment_attempt_id</td>\n",
       "      <td>Assignment Attempt</td>\n",
       "      <td>Categorical Identifier</td>\n",
       "      <td>ID of one of possibly several attempts by a learner to pass the assessment.</td>\n",
       "    </tr>\n",
       "    <tr>\n",
       "      <th>23</th>\n",
       "      <td>learner_attempt_status</td>\n",
       "      <td>Assignment Attempt</td>\n",
       "      <td>Categorical Nominal</td>\n",
       "      <td>The status of a learner's attempt of the assessment.  Example: assigned, awaiting outcome, fully scored, in progress.</td>\n",
       "    </tr>\n",
       "    <tr>\n",
       "      <th>24</th>\n",
       "      <td>learner_id</td>\n",
       "      <td>Learner</td>\n",
       "      <td>Categorical Identifier</td>\n",
       "      <td>ID of a learner.</td>\n",
       "    </tr>\n",
       "    <tr>\n",
       "      <th>25</th>\n",
       "      <td>max_student_stop_datetime</td>\n",
       "      <td>Assignment</td>\n",
       "      <td>Categorical Interval</td>\n",
       "      <td>The latest date and time a learner must finish the assessment.</td>\n",
       "    </tr>\n",
       "    <tr>\n",
       "      <th>26</th>\n",
       "      <td>min_student_start_datetime</td>\n",
       "      <td>Assignment</td>\n",
       "      <td>Categorical Interval</td>\n",
       "      <td>The earliest date and time a learner can start the assessment.</td>\n",
       "    </tr>\n",
       "    <tr>\n",
       "      <th>27</th>\n",
       "      <td>number_of_distinct_instance_items</td>\n",
       "      <td>Assignment</td>\n",
       "      <td>Numeric Continuous</td>\n",
       "      <td>Number of questions on assessment.</td>\n",
       "    </tr>\n",
       "    <tr>\n",
       "      <th>28</th>\n",
       "      <td>number_of_learners</td>\n",
       "      <td>Assignment</td>\n",
       "      <td>Numeric Continuous</td>\n",
       "      <td>The number of learner's assigned this instance of an assessement. The number of learners in a section.</td>\n",
       "    </tr>\n",
       "    <tr>\n",
       "      <th>29</th>\n",
       "      <td>org_id</td>\n",
       "      <td>Organization</td>\n",
       "      <td>Categorical Identifier</td>\n",
       "      <td>ID of a organization containing multiple sections.</td>\n",
       "    </tr>\n",
       "    <tr>\n",
       "      <th>30</th>\n",
       "      <td>points_possible_unweighted</td>\n",
       "      <td>Assignment Attempt</td>\n",
       "      <td>Numeric Continuous</td>\n",
       "      <td>Numeric highest possible score of the assessment.</td>\n",
       "    </tr>\n",
       "    <tr>\n",
       "      <th>31</th>\n",
       "      <td>raw_score</td>\n",
       "      <td>Item Attempt</td>\n",
       "      <td>Numeric Continuous</td>\n",
       "      <td>Numeric score of the assessment item.</td>\n",
       "    </tr>\n",
       "    <tr>\n",
       "      <th>32</th>\n",
       "      <td>response_correctness</td>\n",
       "      <td>Item Attempt</td>\n",
       "      <td>Categorical Nominal</td>\n",
       "      <td>Code indicating the correctness of the assessment item.  Values: correct, incorrect, partially_correct</td>\n",
       "    </tr>\n",
       "    <tr>\n",
       "      <th>33</th>\n",
       "      <td>scored_datetime</td>\n",
       "      <td>Assignment Attempt</td>\n",
       "      <td>Categorical Interval</td>\n",
       "      <td>The date and time the assessment attempt was scored.</td>\n",
       "    </tr>\n",
       "    <tr>\n",
       "      <th>34</th>\n",
       "      <td>scoring_type_code</td>\n",
       "      <td>Item</td>\n",
       "      <td>Categorical Nominal</td>\n",
       "      <td>Code indicating the type of scoring for the assessment item.  Values: external and  automatic: scored by computer; manual and unassiged: manually by a human</td>\n",
       "    </tr>\n",
       "    <tr>\n",
       "      <th>35</th>\n",
       "      <td>section_id</td>\n",
       "      <td>Section</td>\n",
       "      <td>Categorical Identifier</td>\n",
       "      <td>ID of a section containing multiple students.</td>\n",
       "    </tr>\n",
       "    <tr>\n",
       "      <th>36</th>\n",
       "      <td>student_start_datetime</td>\n",
       "      <td>Assignment Attempt</td>\n",
       "      <td>Categorical Interval</td>\n",
       "      <td>The date and time the learner began the attempt of this assessment.</td>\n",
       "    </tr>\n",
       "    <tr>\n",
       "      <th>37</th>\n",
       "      <td>student_stop_datetime</td>\n",
       "      <td>Assignment Attempt</td>\n",
       "      <td>Categorical Interval</td>\n",
       "      <td>The date and time the learner finished the attempt of this assessment.</td>\n",
       "    </tr>\n",
       "    <tr>\n",
       "      <th>38</th>\n",
       "      <td>was_fully_scored_datetime</td>\n",
       "      <td>Assignment Attempt</td>\n",
       "      <td>Categorical Interval</td>\n",
       "      <td>The date and time the assessment was scored.</td>\n",
       "    </tr>\n",
       "    <tr>\n",
       "      <th>39</th>\n",
       "      <td>was_in_progress_datetime</td>\n",
       "      <td>Assignment Attempt</td>\n",
       "      <td>Categorical Interval</td>\n",
       "      <td>The date and time the assessment attempt was in progress.</td>\n",
       "    </tr>\n",
       "    <tr>\n",
       "      <th>40</th>\n",
       "      <td>was_submitted_datetime_actual</td>\n",
       "      <td>Assignment Attempt</td>\n",
       "      <td>Categorical Interval</td>\n",
       "      <td>The date and time the assessment was submitted for scoring.</td>\n",
       "    </tr>\n",
       "  </tbody>\n",
       "</table>\n",
       "</div>"
      ],
      "text/plain": [
       "                                field            category  \\\n",
       "0                       assessment_id          Assessment   \n",
       "1      assessment_instance_attempt_id  Assignment Attempt   \n",
       "2              assessment_instance_id          Assessment   \n",
       "3         assessment_item_response_id        Item Attempt   \n",
       "4                assigned_item_status        Item Attempt   \n",
       "5           assignment_attempt_number  Assignment Attempt   \n",
       "6                 assignment_due_date          Assignment   \n",
       "7    assignment_final_submission_date          Assignment   \n",
       "8          assignment_late_submission          Assignment   \n",
       "9             assignment_max_attempts          Assignment   \n",
       "10              assignment_start_date          Assignment   \n",
       "11           ced_assignment_type_code          Assignment   \n",
       "12             final_score_unweighted  Assignment Attempt   \n",
       "13                 is_affecting_grade          Assignment   \n",
       "14                         is_deleted        Item Attempt   \n",
       "15                    is_force_scored  Assignment Attempt   \n",
       "16         is_manual_scoring_required  Assignment Attempt   \n",
       "17      item_attempt_end_datetime_utc        Item Attempt   \n",
       "18    item_attempt_start_datetime_utc        Item Attempt   \n",
       "19             item_is_offline_scored                Item   \n",
       "20                item_type_code_name                Item   \n",
       "21   learner_assigned_item_attempt_id        Item Attempt   \n",
       "22      learner_assignment_attempt_id  Assignment Attempt   \n",
       "23             learner_attempt_status  Assignment Attempt   \n",
       "24                         learner_id             Learner   \n",
       "25          max_student_stop_datetime          Assignment   \n",
       "26         min_student_start_datetime          Assignment   \n",
       "27  number_of_distinct_instance_items          Assignment   \n",
       "28                 number_of_learners          Assignment   \n",
       "29                             org_id        Organization   \n",
       "30         points_possible_unweighted  Assignment Attempt   \n",
       "31                          raw_score        Item Attempt   \n",
       "32               response_correctness        Item Attempt   \n",
       "33                    scored_datetime  Assignment Attempt   \n",
       "34                  scoring_type_code                Item   \n",
       "35                         section_id             Section   \n",
       "36             student_start_datetime  Assignment Attempt   \n",
       "37              student_stop_datetime  Assignment Attempt   \n",
       "38          was_fully_scored_datetime  Assignment Attempt   \n",
       "39           was_in_progress_datetime  Assignment Attempt   \n",
       "40      was_submitted_datetime_actual  Assignment Attempt   \n",
       "\n",
       "                      type  \\\n",
       "0   Categorical Identifier   \n",
       "1   Categorical Identifier   \n",
       "2   Categorical Identifier   \n",
       "3   Categorical Identifier   \n",
       "4      Categorical Nominal   \n",
       "5       Numeric Continuous   \n",
       "6     Categorical Interval   \n",
       "7     Categorical Interval   \n",
       "8       Categorical Binary   \n",
       "9       Numeric Continuous   \n",
       "10    Categorical Interval   \n",
       "11     Categorical Nominal   \n",
       "12      Numeric Continuous   \n",
       "13      Categorical Binary   \n",
       "14      Categorical Binary   \n",
       "15      Categorical Binary   \n",
       "16      Categorical Binary   \n",
       "17    Categorical Interval   \n",
       "18    Categorical Interval   \n",
       "19      Categorical Binary   \n",
       "20     Categorical Nominal   \n",
       "21  Categorical Identifier   \n",
       "22  Categorical Identifier   \n",
       "23     Categorical Nominal   \n",
       "24  Categorical Identifier   \n",
       "25    Categorical Interval   \n",
       "26    Categorical Interval   \n",
       "27      Numeric Continuous   \n",
       "28      Numeric Continuous   \n",
       "29  Categorical Identifier   \n",
       "30      Numeric Continuous   \n",
       "31      Numeric Continuous   \n",
       "32     Categorical Nominal   \n",
       "33    Categorical Interval   \n",
       "34     Categorical Nominal   \n",
       "35  Categorical Identifier   \n",
       "36    Categorical Interval   \n",
       "37    Categorical Interval   \n",
       "38    Categorical Interval   \n",
       "39    Categorical Interval   \n",
       "40    Categorical Interval   \n",
       "\n",
       "                                                                                                                                                                                                       description  \n",
       "0                                                                                                                                                                                             ID of an Assessment.  \n",
       "1                                                                                                                                                                      ID of a learner's attempt of an assessment.  \n",
       "2                                                                                                                                                                     ID of a section's instance of an assessment.  \n",
       "3                                                                                                                                                                 ID of a learners response to an assessment item.  \n",
       "4                                                          Code indicating the status of the assessment item.  Values: scored, offline_scored: manually scored, assigned: not yet started, responded: being scored  \n",
       "5                                                                                                                                                        The nth time a certain learner attempted the assessement.  \n",
       "6                                                                                                                                                                         The date and time the assignment is due.  \n",
       "7                                                                                                                                                      The date and time the assignment was submitted for scoring.  \n",
       "8                                                                                                                                                                       True if the assignment was submitted late.  \n",
       "9                                                                                                                                                        The number of times a learner can attempt the assessment.  \n",
       "10                                                                                                                                               The date and time a section is scheduled to start the assignment.  \n",
       "11                                                                                                                                             Type of assessment values: rubric, assessment, practice, clo, game.  \n",
       "12                                                                                                                                                                          Numeric final score of the assessment.  \n",
       "13                                                                                                                                                        True if the assessment item affects the learner's grade.  \n",
       "14                                                                                                                                                                                  True if the record is deleted.  \n",
       "15  True if the assessment attempt was forced to be scored because the learner did not submit the assignment before the final possible submission datetime and the policy dictates forced scoring for that format.  \n",
       "16                                                                                                       True if the assessment attempt requires a manual score. Changes to false after manual scoring is entered.  \n",
       "17                                                                                                                                                          The date and time assessment item attempt was finished  \n",
       "18                                                                                                                                                           The date and time assessment item attempt was started  \n",
       "19                                                                                                                                      True if the assessment item was scored manually. Example: Essay questions.  \n",
       "20                                                                                                                              Code indicating the type of assessment item.  Example: shortAnswer, matching, etc.  \n",
       "21                                                                                                                                                                ID of and assessment item assigned to a learner.  \n",
       "22                                                                                                                                     ID of one of possibly several attempts by a learner to pass the assessment.  \n",
       "23                                                                                           The status of a learner's attempt of the assessment.  Example: assigned, awaiting outcome, fully scored, in progress.  \n",
       "24                                                                                                                                                                                                ID of a learner.  \n",
       "25                                                                                                                                                  The latest date and time a learner must finish the assessment.  \n",
       "26                                                                                                                                                  The earliest date and time a learner can start the assessment.  \n",
       "27                                                                                                                                                                              Number of questions on assessment.  \n",
       "28                                                                                                          The number of learner's assigned this instance of an assessement. The number of learners in a section.  \n",
       "29                                                                                                                                                              ID of a organization containing multiple sections.  \n",
       "30                                                                                                                                                               Numeric highest possible score of the assessment.  \n",
       "31                                                                                                                                                                           Numeric score of the assessment item.  \n",
       "32                                                                                                          Code indicating the correctness of the assessment item.  Values: correct, incorrect, partially_correct  \n",
       "33                                                                                                                                                            The date and time the assessment attempt was scored.  \n",
       "34                                                    Code indicating the type of scoring for the assessment item.  Values: external and  automatic: scored by computer; manual and unassiged: manually by a human  \n",
       "35                                                                                                                                                                   ID of a section containing multiple students.  \n",
       "36                                                                                                                                             The date and time the learner began the attempt of this assessment.  \n",
       "37                                                                                                                                          The date and time the learner finished the attempt of this assessment.  \n",
       "38                                                                                                                                                                    The date and time the assessment was scored.  \n",
       "39                                                                                                                                                       The date and time the assessment attempt was in progress.  \n",
       "40                                                                                                                                                     The date and time the assessment was submitted for scoring.  "
      ]
     },
     "execution_count": 1,
     "metadata": {},
     "output_type": "execute_result"
    }
   ],
   "source": [
    "pd.set_option('display.max_colwidth', None)\n",
    "dfPd = dfDesc.toPandas()\n",
    "dfPd"
   ]
  },
  {
   "cell_type": "markdown",
   "metadata": {},
   "source": [
    "###### Display Variable Categories"
   ]
  },
  {
   "cell_type": "code",
   "execution_count": 5,
   "metadata": {
    "execution": {
     "iopub.execute_input": "2020-10-28T01:01:54.199620Z",
     "iopub.status.busy": "2020-10-28T01:01:54.198018Z",
     "iopub.status.idle": "2020-10-28T01:01:55.724325Z",
     "shell.execute_reply": "2020-10-28T01:01:55.725566Z"
    },
    "pycharm": {
     "name": "#%%\n"
    }
   },
   "outputs": [
    {
     "name": "stdout",
     "output_type": "stream",
     "text": [
      "+----------------------+\n",
      "|type                  |\n",
      "+----------------------+\n",
      "|Categorical Identifier|\n",
      "|Categorical Interval  |\n",
      "|Numeric Continuous    |\n",
      "|Categorical Nominal   |\n",
      "|Categorical Binary    |\n",
      "+----------------------+\n",
      "\n"
     ]
    }
   ],
   "source": [
    "dfDesc.select('type').distinct().show(20,False)"
   ]
  },
  {
   "cell_type": "markdown",
   "metadata": {
    "pycharm": {
     "name": "#%% md\n"
    }
   },
   "source": [
    "### [Display Sample Data](./summary/display-sample-data.ipynb)"
   ]
  },
  {
   "cell_type": "markdown",
   "metadata": {
    "pycharm": {
     "name": "#%% md\n"
    }
   },
   "source": [
    "### [Display Variables](./summary/display-variables.ipynb)"
   ]
  },
  {
   "cell_type": "markdown",
   "metadata": {},
   "source": [
    "##### Display Schema"
   ]
  },
  {
   "cell_type": "code",
   "execution_count": 6,
   "metadata": {
    "execution": {
     "iopub.execute_input": "2020-10-28T01:01:55.733483Z",
     "iopub.status.busy": "2020-10-28T01:01:55.732100Z",
     "iopub.status.idle": "2020-10-28T01:01:55.737909Z",
     "shell.execute_reply": "2020-10-28T01:01:55.739291Z"
    },
    "pycharm": {
     "name": "#%%\n"
    }
   },
   "outputs": [
    {
     "name": "stdout",
     "output_type": "stream",
     "text": [
      "root\n",
      " |-- ced_assignment_type_code: string (nullable = true)\n",
      " |-- is_affecting_grade: boolean (nullable = true)\n",
      " |-- number_of_learners: integer (nullable = true)\n",
      " |-- number_of_distinct_instance_items: integer (nullable = true)\n",
      " |-- assignment_max_attempts: integer (nullable = true)\n",
      " |-- assignment_late_submission: boolean (nullable = true)\n",
      " |-- assignment_final_submission_date: timestamp (nullable = true)\n",
      " |-- assignment_start_date: timestamp (nullable = true)\n",
      " |-- assignment_due_date: timestamp (nullable = true)\n",
      " |-- min_student_start_datetime: timestamp (nullable = true)\n",
      " |-- max_student_stop_datetime: timestamp (nullable = true)\n",
      " |-- assignment_attempt_number: integer (nullable = true)\n",
      " |-- was_fully_scored_datetime: timestamp (nullable = true)\n",
      " |-- was_submitted_datetime_actual: timestamp (nullable = true)\n",
      " |-- was_in_progress_datetime: timestamp (nullable = true)\n",
      " |-- is_force_scored: boolean (nullable = true)\n",
      " |-- is_manual_scoring_required: boolean (nullable = true)\n",
      " |-- student_start_datetime: timestamp (nullable = true)\n",
      " |-- student_stop_datetime: timestamp (nullable = true)\n",
      " |-- item_is_offline_scored: boolean (nullable = true)\n",
      " |-- learner_attempt_status: string (nullable = true)\n",
      " |-- points_possible_unweighted: double (nullable = true)\n",
      " |-- final_score_unweighted: integer (nullable = true)\n",
      " |-- scored_datetime: timestamp (nullable = true)\n",
      " |-- item_type_code_name: string (nullable = true)\n",
      " |-- scoring_type_code: string (nullable = true)\n",
      " |-- raw_score: integer (nullable = true)\n",
      " |-- response_correctness: string (nullable = true)\n",
      " |-- item_attempt_start_datetime_utc: timestamp (nullable = true)\n",
      " |-- item_attempt_end_datetime_utc: timestamp (nullable = true)\n",
      " |-- assigned_item_status: string (nullable = true)\n",
      " |-- is_deleted: boolean (nullable = true)\n",
      " |-- org_id: integer (nullable = true)\n",
      " |-- section_id: integer (nullable = true)\n",
      " |-- assessment_id: integer (nullable = true)\n",
      " |-- assessment_instance_id: integer (nullable = true)\n",
      " |-- learner_assignment_attempt_id: integer (nullable = true)\n",
      " |-- assessment_instance_attempt_id: integer (nullable = true)\n",
      " |-- learner_id: integer (nullable = true)\n",
      " |-- learner_assigned_item_attempt_id: integer (nullable = true)\n",
      " |-- assessment_item_response_id: integer (nullable = true)\n",
      "\n"
     ]
    }
   ],
   "source": [
    "dfFlt.printSchema()"
   ]
  },
  {
   "cell_type": "markdown",
   "metadata": {
    "collapsed": false
   },
   "source": [
    "### [Org, Sections, Learners, Statistics](./summary/orgs-sections-learners-statistics.ipynb)"
   ]
  },
  {
   "cell_type": "markdown",
   "metadata": {
    "collapsed": false
   },
   "source": [
    "### [Numerical / Continuous  Variables](./summary/numerical-continous-variables.ipynb)"
   ]
  },
  {
   "cell_type": "markdown",
   "metadata": {
    "collapsed": false
   },
   "source": [
    "### [Binary Variables](./summary/binary-variable-statistics.ipynb)"
   ]
  },
  {
   "cell_type": "markdown",
   "metadata": {
    "collapsed": false
   },
   "source": [
    "### [Categorical / Nominal Variables](./summary/categorical-nominal-variable-statistics.ipynb)"
   ]
  },
  {
   "cell_type": "markdown",
   "metadata": {
    "collapsed": false
   },
   "source": [
    "### [Categorical / Identifier Variables](./summary/categorical-identifier-variable-statistics.ipynb)"
   ]
  },
  {
   "cell_type": "markdown",
   "metadata": {
    "collapsed": false
   },
   "source": [
    "### [Categorical / Interval Variables](./summary/categorical-interval-variable-statistics.ipynb)"
   ]
  },
  {
   "cell_type": "markdown",
   "metadata": {
    "collapsed": false
   },
   "source": [
    "###### Distinct Values"
   ]
  },
  {
   "cell_type": "code",
   "execution_count": 7,
   "metadata": {
    "collapsed": false,
    "execution": {
     "iopub.execute_input": "2020-10-28T01:01:55.747432Z",
     "iopub.status.busy": "2020-10-28T01:01:55.745886Z",
     "iopub.status.idle": "2020-10-28T01:02:09.612829Z",
     "shell.execute_reply": "2020-10-28T01:02:09.611773Z"
    },
    "pycharm": {
     "name": "#%%\n"
    }
   },
   "outputs": [
    {
     "data": {
      "text/html": [
       "<div>\n",
       "<style scoped>\n",
       "    .dataframe tbody tr th:only-of-type {\n",
       "        vertical-align: middle;\n",
       "    }\n",
       "\n",
       "    .dataframe tbody tr th {\n",
       "        vertical-align: top;\n",
       "    }\n",
       "\n",
       "    .dataframe thead th {\n",
       "        text-align: right;\n",
       "    }\n",
       "</style>\n",
       "<table border=\"1\" class=\"dataframe\">\n",
       "  <thead>\n",
       "    <tr style=\"text-align: right;\">\n",
       "      <th></th>\n",
       "      <th>0</th>\n",
       "    </tr>\n",
       "  </thead>\n",
       "  <tbody>\n",
       "    <tr>\n",
       "      <th>assignment_late_submission</th>\n",
       "      <td>False</td>\n",
       "    </tr>\n",
       "    <tr>\n",
       "      <th>learner_attempt_status</th>\n",
       "      <td>fully scored</td>\n",
       "    </tr>\n",
       "    <tr>\n",
       "      <th>is_deleted</th>\n",
       "      <td>False</td>\n",
       "    </tr>\n",
       "  </tbody>\n",
       "</table>\n",
       "</div>"
      ],
      "text/plain": [
       "                                       0\n",
       "assignment_late_submission         False\n",
       "learner_attempt_status      fully scored\n",
       "is_deleted                         False"
      ]
     },
     "execution_count": 1,
     "metadata": {},
     "output_type": "execute_result"
    }
   ],
   "source": [
    "distinct_val(dfFlt, False)"
   ]
  },
  {
   "cell_type": "markdown",
   "metadata": {
    "collapsed": false
   },
   "source": [
    "- assignment_late_submission = False\n",
    "- learner_attempt_status = fully scored\n",
    "- is_deleted = False\n",
    "\n"
   ]
  }
 ],
 "metadata": {
  "kernelspec": {
   "display_name": "Python 3",
   "language": "python",
   "name": "python3"
  },
  "language_info": {
   "codemirror_mode": {
    "name": "ipython",
    "version": 3
   },
   "file_extension": ".py",
   "mimetype": "text/x-python",
   "name": "python",
   "nbconvert_exporter": "python",
   "pygments_lexer": "ipython3",
   "version": "3.6.3"
  },
  "name": "C772 Capstone Summarization Sub-Notebook",
  "notebookId": 199670002753040
 },
 "nbformat": 4,
 "nbformat_minor": 1
}
