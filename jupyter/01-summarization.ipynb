{
 "cells": [
  {
   "cell_type": "markdown",
   "metadata": {
    "pycharm": {
     "name": "#%% md\n"
    }
   },
   "source": [
    "## Summarization"
   ]
  },
  {
   "cell_type": "code",
   "execution_count": 1,
   "metadata": {
    "pycharm": {
     "name": "#%%\n"
    }
   },
   "outputs": [
    {
     "name": "stdout",
     "output_type": "stream",
     "text": [
      "dython              0.6.1\n",
      "tinydb              4.2.0\n"
     ]
    },
    {
     "name": "stderr",
     "output_type": "stream",
     "text": [
      "WARNING: You are using pip version 20.2.3; however, version 20.2.4 is available.\n",
      "You should consider upgrading via the '/Users/duane.hinkley/PycharmProjects/c772-capstone-project/venv/bin/python -m pip install --upgrade pip' command.\n",
      "WARNING: You are using pip version 20.2.3; however, version 20.2.4 is available.\n",
      "You should consider upgrading via the '/Users/duane.hinkley/PycharmProjects/c772-capstone-project/venv/bin/python -m pip install --upgrade pip' command.\n"
     ]
    }
   ],
   "source": [
    "%run './lib/libraries.ipynb'"
   ]
  },
  {
   "cell_type": "markdown",
   "metadata": {},
   "source": [
    "#### Data Exploration: Load Data"
   ]
  },
  {
   "cell_type": "code",
   "execution_count": 2,
   "metadata": {
    "pycharm": {
     "name": "#%%\n"
    }
   },
   "outputs": [],
   "source": [
    "dfDesc = init_df_desc()\n",
    "dfFlt  = init_df_raw()"
   ]
  },
  {
   "cell_type": "markdown",
   "metadata": {},
   "source": [
    "#### Data Exploration: Summarize Data\n",
    "\n",
    "###### Number of observations"
   ]
  },
  {
   "cell_type": "code",
   "execution_count": 3,
   "metadata": {
    "pycharm": {
     "name": "#%%\n"
    }
   },
   "outputs": [
    {
     "data": {
      "text/plain": "80548"
     },
     "execution_count": 3,
     "metadata": {},
     "output_type": "execute_result"
    }
   ],
   "source": [
    "dfFlt.select().count()"
   ]
  },
  {
   "cell_type": "markdown",
   "metadata": {},
   "source": [
    "###### Display Variable Descriptions"
   ]
  },
  {
   "cell_type": "code",
   "execution_count": 4,
   "metadata": {
    "pycharm": {
     "name": "#%%\n"
    }
   },
   "outputs": [
    {
     "data": {
      "text/plain": "                                field                    type  \\\n0                       assessment_id  Categorical Identifier   \n1      assessment_instance_attempt_id  Categorical Identifier   \n2              assessment_instance_id  Categorical Identifier   \n3         assessment_item_response_id  Categorical Identifier   \n4                assigned_item_status     Categorical Nominal   \n5           assignment_attempt_number      Numeric Continuous   \n6                 assignment_due_date    Categorical Interval   \n7    assignment_final_submission_date    Categorical Interval   \n8          assignment_late_submission      Categorical Binary   \n9             assignment_max_attempts      Numeric Continuous   \n10              assignment_start_date    Categorical Interval   \n11           ced_assignment_type_code     Categorical Nominal   \n12             final_score_unweighted      Numeric Continuous   \n13                 is_affecting_grade      Categorical Binary   \n14                         is_deleted      Categorical Binary   \n15                    is_force_scored      Categorical Binary   \n16         is_manual_scoring_required      Categorical Binary   \n17      item_attempt_end_datetime_utc    Categorical Interval   \n18    item_attempt_start_datetime_utc    Categorical Interval   \n19             item_is_offline_scored      Categorical Binary   \n20                item_type_code_name     Categorical Nominal   \n21   learner_assigned_item_attempt_id  Categorical Identifier   \n22      learner_assignment_attempt_id  Categorical Identifier   \n23             learner_attempt_status     Categorical Nominal   \n24                         learner_id  Categorical Identifier   \n25          max_student_stop_datetime    Categorical Interval   \n26         min_student_start_datetime    Categorical Interval   \n27  number_of_distinct_instance_items      Numeric Continuous   \n28                 number_of_learners      Numeric Continuous   \n29                             org_id  Categorical Identifier   \n30         points_possible_unweighted      Numeric Continuous   \n31                          raw_score      Numeric Continuous   \n32               response_correctness     Categorical Nominal   \n33                    scored_datetime    Categorical Interval   \n34                  scoring_type_code     Categorical Nominal   \n35                         section_id  Categorical Identifier   \n36             student_start_datetime    Categorical Interval   \n37              student_stop_datetime    Categorical Interval   \n38          was_fully_scored_datetime    Categorical Interval   \n39           was_in_progress_datetime    Categorical Interval   \n40      was_submitted_datetime_actual    Categorical Interval   \n\n                                                                                                                                                                                                       description  \n0                                                                                                                                                                                             ID of an Assessment.  \n1                                                                                                                                                                      ID of a learner's attempt of an assessment.  \n2                                                                                                                                                                     ID of a section's instance of an assessment.  \n3                                                                                                                                                                 ID of a learners response to an assessment item.  \n4                                                          Code indicating the status of the assessment item.  Values: scored, offline_scored: manually scored, assigned: not yet started, responded: being scored  \n5                                                                                                                                                        The nth time a certain learner attempted the assessement.  \n6                                                                                                                                                                         The date and time the assignment is due.  \n7                                                                                                                                                      The date and time the assignment was submitted for scoring.  \n8                                                                                                                                                                       True if the assignment was submitted late.  \n9                                                                                                                                                        The number of times a learner can attempt the assessment.  \n10                                                                                                                                                                   The date and time the assignment was started.  \n11                                                                                                                                             Type of assessment values: rubric, assessment, practice, clo, game.  \n12                                                                                                                                                                          Numeric final score of the assessment.  \n13                                                                                                                                                        True if the assessment item affects the learner's grade.  \n14                                                                                                                                                                                  True if the record is deleted.  \n15  True if the assessment attempt was forced to be scored because the learner did not submit the assignment before the final possible submission datetime and the policy dictates forced scoring for that format.  \n16                                                                                                       True if the assessment attempt requires a manual score. Changes to false after manual scoring is entered.  \n17                                                                                                                                                          The date and time assessment item attempt was finished  \n18                                                                                                                                                           The date and time assessment item attempt was started  \n19                                                                                                                                      True if the assessment item was scored manually. Example: Essay questions.  \n20                                                                                                                              Code indicating the type of assessment item.  Example: shortAnswer, matching, etc.  \n21                                                                                                                                                                ID of and assessment item assigned to a learner.  \n22                                                                                                                                     ID of one of possibly several attempts by a learner to pass the assessment.  \n23                                                                                           The status of a learner's attempt of the assessment.  Example: assigned, awaiting outcome, fully scored, in progress.  \n24                                                                                                                                                                                                ID of a learner.  \n25                                                                                                                                                  The latest date and time a learner must finish the assessment.  \n26                                                                                                                                                  The earliest date and time a learner can start the assessment.  \n27                                                                                                                                                                              Number of questions on assessment.  \n28                                                                                                          The number of learner's assigned this instance of an assessement. The number of learners in a section.  \n29                                                                                                                                                              ID of a organization containing multiple sections.  \n30                                                                                                                                                               Numeric highest possible score of the assessment.  \n31                                                                                                                                                                           Numeric score of the assessment item.  \n32                                                                                                          Code indicating the correctness of the assessment item.  Values: correct, incorrect, partially_correct  \n33                                                                                                                                                            The date and time the assessment attempt was scored.  \n34                                                    Code indicating the type of scoring for the assessment item.  Values: external and  automatic: scored by computer; manual and unassiged: manually by a human  \n35                                                                                                                                                                   ID of a section containing multiple students.  \n36                                                                                                                                             The date and time the learner began the attempt of this assessment.  \n37                                                                                                                                          The date and time the learner finished the attempt of this assessment.  \n38                                                                                                                                                                    The date and time the assessment was scored.  \n39                                                                                                                                                       The date and time the assessment attempt was in progress.  \n40                                                                                                                                                     The date and time the assessment was submitted for scoring.  ",
      "text/html": "<div>\n<style scoped>\n    .dataframe tbody tr th:only-of-type {\n        vertical-align: middle;\n    }\n\n    .dataframe tbody tr th {\n        vertical-align: top;\n    }\n\n    .dataframe thead th {\n        text-align: right;\n    }\n</style>\n<table border=\"1\" class=\"dataframe\">\n  <thead>\n    <tr style=\"text-align: right;\">\n      <th></th>\n      <th>field</th>\n      <th>type</th>\n      <th>description</th>\n    </tr>\n  </thead>\n  <tbody>\n    <tr>\n      <th>0</th>\n      <td>assessment_id</td>\n      <td>Categorical Identifier</td>\n      <td>ID of an Assessment.</td>\n    </tr>\n    <tr>\n      <th>1</th>\n      <td>assessment_instance_attempt_id</td>\n      <td>Categorical Identifier</td>\n      <td>ID of a learner's attempt of an assessment.</td>\n    </tr>\n    <tr>\n      <th>2</th>\n      <td>assessment_instance_id</td>\n      <td>Categorical Identifier</td>\n      <td>ID of a section's instance of an assessment.</td>\n    </tr>\n    <tr>\n      <th>3</th>\n      <td>assessment_item_response_id</td>\n      <td>Categorical Identifier</td>\n      <td>ID of a learners response to an assessment item.</td>\n    </tr>\n    <tr>\n      <th>4</th>\n      <td>assigned_item_status</td>\n      <td>Categorical Nominal</td>\n      <td>Code indicating the status of the assessment item.  Values: scored, offline_scored: manually scored, assigned: not yet started, responded: being scored</td>\n    </tr>\n    <tr>\n      <th>5</th>\n      <td>assignment_attempt_number</td>\n      <td>Numeric Continuous</td>\n      <td>The nth time a certain learner attempted the assessement.</td>\n    </tr>\n    <tr>\n      <th>6</th>\n      <td>assignment_due_date</td>\n      <td>Categorical Interval</td>\n      <td>The date and time the assignment is due.</td>\n    </tr>\n    <tr>\n      <th>7</th>\n      <td>assignment_final_submission_date</td>\n      <td>Categorical Interval</td>\n      <td>The date and time the assignment was submitted for scoring.</td>\n    </tr>\n    <tr>\n      <th>8</th>\n      <td>assignment_late_submission</td>\n      <td>Categorical Binary</td>\n      <td>True if the assignment was submitted late.</td>\n    </tr>\n    <tr>\n      <th>9</th>\n      <td>assignment_max_attempts</td>\n      <td>Numeric Continuous</td>\n      <td>The number of times a learner can attempt the assessment.</td>\n    </tr>\n    <tr>\n      <th>10</th>\n      <td>assignment_start_date</td>\n      <td>Categorical Interval</td>\n      <td>The date and time the assignment was started.</td>\n    </tr>\n    <tr>\n      <th>11</th>\n      <td>ced_assignment_type_code</td>\n      <td>Categorical Nominal</td>\n      <td>Type of assessment values: rubric, assessment, practice, clo, game.</td>\n    </tr>\n    <tr>\n      <th>12</th>\n      <td>final_score_unweighted</td>\n      <td>Numeric Continuous</td>\n      <td>Numeric final score of the assessment.</td>\n    </tr>\n    <tr>\n      <th>13</th>\n      <td>is_affecting_grade</td>\n      <td>Categorical Binary</td>\n      <td>True if the assessment item affects the learner's grade.</td>\n    </tr>\n    <tr>\n      <th>14</th>\n      <td>is_deleted</td>\n      <td>Categorical Binary</td>\n      <td>True if the record is deleted.</td>\n    </tr>\n    <tr>\n      <th>15</th>\n      <td>is_force_scored</td>\n      <td>Categorical Binary</td>\n      <td>True if the assessment attempt was forced to be scored because the learner did not submit the assignment before the final possible submission datetime and the policy dictates forced scoring for that format.</td>\n    </tr>\n    <tr>\n      <th>16</th>\n      <td>is_manual_scoring_required</td>\n      <td>Categorical Binary</td>\n      <td>True if the assessment attempt requires a manual score. Changes to false after manual scoring is entered.</td>\n    </tr>\n    <tr>\n      <th>17</th>\n      <td>item_attempt_end_datetime_utc</td>\n      <td>Categorical Interval</td>\n      <td>The date and time assessment item attempt was finished</td>\n    </tr>\n    <tr>\n      <th>18</th>\n      <td>item_attempt_start_datetime_utc</td>\n      <td>Categorical Interval</td>\n      <td>The date and time assessment item attempt was started</td>\n    </tr>\n    <tr>\n      <th>19</th>\n      <td>item_is_offline_scored</td>\n      <td>Categorical Binary</td>\n      <td>True if the assessment item was scored manually. Example: Essay questions.</td>\n    </tr>\n    <tr>\n      <th>20</th>\n      <td>item_type_code_name</td>\n      <td>Categorical Nominal</td>\n      <td>Code indicating the type of assessment item.  Example: shortAnswer, matching, etc.</td>\n    </tr>\n    <tr>\n      <th>21</th>\n      <td>learner_assigned_item_attempt_id</td>\n      <td>Categorical Identifier</td>\n      <td>ID of and assessment item assigned to a learner.</td>\n    </tr>\n    <tr>\n      <th>22</th>\n      <td>learner_assignment_attempt_id</td>\n      <td>Categorical Identifier</td>\n      <td>ID of one of possibly several attempts by a learner to pass the assessment.</td>\n    </tr>\n    <tr>\n      <th>23</th>\n      <td>learner_attempt_status</td>\n      <td>Categorical Nominal</td>\n      <td>The status of a learner's attempt of the assessment.  Example: assigned, awaiting outcome, fully scored, in progress.</td>\n    </tr>\n    <tr>\n      <th>24</th>\n      <td>learner_id</td>\n      <td>Categorical Identifier</td>\n      <td>ID of a learner.</td>\n    </tr>\n    <tr>\n      <th>25</th>\n      <td>max_student_stop_datetime</td>\n      <td>Categorical Interval</td>\n      <td>The latest date and time a learner must finish the assessment.</td>\n    </tr>\n    <tr>\n      <th>26</th>\n      <td>min_student_start_datetime</td>\n      <td>Categorical Interval</td>\n      <td>The earliest date and time a learner can start the assessment.</td>\n    </tr>\n    <tr>\n      <th>27</th>\n      <td>number_of_distinct_instance_items</td>\n      <td>Numeric Continuous</td>\n      <td>Number of questions on assessment.</td>\n    </tr>\n    <tr>\n      <th>28</th>\n      <td>number_of_learners</td>\n      <td>Numeric Continuous</td>\n      <td>The number of learner's assigned this instance of an assessement. The number of learners in a section.</td>\n    </tr>\n    <tr>\n      <th>29</th>\n      <td>org_id</td>\n      <td>Categorical Identifier</td>\n      <td>ID of a organization containing multiple sections.</td>\n    </tr>\n    <tr>\n      <th>30</th>\n      <td>points_possible_unweighted</td>\n      <td>Numeric Continuous</td>\n      <td>Numeric highest possible score of the assessment.</td>\n    </tr>\n    <tr>\n      <th>31</th>\n      <td>raw_score</td>\n      <td>Numeric Continuous</td>\n      <td>Numeric score of the assessment item.</td>\n    </tr>\n    <tr>\n      <th>32</th>\n      <td>response_correctness</td>\n      <td>Categorical Nominal</td>\n      <td>Code indicating the correctness of the assessment item.  Values: correct, incorrect, partially_correct</td>\n    </tr>\n    <tr>\n      <th>33</th>\n      <td>scored_datetime</td>\n      <td>Categorical Interval</td>\n      <td>The date and time the assessment attempt was scored.</td>\n    </tr>\n    <tr>\n      <th>34</th>\n      <td>scoring_type_code</td>\n      <td>Categorical Nominal</td>\n      <td>Code indicating the type of scoring for the assessment item.  Values: external and  automatic: scored by computer; manual and unassiged: manually by a human</td>\n    </tr>\n    <tr>\n      <th>35</th>\n      <td>section_id</td>\n      <td>Categorical Identifier</td>\n      <td>ID of a section containing multiple students.</td>\n    </tr>\n    <tr>\n      <th>36</th>\n      <td>student_start_datetime</td>\n      <td>Categorical Interval</td>\n      <td>The date and time the learner began the attempt of this assessment.</td>\n    </tr>\n    <tr>\n      <th>37</th>\n      <td>student_stop_datetime</td>\n      <td>Categorical Interval</td>\n      <td>The date and time the learner finished the attempt of this assessment.</td>\n    </tr>\n    <tr>\n      <th>38</th>\n      <td>was_fully_scored_datetime</td>\n      <td>Categorical Interval</td>\n      <td>The date and time the assessment was scored.</td>\n    </tr>\n    <tr>\n      <th>39</th>\n      <td>was_in_progress_datetime</td>\n      <td>Categorical Interval</td>\n      <td>The date and time the assessment attempt was in progress.</td>\n    </tr>\n    <tr>\n      <th>40</th>\n      <td>was_submitted_datetime_actual</td>\n      <td>Categorical Interval</td>\n      <td>The date and time the assessment was submitted for scoring.</td>\n    </tr>\n  </tbody>\n</table>\n</div>"
     },
     "execution_count": 4,
     "metadata": {},
     "output_type": "execute_result"
    }
   ],
   "source": [
    "pd.set_option('display.max_colwidth', None)\n",
    "dfPd = dfDesc.toPandas()\n",
    "dfPd"
   ]
  },
  {
   "cell_type": "markdown",
   "metadata": {},
   "source": [
    "###### Display Variable Categories"
   ]
  },
  {
   "cell_type": "code",
   "execution_count": 5,
   "metadata": {
    "pycharm": {
     "name": "#%%\n"
    }
   },
   "outputs": [
    {
     "name": "stdout",
     "output_type": "stream",
     "text": [
      "+----------------------+\n",
      "|type                  |\n",
      "+----------------------+\n",
      "|Categorical Identifier|\n",
      "|Categorical Interval  |\n",
      "|Numeric Continuous    |\n",
      "|Categorical Nominal   |\n",
      "|Categorical Binary    |\n",
      "+----------------------+\n",
      "\n"
     ]
    }
   ],
   "source": [
    "dfDesc.select('type').distinct().show(20,False)"
   ]
  },
  {
   "cell_type": "markdown",
   "metadata": {
    "pycharm": {
     "name": "#%% md\n"
    }
   },
   "source": [
    "### [Display Sample Data](./summary/display-sample-data.ipynb)"
   ]
  },
  {
   "cell_type": "markdown",
   "metadata": {
    "pycharm": {
     "name": "#%% md\n"
    }
   },
   "source": [
    "### [Display Variables](./summary/display-variables.ipynb)"
   ]
  },
  {
   "cell_type": "markdown",
   "metadata": {},
   "source": [
    "##### Display Schema"
   ]
  },
  {
   "cell_type": "code",
   "execution_count": 6,
   "metadata": {
    "pycharm": {
     "name": "#%%\n"
    }
   },
   "outputs": [
    {
     "name": "stdout",
     "output_type": "stream",
     "text": [
      "root\n",
      " |-- ced_assignment_type_code: string (nullable = true)\n",
      " |-- is_affecting_grade: boolean (nullable = true)\n",
      " |-- number_of_learners: integer (nullable = true)\n",
      " |-- number_of_distinct_instance_items: integer (nullable = true)\n",
      " |-- assignment_max_attempts: integer (nullable = true)\n",
      " |-- assignment_late_submission: boolean (nullable = true)\n",
      " |-- assignment_final_submission_date: timestamp (nullable = true)\n",
      " |-- assignment_start_date: timestamp (nullable = true)\n",
      " |-- assignment_due_date: timestamp (nullable = true)\n",
      " |-- min_student_start_datetime: timestamp (nullable = true)\n",
      " |-- max_student_stop_datetime: timestamp (nullable = true)\n",
      " |-- assignment_attempt_number: integer (nullable = true)\n",
      " |-- was_fully_scored_datetime: timestamp (nullable = true)\n",
      " |-- was_submitted_datetime_actual: timestamp (nullable = true)\n",
      " |-- was_in_progress_datetime: timestamp (nullable = true)\n",
      " |-- is_force_scored: boolean (nullable = true)\n",
      " |-- is_manual_scoring_required: boolean (nullable = true)\n",
      " |-- student_start_datetime: timestamp (nullable = true)\n",
      " |-- student_stop_datetime: timestamp (nullable = true)\n",
      " |-- item_is_offline_scored: boolean (nullable = true)\n",
      " |-- learner_attempt_status: string (nullable = true)\n",
      " |-- points_possible_unweighted: double (nullable = true)\n",
      " |-- final_score_unweighted: integer (nullable = true)\n",
      " |-- scored_datetime: timestamp (nullable = true)\n",
      " |-- item_type_code_name: string (nullable = true)\n",
      " |-- scoring_type_code: string (nullable = true)\n",
      " |-- raw_score: integer (nullable = true)\n",
      " |-- response_correctness: string (nullable = true)\n",
      " |-- item_attempt_start_datetime_utc: timestamp (nullable = true)\n",
      " |-- item_attempt_end_datetime_utc: timestamp (nullable = true)\n",
      " |-- assigned_item_status: string (nullable = true)\n",
      " |-- is_deleted: boolean (nullable = true)\n",
      " |-- org_id: integer (nullable = true)\n",
      " |-- section_id: integer (nullable = true)\n",
      " |-- assessment_id: integer (nullable = true)\n",
      " |-- assessment_instance_id: integer (nullable = true)\n",
      " |-- learner_assignment_attempt_id: integer (nullable = true)\n",
      " |-- assessment_instance_attempt_id: integer (nullable = true)\n",
      " |-- learner_id: integer (nullable = true)\n",
      " |-- learner_assigned_item_attempt_id: integer (nullable = true)\n",
      " |-- assessment_item_response_id: integer (nullable = true)\n",
      "\n"
     ]
    }
   ],
   "source": [
    "dfFlt.printSchema()\n"
   ]
  },
  {
   "cell_type": "markdown",
   "metadata": {
    "pycharm": {
     "name": "#%% md\n"
    }
   },
   "source": [
    "### [Descriptive Statistics](./summary/descriptive-statistics.ipynb)\n"
   ]
  },
  {
   "cell_type": "code",
   "execution_count": 6,
   "metadata": {
    "pycharm": {
     "name": "#%%\n"
    }
   },
   "outputs": [],
   "source": []
  }
 ],
 "metadata": {
  "kernelspec": {
   "display_name": "Python 3",
   "language": "python",
   "name": "python3"
  },
  "language_info": {
   "codemirror_mode": {
    "name": "ipython",
    "version": 3
   },
   "file_extension": ".py",
   "mimetype": "text/x-python",
   "name": "python",
   "nbconvert_exporter": "python",
   "pygments_lexer": "ipython3",
   "version": "3.6.3"
  },
  "name": "C772 Capstone Summarization Sub-Notebook",
  "notebookId": 199670002753040
 },
 "nbformat": 4,
 "nbformat_minor": 1
}