{
 "cells": [
  {
   "cell_type": "markdown",
   "metadata": {
    "pycharm": {
     "name": "#%% md\n"
    }
   },
   "source": [
    "# Table of Contents\n",
    "\n",
    "## [Summarization](./01-summarization.ipynb)\n",
    "\n",
    "## [Investigation](./02-investigation.ipynb)\n",
    "\n",
    "## [Cleaning](./03-cleaning.ipynb)"
   ]
  }
 ],
 "metadata": {
  "kernelspec": {
   "display_name": "Python 3",
   "language": "python",
   "name": "python3"
  },
  "language_info": {
   "codemirror_mode": {
    "name": "ipython",
    "version": 3
   },
   "file_extension": ".py",
   "mimetype": "text/x-python",
   "name": "python",
   "nbconvert_exporter": "python",
   "pygments_lexer": "ipython3",
   "version": "3.6.3"
  },
  "name": "C772 Capstone Main Notebook",
  "notebookId": 199670002753196
 },
 "nbformat": 4,
 "nbformat_minor": 1
}