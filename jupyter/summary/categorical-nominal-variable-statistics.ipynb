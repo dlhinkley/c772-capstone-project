{
 "cells": [
  {
   "cell_type": "markdown",
   "source": [
    "### Categorical / Nominal Variables"
   ],
   "metadata": {
    "collapsed": false
   }
  },
  {
   "cell_type": "code",
   "execution_count": 4,
   "outputs": [],
   "source": [
    "%%capture\n",
    "%run '../lib/libraries.ipynb'"
   ],
   "metadata": {
    "collapsed": false,
    "pycharm": {
     "name": "#%%\n"
    }
   }
  },
  {
   "cell_type": "code",
   "execution_count": 5,
   "outputs": [],
   "source": [
    "filterDf  = load_df('filterDf')\n",
    "descDf = load_df('descDf')\n",
    "types = get_var_types()"
   ],
   "metadata": {
    "collapsed": false,
    "pycharm": {
     "name": "#%%\n"
    }
   }
  },
  {
   "cell_type": "markdown",
   "source": [
    "#### Variable List"
   ],
   "metadata": {
    "collapsed": false
   }
  },
  {
   "cell_type": "code",
   "execution_count": 6,
   "outputs": [
    {
     "data": {
      "text/plain": "                  category                  variable\n0           Assignment (a)  ced_assignment_type_code\n1  Assignment Attempt (aa)    learner_attempt_status\n2                 Item (i)       item_type_code_name\n3                 Item (i)         scoring_type_code\n4        Item Attempt (ia)      assigned_item_status\n5        Item Attempt (ia)      response_correctness",
      "text/html": "<div>\n<style scoped>\n    .dataframe tbody tr th:only-of-type {\n        vertical-align: middle;\n    }\n\n    .dataframe tbody tr th {\n        vertical-align: top;\n    }\n\n    .dataframe thead th {\n        text-align: right;\n    }\n</style>\n<table border=\"1\" class=\"dataframe\">\n  <thead>\n    <tr style=\"text-align: right;\">\n      <th></th>\n      <th>category</th>\n      <th>variable</th>\n    </tr>\n  </thead>\n  <tbody>\n    <tr>\n      <th>0</th>\n      <td>Assignment (a)</td>\n      <td>ced_assignment_type_code</td>\n    </tr>\n    <tr>\n      <th>1</th>\n      <td>Assignment Attempt (aa)</td>\n      <td>learner_attempt_status</td>\n    </tr>\n    <tr>\n      <th>2</th>\n      <td>Item (i)</td>\n      <td>item_type_code_name</td>\n    </tr>\n    <tr>\n      <th>3</th>\n      <td>Item (i)</td>\n      <td>scoring_type_code</td>\n    </tr>\n    <tr>\n      <th>4</th>\n      <td>Item Attempt (ia)</td>\n      <td>assigned_item_status</td>\n    </tr>\n    <tr>\n      <th>5</th>\n      <td>Item Attempt (ia)</td>\n      <td>response_correctness</td>\n    </tr>\n  </tbody>\n</table>\n</div>"
     },
     "execution_count": 6,
     "metadata": {},
     "output_type": "execute_result"
    }
   ],
   "source": [
    "variable_types(descDf, 'Categorical Nominal')"
   ],
   "metadata": {
    "collapsed": false,
    "pycharm": {
     "name": "#%%\n"
    }
   }
  },
  {
   "cell_type": "markdown",
   "source": [
    "#### Statistics"
   ],
   "metadata": {
    "collapsed": false,
    "pycharm": {
     "name": "#%% md\n"
    }
   }
  },
  {
   "cell_type": "code",
   "execution_count": 7,
   "outputs": [
    {
     "name": "stdout",
     "output_type": "stream",
     "text": [
      "+--------------------+-----+\n",
      "|assigned_item_status|count|\n",
      "+--------------------+-----+\n",
      "|scored              |64804|\n",
      "|responded           |34   |\n",
      "+--------------------+-----+\n",
      "\n",
      "+------------------------+-----+\n",
      "|ced_assignment_type_code|count|\n",
      "+------------------------+-----+\n",
      "|assessment              |61463|\n",
      "|practice                |1595 |\n",
      "|game                    |1555 |\n",
      "|clo                     |214  |\n",
      "|rubric                  |11   |\n",
      "+------------------------+-----+\n",
      "\n",
      "+----------------------+-----+\n",
      "|item_type_code_name   |count|\n",
      "+----------------------+-----+\n",
      "|multipleChoice        |26704|\n",
      "|fillInTheBlank        |10497|\n",
      "|equationEntry         |7841 |\n",
      "|trueFalse             |4561 |\n",
      "|cloze                 |3024 |\n",
      "|multipleSelect        |2295 |\n",
      "|graphing              |2076 |\n",
      "|MultipleChoiceResponse|1550 |\n",
      "|choiceMatrix          |1203 |\n",
      "|matching              |924  |\n",
      "|shortAnswer           |853  |\n",
      "|selectText            |813  |\n",
      "|bucketing             |799  |\n",
      "|sortable              |549  |\n",
      "|essay                 |531  |\n",
      "|numberLine            |302  |\n",
      "|aheAlgo               |219  |\n",
      "|imageLabel            |80   |\n",
      "|RubricResponse        |11   |\n",
      "|FillinBlankResponse   |5    |\n",
      "|fileUpload            |1    |\n",
      "+----------------------+-----+\n",
      "\n",
      "+----------------------+-----+\n",
      "|learner_attempt_status|count|\n",
      "+----------------------+-----+\n",
      "|fully scored          |64838|\n",
      "+----------------------+-----+\n",
      "\n",
      "+--------------------+-----+\n",
      "|response_correctness|count|\n",
      "+--------------------+-----+\n",
      "|correct             |43711|\n",
      "|incorrect           |18103|\n",
      "|[unassigned]        |1566 |\n",
      "|partially_correct   |1424 |\n",
      "|null                |34   |\n",
      "+--------------------+-----+\n",
      "\n",
      "+-----------------+-----+\n",
      "|scoring_type_code|count|\n",
      "+-----------------+-----+\n",
      "|automatic        |61668|\n",
      "|[unassigned]     |1600 |\n",
      "|manual           |1351 |\n",
      "|external         |219  |\n",
      "+-----------------+-----+\n",
      "\n"
     ]
    }
   ],
   "source": [
    "# Categorical / Nominal Values\n",
    "for f in types['nominalVars']:\n",
    "    count_values(filterDf, f).show(50, False)\n"
   ],
   "metadata": {
    "collapsed": false,
    "pycharm": {
     "name": "#%%\n"
    }
   }
  },
  {
   "cell_type": "markdown",
   "source": [
    "Null Values\n",
    "- response_correctness\n",
    "  - 34 null values\n",
    "    - investigate further\n",
    "  - 1566 \"[unassigned]\"\n",
    "    - investigate further for relation to the 1566 assignment_attempt_number and assignment_max_attempts values\n",
    "  - Could be null because the question wasn't answered or a different method of scoring the question\n",
    "- item_type_code_name\n",
    "  - Investigate further\n",
    "  - Could be related to unstarted or unanswered questions\n",
    "\n",
    "Large number of categorical values\n",
    "- item_type_code_name\n",
    "  - Need to transform by reclassifying to reduce number of levels\n",
    "\n",
    "learner_attempt_status\n",
    "- Unary \"fully scored\""
   ],
   "metadata": {
    "collapsed": false
   }
  },
  {
   "cell_type": "code",
   "execution_count": 11,
   "outputs": [],
   "source": [
    "# Create Todo list\n",
    "add_todo('Investigate 3298 null values in response_correctness')\n",
    "add_todo('Investigate 1566 [unassigned] in response_correctness')\n",
    "add_todo('Investigate null values in item_type_code_name')\n",
    "add_todo('Reduce number of levels in item_type_code_name')\n",
    "add_todo('Remove unary learner_attempt_status = \"fully scored\"')"
   ],
   "metadata": {
    "collapsed": false,
    "pycharm": {
     "name": "#%%\n"
    }
   }
  },
  {
   "cell_type": "markdown",
   "source": [
    "###### Correlations Heatmap"
   ],
   "metadata": {
    "collapsed": false
   }
  },
  {
   "cell_type": "code",
   "execution_count": 12,
   "outputs": [
    {
     "data": {
      "text/plain": "<Figure size 432x288 with 2 Axes>",
      "image/png": "[encoded data removed]"
     },
     "metadata": {
      "needs_background": "light"
     },
     "output_type": "display_data"
    }
   ],
   "source": [
    "corr, ax = associations( filterDf.select(*types['nominalVars']).toPandas(), nan_replace_value='null' )"
   ],
   "metadata": {
    "collapsed": false,
    "pycharm": {
     "name": "#%%\n"
    }
   }
  },
  {
   "cell_type": "markdown",
   "source": [
    "- High correlation between item_type_code_name and scoring_type_code\n",
    "- learner_attempt_status a single value ('fully scored)"
   ],
   "metadata": {
    "collapsed": false
   }
  },
  {
   "cell_type": "markdown",
   "source": [
    "###### Display item_type_code_name and scoring_type_code Corelation"
   ],
   "metadata": {
    "collapsed": false
   }
  },
  {
   "cell_type": "code",
   "execution_count": 13,
   "outputs": [
    {
     "data": {
      "text/plain": "scoring_type_code       [unassigned]  automatic  external  manual  Total\nitem_type_code_name                                                     \nFillinBlankResponse                5          0         0       0      5\nMultipleChoiceResponse          1550          0         0       0   1550\nRubricResponse                    11          0         0       0     11\naheAlgo                            0          0       219       0    219\nbucketing                          0       1051         0       0   1051\nchoiceMatrix                       0       1336         0       0   1336\ncloze                              0       3576         0       0   3576\nequationEntry                      0       9516         0       0   9516\nessay                              9          0         0     991   1000\nfileUpload                         0          0         0      49     49\nfillInTheBlank                     0      12072         0       0  12072\ngraphing                           0       2415         0       0   2415\nimageLabel                         0        108         0       0    108\nmatching                           0       1164         0       0   1164\nmultipleChoice                     0      32451         0       0  32451\nmultipleSelect                     0       2691         0       0   2691\nnull                            3264          0         0       0   3264\nnumberLine                         0        455         0       0    455\nselectText                         0       1025         0       0   1025\nshortAnswer                       25          0         0     958    983\nsortable                           0        644         0       0    644\ntrueFalse                          0       4963         0       0   4963\nTotal                           4864      73467       219    1998  80548",
      "text/html": "<div>\n<style scoped>\n    .dataframe tbody tr th:only-of-type {\n        vertical-align: middle;\n    }\n\n    .dataframe tbody tr th {\n        vertical-align: top;\n    }\n\n    .dataframe thead th {\n        text-align: right;\n    }\n</style>\n<table border=\"1\" class=\"dataframe\">\n  <thead>\n    <tr style=\"text-align: right;\">\n      <th>scoring_type_code</th>\n      <th>[unassigned]</th>\n      <th>automatic</th>\n      <th>external</th>\n      <th>manual</th>\n      <th>Total</th>\n    </tr>\n    <tr>\n      <th>item_type_code_name</th>\n      <th></th>\n      <th></th>\n      <th></th>\n      <th></th>\n      <th></th>\n    </tr>\n  </thead>\n  <tbody>\n    <tr>\n      <th>FillinBlankResponse</th>\n      <td>5</td>\n      <td>0</td>\n      <td>0</td>\n      <td>0</td>\n      <td>5</td>\n    </tr>\n    <tr>\n      <th>MultipleChoiceResponse</th>\n      <td>1550</td>\n      <td>0</td>\n      <td>0</td>\n      <td>0</td>\n      <td>1550</td>\n    </tr>\n    <tr>\n      <th>RubricResponse</th>\n      <td>11</td>\n      <td>0</td>\n      <td>0</td>\n      <td>0</td>\n      <td>11</td>\n    </tr>\n    <tr>\n      <th>aheAlgo</th>\n      <td>0</td>\n      <td>0</td>\n      <td>219</td>\n      <td>0</td>\n      <td>219</td>\n    </tr>\n    <tr>\n      <th>bucketing</th>\n      <td>0</td>\n      <td>1051</td>\n      <td>0</td>\n      <td>0</td>\n      <td>1051</td>\n    </tr>\n    <tr>\n      <th>choiceMatrix</th>\n      <td>0</td>\n      <td>1336</td>\n      <td>0</td>\n      <td>0</td>\n      <td>1336</td>\n    </tr>\n    <tr>\n      <th>cloze</th>\n      <td>0</td>\n      <td>3576</td>\n      <td>0</td>\n      <td>0</td>\n      <td>3576</td>\n    </tr>\n    <tr>\n      <th>equationEntry</th>\n      <td>0</td>\n      <td>9516</td>\n      <td>0</td>\n      <td>0</td>\n      <td>9516</td>\n    </tr>\n    <tr>\n      <th>essay</th>\n      <td>9</td>\n      <td>0</td>\n      <td>0</td>\n      <td>991</td>\n      <td>1000</td>\n    </tr>\n    <tr>\n      <th>fileUpload</th>\n      <td>0</td>\n      <td>0</td>\n      <td>0</td>\n      <td>49</td>\n      <td>49</td>\n    </tr>\n    <tr>\n      <th>fillInTheBlank</th>\n      <td>0</td>\n      <td>12072</td>\n      <td>0</td>\n      <td>0</td>\n      <td>12072</td>\n    </tr>\n    <tr>\n      <th>graphing</th>\n      <td>0</td>\n      <td>2415</td>\n      <td>0</td>\n      <td>0</td>\n      <td>2415</td>\n    </tr>\n    <tr>\n      <th>imageLabel</th>\n      <td>0</td>\n      <td>108</td>\n      <td>0</td>\n      <td>0</td>\n      <td>108</td>\n    </tr>\n    <tr>\n      <th>matching</th>\n      <td>0</td>\n      <td>1164</td>\n      <td>0</td>\n      <td>0</td>\n      <td>1164</td>\n    </tr>\n    <tr>\n      <th>multipleChoice</th>\n      <td>0</td>\n      <td>32451</td>\n      <td>0</td>\n      <td>0</td>\n      <td>32451</td>\n    </tr>\n    <tr>\n      <th>multipleSelect</th>\n      <td>0</td>\n      <td>2691</td>\n      <td>0</td>\n      <td>0</td>\n      <td>2691</td>\n    </tr>\n    <tr>\n      <th>null</th>\n      <td>3264</td>\n      <td>0</td>\n      <td>0</td>\n      <td>0</td>\n      <td>3264</td>\n    </tr>\n    <tr>\n      <th>numberLine</th>\n      <td>0</td>\n      <td>455</td>\n      <td>0</td>\n      <td>0</td>\n      <td>455</td>\n    </tr>\n    <tr>\n      <th>selectText</th>\n      <td>0</td>\n      <td>1025</td>\n      <td>0</td>\n      <td>0</td>\n      <td>1025</td>\n    </tr>\n    <tr>\n      <th>shortAnswer</th>\n      <td>25</td>\n      <td>0</td>\n      <td>0</td>\n      <td>958</td>\n      <td>983</td>\n    </tr>\n    <tr>\n      <th>sortable</th>\n      <td>0</td>\n      <td>644</td>\n      <td>0</td>\n      <td>0</td>\n      <td>644</td>\n    </tr>\n    <tr>\n      <th>trueFalse</th>\n      <td>0</td>\n      <td>4963</td>\n      <td>0</td>\n      <td>0</td>\n      <td>4963</td>\n    </tr>\n    <tr>\n      <th>Total</th>\n      <td>4864</td>\n      <td>73467</td>\n      <td>219</td>\n      <td>1998</td>\n      <td>80548</td>\n    </tr>\n  </tbody>\n</table>\n</div>"
     },
     "execution_count": 13,
     "metadata": {},
     "output_type": "execute_result"
    }
   ],
   "source": [
    "def item_to_code():\n",
    "  dfPd = filterDf.select('item_type_code_name','scoring_type_code').toPandas()\n",
    "  return pd.crosstab(dfPd.item_type_code_name.fillna('null'), dfPd.scoring_type_code.fillna('null'), margins=True, margins_name=\"Total\")\n",
    "\n",
    "item_to_code()"
   ],
   "metadata": {
    "collapsed": false,
    "pycharm": {
     "name": "#%%\n"
    }
   }
  },
  {
   "cell_type": "markdown",
   "source": [
    "- item_type_code_name indicates the scoring_type_code\n",
    "  - scoring_type_code = '[unnassigned]' for item_type_code_name is..\n",
    "    - shortAnswer, null, essay (9 times), RubricResponse, MultipleChoiceResponse, FillInBlankResponse\n",
    "  - scoring_type_code = external only for item_type_code_name = aheAlgo\n",
    "  - scoring_type_code = 'manual' for item_type_code_name is..\n",
    "    - essay, fileUpload, shortAnswer\n",
    "  - Consider correlation when reducing number of levels in item_type_code_name\n"
   ],
   "metadata": {
    "collapsed": false
   }
  }
 ],
 "metadata": {
  "kernelspec": {
   "display_name": "Python 3",
   "language": "python",
   "name": "python3"
  },
  "language_info": {
   "codemirror_mode": {
    "name": "ipython",
    "version": 2
   },
   "file_extension": ".py",
   "mimetype": "text/x-python",
   "name": "python",
   "nbconvert_exporter": "python",
   "pygments_lexer": "ipython2",
   "version": "2.7.6"
  }
 },
 "nbformat": 4,
 "nbformat_minor": 0
}