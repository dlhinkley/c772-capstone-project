{
 "cells": [
  {
   "cell_type": "code",
   "execution_count": null,
   "metadata": {
    "collapsed": true
   },
   "outputs": [],
   "source": []
  },
  {
   "cell_type": "markdown",
   "metadata": {
    "collapsed": false
   },
   "source": [
    "##### Categorical / Identifier Variables"
   ]
  },
  {
   "cell_type": "code",
   "execution_count": 1,
   "metadata": {
    "collapsed": false,
    "execution": {
     "iopub.execute_input": "2020-10-28T01:05:37.040308Z",
     "iopub.status.busy": "2020-10-28T01:05:37.038159Z",
     "iopub.status.idle": "2020-10-28T01:05:48.493845Z",
     "shell.execute_reply": "2020-10-28T01:05:48.494683Z"
    },
    "pycharm": {
     "name": "#%%\n"
    }
   },
   "outputs": [
    {
     "name": "stdout",
     "output_type": "stream",
     "text": [
      "dython              0.6.1\n"
     ]
    },
    {
     "name": "stderr",
     "output_type": "stream",
     "text": [
      "WARNING: You are using pip version 20.2.3; however, version 20.2.4 is available.\n",
      "You should consider upgrading via the '/Users/duane.hinkley/PycharmProjects/c772-capstone-project/venv/bin/python -m pip install --upgrade pip' command.\n"
     ]
    },
    {
     "name": "stdout",
     "output_type": "stream",
     "text": [
      "tinydb              4.2.0\n"
     ]
    },
    {
     "name": "stderr",
     "output_type": "stream",
     "text": [
      "WARNING: You are using pip version 20.2.3; however, version 20.2.4 is available.\n",
      "You should consider upgrading via the '/Users/duane.hinkley/PycharmProjects/c772-capstone-project/venv/bin/python -m pip install --upgrade pip' command.\n"
     ]
    }
   ],
   "source": [
    "%run '../lib/libraries.ipynb'"
   ]
  },
  {
   "cell_type": "code",
   "execution_count": 2,
   "metadata": {
    "collapsed": false,
    "execution": {
     "iopub.execute_input": "2020-10-28T01:05:48.500018Z",
     "iopub.status.busy": "2020-10-28T01:05:48.499018Z",
     "iopub.status.idle": "2020-10-28T01:05:55.851171Z",
     "shell.execute_reply": "2020-10-28T01:05:55.851876Z"
    },
    "pycharm": {
     "name": "#%%\n"
    }
   },
   "outputs": [],
   "source": [
    "dfFlt  = load_df('dfFlt')\n",
    "dfDesc = load_df('dfDesc')\n",
    "types = get_var_types()"
   ]
  },
  {
   "cell_type": "code",
   "execution_count": 3,
   "metadata": {
    "collapsed": false,
    "execution": {
     "iopub.execute_input": "2020-10-28T01:05:55.857597Z",
     "iopub.status.busy": "2020-10-28T01:05:55.856370Z",
     "iopub.status.idle": "2020-10-28T01:06:14.266589Z",
     "shell.execute_reply": "2020-10-28T01:06:14.267761Z"
    },
    "pycharm": {
     "name": "#%%\n"
    }
   },
   "outputs": [
    {
     "name": "stdout",
     "output_type": "stream",
     "text": [
      "assessment_id\n",
      "+------+----+\n",
      "|unique|null|\n",
      "+------+----+\n",
      "|   329|   0|\n",
      "+------+----+\n",
      "\n",
      "assessment_instance_attempt_id\n",
      "+------+----+\n",
      "|unique|null|\n",
      "+------+----+\n",
      "|  8483|3264|\n",
      "+------+----+\n",
      "\n",
      "assessment_instance_id\n",
      "+------+----+\n",
      "|unique|null|\n",
      "+------+----+\n",
      "|   615|   0|\n",
      "+------+----+\n",
      "\n",
      "assessment_item_response_id\n",
      "+------+-----+\n",
      "|unique| null|\n",
      "+------+-----+\n",
      "| 64368|15710|\n",
      "+------+-----+\n",
      "\n",
      "learner_assigned_item_attempt_id\n",
      "+------+----+\n",
      "|unique|null|\n",
      "+------+----+\n",
      "| 79689|   0|\n",
      "+------+----+\n",
      "\n",
      "learner_assignment_attempt_id\n",
      "+------+----+\n",
      "|unique|null|\n",
      "+------+----+\n",
      "|  8855|   0|\n",
      "+------+----+\n",
      "\n",
      "learner_id\n",
      "+------+----+\n",
      "|unique|null|\n",
      "+------+----+\n",
      "|  1126|   0|\n",
      "+------+----+\n",
      "\n",
      "org_id\n",
      "+------+----+\n",
      "|unique|null|\n",
      "+------+----+\n",
      "|     3|   0|\n",
      "+------+----+\n",
      "\n",
      "section_id\n",
      "+------+----+\n",
      "|unique|null|\n",
      "+------+----+\n",
      "|    46|   0|\n",
      "+------+----+\n",
      "\n"
     ]
    }
   ],
   "source": [
    "\n",
    "unique_nulls(dfFlt, types['identifierVars'])"
   ]
  },
  {
   "cell_type": "markdown",
   "metadata": {
    "collapsed": false
   },
   "source": [
    "Totals\n",
    "- org_id: 3\n",
    "  - ID per organization\n",
    "- section_id: 46\n",
    "  - ID per section/school\n",
    "- learner_id: 1126\n",
    "  - ID per learner/student\n",
    "- assessment_id: 329\n",
    "  - ID per each assessment/quiz.\n",
    "- assessment_instance_id: 615\n",
    "  - ID of each time a section uses the assessment\n",
    "- assessment_instance_attempt_id: 8483 null: 3264\n",
    "  - ID of each time an assessment is attempted by a student\n",
    "- assessment_item_response_id: 64368 null: 15710\n",
    "  - ID of each response/answer to an assessment question\n",
    "- learner_assignment_attempt_id: 8855\n",
    "  - ID of each learner attempt of an assigned assessment\n",
    "- learner_assigned_item_attempt_id: 79689\n",
    "  - ID of each learner attempt of a item/question on an assigned assessment"
   ]
  },
  {
   "cell_type": "code",
   "execution_count": 4,
   "metadata": {
    "collapsed": false,
    "execution": {
     "iopub.execute_input": "2020-10-28T01:06:14.276074Z",
     "iopub.status.busy": "2020-10-28T01:06:14.274575Z",
     "iopub.status.idle": "2020-10-28T01:06:14.278277Z",
     "shell.execute_reply": "2020-10-28T01:06:14.279387Z"
    },
    "pycharm": {
     "name": "#%%\n"
    }
   },
   "outputs": [],
   "source": [
    "add_todo('Investigate 15710 null assessment_item_response_id')\n"
   ]
  }
 ],
 "metadata": {
  "kernelspec": {
   "display_name": "Python 3",
   "language": "python",
   "name": "python3"
  },
  "language_info": {
   "codemirror_mode": {
    "name": "ipython",
    "version": 3
   },
   "file_extension": ".py",
   "mimetype": "text/x-python",
   "name": "python",
   "nbconvert_exporter": "python",
   "pygments_lexer": "ipython3",
   "version": "3.6.3"
  }
 },
 "nbformat": 4,
 "nbformat_minor": 0
}
