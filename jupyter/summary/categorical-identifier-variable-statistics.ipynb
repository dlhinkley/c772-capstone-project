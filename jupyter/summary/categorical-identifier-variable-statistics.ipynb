{
 "cells": [
  {
   "cell_type": "markdown",
   "source": [
    "### Categorical / Identifier Variables"
   ],
   "metadata": {
    "collapsed": false
   }
  },
  {
   "cell_type": "code",
   "execution_count": 1,
   "outputs": [],
   "source": [
    "%%capture\n",
    "\n",
    "%run '../lib/libraries.ipynb'"
   ],
   "metadata": {
    "collapsed": false,
    "pycharm": {
     "name": "#%%\n"
    }
   }
  },
  {
   "cell_type": "code",
   "execution_count": 2,
   "outputs": [],
   "source": [
    "filterDf  = load_df('filterDf')\n",
    "descDf = load_df('descDf')\n",
    "types = get_var_types()"
   ],
   "metadata": {
    "collapsed": false,
    "pycharm": {
     "name": "#%%\n"
    }
   }
  },
  {
   "cell_type": "markdown",
   "source": [
    "#### Variable List"
   ],
   "metadata": {
    "collapsed": false
   }
  },
  {
   "cell_type": "code",
   "execution_count": 3,
   "outputs": [
    {
     "data": {
      "text/plain": "                  category                          variable\n0           Assessment (a)                     assessment_id\n1           Assessment (a)            assessment_instance_id\n2  Assignment Attempt (aa)    assessment_instance_attempt_id\n3  Assignment Attempt (aa)     learner_assignment_attempt_id\n4        Item Attempt (ia)       assessment_item_response_id\n5        Item Attempt (ia)  learner_assigned_item_attempt_id\n6              Learner (l)                        learner_id\n7         Organization (o)                            org_id\n8              Section (s)                        section_id",
      "text/html": "<div>\n<style scoped>\n    .dataframe tbody tr th:only-of-type {\n        vertical-align: middle;\n    }\n\n    .dataframe tbody tr th {\n        vertical-align: top;\n    }\n\n    .dataframe thead th {\n        text-align: right;\n    }\n</style>\n<table border=\"1\" class=\"dataframe\">\n  <thead>\n    <tr style=\"text-align: right;\">\n      <th></th>\n      <th>category</th>\n      <th>variable</th>\n    </tr>\n  </thead>\n  <tbody>\n    <tr>\n      <th>0</th>\n      <td>Assessment (a)</td>\n      <td>assessment_id</td>\n    </tr>\n    <tr>\n      <th>1</th>\n      <td>Assessment (a)</td>\n      <td>assessment_instance_id</td>\n    </tr>\n    <tr>\n      <th>2</th>\n      <td>Assignment Attempt (aa)</td>\n      <td>assessment_instance_attempt_id</td>\n    </tr>\n    <tr>\n      <th>3</th>\n      <td>Assignment Attempt (aa)</td>\n      <td>learner_assignment_attempt_id</td>\n    </tr>\n    <tr>\n      <th>4</th>\n      <td>Item Attempt (ia)</td>\n      <td>assessment_item_response_id</td>\n    </tr>\n    <tr>\n      <th>5</th>\n      <td>Item Attempt (ia)</td>\n      <td>learner_assigned_item_attempt_id</td>\n    </tr>\n    <tr>\n      <th>6</th>\n      <td>Learner (l)</td>\n      <td>learner_id</td>\n    </tr>\n    <tr>\n      <th>7</th>\n      <td>Organization (o)</td>\n      <td>org_id</td>\n    </tr>\n    <tr>\n      <th>8</th>\n      <td>Section (s)</td>\n      <td>section_id</td>\n    </tr>\n  </tbody>\n</table>\n</div>"
     },
     "execution_count": 3,
     "metadata": {},
     "output_type": "execute_result"
    }
   ],
   "source": [
    "variable_types(descDf, 'Categorical Identifier')"
   ],
   "metadata": {
    "collapsed": false,
    "pycharm": {
     "name": "#%%\n"
    }
   }
  },
  {
   "cell_type": "markdown",
   "source": [
    "#### Counts"
   ],
   "metadata": {
    "collapsed": false,
    "pycharm": {
     "name": "#%% md\n"
    }
   }
  },
  {
   "cell_type": "code",
   "execution_count": 4,
   "outputs": [
    {
     "data": {
      "text/plain": "                                  null  unique\nassessment_id                        0     312\nassessment_instance_attempt_id       0    6941\nassessment_instance_id               0     587\nassessment_item_response_id          0   64368\nlearner_assigned_item_attempt_id     0   64379\nlearner_assignment_attempt_id        0    6944\nlearner_id                           0     959\norg_id                               0       3\nsection_id                           0      46",
      "text/html": "<div>\n<style scoped>\n    .dataframe tbody tr th:only-of-type {\n        vertical-align: middle;\n    }\n\n    .dataframe tbody tr th {\n        vertical-align: top;\n    }\n\n    .dataframe thead th {\n        text-align: right;\n    }\n</style>\n<table border=\"1\" class=\"dataframe\">\n  <thead>\n    <tr style=\"text-align: right;\">\n      <th></th>\n      <th>null</th>\n      <th>unique</th>\n    </tr>\n  </thead>\n  <tbody>\n    <tr>\n      <th>assessment_id</th>\n      <td>0</td>\n      <td>312</td>\n    </tr>\n    <tr>\n      <th>assessment_instance_attempt_id</th>\n      <td>0</td>\n      <td>6941</td>\n    </tr>\n    <tr>\n      <th>assessment_instance_id</th>\n      <td>0</td>\n      <td>587</td>\n    </tr>\n    <tr>\n      <th>assessment_item_response_id</th>\n      <td>0</td>\n      <td>64368</td>\n    </tr>\n    <tr>\n      <th>learner_assigned_item_attempt_id</th>\n      <td>0</td>\n      <td>64379</td>\n    </tr>\n    <tr>\n      <th>learner_assignment_attempt_id</th>\n      <td>0</td>\n      <td>6944</td>\n    </tr>\n    <tr>\n      <th>learner_id</th>\n      <td>0</td>\n      <td>959</td>\n    </tr>\n    <tr>\n      <th>org_id</th>\n      <td>0</td>\n      <td>3</td>\n    </tr>\n    <tr>\n      <th>section_id</th>\n      <td>0</td>\n      <td>46</td>\n    </tr>\n  </tbody>\n</table>\n</div>"
     },
     "execution_count": 4,
     "metadata": {},
     "output_type": "execute_result"
    }
   ],
   "source": [
    "unique_nulls(filterDf, types['identifierVars'])"
   ],
   "metadata": {
    "collapsed": false,
    "pycharm": {
     "name": "#%%\n"
    }
   }
  },
  {
   "cell_type": "markdown",
   "source": [
    "- no nulls"
   ],
   "metadata": {
    "collapsed": false,
    "pycharm": {
     "name": "#%% md\n"
    }
   }
  }
 ],
 "metadata": {
  "kernelspec": {
   "display_name": "Python 3",
   "language": "python",
   "name": "python3"
  },
  "language_info": {
   "codemirror_mode": {
    "name": "ipython",
    "version": 2
   },
   "file_extension": ".py",
   "mimetype": "text/x-python",
   "name": "python",
   "nbconvert_exporter": "python",
   "pygments_lexer": "ipython2",
   "version": "2.7.6"
  }
 },
 "nbformat": 4,
 "nbformat_minor": 0
}