{
 "cells": [
  {
   "cell_type": "markdown",
   "metadata": {},
   "source": [
    "### Display Sample Data"
   ]
  },
  {
   "cell_type": "code",
   "execution_count": 1,
   "metadata": {
    "pycharm": {
     "name": "#%%\n"
    }
   },
   "outputs": [
    {
     "name": "stdout",
     "output_type": "stream",
     "text": [
      "dython              0.6.1\n",
      "tinydb              4.2.0\n"
     ]
    },
    {
     "name": "stderr",
     "output_type": "stream",
     "text": [
      "WARNING: You are using pip version 20.2.3; however, version 20.2.4 is available.\n",
      "You should consider upgrading via the '/Users/duane.hinkley/PycharmProjects/c772-capstone-project/venv/bin/python -m pip install --upgrade pip' command.\n",
      "WARNING: You are using pip version 20.2.3; however, version 20.2.4 is available.\n",
      "You should consider upgrading via the '/Users/duane.hinkley/PycharmProjects/c772-capstone-project/venv/bin/python -m pip install --upgrade pip' command.\n"
     ]
    }
   ],
   "source": [
    "%run '../lib/libraries.ipynb'"
   ]
  },
  {
   "cell_type": "code",
   "execution_count": 2,
   "metadata": {
    "pycharm": {
     "name": "#%%\n"
    }
   },
   "outputs": [],
   "source": [
    "dfFlt = load_df('dfFlt')\n",
    "cats = get_var_cats()"
   ]
  },
  {
   "cell_type": "markdown",
   "metadata": {
    "pycharm": {
     "name": "#%% md\n"
    }
   },
   "source": [
    "#### Display Sample Data"
   ]
  },
  {
   "cell_type": "code",
   "execution_count": 17,
   "metadata": {
    "pycharm": {
     "name": "#%%\n"
    }
   },
   "outputs": [
    {
     "data": {
      "text/plain": "   org_id\n0  117713\n1  130845\n2   19164",
      "text/html": "<div>\n<style scoped>\n    .dataframe tbody tr th:only-of-type {\n        vertical-align: middle;\n    }\n\n    .dataframe tbody tr th {\n        vertical-align: top;\n    }\n\n    .dataframe thead th {\n        text-align: right;\n    }\n</style>\n<table border=\"1\" class=\"dataframe\">\n  <thead>\n    <tr style=\"text-align: right;\">\n      <th></th>\n      <th>org_id</th>\n    </tr>\n  </thead>\n  <tbody>\n    <tr>\n      <th>0</th>\n      <td>117713</td>\n    </tr>\n    <tr>\n      <th>1</th>\n      <td>130845</td>\n    </tr>\n    <tr>\n      <th>2</th>\n      <td>19164</td>\n    </tr>\n  </tbody>\n</table>\n</div>"
     },
     "execution_count": 17,
     "metadata": {},
     "output_type": "execute_result"
    }
   ],
   "source": [
    "dfFlt.select(*cats['orgVars']).distinct().toPandas()"
   ]
  },
  {
   "cell_type": "markdown",
   "metadata": {},
   "source": [
    "- 3 organizations"
   ]
  },
  {
   "cell_type": "code",
   "execution_count": 20,
   "metadata": {
    "pycharm": {
     "name": "#%%\n"
    }
   },
   "outputs": [
    {
     "data": {
      "text/plain": "    section_id\n0       151413\n1       190290\n2       171183\n3       157833\n4       190142\n5       189069\n6       156185\n7       172320\n8       156942\n9       165855\n10      189587\n11      168233\n12      180635\n13      154760\n14      182278\n15      171796\n16      177931\n17      159774",
      "text/html": "<div>\n<style scoped>\n    .dataframe tbody tr th:only-of-type {\n        vertical-align: middle;\n    }\n\n    .dataframe tbody tr th {\n        vertical-align: top;\n    }\n\n    .dataframe thead th {\n        text-align: right;\n    }\n</style>\n<table border=\"1\" class=\"dataframe\">\n  <thead>\n    <tr style=\"text-align: right;\">\n      <th></th>\n      <th>section_id</th>\n    </tr>\n  </thead>\n  <tbody>\n    <tr>\n      <th>0</th>\n      <td>151413</td>\n    </tr>\n    <tr>\n      <th>1</th>\n      <td>190290</td>\n    </tr>\n    <tr>\n      <th>2</th>\n      <td>171183</td>\n    </tr>\n    <tr>\n      <th>3</th>\n      <td>157833</td>\n    </tr>\n    <tr>\n      <th>4</th>\n      <td>190142</td>\n    </tr>\n    <tr>\n      <th>5</th>\n      <td>189069</td>\n    </tr>\n    <tr>\n      <th>6</th>\n      <td>156185</td>\n    </tr>\n    <tr>\n      <th>7</th>\n      <td>172320</td>\n    </tr>\n    <tr>\n      <th>8</th>\n      <td>156942</td>\n    </tr>\n    <tr>\n      <th>9</th>\n      <td>165855</td>\n    </tr>\n    <tr>\n      <th>10</th>\n      <td>189587</td>\n    </tr>\n    <tr>\n      <th>11</th>\n      <td>168233</td>\n    </tr>\n    <tr>\n      <th>12</th>\n      <td>180635</td>\n    </tr>\n    <tr>\n      <th>13</th>\n      <td>154760</td>\n    </tr>\n    <tr>\n      <th>14</th>\n      <td>182278</td>\n    </tr>\n    <tr>\n      <th>15</th>\n      <td>171796</td>\n    </tr>\n    <tr>\n      <th>16</th>\n      <td>177931</td>\n    </tr>\n    <tr>\n      <th>17</th>\n      <td>159774</td>\n    </tr>\n  </tbody>\n</table>\n</div>"
     },
     "execution_count": 20,
     "metadata": {},
     "output_type": "execute_result"
    }
   ],
   "source": [
    "dfFlt.filter( F.col('org_id') == 19164).select(*cats['sectionVars']).distinct().toPandas()"
   ]
  },
  {
   "cell_type": "markdown",
   "metadata": {},
   "source": [
    "- 18 sections in organization 19164"
   ]
  },
  {
   "cell_type": "code",
   "execution_count": 26,
   "metadata": {
    "pycharm": {
     "name": "#%%\n"
    }
   },
   "outputs": [
    {
     "data": {
      "text/plain": "    learner_id\n0       965111\n1      1002217\n2       967083\n3       950185\n4      1031739\n5       925271\n6      1023242\n7       917841\n8       974861\n9      1001748\n10     1029053\n11     1039336\n12      942005\n13      985440\n14      933880\n15      972118\n16     1007205\n17     1024717\n18      999101\n19     1019159\n20      972699\n21      901700\n22     1001567\n23      915319\n24      929966",
      "text/html": "<div>\n<style scoped>\n    .dataframe tbody tr th:only-of-type {\n        vertical-align: middle;\n    }\n\n    .dataframe tbody tr th {\n        vertical-align: top;\n    }\n\n    .dataframe thead th {\n        text-align: right;\n    }\n</style>\n<table border=\"1\" class=\"dataframe\">\n  <thead>\n    <tr style=\"text-align: right;\">\n      <th></th>\n      <th>learner_id</th>\n    </tr>\n  </thead>\n  <tbody>\n    <tr>\n      <th>0</th>\n      <td>965111</td>\n    </tr>\n    <tr>\n      <th>1</th>\n      <td>1002217</td>\n    </tr>\n    <tr>\n      <th>2</th>\n      <td>967083</td>\n    </tr>\n    <tr>\n      <th>3</th>\n      <td>950185</td>\n    </tr>\n    <tr>\n      <th>4</th>\n      <td>1031739</td>\n    </tr>\n    <tr>\n      <th>5</th>\n      <td>925271</td>\n    </tr>\n    <tr>\n      <th>6</th>\n      <td>1023242</td>\n    </tr>\n    <tr>\n      <th>7</th>\n      <td>917841</td>\n    </tr>\n    <tr>\n      <th>8</th>\n      <td>974861</td>\n    </tr>\n    <tr>\n      <th>9</th>\n      <td>1001748</td>\n    </tr>\n    <tr>\n      <th>10</th>\n      <td>1029053</td>\n    </tr>\n    <tr>\n      <th>11</th>\n      <td>1039336</td>\n    </tr>\n    <tr>\n      <th>12</th>\n      <td>942005</td>\n    </tr>\n    <tr>\n      <th>13</th>\n      <td>985440</td>\n    </tr>\n    <tr>\n      <th>14</th>\n      <td>933880</td>\n    </tr>\n    <tr>\n      <th>15</th>\n      <td>972118</td>\n    </tr>\n    <tr>\n      <th>16</th>\n      <td>1007205</td>\n    </tr>\n    <tr>\n      <th>17</th>\n      <td>1024717</td>\n    </tr>\n    <tr>\n      <th>18</th>\n      <td>999101</td>\n    </tr>\n    <tr>\n      <th>19</th>\n      <td>1019159</td>\n    </tr>\n    <tr>\n      <th>20</th>\n      <td>972699</td>\n    </tr>\n    <tr>\n      <th>21</th>\n      <td>901700</td>\n    </tr>\n    <tr>\n      <th>22</th>\n      <td>1001567</td>\n    </tr>\n    <tr>\n      <th>23</th>\n      <td>915319</td>\n    </tr>\n    <tr>\n      <th>24</th>\n      <td>929966</td>\n    </tr>\n  </tbody>\n</table>\n</div>"
     },
     "execution_count": 26,
     "metadata": {},
     "output_type": "execute_result"
    }
   ],
   "source": [
    "dfFlt.filter( F.col('section_id') == 168233).select(*cats['learnerVars']).distinct().toPandas()"
   ]
  },
  {
   "cell_type": "markdown",
   "metadata": {},
   "source": [
    "- 25 learners in section 168233"
   ]
  },
  {
   "cell_type": "code",
   "execution_count": 27,
   "metadata": {
    "pycharm": {
     "name": "#%%\n"
    },
    "scrolled": true
   },
   "outputs": [
    {
     "data": {
      "text/plain": "   assessment_id  assessment_instance_id\n0         318077                  482141\n1         319406                  469908\n2         321665                  451549\n3         306799                  456508\n4         318077                  468545\n5         320202                  470094\n6         334726                  484743\n7         307990                  454039",
      "text/html": "<div>\n<style scoped>\n    .dataframe tbody tr th:only-of-type {\n        vertical-align: middle;\n    }\n\n    .dataframe tbody tr th {\n        vertical-align: top;\n    }\n\n    .dataframe thead th {\n        text-align: right;\n    }\n</style>\n<table border=\"1\" class=\"dataframe\">\n  <thead>\n    <tr style=\"text-align: right;\">\n      <th></th>\n      <th>assessment_id</th>\n      <th>assessment_instance_id</th>\n    </tr>\n  </thead>\n  <tbody>\n    <tr>\n      <th>0</th>\n      <td>318077</td>\n      <td>482141</td>\n    </tr>\n    <tr>\n      <th>1</th>\n      <td>319406</td>\n      <td>469908</td>\n    </tr>\n    <tr>\n      <th>2</th>\n      <td>321665</td>\n      <td>451549</td>\n    </tr>\n    <tr>\n      <th>3</th>\n      <td>306799</td>\n      <td>456508</td>\n    </tr>\n    <tr>\n      <th>4</th>\n      <td>318077</td>\n      <td>468545</td>\n    </tr>\n    <tr>\n      <th>5</th>\n      <td>320202</td>\n      <td>470094</td>\n    </tr>\n    <tr>\n      <th>6</th>\n      <td>334726</td>\n      <td>484743</td>\n    </tr>\n    <tr>\n      <th>7</th>\n      <td>307990</td>\n      <td>454039</td>\n    </tr>\n  </tbody>\n</table>\n</div>"
     },
     "execution_count": 27,
     "metadata": {},
     "output_type": "execute_result"
    }
   ],
   "source": [
    "dfFlt.filter( F.col('section_id') == 168233).select(*cats['assessmentVars']).distinct().toPandas()"
   ]
  },
  {
   "cell_type": "markdown",
   "metadata": {},
   "source": [
    "- 8 assessments in section 168233\n",
    "- one instance per assessment per section"
   ]
  },
  {
   "cell_type": "markdown",
   "metadata": {},
   "source": [
    "###### Display Assignments for Section 498941"
   ]
  },
  {
   "cell_type": "code",
   "execution_count": 28,
   "metadata": {
    "pycharm": {
     "name": "#%%\n"
    }
   },
   "outputs": [
    {
     "data": {
      "text/plain": "   assessment_id  assessment_instance_id assignment_due_date  \\\n0         307990                  454039 2019-10-26 04:59:00   \n1         319406                  469908 2019-11-09 05:59:00   \n2         334726                  484743 2019-12-15 05:59:00   \n3         306799                  456508 2020-01-18 05:59:00   \n4         320202                  470094 2020-01-23 05:59:00   \n5         318077                  468545 2020-02-28 21:00:00   \n6         318077                  482141 2020-02-29 05:59:00   \n7         321665                  451549 2020-03-11 04:59:00   \n\n  assignment_final_submission_date  assignment_late_submission  \\\n0              2019-10-26 04:59:00                       False   \n1              2019-11-09 05:59:00                       False   \n2              2019-12-15 05:59:00                       False   \n3              2020-01-18 05:59:00                       False   \n4              2020-01-23 05:59:00                       False   \n5              2020-02-28 21:00:00                       False   \n6              2020-02-29 05:59:00                       False   \n7              2020-03-11 04:59:00                       False   \n\n   assignment_max_attempts assignment_start_date ced_assignment_type_code  \\\n0                        1   2019-10-24 05:00:00               assessment   \n1                        1   2019-10-29 05:00:00               assessment   \n2                        1   2019-12-11 06:00:00               assessment   \n3                        1   2020-01-10 06:00:00               assessment   \n4                        1   2019-12-12 06:00:00               assessment   \n5                        1   2020-02-26 06:00:00               assessment   \n6                        1   2020-02-27 06:00:00               assessment   \n7                        1   2020-03-09 05:00:00               assessment   \n\n   is_affecting_grade max_student_stop_datetime min_student_start_datetime  \\\n0                True   2019-10-25 20:08:20.472    2019-10-25 18:54:07.661   \n1                True   2019-11-04 21:25:08.370    2019-10-31 19:23:20.802   \n2                True   2019-12-15 06:01:08.706    2019-12-12 20:57:21.777   \n3                True   2020-01-17 19:39:37.415    2020-01-10 20:22:47.150   \n4                True   2020-01-17 19:27:50.274    2020-01-08 20:18:10.320   \n5                True   2020-02-28 21:00:06.870    2020-02-26 20:12:54.385   \n6                True   2020-02-29 06:00:06.925    2020-02-27 20:31:07.210   \n7                True   2020-03-11 05:00:10.856    2020-03-09 19:12:23.609   \n\n   number_of_distinct_instance_items  number_of_learners  \n0                                  4                  25  \n1                                 21                  25  \n2                                 19                  25  \n3                                 21                  25  \n4                                  6                  25  \n5                                 41                  25  \n6                                 41                   1  \n7                                 20                  25  ",
      "text/html": "<div>\n<style scoped>\n    .dataframe tbody tr th:only-of-type {\n        vertical-align: middle;\n    }\n\n    .dataframe tbody tr th {\n        vertical-align: top;\n    }\n\n    .dataframe thead th {\n        text-align: right;\n    }\n</style>\n<table border=\"1\" class=\"dataframe\">\n  <thead>\n    <tr style=\"text-align: right;\">\n      <th></th>\n      <th>assessment_id</th>\n      <th>assessment_instance_id</th>\n      <th>assignment_due_date</th>\n      <th>assignment_final_submission_date</th>\n      <th>assignment_late_submission</th>\n      <th>assignment_max_attempts</th>\n      <th>assignment_start_date</th>\n      <th>ced_assignment_type_code</th>\n      <th>is_affecting_grade</th>\n      <th>max_student_stop_datetime</th>\n      <th>min_student_start_datetime</th>\n      <th>number_of_distinct_instance_items</th>\n      <th>number_of_learners</th>\n    </tr>\n  </thead>\n  <tbody>\n    <tr>\n      <th>0</th>\n      <td>307990</td>\n      <td>454039</td>\n      <td>2019-10-26 04:59:00</td>\n      <td>2019-10-26 04:59:00</td>\n      <td>False</td>\n      <td>1</td>\n      <td>2019-10-24 05:00:00</td>\n      <td>assessment</td>\n      <td>True</td>\n      <td>2019-10-25 20:08:20.472</td>\n      <td>2019-10-25 18:54:07.661</td>\n      <td>4</td>\n      <td>25</td>\n    </tr>\n    <tr>\n      <th>1</th>\n      <td>319406</td>\n      <td>469908</td>\n      <td>2019-11-09 05:59:00</td>\n      <td>2019-11-09 05:59:00</td>\n      <td>False</td>\n      <td>1</td>\n      <td>2019-10-29 05:00:00</td>\n      <td>assessment</td>\n      <td>True</td>\n      <td>2019-11-04 21:25:08.370</td>\n      <td>2019-10-31 19:23:20.802</td>\n      <td>21</td>\n      <td>25</td>\n    </tr>\n    <tr>\n      <th>2</th>\n      <td>334726</td>\n      <td>484743</td>\n      <td>2019-12-15 05:59:00</td>\n      <td>2019-12-15 05:59:00</td>\n      <td>False</td>\n      <td>1</td>\n      <td>2019-12-11 06:00:00</td>\n      <td>assessment</td>\n      <td>True</td>\n      <td>2019-12-15 06:01:08.706</td>\n      <td>2019-12-12 20:57:21.777</td>\n      <td>19</td>\n      <td>25</td>\n    </tr>\n    <tr>\n      <th>3</th>\n      <td>306799</td>\n      <td>456508</td>\n      <td>2020-01-18 05:59:00</td>\n      <td>2020-01-18 05:59:00</td>\n      <td>False</td>\n      <td>1</td>\n      <td>2020-01-10 06:00:00</td>\n      <td>assessment</td>\n      <td>True</td>\n      <td>2020-01-17 19:39:37.415</td>\n      <td>2020-01-10 20:22:47.150</td>\n      <td>21</td>\n      <td>25</td>\n    </tr>\n    <tr>\n      <th>4</th>\n      <td>320202</td>\n      <td>470094</td>\n      <td>2020-01-23 05:59:00</td>\n      <td>2020-01-23 05:59:00</td>\n      <td>False</td>\n      <td>1</td>\n      <td>2019-12-12 06:00:00</td>\n      <td>assessment</td>\n      <td>True</td>\n      <td>2020-01-17 19:27:50.274</td>\n      <td>2020-01-08 20:18:10.320</td>\n      <td>6</td>\n      <td>25</td>\n    </tr>\n    <tr>\n      <th>5</th>\n      <td>318077</td>\n      <td>468545</td>\n      <td>2020-02-28 21:00:00</td>\n      <td>2020-02-28 21:00:00</td>\n      <td>False</td>\n      <td>1</td>\n      <td>2020-02-26 06:00:00</td>\n      <td>assessment</td>\n      <td>True</td>\n      <td>2020-02-28 21:00:06.870</td>\n      <td>2020-02-26 20:12:54.385</td>\n      <td>41</td>\n      <td>25</td>\n    </tr>\n    <tr>\n      <th>6</th>\n      <td>318077</td>\n      <td>482141</td>\n      <td>2020-02-29 05:59:00</td>\n      <td>2020-02-29 05:59:00</td>\n      <td>False</td>\n      <td>1</td>\n      <td>2020-02-27 06:00:00</td>\n      <td>assessment</td>\n      <td>True</td>\n      <td>2020-02-29 06:00:06.925</td>\n      <td>2020-02-27 20:31:07.210</td>\n      <td>41</td>\n      <td>1</td>\n    </tr>\n    <tr>\n      <th>7</th>\n      <td>321665</td>\n      <td>451549</td>\n      <td>2020-03-11 04:59:00</td>\n      <td>2020-03-11 04:59:00</td>\n      <td>False</td>\n      <td>1</td>\n      <td>2020-03-09 05:00:00</td>\n      <td>assessment</td>\n      <td>True</td>\n      <td>2020-03-11 05:00:10.856</td>\n      <td>2020-03-09 19:12:23.609</td>\n      <td>20</td>\n      <td>25</td>\n    </tr>\n  </tbody>\n</table>\n</div>"
     },
     "execution_count": 28,
     "metadata": {},
     "output_type": "execute_result"
    }
   ],
   "source": [
    "dfFlt.filter( F.col('section_id') == 168233).select('assessment_id','assessment_instance_id', *cats['assignmentVars']).distinct().orderBy('assignment_due_date').toPandas()"
   ]
  },
  {
   "cell_type": "markdown",
   "metadata": {},
   "source": [
    "- 8 assignments (one for each assessment) in section 168233"
   ]
  },
  {
   "cell_type": "markdown",
   "metadata": {},
   "source": [
    "###### Display Assignment Items for Assessment 306799 of Section 168233"
   ]
  },
  {
   "cell_type": "code",
   "execution_count": 29,
   "metadata": {
    "pycharm": {
     "name": "#%%\n"
    }
   },
   "outputs": [
    {
     "data": {
      "text/plain": "   item_is_offline_scored item_type_code_name scoring_type_code\n0                   False               essay            manual\n1                   False         shortAnswer            manual\n2                   False      multipleChoice         automatic\n3                   False            matching         automatic\n4                   False           trueFalse         automatic",
      "text/html": "<div>\n<style scoped>\n    .dataframe tbody tr th:only-of-type {\n        vertical-align: middle;\n    }\n\n    .dataframe tbody tr th {\n        vertical-align: top;\n    }\n\n    .dataframe thead th {\n        text-align: right;\n    }\n</style>\n<table border=\"1\" class=\"dataframe\">\n  <thead>\n    <tr style=\"text-align: right;\">\n      <th></th>\n      <th>item_is_offline_scored</th>\n      <th>item_type_code_name</th>\n      <th>scoring_type_code</th>\n    </tr>\n  </thead>\n  <tbody>\n    <tr>\n      <th>0</th>\n      <td>False</td>\n      <td>essay</td>\n      <td>manual</td>\n    </tr>\n    <tr>\n      <th>1</th>\n      <td>False</td>\n      <td>shortAnswer</td>\n      <td>manual</td>\n    </tr>\n    <tr>\n      <th>2</th>\n      <td>False</td>\n      <td>multipleChoice</td>\n      <td>automatic</td>\n    </tr>\n    <tr>\n      <th>3</th>\n      <td>False</td>\n      <td>matching</td>\n      <td>automatic</td>\n    </tr>\n    <tr>\n      <th>4</th>\n      <td>False</td>\n      <td>trueFalse</td>\n      <td>automatic</td>\n    </tr>\n  </tbody>\n</table>\n</div>"
     },
     "execution_count": 29,
     "metadata": {},
     "output_type": "execute_result"
    }
   ],
   "source": [
    "dfFlt.filter( F.col('assessment_id') == 306799).select(*cats['itemVars']).distinct().toPandas()"
   ]
  },
  {
   "cell_type": "markdown",
   "metadata": {},
   "source": [
    "- 5 items in assessment 306799\n",
    "- 1 item essay is one manual scored\n",
    "- 1 item short answer is manual scored\n",
    "- 1 item matching is automatic scored\n",
    "- 1 item (true/false) is automatic scored"
   ]
  },
  {
   "cell_type": "markdown",
   "source": [
    "###### Display Assignment Attempts for Assessment 306799"
   ],
   "metadata": {
    "collapsed": false,
    "pycharm": {
     "name": "#%% md\n"
    }
   }
  },
  {
   "cell_type": "code",
   "execution_count": 30,
   "outputs": [
    {
     "data": {
      "text/plain": "    learner_assignment_attempt_id  assessment_instance_attempt_id  \\\n0                          606844                          773755   \n1                          606539                          855007   \n2                          606501                          776436   \n3                          606962                          837246   \n4                          606869                          816577   \n5                          606912                          788355   \n6                          606968                          851655   \n7                          606940                          888189   \n8                          606926                          762772   \n9                          606711                          871376   \n10                         606822                          883967   \n11                         606519                          856034   \n12                         606552                          796361   \n13                         606696                          786876   \n14                         606979                          804437   \n15                         606814                          784977   \n16                         606747                          775892   \n17                         606776                          884438   \n18                         606469                          885870   \n19                         606660                          870868   \n20                         606596                          840383   \n\n    assignment_attempt_number  final_score_unweighted  is_force_scored  \\\n0                           1                      28            False   \n1                           1                      40            False   \n2                           1                      44            False   \n3                           1                      41            False   \n4                           1                      44            False   \n5                           1                      37            False   \n6                           1                      39            False   \n7                           1                      37            False   \n8                           1                      49            False   \n9                           1                      50            False   \n10                          1                      34            False   \n11                          1                      48            False   \n12                          1                      43            False   \n13                          1                      24            False   \n14                          1                      33            False   \n15                          1                      39            False   \n16                          1                      44            False   \n17                          1                      24            False   \n18                          1                      36            False   \n19                          1                      18            False   \n20                          1                      49            False   \n\n    is_manual_scoring_required  learner_assignment_attempt_id  \\\n0                        False                         606844   \n1                        False                         606539   \n2                        False                         606501   \n3                        False                         606962   \n4                        False                         606869   \n5                        False                         606912   \n6                        False                         606968   \n7                        False                         606940   \n8                        False                         606926   \n9                        False                         606711   \n10                       False                         606822   \n11                       False                         606519   \n12                       False                         606552   \n13                       False                         606696   \n14                       False                         606979   \n15                       False                         606814   \n16                       False                         606747   \n17                       False                         606776   \n18                       False                         606469   \n19                       False                         606660   \n20                       False                         606596   \n\n   learner_attempt_status  points_possible_unweighted     scored_datetime  \\\n0            fully scored                        50.0 2020-01-14 06:51:36   \n1            fully scored                        50.0 2020-01-14 07:11:57   \n2            fully scored                        50.0 2020-01-14 07:13:18   \n3            fully scored                        50.0 2020-01-14 06:53:56   \n4            fully scored                        50.0 2020-01-15 06:09:26   \n5            fully scored                        50.0 2020-01-14 07:02:09   \n6            fully scored                        50.0 2020-01-10 13:06:52   \n7            fully scored                        50.0 2020-01-14 07:04:08   \n8            fully scored                        50.0 2020-01-10 12:58:30   \n9            fully scored                        50.0 2020-01-14 07:00:26   \n10           fully scored                        50.0 2020-01-14 06:55:58   \n11           fully scored                        50.0 2020-01-14 06:49:11   \n12           fully scored                        50.0 2020-01-15 06:29:04   \n13           fully scored                        50.0 2020-01-21 05:42:13   \n14           fully scored                        50.0 2020-01-14 07:07:54   \n15           fully scored                        50.0 2020-01-10 12:45:42   \n16           fully scored                        50.0 2020-01-15 06:25:05   \n17           fully scored                        50.0 2020-01-14 07:06:18   \n18           fully scored                        50.0 2020-01-16 11:17:45   \n19           fully scored                        50.0 2020-01-14 06:47:30   \n20           fully scored                        50.0 2020-01-14 07:10:44   \n\n    student_start_datetime   student_stop_datetime was_fully_scored_datetime  \\\n0  2020-01-10 20:24:44.384 2020-01-10 21:02:37.319   2020-01-14 14:51:36.000   \n1  2020-01-10 20:27:02.311 2020-01-10 21:05:56.575   2020-01-14 15:11:57.000   \n2  2020-01-10 20:23:30.966 2020-01-10 20:49:07.186   2020-01-14 15:13:18.000   \n3  2020-01-10 20:26:15.224 2020-01-10 21:16:18.171   2020-01-14 14:53:56.659   \n4  2020-01-10 20:22:47.150 2020-01-15 14:09:26.490   2020-01-15 14:09:26.413   \n5  2020-01-10 20:37:07.892 2020-01-10 21:07:17.453   2020-01-14 15:02:09.796   \n6  2020-01-10 20:22:59.815 2020-01-10 20:54:58.720   2020-01-10 21:06:53.260   \n7  2020-01-10 20:23:31.968 2020-01-10 20:55:55.849   2020-01-14 15:04:08.000   \n8  2020-01-10 20:23:03.429 2020-01-10 20:53:53.736   2020-01-10 20:58:30.000   \n9  2020-01-10 20:24:17.036 2020-01-10 21:08:16.067   2020-01-14 15:00:26.915   \n10 2020-01-10 20:24:29.103 2020-01-10 21:04:58.110   2020-01-14 14:55:58.000   \n11 2020-01-10 20:24:53.174 2020-01-10 21:13:32.703   2020-01-14 14:49:12.282   \n12 2020-01-15 14:06:31.264 2020-01-15 14:22:21.848   2020-01-15 14:29:04.000   \n13 2020-01-17 19:28:35.578 2020-01-17 19:39:37.415   2020-01-21 13:42:13.488   \n14 2020-01-10 20:25:08.396 2020-01-10 21:14:56.737   2020-01-14 15:07:54.000   \n15 2020-01-10 20:23:23.124 2020-01-10 20:41:48.618   2020-01-10 20:45:42.000   \n16 2020-01-10 20:25:00.404 2020-01-15 14:23:30.835   2020-01-15 14:25:05.415   \n17 2020-01-10 20:24:41.704 2020-01-10 21:12:04.370   2020-01-14 15:06:19.066   \n18 2020-01-10 20:34:48.974 2020-01-15 15:01:08.865   2020-01-16 19:17:45.000   \n19 2020-01-10 20:24:20.917 2020-01-10 20:56:16.703   2020-01-14 14:47:30.765   \n20 2020-01-10 20:25:09.185 2020-01-10 21:12:03.691   2020-01-14 15:10:44.000   \n\n   was_in_progress_datetime was_submitted_datetime_actual  \n0   2020-01-10 20:24:44.384       2020-01-10 21:02:37.319  \n1   2020-01-10 20:27:02.311       2020-01-10 21:05:56.575  \n2   2020-01-10 20:23:30.966       2020-01-10 20:49:07.186  \n3   2020-01-10 20:26:15.224       2020-01-10 21:16:18.171  \n4   2020-01-10 20:22:47.150       2020-01-15 14:09:26.490  \n5   2020-01-10 20:37:07.892       2020-01-10 21:07:17.453  \n6   2020-01-10 20:22:59.815       2020-01-10 20:54:58.720  \n7   2020-01-10 20:23:31.968       2020-01-10 20:55:55.849  \n8   2020-01-10 20:23:03.429       2020-01-10 20:53:53.736  \n9   2020-01-10 20:24:17.036       2020-01-10 21:08:16.067  \n10  2020-01-10 20:24:29.103       2020-01-10 21:04:58.110  \n11  2020-01-10 20:24:53.174       2020-01-10 21:13:32.703  \n12  2020-01-15 14:06:31.264       2020-01-15 14:22:21.848  \n13  2020-01-17 19:28:35.578       2020-01-17 19:39:37.415  \n14  2020-01-10 20:25:08.396       2020-01-10 21:14:56.737  \n15  2020-01-10 20:23:23.124       2020-01-10 20:41:48.618  \n16  2020-01-10 20:25:00.404       2020-01-15 14:23:30.835  \n17  2020-01-10 20:24:41.704       2020-01-10 21:12:04.370  \n18  2020-01-10 20:34:48.974       2020-01-15 15:01:08.865  \n19  2020-01-10 20:24:20.917       2020-01-10 20:56:16.703  \n20  2020-01-10 20:25:09.185       2020-01-10 21:12:03.691  ",
      "text/html": "<div>\n<style scoped>\n    .dataframe tbody tr th:only-of-type {\n        vertical-align: middle;\n    }\n\n    .dataframe tbody tr th {\n        vertical-align: top;\n    }\n\n    .dataframe thead th {\n        text-align: right;\n    }\n</style>\n<table border=\"1\" class=\"dataframe\">\n  <thead>\n    <tr style=\"text-align: right;\">\n      <th></th>\n      <th>learner_assignment_attempt_id</th>\n      <th>assessment_instance_attempt_id</th>\n      <th>assignment_attempt_number</th>\n      <th>final_score_unweighted</th>\n      <th>is_force_scored</th>\n      <th>is_manual_scoring_required</th>\n      <th>learner_assignment_attempt_id</th>\n      <th>learner_attempt_status</th>\n      <th>points_possible_unweighted</th>\n      <th>scored_datetime</th>\n      <th>student_start_datetime</th>\n      <th>student_stop_datetime</th>\n      <th>was_fully_scored_datetime</th>\n      <th>was_in_progress_datetime</th>\n      <th>was_submitted_datetime_actual</th>\n    </tr>\n  </thead>\n  <tbody>\n    <tr>\n      <th>0</th>\n      <td>606844</td>\n      <td>773755</td>\n      <td>1</td>\n      <td>28</td>\n      <td>False</td>\n      <td>False</td>\n      <td>606844</td>\n      <td>fully scored</td>\n      <td>50.0</td>\n      <td>2020-01-14 06:51:36</td>\n      <td>2020-01-10 20:24:44.384</td>\n      <td>2020-01-10 21:02:37.319</td>\n      <td>2020-01-14 14:51:36.000</td>\n      <td>2020-01-10 20:24:44.384</td>\n      <td>2020-01-10 21:02:37.319</td>\n    </tr>\n    <tr>\n      <th>1</th>\n      <td>606539</td>\n      <td>855007</td>\n      <td>1</td>\n      <td>40</td>\n      <td>False</td>\n      <td>False</td>\n      <td>606539</td>\n      <td>fully scored</td>\n      <td>50.0</td>\n      <td>2020-01-14 07:11:57</td>\n      <td>2020-01-10 20:27:02.311</td>\n      <td>2020-01-10 21:05:56.575</td>\n      <td>2020-01-14 15:11:57.000</td>\n      <td>2020-01-10 20:27:02.311</td>\n      <td>2020-01-10 21:05:56.575</td>\n    </tr>\n    <tr>\n      <th>2</th>\n      <td>606501</td>\n      <td>776436</td>\n      <td>1</td>\n      <td>44</td>\n      <td>False</td>\n      <td>False</td>\n      <td>606501</td>\n      <td>fully scored</td>\n      <td>50.0</td>\n      <td>2020-01-14 07:13:18</td>\n      <td>2020-01-10 20:23:30.966</td>\n      <td>2020-01-10 20:49:07.186</td>\n      <td>2020-01-14 15:13:18.000</td>\n      <td>2020-01-10 20:23:30.966</td>\n      <td>2020-01-10 20:49:07.186</td>\n    </tr>\n    <tr>\n      <th>3</th>\n      <td>606962</td>\n      <td>837246</td>\n      <td>1</td>\n      <td>41</td>\n      <td>False</td>\n      <td>False</td>\n      <td>606962</td>\n      <td>fully scored</td>\n      <td>50.0</td>\n      <td>2020-01-14 06:53:56</td>\n      <td>2020-01-10 20:26:15.224</td>\n      <td>2020-01-10 21:16:18.171</td>\n      <td>2020-01-14 14:53:56.659</td>\n      <td>2020-01-10 20:26:15.224</td>\n      <td>2020-01-10 21:16:18.171</td>\n    </tr>\n    <tr>\n      <th>4</th>\n      <td>606869</td>\n      <td>816577</td>\n      <td>1</td>\n      <td>44</td>\n      <td>False</td>\n      <td>False</td>\n      <td>606869</td>\n      <td>fully scored</td>\n      <td>50.0</td>\n      <td>2020-01-15 06:09:26</td>\n      <td>2020-01-10 20:22:47.150</td>\n      <td>2020-01-15 14:09:26.490</td>\n      <td>2020-01-15 14:09:26.413</td>\n      <td>2020-01-10 20:22:47.150</td>\n      <td>2020-01-15 14:09:26.490</td>\n    </tr>\n    <tr>\n      <th>5</th>\n      <td>606912</td>\n      <td>788355</td>\n      <td>1</td>\n      <td>37</td>\n      <td>False</td>\n      <td>False</td>\n      <td>606912</td>\n      <td>fully scored</td>\n      <td>50.0</td>\n      <td>2020-01-14 07:02:09</td>\n      <td>2020-01-10 20:37:07.892</td>\n      <td>2020-01-10 21:07:17.453</td>\n      <td>2020-01-14 15:02:09.796</td>\n      <td>2020-01-10 20:37:07.892</td>\n      <td>2020-01-10 21:07:17.453</td>\n    </tr>\n    <tr>\n      <th>6</th>\n      <td>606968</td>\n      <td>851655</td>\n      <td>1</td>\n      <td>39</td>\n      <td>False</td>\n      <td>False</td>\n      <td>606968</td>\n      <td>fully scored</td>\n      <td>50.0</td>\n      <td>2020-01-10 13:06:52</td>\n      <td>2020-01-10 20:22:59.815</td>\n      <td>2020-01-10 20:54:58.720</td>\n      <td>2020-01-10 21:06:53.260</td>\n      <td>2020-01-10 20:22:59.815</td>\n      <td>2020-01-10 20:54:58.720</td>\n    </tr>\n    <tr>\n      <th>7</th>\n      <td>606940</td>\n      <td>888189</td>\n      <td>1</td>\n      <td>37</td>\n      <td>False</td>\n      <td>False</td>\n      <td>606940</td>\n      <td>fully scored</td>\n      <td>50.0</td>\n      <td>2020-01-14 07:04:08</td>\n      <td>2020-01-10 20:23:31.968</td>\n      <td>2020-01-10 20:55:55.849</td>\n      <td>2020-01-14 15:04:08.000</td>\n      <td>2020-01-10 20:23:31.968</td>\n      <td>2020-01-10 20:55:55.849</td>\n    </tr>\n    <tr>\n      <th>8</th>\n      <td>606926</td>\n      <td>762772</td>\n      <td>1</td>\n      <td>49</td>\n      <td>False</td>\n      <td>False</td>\n      <td>606926</td>\n      <td>fully scored</td>\n      <td>50.0</td>\n      <td>2020-01-10 12:58:30</td>\n      <td>2020-01-10 20:23:03.429</td>\n      <td>2020-01-10 20:53:53.736</td>\n      <td>2020-01-10 20:58:30.000</td>\n      <td>2020-01-10 20:23:03.429</td>\n      <td>2020-01-10 20:53:53.736</td>\n    </tr>\n    <tr>\n      <th>9</th>\n      <td>606711</td>\n      <td>871376</td>\n      <td>1</td>\n      <td>50</td>\n      <td>False</td>\n      <td>False</td>\n      <td>606711</td>\n      <td>fully scored</td>\n      <td>50.0</td>\n      <td>2020-01-14 07:00:26</td>\n      <td>2020-01-10 20:24:17.036</td>\n      <td>2020-01-10 21:08:16.067</td>\n      <td>2020-01-14 15:00:26.915</td>\n      <td>2020-01-10 20:24:17.036</td>\n      <td>2020-01-10 21:08:16.067</td>\n    </tr>\n    <tr>\n      <th>10</th>\n      <td>606822</td>\n      <td>883967</td>\n      <td>1</td>\n      <td>34</td>\n      <td>False</td>\n      <td>False</td>\n      <td>606822</td>\n      <td>fully scored</td>\n      <td>50.0</td>\n      <td>2020-01-14 06:55:58</td>\n      <td>2020-01-10 20:24:29.103</td>\n      <td>2020-01-10 21:04:58.110</td>\n      <td>2020-01-14 14:55:58.000</td>\n      <td>2020-01-10 20:24:29.103</td>\n      <td>2020-01-10 21:04:58.110</td>\n    </tr>\n    <tr>\n      <th>11</th>\n      <td>606519</td>\n      <td>856034</td>\n      <td>1</td>\n      <td>48</td>\n      <td>False</td>\n      <td>False</td>\n      <td>606519</td>\n      <td>fully scored</td>\n      <td>50.0</td>\n      <td>2020-01-14 06:49:11</td>\n      <td>2020-01-10 20:24:53.174</td>\n      <td>2020-01-10 21:13:32.703</td>\n      <td>2020-01-14 14:49:12.282</td>\n      <td>2020-01-10 20:24:53.174</td>\n      <td>2020-01-10 21:13:32.703</td>\n    </tr>\n    <tr>\n      <th>12</th>\n      <td>606552</td>\n      <td>796361</td>\n      <td>1</td>\n      <td>43</td>\n      <td>False</td>\n      <td>False</td>\n      <td>606552</td>\n      <td>fully scored</td>\n      <td>50.0</td>\n      <td>2020-01-15 06:29:04</td>\n      <td>2020-01-15 14:06:31.264</td>\n      <td>2020-01-15 14:22:21.848</td>\n      <td>2020-01-15 14:29:04.000</td>\n      <td>2020-01-15 14:06:31.264</td>\n      <td>2020-01-15 14:22:21.848</td>\n    </tr>\n    <tr>\n      <th>13</th>\n      <td>606696</td>\n      <td>786876</td>\n      <td>1</td>\n      <td>24</td>\n      <td>False</td>\n      <td>False</td>\n      <td>606696</td>\n      <td>fully scored</td>\n      <td>50.0</td>\n      <td>2020-01-21 05:42:13</td>\n      <td>2020-01-17 19:28:35.578</td>\n      <td>2020-01-17 19:39:37.415</td>\n      <td>2020-01-21 13:42:13.488</td>\n      <td>2020-01-17 19:28:35.578</td>\n      <td>2020-01-17 19:39:37.415</td>\n    </tr>\n    <tr>\n      <th>14</th>\n      <td>606979</td>\n      <td>804437</td>\n      <td>1</td>\n      <td>33</td>\n      <td>False</td>\n      <td>False</td>\n      <td>606979</td>\n      <td>fully scored</td>\n      <td>50.0</td>\n      <td>2020-01-14 07:07:54</td>\n      <td>2020-01-10 20:25:08.396</td>\n      <td>2020-01-10 21:14:56.737</td>\n      <td>2020-01-14 15:07:54.000</td>\n      <td>2020-01-10 20:25:08.396</td>\n      <td>2020-01-10 21:14:56.737</td>\n    </tr>\n    <tr>\n      <th>15</th>\n      <td>606814</td>\n      <td>784977</td>\n      <td>1</td>\n      <td>39</td>\n      <td>False</td>\n      <td>False</td>\n      <td>606814</td>\n      <td>fully scored</td>\n      <td>50.0</td>\n      <td>2020-01-10 12:45:42</td>\n      <td>2020-01-10 20:23:23.124</td>\n      <td>2020-01-10 20:41:48.618</td>\n      <td>2020-01-10 20:45:42.000</td>\n      <td>2020-01-10 20:23:23.124</td>\n      <td>2020-01-10 20:41:48.618</td>\n    </tr>\n    <tr>\n      <th>16</th>\n      <td>606747</td>\n      <td>775892</td>\n      <td>1</td>\n      <td>44</td>\n      <td>False</td>\n      <td>False</td>\n      <td>606747</td>\n      <td>fully scored</td>\n      <td>50.0</td>\n      <td>2020-01-15 06:25:05</td>\n      <td>2020-01-10 20:25:00.404</td>\n      <td>2020-01-15 14:23:30.835</td>\n      <td>2020-01-15 14:25:05.415</td>\n      <td>2020-01-10 20:25:00.404</td>\n      <td>2020-01-15 14:23:30.835</td>\n    </tr>\n    <tr>\n      <th>17</th>\n      <td>606776</td>\n      <td>884438</td>\n      <td>1</td>\n      <td>24</td>\n      <td>False</td>\n      <td>False</td>\n      <td>606776</td>\n      <td>fully scored</td>\n      <td>50.0</td>\n      <td>2020-01-14 07:06:18</td>\n      <td>2020-01-10 20:24:41.704</td>\n      <td>2020-01-10 21:12:04.370</td>\n      <td>2020-01-14 15:06:19.066</td>\n      <td>2020-01-10 20:24:41.704</td>\n      <td>2020-01-10 21:12:04.370</td>\n    </tr>\n    <tr>\n      <th>18</th>\n      <td>606469</td>\n      <td>885870</td>\n      <td>1</td>\n      <td>36</td>\n      <td>False</td>\n      <td>False</td>\n      <td>606469</td>\n      <td>fully scored</td>\n      <td>50.0</td>\n      <td>2020-01-16 11:17:45</td>\n      <td>2020-01-10 20:34:48.974</td>\n      <td>2020-01-15 15:01:08.865</td>\n      <td>2020-01-16 19:17:45.000</td>\n      <td>2020-01-10 20:34:48.974</td>\n      <td>2020-01-15 15:01:08.865</td>\n    </tr>\n    <tr>\n      <th>19</th>\n      <td>606660</td>\n      <td>870868</td>\n      <td>1</td>\n      <td>18</td>\n      <td>False</td>\n      <td>False</td>\n      <td>606660</td>\n      <td>fully scored</td>\n      <td>50.0</td>\n      <td>2020-01-14 06:47:30</td>\n      <td>2020-01-10 20:24:20.917</td>\n      <td>2020-01-10 20:56:16.703</td>\n      <td>2020-01-14 14:47:30.765</td>\n      <td>2020-01-10 20:24:20.917</td>\n      <td>2020-01-10 20:56:16.703</td>\n    </tr>\n    <tr>\n      <th>20</th>\n      <td>606596</td>\n      <td>840383</td>\n      <td>1</td>\n      <td>49</td>\n      <td>False</td>\n      <td>False</td>\n      <td>606596</td>\n      <td>fully scored</td>\n      <td>50.0</td>\n      <td>2020-01-14 07:10:44</td>\n      <td>2020-01-10 20:25:09.185</td>\n      <td>2020-01-10 21:12:03.691</td>\n      <td>2020-01-14 15:10:44.000</td>\n      <td>2020-01-10 20:25:09.185</td>\n      <td>2020-01-10 21:12:03.691</td>\n    </tr>\n  </tbody>\n</table>\n</div>"
     },
     "execution_count": 30,
     "metadata": {},
     "output_type": "execute_result"
    }
   ],
   "source": [
    "dfFlt.filter( F.col('assessment_id') == 306799 ).select('learner_assignment_attempt_id', *cats['assignmentAttemptVars']).distinct().toPandas()"
   ],
   "metadata": {
    "collapsed": false,
    "pycharm": {
     "name": "#%%\n"
    }
   }
  },
  {
   "cell_type": "markdown",
   "metadata": {
    "pycharm": {
     "name": "#%% md\n"
    }
   },
   "source": [
    "- 20 attempts\n",
    "- Majority of students started (student_start_datetime) and stopped (student_stop_datetime) on 2020-01-10\n",
    "- Scored (was_fully_scored_datetime) between 1/10 and 1/21\n",
    "\n",
    "###### Display Assignment Attempt Items for Attempt 1098979"
   ]
  },
  {
   "cell_type": "code",
   "execution_count": 10,
   "outputs": [
    {
     "data": {
      "text/plain": "Empty DataFrame\nColumns: [learner_assigned_item_attempt_id, assessment_item_response_id, assigned_item_status, is_deleted, item_attempt_end_datetime_utc, item_attempt_start_datetime_utc, learner_assigned_item_attempt_id, raw_score, response_correctness]\nIndex: []",
      "text/html": "<div>\n<style scoped>\n    .dataframe tbody tr th:only-of-type {\n        vertical-align: middle;\n    }\n\n    .dataframe tbody tr th {\n        vertical-align: top;\n    }\n\n    .dataframe thead th {\n        text-align: right;\n    }\n</style>\n<table border=\"1\" class=\"dataframe\">\n  <thead>\n    <tr style=\"text-align: right;\">\n      <th></th>\n      <th>learner_assigned_item_attempt_id</th>\n      <th>assessment_item_response_id</th>\n      <th>assigned_item_status</th>\n      <th>is_deleted</th>\n      <th>item_attempt_end_datetime_utc</th>\n      <th>item_attempt_start_datetime_utc</th>\n      <th>learner_assigned_item_attempt_id</th>\n      <th>raw_score</th>\n      <th>response_correctness</th>\n    </tr>\n  </thead>\n  <tbody>\n  </tbody>\n</table>\n</div>"
     },
     "execution_count": 10,
     "metadata": {},
     "output_type": "execute_result"
    }
   ],
   "source": [
    "dfFlt.filter( F.col('assessment_instance_attempt_id') == 1098979 ).select('learner_assigned_item_attempt_id', *cats['itemAttemptVars']).distinct().toPandas()"
   ],
   "metadata": {
    "collapsed": false,
    "pycharm": {
     "name": "#%%\n"
    }
   }
  },
  {
   "cell_type": "markdown",
   "source": [
    "- 18 items\n",
    "- All answered (scored)\n",
    "  - 14 correct\n",
    "  - 3 incorrect\n",
    "  - on partially correct\n"
   ],
   "metadata": {
    "collapsed": false
   }
  },
  {
   "cell_type": "markdown",
   "source": [
    "###### Display Assignment Attempt Items for Attempt 883967"
   ],
   "metadata": {
    "collapsed": false
   }
  },
  {
   "cell_type": "code",
   "execution_count": 31,
   "outputs": [
    {
     "data": {
      "text/plain": "    assessment_item_response_id assigned_item_status  is_deleted  \\\n0                       1276415               scored       False   \n1                       1291494               scored       False   \n2                       1235053               scored       False   \n3                       1257486               scored       False   \n4                       1262984               scored       False   \n5                       1339453               scored       False   \n6                       1245859               scored       False   \n7                       1256010               scored       False   \n8                       1230603               scored       False   \n9                       1236259               scored       False   \n10                      1250376               scored       False   \n11                      1242296               scored       False   \n12                      1249913               scored       False   \n13                      1253137               scored       False   \n14                      1299043               scored       False   \n15                      1242906               scored       False   \n16                      1276407               scored       False   \n17                      1237323               scored       False   \n18                      1245739               scored       False   \n19                      1283745               scored       False   \n20                      1234676               scored       False   \n\n   item_attempt_end_datetime_utc item_attempt_start_datetime_utc  \\\n0        2020-01-10 20:50:01.375         2020-01-10 20:29:25.085   \n1        2020-01-10 21:04:29.247         2020-01-10 20:32:23.457   \n2        2020-01-10 21:04:26.621         2020-01-10 20:32:16.222   \n3        2020-01-10 21:04:36.022         2020-01-10 20:33:20.523   \n4        2020-01-10 20:37:00.462         2020-01-10 20:24:29.653   \n5        2020-01-10 21:04:34.516         2020-01-10 20:32:44.650   \n6        2020-01-10 21:04:47.800         2020-01-10 20:33:47.543   \n7        2020-01-10 21:04:22.554         2020-01-10 20:30:05.823   \n8        2020-01-10 21:04:44.253         2020-01-10 20:33:44.174   \n9        2020-01-10 20:43:04.012         2020-01-10 20:25:24.116   \n10       2020-01-10 21:04:21.434         2020-01-10 20:30:00.926   \n11       2020-01-10 21:04:51.565         2020-01-10 20:34:49.082   \n12       2020-01-10 21:04:41.974         2020-01-10 20:33:39.203   \n13       2020-01-10 21:04:24.528         2020-01-10 20:32:11.995   \n14       2020-01-10 21:04:31.229         2020-01-10 20:32:32.169   \n15       2020-01-10 21:04:32.863         2020-01-10 20:32:38.652   \n16       2020-01-10 20:46:08.571         2020-01-10 20:28:00.497   \n17       2020-01-10 20:43:01.281         2020-01-10 20:25:04.280   \n18       2020-01-10 20:48:25.229         2020-01-10 20:28:29.863   \n19       2020-01-10 21:04:55.281         2020-01-10 21:03:35.868   \n20       2020-01-10 21:04:52.867         2020-01-10 21:01:55.129   \n\n    learner_assigned_item_attempt_id  raw_score response_correctness  \n0                            1108225          1              correct  \n1                            1108209          5              correct  \n2                            1108216         10              correct  \n3                            1108211          0            incorrect  \n4                            1108227          1              correct  \n5                            1108213          0            incorrect  \n6                            1108217          1              correct  \n7                            1108207          5              correct  \n8                            1108224          1              correct  \n9                            1108212          5              correct  \n10                           1108218          1              correct  \n11                           1108219          1    partially_correct  \n12                           1108226          1              correct  \n13                           1108221          0            incorrect  \n14                           1108220          1              correct  \n15                           1108222          0            incorrect  \n16                           1108215          0            incorrect  \n17                           1108223          1              correct  \n18                           1108210          0            incorrect  \n19                           1108208          0            incorrect  \n20                           1108214          0            incorrect  ",
      "text/html": "<div>\n<style scoped>\n    .dataframe tbody tr th:only-of-type {\n        vertical-align: middle;\n    }\n\n    .dataframe tbody tr th {\n        vertical-align: top;\n    }\n\n    .dataframe thead th {\n        text-align: right;\n    }\n</style>\n<table border=\"1\" class=\"dataframe\">\n  <thead>\n    <tr style=\"text-align: right;\">\n      <th></th>\n      <th>assessment_item_response_id</th>\n      <th>assigned_item_status</th>\n      <th>is_deleted</th>\n      <th>item_attempt_end_datetime_utc</th>\n      <th>item_attempt_start_datetime_utc</th>\n      <th>learner_assigned_item_attempt_id</th>\n      <th>raw_score</th>\n      <th>response_correctness</th>\n    </tr>\n  </thead>\n  <tbody>\n    <tr>\n      <th>0</th>\n      <td>1276415</td>\n      <td>scored</td>\n      <td>False</td>\n      <td>2020-01-10 20:50:01.375</td>\n      <td>2020-01-10 20:29:25.085</td>\n      <td>1108225</td>\n      <td>1</td>\n      <td>correct</td>\n    </tr>\n    <tr>\n      <th>1</th>\n      <td>1291494</td>\n      <td>scored</td>\n      <td>False</td>\n      <td>2020-01-10 21:04:29.247</td>\n      <td>2020-01-10 20:32:23.457</td>\n      <td>1108209</td>\n      <td>5</td>\n      <td>correct</td>\n    </tr>\n    <tr>\n      <th>2</th>\n      <td>1235053</td>\n      <td>scored</td>\n      <td>False</td>\n      <td>2020-01-10 21:04:26.621</td>\n      <td>2020-01-10 20:32:16.222</td>\n      <td>1108216</td>\n      <td>10</td>\n      <td>correct</td>\n    </tr>\n    <tr>\n      <th>3</th>\n      <td>1257486</td>\n      <td>scored</td>\n      <td>False</td>\n      <td>2020-01-10 21:04:36.022</td>\n      <td>2020-01-10 20:33:20.523</td>\n      <td>1108211</td>\n      <td>0</td>\n      <td>incorrect</td>\n    </tr>\n    <tr>\n      <th>4</th>\n      <td>1262984</td>\n      <td>scored</td>\n      <td>False</td>\n      <td>2020-01-10 20:37:00.462</td>\n      <td>2020-01-10 20:24:29.653</td>\n      <td>1108227</td>\n      <td>1</td>\n      <td>correct</td>\n    </tr>\n    <tr>\n      <th>5</th>\n      <td>1339453</td>\n      <td>scored</td>\n      <td>False</td>\n      <td>2020-01-10 21:04:34.516</td>\n      <td>2020-01-10 20:32:44.650</td>\n      <td>1108213</td>\n      <td>0</td>\n      <td>incorrect</td>\n    </tr>\n    <tr>\n      <th>6</th>\n      <td>1245859</td>\n      <td>scored</td>\n      <td>False</td>\n      <td>2020-01-10 21:04:47.800</td>\n      <td>2020-01-10 20:33:47.543</td>\n      <td>1108217</td>\n      <td>1</td>\n      <td>correct</td>\n    </tr>\n    <tr>\n      <th>7</th>\n      <td>1256010</td>\n      <td>scored</td>\n      <td>False</td>\n      <td>2020-01-10 21:04:22.554</td>\n      <td>2020-01-10 20:30:05.823</td>\n      <td>1108207</td>\n      <td>5</td>\n      <td>correct</td>\n    </tr>\n    <tr>\n      <th>8</th>\n      <td>1230603</td>\n      <td>scored</td>\n      <td>False</td>\n      <td>2020-01-10 21:04:44.253</td>\n      <td>2020-01-10 20:33:44.174</td>\n      <td>1108224</td>\n      <td>1</td>\n      <td>correct</td>\n    </tr>\n    <tr>\n      <th>9</th>\n      <td>1236259</td>\n      <td>scored</td>\n      <td>False</td>\n      <td>2020-01-10 20:43:04.012</td>\n      <td>2020-01-10 20:25:24.116</td>\n      <td>1108212</td>\n      <td>5</td>\n      <td>correct</td>\n    </tr>\n    <tr>\n      <th>10</th>\n      <td>1250376</td>\n      <td>scored</td>\n      <td>False</td>\n      <td>2020-01-10 21:04:21.434</td>\n      <td>2020-01-10 20:30:00.926</td>\n      <td>1108218</td>\n      <td>1</td>\n      <td>correct</td>\n    </tr>\n    <tr>\n      <th>11</th>\n      <td>1242296</td>\n      <td>scored</td>\n      <td>False</td>\n      <td>2020-01-10 21:04:51.565</td>\n      <td>2020-01-10 20:34:49.082</td>\n      <td>1108219</td>\n      <td>1</td>\n      <td>partially_correct</td>\n    </tr>\n    <tr>\n      <th>12</th>\n      <td>1249913</td>\n      <td>scored</td>\n      <td>False</td>\n      <td>2020-01-10 21:04:41.974</td>\n      <td>2020-01-10 20:33:39.203</td>\n      <td>1108226</td>\n      <td>1</td>\n      <td>correct</td>\n    </tr>\n    <tr>\n      <th>13</th>\n      <td>1253137</td>\n      <td>scored</td>\n      <td>False</td>\n      <td>2020-01-10 21:04:24.528</td>\n      <td>2020-01-10 20:32:11.995</td>\n      <td>1108221</td>\n      <td>0</td>\n      <td>incorrect</td>\n    </tr>\n    <tr>\n      <th>14</th>\n      <td>1299043</td>\n      <td>scored</td>\n      <td>False</td>\n      <td>2020-01-10 21:04:31.229</td>\n      <td>2020-01-10 20:32:32.169</td>\n      <td>1108220</td>\n      <td>1</td>\n      <td>correct</td>\n    </tr>\n    <tr>\n      <th>15</th>\n      <td>1242906</td>\n      <td>scored</td>\n      <td>False</td>\n      <td>2020-01-10 21:04:32.863</td>\n      <td>2020-01-10 20:32:38.652</td>\n      <td>1108222</td>\n      <td>0</td>\n      <td>incorrect</td>\n    </tr>\n    <tr>\n      <th>16</th>\n      <td>1276407</td>\n      <td>scored</td>\n      <td>False</td>\n      <td>2020-01-10 20:46:08.571</td>\n      <td>2020-01-10 20:28:00.497</td>\n      <td>1108215</td>\n      <td>0</td>\n      <td>incorrect</td>\n    </tr>\n    <tr>\n      <th>17</th>\n      <td>1237323</td>\n      <td>scored</td>\n      <td>False</td>\n      <td>2020-01-10 20:43:01.281</td>\n      <td>2020-01-10 20:25:04.280</td>\n      <td>1108223</td>\n      <td>1</td>\n      <td>correct</td>\n    </tr>\n    <tr>\n      <th>18</th>\n      <td>1245739</td>\n      <td>scored</td>\n      <td>False</td>\n      <td>2020-01-10 20:48:25.229</td>\n      <td>2020-01-10 20:28:29.863</td>\n      <td>1108210</td>\n      <td>0</td>\n      <td>incorrect</td>\n    </tr>\n    <tr>\n      <th>19</th>\n      <td>1283745</td>\n      <td>scored</td>\n      <td>False</td>\n      <td>2020-01-10 21:04:55.281</td>\n      <td>2020-01-10 21:03:35.868</td>\n      <td>1108208</td>\n      <td>0</td>\n      <td>incorrect</td>\n    </tr>\n    <tr>\n      <th>20</th>\n      <td>1234676</td>\n      <td>scored</td>\n      <td>False</td>\n      <td>2020-01-10 21:04:52.867</td>\n      <td>2020-01-10 21:01:55.129</td>\n      <td>1108214</td>\n      <td>0</td>\n      <td>incorrect</td>\n    </tr>\n  </tbody>\n</table>\n</div>"
     },
     "execution_count": 31,
     "metadata": {},
     "output_type": "execute_result"
    }
   ],
   "source": [
    "dfFlt.filter( F.col('assessment_instance_attempt_id') == 883967 ).select(*cats['itemAttemptVars']).distinct().toPandas()"
   ],
   "metadata": {
    "collapsed": false,
    "pycharm": {
     "name": "#%%\n"
    }
   }
  },
  {
   "cell_type": "markdown",
   "source": [
    "- 20 items\n",
    "- All answered (scored)\n",
    "  - 12 correct\n",
    "  - 7 incorrect\n",
    "  - 1 partially correct\n"
   ],
   "metadata": {
    "collapsed": false
   }
  },
  {
   "cell_type": "code",
   "execution_count": 11,
   "outputs": [],
   "source": [],
   "metadata": {
    "collapsed": false,
    "pycharm": {
     "name": "#%%\n"
    }
   }
  }
 ],
 "metadata": {
  "kernelspec": {
   "display_name": "Python 3",
   "language": "python",
   "name": "python3"
  },
  "language_info": {
   "codemirror_mode": {
    "name": "ipython",
    "version": 3
   },
   "file_extension": ".py",
   "mimetype": "text/x-python",
   "name": "python",
   "nbconvert_exporter": "python",
   "pygments_lexer": "ipython3",
   "version": "3.6.3"
  }
 },
 "nbformat": 4,
 "nbformat_minor": 1
}