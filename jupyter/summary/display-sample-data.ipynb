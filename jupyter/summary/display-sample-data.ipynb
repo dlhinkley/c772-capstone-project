{
 "cells": [
  {
   "cell_type": "markdown",
   "metadata": {},
   "source": [
    "### Display Sample Data"
   ]
  },
  {
   "cell_type": "code",
   "execution_count": 6,
   "metadata": {
    "pycharm": {
     "name": "#%%\n"
    }
   },
   "outputs": [
    {
     "name": "stdout",
     "output_type": "stream",
     "text": [
      "dython              0.6.1\n",
      "tinydb              4.2.0\n"
     ]
    }
   ],
   "source": [
    "%run '../lib/libraries.ipynb'"
   ]
  },
  {
   "cell_type": "code",
   "execution_count": 7,
   "metadata": {
    "pycharm": {
     "name": "#%%\n"
    }
   },
   "outputs": [],
   "source": [
    "dfFlt = load_df('dfFlt')\n",
    "cats = get_var_cats()"
   ]
  },
  {
   "cell_type": "markdown",
   "metadata": {
    "pycharm": {
     "name": "#%% md\n"
    }
   },
   "source": [
    "#### Display Sample Data"
   ]
  },
  {
   "cell_type": "code",
   "execution_count": 14,
   "metadata": {
    "pycharm": {
     "name": "#%%\n"
    }
   },
   "outputs": [
    {
     "data": {
      "text/plain": "   org_id\n0  349115\n1  360421\n2  360541",
      "text/html": "<div>\n<style scoped>\n    .dataframe tbody tr th:only-of-type {\n        vertical-align: middle;\n    }\n\n    .dataframe tbody tr th {\n        vertical-align: top;\n    }\n\n    .dataframe thead th {\n        text-align: right;\n    }\n</style>\n<table border=\"1\" class=\"dataframe\">\n  <thead>\n    <tr style=\"text-align: right;\">\n      <th></th>\n      <th>org_id</th>\n    </tr>\n  </thead>\n  <tbody>\n    <tr>\n      <th>0</th>\n      <td>349115</td>\n    </tr>\n    <tr>\n      <th>1</th>\n      <td>360421</td>\n    </tr>\n    <tr>\n      <th>2</th>\n      <td>360541</td>\n    </tr>\n  </tbody>\n</table>\n</div>"
     },
     "execution_count": 14,
     "metadata": {},
     "output_type": "execute_result"
    }
   ],
   "source": [
    "dfFlt.select(*cats['orgVars']).distinct().toPandas()"
   ]
  },
  {
   "cell_type": "markdown",
   "metadata": {},
   "source": [
    "- 3 organizations"
   ]
  },
  {
   "cell_type": "code",
   "execution_count": 15,
   "metadata": {
    "pycharm": {
     "name": "#%%\n"
    }
   },
   "outputs": [
    {
     "data": {
      "text/plain": "    section_id\n0       498961\n1       499023\n2       537231\n3       498945\n4       498977\n5       498971\n6       498965\n7       499094\n8       499047\n9       530503\n10      499028\n11      527034\n12      498941\n13      498967\n14      522071\n15      509045\n16      499081\n17      520208",
      "text/html": "<div>\n<style scoped>\n    .dataframe tbody tr th:only-of-type {\n        vertical-align: middle;\n    }\n\n    .dataframe tbody tr th {\n        vertical-align: top;\n    }\n\n    .dataframe thead th {\n        text-align: right;\n    }\n</style>\n<table border=\"1\" class=\"dataframe\">\n  <thead>\n    <tr style=\"text-align: right;\">\n      <th></th>\n      <th>section_id</th>\n    </tr>\n  </thead>\n  <tbody>\n    <tr>\n      <th>0</th>\n      <td>498961</td>\n    </tr>\n    <tr>\n      <th>1</th>\n      <td>499023</td>\n    </tr>\n    <tr>\n      <th>2</th>\n      <td>537231</td>\n    </tr>\n    <tr>\n      <th>3</th>\n      <td>498945</td>\n    </tr>\n    <tr>\n      <th>4</th>\n      <td>498977</td>\n    </tr>\n    <tr>\n      <th>5</th>\n      <td>498971</td>\n    </tr>\n    <tr>\n      <th>6</th>\n      <td>498965</td>\n    </tr>\n    <tr>\n      <th>7</th>\n      <td>499094</td>\n    </tr>\n    <tr>\n      <th>8</th>\n      <td>499047</td>\n    </tr>\n    <tr>\n      <th>9</th>\n      <td>530503</td>\n    </tr>\n    <tr>\n      <th>10</th>\n      <td>499028</td>\n    </tr>\n    <tr>\n      <th>11</th>\n      <td>527034</td>\n    </tr>\n    <tr>\n      <th>12</th>\n      <td>498941</td>\n    </tr>\n    <tr>\n      <th>13</th>\n      <td>498967</td>\n    </tr>\n    <tr>\n      <th>14</th>\n      <td>522071</td>\n    </tr>\n    <tr>\n      <th>15</th>\n      <td>509045</td>\n    </tr>\n    <tr>\n      <th>16</th>\n      <td>499081</td>\n    </tr>\n    <tr>\n      <th>17</th>\n      <td>520208</td>\n    </tr>\n  </tbody>\n</table>\n</div>"
     },
     "execution_count": 15,
     "metadata": {},
     "output_type": "execute_result"
    }
   ],
   "source": [
    "dfFlt.filter( F.col('org_id') == 360421).select(*cats['sectionVars']).distinct().toPandas()"
   ]
  },
  {
   "cell_type": "markdown",
   "metadata": {},
   "source": [
    "- 18 sections in organization 360421"
   ]
  },
  {
   "cell_type": "code",
   "execution_count": 16,
   "metadata": {
    "pycharm": {
     "name": "#%%\n"
    }
   },
   "outputs": [
    {
     "data": {
      "text/plain": "    learner_id\n0      1259558\n1      1248382\n2      1248826\n3      1249701\n4      1248402\n5      1248370\n6      1257687\n7      1248404\n8      1248792\n9      1248400\n10     1248786\n11     1249343\n12     1248378\n13     1248403\n14     1248371\n15     1248369\n16     1249244\n17     1248377\n18     1251888\n19     1255484\n20     1248372\n21     1248788\n22     1249507\n23     1259171\n24     1249243\n25     1258474",
      "text/html": "<div>\n<style scoped>\n    .dataframe tbody tr th:only-of-type {\n        vertical-align: middle;\n    }\n\n    .dataframe tbody tr th {\n        vertical-align: top;\n    }\n\n    .dataframe thead th {\n        text-align: right;\n    }\n</style>\n<table border=\"1\" class=\"dataframe\">\n  <thead>\n    <tr style=\"text-align: right;\">\n      <th></th>\n      <th>learner_id</th>\n    </tr>\n  </thead>\n  <tbody>\n    <tr>\n      <th>0</th>\n      <td>1259558</td>\n    </tr>\n    <tr>\n      <th>1</th>\n      <td>1248382</td>\n    </tr>\n    <tr>\n      <th>2</th>\n      <td>1248826</td>\n    </tr>\n    <tr>\n      <th>3</th>\n      <td>1249701</td>\n    </tr>\n    <tr>\n      <th>4</th>\n      <td>1248402</td>\n    </tr>\n    <tr>\n      <th>5</th>\n      <td>1248370</td>\n    </tr>\n    <tr>\n      <th>6</th>\n      <td>1257687</td>\n    </tr>\n    <tr>\n      <th>7</th>\n      <td>1248404</td>\n    </tr>\n    <tr>\n      <th>8</th>\n      <td>1248792</td>\n    </tr>\n    <tr>\n      <th>9</th>\n      <td>1248400</td>\n    </tr>\n    <tr>\n      <th>10</th>\n      <td>1248786</td>\n    </tr>\n    <tr>\n      <th>11</th>\n      <td>1249343</td>\n    </tr>\n    <tr>\n      <th>12</th>\n      <td>1248378</td>\n    </tr>\n    <tr>\n      <th>13</th>\n      <td>1248403</td>\n    </tr>\n    <tr>\n      <th>14</th>\n      <td>1248371</td>\n    </tr>\n    <tr>\n      <th>15</th>\n      <td>1248369</td>\n    </tr>\n    <tr>\n      <th>16</th>\n      <td>1249244</td>\n    </tr>\n    <tr>\n      <th>17</th>\n      <td>1248377</td>\n    </tr>\n    <tr>\n      <th>18</th>\n      <td>1251888</td>\n    </tr>\n    <tr>\n      <th>19</th>\n      <td>1255484</td>\n    </tr>\n    <tr>\n      <th>20</th>\n      <td>1248372</td>\n    </tr>\n    <tr>\n      <th>21</th>\n      <td>1248788</td>\n    </tr>\n    <tr>\n      <th>22</th>\n      <td>1249507</td>\n    </tr>\n    <tr>\n      <th>23</th>\n      <td>1259171</td>\n    </tr>\n    <tr>\n      <th>24</th>\n      <td>1249243</td>\n    </tr>\n    <tr>\n      <th>25</th>\n      <td>1258474</td>\n    </tr>\n  </tbody>\n</table>\n</div>"
     },
     "execution_count": 16,
     "metadata": {},
     "output_type": "execute_result"
    }
   ],
   "source": [
    "dfFlt.filter( F.col('section_id') == 499028).select(*cats['learnerVars']).distinct().toPandas()"
   ]
  },
  {
   "cell_type": "markdown",
   "metadata": {},
   "source": [
    "- 25 learners in section 499028"
   ]
  },
  {
   "cell_type": "code",
   "execution_count": 17,
   "metadata": {
    "pycharm": {
     "name": "#%%\n"
    },
    "scrolled": true
   },
   "outputs": [
    {
     "data": {
      "text/plain": "   assessment_id  assessment_instance_id\n0         748408                  799468\n1         747201                  926453\n2         748403                  799457\n3         750551                  820432\n4         747722                  799442\n5         748402                  907587\n6         751391                  842344\n7         748402                  907549\n8         750014                  923506\n9         750043                  799474",
      "text/html": "<div>\n<style scoped>\n    .dataframe tbody tr th:only-of-type {\n        vertical-align: middle;\n    }\n\n    .dataframe tbody tr th {\n        vertical-align: top;\n    }\n\n    .dataframe thead th {\n        text-align: right;\n    }\n</style>\n<table border=\"1\" class=\"dataframe\">\n  <thead>\n    <tr style=\"text-align: right;\">\n      <th></th>\n      <th>assessment_id</th>\n      <th>assessment_instance_id</th>\n    </tr>\n  </thead>\n  <tbody>\n    <tr>\n      <th>0</th>\n      <td>748408</td>\n      <td>799468</td>\n    </tr>\n    <tr>\n      <th>1</th>\n      <td>747201</td>\n      <td>926453</td>\n    </tr>\n    <tr>\n      <th>2</th>\n      <td>748403</td>\n      <td>799457</td>\n    </tr>\n    <tr>\n      <th>3</th>\n      <td>750551</td>\n      <td>820432</td>\n    </tr>\n    <tr>\n      <th>4</th>\n      <td>747722</td>\n      <td>799442</td>\n    </tr>\n    <tr>\n      <th>5</th>\n      <td>748402</td>\n      <td>907587</td>\n    </tr>\n    <tr>\n      <th>6</th>\n      <td>751391</td>\n      <td>842344</td>\n    </tr>\n    <tr>\n      <th>7</th>\n      <td>748402</td>\n      <td>907549</td>\n    </tr>\n    <tr>\n      <th>8</th>\n      <td>750014</td>\n      <td>923506</td>\n    </tr>\n    <tr>\n      <th>9</th>\n      <td>750043</td>\n      <td>799474</td>\n    </tr>\n  </tbody>\n</table>\n</div>"
     },
     "execution_count": 17,
     "metadata": {},
     "output_type": "execute_result"
    }
   ],
   "source": [
    "dfFlt.filter( F.col('section_id') == 499028).select(*cats['assessmentVars']).distinct().toPandas()"
   ]
  },
  {
   "cell_type": "markdown",
   "metadata": {},
   "source": [
    "- 9 assessments in section 499028\n",
    "- one instance per assessment per section"
   ]
  },
  {
   "cell_type": "markdown",
   "metadata": {},
   "source": [
    "###### Display Assignments for Section 498941"
   ]
  },
  {
   "cell_type": "code",
   "execution_count": 12,
   "metadata": {
    "pycharm": {
     "name": "#%%\n"
    }
   },
   "outputs": [
    {
     "data": {
      "text/plain": "     assessment_id  assessment_instance_id  assessment_instance_attempt_id  \\\n0           750043                  799474                       1150375.0   \n1           750043                  799474                       1188946.0   \n2           750043                  799474                       1185322.0   \n3           750043                  799474                             NaN   \n4           750043                  799474                       1200065.0   \n..             ...                     ...                             ...   \n138         747201                  926453                       1114924.0   \n139         747201                  926453                       1170866.0   \n140         747201                  926453                       1099537.0   \n141         747201                  926453                       1219376.0   \n142         747201                  926453                       1099538.0   \n\n    assignment_due_date assignment_final_submission_date  \\\n0   2019-10-31 04:59:00              2019-10-31 04:59:00   \n1   2019-10-31 04:59:00              2019-10-31 04:59:00   \n2   2019-10-31 04:59:00              2019-10-31 04:59:00   \n3   2019-10-31 04:59:00              2019-10-31 04:59:00   \n4   2019-10-31 04:59:00              2019-10-31 04:59:00   \n..                  ...                              ...   \n138 2020-03-11 04:59:00              2020-03-11 04:59:00   \n139 2020-03-11 04:59:00              2020-03-11 04:59:00   \n140 2020-03-11 04:59:00              2020-03-11 04:59:00   \n141 2020-03-11 04:59:00              2020-03-11 04:59:00   \n142 2020-03-11 04:59:00              2020-03-11 04:59:00   \n\n     assignment_late_submission  assignment_max_attempts  \\\n0                         False                        1   \n1                         False                        1   \n2                         False                        1   \n3                         False                        1   \n4                         False                        1   \n..                          ...                      ...   \n138                       False                        1   \n139                       False                        1   \n140                       False                        1   \n141                       False                        1   \n142                       False                        1   \n\n    assignment_start_date ced_assignment_type_code  is_affecting_grade  \\\n0     2019-10-24 05:00:00               assessment                True   \n1     2019-10-24 05:00:00               assessment                True   \n2     2019-10-24 05:00:00               assessment                True   \n3     2019-10-24 05:00:00               assessment                True   \n4     2019-10-24 05:00:00               assessment                True   \n..                    ...                      ...                 ...   \n138   2020-03-09 05:00:00               assessment                True   \n139   2020-03-09 05:00:00               assessment                True   \n140   2020-03-09 05:00:00               assessment                True   \n141   2020-03-09 05:00:00               assessment                True   \n142   2020-03-09 05:00:00               assessment                True   \n\n    max_student_stop_datetime min_student_start_datetime  \\\n0     2019-10-28 16:24:37.517    2019-10-24 16:36:52.673   \n1     2019-10-28 16:24:37.517    2019-10-24 16:36:52.673   \n2     2019-10-28 16:24:37.517    2019-10-24 16:36:52.673   \n3     2019-10-28 16:24:37.517    2019-10-24 16:36:52.673   \n4     2019-10-28 16:24:37.517    2019-10-24 16:36:52.673   \n..                        ...                        ...   \n138   2020-03-11 05:00:10.856    2020-03-09 18:14:20.612   \n139   2020-03-11 05:00:10.856    2020-03-09 18:14:20.612   \n140   2020-03-11 05:00:10.856    2020-03-09 18:14:20.612   \n141   2020-03-11 05:00:10.856    2020-03-09 18:14:20.612   \n142   2020-03-11 05:00:10.856    2020-03-09 18:14:20.612   \n\n     number_of_distinct_instance_items  number_of_learners  \n0                                    6                  26  \n1                                    6                  26  \n2                                    6                  26  \n3                                    6                  26  \n4                                    6                  26  \n..                                 ...                 ...  \n138                                 20                  26  \n139                                 20                  26  \n140                                 20                  26  \n141                                 20                  26  \n142                                 20                  26  \n\n[143 rows x 14 columns]",
      "text/html": "<div>\n<style scoped>\n    .dataframe tbody tr th:only-of-type {\n        vertical-align: middle;\n    }\n\n    .dataframe tbody tr th {\n        vertical-align: top;\n    }\n\n    .dataframe thead th {\n        text-align: right;\n    }\n</style>\n<table border=\"1\" class=\"dataframe\">\n  <thead>\n    <tr style=\"text-align: right;\">\n      <th></th>\n      <th>assessment_id</th>\n      <th>assessment_instance_id</th>\n      <th>assessment_instance_attempt_id</th>\n      <th>assignment_due_date</th>\n      <th>assignment_final_submission_date</th>\n      <th>assignment_late_submission</th>\n      <th>assignment_max_attempts</th>\n      <th>assignment_start_date</th>\n      <th>ced_assignment_type_code</th>\n      <th>is_affecting_grade</th>\n      <th>max_student_stop_datetime</th>\n      <th>min_student_start_datetime</th>\n      <th>number_of_distinct_instance_items</th>\n      <th>number_of_learners</th>\n    </tr>\n  </thead>\n  <tbody>\n    <tr>\n      <th>0</th>\n      <td>750043</td>\n      <td>799474</td>\n      <td>1150375.0</td>\n      <td>2019-10-31 04:59:00</td>\n      <td>2019-10-31 04:59:00</td>\n      <td>False</td>\n      <td>1</td>\n      <td>2019-10-24 05:00:00</td>\n      <td>assessment</td>\n      <td>True</td>\n      <td>2019-10-28 16:24:37.517</td>\n      <td>2019-10-24 16:36:52.673</td>\n      <td>6</td>\n      <td>26</td>\n    </tr>\n    <tr>\n      <th>1</th>\n      <td>750043</td>\n      <td>799474</td>\n      <td>1188946.0</td>\n      <td>2019-10-31 04:59:00</td>\n      <td>2019-10-31 04:59:00</td>\n      <td>False</td>\n      <td>1</td>\n      <td>2019-10-24 05:00:00</td>\n      <td>assessment</td>\n      <td>True</td>\n      <td>2019-10-28 16:24:37.517</td>\n      <td>2019-10-24 16:36:52.673</td>\n      <td>6</td>\n      <td>26</td>\n    </tr>\n    <tr>\n      <th>2</th>\n      <td>750043</td>\n      <td>799474</td>\n      <td>1185322.0</td>\n      <td>2019-10-31 04:59:00</td>\n      <td>2019-10-31 04:59:00</td>\n      <td>False</td>\n      <td>1</td>\n      <td>2019-10-24 05:00:00</td>\n      <td>assessment</td>\n      <td>True</td>\n      <td>2019-10-28 16:24:37.517</td>\n      <td>2019-10-24 16:36:52.673</td>\n      <td>6</td>\n      <td>26</td>\n    </tr>\n    <tr>\n      <th>3</th>\n      <td>750043</td>\n      <td>799474</td>\n      <td>NaN</td>\n      <td>2019-10-31 04:59:00</td>\n      <td>2019-10-31 04:59:00</td>\n      <td>False</td>\n      <td>1</td>\n      <td>2019-10-24 05:00:00</td>\n      <td>assessment</td>\n      <td>True</td>\n      <td>2019-10-28 16:24:37.517</td>\n      <td>2019-10-24 16:36:52.673</td>\n      <td>6</td>\n      <td>26</td>\n    </tr>\n    <tr>\n      <th>4</th>\n      <td>750043</td>\n      <td>799474</td>\n      <td>1200065.0</td>\n      <td>2019-10-31 04:59:00</td>\n      <td>2019-10-31 04:59:00</td>\n      <td>False</td>\n      <td>1</td>\n      <td>2019-10-24 05:00:00</td>\n      <td>assessment</td>\n      <td>True</td>\n      <td>2019-10-28 16:24:37.517</td>\n      <td>2019-10-24 16:36:52.673</td>\n      <td>6</td>\n      <td>26</td>\n    </tr>\n    <tr>\n      <th>...</th>\n      <td>...</td>\n      <td>...</td>\n      <td>...</td>\n      <td>...</td>\n      <td>...</td>\n      <td>...</td>\n      <td>...</td>\n      <td>...</td>\n      <td>...</td>\n      <td>...</td>\n      <td>...</td>\n      <td>...</td>\n      <td>...</td>\n      <td>...</td>\n    </tr>\n    <tr>\n      <th>138</th>\n      <td>747201</td>\n      <td>926453</td>\n      <td>1114924.0</td>\n      <td>2020-03-11 04:59:00</td>\n      <td>2020-03-11 04:59:00</td>\n      <td>False</td>\n      <td>1</td>\n      <td>2020-03-09 05:00:00</td>\n      <td>assessment</td>\n      <td>True</td>\n      <td>2020-03-11 05:00:10.856</td>\n      <td>2020-03-09 18:14:20.612</td>\n      <td>20</td>\n      <td>26</td>\n    </tr>\n    <tr>\n      <th>139</th>\n      <td>747201</td>\n      <td>926453</td>\n      <td>1170866.0</td>\n      <td>2020-03-11 04:59:00</td>\n      <td>2020-03-11 04:59:00</td>\n      <td>False</td>\n      <td>1</td>\n      <td>2020-03-09 05:00:00</td>\n      <td>assessment</td>\n      <td>True</td>\n      <td>2020-03-11 05:00:10.856</td>\n      <td>2020-03-09 18:14:20.612</td>\n      <td>20</td>\n      <td>26</td>\n    </tr>\n    <tr>\n      <th>140</th>\n      <td>747201</td>\n      <td>926453</td>\n      <td>1099537.0</td>\n      <td>2020-03-11 04:59:00</td>\n      <td>2020-03-11 04:59:00</td>\n      <td>False</td>\n      <td>1</td>\n      <td>2020-03-09 05:00:00</td>\n      <td>assessment</td>\n      <td>True</td>\n      <td>2020-03-11 05:00:10.856</td>\n      <td>2020-03-09 18:14:20.612</td>\n      <td>20</td>\n      <td>26</td>\n    </tr>\n    <tr>\n      <th>141</th>\n      <td>747201</td>\n      <td>926453</td>\n      <td>1219376.0</td>\n      <td>2020-03-11 04:59:00</td>\n      <td>2020-03-11 04:59:00</td>\n      <td>False</td>\n      <td>1</td>\n      <td>2020-03-09 05:00:00</td>\n      <td>assessment</td>\n      <td>True</td>\n      <td>2020-03-11 05:00:10.856</td>\n      <td>2020-03-09 18:14:20.612</td>\n      <td>20</td>\n      <td>26</td>\n    </tr>\n    <tr>\n      <th>142</th>\n      <td>747201</td>\n      <td>926453</td>\n      <td>1099538.0</td>\n      <td>2020-03-11 04:59:00</td>\n      <td>2020-03-11 04:59:00</td>\n      <td>False</td>\n      <td>1</td>\n      <td>2020-03-09 05:00:00</td>\n      <td>assessment</td>\n      <td>True</td>\n      <td>2020-03-11 05:00:10.856</td>\n      <td>2020-03-09 18:14:20.612</td>\n      <td>20</td>\n      <td>26</td>\n    </tr>\n  </tbody>\n</table>\n<p>143 rows × 14 columns</p>\n</div>"
     },
     "execution_count": 12,
     "metadata": {},
     "output_type": "execute_result"
    }
   ],
   "source": [
    "dfFlt.filter( F.col('section_id') == 499028).select('assessment_id','assessment_instance_id', *cats['assignmentVars']).distinct().orderBy('assignment_due_date').toPandas()"
   ]
  },
  {
   "cell_type": "markdown",
   "metadata": {},
   "source": [
    "- 9 assignments (one for each assessment) in section 499028"
   ]
  },
  {
   "cell_type": "markdown",
   "metadata": {},
   "source": [
    "###### Display Assignment Items for Assessment 748408 of Section 499028"
   ]
  },
  {
   "cell_type": "code",
   "execution_count": 11,
   "metadata": {
    "pycharm": {
     "name": "#%%\n"
    }
   },
   "outputs": [
    {
     "data": {
      "text/plain": "   item_is_offline_scored item_type_code_name scoring_type_code\n0                   False               essay            manual\n1                   False         shortAnswer            manual\n2                   False      multipleChoice         automatic\n3                   False            matching         automatic\n4                   False               essay      [unassigned]\n5                   False           trueFalse         automatic",
      "text/html": "<div>\n<style scoped>\n    .dataframe tbody tr th:only-of-type {\n        vertical-align: middle;\n    }\n\n    .dataframe tbody tr th {\n        vertical-align: top;\n    }\n\n    .dataframe thead th {\n        text-align: right;\n    }\n</style>\n<table border=\"1\" class=\"dataframe\">\n  <thead>\n    <tr style=\"text-align: right;\">\n      <th></th>\n      <th>item_is_offline_scored</th>\n      <th>item_type_code_name</th>\n      <th>scoring_type_code</th>\n    </tr>\n  </thead>\n  <tbody>\n    <tr>\n      <th>0</th>\n      <td>False</td>\n      <td>essay</td>\n      <td>manual</td>\n    </tr>\n    <tr>\n      <th>1</th>\n      <td>False</td>\n      <td>shortAnswer</td>\n      <td>manual</td>\n    </tr>\n    <tr>\n      <th>2</th>\n      <td>False</td>\n      <td>multipleChoice</td>\n      <td>automatic</td>\n    </tr>\n    <tr>\n      <th>3</th>\n      <td>False</td>\n      <td>matching</td>\n      <td>automatic</td>\n    </tr>\n    <tr>\n      <th>4</th>\n      <td>False</td>\n      <td>essay</td>\n      <td>[unassigned]</td>\n    </tr>\n    <tr>\n      <th>5</th>\n      <td>False</td>\n      <td>trueFalse</td>\n      <td>automatic</td>\n    </tr>\n  </tbody>\n</table>\n</div>"
     },
     "execution_count": 11,
     "metadata": {},
     "output_type": "execute_result"
    }
   ],
   "source": [
    "dfFlt.filter( F.col('assessment_id') == 748408).select(*cats['itemVars']).distinct().toPandas()"
   ]
  },
  {
   "cell_type": "markdown",
   "metadata": {},
   "source": [
    "- 5 items in assessment 721235\n",
    "- 1 item (true/false) is automatic scored\n",
    "- 2 item essay is one manual scored the other [unassigned]\n",
    "- 1 item short answer is manual scored\n",
    "- 1 item matching is automatic scored\n",
    "\n",
    "###### Display Assignment Attempts for Assessment 748408"
   ]
  },
  {
   "cell_type": "code",
   "execution_count": 9,
   "outputs": [
    {
     "data": {
      "text/plain": "    learner_assignment_attempt_id  assessment_instance_attempt_id  \\\n0                         1002687                         1231041   \n1                         1002584                         1148290   \n2                         1002575                         1110794   \n3                         1002702                         1227978   \n4                         1002648                         1155442   \n5                         1002598                         1098979   \n6                         1002614                         1122674   \n7                         1002831                         1175820   \n8                         1002637                         1117904   \n9                         1002558                         1190008   \n10                        1002669                         1165346   \n11                        1002763                         1098986   \n12                        1002798                         1125030   \n13                        1002807                         1239925   \n14                        1002587                         1098981   \n15                        1002681                         1193414   \n16                        1002814                         1210783   \n\n    assignment_attempt_number  final_score_unweighted  is_force_scored  \\\n0                           1                      38            False   \n1                           1                      44            False   \n2                           1                      23            False   \n3                           1                      32            False   \n4                           1                      46            False   \n5                           1                      39            False   \n6                           1                      40            False   \n7                           1                      44            False   \n8                           1                      43            False   \n9                           1                      44            False   \n10                          1                      20            False   \n11                          1                      41            False   \n12                          1                      39            False   \n13                          1                      45            False   \n14                          1                      37            False   \n15                          1                      11            False   \n16                          1                      29            False   \n\n    is_manual_scoring_required  learner_assignment_attempt_id  \\\n0                        False                        1002687   \n1                        False                        1002584   \n2                        False                        1002575   \n3                        False                        1002702   \n4                        False                        1002648   \n5                        False                        1002598   \n6                        False                        1002614   \n7                        False                        1002831   \n8                        False                        1002637   \n9                        False                        1002558   \n10                       False                        1002669   \n11                       False                        1002763   \n12                       False                        1002798   \n13                       False                        1002807   \n14                       False                        1002587   \n15                       False                        1002681   \n16                       False                        1002814   \n\n   learner_attempt_status  points_possible_unweighted     scored_datetime  \\\n0            fully scored                        48.0 2019-12-13 10:21:57   \n1            fully scored                        48.0 2019-12-13 10:17:50   \n2            fully scored                        48.0 2020-01-08 07:08:16   \n3            fully scored                        48.0 2020-01-09 09:59:44   \n4            fully scored                        48.0 2019-12-13 10:23:15   \n5            fully scored                        48.0 2020-01-08 07:03:42   \n6            fully scored                        48.0 2020-01-08 07:01:42   \n7            fully scored                        48.0 2020-01-08 07:05:32   \n8            fully scored                        48.0 2020-01-09 09:37:13   \n9            fully scored                        48.0 2019-12-13 09:53:22   \n10           fully scored                        48.0 2019-12-13 09:57:47   \n11           fully scored                        48.0 2019-12-13 10:26:42   \n12           fully scored                        48.0 2019-12-13 10:24:01   \n13           fully scored                        48.0 2019-12-13 10:10:05   \n14           fully scored                        48.0 2019-12-13 09:55:54   \n15           fully scored                        48.0 2020-01-10 09:43:23   \n16           fully scored                        48.0 2019-12-13 09:50:26   \n\n    student_start_datetime   student_stop_datetime was_fully_scored_datetime  \\\n0  2019-12-13 17:11:12.994 2019-12-13 18:16:42.211   2019-12-13 18:21:57.891   \n1  2019-12-13 17:11:19.226 2019-12-13 18:01:39.552   2019-12-13 18:17:51.195   \n2  2019-12-13 17:11:40.970 2019-12-13 19:49:42.369   2020-01-08 15:08:16.987   \n3  2019-12-13 17:11:20.474 2019-12-13 19:49:09.331   2020-01-09 17:59:44.637   \n4  2019-12-13 17:10:29.972 2019-12-13 18:12:21.236   2019-12-13 18:23:15.737   \n5  2019-12-11 19:28:13.214 2019-12-13 18:15:09.274   2020-01-08 15:03:42.000   \n6  2019-12-12 18:16:15.273 2019-12-13 18:16:09.253   2020-01-08 15:01:42.000   \n7  2019-12-13 17:12:22.668 2019-12-13 18:16:44.329   2020-01-08 15:05:32.722   \n8  2019-12-13 17:12:22.130 2019-12-13 18:12:51.117   2020-01-09 17:28:08.000   \n9  2019-12-13 17:10:04.346 2019-12-13 17:35:40.186   2019-12-13 17:53:22.357   \n10 2019-12-13 17:15:06.663 2019-12-13 17:55:01.954   2019-12-13 17:57:47.000   \n11 2019-12-13 17:10:31.726 2019-12-13 18:19:38.762   2019-12-13 18:26:43.237   \n12 2019-12-13 17:21:06.881 2019-12-13 18:16:30.858   2019-12-13 18:24:01.922   \n13 2019-12-13 17:10:26.348 2019-12-13 18:07:45.090   2019-12-13 18:10:05.000   \n14 2019-12-13 17:11:40.673 2019-12-13 17:50:54.380   2019-12-13 17:55:54.000   \n15 2019-12-13 17:12:01.207 2019-12-13 18:27:37.020   2020-01-10 17:43:23.734   \n16 2019-12-13 17:12:02.067 2019-12-13 17:47:26.614   2019-12-13 17:50:26.752   \n\n   was_in_progress_datetime was_submitted_datetime_actual  \n0   2019-12-13 17:11:12.994       2019-12-13 18:16:42.211  \n1   2019-12-13 17:11:19.226       2019-12-13 18:01:39.552  \n2   2019-12-13 17:11:40.970       2019-12-13 19:49:42.369  \n3   2019-12-13 17:11:20.474       2019-12-13 19:49:09.331  \n4   2019-12-13 17:10:29.972       2019-12-13 18:12:21.236  \n5   2019-12-11 19:28:13.214       2019-12-13 18:15:09.274  \n6   2019-12-12 18:16:15.273       2019-12-13 18:16:09.253  \n7   2019-12-13 17:12:22.668       2019-12-13 18:16:44.329  \n8   2019-12-13 17:12:22.130       2019-12-13 18:12:51.117  \n9   2019-12-13 17:10:04.346       2019-12-13 17:35:40.186  \n10  2019-12-13 17:15:06.663       2019-12-13 17:55:01.954  \n11  2019-12-13 17:10:31.726       2019-12-13 18:19:38.762  \n12  2019-12-13 17:21:06.881       2019-12-13 18:16:30.858  \n13  2019-12-13 17:10:26.348       2019-12-13 18:07:45.090  \n14  2019-12-13 17:11:40.673       2019-12-13 17:50:54.380  \n15  2019-12-13 17:12:01.207       2019-12-13 18:27:37.020  \n16  2019-12-13 17:12:02.067       2019-12-13 17:47:26.614  ",
      "text/html": "<div>\n<style scoped>\n    .dataframe tbody tr th:only-of-type {\n        vertical-align: middle;\n    }\n\n    .dataframe tbody tr th {\n        vertical-align: top;\n    }\n\n    .dataframe thead th {\n        text-align: right;\n    }\n</style>\n<table border=\"1\" class=\"dataframe\">\n  <thead>\n    <tr style=\"text-align: right;\">\n      <th></th>\n      <th>learner_assignment_attempt_id</th>\n      <th>assessment_instance_attempt_id</th>\n      <th>assignment_attempt_number</th>\n      <th>final_score_unweighted</th>\n      <th>is_force_scored</th>\n      <th>is_manual_scoring_required</th>\n      <th>learner_assignment_attempt_id</th>\n      <th>learner_attempt_status</th>\n      <th>points_possible_unweighted</th>\n      <th>scored_datetime</th>\n      <th>student_start_datetime</th>\n      <th>student_stop_datetime</th>\n      <th>was_fully_scored_datetime</th>\n      <th>was_in_progress_datetime</th>\n      <th>was_submitted_datetime_actual</th>\n    </tr>\n  </thead>\n  <tbody>\n    <tr>\n      <th>0</th>\n      <td>1002687</td>\n      <td>1231041</td>\n      <td>1</td>\n      <td>38</td>\n      <td>False</td>\n      <td>False</td>\n      <td>1002687</td>\n      <td>fully scored</td>\n      <td>48.0</td>\n      <td>2019-12-13 10:21:57</td>\n      <td>2019-12-13 17:11:12.994</td>\n      <td>2019-12-13 18:16:42.211</td>\n      <td>2019-12-13 18:21:57.891</td>\n      <td>2019-12-13 17:11:12.994</td>\n      <td>2019-12-13 18:16:42.211</td>\n    </tr>\n    <tr>\n      <th>1</th>\n      <td>1002584</td>\n      <td>1148290</td>\n      <td>1</td>\n      <td>44</td>\n      <td>False</td>\n      <td>False</td>\n      <td>1002584</td>\n      <td>fully scored</td>\n      <td>48.0</td>\n      <td>2019-12-13 10:17:50</td>\n      <td>2019-12-13 17:11:19.226</td>\n      <td>2019-12-13 18:01:39.552</td>\n      <td>2019-12-13 18:17:51.195</td>\n      <td>2019-12-13 17:11:19.226</td>\n      <td>2019-12-13 18:01:39.552</td>\n    </tr>\n    <tr>\n      <th>2</th>\n      <td>1002575</td>\n      <td>1110794</td>\n      <td>1</td>\n      <td>23</td>\n      <td>False</td>\n      <td>False</td>\n      <td>1002575</td>\n      <td>fully scored</td>\n      <td>48.0</td>\n      <td>2020-01-08 07:08:16</td>\n      <td>2019-12-13 17:11:40.970</td>\n      <td>2019-12-13 19:49:42.369</td>\n      <td>2020-01-08 15:08:16.987</td>\n      <td>2019-12-13 17:11:40.970</td>\n      <td>2019-12-13 19:49:42.369</td>\n    </tr>\n    <tr>\n      <th>3</th>\n      <td>1002702</td>\n      <td>1227978</td>\n      <td>1</td>\n      <td>32</td>\n      <td>False</td>\n      <td>False</td>\n      <td>1002702</td>\n      <td>fully scored</td>\n      <td>48.0</td>\n      <td>2020-01-09 09:59:44</td>\n      <td>2019-12-13 17:11:20.474</td>\n      <td>2019-12-13 19:49:09.331</td>\n      <td>2020-01-09 17:59:44.637</td>\n      <td>2019-12-13 17:11:20.474</td>\n      <td>2019-12-13 19:49:09.331</td>\n    </tr>\n    <tr>\n      <th>4</th>\n      <td>1002648</td>\n      <td>1155442</td>\n      <td>1</td>\n      <td>46</td>\n      <td>False</td>\n      <td>False</td>\n      <td>1002648</td>\n      <td>fully scored</td>\n      <td>48.0</td>\n      <td>2019-12-13 10:23:15</td>\n      <td>2019-12-13 17:10:29.972</td>\n      <td>2019-12-13 18:12:21.236</td>\n      <td>2019-12-13 18:23:15.737</td>\n      <td>2019-12-13 17:10:29.972</td>\n      <td>2019-12-13 18:12:21.236</td>\n    </tr>\n    <tr>\n      <th>5</th>\n      <td>1002598</td>\n      <td>1098979</td>\n      <td>1</td>\n      <td>39</td>\n      <td>False</td>\n      <td>False</td>\n      <td>1002598</td>\n      <td>fully scored</td>\n      <td>48.0</td>\n      <td>2020-01-08 07:03:42</td>\n      <td>2019-12-11 19:28:13.214</td>\n      <td>2019-12-13 18:15:09.274</td>\n      <td>2020-01-08 15:03:42.000</td>\n      <td>2019-12-11 19:28:13.214</td>\n      <td>2019-12-13 18:15:09.274</td>\n    </tr>\n    <tr>\n      <th>6</th>\n      <td>1002614</td>\n      <td>1122674</td>\n      <td>1</td>\n      <td>40</td>\n      <td>False</td>\n      <td>False</td>\n      <td>1002614</td>\n      <td>fully scored</td>\n      <td>48.0</td>\n      <td>2020-01-08 07:01:42</td>\n      <td>2019-12-12 18:16:15.273</td>\n      <td>2019-12-13 18:16:09.253</td>\n      <td>2020-01-08 15:01:42.000</td>\n      <td>2019-12-12 18:16:15.273</td>\n      <td>2019-12-13 18:16:09.253</td>\n    </tr>\n    <tr>\n      <th>7</th>\n      <td>1002831</td>\n      <td>1175820</td>\n      <td>1</td>\n      <td>44</td>\n      <td>False</td>\n      <td>False</td>\n      <td>1002831</td>\n      <td>fully scored</td>\n      <td>48.0</td>\n      <td>2020-01-08 07:05:32</td>\n      <td>2019-12-13 17:12:22.668</td>\n      <td>2019-12-13 18:16:44.329</td>\n      <td>2020-01-08 15:05:32.722</td>\n      <td>2019-12-13 17:12:22.668</td>\n      <td>2019-12-13 18:16:44.329</td>\n    </tr>\n    <tr>\n      <th>8</th>\n      <td>1002637</td>\n      <td>1117904</td>\n      <td>1</td>\n      <td>43</td>\n      <td>False</td>\n      <td>False</td>\n      <td>1002637</td>\n      <td>fully scored</td>\n      <td>48.0</td>\n      <td>2020-01-09 09:37:13</td>\n      <td>2019-12-13 17:12:22.130</td>\n      <td>2019-12-13 18:12:51.117</td>\n      <td>2020-01-09 17:28:08.000</td>\n      <td>2019-12-13 17:12:22.130</td>\n      <td>2019-12-13 18:12:51.117</td>\n    </tr>\n    <tr>\n      <th>9</th>\n      <td>1002558</td>\n      <td>1190008</td>\n      <td>1</td>\n      <td>44</td>\n      <td>False</td>\n      <td>False</td>\n      <td>1002558</td>\n      <td>fully scored</td>\n      <td>48.0</td>\n      <td>2019-12-13 09:53:22</td>\n      <td>2019-12-13 17:10:04.346</td>\n      <td>2019-12-13 17:35:40.186</td>\n      <td>2019-12-13 17:53:22.357</td>\n      <td>2019-12-13 17:10:04.346</td>\n      <td>2019-12-13 17:35:40.186</td>\n    </tr>\n    <tr>\n      <th>10</th>\n      <td>1002669</td>\n      <td>1165346</td>\n      <td>1</td>\n      <td>20</td>\n      <td>False</td>\n      <td>False</td>\n      <td>1002669</td>\n      <td>fully scored</td>\n      <td>48.0</td>\n      <td>2019-12-13 09:57:47</td>\n      <td>2019-12-13 17:15:06.663</td>\n      <td>2019-12-13 17:55:01.954</td>\n      <td>2019-12-13 17:57:47.000</td>\n      <td>2019-12-13 17:15:06.663</td>\n      <td>2019-12-13 17:55:01.954</td>\n    </tr>\n    <tr>\n      <th>11</th>\n      <td>1002763</td>\n      <td>1098986</td>\n      <td>1</td>\n      <td>41</td>\n      <td>False</td>\n      <td>False</td>\n      <td>1002763</td>\n      <td>fully scored</td>\n      <td>48.0</td>\n      <td>2019-12-13 10:26:42</td>\n      <td>2019-12-13 17:10:31.726</td>\n      <td>2019-12-13 18:19:38.762</td>\n      <td>2019-12-13 18:26:43.237</td>\n      <td>2019-12-13 17:10:31.726</td>\n      <td>2019-12-13 18:19:38.762</td>\n    </tr>\n    <tr>\n      <th>12</th>\n      <td>1002798</td>\n      <td>1125030</td>\n      <td>1</td>\n      <td>39</td>\n      <td>False</td>\n      <td>False</td>\n      <td>1002798</td>\n      <td>fully scored</td>\n      <td>48.0</td>\n      <td>2019-12-13 10:24:01</td>\n      <td>2019-12-13 17:21:06.881</td>\n      <td>2019-12-13 18:16:30.858</td>\n      <td>2019-12-13 18:24:01.922</td>\n      <td>2019-12-13 17:21:06.881</td>\n      <td>2019-12-13 18:16:30.858</td>\n    </tr>\n    <tr>\n      <th>13</th>\n      <td>1002807</td>\n      <td>1239925</td>\n      <td>1</td>\n      <td>45</td>\n      <td>False</td>\n      <td>False</td>\n      <td>1002807</td>\n      <td>fully scored</td>\n      <td>48.0</td>\n      <td>2019-12-13 10:10:05</td>\n      <td>2019-12-13 17:10:26.348</td>\n      <td>2019-12-13 18:07:45.090</td>\n      <td>2019-12-13 18:10:05.000</td>\n      <td>2019-12-13 17:10:26.348</td>\n      <td>2019-12-13 18:07:45.090</td>\n    </tr>\n    <tr>\n      <th>14</th>\n      <td>1002587</td>\n      <td>1098981</td>\n      <td>1</td>\n      <td>37</td>\n      <td>False</td>\n      <td>False</td>\n      <td>1002587</td>\n      <td>fully scored</td>\n      <td>48.0</td>\n      <td>2019-12-13 09:55:54</td>\n      <td>2019-12-13 17:11:40.673</td>\n      <td>2019-12-13 17:50:54.380</td>\n      <td>2019-12-13 17:55:54.000</td>\n      <td>2019-12-13 17:11:40.673</td>\n      <td>2019-12-13 17:50:54.380</td>\n    </tr>\n    <tr>\n      <th>15</th>\n      <td>1002681</td>\n      <td>1193414</td>\n      <td>1</td>\n      <td>11</td>\n      <td>False</td>\n      <td>False</td>\n      <td>1002681</td>\n      <td>fully scored</td>\n      <td>48.0</td>\n      <td>2020-01-10 09:43:23</td>\n      <td>2019-12-13 17:12:01.207</td>\n      <td>2019-12-13 18:27:37.020</td>\n      <td>2020-01-10 17:43:23.734</td>\n      <td>2019-12-13 17:12:01.207</td>\n      <td>2019-12-13 18:27:37.020</td>\n    </tr>\n    <tr>\n      <th>16</th>\n      <td>1002814</td>\n      <td>1210783</td>\n      <td>1</td>\n      <td>29</td>\n      <td>False</td>\n      <td>False</td>\n      <td>1002814</td>\n      <td>fully scored</td>\n      <td>48.0</td>\n      <td>2019-12-13 09:50:26</td>\n      <td>2019-12-13 17:12:02.067</td>\n      <td>2019-12-13 17:47:26.614</td>\n      <td>2019-12-13 17:50:26.752</td>\n      <td>2019-12-13 17:12:02.067</td>\n      <td>2019-12-13 17:47:26.614</td>\n    </tr>\n  </tbody>\n</table>\n</div>"
     },
     "execution_count": 9,
     "metadata": {},
     "output_type": "execute_result"
    }
   ],
   "source": [
    "dfFlt.filter( F.col('assessment_id') == 748408 ).select('learner_assignment_attempt_id', *cats['assignmentAttemptVars']).distinct().toPandas()"
   ],
   "metadata": {
    "collapsed": false,
    "pycharm": {
     "name": "#%%\n"
    }
   }
  },
  {
   "cell_type": "markdown",
   "metadata": {
    "pycharm": {
     "name": "#%% md\n"
    }
   },
   "source": [
    "- 16 attempts\n",
    "- Majority of students started (student_start_datetime) and stopped (student_stop_datetime) on 2019-12-13\n",
    "- Scored (was_fully_scored_datetime) between 12/12 and 1/10\n",
    "\n",
    "###### Display Assignment Attempt Items for Attempt 1098979"
   ]
  },
  {
   "cell_type": "code",
   "execution_count": 8,
   "outputs": [
    {
     "data": {
      "text/plain": "    learner_assigned_item_attempt_id  assessment_item_response_id  \\\n0                            1526587                      1548819   \n1                            1526589                      1645778   \n2                            1526598                      1614874   \n3                            1438642                      1648977   \n4                            1526590                      1589534   \n5                            1526586                      1657844   \n6                            1526592                      1572928   \n7                            1526585                      1554352   \n8                            1526596                      1622899   \n9                            1526593                      1570752   \n10                           1526581                      1650527   \n11                           1526582                      1619280   \n12                           1526584                      1599166   \n13                           1526597                      1626774   \n14                           1526591                      1635215   \n15                           1526594                      1569829   \n16                           1526583                      1627583   \n17                           1526595                      1577219   \n18                           1526588                      1600362   \n\n   assigned_item_status  is_deleted  learner_assigned_item_attempt_id  \\\n0                scored       False                           1526587   \n1                scored       False                           1526589   \n2                scored       False                           1526598   \n3                scored       False                           1438642   \n4                scored       False                           1526590   \n5                scored       False                           1526586   \n6                scored       False                           1526592   \n7                scored       False                           1526585   \n8                scored       False                           1526596   \n9                scored       False                           1526593   \n10               scored       False                           1526581   \n11               scored       False                           1526582   \n12               scored       False                           1526584   \n13               scored       False                           1526597   \n14               scored       False                           1526591   \n15               scored       False                           1526594   \n16               scored       False                           1526583   \n17               scored       False                           1526595   \n18               scored       False                           1526588   \n\n   response_correctness  \n0               correct  \n1               correct  \n2               correct  \n3               correct  \n4               correct  \n5               correct  \n6               correct  \n7               correct  \n8     partially_correct  \n9               correct  \n10              correct  \n11            incorrect  \n12              correct  \n13              correct  \n14            incorrect  \n15            incorrect  \n16              correct  \n17              correct  \n18              correct  ",
      "text/html": "<div>\n<style scoped>\n    .dataframe tbody tr th:only-of-type {\n        vertical-align: middle;\n    }\n\n    .dataframe tbody tr th {\n        vertical-align: top;\n    }\n\n    .dataframe thead th {\n        text-align: right;\n    }\n</style>\n<table border=\"1\" class=\"dataframe\">\n  <thead>\n    <tr style=\"text-align: right;\">\n      <th></th>\n      <th>learner_assigned_item_attempt_id</th>\n      <th>assessment_item_response_id</th>\n      <th>assigned_item_status</th>\n      <th>is_deleted</th>\n      <th>learner_assigned_item_attempt_id</th>\n      <th>response_correctness</th>\n    </tr>\n  </thead>\n  <tbody>\n    <tr>\n      <th>0</th>\n      <td>1526587</td>\n      <td>1548819</td>\n      <td>scored</td>\n      <td>False</td>\n      <td>1526587</td>\n      <td>correct</td>\n    </tr>\n    <tr>\n      <th>1</th>\n      <td>1526589</td>\n      <td>1645778</td>\n      <td>scored</td>\n      <td>False</td>\n      <td>1526589</td>\n      <td>correct</td>\n    </tr>\n    <tr>\n      <th>2</th>\n      <td>1526598</td>\n      <td>1614874</td>\n      <td>scored</td>\n      <td>False</td>\n      <td>1526598</td>\n      <td>correct</td>\n    </tr>\n    <tr>\n      <th>3</th>\n      <td>1438642</td>\n      <td>1648977</td>\n      <td>scored</td>\n      <td>False</td>\n      <td>1438642</td>\n      <td>correct</td>\n    </tr>\n    <tr>\n      <th>4</th>\n      <td>1526590</td>\n      <td>1589534</td>\n      <td>scored</td>\n      <td>False</td>\n      <td>1526590</td>\n      <td>correct</td>\n    </tr>\n    <tr>\n      <th>5</th>\n      <td>1526586</td>\n      <td>1657844</td>\n      <td>scored</td>\n      <td>False</td>\n      <td>1526586</td>\n      <td>correct</td>\n    </tr>\n    <tr>\n      <th>6</th>\n      <td>1526592</td>\n      <td>1572928</td>\n      <td>scored</td>\n      <td>False</td>\n      <td>1526592</td>\n      <td>correct</td>\n    </tr>\n    <tr>\n      <th>7</th>\n      <td>1526585</td>\n      <td>1554352</td>\n      <td>scored</td>\n      <td>False</td>\n      <td>1526585</td>\n      <td>correct</td>\n    </tr>\n    <tr>\n      <th>8</th>\n      <td>1526596</td>\n      <td>1622899</td>\n      <td>scored</td>\n      <td>False</td>\n      <td>1526596</td>\n      <td>partially_correct</td>\n    </tr>\n    <tr>\n      <th>9</th>\n      <td>1526593</td>\n      <td>1570752</td>\n      <td>scored</td>\n      <td>False</td>\n      <td>1526593</td>\n      <td>correct</td>\n    </tr>\n    <tr>\n      <th>10</th>\n      <td>1526581</td>\n      <td>1650527</td>\n      <td>scored</td>\n      <td>False</td>\n      <td>1526581</td>\n      <td>correct</td>\n    </tr>\n    <tr>\n      <th>11</th>\n      <td>1526582</td>\n      <td>1619280</td>\n      <td>scored</td>\n      <td>False</td>\n      <td>1526582</td>\n      <td>incorrect</td>\n    </tr>\n    <tr>\n      <th>12</th>\n      <td>1526584</td>\n      <td>1599166</td>\n      <td>scored</td>\n      <td>False</td>\n      <td>1526584</td>\n      <td>correct</td>\n    </tr>\n    <tr>\n      <th>13</th>\n      <td>1526597</td>\n      <td>1626774</td>\n      <td>scored</td>\n      <td>False</td>\n      <td>1526597</td>\n      <td>correct</td>\n    </tr>\n    <tr>\n      <th>14</th>\n      <td>1526591</td>\n      <td>1635215</td>\n      <td>scored</td>\n      <td>False</td>\n      <td>1526591</td>\n      <td>incorrect</td>\n    </tr>\n    <tr>\n      <th>15</th>\n      <td>1526594</td>\n      <td>1569829</td>\n      <td>scored</td>\n      <td>False</td>\n      <td>1526594</td>\n      <td>incorrect</td>\n    </tr>\n    <tr>\n      <th>16</th>\n      <td>1526583</td>\n      <td>1627583</td>\n      <td>scored</td>\n      <td>False</td>\n      <td>1526583</td>\n      <td>correct</td>\n    </tr>\n    <tr>\n      <th>17</th>\n      <td>1526595</td>\n      <td>1577219</td>\n      <td>scored</td>\n      <td>False</td>\n      <td>1526595</td>\n      <td>correct</td>\n    </tr>\n    <tr>\n      <th>18</th>\n      <td>1526588</td>\n      <td>1600362</td>\n      <td>scored</td>\n      <td>False</td>\n      <td>1526588</td>\n      <td>correct</td>\n    </tr>\n  </tbody>\n</table>\n</div>"
     },
     "execution_count": 8,
     "metadata": {},
     "output_type": "execute_result"
    }
   ],
   "source": [
    "dfFlt.filter( F.col('assessment_instance_attempt_id') == 1098979 ).select('learner_assigned_item_attempt_id', *cats['itemAttemptVars']).distinct().toPandas()"
   ],
   "metadata": {
    "collapsed": false,
    "pycharm": {
     "name": "#%%\n"
    }
   }
  },
  {
   "cell_type": "markdown",
   "source": [
    "- 18 items\n",
    "- All answered (scored)\n",
    "  - 14 correct\n",
    "  - 3 incorrect\n",
    "  - on partially correct\n"
   ],
   "metadata": {
    "collapsed": false
   }
  },
  {
   "cell_type": "markdown",
   "source": [
    "###### Display Assignment Attempt Items for Attempt 1193414"
   ],
   "metadata": {
    "collapsed": false
   }
  },
  {
   "cell_type": "code",
   "execution_count": 22,
   "outputs": [
    {
     "data": {
      "text/plain": "    assessment_item_response_id assigned_item_status  is_deleted  \\\n0                       1662814               scored       False   \n1                       1556132               scored       False   \n2                       1642668               scored       False   \n3                       1575456               scored       False   \n4                       1624295               scored       False   \n5                       1563437               scored       False   \n6                       1552133               scored       False   \n7                       1609927               scored       False   \n8                       1631174               scored       False   \n9                       1583454               scored       False   \n10                      1555799               scored       False   \n11                      1654912               scored       False   \n12                      1559832               scored       False   \n13                      1635745               scored       False   \n14                      1610358               scored       False   \n15                      1623177               scored       False   \n16                      1607672               scored       False   \n17                      1617860               scored       False   \n18                      1567338               scored       False   \n\n    learner_assigned_item_attempt_id response_correctness  \n0                            1400105              correct  \n1                            1400108            incorrect  \n2                            1400094            incorrect  \n3                            1400110            incorrect  \n4                            1400101            incorrect  \n5                            1400114            incorrect  \n6                            1400096              correct  \n7                            1400099              correct  \n8                            1400095            incorrect  \n9                            1400104            incorrect  \n10                           1400097            incorrect  \n11                           1400100            incorrect  \n12                           1400111              correct  \n13                           1400109              correct  \n14                           1400112              correct  \n15                           1400103            incorrect  \n16                           1400098            incorrect  \n17                           1400113              correct  \n18                           1400102            incorrect  ",
      "text/html": "<div>\n<style scoped>\n    .dataframe tbody tr th:only-of-type {\n        vertical-align: middle;\n    }\n\n    .dataframe tbody tr th {\n        vertical-align: top;\n    }\n\n    .dataframe thead th {\n        text-align: right;\n    }\n</style>\n<table border=\"1\" class=\"dataframe\">\n  <thead>\n    <tr style=\"text-align: right;\">\n      <th></th>\n      <th>assessment_item_response_id</th>\n      <th>assigned_item_status</th>\n      <th>is_deleted</th>\n      <th>learner_assigned_item_attempt_id</th>\n      <th>response_correctness</th>\n    </tr>\n  </thead>\n  <tbody>\n    <tr>\n      <th>0</th>\n      <td>1662814</td>\n      <td>scored</td>\n      <td>False</td>\n      <td>1400105</td>\n      <td>correct</td>\n    </tr>\n    <tr>\n      <th>1</th>\n      <td>1556132</td>\n      <td>scored</td>\n      <td>False</td>\n      <td>1400108</td>\n      <td>incorrect</td>\n    </tr>\n    <tr>\n      <th>2</th>\n      <td>1642668</td>\n      <td>scored</td>\n      <td>False</td>\n      <td>1400094</td>\n      <td>incorrect</td>\n    </tr>\n    <tr>\n      <th>3</th>\n      <td>1575456</td>\n      <td>scored</td>\n      <td>False</td>\n      <td>1400110</td>\n      <td>incorrect</td>\n    </tr>\n    <tr>\n      <th>4</th>\n      <td>1624295</td>\n      <td>scored</td>\n      <td>False</td>\n      <td>1400101</td>\n      <td>incorrect</td>\n    </tr>\n    <tr>\n      <th>5</th>\n      <td>1563437</td>\n      <td>scored</td>\n      <td>False</td>\n      <td>1400114</td>\n      <td>incorrect</td>\n    </tr>\n    <tr>\n      <th>6</th>\n      <td>1552133</td>\n      <td>scored</td>\n      <td>False</td>\n      <td>1400096</td>\n      <td>correct</td>\n    </tr>\n    <tr>\n      <th>7</th>\n      <td>1609927</td>\n      <td>scored</td>\n      <td>False</td>\n      <td>1400099</td>\n      <td>correct</td>\n    </tr>\n    <tr>\n      <th>8</th>\n      <td>1631174</td>\n      <td>scored</td>\n      <td>False</td>\n      <td>1400095</td>\n      <td>incorrect</td>\n    </tr>\n    <tr>\n      <th>9</th>\n      <td>1583454</td>\n      <td>scored</td>\n      <td>False</td>\n      <td>1400104</td>\n      <td>incorrect</td>\n    </tr>\n    <tr>\n      <th>10</th>\n      <td>1555799</td>\n      <td>scored</td>\n      <td>False</td>\n      <td>1400097</td>\n      <td>incorrect</td>\n    </tr>\n    <tr>\n      <th>11</th>\n      <td>1654912</td>\n      <td>scored</td>\n      <td>False</td>\n      <td>1400100</td>\n      <td>incorrect</td>\n    </tr>\n    <tr>\n      <th>12</th>\n      <td>1559832</td>\n      <td>scored</td>\n      <td>False</td>\n      <td>1400111</td>\n      <td>correct</td>\n    </tr>\n    <tr>\n      <th>13</th>\n      <td>1635745</td>\n      <td>scored</td>\n      <td>False</td>\n      <td>1400109</td>\n      <td>correct</td>\n    </tr>\n    <tr>\n      <th>14</th>\n      <td>1610358</td>\n      <td>scored</td>\n      <td>False</td>\n      <td>1400112</td>\n      <td>correct</td>\n    </tr>\n    <tr>\n      <th>15</th>\n      <td>1623177</td>\n      <td>scored</td>\n      <td>False</td>\n      <td>1400103</td>\n      <td>incorrect</td>\n    </tr>\n    <tr>\n      <th>16</th>\n      <td>1607672</td>\n      <td>scored</td>\n      <td>False</td>\n      <td>1400098</td>\n      <td>incorrect</td>\n    </tr>\n    <tr>\n      <th>17</th>\n      <td>1617860</td>\n      <td>scored</td>\n      <td>False</td>\n      <td>1400113</td>\n      <td>correct</td>\n    </tr>\n    <tr>\n      <th>18</th>\n      <td>1567338</td>\n      <td>scored</td>\n      <td>False</td>\n      <td>1400102</td>\n      <td>incorrect</td>\n    </tr>\n  </tbody>\n</table>\n</div>"
     },
     "execution_count": 22,
     "metadata": {},
     "output_type": "execute_result"
    }
   ],
   "source": [
    "dfFlt.filter( F.col('assessment_instance_attempt_id') == 1193414 ).select(*cats['itemAttemptVars']).distinct().toPandas()"
   ],
   "metadata": {
    "collapsed": false,
    "pycharm": {
     "name": "#%%\n"
    }
   }
  },
  {
   "cell_type": "markdown",
   "source": [
    "- 18 items\n",
    "- All answered (scored)\n",
    "  - 7 correct\n",
    "  - 11 incorrect\n"
   ],
   "metadata": {
    "collapsed": false
   }
  },
  {
   "cell_type": "code",
   "execution_count": 22,
   "outputs": [],
   "source": [],
   "metadata": {
    "collapsed": false,
    "pycharm": {
     "name": "#%%\n"
    }
   }
  }
 ],
 "metadata": {
  "kernelspec": {
   "display_name": "Python 3",
   "language": "python",
   "name": "python3"
  },
  "language_info": {
   "codemirror_mode": {
    "name": "ipython",
    "version": 3
   },
   "file_extension": ".py",
   "mimetype": "text/x-python",
   "name": "python",
   "nbconvert_exporter": "python",
   "pygments_lexer": "ipython3",
   "version": "3.6.3"
  }
 },
 "nbformat": 4,
 "nbformat_minor": 1
}