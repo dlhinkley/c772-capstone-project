{
 "cells": [
  {
   "cell_type": "markdown",
   "metadata": {},
   "source": [
    "### Display Sample Data"
   ]
  },
  {
   "cell_type": "code",
   "execution_count": 3,
   "metadata": {
    "execution": {
     "iopub.execute_input": "2020-10-28T01:08:05.721791Z",
     "iopub.status.busy": "2020-10-28T01:08:05.718598Z",
     "iopub.status.idle": "2020-10-28T01:08:21.159736Z",
     "shell.execute_reply": "2020-10-28T01:08:21.161231Z"
    },
    "pycharm": {
     "name": "#%%\n"
    }
   },
   "outputs": [],
   "source": [
    "%%capture\n",
    "\n",
    "%run '../lib/libraries.ipynb'"
   ]
  },
  {
   "cell_type": "code",
   "execution_count": 4,
   "metadata": {
    "execution": {
     "iopub.execute_input": "2020-10-28T01:08:21.170710Z",
     "iopub.status.busy": "2020-10-28T01:08:21.169043Z",
     "iopub.status.idle": "2020-10-28T01:08:29.844522Z",
     "shell.execute_reply": "2020-10-28T01:08:29.843803Z"
    },
    "pycharm": {
     "name": "#%%\n"
    }
   },
   "outputs": [],
   "source": [
    "filterDf = load_df('filterDf')\n",
    "cats = get_var_cats()"
   ]
  },
  {
   "cell_type": "markdown",
   "metadata": {
    "pycharm": {
     "name": "#%% md\n"
    }
   },
   "source": [
    "#### Display Sample Data"
   ]
  },
  {
   "cell_type": "code",
   "execution_count": 5,
   "metadata": {
    "execution": {
     "iopub.execute_input": "2020-10-28T01:08:29.850817Z",
     "iopub.status.busy": "2020-10-28T01:08:29.849821Z",
     "iopub.status.idle": "2020-10-28T01:08:32.224650Z",
     "shell.execute_reply": "2020-10-28T01:08:32.225658Z"
    },
    "pycharm": {
     "name": "#%%\n"
    }
   },
   "outputs": [
    {
     "data": {
      "text/plain": "   org_id\n0  117713\n1  130845\n2   19164",
      "text/html": "<div>\n<style scoped>\n    .dataframe tbody tr th:only-of-type {\n        vertical-align: middle;\n    }\n\n    .dataframe tbody tr th {\n        vertical-align: top;\n    }\n\n    .dataframe thead th {\n        text-align: right;\n    }\n</style>\n<table border=\"1\" class=\"dataframe\">\n  <thead>\n    <tr style=\"text-align: right;\">\n      <th></th>\n      <th>org_id</th>\n    </tr>\n  </thead>\n  <tbody>\n    <tr>\n      <th>0</th>\n      <td>117713</td>\n    </tr>\n    <tr>\n      <th>1</th>\n      <td>130845</td>\n    </tr>\n    <tr>\n      <th>2</th>\n      <td>19164</td>\n    </tr>\n  </tbody>\n</table>\n</div>"
     },
     "execution_count": 5,
     "metadata": {},
     "output_type": "execute_result"
    }
   ],
   "source": [
    "filterDf.select(*cats['orgVars']).distinct().toPandas()"
   ]
  },
  {
   "cell_type": "markdown",
   "metadata": {},
   "source": [
    "- 3 organizations"
   ]
  },
  {
   "cell_type": "code",
   "execution_count": 6,
   "metadata": {
    "execution": {
     "iopub.execute_input": "2020-10-28T01:08:32.234408Z",
     "iopub.status.busy": "2020-10-28T01:08:32.232949Z",
     "iopub.status.idle": "2020-10-28T01:08:33.965807Z",
     "shell.execute_reply": "2020-10-28T01:08:33.966796Z"
    },
    "pycharm": {
     "name": "#%%\n"
    }
   },
   "outputs": [
    {
     "data": {
      "text/plain": "    section_id\n0       151413\n1       190290\n2       171183\n3       157833\n4       190142\n5       189069\n6       156185\n7       172320\n8       156942\n9       165855\n10      189587\n11      168233\n12      180635\n13      154760\n14      182278\n15      171796\n16      177931\n17      159774",
      "text/html": "<div>\n<style scoped>\n    .dataframe tbody tr th:only-of-type {\n        vertical-align: middle;\n    }\n\n    .dataframe tbody tr th {\n        vertical-align: top;\n    }\n\n    .dataframe thead th {\n        text-align: right;\n    }\n</style>\n<table border=\"1\" class=\"dataframe\">\n  <thead>\n    <tr style=\"text-align: right;\">\n      <th></th>\n      <th>section_id</th>\n    </tr>\n  </thead>\n  <tbody>\n    <tr>\n      <th>0</th>\n      <td>151413</td>\n    </tr>\n    <tr>\n      <th>1</th>\n      <td>190290</td>\n    </tr>\n    <tr>\n      <th>2</th>\n      <td>171183</td>\n    </tr>\n    <tr>\n      <th>3</th>\n      <td>157833</td>\n    </tr>\n    <tr>\n      <th>4</th>\n      <td>190142</td>\n    </tr>\n    <tr>\n      <th>5</th>\n      <td>189069</td>\n    </tr>\n    <tr>\n      <th>6</th>\n      <td>156185</td>\n    </tr>\n    <tr>\n      <th>7</th>\n      <td>172320</td>\n    </tr>\n    <tr>\n      <th>8</th>\n      <td>156942</td>\n    </tr>\n    <tr>\n      <th>9</th>\n      <td>165855</td>\n    </tr>\n    <tr>\n      <th>10</th>\n      <td>189587</td>\n    </tr>\n    <tr>\n      <th>11</th>\n      <td>168233</td>\n    </tr>\n    <tr>\n      <th>12</th>\n      <td>180635</td>\n    </tr>\n    <tr>\n      <th>13</th>\n      <td>154760</td>\n    </tr>\n    <tr>\n      <th>14</th>\n      <td>182278</td>\n    </tr>\n    <tr>\n      <th>15</th>\n      <td>171796</td>\n    </tr>\n    <tr>\n      <th>16</th>\n      <td>177931</td>\n    </tr>\n    <tr>\n      <th>17</th>\n      <td>159774</td>\n    </tr>\n  </tbody>\n</table>\n</div>"
     },
     "execution_count": 6,
     "metadata": {},
     "output_type": "execute_result"
    }
   ],
   "source": [
    "filterDf.filter( F.col('org_id') == 19164).select(*cats['sectionVars']).distinct().toPandas()"
   ]
  },
  {
   "cell_type": "markdown",
   "metadata": {},
   "source": [
    "- 18 sections in organization 19164"
   ]
  },
  {
   "cell_type": "code",
   "execution_count": 7,
   "metadata": {
    "execution": {
     "iopub.execute_input": "2020-10-28T01:08:33.975554Z",
     "iopub.status.busy": "2020-10-28T01:08:33.974055Z",
     "iopub.status.idle": "2020-10-28T01:08:35.537280Z",
     "shell.execute_reply": "2020-10-28T01:08:35.540623Z"
    },
    "pycharm": {
     "name": "#%%\n"
    }
   },
   "outputs": [
    {
     "data": {
      "text/plain": "    learner_id\n0       965111\n1      1002217\n2       967083\n3       950185\n4      1031739\n5       925271\n6      1023242\n7       917841\n8       974861\n9      1001748\n10     1029053\n11     1039336\n12      942005\n13      985440\n14      933880\n15      972118\n16     1007205\n17     1024717\n18      999101\n19     1019159\n20      972699\n21      901700\n22     1001567\n23      915319",
      "text/html": "<div>\n<style scoped>\n    .dataframe tbody tr th:only-of-type {\n        vertical-align: middle;\n    }\n\n    .dataframe tbody tr th {\n        vertical-align: top;\n    }\n\n    .dataframe thead th {\n        text-align: right;\n    }\n</style>\n<table border=\"1\" class=\"dataframe\">\n  <thead>\n    <tr style=\"text-align: right;\">\n      <th></th>\n      <th>learner_id</th>\n    </tr>\n  </thead>\n  <tbody>\n    <tr>\n      <th>0</th>\n      <td>965111</td>\n    </tr>\n    <tr>\n      <th>1</th>\n      <td>1002217</td>\n    </tr>\n    <tr>\n      <th>2</th>\n      <td>967083</td>\n    </tr>\n    <tr>\n      <th>3</th>\n      <td>950185</td>\n    </tr>\n    <tr>\n      <th>4</th>\n      <td>1031739</td>\n    </tr>\n    <tr>\n      <th>5</th>\n      <td>925271</td>\n    </tr>\n    <tr>\n      <th>6</th>\n      <td>1023242</td>\n    </tr>\n    <tr>\n      <th>7</th>\n      <td>917841</td>\n    </tr>\n    <tr>\n      <th>8</th>\n      <td>974861</td>\n    </tr>\n    <tr>\n      <th>9</th>\n      <td>1001748</td>\n    </tr>\n    <tr>\n      <th>10</th>\n      <td>1029053</td>\n    </tr>\n    <tr>\n      <th>11</th>\n      <td>1039336</td>\n    </tr>\n    <tr>\n      <th>12</th>\n      <td>942005</td>\n    </tr>\n    <tr>\n      <th>13</th>\n      <td>985440</td>\n    </tr>\n    <tr>\n      <th>14</th>\n      <td>933880</td>\n    </tr>\n    <tr>\n      <th>15</th>\n      <td>972118</td>\n    </tr>\n    <tr>\n      <th>16</th>\n      <td>1007205</td>\n    </tr>\n    <tr>\n      <th>17</th>\n      <td>1024717</td>\n    </tr>\n    <tr>\n      <th>18</th>\n      <td>999101</td>\n    </tr>\n    <tr>\n      <th>19</th>\n      <td>1019159</td>\n    </tr>\n    <tr>\n      <th>20</th>\n      <td>972699</td>\n    </tr>\n    <tr>\n      <th>21</th>\n      <td>901700</td>\n    </tr>\n    <tr>\n      <th>22</th>\n      <td>1001567</td>\n    </tr>\n    <tr>\n      <th>23</th>\n      <td>915319</td>\n    </tr>\n  </tbody>\n</table>\n</div>"
     },
     "execution_count": 7,
     "metadata": {},
     "output_type": "execute_result"
    }
   ],
   "source": [
    "filterDf.filter( F.col('section_id') == 168233).select(*cats['learnerVars']).distinct().toPandas()"
   ]
  },
  {
   "cell_type": "markdown",
   "metadata": {},
   "source": [
    "- 24 learners in section 168233"
   ]
  },
  {
   "cell_type": "code",
   "execution_count": 8,
   "metadata": {
    "execution": {
     "iopub.execute_input": "2020-10-28T01:08:35.559811Z",
     "iopub.status.busy": "2020-10-28T01:08:35.556767Z",
     "iopub.status.idle": "2020-10-28T01:08:37.290101Z",
     "shell.execute_reply": "2020-10-28T01:08:37.290988Z"
    },
    "pycharm": {
     "name": "#%%\n"
    },
    "scrolled": true
   },
   "outputs": [
    {
     "data": {
      "text/plain": "   assessment_id  assessment_instance_id\n0         318077                  482141\n1         319406                  469908\n2         321665                  451549\n3         306799                  456508\n4         318077                  468545\n5         320202                  470094\n6         307990                  454039",
      "text/html": "<div>\n<style scoped>\n    .dataframe tbody tr th:only-of-type {\n        vertical-align: middle;\n    }\n\n    .dataframe tbody tr th {\n        vertical-align: top;\n    }\n\n    .dataframe thead th {\n        text-align: right;\n    }\n</style>\n<table border=\"1\" class=\"dataframe\">\n  <thead>\n    <tr style=\"text-align: right;\">\n      <th></th>\n      <th>assessment_id</th>\n      <th>assessment_instance_id</th>\n    </tr>\n  </thead>\n  <tbody>\n    <tr>\n      <th>0</th>\n      <td>318077</td>\n      <td>482141</td>\n    </tr>\n    <tr>\n      <th>1</th>\n      <td>319406</td>\n      <td>469908</td>\n    </tr>\n    <tr>\n      <th>2</th>\n      <td>321665</td>\n      <td>451549</td>\n    </tr>\n    <tr>\n      <th>3</th>\n      <td>306799</td>\n      <td>456508</td>\n    </tr>\n    <tr>\n      <th>4</th>\n      <td>318077</td>\n      <td>468545</td>\n    </tr>\n    <tr>\n      <th>5</th>\n      <td>320202</td>\n      <td>470094</td>\n    </tr>\n    <tr>\n      <th>6</th>\n      <td>307990</td>\n      <td>454039</td>\n    </tr>\n  </tbody>\n</table>\n</div>"
     },
     "execution_count": 8,
     "metadata": {},
     "output_type": "execute_result"
    }
   ],
   "source": [
    "filterDf.filter( F.col('section_id') == 168233).select(*cats['assessmentVars']).distinct().toPandas()"
   ]
  },
  {
   "cell_type": "markdown",
   "metadata": {},
   "source": [
    "- 7 assessments in section 168233\n",
    "- one instance per assessment per section"
   ]
  },
  {
   "cell_type": "markdown",
   "metadata": {},
   "source": [
    "###### Display Assignments for Section 498941"
   ]
  },
  {
   "cell_type": "code",
   "execution_count": 9,
   "metadata": {
    "execution": {
     "iopub.execute_input": "2020-10-28T01:08:37.300586Z",
     "iopub.status.busy": "2020-10-28T01:08:37.298978Z",
     "iopub.status.idle": "2020-10-28T01:08:41.454195Z",
     "shell.execute_reply": "2020-10-28T01:08:41.455536Z"
    },
    "pycharm": {
     "name": "#%%\n"
    }
   },
   "outputs": [
    {
     "data": {
      "text/plain": "   assessment_id  assessment_instance_id assignment_due_date  \\\n0         307990                  454039 2019-10-26 04:59:00   \n1         319406                  469908 2019-11-09 05:59:00   \n2         306799                  456508 2020-01-18 05:59:00   \n3         320202                  470094 2020-01-23 05:59:00   \n4         318077                  468545 2020-02-28 21:00:00   \n5         318077                  482141 2020-02-29 05:59:00   \n6         321665                  451549 2020-03-11 04:59:00   \n\n  assignment_final_submission_date  assignment_late_submission  \\\n0              2019-10-26 04:59:00                       False   \n1              2019-11-09 05:59:00                       False   \n2              2020-01-18 05:59:00                       False   \n3              2020-01-23 05:59:00                       False   \n4              2020-02-28 21:00:00                       False   \n5              2020-02-29 05:59:00                       False   \n6              2020-03-11 04:59:00                       False   \n\n   assignment_max_attempts assignment_start_date ced_assignment_type_code  \\\n0                        1   2019-10-24 05:00:00               assessment   \n1                        1   2019-10-29 05:00:00               assessment   \n2                        1   2020-01-10 06:00:00               assessment   \n3                        1   2019-12-12 06:00:00               assessment   \n4                        1   2020-02-26 06:00:00               assessment   \n5                        1   2020-02-27 06:00:00               assessment   \n6                        1   2020-03-09 05:00:00               assessment   \n\n   is_affecting_grade max_student_stop_datetime min_student_start_datetime  \\\n0                True   2019-10-25 20:08:20.472    2019-10-25 18:54:07.661   \n1                True   2019-11-04 21:25:08.370    2019-10-31 19:23:20.802   \n2                True   2020-01-17 19:39:37.415    2020-01-10 20:22:47.150   \n3                True   2020-01-17 19:27:50.274    2020-01-08 20:18:10.320   \n4                True   2020-02-28 21:00:06.870    2020-02-26 20:12:54.385   \n5                True   2020-02-29 06:00:06.925    2020-02-27 20:31:07.210   \n6                True   2020-03-11 05:00:10.856    2020-03-09 19:12:23.609   \n\n   number_of_distinct_instance_items  number_of_learners  \n0                                  4                  25  \n1                                 21                  25  \n2                                 21                  25  \n3                                  6                  25  \n4                                 41                  25  \n5                                 41                   1  \n6                                 20                  25  ",
      "text/html": "<div>\n<style scoped>\n    .dataframe tbody tr th:only-of-type {\n        vertical-align: middle;\n    }\n\n    .dataframe tbody tr th {\n        vertical-align: top;\n    }\n\n    .dataframe thead th {\n        text-align: right;\n    }\n</style>\n<table border=\"1\" class=\"dataframe\">\n  <thead>\n    <tr style=\"text-align: right;\">\n      <th></th>\n      <th>assessment_id</th>\n      <th>assessment_instance_id</th>\n      <th>assignment_due_date</th>\n      <th>assignment_final_submission_date</th>\n      <th>assignment_late_submission</th>\n      <th>assignment_max_attempts</th>\n      <th>assignment_start_date</th>\n      <th>ced_assignment_type_code</th>\n      <th>is_affecting_grade</th>\n      <th>max_student_stop_datetime</th>\n      <th>min_student_start_datetime</th>\n      <th>number_of_distinct_instance_items</th>\n      <th>number_of_learners</th>\n    </tr>\n  </thead>\n  <tbody>\n    <tr>\n      <th>0</th>\n      <td>307990</td>\n      <td>454039</td>\n      <td>2019-10-26 04:59:00</td>\n      <td>2019-10-26 04:59:00</td>\n      <td>False</td>\n      <td>1</td>\n      <td>2019-10-24 05:00:00</td>\n      <td>assessment</td>\n      <td>True</td>\n      <td>2019-10-25 20:08:20.472</td>\n      <td>2019-10-25 18:54:07.661</td>\n      <td>4</td>\n      <td>25</td>\n    </tr>\n    <tr>\n      <th>1</th>\n      <td>319406</td>\n      <td>469908</td>\n      <td>2019-11-09 05:59:00</td>\n      <td>2019-11-09 05:59:00</td>\n      <td>False</td>\n      <td>1</td>\n      <td>2019-10-29 05:00:00</td>\n      <td>assessment</td>\n      <td>True</td>\n      <td>2019-11-04 21:25:08.370</td>\n      <td>2019-10-31 19:23:20.802</td>\n      <td>21</td>\n      <td>25</td>\n    </tr>\n    <tr>\n      <th>2</th>\n      <td>306799</td>\n      <td>456508</td>\n      <td>2020-01-18 05:59:00</td>\n      <td>2020-01-18 05:59:00</td>\n      <td>False</td>\n      <td>1</td>\n      <td>2020-01-10 06:00:00</td>\n      <td>assessment</td>\n      <td>True</td>\n      <td>2020-01-17 19:39:37.415</td>\n      <td>2020-01-10 20:22:47.150</td>\n      <td>21</td>\n      <td>25</td>\n    </tr>\n    <tr>\n      <th>3</th>\n      <td>320202</td>\n      <td>470094</td>\n      <td>2020-01-23 05:59:00</td>\n      <td>2020-01-23 05:59:00</td>\n      <td>False</td>\n      <td>1</td>\n      <td>2019-12-12 06:00:00</td>\n      <td>assessment</td>\n      <td>True</td>\n      <td>2020-01-17 19:27:50.274</td>\n      <td>2020-01-08 20:18:10.320</td>\n      <td>6</td>\n      <td>25</td>\n    </tr>\n    <tr>\n      <th>4</th>\n      <td>318077</td>\n      <td>468545</td>\n      <td>2020-02-28 21:00:00</td>\n      <td>2020-02-28 21:00:00</td>\n      <td>False</td>\n      <td>1</td>\n      <td>2020-02-26 06:00:00</td>\n      <td>assessment</td>\n      <td>True</td>\n      <td>2020-02-28 21:00:06.870</td>\n      <td>2020-02-26 20:12:54.385</td>\n      <td>41</td>\n      <td>25</td>\n    </tr>\n    <tr>\n      <th>5</th>\n      <td>318077</td>\n      <td>482141</td>\n      <td>2020-02-29 05:59:00</td>\n      <td>2020-02-29 05:59:00</td>\n      <td>False</td>\n      <td>1</td>\n      <td>2020-02-27 06:00:00</td>\n      <td>assessment</td>\n      <td>True</td>\n      <td>2020-02-29 06:00:06.925</td>\n      <td>2020-02-27 20:31:07.210</td>\n      <td>41</td>\n      <td>1</td>\n    </tr>\n    <tr>\n      <th>6</th>\n      <td>321665</td>\n      <td>451549</td>\n      <td>2020-03-11 04:59:00</td>\n      <td>2020-03-11 04:59:00</td>\n      <td>False</td>\n      <td>1</td>\n      <td>2020-03-09 05:00:00</td>\n      <td>assessment</td>\n      <td>True</td>\n      <td>2020-03-11 05:00:10.856</td>\n      <td>2020-03-09 19:12:23.609</td>\n      <td>20</td>\n      <td>25</td>\n    </tr>\n  </tbody>\n</table>\n</div>"
     },
     "execution_count": 9,
     "metadata": {},
     "output_type": "execute_result"
    }
   ],
   "source": [
    "filterDf.filter( F.col('section_id') == 168233).select('assessment_id','assessment_instance_id', *cats['assignmentVars']).distinct().orderBy('assignment_due_date').toPandas()"
   ]
  },
  {
   "cell_type": "markdown",
   "metadata": {},
   "source": [
    "- 7 assignments (one for each assessment) in section 168233"
   ]
  },
  {
   "cell_type": "markdown",
   "metadata": {},
   "source": [
    "###### Display Assignment Items for Assessment 306799 of Section 168233"
   ]
  },
  {
   "cell_type": "code",
   "execution_count": 10,
   "metadata": {
    "execution": {
     "iopub.execute_input": "2020-10-28T01:08:41.465380Z",
     "iopub.status.busy": "2020-10-28T01:08:41.463789Z",
     "iopub.status.idle": "2020-10-28T01:08:42.629243Z",
     "shell.execute_reply": "2020-10-28T01:08:42.630378Z"
    },
    "pycharm": {
     "name": "#%%\n"
    }
   },
   "outputs": [
    {
     "data": {
      "text/plain": "   item_is_offline_scored item_type_code_name scoring_type_code\n0                   False               essay            manual\n1                   False         shortAnswer            manual\n2                   False      multipleChoice         automatic\n3                   False            matching         automatic\n4                   False           trueFalse         automatic",
      "text/html": "<div>\n<style scoped>\n    .dataframe tbody tr th:only-of-type {\n        vertical-align: middle;\n    }\n\n    .dataframe tbody tr th {\n        vertical-align: top;\n    }\n\n    .dataframe thead th {\n        text-align: right;\n    }\n</style>\n<table border=\"1\" class=\"dataframe\">\n  <thead>\n    <tr style=\"text-align: right;\">\n      <th></th>\n      <th>item_is_offline_scored</th>\n      <th>item_type_code_name</th>\n      <th>scoring_type_code</th>\n    </tr>\n  </thead>\n  <tbody>\n    <tr>\n      <th>0</th>\n      <td>False</td>\n      <td>essay</td>\n      <td>manual</td>\n    </tr>\n    <tr>\n      <th>1</th>\n      <td>False</td>\n      <td>shortAnswer</td>\n      <td>manual</td>\n    </tr>\n    <tr>\n      <th>2</th>\n      <td>False</td>\n      <td>multipleChoice</td>\n      <td>automatic</td>\n    </tr>\n    <tr>\n      <th>3</th>\n      <td>False</td>\n      <td>matching</td>\n      <td>automatic</td>\n    </tr>\n    <tr>\n      <th>4</th>\n      <td>False</td>\n      <td>trueFalse</td>\n      <td>automatic</td>\n    </tr>\n  </tbody>\n</table>\n</div>"
     },
     "execution_count": 10,
     "metadata": {},
     "output_type": "execute_result"
    }
   ],
   "source": [
    "filterDf.filter( F.col('assessment_id') == 306799).select(*cats['itemVars']).distinct().toPandas()"
   ]
  },
  {
   "cell_type": "markdown",
   "metadata": {},
   "source": [
    "- 4 items in assessment 306799\n",
    "- 1 item essay manual scored\n",
    "- 1 item short answer manual scored\n",
    "- 1 item (true/false) is automatic scored\n",
    "- 1 item matching choice automatic scored"
   ]
  },
  {
   "cell_type": "markdown",
   "metadata": {
    "collapsed": false,
    "pycharm": {
     "name": "#%% md\n"
    }
   },
   "source": [
    "###### Display Assignment Attempts for Assessment 306799"
   ]
  },
  {
   "cell_type": "code",
   "execution_count": 11,
   "metadata": {
    "collapsed": false,
    "execution": {
     "iopub.execute_input": "2020-10-28T01:08:42.640141Z",
     "iopub.status.busy": "2020-10-28T01:08:42.638870Z",
     "iopub.status.idle": "2020-10-28T01:08:45.310600Z",
     "shell.execute_reply": "2020-10-28T01:08:45.315124Z"
    },
    "pycharm": {
     "name": "#%%\n"
    }
   },
   "outputs": [
    {
     "data": {
      "text/plain": "    learner_assignment_attempt_id  assessment_instance_attempt_id  \\\n0                          606926                          762772   \n1                          606822                          883967   \n2                          606469                          885870   \n3                          606776                          884438   \n4                          606660                          870868   \n5                          606696                          786876   \n6                          606940                          888189   \n7                          606552                          796361   \n8                          606968                          851655   \n9                          606596                          840383   \n10                         606519                          856034   \n11                         606814                          784977   \n12                         606912                          788355   \n13                         606501                          776436   \n14                         606747                          775892   \n15                         606711                          871376   \n16                         606979                          804437   \n17                         606869                          816577   \n18                         606962                          837246   \n19                         606539                          855007   \n20                         606844                          773755   \n\n    assignment_attempt_number  final_score_unweighted  is_force_scored  \\\n0                           1                      49            False   \n1                           1                      34            False   \n2                           1                      36            False   \n3                           1                      24            False   \n4                           1                      18            False   \n5                           1                      24            False   \n6                           1                      37            False   \n7                           1                      43            False   \n8                           1                      39            False   \n9                           1                      49            False   \n10                          1                      48            False   \n11                          1                      39            False   \n12                          1                      37            False   \n13                          1                      44            False   \n14                          1                      44            False   \n15                          1                      50            False   \n16                          1                      33            False   \n17                          1                      44            False   \n18                          1                      41            False   \n19                          1                      40            False   \n20                          1                      28            False   \n\n    is_manual_scoring_required  learner_assignment_attempt_id  \\\n0                        False                         606926   \n1                        False                         606822   \n2                        False                         606469   \n3                        False                         606776   \n4                        False                         606660   \n5                        False                         606696   \n6                        False                         606940   \n7                        False                         606552   \n8                        False                         606968   \n9                        False                         606596   \n10                       False                         606519   \n11                       False                         606814   \n12                       False                         606912   \n13                       False                         606501   \n14                       False                         606747   \n15                       False                         606711   \n16                       False                         606979   \n17                       False                         606869   \n18                       False                         606962   \n19                       False                         606539   \n20                       False                         606844   \n\n   learner_attempt_status  points_possible_unweighted     scored_datetime  \\\n0            fully scored                        50.0 2020-01-10 12:58:30   \n1            fully scored                        50.0 2020-01-14 06:55:58   \n2            fully scored                        50.0 2020-01-16 11:17:45   \n3            fully scored                        50.0 2020-01-14 07:06:18   \n4            fully scored                        50.0 2020-01-14 06:47:30   \n5            fully scored                        50.0 2020-01-21 05:42:13   \n6            fully scored                        50.0 2020-01-14 07:04:08   \n7            fully scored                        50.0 2020-01-15 06:29:04   \n8            fully scored                        50.0 2020-01-10 13:06:52   \n9            fully scored                        50.0 2020-01-14 07:10:44   \n10           fully scored                        50.0 2020-01-14 06:49:11   \n11           fully scored                        50.0 2020-01-10 12:45:42   \n12           fully scored                        50.0 2020-01-14 07:02:09   \n13           fully scored                        50.0 2020-01-14 07:13:18   \n14           fully scored                        50.0 2020-01-15 06:25:05   \n15           fully scored                        50.0 2020-01-14 07:00:26   \n16           fully scored                        50.0 2020-01-14 07:07:54   \n17           fully scored                        50.0 2020-01-15 06:09:26   \n18           fully scored                        50.0 2020-01-14 06:53:56   \n19           fully scored                        50.0 2020-01-14 07:11:57   \n20           fully scored                        50.0 2020-01-14 06:51:36   \n\n    student_start_datetime   student_stop_datetime was_fully_scored_datetime  \\\n0  2020-01-10 20:23:03.429 2020-01-10 20:53:53.736   2020-01-10 20:58:30.000   \n1  2020-01-10 20:24:29.103 2020-01-10 21:04:58.110   2020-01-14 14:55:58.000   \n2  2020-01-10 20:34:48.974 2020-01-15 15:01:08.865   2020-01-16 19:17:45.000   \n3  2020-01-10 20:24:41.704 2020-01-10 21:12:04.370   2020-01-14 15:06:19.066   \n4  2020-01-10 20:24:20.917 2020-01-10 20:56:16.703   2020-01-14 14:47:30.765   \n5  2020-01-17 19:28:35.578 2020-01-17 19:39:37.415   2020-01-21 13:42:13.488   \n6  2020-01-10 20:23:31.968 2020-01-10 20:55:55.849   2020-01-14 15:04:08.000   \n7  2020-01-15 14:06:31.264 2020-01-15 14:22:21.848   2020-01-15 14:29:04.000   \n8  2020-01-10 20:22:59.815 2020-01-10 20:54:58.720   2020-01-10 21:06:53.260   \n9  2020-01-10 20:25:09.185 2020-01-10 21:12:03.691   2020-01-14 15:10:44.000   \n10 2020-01-10 20:24:53.174 2020-01-10 21:13:32.703   2020-01-14 14:49:12.282   \n11 2020-01-10 20:23:23.124 2020-01-10 20:41:48.618   2020-01-10 20:45:42.000   \n12 2020-01-10 20:37:07.892 2020-01-10 21:07:17.453   2020-01-14 15:02:09.796   \n13 2020-01-10 20:23:30.966 2020-01-10 20:49:07.186   2020-01-14 15:13:18.000   \n14 2020-01-10 20:25:00.404 2020-01-15 14:23:30.835   2020-01-15 14:25:05.415   \n15 2020-01-10 20:24:17.036 2020-01-10 21:08:16.067   2020-01-14 15:00:26.915   \n16 2020-01-10 20:25:08.396 2020-01-10 21:14:56.737   2020-01-14 15:07:54.000   \n17 2020-01-10 20:22:47.150 2020-01-15 14:09:26.490   2020-01-15 14:09:26.413   \n18 2020-01-10 20:26:15.224 2020-01-10 21:16:18.171   2020-01-14 14:53:56.659   \n19 2020-01-10 20:27:02.311 2020-01-10 21:05:56.575   2020-01-14 15:11:57.000   \n20 2020-01-10 20:24:44.384 2020-01-10 21:02:37.319   2020-01-14 14:51:36.000   \n\n   was_in_progress_datetime was_submitted_datetime_actual  \\\n0   2020-01-10 20:23:03.429       2020-01-10 20:53:53.736   \n1   2020-01-10 20:24:29.103       2020-01-10 21:04:58.110   \n2   2020-01-10 20:34:48.974       2020-01-15 15:01:08.865   \n3   2020-01-10 20:24:41.704       2020-01-10 21:12:04.370   \n4   2020-01-10 20:24:20.917       2020-01-10 20:56:16.703   \n5   2020-01-17 19:28:35.578       2020-01-17 19:39:37.415   \n6   2020-01-10 20:23:31.968       2020-01-10 20:55:55.849   \n7   2020-01-15 14:06:31.264       2020-01-15 14:22:21.848   \n8   2020-01-10 20:22:59.815       2020-01-10 20:54:58.720   \n9   2020-01-10 20:25:09.185       2020-01-10 21:12:03.691   \n10  2020-01-10 20:24:53.174       2020-01-10 21:13:32.703   \n11  2020-01-10 20:23:23.124       2020-01-10 20:41:48.618   \n12  2020-01-10 20:37:07.892       2020-01-10 21:07:17.453   \n13  2020-01-10 20:23:30.966       2020-01-10 20:49:07.186   \n14  2020-01-10 20:25:00.404       2020-01-15 14:23:30.835   \n15  2020-01-10 20:24:17.036       2020-01-10 21:08:16.067   \n16  2020-01-10 20:25:08.396       2020-01-10 21:14:56.737   \n17  2020-01-10 20:22:47.150       2020-01-15 14:09:26.490   \n18  2020-01-10 20:26:15.224       2020-01-10 21:16:18.171   \n19  2020-01-10 20:27:02.311       2020-01-10 21:05:56.575   \n20  2020-01-10 20:24:44.384       2020-01-10 21:02:37.319   \n\n    student_duration_mins  timeliness_duration_mins  \n0               30.833333              10655.950000  \n1               40.483333              10654.516667  \n2             6866.333333              10644.200000  \n3               47.383333              10654.316667  \n4               31.933333              10654.666667  \n5               11.033333                630.416667  \n6               32.400000              10655.483333  \n7               15.833333               3832.483333  \n8               31.983333              10656.016667  \n9               46.900000              10653.850000  \n10              48.650000              10654.116667  \n11              18.416667              10655.616667  \n12              30.166667              10641.883333  \n13              25.616667              10655.500000  \n14            6838.500000              10654.000000  \n15              43.983333              10654.716667  \n16              49.800000              10653.866667  \n17            6826.650000              10656.216667  \n18              50.050000              10652.750000  \n19              38.900000              10651.966667  \n20              37.883333              10654.266667  ",
      "text/html": "<div>\n<style scoped>\n    .dataframe tbody tr th:only-of-type {\n        vertical-align: middle;\n    }\n\n    .dataframe tbody tr th {\n        vertical-align: top;\n    }\n\n    .dataframe thead th {\n        text-align: right;\n    }\n</style>\n<table border=\"1\" class=\"dataframe\">\n  <thead>\n    <tr style=\"text-align: right;\">\n      <th></th>\n      <th>learner_assignment_attempt_id</th>\n      <th>assessment_instance_attempt_id</th>\n      <th>assignment_attempt_number</th>\n      <th>final_score_unweighted</th>\n      <th>is_force_scored</th>\n      <th>is_manual_scoring_required</th>\n      <th>learner_assignment_attempt_id</th>\n      <th>learner_attempt_status</th>\n      <th>points_possible_unweighted</th>\n      <th>scored_datetime</th>\n      <th>student_start_datetime</th>\n      <th>student_stop_datetime</th>\n      <th>was_fully_scored_datetime</th>\n      <th>was_in_progress_datetime</th>\n      <th>was_submitted_datetime_actual</th>\n      <th>student_duration_mins</th>\n      <th>timeliness_duration_mins</th>\n    </tr>\n  </thead>\n  <tbody>\n    <tr>\n      <th>0</th>\n      <td>606926</td>\n      <td>762772</td>\n      <td>1</td>\n      <td>49</td>\n      <td>False</td>\n      <td>False</td>\n      <td>606926</td>\n      <td>fully scored</td>\n      <td>50.0</td>\n      <td>2020-01-10 12:58:30</td>\n      <td>2020-01-10 20:23:03.429</td>\n      <td>2020-01-10 20:53:53.736</td>\n      <td>2020-01-10 20:58:30.000</td>\n      <td>2020-01-10 20:23:03.429</td>\n      <td>2020-01-10 20:53:53.736</td>\n      <td>30.833333</td>\n      <td>10655.950000</td>\n    </tr>\n    <tr>\n      <th>1</th>\n      <td>606822</td>\n      <td>883967</td>\n      <td>1</td>\n      <td>34</td>\n      <td>False</td>\n      <td>False</td>\n      <td>606822</td>\n      <td>fully scored</td>\n      <td>50.0</td>\n      <td>2020-01-14 06:55:58</td>\n      <td>2020-01-10 20:24:29.103</td>\n      <td>2020-01-10 21:04:58.110</td>\n      <td>2020-01-14 14:55:58.000</td>\n      <td>2020-01-10 20:24:29.103</td>\n      <td>2020-01-10 21:04:58.110</td>\n      <td>40.483333</td>\n      <td>10654.516667</td>\n    </tr>\n    <tr>\n      <th>2</th>\n      <td>606469</td>\n      <td>885870</td>\n      <td>1</td>\n      <td>36</td>\n      <td>False</td>\n      <td>False</td>\n      <td>606469</td>\n      <td>fully scored</td>\n      <td>50.0</td>\n      <td>2020-01-16 11:17:45</td>\n      <td>2020-01-10 20:34:48.974</td>\n      <td>2020-01-15 15:01:08.865</td>\n      <td>2020-01-16 19:17:45.000</td>\n      <td>2020-01-10 20:34:48.974</td>\n      <td>2020-01-15 15:01:08.865</td>\n      <td>6866.333333</td>\n      <td>10644.200000</td>\n    </tr>\n    <tr>\n      <th>3</th>\n      <td>606776</td>\n      <td>884438</td>\n      <td>1</td>\n      <td>24</td>\n      <td>False</td>\n      <td>False</td>\n      <td>606776</td>\n      <td>fully scored</td>\n      <td>50.0</td>\n      <td>2020-01-14 07:06:18</td>\n      <td>2020-01-10 20:24:41.704</td>\n      <td>2020-01-10 21:12:04.370</td>\n      <td>2020-01-14 15:06:19.066</td>\n      <td>2020-01-10 20:24:41.704</td>\n      <td>2020-01-10 21:12:04.370</td>\n      <td>47.383333</td>\n      <td>10654.316667</td>\n    </tr>\n    <tr>\n      <th>4</th>\n      <td>606660</td>\n      <td>870868</td>\n      <td>1</td>\n      <td>18</td>\n      <td>False</td>\n      <td>False</td>\n      <td>606660</td>\n      <td>fully scored</td>\n      <td>50.0</td>\n      <td>2020-01-14 06:47:30</td>\n      <td>2020-01-10 20:24:20.917</td>\n      <td>2020-01-10 20:56:16.703</td>\n      <td>2020-01-14 14:47:30.765</td>\n      <td>2020-01-10 20:24:20.917</td>\n      <td>2020-01-10 20:56:16.703</td>\n      <td>31.933333</td>\n      <td>10654.666667</td>\n    </tr>\n    <tr>\n      <th>5</th>\n      <td>606696</td>\n      <td>786876</td>\n      <td>1</td>\n      <td>24</td>\n      <td>False</td>\n      <td>False</td>\n      <td>606696</td>\n      <td>fully scored</td>\n      <td>50.0</td>\n      <td>2020-01-21 05:42:13</td>\n      <td>2020-01-17 19:28:35.578</td>\n      <td>2020-01-17 19:39:37.415</td>\n      <td>2020-01-21 13:42:13.488</td>\n      <td>2020-01-17 19:28:35.578</td>\n      <td>2020-01-17 19:39:37.415</td>\n      <td>11.033333</td>\n      <td>630.416667</td>\n    </tr>\n    <tr>\n      <th>6</th>\n      <td>606940</td>\n      <td>888189</td>\n      <td>1</td>\n      <td>37</td>\n      <td>False</td>\n      <td>False</td>\n      <td>606940</td>\n      <td>fully scored</td>\n      <td>50.0</td>\n      <td>2020-01-14 07:04:08</td>\n      <td>2020-01-10 20:23:31.968</td>\n      <td>2020-01-10 20:55:55.849</td>\n      <td>2020-01-14 15:04:08.000</td>\n      <td>2020-01-10 20:23:31.968</td>\n      <td>2020-01-10 20:55:55.849</td>\n      <td>32.400000</td>\n      <td>10655.483333</td>\n    </tr>\n    <tr>\n      <th>7</th>\n      <td>606552</td>\n      <td>796361</td>\n      <td>1</td>\n      <td>43</td>\n      <td>False</td>\n      <td>False</td>\n      <td>606552</td>\n      <td>fully scored</td>\n      <td>50.0</td>\n      <td>2020-01-15 06:29:04</td>\n      <td>2020-01-15 14:06:31.264</td>\n      <td>2020-01-15 14:22:21.848</td>\n      <td>2020-01-15 14:29:04.000</td>\n      <td>2020-01-15 14:06:31.264</td>\n      <td>2020-01-15 14:22:21.848</td>\n      <td>15.833333</td>\n      <td>3832.483333</td>\n    </tr>\n    <tr>\n      <th>8</th>\n      <td>606968</td>\n      <td>851655</td>\n      <td>1</td>\n      <td>39</td>\n      <td>False</td>\n      <td>False</td>\n      <td>606968</td>\n      <td>fully scored</td>\n      <td>50.0</td>\n      <td>2020-01-10 13:06:52</td>\n      <td>2020-01-10 20:22:59.815</td>\n      <td>2020-01-10 20:54:58.720</td>\n      <td>2020-01-10 21:06:53.260</td>\n      <td>2020-01-10 20:22:59.815</td>\n      <td>2020-01-10 20:54:58.720</td>\n      <td>31.983333</td>\n      <td>10656.016667</td>\n    </tr>\n    <tr>\n      <th>9</th>\n      <td>606596</td>\n      <td>840383</td>\n      <td>1</td>\n      <td>49</td>\n      <td>False</td>\n      <td>False</td>\n      <td>606596</td>\n      <td>fully scored</td>\n      <td>50.0</td>\n      <td>2020-01-14 07:10:44</td>\n      <td>2020-01-10 20:25:09.185</td>\n      <td>2020-01-10 21:12:03.691</td>\n      <td>2020-01-14 15:10:44.000</td>\n      <td>2020-01-10 20:25:09.185</td>\n      <td>2020-01-10 21:12:03.691</td>\n      <td>46.900000</td>\n      <td>10653.850000</td>\n    </tr>\n    <tr>\n      <th>10</th>\n      <td>606519</td>\n      <td>856034</td>\n      <td>1</td>\n      <td>48</td>\n      <td>False</td>\n      <td>False</td>\n      <td>606519</td>\n      <td>fully scored</td>\n      <td>50.0</td>\n      <td>2020-01-14 06:49:11</td>\n      <td>2020-01-10 20:24:53.174</td>\n      <td>2020-01-10 21:13:32.703</td>\n      <td>2020-01-14 14:49:12.282</td>\n      <td>2020-01-10 20:24:53.174</td>\n      <td>2020-01-10 21:13:32.703</td>\n      <td>48.650000</td>\n      <td>10654.116667</td>\n    </tr>\n    <tr>\n      <th>11</th>\n      <td>606814</td>\n      <td>784977</td>\n      <td>1</td>\n      <td>39</td>\n      <td>False</td>\n      <td>False</td>\n      <td>606814</td>\n      <td>fully scored</td>\n      <td>50.0</td>\n      <td>2020-01-10 12:45:42</td>\n      <td>2020-01-10 20:23:23.124</td>\n      <td>2020-01-10 20:41:48.618</td>\n      <td>2020-01-10 20:45:42.000</td>\n      <td>2020-01-10 20:23:23.124</td>\n      <td>2020-01-10 20:41:48.618</td>\n      <td>18.416667</td>\n      <td>10655.616667</td>\n    </tr>\n    <tr>\n      <th>12</th>\n      <td>606912</td>\n      <td>788355</td>\n      <td>1</td>\n      <td>37</td>\n      <td>False</td>\n      <td>False</td>\n      <td>606912</td>\n      <td>fully scored</td>\n      <td>50.0</td>\n      <td>2020-01-14 07:02:09</td>\n      <td>2020-01-10 20:37:07.892</td>\n      <td>2020-01-10 21:07:17.453</td>\n      <td>2020-01-14 15:02:09.796</td>\n      <td>2020-01-10 20:37:07.892</td>\n      <td>2020-01-10 21:07:17.453</td>\n      <td>30.166667</td>\n      <td>10641.883333</td>\n    </tr>\n    <tr>\n      <th>13</th>\n      <td>606501</td>\n      <td>776436</td>\n      <td>1</td>\n      <td>44</td>\n      <td>False</td>\n      <td>False</td>\n      <td>606501</td>\n      <td>fully scored</td>\n      <td>50.0</td>\n      <td>2020-01-14 07:13:18</td>\n      <td>2020-01-10 20:23:30.966</td>\n      <td>2020-01-10 20:49:07.186</td>\n      <td>2020-01-14 15:13:18.000</td>\n      <td>2020-01-10 20:23:30.966</td>\n      <td>2020-01-10 20:49:07.186</td>\n      <td>25.616667</td>\n      <td>10655.500000</td>\n    </tr>\n    <tr>\n      <th>14</th>\n      <td>606747</td>\n      <td>775892</td>\n      <td>1</td>\n      <td>44</td>\n      <td>False</td>\n      <td>False</td>\n      <td>606747</td>\n      <td>fully scored</td>\n      <td>50.0</td>\n      <td>2020-01-15 06:25:05</td>\n      <td>2020-01-10 20:25:00.404</td>\n      <td>2020-01-15 14:23:30.835</td>\n      <td>2020-01-15 14:25:05.415</td>\n      <td>2020-01-10 20:25:00.404</td>\n      <td>2020-01-15 14:23:30.835</td>\n      <td>6838.500000</td>\n      <td>10654.000000</td>\n    </tr>\n    <tr>\n      <th>15</th>\n      <td>606711</td>\n      <td>871376</td>\n      <td>1</td>\n      <td>50</td>\n      <td>False</td>\n      <td>False</td>\n      <td>606711</td>\n      <td>fully scored</td>\n      <td>50.0</td>\n      <td>2020-01-14 07:00:26</td>\n      <td>2020-01-10 20:24:17.036</td>\n      <td>2020-01-10 21:08:16.067</td>\n      <td>2020-01-14 15:00:26.915</td>\n      <td>2020-01-10 20:24:17.036</td>\n      <td>2020-01-10 21:08:16.067</td>\n      <td>43.983333</td>\n      <td>10654.716667</td>\n    </tr>\n    <tr>\n      <th>16</th>\n      <td>606979</td>\n      <td>804437</td>\n      <td>1</td>\n      <td>33</td>\n      <td>False</td>\n      <td>False</td>\n      <td>606979</td>\n      <td>fully scored</td>\n      <td>50.0</td>\n      <td>2020-01-14 07:07:54</td>\n      <td>2020-01-10 20:25:08.396</td>\n      <td>2020-01-10 21:14:56.737</td>\n      <td>2020-01-14 15:07:54.000</td>\n      <td>2020-01-10 20:25:08.396</td>\n      <td>2020-01-10 21:14:56.737</td>\n      <td>49.800000</td>\n      <td>10653.866667</td>\n    </tr>\n    <tr>\n      <th>17</th>\n      <td>606869</td>\n      <td>816577</td>\n      <td>1</td>\n      <td>44</td>\n      <td>False</td>\n      <td>False</td>\n      <td>606869</td>\n      <td>fully scored</td>\n      <td>50.0</td>\n      <td>2020-01-15 06:09:26</td>\n      <td>2020-01-10 20:22:47.150</td>\n      <td>2020-01-15 14:09:26.490</td>\n      <td>2020-01-15 14:09:26.413</td>\n      <td>2020-01-10 20:22:47.150</td>\n      <td>2020-01-15 14:09:26.490</td>\n      <td>6826.650000</td>\n      <td>10656.216667</td>\n    </tr>\n    <tr>\n      <th>18</th>\n      <td>606962</td>\n      <td>837246</td>\n      <td>1</td>\n      <td>41</td>\n      <td>False</td>\n      <td>False</td>\n      <td>606962</td>\n      <td>fully scored</td>\n      <td>50.0</td>\n      <td>2020-01-14 06:53:56</td>\n      <td>2020-01-10 20:26:15.224</td>\n      <td>2020-01-10 21:16:18.171</td>\n      <td>2020-01-14 14:53:56.659</td>\n      <td>2020-01-10 20:26:15.224</td>\n      <td>2020-01-10 21:16:18.171</td>\n      <td>50.050000</td>\n      <td>10652.750000</td>\n    </tr>\n    <tr>\n      <th>19</th>\n      <td>606539</td>\n      <td>855007</td>\n      <td>1</td>\n      <td>40</td>\n      <td>False</td>\n      <td>False</td>\n      <td>606539</td>\n      <td>fully scored</td>\n      <td>50.0</td>\n      <td>2020-01-14 07:11:57</td>\n      <td>2020-01-10 20:27:02.311</td>\n      <td>2020-01-10 21:05:56.575</td>\n      <td>2020-01-14 15:11:57.000</td>\n      <td>2020-01-10 20:27:02.311</td>\n      <td>2020-01-10 21:05:56.575</td>\n      <td>38.900000</td>\n      <td>10651.966667</td>\n    </tr>\n    <tr>\n      <th>20</th>\n      <td>606844</td>\n      <td>773755</td>\n      <td>1</td>\n      <td>28</td>\n      <td>False</td>\n      <td>False</td>\n      <td>606844</td>\n      <td>fully scored</td>\n      <td>50.0</td>\n      <td>2020-01-14 06:51:36</td>\n      <td>2020-01-10 20:24:44.384</td>\n      <td>2020-01-10 21:02:37.319</td>\n      <td>2020-01-14 14:51:36.000</td>\n      <td>2020-01-10 20:24:44.384</td>\n      <td>2020-01-10 21:02:37.319</td>\n      <td>37.883333</td>\n      <td>10654.266667</td>\n    </tr>\n  </tbody>\n</table>\n</div>"
     },
     "execution_count": 11,
     "metadata": {},
     "output_type": "execute_result"
    }
   ],
   "source": [
    "filterDf.filter( F.col('assessment_id') == 306799 ).select('learner_assignment_attempt_id', *cats['assignmentAttemptVars']).distinct().toPandas()"
   ]
  },
  {
   "cell_type": "markdown",
   "metadata": {
    "pycharm": {
     "name": "#%% md\n"
    }
   },
   "source": [
    "- 21 attempts\n",
    "- Majority of students started (student_start_datetime) and stopped (student_stop_datetime) on 2020-01-10\n",
    "- Scored (was_fully_scored_datetime) between 1/10 and 1/21"
   ]
  },
  {
   "cell_type": "markdown",
   "source": [
    "###### Display Assignment Attempt Items for Attempt 1098979"
   ],
   "metadata": {
    "collapsed": false,
    "pycharm": {
     "name": "#%% md\n"
    }
   }
  },
  {
   "cell_type": "code",
   "execution_count": 12,
   "metadata": {
    "collapsed": false,
    "execution": {
     "iopub.execute_input": "2020-10-28T01:08:45.337621Z",
     "iopub.status.busy": "2020-10-28T01:08:45.334537Z",
     "iopub.status.idle": "2020-10-28T01:08:46.958640Z",
     "shell.execute_reply": "2020-10-28T01:08:46.960019Z"
    },
    "pycharm": {
     "name": "#%%\n"
    }
   },
   "outputs": [
    {
     "data": {
      "text/plain": "    learner_assigned_item_attempt_id  assessment_item_response_id  \\\n0                            1112306                      1308240   \n1                            1112298                      1280346   \n2                            1112308                      1265620   \n3                            1112288                      1256802   \n4                            1112302                      1290179   \n5                            1112297                      1295377   \n6                            1112296                      1259561   \n7                            1112293                      1304100   \n8                            1112299                      1275647   \n9                            1112292                      1271700   \n10                           1112305                      1302707   \n11                           1112294                      1240914   \n12                           1112303                      1234097   \n13                           1112304                      1249044   \n14                           1112290                      1233509   \n15                           1112307                      1308106   \n16                           1112291                      1280225   \n17                           1112289                      1337004   \n18                           1112300                      1348119   \n19                           1112295                      1325481   \n20                           1112301                      1235956   \n\n   assigned_item_status  is_deleted item_attempt_end_datetime_utc  \\\n0                scored       False       2020-01-10 20:55:24.591   \n1                scored       False       2020-01-10 21:14:46.149   \n2                scored       False       2020-01-10 20:53:11.803   \n3                scored       False       2020-01-10 20:29:22.031   \n4                scored       False       2020-01-15 14:09:22.660   \n5                scored       False       2020-01-10 21:20:21.631   \n6                scored       False       2020-01-10 21:02:07.127   \n7                scored       False       2020-01-10 20:58:19.137   \n8                scored       False       2020-01-10 20:33:31.336   \n9                scored       False       2020-01-10 20:31:51.540   \n10               scored       False       2020-01-10 21:00:15.702   \n11               scored       False       2020-01-10 20:46:40.602   \n12               scored       False       2020-01-10 20:48:59.455   \n13               scored       False       2020-01-10 20:46:46.027   \n14               scored       False       2020-01-10 21:10:36.343   \n15               scored       False       2020-01-10 21:09:23.922   \n16               scored       False       2020-01-10 21:16:06.048   \n17               scored       False       2020-01-15 14:08:39.324   \n18               scored       False       2020-01-10 20:32:36.938   \n19               scored       False       2020-01-10 20:31:47.031   \n20               scored       False       2020-01-10 21:06:10.838   \n\n   item_attempt_start_datetime_utc  learner_assigned_item_attempt_id  \\\n0          2020-01-10 20:26:52.171                           1112306   \n1          2020-01-10 21:10:36.925                           1112298   \n2          2020-01-10 20:26:41.266                           1112308   \n3          2020-01-10 20:27:13.925                           1112288   \n4          2020-01-10 21:20:22.332                           1112302   \n5          2020-01-10 21:19:29.811                           1112297   \n6          2020-01-10 20:32:37.615                           1112296   \n7          2020-01-10 20:29:23.320                           1112293   \n8          2020-01-10 20:30:04.806                           1112299   \n9          2020-01-10 20:24:12.989                           1112292   \n10         2020-01-10 20:58:19.803                           1112305   \n11         2020-01-10 20:22:47.787                           1112294   \n12         2020-01-10 20:26:21.498                           1112303   \n13         2020-01-10 20:23:15.451                           1112304   \n14         2020-01-10 21:09:24.527                           1112290   \n15         2020-01-10 21:06:11.789                           1112307   \n16         2020-01-10 21:14:46.857                           1112291   \n17         2020-01-10 21:16:06.579                           1112289   \n18         2020-01-10 20:25:36.145                           1112300   \n19         2020-01-10 20:23:33.451                           1112295   \n20         2020-01-10 20:30:01.621                           1112301   \n\n    raw_score response_correctness  item_attempt_duration_mins  \n0           5              correct                   28.533333  \n1           0            incorrect                    4.166667  \n2           8    partially_correct                   26.500000  \n3           5              correct                    2.150000  \n4           1              correct                 6769.000000  \n5           5              correct                    0.866667  \n6           5              correct                   29.500000  \n7           1              correct                   28.933333  \n8           1              correct                    3.450000  \n9           1              correct                    7.650000  \n10          0            incorrect                    1.933333  \n11          3    partially_correct                   23.883333  \n12          1              correct                   22.633333  \n13          1              correct                   23.516667  \n14          1              correct                    1.200000  \n15          1              correct                    3.200000  \n16          1              correct                    1.333333  \n17          1              correct                 6772.550000  \n18          1              correct                    7.000000  \n19          1              correct                    8.233333  \n20          1              correct                   36.150000  ",
      "text/html": "<div>\n<style scoped>\n    .dataframe tbody tr th:only-of-type {\n        vertical-align: middle;\n    }\n\n    .dataframe tbody tr th {\n        vertical-align: top;\n    }\n\n    .dataframe thead th {\n        text-align: right;\n    }\n</style>\n<table border=\"1\" class=\"dataframe\">\n  <thead>\n    <tr style=\"text-align: right;\">\n      <th></th>\n      <th>learner_assigned_item_attempt_id</th>\n      <th>assessment_item_response_id</th>\n      <th>assigned_item_status</th>\n      <th>is_deleted</th>\n      <th>item_attempt_end_datetime_utc</th>\n      <th>item_attempt_start_datetime_utc</th>\n      <th>learner_assigned_item_attempt_id</th>\n      <th>raw_score</th>\n      <th>response_correctness</th>\n      <th>item_attempt_duration_mins</th>\n    </tr>\n  </thead>\n  <tbody>\n    <tr>\n      <th>0</th>\n      <td>1112306</td>\n      <td>1308240</td>\n      <td>scored</td>\n      <td>False</td>\n      <td>2020-01-10 20:55:24.591</td>\n      <td>2020-01-10 20:26:52.171</td>\n      <td>1112306</td>\n      <td>5</td>\n      <td>correct</td>\n      <td>28.533333</td>\n    </tr>\n    <tr>\n      <th>1</th>\n      <td>1112298</td>\n      <td>1280346</td>\n      <td>scored</td>\n      <td>False</td>\n      <td>2020-01-10 21:14:46.149</td>\n      <td>2020-01-10 21:10:36.925</td>\n      <td>1112298</td>\n      <td>0</td>\n      <td>incorrect</td>\n      <td>4.166667</td>\n    </tr>\n    <tr>\n      <th>2</th>\n      <td>1112308</td>\n      <td>1265620</td>\n      <td>scored</td>\n      <td>False</td>\n      <td>2020-01-10 20:53:11.803</td>\n      <td>2020-01-10 20:26:41.266</td>\n      <td>1112308</td>\n      <td>8</td>\n      <td>partially_correct</td>\n      <td>26.500000</td>\n    </tr>\n    <tr>\n      <th>3</th>\n      <td>1112288</td>\n      <td>1256802</td>\n      <td>scored</td>\n      <td>False</td>\n      <td>2020-01-10 20:29:22.031</td>\n      <td>2020-01-10 20:27:13.925</td>\n      <td>1112288</td>\n      <td>5</td>\n      <td>correct</td>\n      <td>2.150000</td>\n    </tr>\n    <tr>\n      <th>4</th>\n      <td>1112302</td>\n      <td>1290179</td>\n      <td>scored</td>\n      <td>False</td>\n      <td>2020-01-15 14:09:22.660</td>\n      <td>2020-01-10 21:20:22.332</td>\n      <td>1112302</td>\n      <td>1</td>\n      <td>correct</td>\n      <td>6769.000000</td>\n    </tr>\n    <tr>\n      <th>5</th>\n      <td>1112297</td>\n      <td>1295377</td>\n      <td>scored</td>\n      <td>False</td>\n      <td>2020-01-10 21:20:21.631</td>\n      <td>2020-01-10 21:19:29.811</td>\n      <td>1112297</td>\n      <td>5</td>\n      <td>correct</td>\n      <td>0.866667</td>\n    </tr>\n    <tr>\n      <th>6</th>\n      <td>1112296</td>\n      <td>1259561</td>\n      <td>scored</td>\n      <td>False</td>\n      <td>2020-01-10 21:02:07.127</td>\n      <td>2020-01-10 20:32:37.615</td>\n      <td>1112296</td>\n      <td>5</td>\n      <td>correct</td>\n      <td>29.500000</td>\n    </tr>\n    <tr>\n      <th>7</th>\n      <td>1112293</td>\n      <td>1304100</td>\n      <td>scored</td>\n      <td>False</td>\n      <td>2020-01-10 20:58:19.137</td>\n      <td>2020-01-10 20:29:23.320</td>\n      <td>1112293</td>\n      <td>1</td>\n      <td>correct</td>\n      <td>28.933333</td>\n    </tr>\n    <tr>\n      <th>8</th>\n      <td>1112299</td>\n      <td>1275647</td>\n      <td>scored</td>\n      <td>False</td>\n      <td>2020-01-10 20:33:31.336</td>\n      <td>2020-01-10 20:30:04.806</td>\n      <td>1112299</td>\n      <td>1</td>\n      <td>correct</td>\n      <td>3.450000</td>\n    </tr>\n    <tr>\n      <th>9</th>\n      <td>1112292</td>\n      <td>1271700</td>\n      <td>scored</td>\n      <td>False</td>\n      <td>2020-01-10 20:31:51.540</td>\n      <td>2020-01-10 20:24:12.989</td>\n      <td>1112292</td>\n      <td>1</td>\n      <td>correct</td>\n      <td>7.650000</td>\n    </tr>\n    <tr>\n      <th>10</th>\n      <td>1112305</td>\n      <td>1302707</td>\n      <td>scored</td>\n      <td>False</td>\n      <td>2020-01-10 21:00:15.702</td>\n      <td>2020-01-10 20:58:19.803</td>\n      <td>1112305</td>\n      <td>0</td>\n      <td>incorrect</td>\n      <td>1.933333</td>\n    </tr>\n    <tr>\n      <th>11</th>\n      <td>1112294</td>\n      <td>1240914</td>\n      <td>scored</td>\n      <td>False</td>\n      <td>2020-01-10 20:46:40.602</td>\n      <td>2020-01-10 20:22:47.787</td>\n      <td>1112294</td>\n      <td>3</td>\n      <td>partially_correct</td>\n      <td>23.883333</td>\n    </tr>\n    <tr>\n      <th>12</th>\n      <td>1112303</td>\n      <td>1234097</td>\n      <td>scored</td>\n      <td>False</td>\n      <td>2020-01-10 20:48:59.455</td>\n      <td>2020-01-10 20:26:21.498</td>\n      <td>1112303</td>\n      <td>1</td>\n      <td>correct</td>\n      <td>22.633333</td>\n    </tr>\n    <tr>\n      <th>13</th>\n      <td>1112304</td>\n      <td>1249044</td>\n      <td>scored</td>\n      <td>False</td>\n      <td>2020-01-10 20:46:46.027</td>\n      <td>2020-01-10 20:23:15.451</td>\n      <td>1112304</td>\n      <td>1</td>\n      <td>correct</td>\n      <td>23.516667</td>\n    </tr>\n    <tr>\n      <th>14</th>\n      <td>1112290</td>\n      <td>1233509</td>\n      <td>scored</td>\n      <td>False</td>\n      <td>2020-01-10 21:10:36.343</td>\n      <td>2020-01-10 21:09:24.527</td>\n      <td>1112290</td>\n      <td>1</td>\n      <td>correct</td>\n      <td>1.200000</td>\n    </tr>\n    <tr>\n      <th>15</th>\n      <td>1112307</td>\n      <td>1308106</td>\n      <td>scored</td>\n      <td>False</td>\n      <td>2020-01-10 21:09:23.922</td>\n      <td>2020-01-10 21:06:11.789</td>\n      <td>1112307</td>\n      <td>1</td>\n      <td>correct</td>\n      <td>3.200000</td>\n    </tr>\n    <tr>\n      <th>16</th>\n      <td>1112291</td>\n      <td>1280225</td>\n      <td>scored</td>\n      <td>False</td>\n      <td>2020-01-10 21:16:06.048</td>\n      <td>2020-01-10 21:14:46.857</td>\n      <td>1112291</td>\n      <td>1</td>\n      <td>correct</td>\n      <td>1.333333</td>\n    </tr>\n    <tr>\n      <th>17</th>\n      <td>1112289</td>\n      <td>1337004</td>\n      <td>scored</td>\n      <td>False</td>\n      <td>2020-01-15 14:08:39.324</td>\n      <td>2020-01-10 21:16:06.579</td>\n      <td>1112289</td>\n      <td>1</td>\n      <td>correct</td>\n      <td>6772.550000</td>\n    </tr>\n    <tr>\n      <th>18</th>\n      <td>1112300</td>\n      <td>1348119</td>\n      <td>scored</td>\n      <td>False</td>\n      <td>2020-01-10 20:32:36.938</td>\n      <td>2020-01-10 20:25:36.145</td>\n      <td>1112300</td>\n      <td>1</td>\n      <td>correct</td>\n      <td>7.000000</td>\n    </tr>\n    <tr>\n      <th>19</th>\n      <td>1112295</td>\n      <td>1325481</td>\n      <td>scored</td>\n      <td>False</td>\n      <td>2020-01-10 20:31:47.031</td>\n      <td>2020-01-10 20:23:33.451</td>\n      <td>1112295</td>\n      <td>1</td>\n      <td>correct</td>\n      <td>8.233333</td>\n    </tr>\n    <tr>\n      <th>20</th>\n      <td>1112301</td>\n      <td>1235956</td>\n      <td>scored</td>\n      <td>False</td>\n      <td>2020-01-10 21:06:10.838</td>\n      <td>2020-01-10 20:30:01.621</td>\n      <td>1112301</td>\n      <td>1</td>\n      <td>correct</td>\n      <td>36.150000</td>\n    </tr>\n  </tbody>\n</table>\n</div>"
     },
     "execution_count": 12,
     "metadata": {},
     "output_type": "execute_result"
    }
   ],
   "source": [
    "filterDf.filter( F.col('assessment_instance_attempt_id') == 816577 ).select('learner_assigned_item_attempt_id', *cats['itemAttemptVars']).distinct().toPandas()"
   ]
  },
  {
   "cell_type": "markdown",
   "metadata": {
    "collapsed": false
   },
   "source": [
    "- 21 items\n",
    "- All answered (scored)\n",
    "  - 17 correct\n",
    "  - 2 incorrect\n",
    "  - 2 partially correct\n"
   ]
  },
  {
   "cell_type": "markdown",
   "metadata": {
    "collapsed": false
   },
   "source": [
    "###### Display Assignment Attempt Items for Attempt 883967"
   ]
  },
  {
   "cell_type": "code",
   "execution_count": 13,
   "metadata": {
    "collapsed": false,
    "execution": {
     "iopub.execute_input": "2020-10-28T01:08:46.975466Z",
     "iopub.status.busy": "2020-10-28T01:08:46.972637Z",
     "iopub.status.idle": "2020-10-28T01:08:48.155140Z",
     "shell.execute_reply": "2020-10-28T01:08:48.156196Z"
    },
    "pycharm": {
     "name": "#%%\n"
    }
   },
   "outputs": [
    {
     "data": {
      "text/plain": "    assessment_item_response_id assigned_item_status  is_deleted  \\\n0                       1276407               scored       False   \n1                       1237323               scored       False   \n2                       1236259               scored       False   \n3                       1234676               scored       False   \n4                       1242906               scored       False   \n5                       1242296               scored       False   \n6                       1245859               scored       False   \n7                       1283745               scored       False   \n8                       1235053               scored       False   \n9                       1339453               scored       False   \n10                      1253137               scored       False   \n11                      1256010               scored       False   \n12                      1291494               scored       False   \n13                      1230603               scored       False   \n14                      1250376               scored       False   \n15                      1276415               scored       False   \n16                      1257486               scored       False   \n17                      1245739               scored       False   \n18                      1262984               scored       False   \n19                      1299043               scored       False   \n20                      1249913               scored       False   \n\n   item_attempt_end_datetime_utc item_attempt_start_datetime_utc  \\\n0        2020-01-10 20:46:08.571         2020-01-10 20:28:00.497   \n1        2020-01-10 20:43:01.281         2020-01-10 20:25:04.280   \n2        2020-01-10 20:43:04.012         2020-01-10 20:25:24.116   \n3        2020-01-10 21:04:52.867         2020-01-10 21:01:55.129   \n4        2020-01-10 21:04:32.863         2020-01-10 20:32:38.652   \n5        2020-01-10 21:04:51.565         2020-01-10 20:34:49.082   \n6        2020-01-10 21:04:47.800         2020-01-10 20:33:47.543   \n7        2020-01-10 21:04:55.281         2020-01-10 21:03:35.868   \n8        2020-01-10 21:04:26.621         2020-01-10 20:32:16.222   \n9        2020-01-10 21:04:34.516         2020-01-10 20:32:44.650   \n10       2020-01-10 21:04:24.528         2020-01-10 20:32:11.995   \n11       2020-01-10 21:04:22.554         2020-01-10 20:30:05.823   \n12       2020-01-10 21:04:29.247         2020-01-10 20:32:23.457   \n13       2020-01-10 21:04:44.253         2020-01-10 20:33:44.174   \n14       2020-01-10 21:04:21.434         2020-01-10 20:30:00.926   \n15       2020-01-10 20:50:01.375         2020-01-10 20:29:25.085   \n16       2020-01-10 21:04:36.022         2020-01-10 20:33:20.523   \n17       2020-01-10 20:48:25.229         2020-01-10 20:28:29.863   \n18       2020-01-10 20:37:00.462         2020-01-10 20:24:29.653   \n19       2020-01-10 21:04:31.229         2020-01-10 20:32:32.169   \n20       2020-01-10 21:04:41.974         2020-01-10 20:33:39.203   \n\n    learner_assigned_item_attempt_id  raw_score response_correctness  \\\n0                            1108215          0            incorrect   \n1                            1108223          1              correct   \n2                            1108212          5              correct   \n3                            1108214          0            incorrect   \n4                            1108222          0            incorrect   \n5                            1108219          1    partially_correct   \n6                            1108217          1              correct   \n7                            1108208          0            incorrect   \n8                            1108216         10              correct   \n9                            1108213          0            incorrect   \n10                           1108221          0            incorrect   \n11                           1108207          5              correct   \n12                           1108209          5              correct   \n13                           1108224          1              correct   \n14                           1108218          1              correct   \n15                           1108225          1              correct   \n16                           1108211          0            incorrect   \n17                           1108210          0            incorrect   \n18                           1108227          1              correct   \n19                           1108220          1              correct   \n20                           1108226          1              correct   \n\n    item_attempt_duration_mins  \n0                    18.133333  \n1                    17.950000  \n2                    17.666667  \n3                     2.950000  \n4                    31.900000  \n5                    30.033333  \n6                    31.000000  \n7                     1.333333  \n8                    32.166667  \n9                    31.833333  \n10                   32.216667  \n11                   34.283333  \n12                   32.100000  \n13                   31.000000  \n14                   34.350000  \n15                   20.600000  \n16                   31.266667  \n17                   19.933333  \n18                   12.516667  \n19                   31.983333  \n20                   31.033333  ",
      "text/html": "<div>\n<style scoped>\n    .dataframe tbody tr th:only-of-type {\n        vertical-align: middle;\n    }\n\n    .dataframe tbody tr th {\n        vertical-align: top;\n    }\n\n    .dataframe thead th {\n        text-align: right;\n    }\n</style>\n<table border=\"1\" class=\"dataframe\">\n  <thead>\n    <tr style=\"text-align: right;\">\n      <th></th>\n      <th>assessment_item_response_id</th>\n      <th>assigned_item_status</th>\n      <th>is_deleted</th>\n      <th>item_attempt_end_datetime_utc</th>\n      <th>item_attempt_start_datetime_utc</th>\n      <th>learner_assigned_item_attempt_id</th>\n      <th>raw_score</th>\n      <th>response_correctness</th>\n      <th>item_attempt_duration_mins</th>\n    </tr>\n  </thead>\n  <tbody>\n    <tr>\n      <th>0</th>\n      <td>1276407</td>\n      <td>scored</td>\n      <td>False</td>\n      <td>2020-01-10 20:46:08.571</td>\n      <td>2020-01-10 20:28:00.497</td>\n      <td>1108215</td>\n      <td>0</td>\n      <td>incorrect</td>\n      <td>18.133333</td>\n    </tr>\n    <tr>\n      <th>1</th>\n      <td>1237323</td>\n      <td>scored</td>\n      <td>False</td>\n      <td>2020-01-10 20:43:01.281</td>\n      <td>2020-01-10 20:25:04.280</td>\n      <td>1108223</td>\n      <td>1</td>\n      <td>correct</td>\n      <td>17.950000</td>\n    </tr>\n    <tr>\n      <th>2</th>\n      <td>1236259</td>\n      <td>scored</td>\n      <td>False</td>\n      <td>2020-01-10 20:43:04.012</td>\n      <td>2020-01-10 20:25:24.116</td>\n      <td>1108212</td>\n      <td>5</td>\n      <td>correct</td>\n      <td>17.666667</td>\n    </tr>\n    <tr>\n      <th>3</th>\n      <td>1234676</td>\n      <td>scored</td>\n      <td>False</td>\n      <td>2020-01-10 21:04:52.867</td>\n      <td>2020-01-10 21:01:55.129</td>\n      <td>1108214</td>\n      <td>0</td>\n      <td>incorrect</td>\n      <td>2.950000</td>\n    </tr>\n    <tr>\n      <th>4</th>\n      <td>1242906</td>\n      <td>scored</td>\n      <td>False</td>\n      <td>2020-01-10 21:04:32.863</td>\n      <td>2020-01-10 20:32:38.652</td>\n      <td>1108222</td>\n      <td>0</td>\n      <td>incorrect</td>\n      <td>31.900000</td>\n    </tr>\n    <tr>\n      <th>5</th>\n      <td>1242296</td>\n      <td>scored</td>\n      <td>False</td>\n      <td>2020-01-10 21:04:51.565</td>\n      <td>2020-01-10 20:34:49.082</td>\n      <td>1108219</td>\n      <td>1</td>\n      <td>partially_correct</td>\n      <td>30.033333</td>\n    </tr>\n    <tr>\n      <th>6</th>\n      <td>1245859</td>\n      <td>scored</td>\n      <td>False</td>\n      <td>2020-01-10 21:04:47.800</td>\n      <td>2020-01-10 20:33:47.543</td>\n      <td>1108217</td>\n      <td>1</td>\n      <td>correct</td>\n      <td>31.000000</td>\n    </tr>\n    <tr>\n      <th>7</th>\n      <td>1283745</td>\n      <td>scored</td>\n      <td>False</td>\n      <td>2020-01-10 21:04:55.281</td>\n      <td>2020-01-10 21:03:35.868</td>\n      <td>1108208</td>\n      <td>0</td>\n      <td>incorrect</td>\n      <td>1.333333</td>\n    </tr>\n    <tr>\n      <th>8</th>\n      <td>1235053</td>\n      <td>scored</td>\n      <td>False</td>\n      <td>2020-01-10 21:04:26.621</td>\n      <td>2020-01-10 20:32:16.222</td>\n      <td>1108216</td>\n      <td>10</td>\n      <td>correct</td>\n      <td>32.166667</td>\n    </tr>\n    <tr>\n      <th>9</th>\n      <td>1339453</td>\n      <td>scored</td>\n      <td>False</td>\n      <td>2020-01-10 21:04:34.516</td>\n      <td>2020-01-10 20:32:44.650</td>\n      <td>1108213</td>\n      <td>0</td>\n      <td>incorrect</td>\n      <td>31.833333</td>\n    </tr>\n    <tr>\n      <th>10</th>\n      <td>1253137</td>\n      <td>scored</td>\n      <td>False</td>\n      <td>2020-01-10 21:04:24.528</td>\n      <td>2020-01-10 20:32:11.995</td>\n      <td>1108221</td>\n      <td>0</td>\n      <td>incorrect</td>\n      <td>32.216667</td>\n    </tr>\n    <tr>\n      <th>11</th>\n      <td>1256010</td>\n      <td>scored</td>\n      <td>False</td>\n      <td>2020-01-10 21:04:22.554</td>\n      <td>2020-01-10 20:30:05.823</td>\n      <td>1108207</td>\n      <td>5</td>\n      <td>correct</td>\n      <td>34.283333</td>\n    </tr>\n    <tr>\n      <th>12</th>\n      <td>1291494</td>\n      <td>scored</td>\n      <td>False</td>\n      <td>2020-01-10 21:04:29.247</td>\n      <td>2020-01-10 20:32:23.457</td>\n      <td>1108209</td>\n      <td>5</td>\n      <td>correct</td>\n      <td>32.100000</td>\n    </tr>\n    <tr>\n      <th>13</th>\n      <td>1230603</td>\n      <td>scored</td>\n      <td>False</td>\n      <td>2020-01-10 21:04:44.253</td>\n      <td>2020-01-10 20:33:44.174</td>\n      <td>1108224</td>\n      <td>1</td>\n      <td>correct</td>\n      <td>31.000000</td>\n    </tr>\n    <tr>\n      <th>14</th>\n      <td>1250376</td>\n      <td>scored</td>\n      <td>False</td>\n      <td>2020-01-10 21:04:21.434</td>\n      <td>2020-01-10 20:30:00.926</td>\n      <td>1108218</td>\n      <td>1</td>\n      <td>correct</td>\n      <td>34.350000</td>\n    </tr>\n    <tr>\n      <th>15</th>\n      <td>1276415</td>\n      <td>scored</td>\n      <td>False</td>\n      <td>2020-01-10 20:50:01.375</td>\n      <td>2020-01-10 20:29:25.085</td>\n      <td>1108225</td>\n      <td>1</td>\n      <td>correct</td>\n      <td>20.600000</td>\n    </tr>\n    <tr>\n      <th>16</th>\n      <td>1257486</td>\n      <td>scored</td>\n      <td>False</td>\n      <td>2020-01-10 21:04:36.022</td>\n      <td>2020-01-10 20:33:20.523</td>\n      <td>1108211</td>\n      <td>0</td>\n      <td>incorrect</td>\n      <td>31.266667</td>\n    </tr>\n    <tr>\n      <th>17</th>\n      <td>1245739</td>\n      <td>scored</td>\n      <td>False</td>\n      <td>2020-01-10 20:48:25.229</td>\n      <td>2020-01-10 20:28:29.863</td>\n      <td>1108210</td>\n      <td>0</td>\n      <td>incorrect</td>\n      <td>19.933333</td>\n    </tr>\n    <tr>\n      <th>18</th>\n      <td>1262984</td>\n      <td>scored</td>\n      <td>False</td>\n      <td>2020-01-10 20:37:00.462</td>\n      <td>2020-01-10 20:24:29.653</td>\n      <td>1108227</td>\n      <td>1</td>\n      <td>correct</td>\n      <td>12.516667</td>\n    </tr>\n    <tr>\n      <th>19</th>\n      <td>1299043</td>\n      <td>scored</td>\n      <td>False</td>\n      <td>2020-01-10 21:04:31.229</td>\n      <td>2020-01-10 20:32:32.169</td>\n      <td>1108220</td>\n      <td>1</td>\n      <td>correct</td>\n      <td>31.983333</td>\n    </tr>\n    <tr>\n      <th>20</th>\n      <td>1249913</td>\n      <td>scored</td>\n      <td>False</td>\n      <td>2020-01-10 21:04:41.974</td>\n      <td>2020-01-10 20:33:39.203</td>\n      <td>1108226</td>\n      <td>1</td>\n      <td>correct</td>\n      <td>31.033333</td>\n    </tr>\n  </tbody>\n</table>\n</div>"
     },
     "execution_count": 13,
     "metadata": {},
     "output_type": "execute_result"
    }
   ],
   "source": [
    "filterDf.filter( F.col('assessment_instance_attempt_id') == 883967 ).select(*cats['itemAttemptVars']).distinct().toPandas()"
   ]
  },
  {
   "cell_type": "markdown",
   "metadata": {
    "collapsed": false
   },
   "source": [
    "- 21 items\n",
    "- All answered (scored)\n",
    "  - 12 correct\n",
    "  - 8 incorrect\n",
    "  - 1 partially correct\n"
   ]
  },
  {
   "cell_type": "code",
   "execution_count": 13,
   "metadata": {
    "collapsed": false,
    "pycharm": {
     "name": "#%%\n"
    }
   },
   "outputs": [],
   "source": []
  }
 ],
 "metadata": {
  "kernelspec": {
   "display_name": "Python 3",
   "language": "python",
   "name": "python3"
  },
  "language_info": {
   "codemirror_mode": {
    "name": "ipython",
    "version": 3
   },
   "file_extension": ".py",
   "mimetype": "text/x-python",
   "name": "python",
   "nbconvert_exporter": "python",
   "pygments_lexer": "ipython3",
   "version": "3.6.3"
  }
 },
 "nbformat": 4,
 "nbformat_minor": 1
}