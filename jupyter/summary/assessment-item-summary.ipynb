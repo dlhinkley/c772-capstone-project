{
 "cells": [
  {
   "cell_type": "code",
   "execution_count": 2,
   "metadata": {
    "collapsed": true
   },
   "outputs": [
    {
     "name": "stdout",
     "output_type": "stream",
     "text": [
      "dython              0.6.1\n",
      "tinydb              4.2.0\n"
     ]
    },
    {
     "name": "stderr",
     "output_type": "stream",
     "text": [
      "WARNING: You are using pip version 20.2.3; however, version 20.2.4 is available.\n",
      "You should consider upgrading via the '/Users/duane.hinkley/PycharmProjects/c772-capstone-project/venv/bin/python -m pip install --upgrade pip' command.\n",
      "WARNING: You are using pip version 20.2.3; however, version 20.2.4 is available.\n",
      "You should consider upgrading via the '/Users/duane.hinkley/PycharmProjects/c772-capstone-project/venv/bin/python -m pip install --upgrade pip' command.\n"
     ]
    }
   ],
   "source": [
    "%run '../lib/libraries.ipynb'"
   ]
  },
  {
   "cell_type": "code",
   "execution_count": 20,
   "outputs": [],
   "source": [
    "filterDf = load_df('filterDf')\n",
    "rawDf = load_df('rawDf')\n",
    "cats = get_var_cats()"
   ],
   "metadata": {
    "collapsed": false,
    "pycharm": {
     "name": "#%%\n"
    }
   }
  },
  {
   "cell_type": "markdown",
   "source": [
    "###### All observations count"
   ],
   "metadata": {
    "collapsed": false,
    "pycharm": {
     "name": "#%% md\n"
    }
   }
  },
  {
   "cell_type": "code",
   "execution_count": 21,
   "outputs": [
    {
     "data": {
      "text/plain": "149807"
     },
     "execution_count": 21,
     "metadata": {},
     "output_type": "execute_result"
    }
   ],
   "source": [
    "allCount = rawDf.count()\n",
    "allCount"
   ],
   "metadata": {
    "collapsed": false,
    "pycharm": {
     "name": "#%%\n"
    }
   }
  },
  {
   "cell_type": "markdown",
   "source": [
    "###### Observations with response"
   ],
   "metadata": {
    "collapsed": false,
    "pycharm": {
     "name": "#%% md\n"
    }
   }
  },
  {
   "cell_type": "code",
   "source": [
    "aiDf = filterDf.filter(F.col('assessment_item_response_id').isNull()  == False)\n",
    "\n",
    "respCount = aiDf.count()\n",
    "respCount"
   ],
   "metadata": {
    "collapsed": false,
    "pycharm": {
     "name": "#%%\n"
    }
   },
   "execution_count": 22,
   "outputs": [
    {
     "data": {
      "text/plain": "64838"
     },
     "execution_count": 22,
     "metadata": {},
     "output_type": "execute_result"
    }
   ]
  },
  {
   "cell_type": "markdown",
   "source": [
    "###### Percent of all with response"
   ],
   "metadata": {
    "collapsed": false,
    "pycharm": {
     "name": "#%% md\n"
    }
   }
  },
  {
   "cell_type": "code",
   "execution_count": 23,
   "outputs": [
    {
     "name": "stdout",
     "output_type": "stream",
     "text": [
      "43 %\n"
     ]
    }
   ],
   "source": [
    "print (round(respCount / allCount * 100), '%')"
   ],
   "metadata": {
    "collapsed": false,
    "pycharm": {
     "name": "#%%\n"
    }
   }
  },
  {
   "cell_type": "markdown",
   "source": [
    "###### Sample observation"
   ],
   "metadata": {
    "collapsed": false,
    "pycharm": {
     "name": "#%% md\n"
    }
   }
  },
  {
   "cell_type": "code",
   "execution_count": 11,
   "outputs": [
    {
     "name": "stdout",
     "output_type": "stream",
     "text": [
      "+------------------------+------------------+------------------+---------------------------------+-----------------------+--------------------------+--------------------------------+---------------------+-------------------+--------------------------+-------------------------+-------------------------+-------------------------+-----------------------------+------------------------+---------------+--------------------------+----------------------+---------------------+----------------------+----------------------+--------------------------+----------------------+-------------------+-------------------+-----------------+---------+--------------------+-------------------------------+-----------------------------+--------------------+----------+------+----------+-------------+----------------------+-----------------------------+------------------------------+----------+--------------------------------+---------------------------+\n",
      "|ced_assignment_type_code|is_affecting_grade|number_of_learners|number_of_distinct_instance_items|assignment_max_attempts|assignment_late_submission|assignment_final_submission_date|assignment_start_date|assignment_due_date|min_student_start_datetime|max_student_stop_datetime|assignment_attempt_number|was_fully_scored_datetime|was_submitted_datetime_actual|was_in_progress_datetime|is_force_scored|is_manual_scoring_required|student_start_datetime|student_stop_datetime|item_is_offline_scored|learner_attempt_status|points_possible_unweighted|final_score_unweighted|    scored_datetime|item_type_code_name|scoring_type_code|raw_score|response_correctness|item_attempt_start_datetime_utc|item_attempt_end_datetime_utc|assigned_item_status|is_deleted|org_id|section_id|assessment_id|assessment_instance_id|learner_assignment_attempt_id|assessment_instance_attempt_id|learner_id|learner_assigned_item_attempt_id|assessment_item_response_id|\n",
      "+------------------------+------------------+------------------+---------------------------------+-----------------------+--------------------------+--------------------------------+---------------------+-------------------+--------------------------+-------------------------+-------------------------+-------------------------+-----------------------------+------------------------+---------------+--------------------------+----------------------+---------------------+----------------------+----------------------+--------------------------+----------------------+-------------------+-------------------+-----------------+---------+--------------------+-------------------------------+-----------------------------+--------------------+----------+------+----------+-------------+----------------------+-----------------------------+------------------------------+----------+--------------------------------+---------------------------+\n",
      "|              assessment|              true|                23|                                5|                      1|                     false|             2020-01-18 05:59:00|  2019-11-25 06:00:00|2020-01-18 05:59:00|      2019-11-25 20:38:...|     2020-01-14 14:35:...|                        1|      2019-12-17 14:49:35|         2019-12-17 14:49:...|    2019-12-17 14:44:...|          false|                     false|  2019-12-17 14:44:...| 2019-12-17 14:49:...|                 false|          fully scored|                       5.0|                     4|2019-12-17 06:49:35|          trueFalse|        automatic|        1|             correct|           2019-12-17 14:44:...|         2019-12-17 14:45:...|              scored|     false| 19164|    172320|       320512|                450335|                       599754|                        749561|    949368|                         1049174|                    1198981|\n",
      "|              assessment|              true|                23|                                5|                      1|                     false|             2020-01-18 05:59:00|  2019-11-25 06:00:00|2020-01-18 05:59:00|      2019-11-25 20:38:...|     2020-01-14 14:35:...|                        1|      2019-12-17 14:49:35|         2019-12-17 14:49:...|    2019-12-17 14:44:...|          false|                     false|  2019-12-17 14:44:...| 2019-12-17 14:49:...|                 false|          fully scored|                       5.0|                     4|2019-12-17 06:49:35|          trueFalse|        automatic|        1|             correct|           2019-12-17 14:45:...|         2019-12-17 14:46:...|              scored|     false| 19164|    172320|       320512|                450335|                       599754|                        749561|    949368|                         1049175|                    1198982|\n",
      "|              assessment|              true|                23|                                5|                      1|                     false|             2020-01-18 05:59:00|  2019-11-25 06:00:00|2020-01-18 05:59:00|      2019-11-25 20:38:...|     2020-01-14 14:35:...|                        1|     2019-11-26 04:05:...|         2019-11-26 04:05:...|    2019-11-26 04:05:...|          false|                     false|  2019-11-26 04:05:...| 2019-11-26 04:05:...|                 false|          fully scored|                       5.0|                     5|2019-11-25 20:05:53|          trueFalse|        automatic|        1|             correct|           2019-11-26 04:05:...|         2019-11-26 04:05:...|              scored|     false| 19164|    172320|       320512|                450335|                       599950|                        749754|    961971|                         1049368|                    1199176|\n",
      "|              assessment|              true|                23|                                5|                      1|                     false|             2020-01-18 05:59:00|  2019-11-25 06:00:00|2020-01-18 05:59:00|      2019-11-25 20:38:...|     2020-01-14 14:35:...|                        1|     2019-11-26 04:05:...|         2019-11-26 04:05:...|    2019-11-26 04:05:...|          false|                     false|  2019-11-26 04:05:...| 2019-11-26 04:05:...|                 false|          fully scored|                       5.0|                     5|2019-11-25 20:05:53|          trueFalse|        automatic|        1|             correct|           2019-11-26 04:05:...|         2019-11-26 04:05:...|              scored|     false| 19164|    172320|       320512|                450335|                       599950|                        749754|    961971|                         1049369|                    1199175|\n",
      "|              assessment|              true|                22|                               55|                      1|                     false|             2020-01-18 05:59:00|  2019-12-06 06:00:00|2020-01-18 05:59:00|      2019-12-06 14:30:...|     2020-01-13 20:52:...|                        1|      2019-12-06 15:08:47|         2019-12-06 15:08:...|    2019-12-06 14:30:...|          false|                     false|  2019-12-06 14:30:...| 2019-12-06 15:08:...|                 false|          fully scored|                      55.0|                    25|2019-12-06 07:08:47|          trueFalse|        automatic|        1|             correct|            2019-12-06 14:42:25|         2019-12-06 14:42:...|              scored|     false| 19164|    172320|       337456|                487348|                       637754|                        801322|    956806|                         1049390|                    1199197|\n",
      "|              assessment|              true|                23|                                5|                      1|                     false|             2020-01-18 05:59:00|  2019-11-25 06:00:00|2020-01-18 05:59:00|      2019-11-25 20:38:...|     2020-01-14 14:35:...|                        1|      2019-12-17 14:49:10|         2019-12-17 14:49:...|    2019-12-12 15:02:...|          false|                     false|  2019-12-12 15:02:...| 2019-12-17 14:49:...|                 false|          fully scored|                       5.0|                     3|2019-12-17 06:49:10|          trueFalse|        automatic|        0|           incorrect|           2019-12-17 14:40:...|         2019-12-17 14:45:...|              scored|     false| 19164|    172320|       320512|                450335|                       600117|                        810244|   1037818|                         1049529|                    1199337|\n",
      "|              assessment|              true|                23|                                5|                      1|                     false|             2020-01-18 05:59:00|  2019-11-25 06:00:00|2020-01-18 05:59:00|      2019-11-25 20:38:...|     2020-01-14 14:35:...|                        1|      2019-12-17 14:49:10|         2019-12-17 14:49:...|    2019-12-12 15:02:...|          false|                     false|  2019-12-12 15:02:...| 2019-12-17 14:49:...|                 false|          fully scored|                       5.0|                     3|2019-12-17 06:49:10|          trueFalse|        automatic|        1|             correct|           2019-12-12 15:02:...|         2019-12-17 14:38:...|              scored|     false| 19164|    172320|       320512|                450335|                       600117|                        810244|   1037818|                         1049530|                    1199336|\n",
      "|              assessment|              true|                23|                                5|                      1|                     false|             2020-01-18 05:59:00|  2019-11-25 06:00:00|2020-01-18 05:59:00|      2019-11-25 20:38:...|     2020-01-14 14:35:...|                        1|      2019-11-25 20:54:19|         2019-11-25 20:54:...|    2019-11-25 20:53:...|          false|                     false|  2019-11-25 20:53:...| 2019-11-25 20:54:...|                 false|          fully scored|                       5.0|                     5|2019-11-25 12:54:19|          trueFalse|        automatic|        1|             correct|           2019-11-25 20:53:...|         2019-11-25 20:53:...|              scored|     false| 19164|    172320|       320512|                450335|                       600346|                        750147|   1039141|                         1049750|                    1199558|\n",
      "|              assessment|              true|                23|                                5|                      1|                     false|             2020-01-18 05:59:00|  2019-11-25 06:00:00|2020-01-18 05:59:00|      2019-11-25 20:38:...|     2020-01-14 14:35:...|                        1|      2019-11-25 20:54:19|         2019-11-25 20:54:...|    2019-11-25 20:53:...|          false|                     false|  2019-11-25 20:53:...| 2019-11-25 20:54:...|                 false|          fully scored|                       5.0|                     5|2019-11-25 12:54:19|          trueFalse|        automatic|        1|             correct|           2019-11-25 20:53:...|         2019-11-25 20:53:...|              scored|     false| 19164|    172320|       320512|                450335|                       600346|                        750147|   1039141|                         1049751|                    1199559|\n",
      "|              assessment|              true|                23|                                5|                      1|                     false|             2020-01-18 05:59:00|  2019-11-25 06:00:00|2020-01-18 05:59:00|      2019-11-25 20:38:...|     2020-01-14 14:35:...|                        1|      2019-12-17 14:49:35|         2019-12-17 14:49:...|    2019-12-17 14:44:...|          false|                     false|  2019-12-17 14:44:...| 2019-12-17 14:49:...|                 false|          fully scored|                       5.0|                     4|2019-12-17 06:49:35|          trueFalse|        automatic|        1|             correct|           2019-12-17 14:46:...|         2019-12-17 14:46:...|              scored|     false| 19164|    172320|       320512|                450335|                       599754|                        749561|    949368|                         1049752|                    1199557|\n",
      "|              assessment|              true|                23|                                5|                      1|                     false|             2020-01-18 05:59:00|  2019-11-25 06:00:00|2020-01-18 05:59:00|      2019-11-25 20:38:...|     2020-01-14 14:35:...|                        1|      2019-12-17 14:49:35|         2019-12-17 14:49:...|    2019-12-17 14:44:...|          false|                     false|  2019-12-17 14:44:...| 2019-12-17 14:49:...|                 false|          fully scored|                       5.0|                     4|2019-12-17 06:49:35|          trueFalse|        automatic|        1|             correct|           2019-12-17 14:45:...|         2019-12-17 14:45:...|              scored|     false| 19164|    172320|       320512|                450335|                       599754|                        749561|    949368|                         1049753|                    1306009|\n",
      "|              assessment|              true|                23|                                5|                      1|                     false|             2020-01-18 05:59:00|  2019-11-25 06:00:00|2020-01-18 05:59:00|      2019-11-25 20:38:...|     2020-01-14 14:35:...|                        1|      2019-12-17 14:49:35|         2019-12-17 14:49:...|    2019-12-17 14:44:...|          false|                     false|  2019-12-17 14:44:...| 2019-12-17 14:49:...|                 false|          fully scored|                       5.0|                     4|2019-12-17 06:49:35|     multipleChoice|        automatic|        0|           incorrect|           2019-12-17 14:46:...|         2019-12-17 14:49:...|              scored|     false| 19164|    172320|       320512|                450335|                       599754|                        749561|    949368|                         1049754|                    1343523|\n",
      "|              assessment|              true|                29|                               10|                      1|                     false|             2020-02-14 20:00:00|  2020-02-11 05:00:00|2020-02-14 20:00:00|      2020-02-11 14:23:...|     2020-02-14 14:26:...|                        1|     2020-02-11 14:52:...|         2020-02-11 14:52:...|    2020-02-11 14:33:...|          false|                     false|  2020-02-11 14:33:...| 2020-02-11 14:52:...|                 false|          fully scored|                      10.0|                    10|2020-02-11 06:52:38|      equationEntry|        automatic|        1|             correct|            2020-02-11 14:52:07|         2020-02-11 14:52:...|              scored|     false|130845|    149902|       299764|                574771|                       724627|                        756986|    985496|                         1049939|                    1199744|\n",
      "|              assessment|              true|                26|                               10|                      1|                     false|             2020-01-11 05:59:00|  2019-10-23 05:00:00|2020-01-11 05:59:00|      2019-10-29 18:36:...|     2020-01-09 19:36:...|                        1|     2019-10-31 16:37:...|         2019-10-31 16:37:...|    2019-10-31 16:28:...|          false|                     false|  2019-10-31 16:28:...| 2019-10-31 16:37:...|                 false|          fully scored|                      10.0|                     5|2019-10-31 09:37:50|          trueFalse|        automatic|        0|           incorrect|           2019-10-31 16:29:...|         2019-10-31 16:30:...|              scored|     false| 19164|    190142|       334272|                483946|                       634251|                        750424|    945792|                         1050027|                    1199834|\n",
      "|              assessment|              true|                26|                               10|                      1|                     false|             2020-01-11 05:59:00|  2019-10-23 05:00:00|2020-01-11 05:59:00|      2019-10-29 18:36:...|     2020-01-09 19:36:...|                        1|     2019-10-31 16:37:...|         2019-10-31 16:37:...|    2019-10-31 16:28:...|          false|                     false|  2019-10-31 16:28:...| 2019-10-31 16:37:...|                 false|          fully scored|                      10.0|                     5|2019-10-31 09:37:50|     multipleChoice|        automatic|        0|           incorrect|           2019-10-31 16:32:...|         2019-10-31 16:35:...|              scored|     false| 19164|    190142|       334272|                483946|                       634251|                        750424|    945792|                         1050028|                    1199832|\n",
      "|              assessment|              true|                26|                               10|                      1|                     false|             2020-01-11 05:59:00|  2019-10-23 05:00:00|2020-01-11 05:59:00|      2019-10-29 18:36:...|     2020-01-09 19:36:...|                        1|     2019-10-31 16:37:...|         2019-10-31 16:37:...|    2019-10-31 16:28:...|          false|                     false|  2019-10-31 16:28:...| 2019-10-31 16:37:...|                 false|          fully scored|                      10.0|                     5|2019-10-31 09:37:50|          trueFalse|        automatic|        1|             correct|           2019-10-31 16:32:...|         2019-10-31 16:32:...|              scored|     false| 19164|    190142|       334272|                483946|                       634251|                        750424|    945792|                         1050029|                    1199833|\n",
      "|              assessment|              true|                16|                               55|                      1|                     false|             2020-02-06 05:59:00|  2019-12-06 06:00:00|2020-01-07 05:59:00|      2019-12-06 15:20:...|     2019-12-12 21:08:...|                        1|     2019-12-06 16:03:...|         2019-12-06 16:03:...|    2019-12-06 15:23:...|          false|                     false|  2019-12-06 15:23:...| 2019-12-06 16:03:...|                 false|          fully scored|                      55.0|                    43|2019-12-06 08:03:38|          trueFalse|        automatic|        1|             correct|           2019-12-06 15:49:...|         2019-12-06 16:02:...|              scored|     false| 19164|    190290|       337456|                475764|                       625498|                        869243|    989921|                         1083504|                    1229958|\n",
      "|              assessment|              true|                24|                               10|                      1|                     false|             2019-10-26 03:59:00|  2019-10-14 04:00:00|2019-10-26 03:59:00|      2019-10-14 12:24:...|     2019-11-22 12:54:...|                        1|     2019-10-14 13:16:...|         2019-10-14 13:16:...|    2019-10-14 12:32:...|          false|                     false|  2019-10-14 12:32:...| 2019-10-14 13:16:...|                 false|          fully scored|                      10.0|                     0|2019-10-14 06:16:42|          bucketing|        automatic|        0|           incorrect|           2019-10-14 13:06:...|         2019-10-14 13:16:...|              scored|     false|130845|    150237|       374663|                558087|                       707791|                        816966|    991842|                         1083519|                    1229973|\n",
      "|                practice|             false|                44|                                1|                      1|                     false|             2019-10-02 04:59:00|  2019-09-30 05:00:00|2019-10-02 04:59:00|      2019-09-30 16:24:...|     2019-10-01 17:45:...|                        1|     2019-09-30 18:18:...|         2019-09-30 18:18:...|    2019-09-30 18:16:...|          false|                     false|  2019-09-30 18:16:...| 2019-09-30 18:18:...|                 false|          fully scored|                      15.0|                    15|2019-09-30 11:18:33|              cloze|        automatic|       15|             correct|           2019-09-30 18:16:...|         2019-09-30 18:18:...|              scored|     false|117713|    150165|       361708|                511574|                       661459|                        802806|   1023272|                         1083523|                    1229977|\n",
      "|              assessment|              true|                23|                                5|                      1|                     false|             2020-01-18 05:59:00|  2019-11-25 06:00:00|2020-01-18 05:59:00|      2019-11-25 20:38:...|     2020-01-14 14:35:...|                        1|      2019-12-17 14:49:10|         2019-12-17 14:49:...|    2019-12-12 15:02:...|          false|                     false|  2019-12-12 15:02:...| 2019-12-17 14:49:...|                 false|          fully scored|                       5.0|                     3|2019-12-17 06:49:10|          trueFalse|        automatic|        1|             correct|           2019-12-17 14:38:...|         2019-12-17 14:39:...|              scored|     false| 19164|    172320|       320512|                450335|                       600117|                        810244|   1037818|                         1083683|                    1230143|\n",
      "+------------------------+------------------+------------------+---------------------------------+-----------------------+--------------------------+--------------------------------+---------------------+-------------------+--------------------------+-------------------------+-------------------------+-------------------------+-----------------------------+------------------------+---------------+--------------------------+----------------------+---------------------+----------------------+----------------------+--------------------------+----------------------+-------------------+-------------------+-----------------+---------+--------------------+-------------------------------+-----------------------------+--------------------+----------+------+----------+-------------+----------------------+-----------------------------+------------------------------+----------+--------------------------------+---------------------------+\n",
      "only showing top 20 rows\n",
      "\n"
     ]
    }
   ],
   "source": [
    "aiDf.select('*').show()"
   ],
   "metadata": {
    "collapsed": false,
    "pycharm": {
     "name": "#%%\n"
    }
   }
  },
  {
   "cell_type": "markdown",
   "source": [
    "###### Number of observations"
   ],
   "metadata": {
    "collapsed": false,
    "pycharm": {
     "name": "#%% md\n"
    }
   }
  },
  {
   "cell_type": "code",
   "execution_count": 14,
   "outputs": [
    {
     "data": {
      "text/plain": "64838"
     },
     "execution_count": 14,
     "metadata": {},
     "output_type": "execute_result"
    }
   ],
   "source": [
    "totalCount = aiDf.count()\n",
    "totalCount"
   ],
   "metadata": {
    "collapsed": false,
    "pycharm": {
     "name": "#%%\n"
    }
   }
  },
  {
   "cell_type": "markdown",
   "source": [
    "###### Number of incomplete observations"
   ],
   "metadata": {
    "collapsed": false,
    "pycharm": {
     "name": "#%% md\n"
    }
   }
  },
  {
   "cell_type": "code",
   "execution_count": 15,
   "outputs": [
    {
     "data": {
      "text/plain": "6396"
     },
     "execution_count": 15,
     "metadata": {},
     "output_type": "execute_result"
    }
   ],
   "source": [
    "incompleteCount = aiDf.subtract( aiDf.dropna() ).count()\n",
    "incompleteCount"
   ],
   "metadata": {
    "collapsed": false,
    "pycharm": {
     "name": "#%%\n"
    }
   }
  },
  {
   "cell_type": "markdown",
   "source": [
    "###### Percent incomplete"
   ],
   "metadata": {
    "collapsed": false,
    "pycharm": {
     "name": "#%% md\n"
    }
   }
  },
  {
   "cell_type": "code",
   "execution_count": 19,
   "outputs": [
    {
     "name": "stdout",
     "output_type": "stream",
     "text": [
      "10 %\n"
     ]
    }
   ],
   "source": [
    "print (round(incompleteCount / totalCount * 100), '%')"
   ],
   "metadata": {
    "collapsed": false,
    "pycharm": {
     "name": "#%%\n"
    }
   }
  },
  {
   "cell_type": "code",
   "execution_count": null,
   "outputs": [],
   "source": [],
   "metadata": {
    "collapsed": false,
    "pycharm": {
     "name": "#%%\n"
    }
   }
  }
 ],
 "metadata": {
  "kernelspec": {
   "display_name": "Python 3",
   "language": "python",
   "name": "python3"
  },
  "language_info": {
   "codemirror_mode": {
    "name": "ipython",
    "version": 2
   },
   "file_extension": ".py",
   "mimetype": "text/x-python",
   "name": "python",
   "nbconvert_exporter": "python",
   "pygments_lexer": "ipython2",
   "version": "2.7.6"
  },
  "pycharm": {
   "stem_cell": {
    "cell_type": "raw",
    "source": [
     "%% md\n",
     "\n",
     "### Assessment Item Summary\n"
    ],
    "metadata": {
     "collapsed": false
    }
   }
  }
 },
 "nbformat": 4,
 "nbformat_minor": 0
}