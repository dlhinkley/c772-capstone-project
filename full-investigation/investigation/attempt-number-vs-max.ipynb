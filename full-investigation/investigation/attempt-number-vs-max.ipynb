{
 "cells": [
  {
   "cell_type": "markdown",
   "metadata": {},
   "source": [
    "### Investigate binary variables assignment_attempt_number and assignment_max_attempts"
   ]
  },
  {
   "cell_type": "code",
   "execution_count": 1,
   "metadata": {
    "execution": {
     "iopub.execute_input": "2020-10-28T01:19:50.463370Z",
     "iopub.status.busy": "2020-10-28T01:19:50.460904Z",
     "iopub.status.idle": "2020-10-28T01:19:59.746567Z",
     "shell.execute_reply": "2020-10-28T01:19:59.747264Z"
    },
    "pycharm": {
     "name": "#%%\n"
    }
   },
   "outputs": [],
   "source": [
    "%%capture\n",
    "\n",
    "%run '../lib/libraries.ipynb'\n",
    "from ..lib import utilities as util\n",
    "from pyspark.sql import functions as F\n",
    "import pandas as pd"
   ]
  },
  {
   "cell_type": "code",
   "execution_count": 2,
   "metadata": {
    "execution": {
     "iopub.execute_input": "2020-10-28T01:19:59.752810Z",
     "iopub.status.busy": "2020-10-28T01:19:59.751909Z",
     "iopub.status.idle": "2020-10-28T01:20:05.096876Z",
     "shell.execute_reply": "2020-10-28T01:20:05.097602Z"
    },
    "pycharm": {
     "name": "#%%\n"
    }
   },
   "outputs": [],
   "source": [
    "filterDf = util.load_df('filterDf')"
   ]
  },
  {
   "cell_type": "markdown",
   "metadata": {
    "collapsed": true,
    "pycharm": {
     "name": "#%% md\n"
    }
   },
   "source": [
    "Appears binary but the variable name indicates it could have any values. The data only contains 1 and 0"
   ]
  },
  {
   "cell_type": "code",
   "execution_count": 3,
   "metadata": {
    "execution": {
     "iopub.execute_input": "2020-10-28T01:20:05.105192Z",
     "iopub.status.busy": "2020-10-28T01:20:05.103816Z",
     "iopub.status.idle": "2020-10-28T01:20:07.514291Z",
     "shell.execute_reply": "2020-10-28T01:20:07.514942Z"
    },
    "pycharm": {
     "name": "#%%\n"
    }
   },
   "outputs": [
    {
     "data": {
      "text/plain": "assignment_max_attempts       0      1  Total\nassignment_attempt_number                    \n0                          1566      0   1566\n1                             0  63272  63272\nTotal                      1566  63272  64838",
      "text/html": "<div>\n<style scoped>\n    .dataframe tbody tr th:only-of-type {\n        vertical-align: middle;\n    }\n\n    .dataframe tbody tr th {\n        vertical-align: top;\n    }\n\n    .dataframe thead th {\n        text-align: right;\n    }\n</style>\n<table border=\"1\" class=\"dataframe\">\n  <thead>\n    <tr style=\"text-align: right;\">\n      <th>assignment_max_attempts</th>\n      <th>0</th>\n      <th>1</th>\n      <th>Total</th>\n    </tr>\n    <tr>\n      <th>assignment_attempt_number</th>\n      <th></th>\n      <th></th>\n      <th></th>\n    </tr>\n  </thead>\n  <tbody>\n    <tr>\n      <th>0</th>\n      <td>1566</td>\n      <td>0</td>\n      <td>1566</td>\n    </tr>\n    <tr>\n      <th>1</th>\n      <td>0</td>\n      <td>63272</td>\n      <td>63272</td>\n    </tr>\n    <tr>\n      <th>Total</th>\n      <td>1566</td>\n      <td>63272</td>\n      <td>64838</td>\n    </tr>\n  </tbody>\n</table>\n</div>"
     },
     "execution_count": 3,
     "metadata": {},
     "output_type": "execute_result"
    }
   ],
   "source": [
    "dfPd = filterDf.select('assignment_attempt_number', 'assignment_max_attempts').toPandas()\n",
    "pd.crosstab(dfPd.assignment_attempt_number.fillna('null'), dfPd.assignment_max_attempts.fillna('null'), margins=True, margins_name=\"Total\")"
   ]
  },
  {
   "cell_type": "markdown",
   "metadata": {},
   "source": [
    "- both variables only contain \"0\" 1566 out of 78,982 observations, otherwise the value is always \"1\"\n",
    "- are they the same 1566 as the \"[unassigned]\" in response_correctness"
   ]
  },
  {
   "cell_type": "markdown",
   "metadata": {},
   "source": [
    "###### Verify same variables as the  1566 as the \"[unassigned]\" in response_correctness"
   ]
  },
  {
   "cell_type": "code",
   "execution_count": 4,
   "metadata": {
    "execution": {
     "iopub.execute_input": "2020-10-28T01:20:07.523519Z",
     "iopub.status.busy": "2020-10-28T01:20:07.522042Z",
     "iopub.status.idle": "2020-10-28T01:20:08.484765Z",
     "shell.execute_reply": "2020-10-28T01:20:08.485774Z"
    },
    "pycharm": {
     "name": "#%%\n"
    }
   },
   "outputs": [
    {
     "data": {
      "text/plain": "1566"
     },
     "execution_count": 4,
     "metadata": {},
     "output_type": "execute_result"
    }
   ],
   "source": [
    "filterDf.where( ( F.col('response_correctness') == '[unassigned]') & (F.col('assignment_max_attempts') == 0) & (F.col('assignment_attempt_number') == 0)).select().count()"
   ]
  },
  {
   "cell_type": "markdown",
   "metadata": {
    "pycharm": {
     "name": "#%% md\n"
    }
   },
   "source": [
    "#### Conclusion\n",
    "- This is related to the 1566 as the \"[unassigned]\" in response_correctness\n",
    "- ~~Address in the investigation of the 1566~~\n",
    "- No action required\n",
    "  - variables won't be used"
   ]
  },
  {
   "cell_type": "code",
   "execution_count": 5,
   "metadata": {
    "execution": {
     "iopub.execute_input": "2020-10-28T01:20:08.493478Z",
     "iopub.status.busy": "2020-10-28T01:20:08.492102Z",
     "iopub.status.idle": "2020-10-28T01:20:08.496703Z",
     "shell.execute_reply": "2020-10-28T01:20:08.497778Z"
    },
    "pycharm": {
     "name": "#%%\n"
    }
   },
   "outputs": [
    {
     "name": "stdout",
     "output_type": "stream",
     "text": [
      "Finished: Investigate binary variables assignment_attempt_number and assignment_max_attempts\n"
     ]
    }
   ],
   "source": [
    "util.finish_todo(\"Investigate binary variables assignment_attempt_number and assignment_max_attempts\")"
   ]
  },
  {
   "cell_type": "code",
   "execution_count": 5,
   "metadata": {
    "pycharm": {
     "name": "#%%\n"
    }
   },
   "outputs": [],
   "source": []
  }
 ],
 "metadata": {
  "kernelspec": {
   "display_name": "Python 3",
   "language": "python",
   "name": "python3"
  },
  "language_info": {
   "codemirror_mode": {
    "name": "ipython",
    "version": 3
   },
   "file_extension": ".py",
   "mimetype": "text/x-python",
   "name": "python",
   "nbconvert_exporter": "python",
   "pygments_lexer": "ipython3",
   "version": "3.6.3"
  }
 },
 "nbformat": 4,
 "nbformat_minor": 1
}