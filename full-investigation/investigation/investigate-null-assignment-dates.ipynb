{
 "cells": [
  {
   "cell_type": "markdown",
   "metadata": {},
   "source": [
    "### Investigate null assignment dates\n",
    "    - in\n",
    "      - assignment_due_date\n",
    "      - assignment_final_submission_date\n",
    "      - assignment_start_date\n",
    "    - Verify same observations as 1566 [unassigned] in response_correctness'"
   ]
  },
  {
   "cell_type": "code",
   "execution_count": 1,
   "metadata": {
    "execution": {
     "iopub.execute_input": "2020-10-28T01:21:41.889723Z",
     "iopub.status.busy": "2020-10-28T01:21:41.886444Z",
     "iopub.status.idle": "2020-10-28T01:21:51.433130Z",
     "shell.execute_reply": "2020-10-28T01:21:51.433860Z"
    },
    "pycharm": {
     "name": "#%%\n"
    }
   },
   "outputs": [],
   "source": [
    "%%capture\n",
    "\n",
    "%run '../lib/libraries.ipynb'\n",
    "from ..lib import utilities as util\n",
    "from pyspark.sql import functions as F"
   ]
  },
  {
   "cell_type": "code",
   "execution_count": 2,
   "metadata": {
    "execution": {
     "iopub.execute_input": "2020-10-28T01:21:51.440293Z",
     "iopub.status.busy": "2020-10-28T01:21:51.439230Z",
     "iopub.status.idle": "2020-10-28T01:21:56.596766Z",
     "shell.execute_reply": "2020-10-28T01:21:56.597642Z"
    },
    "pycharm": {
     "name": "#%%\n"
    }
   },
   "outputs": [],
   "source": [
    "filterDf  = util.load_df('filterDf')"
   ]
  },
  {
   "cell_type": "markdown",
   "source": [
    "###### Create Dataframe of null dates"
   ],
   "metadata": {
    "collapsed": false
   }
  },
  {
   "cell_type": "code",
   "execution_count": 3,
   "outputs": [
    {
     "data": {
      "text/plain": "1566"
     },
     "execution_count": 3,
     "metadata": {},
     "output_type": "execute_result"
    }
   ],
   "source": [
    "nullDf = filterDf.filter(F.col(\"assignment_due_date\").isNull())\n",
    "\n",
    "nullDf.count()"
   ],
   "metadata": {
    "collapsed": false,
    "pycharm": {
     "name": "#%%\n"
    }
   }
  },
  {
   "cell_type": "markdown",
   "source": [
    "1,566 null observations"
   ],
   "metadata": {
    "collapsed": false
   }
  },
  {
   "cell_type": "markdown",
   "source": [
    "###### Display distinct values"
   ],
   "metadata": {
    "collapsed": false
   }
  },
  {
   "cell_type": "code",
   "execution_count": 4,
   "outputs": [
    {
     "data": {
      "text/plain": "                                                 0\nassigned_item_status (ia)                   scored\nassignment_attempt_number (aa)                   0\nassignment_due_date (a)                        NaT\nassignment_final_submission_date (a)           NaT\nassignment_max_attempts (a)                      0\nassignment_start_date (a)                      NaT\nis_affecting_grade (a)                        True\nis_force_scored (aa)                         False\nis_manual_scoring_required (aa)              False\nitem_is_offline_scored (i)                   False\norg_id (o)                                  117713\nresponse_correctness (ia)             [unassigned]\nscoring_type_code (i)                 [unassigned]\ntimeliness_duration_mins (aa)                  NaN",
      "text/html": "<div>\n<style scoped>\n    .dataframe tbody tr th:only-of-type {\n        vertical-align: middle;\n    }\n\n    .dataframe tbody tr th {\n        vertical-align: top;\n    }\n\n    .dataframe thead th {\n        text-align: right;\n    }\n</style>\n<table border=\"1\" class=\"dataframe\">\n  <thead>\n    <tr style=\"text-align: right;\">\n      <th></th>\n      <th>0</th>\n    </tr>\n  </thead>\n  <tbody>\n    <tr>\n      <th>assigned_item_status (ia)</th>\n      <td>scored</td>\n    </tr>\n    <tr>\n      <th>assignment_attempt_number (aa)</th>\n      <td>0</td>\n    </tr>\n    <tr>\n      <th>assignment_due_date (a)</th>\n      <td>NaT</td>\n    </tr>\n    <tr>\n      <th>assignment_final_submission_date (a)</th>\n      <td>NaT</td>\n    </tr>\n    <tr>\n      <th>assignment_max_attempts (a)</th>\n      <td>0</td>\n    </tr>\n    <tr>\n      <th>assignment_start_date (a)</th>\n      <td>NaT</td>\n    </tr>\n    <tr>\n      <th>is_affecting_grade (a)</th>\n      <td>True</td>\n    </tr>\n    <tr>\n      <th>is_force_scored (aa)</th>\n      <td>False</td>\n    </tr>\n    <tr>\n      <th>is_manual_scoring_required (aa)</th>\n      <td>False</td>\n    </tr>\n    <tr>\n      <th>item_is_offline_scored (i)</th>\n      <td>False</td>\n    </tr>\n    <tr>\n      <th>org_id (o)</th>\n      <td>117713</td>\n    </tr>\n    <tr>\n      <th>response_correctness (ia)</th>\n      <td>[unassigned]</td>\n    </tr>\n    <tr>\n      <th>scoring_type_code (i)</th>\n      <td>[unassigned]</td>\n    </tr>\n    <tr>\n      <th>timeliness_duration_mins (aa)</th>\n      <td>NaN</td>\n    </tr>\n  </tbody>\n</table>\n</div>"
     },
     "execution_count": 4,
     "metadata": {},
     "output_type": "execute_result"
    }
   ],
   "source": [
    "util.distinct_val(nullDf)"
   ],
   "metadata": {
    "collapsed": false,
    "pycharm": {
     "name": "#%%\n"
    }
   }
  },
  {
   "cell_type": "markdown",
   "source": [
    "- response_correctness = [unassigned]\n",
    "  - same problem as unassigned in response correctness\n"
   ],
   "metadata": {
    "collapsed": false
   }
  },
  {
   "cell_type": "markdown",
   "metadata": {
    "pycharm": {
     "name": "#%% md\n"
    }
   },
   "source": [
    "#### Conclusion\n",
    "- They are the same observations\n",
    "- Same problem as 1566 [unassigned] in response_correctness\n",
    "- Will be addressed in \"Remove [unassigned] in response_correctness\""
   ]
  },
  {
   "cell_type": "code",
   "execution_count": 5,
   "metadata": {
    "execution": {
     "iopub.execute_input": "2020-10-28T01:21:59.773301Z",
     "iopub.status.busy": "2020-10-28T01:21:59.771891Z",
     "iopub.status.idle": "2020-10-28T01:21:59.776047Z",
     "shell.execute_reply": "2020-10-28T01:21:59.777303Z"
    },
    "pycharm": {
     "name": "#%%\n"
    }
   },
   "outputs": [
    {
     "name": "stdout",
     "output_type": "stream",
     "text": [
      "Finished: Investigate null assignment dates\n"
     ]
    }
   ],
   "source": [
    "util.finish_todo('Investigate null assignment dates')"
   ]
  },
  {
   "cell_type": "code",
   "execution_count": 5,
   "outputs": [],
   "source": [],
   "metadata": {
    "collapsed": false,
    "pycharm": {
     "name": "#%%\n"
    }
   }
  }
 ],
 "metadata": {
  "kernelspec": {
   "display_name": "Python 3",
   "language": "python",
   "name": "python3"
  },
  "language_info": {
   "codemirror_mode": {
    "name": "ipython",
    "version": 3
   },
   "file_extension": ".py",
   "mimetype": "text/x-python",
   "name": "python",
   "nbconvert_exporter": "python",
   "pygments_lexer": "ipython3",
   "version": "3.6.3"
  }
 },
 "nbformat": 4,
 "nbformat_minor": 1
}