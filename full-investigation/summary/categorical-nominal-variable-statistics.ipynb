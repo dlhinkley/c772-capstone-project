{
 "cells": [
  {
   "cell_type": "markdown",
   "source": [
    "### Categorical / Nominal Variables"
   ],
   "metadata": {
    "collapsed": false
   }
  },
  {
   "cell_type": "code",
   "execution_count": 1,
   "outputs": [],
   "source": [
    "%%capture\n",
    "%run '../lib/libraries.ipynb'\n",
    "from ..lib import utilities as util\n",
    "import pandas as pd"
   ],
   "metadata": {
    "collapsed": false,
    "pycharm": {
     "name": "#%%\n"
    }
   }
  },
  {
   "cell_type": "code",
   "execution_count": 2,
   "outputs": [],
   "source": [
    "filterDf  = util.load_df('filterDf')\n",
    "descDf = util.load_df('descDf')\n",
    "types = util.get_var_types()"
   ],
   "metadata": {
    "collapsed": false,
    "pycharm": {
     "name": "#%%\n"
    }
   }
  },
  {
   "cell_type": "markdown",
   "source": [
    "#### Variable List"
   ],
   "metadata": {
    "collapsed": false
   }
  },
  {
   "cell_type": "code",
   "execution_count": 3,
   "outputs": [
    {
     "data": {
      "text/plain": "                  category                  variable\n0           Assignment (a)  ced_assignment_type_code\n1  Assignment Attempt (aa)    learner_attempt_status\n2                 Item (i)       item_type_code_name\n3                 Item (i)         scoring_type_code\n4        Item Attempt (ia)      assigned_item_status\n5        Item Attempt (ia)      response_correctness",
      "text/html": "<div>\n<style scoped>\n    .dataframe tbody tr th:only-of-type {\n        vertical-align: middle;\n    }\n\n    .dataframe tbody tr th {\n        vertical-align: top;\n    }\n\n    .dataframe thead th {\n        text-align: right;\n    }\n</style>\n<table border=\"1\" class=\"dataframe\">\n  <thead>\n    <tr style=\"text-align: right;\">\n      <th></th>\n      <th>category</th>\n      <th>variable</th>\n    </tr>\n  </thead>\n  <tbody>\n    <tr>\n      <th>0</th>\n      <td>Assignment (a)</td>\n      <td>ced_assignment_type_code</td>\n    </tr>\n    <tr>\n      <th>1</th>\n      <td>Assignment Attempt (aa)</td>\n      <td>learner_attempt_status</td>\n    </tr>\n    <tr>\n      <th>2</th>\n      <td>Item (i)</td>\n      <td>item_type_code_name</td>\n    </tr>\n    <tr>\n      <th>3</th>\n      <td>Item (i)</td>\n      <td>scoring_type_code</td>\n    </tr>\n    <tr>\n      <th>4</th>\n      <td>Item Attempt (ia)</td>\n      <td>assigned_item_status</td>\n    </tr>\n    <tr>\n      <th>5</th>\n      <td>Item Attempt (ia)</td>\n      <td>response_correctness</td>\n    </tr>\n  </tbody>\n</table>\n</div>"
     },
     "execution_count": 3,
     "metadata": {},
     "output_type": "execute_result"
    }
   ],
   "source": [
    "util.variable_types(descDf, 'Categorical Nominal')"
   ],
   "metadata": {
    "collapsed": false,
    "pycharm": {
     "name": "#%%\n"
    }
   }
  },
  {
   "cell_type": "markdown",
   "source": [
    "#### Statistics"
   ],
   "metadata": {
    "collapsed": false,
    "pycharm": {
     "name": "#%% md\n"
    }
   }
  },
  {
   "cell_type": "code",
   "execution_count": 4,
   "outputs": [
    {
     "name": "stdout",
     "output_type": "stream",
     "text": [
      "+--------------------+-----+\n",
      "|assigned_item_status|count|\n",
      "+--------------------+-----+\n",
      "|scored              |64804|\n",
      "|responded           |34   |\n",
      "+--------------------+-----+\n",
      "\n",
      "+------------------------+-----+\n",
      "|ced_assignment_type_code|count|\n",
      "+------------------------+-----+\n",
      "|assessment              |61463|\n",
      "|practice                |1595 |\n",
      "|game                    |1555 |\n",
      "|clo                     |214  |\n",
      "|rubric                  |11   |\n",
      "+------------------------+-----+\n",
      "\n",
      "+----------------------+-----+\n",
      "|item_type_code_name   |count|\n",
      "+----------------------+-----+\n",
      "|multipleChoice        |26704|\n",
      "|fillInTheBlank        |10497|\n",
      "|equationEntry         |7841 |\n",
      "|trueFalse             |4561 |\n",
      "|cloze                 |3024 |\n",
      "|multipleSelect        |2295 |\n",
      "|graphing              |2076 |\n",
      "|MultipleChoiceResponse|1550 |\n",
      "|choiceMatrix          |1203 |\n",
      "|matching              |924  |\n",
      "|shortAnswer           |853  |\n",
      "|selectText            |813  |\n",
      "|bucketing             |799  |\n",
      "|sortable              |549  |\n",
      "|essay                 |531  |\n",
      "|numberLine            |302  |\n",
      "|aheAlgo               |219  |\n",
      "|imageLabel            |80   |\n",
      "|RubricResponse        |11   |\n",
      "|FillinBlankResponse   |5    |\n",
      "|fileUpload            |1    |\n",
      "+----------------------+-----+\n",
      "\n",
      "+----------------------+-----+\n",
      "|learner_attempt_status|count|\n",
      "+----------------------+-----+\n",
      "|fully scored          |64838|\n",
      "+----------------------+-----+\n",
      "\n",
      "+--------------------+-----+\n",
      "|response_correctness|count|\n",
      "+--------------------+-----+\n",
      "|correct             |43711|\n",
      "|incorrect           |18103|\n",
      "|[unassigned]        |1566 |\n",
      "|partially_correct   |1424 |\n",
      "|null                |34   |\n",
      "+--------------------+-----+\n",
      "\n",
      "+-----------------+-----+\n",
      "|scoring_type_code|count|\n",
      "+-----------------+-----+\n",
      "|automatic        |61668|\n",
      "|[unassigned]     |1600 |\n",
      "|manual           |1351 |\n",
      "|external         |219  |\n",
      "+-----------------+-----+\n",
      "\n"
     ]
    }
   ],
   "source": [
    "# Categorical / Nominal Values\n",
    "for f in types['nominalVars']:\n",
    "    util.count_values(filterDf, f).show(50, False)\n"
   ],
   "metadata": {
    "collapsed": false,
    "pycharm": {
     "name": "#%%\n"
    }
   }
  },
  {
   "cell_type": "markdown",
   "source": [
    "Null Values\n",
    "- response_correctness\n",
    "  - 34 null values\n",
    "    - investigate further\n",
    "  - 1566 \"[unassigned]\"\n",
    "    - investigate further for relation to the 1566 assignment_attempt_number and assignment_max_attempts values\n",
    "  - Could be null because the question wasn't answered or a different method of scoring the question\n",
    "- scoring_type_code\n",
    "  - 1600 \"[unassigned]\"\n",
    "\n",
    "Large number of categorical values\n",
    "- item_type_code_name\n",
    "  - Need to transform by reclassifying to reduce number of levels\n",
    "\n",
    "learner_attempt_status\n",
    "- Unary \"fully scored\"\n",
    "- Will not be used"
   ],
   "metadata": {
    "collapsed": false
   }
  },
  {
   "cell_type": "code",
   "execution_count": 5,
   "outputs": [
    {
     "name": "stdout",
     "output_type": "stream",
     "text": [
      "Todo: Investigate null values in response_correctness\n",
      "Todo: Investigate [unassigned] in response_correctness\n",
      "Todo: Investigate [unassigned] in scoring_type_code_name\n",
      "Todo: Reduce number of levels in item_type_code_name\n",
      "Todo: Remove unary learner_attempt_status = \"fully scored\"\n"
     ]
    }
   ],
   "source": [
    "# Create Todo list\n",
    "util.add_todo('Investigate null values in response_correctness')\n",
    "util.add_todo('Investigate [unassigned] in response_correctness')\n",
    "util.add_todo('Investigate [unassigned] in scoring_type_code')\n",
    "util.add_todo('Reduce number of levels in item_type_code_name')"
   ],
   "metadata": {
    "collapsed": false,
    "pycharm": {
     "name": "#%%\n"
    }
   }
  },
  {
   "cell_type": "markdown",
   "source": [
    "###### Correlations Heatmap"
   ],
   "metadata": {
    "collapsed": false
   }
  },
  {
   "cell_type": "code",
   "execution_count": 6,
   "outputs": [
    {
     "data": {
      "text/plain": "<Figure size 432x288 with 2 Axes>",
      "image/png": "[encoded data removed]"
     },
     "metadata": {
      "needs_background": "light"
     },
     "output_type": "display_data"
    }
   ],
   "source": [
    "corr, ax = util.associations( filterDf.select(*types['nominalVars']).toPandas(), nan_replace_value='null' )"
   ],
   "metadata": {
    "collapsed": false,
    "pycharm": {
     "name": "#%%\n"
    }
   }
  },
  {
   "cell_type": "markdown",
   "source": [
    "- High correlation\n",
    "  - item_type_code_name and scoring_type_code\n",
    "  - assigned_item_status and response_correctness\n",
    "- learner_attempt_status a single value ('fully scored)"
   ],
   "metadata": {
    "collapsed": false
   }
  },
  {
   "cell_type": "markdown",
   "source": [
    "###### Display item_type_code_name and scoring_type_code Correlation"
   ],
   "metadata": {
    "collapsed": false
   }
  },
  {
   "cell_type": "code",
   "execution_count": 7,
   "outputs": [
    {
     "data": {
      "text/plain": "scoring_type_code       [unassigned]  automatic  external  manual  Total\nitem_type_code_name                                                     \nFillinBlankResponse                5          0         0       0      5\nMultipleChoiceResponse          1550          0         0       0   1550\nRubricResponse                    11          0         0       0     11\naheAlgo                            0          0       219       0    219\nbucketing                          0        799         0       0    799\nchoiceMatrix                       0       1203         0       0   1203\ncloze                              0       3024         0       0   3024\nequationEntry                      0       7841         0       0   7841\nessay                              9          0         0     522    531\nfileUpload                         0          0         0       1      1\nfillInTheBlank                     0      10497         0       0  10497\ngraphing                           0       2076         0       0   2076\nimageLabel                         0         80         0       0     80\nmatching                           0        924         0       0    924\nmultipleChoice                     0      26704         0       0  26704\nmultipleSelect                     0       2295         0       0   2295\nnumberLine                         0        302         0       0    302\nselectText                         0        813         0       0    813\nshortAnswer                       25          0         0     828    853\nsortable                           0        549         0       0    549\ntrueFalse                          0       4561         0       0   4561\nTotal                           1600      61668       219    1351  64838",
      "text/html": "<div>\n<style scoped>\n    .dataframe tbody tr th:only-of-type {\n        vertical-align: middle;\n    }\n\n    .dataframe tbody tr th {\n        vertical-align: top;\n    }\n\n    .dataframe thead th {\n        text-align: right;\n    }\n</style>\n<table border=\"1\" class=\"dataframe\">\n  <thead>\n    <tr style=\"text-align: right;\">\n      <th>scoring_type_code</th>\n      <th>[unassigned]</th>\n      <th>automatic</th>\n      <th>external</th>\n      <th>manual</th>\n      <th>Total</th>\n    </tr>\n    <tr>\n      <th>item_type_code_name</th>\n      <th></th>\n      <th></th>\n      <th></th>\n      <th></th>\n      <th></th>\n    </tr>\n  </thead>\n  <tbody>\n    <tr>\n      <th>FillinBlankResponse</th>\n      <td>5</td>\n      <td>0</td>\n      <td>0</td>\n      <td>0</td>\n      <td>5</td>\n    </tr>\n    <tr>\n      <th>MultipleChoiceResponse</th>\n      <td>1550</td>\n      <td>0</td>\n      <td>0</td>\n      <td>0</td>\n      <td>1550</td>\n    </tr>\n    <tr>\n      <th>RubricResponse</th>\n      <td>11</td>\n      <td>0</td>\n      <td>0</td>\n      <td>0</td>\n      <td>11</td>\n    </tr>\n    <tr>\n      <th>aheAlgo</th>\n      <td>0</td>\n      <td>0</td>\n      <td>219</td>\n      <td>0</td>\n      <td>219</td>\n    </tr>\n    <tr>\n      <th>bucketing</th>\n      <td>0</td>\n      <td>799</td>\n      <td>0</td>\n      <td>0</td>\n      <td>799</td>\n    </tr>\n    <tr>\n      <th>choiceMatrix</th>\n      <td>0</td>\n      <td>1203</td>\n      <td>0</td>\n      <td>0</td>\n      <td>1203</td>\n    </tr>\n    <tr>\n      <th>cloze</th>\n      <td>0</td>\n      <td>3024</td>\n      <td>0</td>\n      <td>0</td>\n      <td>3024</td>\n    </tr>\n    <tr>\n      <th>equationEntry</th>\n      <td>0</td>\n      <td>7841</td>\n      <td>0</td>\n      <td>0</td>\n      <td>7841</td>\n    </tr>\n    <tr>\n      <th>essay</th>\n      <td>9</td>\n      <td>0</td>\n      <td>0</td>\n      <td>522</td>\n      <td>531</td>\n    </tr>\n    <tr>\n      <th>fileUpload</th>\n      <td>0</td>\n      <td>0</td>\n      <td>0</td>\n      <td>1</td>\n      <td>1</td>\n    </tr>\n    <tr>\n      <th>fillInTheBlank</th>\n      <td>0</td>\n      <td>10497</td>\n      <td>0</td>\n      <td>0</td>\n      <td>10497</td>\n    </tr>\n    <tr>\n      <th>graphing</th>\n      <td>0</td>\n      <td>2076</td>\n      <td>0</td>\n      <td>0</td>\n      <td>2076</td>\n    </tr>\n    <tr>\n      <th>imageLabel</th>\n      <td>0</td>\n      <td>80</td>\n      <td>0</td>\n      <td>0</td>\n      <td>80</td>\n    </tr>\n    <tr>\n      <th>matching</th>\n      <td>0</td>\n      <td>924</td>\n      <td>0</td>\n      <td>0</td>\n      <td>924</td>\n    </tr>\n    <tr>\n      <th>multipleChoice</th>\n      <td>0</td>\n      <td>26704</td>\n      <td>0</td>\n      <td>0</td>\n      <td>26704</td>\n    </tr>\n    <tr>\n      <th>multipleSelect</th>\n      <td>0</td>\n      <td>2295</td>\n      <td>0</td>\n      <td>0</td>\n      <td>2295</td>\n    </tr>\n    <tr>\n      <th>numberLine</th>\n      <td>0</td>\n      <td>302</td>\n      <td>0</td>\n      <td>0</td>\n      <td>302</td>\n    </tr>\n    <tr>\n      <th>selectText</th>\n      <td>0</td>\n      <td>813</td>\n      <td>0</td>\n      <td>0</td>\n      <td>813</td>\n    </tr>\n    <tr>\n      <th>shortAnswer</th>\n      <td>25</td>\n      <td>0</td>\n      <td>0</td>\n      <td>828</td>\n      <td>853</td>\n    </tr>\n    <tr>\n      <th>sortable</th>\n      <td>0</td>\n      <td>549</td>\n      <td>0</td>\n      <td>0</td>\n      <td>549</td>\n    </tr>\n    <tr>\n      <th>trueFalse</th>\n      <td>0</td>\n      <td>4561</td>\n      <td>0</td>\n      <td>0</td>\n      <td>4561</td>\n    </tr>\n    <tr>\n      <th>Total</th>\n      <td>1600</td>\n      <td>61668</td>\n      <td>219</td>\n      <td>1351</td>\n      <td>64838</td>\n    </tr>\n  </tbody>\n</table>\n</div>"
     },
     "execution_count": 7,
     "metadata": {},
     "output_type": "execute_result"
    }
   ],
   "source": [
    "dfPd = filterDf.select('item_type_code_name','scoring_type_code').toPandas()\n",
    "pd.crosstab(dfPd.item_type_code_name.fillna('null'), dfPd.scoring_type_code.fillna('null'), margins=True, margins_name=\"Total\")"
   ],
   "metadata": {
    "collapsed": false,
    "pycharm": {
     "name": "#%%\n"
    }
   }
  },
  {
   "cell_type": "markdown",
   "source": [
    "- item_type_code_name indicates the scoring_type_code\n",
    "  - Consider correlation when reducing number of levels in item_type_code_name"
   ],
   "metadata": {
    "collapsed": false
   }
  },
  {
   "cell_type": "markdown",
   "source": [
    "###### Display assigned_item_status and response_correctness Correlation"
   ],
   "metadata": {
    "collapsed": false
   }
  },
  {
   "cell_type": "code",
   "execution_count": 8,
   "outputs": [
    {
     "data": {
      "text/plain": "response_correctness  [unassigned]  correct  incorrect  null  \\\nassigned_item_status                                           \nresponded                        0        0          0    34   \nscored                        1566    43711      18103     0   \nTotal                         1566    43711      18103    34   \n\nresponse_correctness  partially_correct  Total  \nassigned_item_status                            \nresponded                             0     34  \nscored                             1424  64804  \nTotal                              1424  64838  ",
      "text/html": "<div>\n<style scoped>\n    .dataframe tbody tr th:only-of-type {\n        vertical-align: middle;\n    }\n\n    .dataframe tbody tr th {\n        vertical-align: top;\n    }\n\n    .dataframe thead th {\n        text-align: right;\n    }\n</style>\n<table border=\"1\" class=\"dataframe\">\n  <thead>\n    <tr style=\"text-align: right;\">\n      <th>response_correctness</th>\n      <th>[unassigned]</th>\n      <th>correct</th>\n      <th>incorrect</th>\n      <th>null</th>\n      <th>partially_correct</th>\n      <th>Total</th>\n    </tr>\n    <tr>\n      <th>assigned_item_status</th>\n      <th></th>\n      <th></th>\n      <th></th>\n      <th></th>\n      <th></th>\n      <th></th>\n    </tr>\n  </thead>\n  <tbody>\n    <tr>\n      <th>responded</th>\n      <td>0</td>\n      <td>0</td>\n      <td>0</td>\n      <td>34</td>\n      <td>0</td>\n      <td>34</td>\n    </tr>\n    <tr>\n      <th>scored</th>\n      <td>1566</td>\n      <td>43711</td>\n      <td>18103</td>\n      <td>0</td>\n      <td>1424</td>\n      <td>64804</td>\n    </tr>\n    <tr>\n      <th>Total</th>\n      <td>1566</td>\n      <td>43711</td>\n      <td>18103</td>\n      <td>34</td>\n      <td>1424</td>\n      <td>64838</td>\n    </tr>\n  </tbody>\n</table>\n</div>"
     },
     "execution_count": 8,
     "metadata": {},
     "output_type": "execute_result"
    }
   ],
   "source": [
    "dfPd = filterDf.select('assigned_item_status','response_correctness').toPandas()\n",
    "pd.crosstab(dfPd.assigned_item_status.fillna('null'), dfPd.response_correctness.fillna('null'), margins=True, margins_name=\"Total\")"
   ],
   "metadata": {
    "collapsed": false,
    "pycharm": {
     "name": "#%%\n"
    }
   }
  },
  {
   "cell_type": "markdown",
   "source": [
    "- assigned_item_status = responded when response_correctness = null"
   ],
   "metadata": {
    "collapsed": false
   }
  }
 ],
 "metadata": {
  "kernelspec": {
   "display_name": "Python 3",
   "language": "python",
   "name": "python3"
  },
  "language_info": {
   "codemirror_mode": {
    "name": "ipython",
    "version": 2
   },
   "file_extension": ".py",
   "mimetype": "text/x-python",
   "name": "python",
   "nbconvert_exporter": "python",
   "pygments_lexer": "ipython2",
   "version": "2.7.6"
  }
 },
 "nbformat": 4,
 "nbformat_minor": 0
}