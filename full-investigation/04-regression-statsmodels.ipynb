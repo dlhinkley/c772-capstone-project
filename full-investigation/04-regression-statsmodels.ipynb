{
 "cells": [
  {
   "cell_type": "markdown",
   "source": [
    "## Regression with statsmodels"
   ],
   "metadata": {
    "collapsed": false
   }
  },
  {
   "cell_type": "code",
   "execution_count": 1,
   "outputs": [],
   "source": [
    "%%capture\n",
    "\n",
    "%run './lib/init.ipynb'\n",
    "from lib import utilities as util\n",
    "import matplotlib.pyplot as plt\n",
    "\n",
    "import pandas as pd\n",
    "import seaborn as sns\n",
    "import statsmodels.api as sm\n",
    "sns.set(style=\"white\")\n",
    "sns.set(style=\"whitegrid\", color_codes=True)"
   ],
   "metadata": {
    "collapsed": false,
    "pycharm": {
     "name": "#%%\n"
    }
   }
  },
  {
   "cell_type": "code",
   "execution_count": 26,
   "outputs": [],
   "source": [
    "trainDf  = util.load_df('trainDf')\n",
    "validDf  = util.load_df('validDf')\n",
    "studyVars = [\n",
    "  'student_duration_mins',\n",
    "  'timeliness_duration_mins',\n",
    "  # 'item_attempt_duration_mins',\n",
    "  'item_type_code_name_swoe',\n",
    "  'number_of_distinct_instance_items'\n",
    "]"
   ],
   "metadata": {
    "collapsed": false,
    "pycharm": {
     "name": "#%%\n"
    }
   }
  },
  {
   "cell_type": "markdown",
   "source": [
    "###### Create regression dataframe\n",
    " - completed items\n",
    " - study variables\n",
    "  - target\n",
    "  - student_duration_mins\n",
    "  - timeliness_duration_mins\n",
    "  - item_attempt_duration_mins\n",
    "  - item_type_code_name_swoe\n",
    "  - number_of_distinct_instance_items"
   ],
   "metadata": {
    "collapsed": false
   }
  },
  {
   "cell_type": "code",
   "execution_count": 27,
   "outputs": [],
   "source": [
    "trnDf = trainDf.select('target',*studyVars).toPandas()\n",
    "valDf = validDf.select('target',*studyVars).toPandas()"
   ],
   "metadata": {
    "collapsed": false,
    "pycharm": {
     "name": "#%%\n"
    }
   }
  },
  {
   "cell_type": "markdown",
   "source": [
    "###### Dataframe structure"
   ],
   "metadata": {
    "collapsed": false
   }
  },
  {
   "cell_type": "code",
   "execution_count": 28,
   "outputs": [
    {
     "name": "stdout",
     "output_type": "stream",
     "text": [
      "<class 'pandas.core.frame.DataFrame'>\n",
      "RangeIndex: 47221 entries, 0 to 47220\n",
      "Data columns (total 5 columns):\n",
      " #   Column                             Non-Null Count  Dtype  \n",
      "---  ------                             --------------  -----  \n",
      " 0   target                             47221 non-null  int32  \n",
      " 1   student_duration_mins              47221 non-null  float64\n",
      " 2   timeliness_duration_mins           47221 non-null  float64\n",
      " 3   item_type_code_name_swoe           47221 non-null  float64\n",
      " 4   number_of_distinct_instance_items  47221 non-null  int32  \n",
      "dtypes: float64(3), int32(2)\n",
      "memory usage: 1.4 MB\n"
     ]
    }
   ],
   "source": [
    "trnDf.info()"
   ],
   "metadata": {
    "collapsed": false,
    "pycharm": {
     "name": "#%%\n"
    }
   }
  },
  {
   "cell_type": "markdown",
   "source": [
    "###### Target variable barplot"
   ],
   "metadata": {
    "collapsed": false
   }
  },
  {
   "cell_type": "code",
   "execution_count": 29,
   "outputs": [
    {
     "data": {
      "text/plain": "<Figure size 432x288 with 1 Axes>",
      "image/png": "[encoded data removed]"
     },
     "metadata": {},
     "output_type": "display_data"
    }
   ],
   "source": [
    "sns.countplot(x='target',data=trnDf, palette='hls')\n",
    "plt.show()"
   ],
   "metadata": {
    "collapsed": false,
    "pycharm": {
     "name": "#%%\n"
    }
   }
  },
  {
   "cell_type": "markdown",
   "source": [
    "###### Target variable percentages"
   ],
   "metadata": {
    "collapsed": false
   }
  },
  {
   "cell_type": "code",
   "execution_count": 30,
   "outputs": [
    {
     "name": "stdout",
     "output_type": "stream",
     "text": [
      "percentage of no pass is 29 %\n",
      "percentage of passes 71 %\n"
     ]
    }
   ],
   "source": [
    "count_no_pass = len(trnDf[trnDf['target'] == 0])\n",
    "count_pass = len(trnDf[trnDf['target'] == 1])\n",
    "pct_of_no_pass = count_no_pass / (count_no_pass+count_pass)\n",
    "print(\"percentage of no pass is\", round(pct_of_no_pass * 100), '%')\n",
    "pct_of_pass = count_pass/(count_no_pass + count_pass)\n",
    "print(\"percentage of passes\", round(pct_of_pass * 100), '%')"
   ],
   "metadata": {
    "collapsed": false,
    "pycharm": {
     "name": "#%%\n"
    }
   }
  },
  {
   "cell_type": "markdown",
   "source": [
    "###### Number of missing values"
   ],
   "metadata": {
    "collapsed": false
   }
  },
  {
   "cell_type": "code",
   "execution_count": 31,
   "outputs": [
    {
     "data": {
      "text/plain": "target                               0\nstudent_duration_mins                0\ntimeliness_duration_mins             0\nitem_type_code_name_swoe             0\nnumber_of_distinct_instance_items    0\ndtype: int64"
     },
     "execution_count": 31,
     "metadata": {},
     "output_type": "execute_result"
    }
   ],
   "source": [
    "trnDf.isnull().sum()"
   ],
   "metadata": {
    "collapsed": false,
    "pycharm": {
     "name": "#%%\n"
    }
   }
  },
  {
   "cell_type": "markdown",
   "source": [
    "###### Number of distinct instance items histogram"
   ],
   "metadata": {
    "collapsed": false
   }
  },
  {
   "cell_type": "code",
   "execution_count": 32,
   "outputs": [
    {
     "data": {
      "text/plain": "Text(0, 0.5, 'Frequency')"
     },
     "execution_count": 32,
     "metadata": {},
     "output_type": "execute_result"
    },
    {
     "data": {
      "text/plain": "<Figure size 432x288 with 1 Axes>",
      "image/png": "[encoded data removed]"
     },
     "metadata": {},
     "output_type": "display_data"
    }
   ],
   "source": [
    "trnDf.number_of_distinct_instance_items.hist(bins=50)\n",
    "plt.title('Distinct instance items')\n",
    "plt.xlabel('Number')\n",
    "plt.ylabel('Frequency')"
   ],
   "metadata": {
    "collapsed": false,
    "pycharm": {
     "name": "#%%\n"
    }
   }
  },
  {
   "cell_type": "markdown",
   "source": [
    "###### Target vs number of distinct instance items scatter plot"
   ],
   "metadata": {
    "collapsed": false
   }
  },
  {
   "cell_type": "code",
   "execution_count": 33,
   "outputs": [
    {
     "name": "stderr",
     "output_type": "stream",
     "text": [
      "*c* argument looks like a single numeric RGB or RGBA sequence, which should be avoided as value-mapping will have precedence in case its length matches with *x* & *y*.  Please use the *color* keyword-argument or provide a 2-D array with a single row if you intend to specify the same RGB or RGBA value for all points.\n"
     ]
    },
    {
     "data": {
      "text/plain": "<Figure size 432x288 with 1 Axes>",
      "image/png": "[encoded data removed]"
     },
     "metadata": {},
     "output_type": "display_data"
    }
   ],
   "source": [
    "trnDf.plot.scatter('number_of_distinct_instance_items', 'target')\n",
    "plt.ylabel('Pass')\n",
    "sns.despine()"
   ],
   "metadata": {
    "collapsed": false,
    "pycharm": {
     "name": "#%%\n"
    }
   }
  },
  {
   "cell_type": "markdown",
   "source": [
    "###### Item type code name swoe histogram"
   ],
   "metadata": {
    "collapsed": false
   }
  },
  {
   "cell_type": "code",
   "execution_count": 34,
   "outputs": [
    {
     "data": {
      "text/plain": "Text(0, 0.5, 'Frequency')"
     },
     "execution_count": 34,
     "metadata": {},
     "output_type": "execute_result"
    },
    {
     "data": {
      "text/plain": "<Figure size 432x288 with 1 Axes>",
      "image/png": "[encoded data removed]"
     },
     "metadata": {},
     "output_type": "display_data"
    }
   ],
   "source": [
    "trnDf.item_type_code_name_swoe.hist(bins=50)\n",
    "plt.title('Item Type Code Name')\n",
    "plt.xlabel('Category')\n",
    "plt.ylabel('Frequency')"
   ],
   "metadata": {
    "collapsed": false,
    "pycharm": {
     "name": "#%%\n"
    }
   }
  },
  {
   "cell_type": "markdown",
   "source": [
    "###### Target vs item type code name scatter plot"
   ],
   "metadata": {
    "collapsed": false
   }
  },
  {
   "cell_type": "code",
   "execution_count": 35,
   "outputs": [
    {
     "name": "stderr",
     "output_type": "stream",
     "text": [
      "*c* argument looks like a single numeric RGB or RGBA sequence, which should be avoided as value-mapping will have precedence in case its length matches with *x* & *y*.  Please use the *color* keyword-argument or provide a 2-D array with a single row if you intend to specify the same RGB or RGBA value for all points.\n"
     ]
    },
    {
     "data": {
      "text/plain": "<Figure size 432x288 with 1 Axes>",
      "image/png": "[encoded data removed]"
     },
     "metadata": {},
     "output_type": "display_data"
    }
   ],
   "source": [
    "trnDf.plot.scatter('item_type_code_name_swoe', 'target')\n",
    "plt.ylabel('Pass')\n",
    "sns.despine()"
   ],
   "metadata": {
    "collapsed": false,
    "pycharm": {
     "name": "#%%\n"
    }
   }
  },
  {
   "cell_type": "markdown",
   "source": [
    "###### Attempt duration minutes histogram"
   ],
   "metadata": {
    "collapsed": false
   }
  },
  {
   "cell_type": "code",
   "execution_count": 36,
   "outputs": [
    {
     "ename": "AttributeError",
     "evalue": "'DataFrame' object has no attribute 'item_attempt_duration_mins'",
     "output_type": "error",
     "traceback": [
      "\u001B[0;31m---------------------------------------------------------------------------\u001B[0m",
      "\u001B[0;31mAttributeError\u001B[0m                            Traceback (most recent call last)",
      "\u001B[0;32m<ipython-input-36-a5021d16049a>\u001B[0m in \u001B[0;36m<module>\u001B[0;34m\u001B[0m\n\u001B[0;32m----> 1\u001B[0;31m \u001B[0mtrnDf\u001B[0m\u001B[0;34m.\u001B[0m\u001B[0mitem_attempt_duration_mins\u001B[0m\u001B[0;34m.\u001B[0m\u001B[0mhist\u001B[0m\u001B[0;34m(\u001B[0m\u001B[0mbins\u001B[0m\u001B[0;34m=\u001B[0m\u001B[0;36m100\u001B[0m\u001B[0;34m)\u001B[0m\u001B[0;34m\u001B[0m\u001B[0m\n\u001B[0m\u001B[1;32m      2\u001B[0m \u001B[0mplt\u001B[0m\u001B[0;34m.\u001B[0m\u001B[0mtitle\u001B[0m\u001B[0;34m(\u001B[0m\u001B[0;34m'Attempt Duration'\u001B[0m\u001B[0;34m)\u001B[0m\u001B[0;34m\u001B[0m\u001B[0m\n\u001B[1;32m      3\u001B[0m \u001B[0mplt\u001B[0m\u001B[0;34m.\u001B[0m\u001B[0mxlabel\u001B[0m\u001B[0;34m(\u001B[0m\u001B[0;34m'Minutes'\u001B[0m\u001B[0;34m)\u001B[0m\u001B[0;34m\u001B[0m\u001B[0m\n\u001B[1;32m      4\u001B[0m \u001B[0mplt\u001B[0m\u001B[0;34m.\u001B[0m\u001B[0mylabel\u001B[0m\u001B[0;34m(\u001B[0m\u001B[0;34m'Frequency'\u001B[0m\u001B[0;34m)\u001B[0m\u001B[0;34m\u001B[0m\u001B[0m\n\u001B[1;32m      5\u001B[0m \u001B[0;34m\u001B[0m\u001B[0m\n",
      "\u001B[0;32m~/PycharmProjects/c772-capstone-project/venv/lib/python3.6/site-packages/pandas/core/generic.py\u001B[0m in \u001B[0;36m__getattr__\u001B[0;34m(self, name)\u001B[0m\n\u001B[1;32m   5134\u001B[0m             \u001B[0;32mif\u001B[0m \u001B[0mself\u001B[0m\u001B[0;34m.\u001B[0m\u001B[0m_info_axis\u001B[0m\u001B[0;34m.\u001B[0m\u001B[0m_can_hold_identifiers_and_holds_name\u001B[0m\u001B[0;34m(\u001B[0m\u001B[0mname\u001B[0m\u001B[0;34m)\u001B[0m\u001B[0;34m:\u001B[0m\u001B[0;34m\u001B[0m\u001B[0m\n\u001B[1;32m   5135\u001B[0m                 \u001B[0;32mreturn\u001B[0m \u001B[0mself\u001B[0m\u001B[0;34m[\u001B[0m\u001B[0mname\u001B[0m\u001B[0;34m]\u001B[0m\u001B[0;34m\u001B[0m\u001B[0m\n\u001B[0;32m-> 5136\u001B[0;31m             \u001B[0;32mreturn\u001B[0m \u001B[0mobject\u001B[0m\u001B[0;34m.\u001B[0m\u001B[0m__getattribute__\u001B[0m\u001B[0;34m(\u001B[0m\u001B[0mself\u001B[0m\u001B[0;34m,\u001B[0m \u001B[0mname\u001B[0m\u001B[0;34m)\u001B[0m\u001B[0;34m\u001B[0m\u001B[0m\n\u001B[0m\u001B[1;32m   5137\u001B[0m \u001B[0;34m\u001B[0m\u001B[0m\n\u001B[1;32m   5138\u001B[0m     \u001B[0;32mdef\u001B[0m \u001B[0m__setattr__\u001B[0m\u001B[0;34m(\u001B[0m\u001B[0mself\u001B[0m\u001B[0;34m,\u001B[0m \u001B[0mname\u001B[0m\u001B[0;34m:\u001B[0m \u001B[0mstr\u001B[0m\u001B[0;34m,\u001B[0m \u001B[0mvalue\u001B[0m\u001B[0;34m)\u001B[0m \u001B[0;34m->\u001B[0m \u001B[0;32mNone\u001B[0m\u001B[0;34m:\u001B[0m\u001B[0;34m\u001B[0m\u001B[0m\n",
      "\u001B[0;31mAttributeError\u001B[0m: 'DataFrame' object has no attribute 'item_attempt_duration_mins'"
     ]
    }
   ],
   "source": [
    "trnDf.item_attempt_duration_mins.hist(bins=100)\n",
    "plt.title('Attempt Duration')\n",
    "plt.xlabel('Minutes')\n",
    "plt.ylabel('Frequency')"
   ],
   "metadata": {
    "collapsed": false,
    "pycharm": {
     "name": "#%%\n"
    }
   }
  },
  {
   "cell_type": "markdown",
   "source": [
    "###### Target vs Attempt duration minutes scatter plot"
   ],
   "metadata": {
    "collapsed": false
   }
  },
  {
   "cell_type": "code",
   "execution_count": null,
   "outputs": [],
   "source": [
    "trnDf.plot.scatter('item_attempt_duration_mins', 'target')\n",
    "plt.ylabel('Pass')\n",
    "sns.despine()"
   ],
   "metadata": {
    "collapsed": false,
    "pycharm": {
     "name": "#%%\n"
    }
   }
  },
  {
   "cell_type": "markdown",
   "source": [
    "###### Student duration minutes histogram"
   ],
   "metadata": {
    "collapsed": false
   }
  },
  {
   "cell_type": "code",
   "execution_count": null,
   "outputs": [],
   "source": [
    "trnDf.student_duration_mins.hist(bins=100)\n",
    "plt.title('Student Duration')\n",
    "plt.xlabel('Minutes')\n",
    "plt.ylabel('Frequency')"
   ],
   "metadata": {
    "collapsed": false,
    "pycharm": {
     "name": "#%%\n"
    }
   }
  },
  {
   "cell_type": "markdown",
   "source": [
    "###### Target vs Student duration minutes scatter plot"
   ],
   "metadata": {
    "collapsed": false
   }
  },
  {
   "cell_type": "code",
   "execution_count": null,
   "outputs": [],
   "source": [
    "trnDf.plot.scatter('student_duration_mins', 'target')\n",
    "plt.ylabel('Pass')\n",
    "sns.despine()\n"
   ],
   "metadata": {
    "collapsed": false,
    "pycharm": {
     "name": "#%%\n"
    }
   }
  },
  {
   "cell_type": "markdown",
   "source": [
    "###### Timeliness duration minutes histogram"
   ],
   "metadata": {
    "collapsed": false
   }
  },
  {
   "cell_type": "code",
   "execution_count": 37,
   "outputs": [
    {
     "data": {
      "text/plain": "Text(0, 0.5, 'Frequency')"
     },
     "execution_count": 37,
     "metadata": {},
     "output_type": "execute_result"
    },
    {
     "data": {
      "text/plain": "<Figure size 432x288 with 1 Axes>",
      "image/png": "[encoded data removed]"
     },
     "metadata": {},
     "output_type": "display_data"
    }
   ],
   "source": [
    "trnDf.timeliness_duration_mins.hist(bins=100)\n",
    "plt.title('Timeliness Duration')\n",
    "plt.xlabel('Minutes')\n",
    "plt.ylabel('Frequency')"
   ],
   "metadata": {
    "collapsed": false,
    "pycharm": {
     "name": "#%%\n"
    }
   }
  },
  {
   "cell_type": "markdown",
   "source": [
    "###### Target vs Timeliness duration minutes scatter plot"
   ],
   "metadata": {
    "collapsed": false
   }
  },
  {
   "cell_type": "code",
   "execution_count": 38,
   "outputs": [
    {
     "name": "stderr",
     "output_type": "stream",
     "text": [
      "*c* argument looks like a single numeric RGB or RGBA sequence, which should be avoided as value-mapping will have precedence in case its length matches with *x* & *y*.  Please use the *color* keyword-argument or provide a 2-D array with a single row if you intend to specify the same RGB or RGBA value for all points.\n"
     ]
    },
    {
     "data": {
      "text/plain": "<Figure size 432x288 with 1 Axes>",
      "image/png": "[encoded data removed]"
     },
     "metadata": {},
     "output_type": "display_data"
    }
   ],
   "source": [
    "trnDf.plot.scatter('timeliness_duration_mins', 'target')\n",
    "plt.ylabel('Pass')\n",
    "sns.despine()"
   ],
   "metadata": {
    "collapsed": false,
    "pycharm": {
     "name": "#%%\n"
    }
   }
  },
  {
   "cell_type": "markdown",
   "source": [
    "###### Check the independence between the independent variables"
   ],
   "metadata": {
    "collapsed": false
   }
  },
  {
   "cell_type": "code",
   "execution_count": 39,
   "outputs": [
    {
     "data": {
      "text/plain": "<Figure size 432x288 with 2 Axes>",
      "image/png": "[encoded data removed]"
     },
     "metadata": {},
     "output_type": "display_data"
    }
   ],
   "source": [
    "sns.heatmap( trnDf[trnDf.columns.intersection(studyVars)].corr())\n",
    "plt.show()"
   ],
   "metadata": {
    "collapsed": false,
    "pycharm": {
     "name": "#%%\n"
    }
   }
  },
  {
   "cell_type": "markdown",
   "source": [
    "Correlation less than .5"
   ],
   "metadata": {
    "collapsed": false
   }
  },
  {
   "cell_type": "markdown",
   "source": [
    "###### Train"
   ],
   "metadata": {
    "collapsed": false
   }
  },
  {
   "cell_type": "code",
   "execution_count": 40,
   "outputs": [
    {
     "name": "stdout",
     "output_type": "stream",
     "text": [
      "Optimization terminated successfully.\n",
      "         Current function value: 0.567225\n",
      "         Iterations 5\n"
     ]
    },
    {
     "data": {
      "text/plain": "<class 'statsmodels.iolib.summary.Summary'>\n\"\"\"\n                           Logit Regression Results                           \n==============================================================================\nDep. Variable:                 target   No. Observations:                47221\nModel:                          Logit   Df Residuals:                    47217\nMethod:                           MLE   Df Model:                            3\nDate:                Wed, 11 Nov 2020   Pseudo R-squ.:                 0.05358\nTime:                        16:07:46   Log-Likelihood:                -26785.\nconverged:                       True   LL-Null:                       -28301.\nCovariance Type:            nonrobust   LLR p-value:                     0.000\n=====================================================================================================\n                                        coef    std err          z      P>|z|      [0.025      0.975]\n-----------------------------------------------------------------------------------------------------\nstudent_duration_mins                 0.0008      0.000      5.908      0.000       0.001       0.001\ntimeliness_duration_mins           1.739e-06   7.13e-07      2.438      0.015    3.41e-07    3.14e-06\nitem_type_code_name_swoe              0.8687      0.015     57.443      0.000       0.839       0.898\nnumber_of_distinct_instance_items     0.0054      0.001      6.556      0.000       0.004       0.007\n=====================================================================================================\n\"\"\"",
      "text/html": "<table class=\"simpletable\">\n<caption>Logit Regression Results</caption>\n<tr>\n  <th>Dep. Variable:</th>        <td>target</td>      <th>  No. Observations:  </th>  <td> 47221</td> \n</tr>\n<tr>\n  <th>Model:</th>                 <td>Logit</td>      <th>  Df Residuals:      </th>  <td> 47217</td> \n</tr>\n<tr>\n  <th>Method:</th>                 <td>MLE</td>       <th>  Df Model:          </th>  <td>     3</td> \n</tr>\n<tr>\n  <th>Date:</th>            <td>Wed, 11 Nov 2020</td> <th>  Pseudo R-squ.:     </th>  <td>0.05358</td>\n</tr>\n<tr>\n  <th>Time:</th>                <td>16:07:46</td>     <th>  Log-Likelihood:    </th> <td> -26785.</td>\n</tr>\n<tr>\n  <th>converged:</th>             <td>True</td>       <th>  LL-Null:           </th> <td> -28301.</td>\n</tr>\n<tr>\n  <th>Covariance Type:</th>     <td>nonrobust</td>    <th>  LLR p-value:       </th>  <td> 0.000</td> \n</tr>\n</table>\n<table class=\"simpletable\">\n<tr>\n                  <td></td>                     <th>coef</th>     <th>std err</th>      <th>z</th>      <th>P>|z|</th>  <th>[0.025</th>    <th>0.975]</th>  \n</tr>\n<tr>\n  <th>student_duration_mins</th>             <td>    0.0008</td> <td>    0.000</td> <td>    5.908</td> <td> 0.000</td> <td>    0.001</td> <td>    0.001</td>\n</tr>\n<tr>\n  <th>timeliness_duration_mins</th>          <td> 1.739e-06</td> <td> 7.13e-07</td> <td>    2.438</td> <td> 0.015</td> <td> 3.41e-07</td> <td> 3.14e-06</td>\n</tr>\n<tr>\n  <th>item_type_code_name_swoe</th>          <td>    0.8687</td> <td>    0.015</td> <td>   57.443</td> <td> 0.000</td> <td>    0.839</td> <td>    0.898</td>\n</tr>\n<tr>\n  <th>number_of_distinct_instance_items</th> <td>    0.0054</td> <td>    0.001</td> <td>    6.556</td> <td> 0.000</td> <td>    0.004</td> <td>    0.007</td>\n</tr>\n</table>"
     },
     "execution_count": 40,
     "metadata": {},
     "output_type": "execute_result"
    }
   ],
   "source": [
    "y_train = trnDf[['target']]\n",
    "X_train = trnDf[studyVars]\n",
    "\n",
    "logreg = sm.Logit(y_train, X_train).fit()\n",
    "\n",
    "logreg.summary()"
   ],
   "metadata": {
    "collapsed": false,
    "pycharm": {
     "name": "#%%\n"
    }
   }
  },
  {
   "cell_type": "markdown",
   "source": [
    "###### Validate"
   ],
   "metadata": {
    "collapsed": false,
    "pycharm": {
     "name": "#%% md\n"
    }
   }
  },
  {
   "cell_type": "code",
   "execution_count": 41,
   "outputs": [],
   "source": [
    "y_valid = trnDf[['target']]\n",
    "X_valid = trnDf[studyVars]\n",
    "\n",
    "yhat = logreg.predict(X_valid)\n",
    "prediction = list(map(round, yhat))\n",
    "#\n",
    "# # comparing original and predicted values of y\n",
    "# print('Actual values', list(y_valid.values))\n",
    "# print('Predictions :', prediction)"
   ],
   "metadata": {
    "collapsed": false,
    "pycharm": {
     "name": "#%%\n"
    }
   }
  },
  {
   "cell_type": "markdown",
   "source": [
    "###### Test Accuracy"
   ],
   "metadata": {
    "collapsed": false
   }
  },
  {
   "cell_type": "code",
   "execution_count": 42,
   "outputs": [
    {
     "name": "stdout",
     "output_type": "stream",
     "text": [
      "Confusion Matrix : \n",
      " [[ 1090 12457]\n",
      " [  848 32826]]\n",
      "Test accuracy =  0.7182397662057136\n"
     ]
    }
   ],
   "source": [
    "from sklearn.metrics import (confusion_matrix,\n",
    "                           accuracy_score)\n",
    "\n",
    "# confusion matrix\n",
    "cm = confusion_matrix(y_valid, prediction)\n",
    "print (\"Confusion Matrix : \\n\", cm)\n",
    "\n",
    "# accuracy score of the model\n",
    "print('Test accuracy = ', accuracy_score(y_valid, prediction))"
   ],
   "metadata": {
    "collapsed": false,
    "pycharm": {
     "name": "#%%\n"
    }
   }
  },
  {
   "cell_type": "markdown",
   "source": [
    "###### Reciever Operating Characteristic (ROC) Curve"
   ],
   "metadata": {
    "collapsed": false,
    "pycharm": {
     "name": "#%% md\n"
    }
   }
  },
  {
   "cell_type": "code",
   "execution_count": 43,
   "outputs": [
    {
     "data": {
      "text/plain": "<Figure size 432x288 with 1 Axes>",
      "image/png": "[encoded data removed]"
     },
     "metadata": {},
     "output_type": "display_data"
    }
   ],
   "source": [
    "# Ref: https://jbhender.github.io/Stats506/F18/GP/Group5.html\n",
    "\n",
    "from sklearn.metrics import roc_auc_score\n",
    "from sklearn.metrics import roc_curve\n",
    "\n",
    "# logit_roc_auc = roc_auc_score(y, pred)\n",
    "fpr, tpr, thresholds = roc_curve(y_valid, yhat)\n",
    "plt.figure()\n",
    "plt.plot(fpr, tpr, label='Logistic Regression ')\n",
    "plt.plot([0, 1], [0, 1],'r--')\n",
    "plt.xlim([0.0, 1.0])\n",
    "plt.ylim([0.0, 1.05])\n",
    "plt.xlabel('False Positive Rate')\n",
    "plt.ylabel('True Positive Rate')\n",
    "plt.title('Receiver operating characteristic')\n",
    "plt.legend(loc=\"lower right\")\n",
    "# plt.savefig('Log_ROC')\n",
    "plt.show()\n"
   ],
   "metadata": {
    "collapsed": false,
    "pycharm": {
     "name": "#%%\n"
    }
   }
  },
  {
   "cell_type": "code",
   "execution_count": 25,
   "outputs": [
    {
     "name": "stdout",
     "output_type": "stream",
     "text": [
      "Character Variables (Dummies Generated, First Dummies Dropped): []\n",
      "Optimization terminated successfully.\n",
      "         Current function value: 0.599339\n",
      "         Iterations 5\n",
      "Optimization terminated successfully.\n",
      "         Current function value: 0.597327\n",
      "         Iterations 5\n",
      "Optimization terminated successfully.\n",
      "         Current function value: 0.598219\n",
      "         Iterations 5\n",
      "Optimization terminated successfully.\n",
      "         Current function value: 0.599241\n",
      "         Iterations 5\n",
      "Optimization terminated successfully.\n",
      "         Current function value: 0.569137\n",
      "         Iterations 5\n",
      "Optimization terminated successfully.\n",
      "         Current function value: 0.593968\n",
      "         Iterations 5\n",
      "Optimization terminated successfully.\n",
      "         Current function value: 0.569137\n",
      "         Iterations 5\n",
      "Entered : item_type_code_name_swoe \tAIC : 53754.40084708147\n",
      "Optimization terminated successfully.\n",
      "         Current function value: 0.567960\n",
      "         Iterations 6\n",
      "Optimization terminated successfully.\n",
      "         Current function value: 0.568347\n",
      "         Iterations 5\n",
      "Optimization terminated successfully.\n",
      "         Current function value: 0.569134\n",
      "         Iterations 5\n",
      "Optimization terminated successfully.\n",
      "         Current function value: 0.567087\n",
      "         Iterations 6\n",
      "Optimization terminated successfully.\n",
      "         Current function value: 0.567087\n",
      "         Iterations 6\n",
      "Entered : number_of_distinct_instance_items \tAIC : 53562.87589042487\n",
      "Optimization terminated successfully.\n",
      "         Current function value: 0.566679\n",
      "         Iterations 6\n",
      "Optimization terminated successfully.\n",
      "         Current function value: 0.566908\n",
      "         Iterations 6\n",
      "Optimization terminated successfully.\n",
      "         Current function value: 0.567087\n",
      "         Iterations 6\n",
      "Optimization terminated successfully.\n",
      "         Current function value: 0.566679\n",
      "         Iterations 6\n",
      "Entered : student_duration_mins \tAIC : 53526.29554665791\n",
      "Optimization terminated successfully.\n",
      "         Current function value: 0.566504\n",
      "         Iterations 6\n",
      "Optimization terminated successfully.\n",
      "         Current function value: 0.566678\n",
      "         Iterations 6\n",
      "Optimization terminated successfully.\n",
      "         Current function value: 0.566504\n",
      "         Iterations 6\n",
      "Entered : timeliness_duration_mins \tAIC : 53511.78482441058\n",
      "Optimization terminated successfully.\n",
      "         Current function value: 0.566504\n",
      "         Iterations 6\n",
      "Break : Significance Level\n",
      "Optimization terminated successfully.\n",
      "         Current function value: 0.566504\n",
      "         Iterations 6\n",
      "                           Logit Regression Results                           \n",
      "==============================================================================\n",
      "Dep. Variable:                 target   No. Observations:                47221\n",
      "Model:                          Logit   Df Residuals:                    47216\n",
      "Method:                           MLE   Df Model:                            4\n",
      "Date:                Wed, 11 Nov 2020   Pseudo R-squ.:                 0.05479\n",
      "Time:                        16:03:57   Log-Likelihood:                -26751.\n",
      "converged:                       True   LL-Null:                       -28301.\n",
      "Covariance Type:            nonrobust   LLR p-value:                     0.000\n",
      "=====================================================================================================\n",
      "                                        coef    std err          z      P>|z|      [0.025      0.975]\n",
      "-----------------------------------------------------------------------------------------------------\n",
      "intercept                            -0.1947      0.024     -8.224      0.000      -0.241      -0.148\n",
      "item_type_code_name_swoe              0.9773      0.020     48.447      0.000       0.938       1.017\n",
      "number_of_distinct_instance_items     0.0081      0.001      8.992      0.000       0.006       0.010\n",
      "student_duration_mins                 0.0008      0.000      5.981      0.000       0.001       0.001\n",
      "timeliness_duration_mins           2.979e-06   7.36e-07      4.046      0.000    1.54e-06    4.42e-06\n",
      "=====================================================================================================\n",
      "AIC: 53511.78482441058\n",
      "BIC: 53555.59779434999\n",
      "Final Variables: ['intercept', 'item_type_code_name_swoe', 'number_of_distinct_instance_items', 'student_duration_mins', 'timeliness_duration_mins']\n"
     ]
    }
   ],
   "source": [
    "from lib import stepwise\n",
    "\n",
    "sout = stepwise.forwardSelection(X_train, y_train, model_type =\"logistic\")"
   ],
   "metadata": {
    "collapsed": false,
    "pycharm": {
     "name": "#%%\n"
    }
   }
  },
  {
   "cell_type": "code",
   "execution_count": 24,
   "outputs": [
    {
     "name": "stdout",
     "output_type": "stream",
     "text": [
      "Character Variables (Dummies Generated, First Dummies Dropped): []\n",
      "Optimization terminated successfully.\n",
      "         Current function value: 0.566504\n",
      "         Iterations 6\n",
      "Eliminated : item_attempt_duration_mins\n",
      "Optimization terminated successfully.\n",
      "         Current function value: 0.566504\n",
      "         Iterations 6\n",
      "                           Logit Regression Results                           \n",
      "==============================================================================\n",
      "Dep. Variable:                 target   No. Observations:                47221\n",
      "Model:                          Logit   Df Residuals:                    47216\n",
      "Method:                           MLE   Df Model:                            4\n",
      "Date:                Wed, 11 Nov 2020   Pseudo R-squ.:                 0.05479\n",
      "Time:                        16:03:41   Log-Likelihood:                -26751.\n",
      "converged:                       True   LL-Null:                       -28301.\n",
      "Covariance Type:            nonrobust   LLR p-value:                     0.000\n",
      "=====================================================================================================\n",
      "                                        coef    std err          z      P>|z|      [0.025      0.975]\n",
      "-----------------------------------------------------------------------------------------------------\n",
      "intercept                            -0.1947      0.024     -8.224      0.000      -0.241      -0.148\n",
      "student_duration_mins                 0.0008      0.000      5.981      0.000       0.001       0.001\n",
      "timeliness_duration_mins           2.979e-06   7.36e-07      4.046      0.000    1.54e-06    4.42e-06\n",
      "item_type_code_name_swoe              0.9773      0.020     48.447      0.000       0.938       1.017\n",
      "number_of_distinct_instance_items     0.0081      0.001      8.992      0.000       0.006       0.010\n",
      "=====================================================================================================\n",
      "AIC: 53511.78482441058\n",
      "BIC: 53555.59779434999\n",
      "Final Variables: ['intercept', 'student_duration_mins', 'timeliness_duration_mins', 'item_type_code_name_swoe', 'number_of_distinct_instance_items']\n"
     ]
    }
   ],
   "source": [
    "from lib import stepwise\n",
    "\n",
    "sout = stepwise.backwardSelection(X_train, y_train, model_type =\"logistic\")"
   ],
   "metadata": {
    "collapsed": false,
    "pycharm": {
     "name": "#%%\n"
    }
   }
  },
  {
   "cell_type": "code",
   "execution_count": null,
   "outputs": [],
   "source": [],
   "metadata": {
    "collapsed": false,
    "pycharm": {
     "name": "#%%\n"
    }
   }
  }
 ],
 "metadata": {
  "kernelspec": {
   "display_name": "Python 3",
   "language": "python",
   "name": "python3"
  },
  "language_info": {
   "codemirror_mode": {
    "name": "ipython",
    "version": 2
   },
   "file_extension": ".py",
   "mimetype": "text/x-python",
   "name": "python",
   "nbconvert_exporter": "python",
   "pygments_lexer": "ipython2",
   "version": "2.7.6"
  }
 },
 "nbformat": 4,
 "nbformat_minor": 0
}