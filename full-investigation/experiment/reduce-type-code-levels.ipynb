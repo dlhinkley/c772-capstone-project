{
 "cells": [
  {
   "cell_type": "markdown",
   "metadata": {
    "collapsed": true,
    "pycharm": {
     "name": "#%% md\n"
    }
   },
   "source": [
    "### Reduce item_type_code_name levels by using weight of evidence"
   ]
  },
  {
   "cell_type": "code",
   "execution_count": 1,
   "outputs": [],
   "source": [
    "%%capture\n",
    "\n",
    "%run '../lib/init.ipynb'\n",
    "\n",
    "import pandas as pd\n",
    "import numpy as np\n",
    "\n",
    "from lib import utilities as util\n",
    "from lib.woe import WOE_IV\n",
    "\n",
    "from pyspark import SparkContext\n",
    "from pyspark.sql import SparkSession\n",
    "from pyspark.sql import functions as F\n",
    "\n",
    "sc = SparkContext.getOrCreate()\n",
    "spark = SparkSession( sc )"
   ],
   "metadata": {
    "collapsed": false,
    "pycharm": {
     "name": "#%%\n"
    }
   }
  },
  {
   "cell_type": "code",
   "execution_count": 2,
   "outputs": [],
   "source": [
    "filterDf  = util.load_df('filterDf')\n",
    "types = util.get_var_types()"
   ],
   "metadata": {
    "collapsed": false,
    "pycharm": {
     "name": "#%%\n"
    }
   }
  },
  {
   "cell_type": "markdown",
   "source": [
    "###### Display levels"
   ],
   "metadata": {
    "collapsed": false,
    "pycharm": {
     "name": "#%% md\n"
    }
   }
  },
  {
   "cell_type": "code",
   "execution_count": 26,
   "outputs": [
    {
     "name": "stdout",
     "output_type": "stream",
     "text": [
      "+----------------------+-----+\n",
      "|item_type_code_name   |count|\n",
      "+----------------------+-----+\n",
      "|multipleChoice        |26704|\n",
      "|fillInTheBlank        |10497|\n",
      "|equationEntry         |7841 |\n",
      "|trueFalse             |4561 |\n",
      "|cloze                 |3024 |\n",
      "|multipleSelect        |2295 |\n",
      "|graphing              |2076 |\n",
      "|MultipleChoiceResponse|1550 |\n",
      "|choiceMatrix          |1203 |\n",
      "|matching              |924  |\n",
      "|shortAnswer           |853  |\n",
      "|selectText            |813  |\n",
      "|bucketing             |799  |\n",
      "|sortable              |549  |\n",
      "|essay                 |531  |\n",
      "|numberLine            |302  |\n",
      "|aheAlgo               |219  |\n",
      "|imageLabel            |80   |\n",
      "|RubricResponse        |11   |\n",
      "|FillinBlankResponse   |5    |\n",
      "|fileUpload            |1    |\n",
      "+----------------------+-----+\n",
      "\n"
     ]
    }
   ],
   "source": [
    "util.count_values(filterDf, 'item_type_code_name').show(50, False)"
   ],
   "metadata": {
    "collapsed": false,
    "pycharm": {
     "name": "#%%\n"
    }
   }
  },
  {
   "cell_type": "markdown",
   "source": [
    "###### Display item_type_code_name and scoring_type_code Corelation"
   ],
   "metadata": {
    "collapsed": false,
    "pycharm": {
     "name": "#%% md\n"
    }
   }
  },
  {
   "cell_type": "code",
   "execution_count": 27,
   "outputs": [
    {
     "data": {
      "text/plain": "scoring_type_code       [unassigned]  automatic  external  manual  Total\nitem_type_code_name                                                     \nFillinBlankResponse                5          0         0       0      5\nMultipleChoiceResponse          1550          0         0       0   1550\nRubricResponse                    11          0         0       0     11\naheAlgo                            0          0       219       0    219\nbucketing                          0        799         0       0    799\nchoiceMatrix                       0       1203         0       0   1203\ncloze                              0       3024         0       0   3024\nequationEntry                      0       7841         0       0   7841\nessay                              9          0         0     522    531\nfileUpload                         0          0         0       1      1\nfillInTheBlank                     0      10497         0       0  10497\ngraphing                           0       2076         0       0   2076\nimageLabel                         0         80         0       0     80\nmatching                           0        924         0       0    924\nmultipleChoice                     0      26704         0       0  26704\nmultipleSelect                     0       2295         0       0   2295\nnumberLine                         0        302         0       0    302\nselectText                         0        813         0       0    813\nshortAnswer                       25          0         0     828    853\nsortable                           0        549         0       0    549\ntrueFalse                          0       4561         0       0   4561\nTotal                           1600      61668       219    1351  64838",
      "text/html": "<div>\n<style scoped>\n    .dataframe tbody tr th:only-of-type {\n        vertical-align: middle;\n    }\n\n    .dataframe tbody tr th {\n        vertical-align: top;\n    }\n\n    .dataframe thead th {\n        text-align: right;\n    }\n</style>\n<table border=\"1\" class=\"dataframe\">\n  <thead>\n    <tr style=\"text-align: right;\">\n      <th>scoring_type_code</th>\n      <th>[unassigned]</th>\n      <th>automatic</th>\n      <th>external</th>\n      <th>manual</th>\n      <th>Total</th>\n    </tr>\n    <tr>\n      <th>item_type_code_name</th>\n      <th></th>\n      <th></th>\n      <th></th>\n      <th></th>\n      <th></th>\n    </tr>\n  </thead>\n  <tbody>\n    <tr>\n      <th>FillinBlankResponse</th>\n      <td>5</td>\n      <td>0</td>\n      <td>0</td>\n      <td>0</td>\n      <td>5</td>\n    </tr>\n    <tr>\n      <th>MultipleChoiceResponse</th>\n      <td>1550</td>\n      <td>0</td>\n      <td>0</td>\n      <td>0</td>\n      <td>1550</td>\n    </tr>\n    <tr>\n      <th>RubricResponse</th>\n      <td>11</td>\n      <td>0</td>\n      <td>0</td>\n      <td>0</td>\n      <td>11</td>\n    </tr>\n    <tr>\n      <th>aheAlgo</th>\n      <td>0</td>\n      <td>0</td>\n      <td>219</td>\n      <td>0</td>\n      <td>219</td>\n    </tr>\n    <tr>\n      <th>bucketing</th>\n      <td>0</td>\n      <td>799</td>\n      <td>0</td>\n      <td>0</td>\n      <td>799</td>\n    </tr>\n    <tr>\n      <th>choiceMatrix</th>\n      <td>0</td>\n      <td>1203</td>\n      <td>0</td>\n      <td>0</td>\n      <td>1203</td>\n    </tr>\n    <tr>\n      <th>cloze</th>\n      <td>0</td>\n      <td>3024</td>\n      <td>0</td>\n      <td>0</td>\n      <td>3024</td>\n    </tr>\n    <tr>\n      <th>equationEntry</th>\n      <td>0</td>\n      <td>7841</td>\n      <td>0</td>\n      <td>0</td>\n      <td>7841</td>\n    </tr>\n    <tr>\n      <th>essay</th>\n      <td>9</td>\n      <td>0</td>\n      <td>0</td>\n      <td>522</td>\n      <td>531</td>\n    </tr>\n    <tr>\n      <th>fileUpload</th>\n      <td>0</td>\n      <td>0</td>\n      <td>0</td>\n      <td>1</td>\n      <td>1</td>\n    </tr>\n    <tr>\n      <th>fillInTheBlank</th>\n      <td>0</td>\n      <td>10497</td>\n      <td>0</td>\n      <td>0</td>\n      <td>10497</td>\n    </tr>\n    <tr>\n      <th>graphing</th>\n      <td>0</td>\n      <td>2076</td>\n      <td>0</td>\n      <td>0</td>\n      <td>2076</td>\n    </tr>\n    <tr>\n      <th>imageLabel</th>\n      <td>0</td>\n      <td>80</td>\n      <td>0</td>\n      <td>0</td>\n      <td>80</td>\n    </tr>\n    <tr>\n      <th>matching</th>\n      <td>0</td>\n      <td>924</td>\n      <td>0</td>\n      <td>0</td>\n      <td>924</td>\n    </tr>\n    <tr>\n      <th>multipleChoice</th>\n      <td>0</td>\n      <td>26704</td>\n      <td>0</td>\n      <td>0</td>\n      <td>26704</td>\n    </tr>\n    <tr>\n      <th>multipleSelect</th>\n      <td>0</td>\n      <td>2295</td>\n      <td>0</td>\n      <td>0</td>\n      <td>2295</td>\n    </tr>\n    <tr>\n      <th>numberLine</th>\n      <td>0</td>\n      <td>302</td>\n      <td>0</td>\n      <td>0</td>\n      <td>302</td>\n    </tr>\n    <tr>\n      <th>selectText</th>\n      <td>0</td>\n      <td>813</td>\n      <td>0</td>\n      <td>0</td>\n      <td>813</td>\n    </tr>\n    <tr>\n      <th>shortAnswer</th>\n      <td>25</td>\n      <td>0</td>\n      <td>0</td>\n      <td>828</td>\n      <td>853</td>\n    </tr>\n    <tr>\n      <th>sortable</th>\n      <td>0</td>\n      <td>549</td>\n      <td>0</td>\n      <td>0</td>\n      <td>549</td>\n    </tr>\n    <tr>\n      <th>trueFalse</th>\n      <td>0</td>\n      <td>4561</td>\n      <td>0</td>\n      <td>0</td>\n      <td>4561</td>\n    </tr>\n    <tr>\n      <th>Total</th>\n      <td>1600</td>\n      <td>61668</td>\n      <td>219</td>\n      <td>1351</td>\n      <td>64838</td>\n    </tr>\n  </tbody>\n</table>\n</div>"
     },
     "execution_count": 27,
     "metadata": {},
     "output_type": "execute_result"
    }
   ],
   "source": [
    "dfPd = filterDf.select('item_type_code_name','scoring_type_code').toPandas()\n",
    "pd.crosstab(dfPd.item_type_code_name.fillna('null'), dfPd.scoring_type_code.fillna('null'), margins=True, margins_name=\"Total\")"
   ],
   "metadata": {
    "collapsed": false,
    "pycharm": {
     "name": "#%%\n"
    }
   }
  },
  {
   "cell_type": "markdown",
   "source": [
    "- unassigned\n",
    "    - FillinBlankResponse\n",
    "    - MultipleChoiceResponse\n",
    "    - shortAnswer\n",
    "- manual\n",
    "  - aheAlg"
   ],
   "metadata": {
    "collapsed": false
   }
  },
  {
   "cell_type": "markdown",
   "source": [
    "###### Demo approach 1 to of weight of evidence calculation"
   ],
   "metadata": {
    "collapsed": false,
    "pycharm": {
     "name": "#%% md\n"
    }
   }
  },
  {
   "cell_type": "code",
   "execution_count": 28,
   "outputs": [],
   "source": [
    "df = pd.DataFrame(\n",
    "    {'cat': ['a', 'b', 'a', 'b', 'a', 'a', 'b', 'c', 'c'],\n",
    "     'target': [1, 0, 0, 1, 0, 0, 1, 1, 0]\n",
    "     })\n",
    "\n",
    "feature,target = 'cat','target'\n",
    "df_woe_iv = (pd.crosstab(df[feature],df[target],\n",
    "                      normalize='columns')\n",
    "             .assign(woe=lambda dfx: np.log(dfx[1] / dfx[0]))\n",
    "             .assign(iv=lambda dfx: np.sum(dfx['woe']*\n",
    "                                           (dfx[1]-dfx[0]))))"
   ],
   "metadata": {
    "collapsed": false,
    "pycharm": {
     "name": "#%%\n"
    }
   }
  },
  {
   "cell_type": "code",
   "execution_count": 29,
   "outputs": [
    {
     "data": {
      "text/plain": "target    0     1       woe        iv\ncat                                  \na       0.6  0.25 -0.875469  0.592458\nb       0.2  0.50  0.916291  0.592458\nc       0.2  0.25  0.223144  0.592458",
      "text/html": "<div>\n<style scoped>\n    .dataframe tbody tr th:only-of-type {\n        vertical-align: middle;\n    }\n\n    .dataframe tbody tr th {\n        vertical-align: top;\n    }\n\n    .dataframe thead th {\n        text-align: right;\n    }\n</style>\n<table border=\"1\" class=\"dataframe\">\n  <thead>\n    <tr style=\"text-align: right;\">\n      <th>target</th>\n      <th>0</th>\n      <th>1</th>\n      <th>woe</th>\n      <th>iv</th>\n    </tr>\n    <tr>\n      <th>cat</th>\n      <th></th>\n      <th></th>\n      <th></th>\n      <th></th>\n    </tr>\n  </thead>\n  <tbody>\n    <tr>\n      <th>a</th>\n      <td>0.6</td>\n      <td>0.25</td>\n      <td>-0.875469</td>\n      <td>0.592458</td>\n    </tr>\n    <tr>\n      <th>b</th>\n      <td>0.2</td>\n      <td>0.50</td>\n      <td>0.916291</td>\n      <td>0.592458</td>\n    </tr>\n    <tr>\n      <th>c</th>\n      <td>0.2</td>\n      <td>0.25</td>\n      <td>0.223144</td>\n      <td>0.592458</td>\n    </tr>\n  </tbody>\n</table>\n</div>"
     },
     "execution_count": 29,
     "metadata": {},
     "output_type": "execute_result"
    }
   ],
   "source": [
    "df_woe_iv"
   ],
   "metadata": {
    "collapsed": false,
    "pycharm": {
     "name": "#%%\n"
    }
   }
  },
  {
   "cell_type": "markdown",
   "source": [
    "###### Demo approach 2 of Weight of evidence calculation using existing library"
   ],
   "metadata": {
    "collapsed": false,
    "pycharm": {
     "name": "#%% md\n"
    }
   }
  },
  {
   "cell_type": "code",
   "execution_count": 30,
   "outputs": [
    {
     "name": "stdout",
     "output_type": "stream",
     "text": [
      "+---+------+\n",
      "|cat|target|\n",
      "+---+------+\n",
      "|  a|     1|\n",
      "|  b|     0|\n",
      "|  a|     0|\n",
      "|  b|     1|\n",
      "|  a|     0|\n",
      "|  a|     0|\n",
      "|  b|     1|\n",
      "|  c|     1|\n",
      "|  c|     0|\n",
      "+---+------+\n",
      "\n"
     ]
    }
   ],
   "source": [
    "df = pd.DataFrame({'cat': ['a', 'b', 'a', 'b', 'a', 'a', 'b', 'c', 'c'],\n",
    "     'target': [1, 0, 0, 1, 0, 0, 1, 1, 0]\n",
    "     })\n",
    "\n",
    "spDf = spark.createDataFrame(df)\n",
    "\n",
    "spDf.show()"
   ],
   "metadata": {
    "collapsed": false,
    "pycharm": {
     "name": "#%%\n"
    }
   }
  },
  {
   "cell_type": "code",
   "execution_count": 31,
   "outputs": [],
   "source": [
    "woe = WOE_IV(spDf, ['cat'], 'target', 1, 0)"
   ],
   "metadata": {
    "collapsed": false,
    "pycharm": {
     "name": "#%%\n"
    }
   }
  },
  {
   "cell_type": "code",
   "execution_count": 32,
   "outputs": [],
   "source": [
    "woe.fit()"
   ],
   "metadata": {
    "collapsed": false,
    "pycharm": {
     "name": "#%%\n"
    }
   }
  },
  {
   "cell_type": "code",
   "execution_count": 33,
   "outputs": [
    {
     "data": {
      "text/plain": "target    0     1       woe        iv\ncat                                  \na       0.6  0.25 -0.875469  0.592458\nb       0.2  0.50  0.916291  0.592458\nc       0.2  0.25  0.223144  0.592458",
      "text/html": "<div>\n<style scoped>\n    .dataframe tbody tr th:only-of-type {\n        vertical-align: middle;\n    }\n\n    .dataframe tbody tr th {\n        vertical-align: top;\n    }\n\n    .dataframe thead th {\n        text-align: right;\n    }\n</style>\n<table border=\"1\" class=\"dataframe\">\n  <thead>\n    <tr style=\"text-align: right;\">\n      <th>target</th>\n      <th>0</th>\n      <th>1</th>\n      <th>woe</th>\n      <th>iv</th>\n    </tr>\n    <tr>\n      <th>cat</th>\n      <th></th>\n      <th></th>\n      <th></th>\n      <th></th>\n    </tr>\n  </thead>\n  <tbody>\n    <tr>\n      <th>a</th>\n      <td>0.6</td>\n      <td>0.25</td>\n      <td>-0.875469</td>\n      <td>0.592458</td>\n    </tr>\n    <tr>\n      <th>b</th>\n      <td>0.2</td>\n      <td>0.50</td>\n      <td>0.916291</td>\n      <td>0.592458</td>\n    </tr>\n    <tr>\n      <th>c</th>\n      <td>0.2</td>\n      <td>0.25</td>\n      <td>0.223144</td>\n      <td>0.592458</td>\n    </tr>\n  </tbody>\n</table>\n</div>"
     },
     "execution_count": 33,
     "metadata": {},
     "output_type": "execute_result"
    }
   ],
   "source": [
    "df_woe_iv"
   ],
   "metadata": {
    "collapsed": false,
    "pycharm": {
     "name": "#%%\n"
    }
   }
  },
  {
   "cell_type": "code",
   "execution_count": 34,
   "outputs": [
    {
     "name": "stdout",
     "output_type": "stream",
     "text": [
      "+---+------+-------------------+\n",
      "|cat|target|            cat_woe|\n",
      "+---+------+-------------------+\n",
      "|  a|     1|-0.8754687373538999|\n",
      "|  b|     0| 0.9162907318741551|\n",
      "|  a|     0|-0.8754687373538999|\n",
      "|  b|     1| 0.9162907318741551|\n",
      "|  a|     0|-0.8754687373538999|\n",
      "|  a|     0|-0.8754687373538999|\n",
      "|  b|     1| 0.9162907318741551|\n",
      "|  c|     1|0.22314355131420976|\n",
      "|  c|     0|0.22314355131420976|\n",
      "+---+------+-------------------+\n",
      "\n"
     ]
    }
   ],
   "source": [
    "woe.transform(spDf).show()"
   ],
   "metadata": {
    "collapsed": false,
    "pycharm": {
     "name": "#%%\n"
    }
   }
  },
  {
   "cell_type": "code",
   "execution_count": 35,
   "outputs": [
    {
     "data": {
      "text/plain": "{'cat': 0.5924584552018219}"
     },
     "execution_count": 35,
     "metadata": {},
     "output_type": "execute_result"
    }
   ],
   "source": [
    "woe.compute_iv()\n"
   ],
   "metadata": {
    "collapsed": false,
    "pycharm": {
     "name": "#%%\n"
    }
   }
  },
  {
   "cell_type": "markdown",
   "source": [
    "##### Actual weight of evidence calculation\n",
    "\n",
    "###### Add target variable"
   ],
   "metadata": {
    "collapsed": false,
    "pycharm": {
     "name": "#%% md\n"
    }
   }
  },
  {
   "cell_type": "code",
   "execution_count": 3,
   "outputs": [
    {
     "name": "stdout",
     "output_type": "stream",
     "text": [
      "+------------------------+------------------+------------------+---------------------------------+-----------------------+--------------------------+--------------------------------+---------------------+-------------------+--------------------------+-------------------------+-------------------------+-------------------------+-----------------------------+------------------------+---------------+--------------------------+----------------------+---------------------+----------------------+----------------------+--------------------------+----------------------+-------------------+-------------------+-----------------+---------+--------------------+-------------------------------+-----------------------------+--------------------+----------+------+----------+-------------+----------------------+-----------------------------+------------------------------+----------+--------------------------------+---------------------------+--------------------------+---------------------+------------------------+------+\n",
      "|ced_assignment_type_code|is_affecting_grade|number_of_learners|number_of_distinct_instance_items|assignment_max_attempts|assignment_late_submission|assignment_final_submission_date|assignment_start_date|assignment_due_date|min_student_start_datetime|max_student_stop_datetime|assignment_attempt_number|was_fully_scored_datetime|was_submitted_datetime_actual|was_in_progress_datetime|is_force_scored|is_manual_scoring_required|student_start_datetime|student_stop_datetime|item_is_offline_scored|learner_attempt_status|points_possible_unweighted|final_score_unweighted|    scored_datetime|item_type_code_name|scoring_type_code|raw_score|response_correctness|item_attempt_start_datetime_utc|item_attempt_end_datetime_utc|assigned_item_status|is_deleted|org_id|section_id|assessment_id|assessment_instance_id|learner_assignment_attempt_id|assessment_instance_attempt_id|learner_id|learner_assigned_item_attempt_id|assessment_item_response_id|item_attempt_duration_mins|student_duration_mins|timeliness_duration_mins|target|\n",
      "+------------------------+------------------+------------------+---------------------------------+-----------------------+--------------------------+--------------------------------+---------------------+-------------------+--------------------------+-------------------------+-------------------------+-------------------------+-----------------------------+------------------------+---------------+--------------------------+----------------------+---------------------+----------------------+----------------------+--------------------------+----------------------+-------------------+-------------------+-----------------+---------+--------------------+-------------------------------+-----------------------------+--------------------+----------+------+----------+-------------+----------------------+-----------------------------+------------------------------+----------+--------------------------------+---------------------------+--------------------------+---------------------+------------------------+------+\n",
      "|              assessment|              true|                23|                                5|                      1|                     false|             2020-01-18 05:59:00|  2019-11-25 06:00:00|2020-01-18 05:59:00|      2019-11-25 20:38:...|     2020-01-14 14:35:...|                        1|      2019-12-17 14:49:35|         2019-12-17 14:49:...|    2019-12-17 14:44:...|          false|                     false|  2019-12-17 14:44:...| 2019-12-17 14:49:...|                 false|          fully scored|                       5.0|                     4|2019-12-17 06:49:35|          trueFalse|        automatic|        1|             correct|           2019-12-17 14:44:...|         2019-12-17 14:45:...|              scored|     false| 19164|    172320|       320512|                450335|                       599754|                        749561|    949368|                         1049174|                    1198981|        0.5666666666666667|                 4.95|       45554.36666666667|     1|\n",
      "|              assessment|              true|                23|                                5|                      1|                     false|             2020-01-18 05:59:00|  2019-11-25 06:00:00|2020-01-18 05:59:00|      2019-11-25 20:38:...|     2020-01-14 14:35:...|                        1|      2019-12-17 14:49:35|         2019-12-17 14:49:...|    2019-12-17 14:44:...|          false|                     false|  2019-12-17 14:44:...| 2019-12-17 14:49:...|                 false|          fully scored|                       5.0|                     4|2019-12-17 06:49:35|          trueFalse|        automatic|        1|             correct|           2019-12-17 14:45:...|         2019-12-17 14:46:...|              scored|     false| 19164|    172320|       320512|                450335|                       599754|                        749561|    949368|                         1049175|                    1198982|       0.21666666666666667|                 4.95|       45554.36666666667|     1|\n",
      "|              assessment|              true|                23|                                5|                      1|                     false|             2020-01-18 05:59:00|  2019-11-25 06:00:00|2020-01-18 05:59:00|      2019-11-25 20:38:...|     2020-01-14 14:35:...|                        1|     2019-11-26 04:05:...|         2019-11-26 04:05:...|    2019-11-26 04:05:...|          false|                     false|  2019-11-26 04:05:...| 2019-11-26 04:05:...|                 false|          fully scored|                       5.0|                     5|2019-11-25 20:05:53|          trueFalse|        automatic|        1|             correct|           2019-11-26 04:05:...|         2019-11-26 04:05:...|              scored|     false| 19164|    172320|       320512|                450335|                       599950|                        749754|    961971|                         1049368|                    1199176|                      0.05|   0.3333333333333333|                76433.45|     1|\n",
      "|              assessment|              true|                23|                                5|                      1|                     false|             2020-01-18 05:59:00|  2019-11-25 06:00:00|2020-01-18 05:59:00|      2019-11-25 20:38:...|     2020-01-14 14:35:...|                        1|     2019-11-26 04:05:...|         2019-11-26 04:05:...|    2019-11-26 04:05:...|          false|                     false|  2019-11-26 04:05:...| 2019-11-26 04:05:...|                 false|          fully scored|                       5.0|                     5|2019-11-25 20:05:53|          trueFalse|        automatic|        1|             correct|           2019-11-26 04:05:...|         2019-11-26 04:05:...|              scored|     false| 19164|    172320|       320512|                450335|                       599950|                        749754|    961971|                         1049369|                    1199175|                      0.05|   0.3333333333333333|                76433.45|     1|\n",
      "|              assessment|              true|                22|                               55|                      1|                     false|             2020-01-18 05:59:00|  2019-12-06 06:00:00|2020-01-18 05:59:00|      2019-12-06 14:30:...|     2020-01-13 20:52:...|                        1|      2019-12-06 15:08:47|         2019-12-06 15:08:...|    2019-12-06 14:30:...|          false|                     false|  2019-12-06 14:30:...| 2019-12-06 15:08:...|                 false|          fully scored|                      55.0|                    25|2019-12-06 07:08:47|          trueFalse|        automatic|        1|             correct|            2019-12-06 14:42:25|         2019-12-06 14:42:...|              scored|     false| 19164|    172320|       337456|                487348|                       637754|                        801322|    956806|                         1049390|                    1199197|       0.18333333333333332|                 38.1|      61408.316666666666|     1|\n",
      "|              assessment|              true|                23|                                5|                      1|                     false|             2020-01-18 05:59:00|  2019-11-25 06:00:00|2020-01-18 05:59:00|      2019-11-25 20:38:...|     2020-01-14 14:35:...|                        1|      2019-12-17 14:49:10|         2019-12-17 14:49:...|    2019-12-12 15:02:...|          false|                     false|  2019-12-12 15:02:...| 2019-12-17 14:49:...|                 false|          fully scored|                       5.0|                     3|2019-12-17 06:49:10|          trueFalse|        automatic|        0|           incorrect|           2019-12-17 14:40:...|         2019-12-17 14:45:...|              scored|     false| 19164|    172320|       320512|                450335|                       600117|                        810244|   1037818|                         1049529|                    1199337|         5.266666666666667|    7186.616666666667|                52736.45|     0|\n",
      "|              assessment|              true|                23|                                5|                      1|                     false|             2020-01-18 05:59:00|  2019-11-25 06:00:00|2020-01-18 05:59:00|      2019-11-25 20:38:...|     2020-01-14 14:35:...|                        1|      2019-12-17 14:49:10|         2019-12-17 14:49:...|    2019-12-12 15:02:...|          false|                     false|  2019-12-12 15:02:...| 2019-12-17 14:49:...|                 false|          fully scored|                       5.0|                     3|2019-12-17 06:49:10|          trueFalse|        automatic|        1|             correct|           2019-12-12 15:02:...|         2019-12-17 14:38:...|              scored|     false| 19164|    172320|       320512|                450335|                       600117|                        810244|   1037818|                         1049530|                    1199336|         7176.283333333334|    7186.616666666667|                52736.45|     1|\n",
      "|              assessment|              true|                23|                                5|                      1|                     false|             2020-01-18 05:59:00|  2019-11-25 06:00:00|2020-01-18 05:59:00|      2019-11-25 20:38:...|     2020-01-14 14:35:...|                        1|      2019-11-25 20:54:19|         2019-11-25 20:54:...|    2019-11-25 20:53:...|          false|                     false|  2019-11-25 20:53:...| 2019-11-25 20:54:...|                 false|          fully scored|                       5.0|                     5|2019-11-25 12:54:19|          trueFalse|        automatic|        1|             correct|           2019-11-25 20:53:...|         2019-11-25 20:53:...|              scored|     false| 19164|    172320|       320512|                450335|                       600346|                        750147|   1039141|                         1049750|                    1199558|       0.06666666666666667|                 0.85|       76865.53333333334|     1|\n",
      "|              assessment|              true|                23|                                5|                      1|                     false|             2020-01-18 05:59:00|  2019-11-25 06:00:00|2020-01-18 05:59:00|      2019-11-25 20:38:...|     2020-01-14 14:35:...|                        1|      2019-11-25 20:54:19|         2019-11-25 20:54:...|    2019-11-25 20:53:...|          false|                     false|  2019-11-25 20:53:...| 2019-11-25 20:54:...|                 false|          fully scored|                       5.0|                     5|2019-11-25 12:54:19|          trueFalse|        automatic|        1|             correct|           2019-11-25 20:53:...|         2019-11-25 20:53:...|              scored|     false| 19164|    172320|       320512|                450335|                       600346|                        750147|   1039141|                         1049751|                    1199559|                      0.05|                 0.85|       76865.53333333334|     1|\n",
      "|              assessment|              true|                23|                                5|                      1|                     false|             2020-01-18 05:59:00|  2019-11-25 06:00:00|2020-01-18 05:59:00|      2019-11-25 20:38:...|     2020-01-14 14:35:...|                        1|      2019-12-17 14:49:35|         2019-12-17 14:49:...|    2019-12-17 14:44:...|          false|                     false|  2019-12-17 14:44:...| 2019-12-17 14:49:...|                 false|          fully scored|                       5.0|                     4|2019-12-17 06:49:35|          trueFalse|        automatic|        1|             correct|           2019-12-17 14:46:...|         2019-12-17 14:46:...|              scored|     false| 19164|    172320|       320512|                450335|                       599754|                        749561|    949368|                         1049752|                    1199557|                      0.55|                 4.95|       45554.36666666667|     1|\n",
      "|              assessment|              true|                23|                                5|                      1|                     false|             2020-01-18 05:59:00|  2019-11-25 06:00:00|2020-01-18 05:59:00|      2019-11-25 20:38:...|     2020-01-14 14:35:...|                        1|      2019-12-17 14:49:35|         2019-12-17 14:49:...|    2019-12-17 14:44:...|          false|                     false|  2019-12-17 14:44:...| 2019-12-17 14:49:...|                 false|          fully scored|                       5.0|                     4|2019-12-17 06:49:35|          trueFalse|        automatic|        1|             correct|           2019-12-17 14:45:...|         2019-12-17 14:45:...|              scored|     false| 19164|    172320|       320512|                450335|                       599754|                        749561|    949368|                         1049753|                    1306009|        0.6666666666666666|                 4.95|       45554.36666666667|     1|\n",
      "|              assessment|              true|                23|                                5|                      1|                     false|             2020-01-18 05:59:00|  2019-11-25 06:00:00|2020-01-18 05:59:00|      2019-11-25 20:38:...|     2020-01-14 14:35:...|                        1|      2019-12-17 14:49:35|         2019-12-17 14:49:...|    2019-12-17 14:44:...|          false|                     false|  2019-12-17 14:44:...| 2019-12-17 14:49:...|                 false|          fully scored|                       5.0|                     4|2019-12-17 06:49:35|     multipleChoice|        automatic|        0|           incorrect|           2019-12-17 14:46:...|         2019-12-17 14:49:...|              scored|     false| 19164|    172320|       320512|                450335|                       599754|                        749561|    949368|                         1049754|                    1343523|        2.8666666666666667|                 4.95|       45554.36666666667|     0|\n",
      "|              assessment|              true|                29|                               10|                      1|                     false|             2020-02-14 20:00:00|  2020-02-11 05:00:00|2020-02-14 20:00:00|      2020-02-11 14:23:...|     2020-02-14 14:26:...|                        1|     2020-02-11 14:52:...|         2020-02-11 14:52:...|    2020-02-11 14:33:...|          false|                     false|  2020-02-11 14:33:...| 2020-02-11 14:52:...|                 false|          fully scored|                      10.0|                    10|2020-02-11 06:52:38|      equationEntry|        automatic|        1|             correct|            2020-02-11 14:52:07|         2020-02-11 14:52:...|              scored|     false|130845|    149902|       299764|                574771|                       724627|                        756986|    985496|                         1049939|                    1199744|                       0.4|   19.533333333333335|       4646.883333333333|     1|\n",
      "|              assessment|              true|                26|                               10|                      1|                     false|             2020-01-11 05:59:00|  2019-10-23 05:00:00|2020-01-11 05:59:00|      2019-10-29 18:36:...|     2020-01-09 19:36:...|                        1|     2019-10-31 16:37:...|         2019-10-31 16:37:...|    2019-10-31 16:28:...|          false|                     false|  2019-10-31 16:28:...| 2019-10-31 16:37:...|                 false|          fully scored|                      10.0|                     5|2019-10-31 09:37:50|          trueFalse|        automatic|        0|           incorrect|           2019-10-31 16:29:...|         2019-10-31 16:30:...|              scored|     false| 19164|    190142|       334272|                483946|                       634251|                        750424|    945792|                         1050027|                    1199834|        1.0666666666666667|    9.766666666666667|      103110.93333333333|     0|\n",
      "|              assessment|              true|                26|                               10|                      1|                     false|             2020-01-11 05:59:00|  2019-10-23 05:00:00|2020-01-11 05:59:00|      2019-10-29 18:36:...|     2020-01-09 19:36:...|                        1|     2019-10-31 16:37:...|         2019-10-31 16:37:...|    2019-10-31 16:28:...|          false|                     false|  2019-10-31 16:28:...| 2019-10-31 16:37:...|                 false|          fully scored|                      10.0|                     5|2019-10-31 09:37:50|     multipleChoice|        automatic|        0|           incorrect|           2019-10-31 16:32:...|         2019-10-31 16:35:...|              scored|     false| 19164|    190142|       334272|                483946|                       634251|                        750424|    945792|                         1050028|                    1199832|                      3.05|    9.766666666666667|      103110.93333333333|     0|\n",
      "|              assessment|              true|                26|                               10|                      1|                     false|             2020-01-11 05:59:00|  2019-10-23 05:00:00|2020-01-11 05:59:00|      2019-10-29 18:36:...|     2020-01-09 19:36:...|                        1|     2019-10-31 16:37:...|         2019-10-31 16:37:...|    2019-10-31 16:28:...|          false|                     false|  2019-10-31 16:28:...| 2019-10-31 16:37:...|                 false|          fully scored|                      10.0|                     5|2019-10-31 09:37:50|          trueFalse|        automatic|        1|             correct|           2019-10-31 16:32:...|         2019-10-31 16:32:...|              scored|     false| 19164|    190142|       334272|                483946|                       634251|                        750424|    945792|                         1050029|                    1199833|       0.13333333333333333|    9.766666666666667|      103110.93333333333|     1|\n",
      "|              assessment|              true|                16|                               55|                      1|                     false|             2020-02-06 05:59:00|  2019-12-06 06:00:00|2020-01-07 05:59:00|      2019-12-06 15:20:...|     2019-12-12 21:08:...|                        1|     2019-12-06 16:03:...|         2019-12-06 16:03:...|    2019-12-06 15:23:...|          false|                     false|  2019-12-06 15:23:...| 2019-12-06 16:03:...|                 false|          fully scored|                      55.0|                    43|2019-12-06 08:03:38|          trueFalse|        automatic|        1|             correct|           2019-12-06 15:49:...|         2019-12-06 16:02:...|              scored|     false| 19164|    190290|       337456|                475764|                       625498|                        869243|    989921|                         1083504|                    1229958|        12.216666666666667|    39.86666666666667|       45515.23333333333|     1|\n",
      "|              assessment|              true|                24|                               10|                      1|                     false|             2019-10-26 03:59:00|  2019-10-14 04:00:00|2019-10-26 03:59:00|      2019-10-14 12:24:...|     2019-11-22 12:54:...|                        1|     2019-10-14 13:16:...|         2019-10-14 13:16:...|    2019-10-14 12:32:...|          false|                     false|  2019-10-14 12:32:...| 2019-10-14 13:16:...|                 false|          fully scored|                      10.0|                     0|2019-10-14 06:16:42|          bucketing|        automatic|        0|           incorrect|           2019-10-14 13:06:...|         2019-10-14 13:16:...|              scored|     false|130845|    150237|       374663|                558087|                       707791|                        816966|    991842|                         1083519|                    1229973|        10.416666666666666|    43.71666666666667|      16766.016666666666|     0|\n",
      "|                practice|             false|                44|                                1|                      1|                     false|             2019-10-02 04:59:00|  2019-09-30 05:00:00|2019-10-02 04:59:00|      2019-09-30 16:24:...|     2019-10-01 17:45:...|                        1|     2019-09-30 18:18:...|         2019-09-30 18:18:...|    2019-09-30 18:16:...|          false|                     false|  2019-09-30 18:16:...| 2019-09-30 18:18:...|                 false|          fully scored|                      15.0|                    15|2019-09-30 11:18:33|              cloze|        automatic|       15|             correct|           2019-09-30 18:16:...|         2019-09-30 18:18:...|              scored|     false|117713|    150165|       361708|                511574|                       661459|                        802806|   1023272|                         1083523|                    1229977|        1.6666666666666667|                  1.7|       2082.133333333333|     1|\n",
      "|              assessment|              true|                23|                                5|                      1|                     false|             2020-01-18 05:59:00|  2019-11-25 06:00:00|2020-01-18 05:59:00|      2019-11-25 20:38:...|     2020-01-14 14:35:...|                        1|      2019-12-17 14:49:10|         2019-12-17 14:49:...|    2019-12-12 15:02:...|          false|                     false|  2019-12-12 15:02:...| 2019-12-17 14:49:...|                 false|          fully scored|                       5.0|                     3|2019-12-17 06:49:10|          trueFalse|        automatic|        1|             correct|           2019-12-17 14:38:...|         2019-12-17 14:39:...|              scored|     false| 19164|    172320|       320512|                450335|                       600117|                        810244|   1037818|                         1083683|                    1230143|                      0.55|    7186.616666666667|                52736.45|     1|\n",
      "+------------------------+------------------+------------------+---------------------------------+-----------------------+--------------------------+--------------------------------+---------------------+-------------------+--------------------------+-------------------------+-------------------------+-------------------------+-----------------------------+------------------------+---------------+--------------------------+----------------------+---------------------+----------------------+----------------------+--------------------------+----------------------+-------------------+-------------------+-----------------+---------+--------------------+-------------------------------+-----------------------------+--------------------+----------+------+----------+-------------+----------------------+-----------------------------+------------------------------+----------+--------------------------------+---------------------------+--------------------------+---------------------+------------------------+------+\n",
      "only showing top 20 rows\n",
      "\n"
     ]
    }
   ],
   "source": [
    "targetDf = util.create_target_var_from_raw_score(filterDf)\n",
    "targetDf.show()"
   ],
   "metadata": {
    "collapsed": false,
    "pycharm": {
     "name": "#%%\n"
    }
   }
  },
  {
   "cell_type": "markdown",
   "source": [
    "###### Calculate weight of evidence"
   ],
   "metadata": {
    "collapsed": false
   }
  },
  {
   "cell_type": "code",
   "execution_count": 37,
   "outputs": [
    {
     "name": "stdout",
     "output_type": "stream",
     "text": [
      "+------------------------+------------------+------------------+---------------------------------+-----------------------+--------------------------+--------------------------------+---------------------+-------------------+--------------------------+-------------------------+-------------------------+-------------------------+-----------------------------+------------------------+---------------+--------------------------+----------------------+---------------------+----------------------+----------------------+--------------------------+----------------------+-------------------+-------------------+-----------------+---------+--------------------+-------------------------------+-----------------------------+--------------------+----------+------+----------+-------------+----------------------+-----------------------------+------------------------------+----------+--------------------------------+---------------------------+--------------------------+---------------------+------------------------+------+-----------------------+\n",
      "|ced_assignment_type_code|is_affecting_grade|number_of_learners|number_of_distinct_instance_items|assignment_max_attempts|assignment_late_submission|assignment_final_submission_date|assignment_start_date|assignment_due_date|min_student_start_datetime|max_student_stop_datetime|assignment_attempt_number|was_fully_scored_datetime|was_submitted_datetime_actual|was_in_progress_datetime|is_force_scored|is_manual_scoring_required|student_start_datetime|student_stop_datetime|item_is_offline_scored|learner_attempt_status|points_possible_unweighted|final_score_unweighted|    scored_datetime|item_type_code_name|scoring_type_code|raw_score|response_correctness|item_attempt_start_datetime_utc|item_attempt_end_datetime_utc|assigned_item_status|is_deleted|org_id|section_id|assessment_id|assessment_instance_id|learner_assignment_attempt_id|assessment_instance_attempt_id|learner_id|learner_assigned_item_attempt_id|assessment_item_response_id|item_attempt_duration_mins|student_duration_mins|timeliness_duration_mins|target|item_type_code_name_woe|\n",
      "+------------------------+------------------+------------------+---------------------------------+-----------------------+--------------------------+--------------------------------+---------------------+-------------------+--------------------------+-------------------------+-------------------------+-------------------------+-----------------------------+------------------------+---------------+--------------------------+----------------------+---------------------+----------------------+----------------------+--------------------------+----------------------+-------------------+-------------------+-----------------+---------+--------------------+-------------------------------+-----------------------------+--------------------+----------+------+----------+-------------+----------------------+-----------------------------+------------------------------+----------+--------------------------------+---------------------------+--------------------------+---------------------+------------------------+------+-----------------------+\n",
      "|              assessment|              true|                23|                                5|                      1|                     false|             2020-01-18 05:59:00|  2019-11-25 06:00:00|2020-01-18 05:59:00|      2019-11-25 20:38:...|     2020-01-14 14:35:...|                        1|      2019-12-17 14:49:35|         2019-12-17 14:49:...|    2019-12-17 14:44:...|          false|                     false|  2019-12-17 14:44:...| 2019-12-17 14:49:...|                 false|          fully scored|                       5.0|                     4|2019-12-17 06:49:35|          trueFalse|        automatic|        1|             correct|           2019-12-17 14:44:...|         2019-12-17 14:45:...|              scored|     false| 19164|    172320|       320512|                450335|                       599754|                        749561|    949368|                         1049174|                    1198981|        0.5666666666666667|                 4.95|       45554.36666666667|     1|      1.218291692247865|\n",
      "|              assessment|              true|                23|                                5|                      1|                     false|             2020-01-18 05:59:00|  2019-11-25 06:00:00|2020-01-18 05:59:00|      2019-11-25 20:38:...|     2020-01-14 14:35:...|                        1|      2019-12-17 14:49:35|         2019-12-17 14:49:...|    2019-12-17 14:44:...|          false|                     false|  2019-12-17 14:44:...| 2019-12-17 14:49:...|                 false|          fully scored|                       5.0|                     4|2019-12-17 06:49:35|          trueFalse|        automatic|        1|             correct|           2019-12-17 14:45:...|         2019-12-17 14:46:...|              scored|     false| 19164|    172320|       320512|                450335|                       599754|                        749561|    949368|                         1049175|                    1198982|       0.21666666666666667|                 4.95|       45554.36666666667|     1|      1.218291692247865|\n",
      "|              assessment|              true|                23|                                5|                      1|                     false|             2020-01-18 05:59:00|  2019-11-25 06:00:00|2020-01-18 05:59:00|      2019-11-25 20:38:...|     2020-01-14 14:35:...|                        1|     2019-11-26 04:05:...|         2019-11-26 04:05:...|    2019-11-26 04:05:...|          false|                     false|  2019-11-26 04:05:...| 2019-11-26 04:05:...|                 false|          fully scored|                       5.0|                     5|2019-11-25 20:05:53|          trueFalse|        automatic|        1|             correct|           2019-11-26 04:05:...|         2019-11-26 04:05:...|              scored|     false| 19164|    172320|       320512|                450335|                       599950|                        749754|    961971|                         1049368|                    1199176|                      0.05|   0.3333333333333333|                76433.45|     1|      1.218291692247865|\n",
      "|              assessment|              true|                23|                                5|                      1|                     false|             2020-01-18 05:59:00|  2019-11-25 06:00:00|2020-01-18 05:59:00|      2019-11-25 20:38:...|     2020-01-14 14:35:...|                        1|     2019-11-26 04:05:...|         2019-11-26 04:05:...|    2019-11-26 04:05:...|          false|                     false|  2019-11-26 04:05:...| 2019-11-26 04:05:...|                 false|          fully scored|                       5.0|                     5|2019-11-25 20:05:53|          trueFalse|        automatic|        1|             correct|           2019-11-26 04:05:...|         2019-11-26 04:05:...|              scored|     false| 19164|    172320|       320512|                450335|                       599950|                        749754|    961971|                         1049369|                    1199175|                      0.05|   0.3333333333333333|                76433.45|     1|      1.218291692247865|\n",
      "|              assessment|              true|                22|                               55|                      1|                     false|             2020-01-18 05:59:00|  2019-12-06 06:00:00|2020-01-18 05:59:00|      2019-12-06 14:30:...|     2020-01-13 20:52:...|                        1|      2019-12-06 15:08:47|         2019-12-06 15:08:...|    2019-12-06 14:30:...|          false|                     false|  2019-12-06 14:30:...| 2019-12-06 15:08:...|                 false|          fully scored|                      55.0|                    25|2019-12-06 07:08:47|          trueFalse|        automatic|        1|             correct|            2019-12-06 14:42:25|         2019-12-06 14:42:...|              scored|     false| 19164|    172320|       337456|                487348|                       637754|                        801322|    956806|                         1049390|                    1199197|       0.18333333333333332|                 38.1|      61408.316666666666|     1|      1.218291692247865|\n",
      "|              assessment|              true|                23|                                5|                      1|                     false|             2020-01-18 05:59:00|  2019-11-25 06:00:00|2020-01-18 05:59:00|      2019-11-25 20:38:...|     2020-01-14 14:35:...|                        1|      2019-12-17 14:49:10|         2019-12-17 14:49:...|    2019-12-12 15:02:...|          false|                     false|  2019-12-12 15:02:...| 2019-12-17 14:49:...|                 false|          fully scored|                       5.0|                     3|2019-12-17 06:49:10|          trueFalse|        automatic|        0|           incorrect|           2019-12-17 14:40:...|         2019-12-17 14:45:...|              scored|     false| 19164|    172320|       320512|                450335|                       600117|                        810244|   1037818|                         1049529|                    1199337|         5.266666666666667|    7186.616666666667|                52736.45|     0|      1.218291692247865|\n",
      "|              assessment|              true|                23|                                5|                      1|                     false|             2020-01-18 05:59:00|  2019-11-25 06:00:00|2020-01-18 05:59:00|      2019-11-25 20:38:...|     2020-01-14 14:35:...|                        1|      2019-12-17 14:49:10|         2019-12-17 14:49:...|    2019-12-12 15:02:...|          false|                     false|  2019-12-12 15:02:...| 2019-12-17 14:49:...|                 false|          fully scored|                       5.0|                     3|2019-12-17 06:49:10|          trueFalse|        automatic|        1|             correct|           2019-12-12 15:02:...|         2019-12-17 14:38:...|              scored|     false| 19164|    172320|       320512|                450335|                       600117|                        810244|   1037818|                         1049530|                    1199336|         7176.283333333334|    7186.616666666667|                52736.45|     1|      1.218291692247865|\n",
      "|              assessment|              true|                23|                                5|                      1|                     false|             2020-01-18 05:59:00|  2019-11-25 06:00:00|2020-01-18 05:59:00|      2019-11-25 20:38:...|     2020-01-14 14:35:...|                        1|      2019-11-25 20:54:19|         2019-11-25 20:54:...|    2019-11-25 20:53:...|          false|                     false|  2019-11-25 20:53:...| 2019-11-25 20:54:...|                 false|          fully scored|                       5.0|                     5|2019-11-25 12:54:19|          trueFalse|        automatic|        1|             correct|           2019-11-25 20:53:...|         2019-11-25 20:53:...|              scored|     false| 19164|    172320|       320512|                450335|                       600346|                        750147|   1039141|                         1049750|                    1199558|       0.06666666666666667|                 0.85|       76865.53333333334|     1|      1.218291692247865|\n",
      "|              assessment|              true|                23|                                5|                      1|                     false|             2020-01-18 05:59:00|  2019-11-25 06:00:00|2020-01-18 05:59:00|      2019-11-25 20:38:...|     2020-01-14 14:35:...|                        1|      2019-11-25 20:54:19|         2019-11-25 20:54:...|    2019-11-25 20:53:...|          false|                     false|  2019-11-25 20:53:...| 2019-11-25 20:54:...|                 false|          fully scored|                       5.0|                     5|2019-11-25 12:54:19|          trueFalse|        automatic|        1|             correct|           2019-11-25 20:53:...|         2019-11-25 20:53:...|              scored|     false| 19164|    172320|       320512|                450335|                       600346|                        750147|   1039141|                         1049751|                    1199559|                      0.05|                 0.85|       76865.53333333334|     1|      1.218291692247865|\n",
      "|              assessment|              true|                23|                                5|                      1|                     false|             2020-01-18 05:59:00|  2019-11-25 06:00:00|2020-01-18 05:59:00|      2019-11-25 20:38:...|     2020-01-14 14:35:...|                        1|      2019-12-17 14:49:35|         2019-12-17 14:49:...|    2019-12-17 14:44:...|          false|                     false|  2019-12-17 14:44:...| 2019-12-17 14:49:...|                 false|          fully scored|                       5.0|                     4|2019-12-17 06:49:35|          trueFalse|        automatic|        1|             correct|           2019-12-17 14:46:...|         2019-12-17 14:46:...|              scored|     false| 19164|    172320|       320512|                450335|                       599754|                        749561|    949368|                         1049752|                    1199557|                      0.55|                 4.95|       45554.36666666667|     1|      1.218291692247865|\n",
      "|              assessment|              true|                23|                                5|                      1|                     false|             2020-01-18 05:59:00|  2019-11-25 06:00:00|2020-01-18 05:59:00|      2019-11-25 20:38:...|     2020-01-14 14:35:...|                        1|      2019-12-17 14:49:35|         2019-12-17 14:49:...|    2019-12-17 14:44:...|          false|                     false|  2019-12-17 14:44:...| 2019-12-17 14:49:...|                 false|          fully scored|                       5.0|                     4|2019-12-17 06:49:35|          trueFalse|        automatic|        1|             correct|           2019-12-17 14:45:...|         2019-12-17 14:45:...|              scored|     false| 19164|    172320|       320512|                450335|                       599754|                        749561|    949368|                         1049753|                    1306009|        0.6666666666666666|                 4.95|       45554.36666666667|     1|      1.218291692247865|\n",
      "|              assessment|              true|                23|                                5|                      1|                     false|             2020-01-18 05:59:00|  2019-11-25 06:00:00|2020-01-18 05:59:00|      2019-11-25 20:38:...|     2020-01-14 14:35:...|                        1|      2019-12-17 14:49:35|         2019-12-17 14:49:...|    2019-12-17 14:44:...|          false|                     false|  2019-12-17 14:44:...| 2019-12-17 14:49:...|                 false|          fully scored|                       5.0|                     4|2019-12-17 06:49:35|     multipleChoice|        automatic|        0|           incorrect|           2019-12-17 14:46:...|         2019-12-17 14:49:...|              scored|     false| 19164|    172320|       320512|                450335|                       599754|                        749561|    949368|                         1049754|                    1343523|        2.8666666666666667|                 4.95|       45554.36666666667|     0|    0.32106741494756447|\n",
      "|              assessment|              true|                29|                               10|                      1|                     false|             2020-02-14 20:00:00|  2020-02-11 05:00:00|2020-02-14 20:00:00|      2020-02-11 14:23:...|     2020-02-14 14:26:...|                        1|     2020-02-11 14:52:...|         2020-02-11 14:52:...|    2020-02-11 14:33:...|          false|                     false|  2020-02-11 14:33:...| 2020-02-11 14:52:...|                 false|          fully scored|                      10.0|                    10|2020-02-11 06:52:38|      equationEntry|        automatic|        1|             correct|            2020-02-11 14:52:07|         2020-02-11 14:52:...|              scored|     false|130845|    149902|       299764|                574771|                       724627|                        756986|    985496|                         1049939|                    1199744|                       0.4|   19.533333333333335|       4646.883333333333|     1|   -0.20196025643452972|\n",
      "|              assessment|              true|                26|                               10|                      1|                     false|             2020-01-11 05:59:00|  2019-10-23 05:00:00|2020-01-11 05:59:00|      2019-10-29 18:36:...|     2020-01-09 19:36:...|                        1|     2019-10-31 16:37:...|         2019-10-31 16:37:...|    2019-10-31 16:28:...|          false|                     false|  2019-10-31 16:28:...| 2019-10-31 16:37:...|                 false|          fully scored|                      10.0|                     5|2019-10-31 09:37:50|          trueFalse|        automatic|        0|           incorrect|           2019-10-31 16:29:...|         2019-10-31 16:30:...|              scored|     false| 19164|    190142|       334272|                483946|                       634251|                        750424|    945792|                         1050027|                    1199834|        1.0666666666666667|    9.766666666666667|      103110.93333333333|     0|      1.218291692247865|\n",
      "|              assessment|              true|                26|                               10|                      1|                     false|             2020-01-11 05:59:00|  2019-10-23 05:00:00|2020-01-11 05:59:00|      2019-10-29 18:36:...|     2020-01-09 19:36:...|                        1|     2019-10-31 16:37:...|         2019-10-31 16:37:...|    2019-10-31 16:28:...|          false|                     false|  2019-10-31 16:28:...| 2019-10-31 16:37:...|                 false|          fully scored|                      10.0|                     5|2019-10-31 09:37:50|     multipleChoice|        automatic|        0|           incorrect|           2019-10-31 16:32:...|         2019-10-31 16:35:...|              scored|     false| 19164|    190142|       334272|                483946|                       634251|                        750424|    945792|                         1050028|                    1199832|                      3.05|    9.766666666666667|      103110.93333333333|     0|    0.32106741494756447|\n",
      "|              assessment|              true|                26|                               10|                      1|                     false|             2020-01-11 05:59:00|  2019-10-23 05:00:00|2020-01-11 05:59:00|      2019-10-29 18:36:...|     2020-01-09 19:36:...|                        1|     2019-10-31 16:37:...|         2019-10-31 16:37:...|    2019-10-31 16:28:...|          false|                     false|  2019-10-31 16:28:...| 2019-10-31 16:37:...|                 false|          fully scored|                      10.0|                     5|2019-10-31 09:37:50|          trueFalse|        automatic|        1|             correct|           2019-10-31 16:32:...|         2019-10-31 16:32:...|              scored|     false| 19164|    190142|       334272|                483946|                       634251|                        750424|    945792|                         1050029|                    1199833|       0.13333333333333333|    9.766666666666667|      103110.93333333333|     1|      1.218291692247865|\n",
      "|              assessment|              true|                16|                               55|                      1|                     false|             2020-02-06 05:59:00|  2019-12-06 06:00:00|2020-01-07 05:59:00|      2019-12-06 15:20:...|     2019-12-12 21:08:...|                        1|     2019-12-06 16:03:...|         2019-12-06 16:03:...|    2019-12-06 15:23:...|          false|                     false|  2019-12-06 15:23:...| 2019-12-06 16:03:...|                 false|          fully scored|                      55.0|                    43|2019-12-06 08:03:38|          trueFalse|        automatic|        1|             correct|           2019-12-06 15:49:...|         2019-12-06 16:02:...|              scored|     false| 19164|    190290|       337456|                475764|                       625498|                        869243|    989921|                         1083504|                    1229958|        12.216666666666667|    39.86666666666667|       45515.23333333333|     1|      1.218291692247865|\n",
      "|              assessment|              true|                24|                               10|                      1|                     false|             2019-10-26 03:59:00|  2019-10-14 04:00:00|2019-10-26 03:59:00|      2019-10-14 12:24:...|     2019-11-22 12:54:...|                        1|     2019-10-14 13:16:...|         2019-10-14 13:16:...|    2019-10-14 12:32:...|          false|                     false|  2019-10-14 12:32:...| 2019-10-14 13:16:...|                 false|          fully scored|                      10.0|                     0|2019-10-14 06:16:42|          bucketing|        automatic|        0|           incorrect|           2019-10-14 13:06:...|         2019-10-14 13:16:...|              scored|     false|130845|    150237|       374663|                558087|                       707791|                        816966|    991842|                         1083519|                    1229973|        10.416666666666666|    43.71666666666667|      16766.016666666666|     0|    -0.4030723677858624|\n",
      "|                practice|             false|                44|                                1|                      1|                     false|             2019-10-02 04:59:00|  2019-09-30 05:00:00|2019-10-02 04:59:00|      2019-09-30 16:24:...|     2019-10-01 17:45:...|                        1|     2019-09-30 18:18:...|         2019-09-30 18:18:...|    2019-09-30 18:16:...|          false|                     false|  2019-09-30 18:16:...| 2019-09-30 18:18:...|                 false|          fully scored|                      15.0|                    15|2019-09-30 11:18:33|              cloze|        automatic|       15|             correct|           2019-09-30 18:16:...|         2019-09-30 18:18:...|              scored|     false|117713|    150165|       361708|                511574|                       661459|                        802806|   1023272|                         1083523|                    1229977|        1.6666666666666667|                  1.7|       2082.133333333333|     1|    0.37076306431267775|\n",
      "|              assessment|              true|                23|                                5|                      1|                     false|             2020-01-18 05:59:00|  2019-11-25 06:00:00|2020-01-18 05:59:00|      2019-11-25 20:38:...|     2020-01-14 14:35:...|                        1|      2019-12-17 14:49:10|         2019-12-17 14:49:...|    2019-12-12 15:02:...|          false|                     false|  2019-12-12 15:02:...| 2019-12-17 14:49:...|                 false|          fully scored|                       5.0|                     3|2019-12-17 06:49:10|          trueFalse|        automatic|        1|             correct|           2019-12-17 14:38:...|         2019-12-17 14:39:...|              scored|     false| 19164|    172320|       320512|                450335|                       600117|                        810244|   1037818|                         1083683|                    1230143|                      0.55|    7186.616666666667|                52736.45|     1|      1.218291692247865|\n",
      "+------------------------+------------------+------------------+---------------------------------+-----------------------+--------------------------+--------------------------------+---------------------+-------------------+--------------------------+-------------------------+-------------------------+-------------------------+-----------------------------+------------------------+---------------+--------------------------+----------------------+---------------------+----------------------+----------------------+--------------------------+----------------------+-------------------+-------------------+-----------------+---------+--------------------+-------------------------------+-----------------------------+--------------------+----------+------+----------+-------------+----------------------+-----------------------------+------------------------------+----------+--------------------------------+---------------------------+--------------------------+---------------------+------------------------+------+-----------------------+\n",
      "only showing top 20 rows\n",
      "\n"
     ]
    }
   ],
   "source": [
    "util.add_weight_of_evidence(targetDf, 'item_type_code_name', 'target').show()"
   ],
   "metadata": {
    "collapsed": false,
    "pycharm": {
     "name": "#%%\n"
    }
   }
  },
  {
   "cell_type": "markdown",
   "source": [
    "###### Calculate smoothed weight of evidence"
   ],
   "metadata": {
    "collapsed": false,
    "pycharm": {
     "name": "#%% md\n"
    }
   }
  },
  {
   "cell_type": "code",
   "execution_count": 38,
   "outputs": [
    {
     "name": "stdout",
     "output_type": "stream",
     "text": [
      "+------------------------+------------------+------------------+---------------------------------+-----------------------+--------------------------+--------------------------------+---------------------+-------------------+--------------------------+-------------------------+-------------------------+-------------------------+-----------------------------+------------------------+---------------+--------------------------+----------------------+---------------------+----------------------+----------------------+--------------------------+----------------------+-------------------+-------------------+-----------------+---------+--------------------+-------------------------------+-----------------------------+--------------------+----------+------+----------+-------------+----------------------+-----------------------------+------------------------------+----------+--------------------------------+---------------------------+--------------------------+---------------------+------------------------+------+-----------------------+\n",
      "|ced_assignment_type_code|is_affecting_grade|number_of_learners|number_of_distinct_instance_items|assignment_max_attempts|assignment_late_submission|assignment_final_submission_date|assignment_start_date|assignment_due_date|min_student_start_datetime|max_student_stop_datetime|assignment_attempt_number|was_fully_scored_datetime|was_submitted_datetime_actual|was_in_progress_datetime|is_force_scored|is_manual_scoring_required|student_start_datetime|student_stop_datetime|item_is_offline_scored|learner_attempt_status|points_possible_unweighted|final_score_unweighted|    scored_datetime|item_type_code_name|scoring_type_code|raw_score|response_correctness|item_attempt_start_datetime_utc|item_attempt_end_datetime_utc|assigned_item_status|is_deleted|org_id|section_id|assessment_id|assessment_instance_id|learner_assignment_attempt_id|assessment_instance_attempt_id|learner_id|learner_assigned_item_attempt_id|assessment_item_response_id|item_attempt_duration_mins|student_duration_mins|timeliness_duration_mins|target|item_type_code_name_woe|\n",
      "+------------------------+------------------+------------------+---------------------------------+-----------------------+--------------------------+--------------------------------+---------------------+-------------------+--------------------------+-------------------------+-------------------------+-------------------------+-----------------------------+------------------------+---------------+--------------------------+----------------------+---------------------+----------------------+----------------------+--------------------------+----------------------+-------------------+-------------------+-----------------+---------+--------------------+-------------------------------+-----------------------------+--------------------+----------+------+----------+-------------+----------------------+-----------------------------+------------------------------+----------+--------------------------------+---------------------------+--------------------------+---------------------+------------------------+------+-----------------------+\n",
      "|              assessment|              true|                23|                                5|                      1|                     false|             2020-01-18 05:59:00|  2019-11-25 06:00:00|2020-01-18 05:59:00|      2019-11-25 20:38:...|     2020-01-14 14:35:...|                        1|      2019-12-17 14:49:35|         2019-12-17 14:49:...|    2019-12-17 14:44:...|          false|                     false|  2019-12-17 14:44:...| 2019-12-17 14:49:...|                 false|          fully scored|                       5.0|                     4|2019-12-17 06:49:35|          trueFalse|        automatic|        1|             correct|           2019-12-17 14:44:...|         2019-12-17 14:45:...|              scored|     false| 19164|    172320|       320512|                450335|                       599754|                        749561|    949368|                         1049174|                    1198981|        0.5666666666666667|                 4.95|       45554.36666666667|     1|      6.498163852486634|\n",
      "|              assessment|              true|                23|                                5|                      1|                     false|             2020-01-18 05:59:00|  2019-11-25 06:00:00|2020-01-18 05:59:00|      2019-11-25 20:38:...|     2020-01-14 14:35:...|                        1|      2019-12-17 14:49:35|         2019-12-17 14:49:...|    2019-12-17 14:44:...|          false|                     false|  2019-12-17 14:44:...| 2019-12-17 14:49:...|                 false|          fully scored|                       5.0|                     4|2019-12-17 06:49:35|          trueFalse|        automatic|        1|             correct|           2019-12-17 14:45:...|         2019-12-17 14:46:...|              scored|     false| 19164|    172320|       320512|                450335|                       599754|                        749561|    949368|                         1049175|                    1198982|       0.21666666666666667|                 4.95|       45554.36666666667|     1|      6.498163852486634|\n",
      "|              assessment|              true|                23|                                5|                      1|                     false|             2020-01-18 05:59:00|  2019-11-25 06:00:00|2020-01-18 05:59:00|      2019-11-25 20:38:...|     2020-01-14 14:35:...|                        1|     2019-11-26 04:05:...|         2019-11-26 04:05:...|    2019-11-26 04:05:...|          false|                     false|  2019-11-26 04:05:...| 2019-11-26 04:05:...|                 false|          fully scored|                       5.0|                     5|2019-11-25 20:05:53|          trueFalse|        automatic|        1|             correct|           2019-11-26 04:05:...|         2019-11-26 04:05:...|              scored|     false| 19164|    172320|       320512|                450335|                       599950|                        749754|    961971|                         1049368|                    1199176|                      0.05|   0.3333333333333333|                76433.45|     1|      6.498163852486634|\n",
      "|              assessment|              true|                23|                                5|                      1|                     false|             2020-01-18 05:59:00|  2019-11-25 06:00:00|2020-01-18 05:59:00|      2019-11-25 20:38:...|     2020-01-14 14:35:...|                        1|     2019-11-26 04:05:...|         2019-11-26 04:05:...|    2019-11-26 04:05:...|          false|                     false|  2019-11-26 04:05:...| 2019-11-26 04:05:...|                 false|          fully scored|                       5.0|                     5|2019-11-25 20:05:53|          trueFalse|        automatic|        1|             correct|           2019-11-26 04:05:...|         2019-11-26 04:05:...|              scored|     false| 19164|    172320|       320512|                450335|                       599950|                        749754|    961971|                         1049369|                    1199175|                      0.05|   0.3333333333333333|                76433.45|     1|      6.498163852486634|\n",
      "|              assessment|              true|                22|                               55|                      1|                     false|             2020-01-18 05:59:00|  2019-12-06 06:00:00|2020-01-18 05:59:00|      2019-12-06 14:30:...|     2020-01-13 20:52:...|                        1|      2019-12-06 15:08:47|         2019-12-06 15:08:...|    2019-12-06 14:30:...|          false|                     false|  2019-12-06 14:30:...| 2019-12-06 15:08:...|                 false|          fully scored|                      55.0|                    25|2019-12-06 07:08:47|          trueFalse|        automatic|        1|             correct|            2019-12-06 14:42:25|         2019-12-06 14:42:...|              scored|     false| 19164|    172320|       337456|                487348|                       637754|                        801322|    956806|                         1049390|                    1199197|       0.18333333333333332|                 38.1|      61408.316666666666|     1|      6.498163852486634|\n",
      "|              assessment|              true|                23|                                5|                      1|                     false|             2020-01-18 05:59:00|  2019-11-25 06:00:00|2020-01-18 05:59:00|      2019-11-25 20:38:...|     2020-01-14 14:35:...|                        1|      2019-12-17 14:49:10|         2019-12-17 14:49:...|    2019-12-12 15:02:...|          false|                     false|  2019-12-12 15:02:...| 2019-12-17 14:49:...|                 false|          fully scored|                       5.0|                     3|2019-12-17 06:49:10|          trueFalse|        automatic|        0|           incorrect|           2019-12-17 14:40:...|         2019-12-17 14:45:...|              scored|     false| 19164|    172320|       320512|                450335|                       600117|                        810244|   1037818|                         1049529|                    1199337|         5.266666666666667|    7186.616666666667|                52736.45|     0|      6.498163852486634|\n",
      "|              assessment|              true|                23|                                5|                      1|                     false|             2020-01-18 05:59:00|  2019-11-25 06:00:00|2020-01-18 05:59:00|      2019-11-25 20:38:...|     2020-01-14 14:35:...|                        1|      2019-12-17 14:49:10|         2019-12-17 14:49:...|    2019-12-12 15:02:...|          false|                     false|  2019-12-12 15:02:...| 2019-12-17 14:49:...|                 false|          fully scored|                       5.0|                     3|2019-12-17 06:49:10|          trueFalse|        automatic|        1|             correct|           2019-12-12 15:02:...|         2019-12-17 14:38:...|              scored|     false| 19164|    172320|       320512|                450335|                       600117|                        810244|   1037818|                         1049530|                    1199336|         7176.283333333334|    7186.616666666667|                52736.45|     1|      6.498163852486634|\n",
      "|              assessment|              true|                23|                                5|                      1|                     false|             2020-01-18 05:59:00|  2019-11-25 06:00:00|2020-01-18 05:59:00|      2019-11-25 20:38:...|     2020-01-14 14:35:...|                        1|      2019-11-25 20:54:19|         2019-11-25 20:54:...|    2019-11-25 20:53:...|          false|                     false|  2019-11-25 20:53:...| 2019-11-25 20:54:...|                 false|          fully scored|                       5.0|                     5|2019-11-25 12:54:19|          trueFalse|        automatic|        1|             correct|           2019-11-25 20:53:...|         2019-11-25 20:53:...|              scored|     false| 19164|    172320|       320512|                450335|                       600346|                        750147|   1039141|                         1049750|                    1199558|       0.06666666666666667|                 0.85|       76865.53333333334|     1|      6.498163852486634|\n",
      "|              assessment|              true|                23|                                5|                      1|                     false|             2020-01-18 05:59:00|  2019-11-25 06:00:00|2020-01-18 05:59:00|      2019-11-25 20:38:...|     2020-01-14 14:35:...|                        1|      2019-11-25 20:54:19|         2019-11-25 20:54:...|    2019-11-25 20:53:...|          false|                     false|  2019-11-25 20:53:...| 2019-11-25 20:54:...|                 false|          fully scored|                       5.0|                     5|2019-11-25 12:54:19|          trueFalse|        automatic|        1|             correct|           2019-11-25 20:53:...|         2019-11-25 20:53:...|              scored|     false| 19164|    172320|       320512|                450335|                       600346|                        750147|   1039141|                         1049751|                    1199559|                      0.05|                 0.85|       76865.53333333334|     1|      6.498163852486634|\n",
      "|              assessment|              true|                23|                                5|                      1|                     false|             2020-01-18 05:59:00|  2019-11-25 06:00:00|2020-01-18 05:59:00|      2019-11-25 20:38:...|     2020-01-14 14:35:...|                        1|      2019-12-17 14:49:35|         2019-12-17 14:49:...|    2019-12-17 14:44:...|          false|                     false|  2019-12-17 14:44:...| 2019-12-17 14:49:...|                 false|          fully scored|                       5.0|                     4|2019-12-17 06:49:35|          trueFalse|        automatic|        1|             correct|           2019-12-17 14:46:...|         2019-12-17 14:46:...|              scored|     false| 19164|    172320|       320512|                450335|                       599754|                        749561|    949368|                         1049752|                    1199557|                      0.55|                 4.95|       45554.36666666667|     1|      6.498163852486634|\n",
      "|              assessment|              true|                23|                                5|                      1|                     false|             2020-01-18 05:59:00|  2019-11-25 06:00:00|2020-01-18 05:59:00|      2019-11-25 20:38:...|     2020-01-14 14:35:...|                        1|      2019-12-17 14:49:35|         2019-12-17 14:49:...|    2019-12-17 14:44:...|          false|                     false|  2019-12-17 14:44:...| 2019-12-17 14:49:...|                 false|          fully scored|                       5.0|                     4|2019-12-17 06:49:35|          trueFalse|        automatic|        1|             correct|           2019-12-17 14:45:...|         2019-12-17 14:45:...|              scored|     false| 19164|    172320|       320512|                450335|                       599754|                        749561|    949368|                         1049753|                    1306009|        0.6666666666666666|                 4.95|       45554.36666666667|     1|      6.498163852486634|\n",
      "|              assessment|              true|                23|                                5|                      1|                     false|             2020-01-18 05:59:00|  2019-11-25 06:00:00|2020-01-18 05:59:00|      2019-11-25 20:38:...|     2020-01-14 14:35:...|                        1|      2019-12-17 14:49:35|         2019-12-17 14:49:...|    2019-12-17 14:44:...|          false|                     false|  2019-12-17 14:44:...| 2019-12-17 14:49:...|                 false|          fully scored|                       5.0|                     4|2019-12-17 06:49:35|     multipleChoice|        automatic|        0|           incorrect|           2019-12-17 14:46:...|         2019-12-17 14:49:...|              scored|     false| 19164|    172320|       320512|                450335|                       599754|                        749561|    949368|                         1049754|                    1343523|        2.8666666666666667|                 4.95|       45554.36666666667|     0|      4.109439136661966|\n",
      "|              assessment|              true|                29|                               10|                      1|                     false|             2020-02-14 20:00:00|  2020-02-11 05:00:00|2020-02-14 20:00:00|      2020-02-11 14:23:...|     2020-02-14 14:26:...|                        1|     2020-02-11 14:52:...|         2020-02-11 14:52:...|    2020-02-11 14:33:...|          false|                     false|  2020-02-11 14:33:...| 2020-02-11 14:52:...|                 false|          fully scored|                      10.0|                    10|2020-02-11 06:52:38|      equationEntry|        automatic|        1|             correct|            2020-02-11 14:52:07|         2020-02-11 14:52:...|              scored|     false|130845|    149902|       299764|                574771|                       724627|                        756986|    985496|                         1049939|                    1199744|                       0.4|   19.533333333333335|       4646.883333333333|     1|      4.871643893651478|\n",
      "|              assessment|              true|                26|                               10|                      1|                     false|             2020-01-11 05:59:00|  2019-10-23 05:00:00|2020-01-11 05:59:00|      2019-10-29 18:36:...|     2020-01-09 19:36:...|                        1|     2019-10-31 16:37:...|         2019-10-31 16:37:...|    2019-10-31 16:28:...|          false|                     false|  2019-10-31 16:28:...| 2019-10-31 16:37:...|                 false|          fully scored|                      10.0|                     5|2019-10-31 09:37:50|          trueFalse|        automatic|        0|           incorrect|           2019-10-31 16:29:...|         2019-10-31 16:30:...|              scored|     false| 19164|    190142|       334272|                483946|                       634251|                        750424|    945792|                         1050027|                    1199834|        1.0666666666666667|    9.766666666666667|      103110.93333333333|     0|      6.498163852486634|\n",
      "|              assessment|              true|                26|                               10|                      1|                     false|             2020-01-11 05:59:00|  2019-10-23 05:00:00|2020-01-11 05:59:00|      2019-10-29 18:36:...|     2020-01-09 19:36:...|                        1|     2019-10-31 16:37:...|         2019-10-31 16:37:...|    2019-10-31 16:28:...|          false|                     false|  2019-10-31 16:28:...| 2019-10-31 16:37:...|                 false|          fully scored|                      10.0|                     5|2019-10-31 09:37:50|     multipleChoice|        automatic|        0|           incorrect|           2019-10-31 16:32:...|         2019-10-31 16:35:...|              scored|     false| 19164|    190142|       334272|                483946|                       634251|                        750424|    945792|                         1050028|                    1199832|                      3.05|    9.766666666666667|      103110.93333333333|     0|      4.109439136661966|\n",
      "|              assessment|              true|                26|                               10|                      1|                     false|             2020-01-11 05:59:00|  2019-10-23 05:00:00|2020-01-11 05:59:00|      2019-10-29 18:36:...|     2020-01-09 19:36:...|                        1|     2019-10-31 16:37:...|         2019-10-31 16:37:...|    2019-10-31 16:28:...|          false|                     false|  2019-10-31 16:28:...| 2019-10-31 16:37:...|                 false|          fully scored|                      10.0|                     5|2019-10-31 09:37:50|          trueFalse|        automatic|        1|             correct|           2019-10-31 16:32:...|         2019-10-31 16:32:...|              scored|     false| 19164|    190142|       334272|                483946|                       634251|                        750424|    945792|                         1050029|                    1199833|       0.13333333333333333|    9.766666666666667|      103110.93333333333|     1|      6.498163852486634|\n",
      "|              assessment|              true|                16|                               55|                      1|                     false|             2020-02-06 05:59:00|  2019-12-06 06:00:00|2020-01-07 05:59:00|      2019-12-06 15:20:...|     2019-12-12 21:08:...|                        1|     2019-12-06 16:03:...|         2019-12-06 16:03:...|    2019-12-06 15:23:...|          false|                     false|  2019-12-06 15:23:...| 2019-12-06 16:03:...|                 false|          fully scored|                      55.0|                    43|2019-12-06 08:03:38|          trueFalse|        automatic|        1|             correct|           2019-12-06 15:49:...|         2019-12-06 16:02:...|              scored|     false| 19164|    190290|       337456|                475764|                       625498|                        869243|    989921|                         1083504|                    1229958|        12.216666666666667|    39.86666666666667|       45515.23333333333|     1|      6.498163852486634|\n",
      "|              assessment|              true|                24|                               10|                      1|                     false|             2019-10-26 03:59:00|  2019-10-14 04:00:00|2019-10-26 03:59:00|      2019-10-14 12:24:...|     2019-11-22 12:54:...|                        1|     2019-10-14 13:16:...|         2019-10-14 13:16:...|    2019-10-14 12:32:...|          false|                     false|  2019-10-14 12:32:...| 2019-10-14 13:16:...|                 false|          fully scored|                      10.0|                     0|2019-10-14 06:16:42|          bucketing|        automatic|        0|           incorrect|           2019-10-14 13:06:...|         2019-10-14 13:16:...|              scored|     false|130845|    150237|       374663|                558087|                       707791|                        816966|    991842|                         1083519|                    1229973|        10.416666666666666|    43.71666666666667|      16766.016666666666|     0|      6.971599581910257|\n",
      "|                practice|             false|                44|                                1|                      1|                     false|             2019-10-02 04:59:00|  2019-09-30 05:00:00|2019-10-02 04:59:00|      2019-09-30 16:24:...|     2019-10-01 17:45:...|                        1|     2019-09-30 18:18:...|         2019-09-30 18:18:...|    2019-09-30 18:16:...|          false|                     false|  2019-09-30 18:16:...| 2019-09-30 18:18:...|                 false|          fully scored|                      15.0|                    15|2019-09-30 11:18:33|              cloze|        automatic|       15|             correct|           2019-09-30 18:16:...|         2019-09-30 18:18:...|              scored|     false|117713|    150165|       361708|                511574|                       661459|                        802806|   1023272|                         1083523|                    1229977|        1.6666666666666667|                  1.7|       2082.133333333333|     1|      6.196814164756306|\n",
      "|              assessment|              true|                23|                                5|                      1|                     false|             2020-01-18 05:59:00|  2019-11-25 06:00:00|2020-01-18 05:59:00|      2019-11-25 20:38:...|     2020-01-14 14:35:...|                        1|      2019-12-17 14:49:10|         2019-12-17 14:49:...|    2019-12-12 15:02:...|          false|                     false|  2019-12-12 15:02:...| 2019-12-17 14:49:...|                 false|          fully scored|                       5.0|                     3|2019-12-17 06:49:10|          trueFalse|        automatic|        1|             correct|           2019-12-17 14:38:...|         2019-12-17 14:39:...|              scored|     false| 19164|    172320|       320512|                450335|                       600117|                        810244|   1037818|                         1083683|                    1230143|                      0.55|    7186.616666666667|                52736.45|     1|      6.498163852486634|\n",
      "+------------------------+------------------+------------------+---------------------------------+-----------------------+--------------------------+--------------------------------+---------------------+-------------------+--------------------------+-------------------------+-------------------------+-------------------------+-----------------------------+------------------------+---------------+--------------------------+----------------------+---------------------+----------------------+----------------------+--------------------------+----------------------+-------------------+-------------------+-----------------+---------+--------------------+-------------------------------+-----------------------------+--------------------+----------+------+----------+-------------+----------------------+-----------------------------+------------------------------+----------+--------------------------------+---------------------------+--------------------------+---------------------+------------------------+------+-----------------------+\n",
      "only showing top 20 rows\n",
      "\n"
     ]
    }
   ],
   "source": [
    "util.add_weight_of_evidence(targetDf, 'item_type_code_name', 'target', 24).show()"
   ],
   "metadata": {
    "collapsed": false,
    "pycharm": {
     "name": "#%%\n"
    }
   }
  },
  {
   "cell_type": "code",
   "execution_count": 39,
   "outputs": [
    {
     "data": {
      "text/plain": "0.7112033067028595"
     },
     "execution_count": 39,
     "metadata": {},
     "output_type": "execute_result"
    }
   ],
   "source": [
    "targetDf.agg( F.avg( F.col('target') ).alias('mean') ).collect()[0]['mean']"
   ],
   "metadata": {
    "collapsed": false,
    "pycharm": {
     "name": "#%%\n"
    }
   }
  },
  {
   "cell_type": "markdown",
   "source": [
    "###### Smoothed weight of evidence test"
   ],
   "metadata": {
    "collapsed": false,
    "pycharm": {
     "name": "#%% md\n"
    }
   }
  },
  {
   "cell_type": "markdown",
   "source": [
    "###### Create data"
   ],
   "metadata": {
    "collapsed": false,
    "pycharm": {
     "name": "#%% md\n"
    }
   }
  },
  {
   "cell_type": "code",
   "execution_count": 40,
   "outputs": [
    {
     "data": {
      "text/plain": "target   0   1\ncat           \nA       28   7\nB       16   0\nC       94  11\nD       23  21",
      "text/html": "<div>\n<style scoped>\n    .dataframe tbody tr th:only-of-type {\n        vertical-align: middle;\n    }\n\n    .dataframe tbody tr th {\n        vertical-align: top;\n    }\n\n    .dataframe thead th {\n        text-align: right;\n    }\n</style>\n<table border=\"1\" class=\"dataframe\">\n  <thead>\n    <tr style=\"text-align: right;\">\n      <th>target</th>\n      <th>0</th>\n      <th>1</th>\n    </tr>\n    <tr>\n      <th>cat</th>\n      <th></th>\n      <th></th>\n    </tr>\n  </thead>\n  <tbody>\n    <tr>\n      <th>A</th>\n      <td>28</td>\n      <td>7</td>\n    </tr>\n    <tr>\n      <th>B</th>\n      <td>16</td>\n      <td>0</td>\n    </tr>\n    <tr>\n      <th>C</th>\n      <td>94</td>\n      <td>11</td>\n    </tr>\n    <tr>\n      <th>D</th>\n      <td>23</td>\n      <td>21</td>\n    </tr>\n  </tbody>\n</table>\n</div>"
     },
     "execution_count": 40,
     "metadata": {},
     "output_type": "execute_result"
    }
   ],
   "source": [
    "# Data and test results from SAS Certification course Part 2, Lesson 3: Preparing the Input Variables\n",
    "#\n",
    "#vResults Should be\n",
    "# +---+---+---+--------------------+\n",
    "# |cat|  1|  0|                swoe|\n",
    "# +---+---+---+--------------------+\n",
    "# |  A|  7| 28| -1.3990550617101052|\n",
    "# |  B|  0| 16|  -2.021151265806204|\n",
    "# |  C| 11| 94|  -1.977829660040054|\n",
    "# |  D| 21| 23|-0.49954730872828346|\n",
    "# +---+---+---+--------------------+\n",
    "\n",
    "df2 = pd.DataFrame(columns = ['cat', 'target'])\n",
    "\n",
    "for m in range(28):\n",
    "    df2 = df2.append({'cat' : 'A', 'target' : 0}, ignore_index = True)\n",
    "\n",
    "for m in range(7):\n",
    "    df2 = df2.append({'cat' : 'A', 'target' : 1}, ignore_index = True)\n",
    "\n",
    "for m in range(16):\n",
    "    df2 = df2.append({'cat' : 'B', 'target' : 0}, ignore_index = True)\n",
    "\n",
    "for m in range(94):\n",
    "    df2 = df2.append({'cat' : 'C', 'target' : 0}, ignore_index = True)\n",
    "\n",
    "for m in range(11):\n",
    "    df2 = df2.append({'cat' : 'C', 'target' : 1}, ignore_index = True)\n",
    "\n",
    "for m in range(23):\n",
    "    df2 = df2.append({'cat' : 'D', 'target' : 0}, ignore_index = True)\n",
    "\n",
    "for m in range(21):\n",
    "    df2 = df2.append({'cat' : 'D', 'target' : 1}, ignore_index = True)\n",
    "\n",
    "\n",
    "pd.crosstab(df2.cat, df2.target)"
   ],
   "metadata": {
    "collapsed": false,
    "pycharm": {
     "name": "#%%\n"
    }
   }
  },
  {
   "cell_type": "markdown",
   "source": [
    "###### Create dataframe"
   ],
   "metadata": {
    "collapsed": false,
    "pycharm": {
     "name": "#%% md\n"
    }
   }
  },
  {
   "cell_type": "code",
   "execution_count": 41,
   "outputs": [],
   "source": [
    "testDf = spark.createDataFrame(df2)"
   ],
   "metadata": {
    "collapsed": false,
    "pycharm": {
     "name": "#%%\n"
    }
   }
  },
  {
   "cell_type": "code",
   "execution_count": 42,
   "outputs": [
    {
     "name": "stdout",
     "output_type": "stream",
     "text": [
      "+---+------+------------------+\n",
      "|cat|target|           cat_woe|\n",
      "+---+------+------------------+\n",
      "|  A|     0|3.8557076750075017|\n",
      "|  A|     1|3.8557076750075017|\n",
      "|  D|     1|4.0226557522642405|\n",
      "|  B|     0| 4.197825909502335|\n",
      "|  C|     1| 3.325713219942633|\n",
      "|  C|     0| 3.325713219942633|\n",
      "|  D|     0|4.0226557522642405|\n",
      "+---+------+------------------+\n",
      "\n"
     ]
    }
   ],
   "source": [
    "# util.add_weight_of_evidence(testDf, 'cat', 'target', 24).distinct().show()\n",
    "\n",
    "woe = WOE_IV(testDf, ['cat'], 'target', 1, 24)\n",
    "woe.fit()\n",
    "woe.transform(testDf).distinct().show()"
   ],
   "metadata": {
    "collapsed": false,
    "pycharm": {
     "name": "#%%\n"
    }
   }
  },
  {
   "cell_type": "code",
   "execution_count": 43,
   "outputs": [
    {
     "data": {
      "text/plain": "0.195"
     },
     "execution_count": 43,
     "metadata": {},
     "output_type": "execute_result"
    }
   ],
   "source": [
    "woe.rhol"
   ],
   "metadata": {
    "collapsed": false,
    "pycharm": {
     "name": "#%%\n"
    }
   }
  },
  {
   "cell_type": "markdown",
   "source": [
    "###### Use pandas crosstabe to calculate swoe"
   ],
   "metadata": {
    "collapsed": false,
    "pycharm": {
     "name": "#%% md\n"
    }
   }
  },
  {
   "cell_type": "code",
   "execution_count": 44,
   "outputs": [
    {
     "name": "stdout",
     "output_type": "stream",
     "text": [
      "+---+------+--------------------+\n",
      "|cat|target|            cat_swoe|\n",
      "+---+------+--------------------+\n",
      "|  B|     0|  -2.021151265806204|\n",
      "|  D|     0|-0.49954730872828346|\n",
      "|  D|     1|-0.49954730872828346|\n",
      "|  C|     0|  -1.977829660040054|\n",
      "|  C|     1|  -1.977829660040054|\n",
      "|  A|     0| -1.3990550617101052|\n",
      "|  A|     1| -1.3990550617101052|\n",
      "+---+------+--------------------+\n",
      "\n"
     ]
    }
   ],
   "source": [
    "util.add_swoe(testDf, 'target', 'cat', 24).distinct().show()"
   ],
   "metadata": {
    "collapsed": false,
    "pycharm": {
     "name": "#%%\n"
    }
   }
  },
  {
   "cell_type": "code",
   "source": [
    "# Should be\n",
    "# +---+---+---+--------------------+\n",
    "# |cat|  1|  0|                swoe|\n",
    "# +---+---+---+--------------------+\n",
    "# |  A|  7| 28| -1.3990550617101052|\n",
    "# |  B|  0| 16|  -2.021151265806204|\n",
    "# |  C| 11| 94|  -1.977829660040054|\n",
    "# |  D| 21| 23|-0.49954730872828346|\n",
    "# +---+---+---+--------------------+"
   ],
   "metadata": {
    "collapsed": false,
    "pycharm": {
     "name": "#%%\n"
    }
   },
   "execution_count": 45,
   "outputs": []
  },
  {
   "cell_type": "markdown",
   "source": [
    "###### Test with real data"
   ],
   "metadata": {
    "collapsed": false,
    "pycharm": {
     "name": "#%% md\n"
    }
   }
  },
  {
   "cell_type": "code",
   "execution_count": 4,
   "outputs": [
    {
     "name": "stdout",
     "output_type": "stream",
     "text": [
      "+------+--------------------+------------------------+\n",
      "|target| item_type_code_name|item_type_code_name_swoe|\n",
      "+------+--------------------+------------------------+\n",
      "|     0|            matching|      1.6484411234822027|\n",
      "|     0|       equationEntry|      0.6998692812113955|\n",
      "|     0|          selectText|      0.1944883042850973|\n",
      "|     0|               essay|      2.4538814070726778|\n",
      "|     0|MultipleChoiceRes...|      0.4954550053599087|\n",
      "|     0|          numberLine|      0.6484141415912662|\n",
      "|     1|       equationEntry|      0.6998692812113955|\n",
      "|     1|             aheAlgo|     0.34187369559511316|\n",
      "|     0|           bucketing|      0.5092389215192233|\n",
      "|     1|           trueFalse|      2.1096355178584147|\n",
      "|     1|      multipleChoice|      1.2219898236832512|\n",
      "|     1|            matching|      1.6484411234822027|\n",
      "|     0|         shortAnswer|      1.7673389419782077|\n",
      "|     1| FillinBlankResponse|      0.6523843277995943|\n",
      "|     0|           trueFalse|      2.1096355178584147|\n",
      "|     1|            graphing|     0.29559829727062525|\n",
      "|     1|               cloze|      1.2687833668151935|\n",
      "|     0|             aheAlgo|     0.34187369559511316|\n",
      "|     1|         shortAnswer|      1.7673389419782077|\n",
      "|     0|      multipleChoice|      1.2219898236832512|\n",
      "+------+--------------------+------------------------+\n",
      "only showing top 20 rows\n",
      "\n"
     ]
    }
   ],
   "source": [
    "util.add_swoe(targetDf, 'target', 'item_type_code_name', 24).select('target', 'item_type_code_name', 'item_type_code_name_swoe').distinct().show()"
   ],
   "metadata": {
    "collapsed": false,
    "pycharm": {
     "name": "#%%\n"
    }
   }
  },
  {
   "cell_type": "code",
   "execution_count": null,
   "outputs": [],
   "source": [],
   "metadata": {
    "collapsed": false,
    "pycharm": {
     "name": "#%%\n"
    }
   }
  }
 ],
 "metadata": {
  "kernelspec": {
   "display_name": "Python 3",
   "language": "python",
   "name": "python3"
  },
  "language_info": {
   "codemirror_mode": {
    "name": "ipython",
    "version": 2
   },
   "file_extension": ".py",
   "mimetype": "text/x-python",
   "name": "python",
   "nbconvert_exporter": "python",
   "pygments_lexer": "ipython2",
   "version": "2.7.6"
  }
 },
 "nbformat": 4,
 "nbformat_minor": 0
}