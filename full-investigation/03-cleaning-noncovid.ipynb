{
 "cells": [
  {
   "cell_type": "markdown",
   "source": [
    "## Cleaning"
   ],
   "metadata": {
    "collapsed": false
   }
  },
  {
   "cell_type": "code",
   "execution_count": 23,
   "outputs": [],
   "source": [
    "%%capture\n",
    "\n",
    "%run './lib/init.ipynb'\n",
    "from lib import utilities as util\n",
    "from pyspark.sql import functions as F\n",
    "import pandas as pd\n",
    "\n",
    "from pyspark import SparkContext\n",
    "from pyspark.sql import SparkSession\n",
    "from pyspark.sql import functions as F\n",
    "\n",
    "sc = SparkContext.getOrCreate()\n",
    "spark = SparkSession( sc )"
   ],
   "metadata": {
    "collapsed": false,
    "pycharm": {
     "name": "#%%\n"
    }
   }
  },
  {
   "cell_type": "code",
   "execution_count": 24,
   "outputs": [],
   "source": [
    "filterDf  = util.load_df('filterDf')\n",
    "\n",
    "studyVars = [\n",
    "    'item_type_code_name',\n",
    "    'number_of_distinct_instance_items',\n",
    "    'item_attempt_duration_mins',\n",
    "    'student_duration_mins',\n",
    "    'timeliness_duration_mins'\n",
    "]\n",
    "cleaningVars = [\n",
    "    'raw_score',\n",
    "    'item_attempt_end_datetime_utc',\n",
    "    'item_attempt_start_datetime_utc',\n",
    "    'assessment_item_response_id'\n",
    "]"
   ],
   "metadata": {
    "collapsed": false,
    "pycharm": {
     "name": "#%%\n"
    }
   }
  },
  {
   "cell_type": "markdown",
   "source": [
    "###### Create dataset of only study variables"
   ],
   "metadata": {
    "collapsed": false
   }
  },
  {
   "cell_type": "code",
   "execution_count": 25,
   "outputs": [
    {
     "data": {
      "text/plain": "43219"
     },
     "execution_count": 25,
     "metadata": {},
     "output_type": "execute_result"
    }
   ],
   "source": [
    "# Only records before Feb 1 2020\n",
    "cleanDf = filterDf.filter( F.col('student_start_datetime') < F.lit('2020-02-01') ).select(*studyVars, *cleaningVars)\n",
    "beforeCnt = cleanDf.count()\n",
    "beforeCnt"
   ],
   "metadata": {
    "collapsed": false,
    "pycharm": {
     "name": "#%%\n"
    }
   }
  },
  {
   "cell_type": "markdown",
   "source": [
    "###### Cleaning Tasks"
   ],
   "metadata": {
    "collapsed": false
   }
  },
  {
   "cell_type": "code",
   "execution_count": 26,
   "outputs": [
    {
     "name": "stdout",
     "output_type": "stream",
     "text": [
      "{'todo': 'Remove null values in response_correctness', 'finished': False}\n"
     ]
    }
   ],
   "source": [
    "util.list_todo(False)"
   ],
   "metadata": {
    "collapsed": false,
    "pycharm": {
     "name": "#%%\n"
    }
   }
  },
  {
   "cell_type": "markdown",
   "source": [
    "##### Before Training Validation Split"
   ],
   "metadata": {
    "collapsed": false
   }
  },
  {
   "cell_type": "code",
   "execution_count": 27,
   "outputs": [],
   "source": [
    "stepsDf = pd.DataFrame(columns = ['description', 'removed', 'imputed', 'data', 'function'])"
   ],
   "metadata": {
    "collapsed": false,
    "pycharm": {
     "name": "#%%\n"
    }
   }
  },
  {
   "cell_type": "markdown",
   "source": [
    "###### Remove [unassigned] in response_correctness"
   ],
   "metadata": {
    "collapsed": false
   }
  },
  {
   "cell_type": "code",
   "execution_count": 28,
   "outputs": [
    {
     "data": {
      "text/plain": "42303"
     },
     "execution_count": 28,
     "metadata": {},
     "output_type": "execute_result"
    }
   ],
   "source": [
    "# Clean\n",
    "cleanDf = util.remove_unassigned_response_correctness(cleanDf)\n",
    "\n",
    "afterCnt = cleanDf.count()\n",
    "afterCnt"
   ],
   "metadata": {
    "collapsed": false,
    "pycharm": {
     "name": "#%%\n"
    }
   }
  },
  {
   "cell_type": "code",
   "execution_count": 29,
   "outputs": [
    {
     "name": "stdout",
     "output_type": "stream",
     "text": [
      "Finished: Remove [unassigned] in response_correctness\n"
     ]
    }
   ],
   "source": [
    "# Update status\n",
    "def update_status(df, description, function, removed, imputed, data = 'all'):\n",
    "    util.finish_todo(description)\n",
    "    return df.append({'description' : description, 'removed' : removed, 'imputed' : imputed, 'function' : function, 'data': data }, ignore_index = True)\n",
    "\n",
    "\n",
    "stepsDf = update_status(\n",
    "    stepsDf,\n",
    "    \"Remove [unassigned] in response_correctness\",\n",
    "    'remove_unassigned_response_correctness',\n",
    "    beforeCnt - afterCnt,\n",
    "    0\n",
    ")\n",
    "beforeCnt = afterCnt"
   ],
   "metadata": {
    "collapsed": false,
    "pycharm": {
     "name": "#%%\n"
    }
   }
  },
  {
   "cell_type": "markdown",
   "source": [
    "###### Remove student start or stop null dates"
   ],
   "metadata": {
    "collapsed": false
   }
  },
  {
   "cell_type": "code",
   "execution_count": 30,
   "outputs": [
    {
     "data": {
      "text/plain": "42303"
     },
     "execution_count": 30,
     "metadata": {},
     "output_type": "execute_result"
    }
   ],
   "source": [
    "# Clean\n",
    "cleanDf = util.remove_null_student_dates(cleanDf)\n",
    "\n",
    "afterCnt = cleanDf.count()\n",
    "afterCnt"
   ],
   "metadata": {
    "collapsed": false,
    "pycharm": {
     "name": "#%%\n"
    }
   }
  },
  {
   "cell_type": "code",
   "execution_count": 31,
   "outputs": [
    {
     "name": "stdout",
     "output_type": "stream",
     "text": [
      "Finished: Remove student start or stop null dates\n"
     ]
    }
   ],
   "source": [
    "# Update status\n",
    "\n",
    "stepsDf = update_status(\n",
    "    stepsDf,\n",
    "    \"Remove student start or stop null dates\",\n",
    "    'remove_null_student_dates',\n",
    "    beforeCnt - afterCnt,\n",
    "    0\n",
    ")\n",
    "beforeCnt = afterCnt"
   ],
   "metadata": {
    "collapsed": false,
    "pycharm": {
     "name": "#%%\n"
    }
   }
  },
  {
   "cell_type": "markdown",
   "source": [
    "###### Remove attempt stop dates before start date"
   ],
   "metadata": {
    "collapsed": false
   }
  },
  {
   "cell_type": "code",
   "execution_count": 32,
   "outputs": [
    {
     "data": {
      "text/plain": "42295"
     },
     "execution_count": 32,
     "metadata": {},
     "output_type": "execute_result"
    }
   ],
   "source": [
    "# Clean\n",
    "cleanDf = util.remove_attempt_stop_dates_before_start_dates(cleanDf)\n",
    "\n",
    "afterCnt = cleanDf.count()\n",
    "afterCnt"
   ],
   "metadata": {
    "collapsed": false,
    "pycharm": {
     "name": "#%%\n"
    }
   }
  },
  {
   "cell_type": "code",
   "execution_count": 33,
   "outputs": [
    {
     "name": "stdout",
     "output_type": "stream",
     "text": [
      "Finished: Remove attempt stop dates before start date\n"
     ]
    }
   ],
   "source": [
    "# Update status\n",
    "\n",
    "stepsDf = update_status(\n",
    "    stepsDf,\n",
    "    \"Remove attempt stop dates before start date\",\n",
    "    'remove_attempt_stop_dates_before_start_dates',\n",
    "    beforeCnt - afterCnt,\n",
    "    0\n",
    ")\n",
    "beforeCnt = afterCnt"
   ],
   "metadata": {
    "collapsed": false,
    "pycharm": {
     "name": "#%%\n"
    }
   }
  },
  {
   "cell_type": "markdown",
   "source": [
    "###### Create target variable from raw_score"
   ],
   "metadata": {
    "collapsed": false
   }
  },
  {
   "cell_type": "code",
   "execution_count": 34,
   "outputs": [],
   "source": [
    "cleanDf = util.create_target_var_from_raw_score(cleanDf)"
   ],
   "metadata": {
    "collapsed": false,
    "pycharm": {
     "name": "#%%\n"
    }
   }
  },
  {
   "cell_type": "markdown",
   "source": [
    "##### Create training and validation datasets"
   ],
   "metadata": {
    "collapsed": false
   }
  },
  {
   "cell_type": "code",
   "execution_count": 35,
   "outputs": [],
   "source": [
    "covidTrnDf, covidValDf = cleanDf.select('target', *studyVars).randomSplit([0.75, 0.25], 11112020)"
   ],
   "metadata": {
    "collapsed": false,
    "pycharm": {
     "name": "#%%\n"
    }
   }
  },
  {
   "cell_type": "markdown",
   "source": [
    "##### Training count"
   ],
   "metadata": {
    "collapsed": false
   }
  },
  {
   "cell_type": "code",
   "execution_count": 36,
   "outputs": [
    {
     "data": {
      "text/plain": "31847"
     },
     "execution_count": 36,
     "metadata": {},
     "output_type": "execute_result"
    }
   ],
   "source": [
    "covidTrnDf.count()"
   ],
   "metadata": {
    "collapsed": false,
    "pycharm": {
     "name": "#%%\n"
    }
   }
  },
  {
   "cell_type": "markdown",
   "source": [
    "##### Validation count"
   ],
   "metadata": {
    "collapsed": false
   }
  },
  {
   "cell_type": "code",
   "execution_count": 37,
   "outputs": [
    {
     "data": {
      "text/plain": "10448"
     },
     "execution_count": 37,
     "metadata": {},
     "output_type": "execute_result"
    }
   ],
   "source": [
    "covidValDf.count()"
   ],
   "metadata": {
    "collapsed": false,
    "pycharm": {
     "name": "#%%\n"
    }
   }
  },
  {
   "cell_type": "markdown",
   "source": [
    "###### Imputation function"
   ],
   "metadata": {
    "collapsed": false
   }
  },
  {
   "cell_type": "code",
   "execution_count": 38,
   "outputs": [],
   "source": [
    "def post_split_imputation(daDf, stDf, data):\n",
    "    daDf = util.add_swoe(daDf, 'target', 'item_type_code_name', 24)\n",
    "    stDf = update_status(\n",
    "        stDf,\n",
    "        \"Reduce number of levels in item_type_code_name\",\n",
    "        'add_swoe',\n",
    "        0,\n",
    "        0,\n",
    "        data\n",
    "    )\n",
    "\n",
    "    daDf = util.impute_student_duration(daDf)\n",
    "    stDf = update_status(\n",
    "        stDf,\n",
    "        \"Impute max durations outliers in student attempt times\",\n",
    "        'impute_student_duration',\n",
    "        0,\n",
    "        daDf.filter( F.col('student_duration_mins_imputed') ).count(),\n",
    "        data\n",
    "    )\n",
    "\n",
    "    daDf = util.impute_timeliness_duration(daDf)\n",
    "    stDf = update_status(\n",
    "        stDf,\n",
    "        \"Impute timeliness durations min and max outliers\",\n",
    "        'impute_timeliness_duration',\n",
    "        0,\n",
    "        daDf.filter( F.col('timeliness_duration_mins_imputed') ).count(),\n",
    "        data\n",
    "    )\n",
    "\n",
    "    daDf = util.impute_item_attempt_duration(daDf)\n",
    "    stDf = update_status(\n",
    "        stDf,\n",
    "        \"Impute max durations outliers in item attempt times\",\n",
    "        'impute_item_attempt_duration',\n",
    "        0,\n",
    "        daDf.filter( F.col('item_attempt_duration_mins_imputed') ).count(),\n",
    "        data\n",
    "    )\n",
    "\n",
    "\n",
    "    return daDf, stDf"
   ],
   "metadata": {
    "collapsed": false,
    "pycharm": {
     "name": "#%%\n"
    }
   }
  },
  {
   "cell_type": "markdown",
   "source": [
    "###### Impute Training Data"
   ],
   "metadata": {
    "collapsed": false
   }
  },
  {
   "cell_type": "code",
   "execution_count": 39,
   "outputs": [
    {
     "name": "stdout",
     "output_type": "stream",
     "text": [
      "Finished: Reduce number of levels in item_type_code_name\n",
      "Finished: Impute max durations outliers in student attempt times\n",
      "Finished: Impute timeliness durations min and max outliers\n",
      "Finished: Impute max durations outliers in item attempt times\n"
     ]
    }
   ],
   "source": [
    "covidTrnDf, stepsDf = post_split_imputation(covidTrnDf, stepsDf, 'train')"
   ],
   "metadata": {
    "collapsed": false,
    "pycharm": {
     "name": "#%%\n"
    }
   }
  },
  {
   "cell_type": "markdown",
   "source": [
    "###### Impute Validation Data"
   ],
   "metadata": {
    "collapsed": false
   }
  },
  {
   "cell_type": "code",
   "execution_count": 40,
   "outputs": [
    {
     "name": "stdout",
     "output_type": "stream",
     "text": [
      "Finished: Reduce number of levels in item_type_code_name\n",
      "Finished: Impute max durations outliers in student attempt times\n",
      "Finished: Impute timeliness durations min and max outliers\n",
      "Finished: Impute max durations outliers in item attempt times\n"
     ]
    }
   ],
   "source": [
    "covidValDf, stepsDf = post_split_imputation(covidValDf, stepsDf, 'valid')"
   ],
   "metadata": {
    "collapsed": false,
    "pycharm": {
     "name": "#%%\n"
    }
   }
  },
  {
   "cell_type": "markdown",
   "source": [
    "###### Imputation Counts"
   ],
   "metadata": {
    "collapsed": false
   }
  },
  {
   "cell_type": "code",
   "execution_count": 41,
   "outputs": [
    {
     "name": "stdout",
     "output_type": "stream",
     "text": [
      "Training:\n",
      "  total: 31847\n",
      "  observations: 10187 32 %\n",
      "  common: 192 1 %\n",
      "Validation:\n",
      "  total: 10448\n",
      "  observations: 3305 32 %\n",
      "  common: 11 0 %\n"
     ]
    }
   ],
   "source": [
    "print (\"Training:\")\n",
    "total = covidTrnDf.count()\n",
    "print (\"  total:\", total)\n",
    "cnt = covidTrnDf.filter( F.col('student_duration_mins_imputed')\n",
    "                | F.col('timeliness_duration_mins_imputed')\n",
    "                | F.col('item_attempt_duration_mins_imputed')\n",
    "                ).count()\n",
    "print (\"  observations:\", cnt, round(cnt/total*100), '%')\n",
    "\n",
    "cnt = covidTrnDf.filter( F.col('student_duration_mins_imputed')\n",
    "                & F.col('timeliness_duration_mins_imputed')\n",
    "                & F.col('item_attempt_duration_mins_imputed')\n",
    "                ).count()\n",
    "print (\"  common:\", cnt, round(cnt/total*100), '%')\n",
    "\n",
    "print (\"Validation:\")\n",
    "total = covidValDf.count()\n",
    "print (\"  total:\", total)\n",
    "cnt = covidValDf.filter( F.col('student_duration_mins_imputed')\n",
    "                | F.col('timeliness_duration_mins_imputed')\n",
    "                | F.col('item_attempt_duration_mins_imputed')\n",
    "                ).count()\n",
    "print (\"  observations:\", cnt, round(cnt/total*100), '%')\n",
    "\n",
    "cnt = covidValDf.filter( F.col('student_duration_mins_imputed')\n",
    "                & F.col('timeliness_duration_mins_imputed')\n",
    "                & F.col('item_attempt_duration_mins_imputed')\n",
    "                ).count()\n",
    "print (\"  common:\", cnt, round(cnt/total*100), '%')"
   ],
   "metadata": {
    "collapsed": false,
    "pycharm": {
     "name": "#%%\n"
    }
   }
  },
  {
   "cell_type": "markdown",
   "source": [
    "###### Cleaning Steps"
   ],
   "metadata": {
    "collapsed": false
   }
  },
  {
   "cell_type": "code",
   "execution_count": 42,
   "outputs": [
    {
     "data": {
      "text/plain": "                                          description removed imputed   data  \\\n0         Remove [unassigned] in response_correctness     916       0    all   \n1             Remove student start or stop null dates       0       0    all   \n2         Remove attempt stop dates before start date       8       0    all   \n3      Reduce number of levels in item_type_code_name       0       0  train   \n4   Impute max durations outliers in student attem...       0    7335  train   \n5    Impute timeliness durations min and max outliers       0    2163  train   \n6   Impute max durations outliers in item attempt ...       0    4582  train   \n7      Reduce number of levels in item_type_code_name       0       0  valid   \n8   Impute max durations outliers in student attem...       0    2472  valid   \n9    Impute timeliness durations min and max outliers       0     428  valid   \n10  Impute max durations outliers in item attempt ...       0    1485  valid   \n\n                                        function  \n0         remove_unassigned_response_correctness  \n1                      remove_null_student_dates  \n2   remove_attempt_stop_dates_before_start_dates  \n3                                       add_swoe  \n4                        impute_student_duration  \n5                     impute_timeliness_duration  \n6                   impute_item_attempt_duration  \n7                                       add_swoe  \n8                        impute_student_duration  \n9                     impute_timeliness_duration  \n10                  impute_item_attempt_duration  ",
      "text/html": "<div>\n<style scoped>\n    .dataframe tbody tr th:only-of-type {\n        vertical-align: middle;\n    }\n\n    .dataframe tbody tr th {\n        vertical-align: top;\n    }\n\n    .dataframe thead th {\n        text-align: right;\n    }\n</style>\n<table border=\"1\" class=\"dataframe\">\n  <thead>\n    <tr style=\"text-align: right;\">\n      <th></th>\n      <th>description</th>\n      <th>removed</th>\n      <th>imputed</th>\n      <th>data</th>\n      <th>function</th>\n    </tr>\n  </thead>\n  <tbody>\n    <tr>\n      <th>0</th>\n      <td>Remove [unassigned] in response_correctness</td>\n      <td>916</td>\n      <td>0</td>\n      <td>all</td>\n      <td>remove_unassigned_response_correctness</td>\n    </tr>\n    <tr>\n      <th>1</th>\n      <td>Remove student start or stop null dates</td>\n      <td>0</td>\n      <td>0</td>\n      <td>all</td>\n      <td>remove_null_student_dates</td>\n    </tr>\n    <tr>\n      <th>2</th>\n      <td>Remove attempt stop dates before start date</td>\n      <td>8</td>\n      <td>0</td>\n      <td>all</td>\n      <td>remove_attempt_stop_dates_before_start_dates</td>\n    </tr>\n    <tr>\n      <th>3</th>\n      <td>Reduce number of levels in item_type_code_name</td>\n      <td>0</td>\n      <td>0</td>\n      <td>train</td>\n      <td>add_swoe</td>\n    </tr>\n    <tr>\n      <th>4</th>\n      <td>Impute max durations outliers in student attem...</td>\n      <td>0</td>\n      <td>7335</td>\n      <td>train</td>\n      <td>impute_student_duration</td>\n    </tr>\n    <tr>\n      <th>5</th>\n      <td>Impute timeliness durations min and max outliers</td>\n      <td>0</td>\n      <td>2163</td>\n      <td>train</td>\n      <td>impute_timeliness_duration</td>\n    </tr>\n    <tr>\n      <th>6</th>\n      <td>Impute max durations outliers in item attempt ...</td>\n      <td>0</td>\n      <td>4582</td>\n      <td>train</td>\n      <td>impute_item_attempt_duration</td>\n    </tr>\n    <tr>\n      <th>7</th>\n      <td>Reduce number of levels in item_type_code_name</td>\n      <td>0</td>\n      <td>0</td>\n      <td>valid</td>\n      <td>add_swoe</td>\n    </tr>\n    <tr>\n      <th>8</th>\n      <td>Impute max durations outliers in student attem...</td>\n      <td>0</td>\n      <td>2472</td>\n      <td>valid</td>\n      <td>impute_student_duration</td>\n    </tr>\n    <tr>\n      <th>9</th>\n      <td>Impute timeliness durations min and max outliers</td>\n      <td>0</td>\n      <td>428</td>\n      <td>valid</td>\n      <td>impute_timeliness_duration</td>\n    </tr>\n    <tr>\n      <th>10</th>\n      <td>Impute max durations outliers in item attempt ...</td>\n      <td>0</td>\n      <td>1485</td>\n      <td>valid</td>\n      <td>impute_item_attempt_duration</td>\n    </tr>\n  </tbody>\n</table>\n</div>"
     },
     "execution_count": 42,
     "metadata": {},
     "output_type": "execute_result"
    }
   ],
   "source": [
    "stepsDf"
   ],
   "metadata": {
    "collapsed": false,
    "pycharm": {
     "name": "#%%\n"
    }
   }
  },
  {
   "cell_type": "code",
   "execution_count": 43,
   "outputs": [],
   "source": [
    "util.save_df(covidValDf, 'covidValDf')\n",
    "util.save_df(covidTrnDf, 'covidTrnDf')\n",
    "util.save_df(spark.createDataFrame(stepsDf), 'stepsDf')"
   ],
   "metadata": {
    "collapsed": false,
    "pycharm": {
     "name": "#%%\n"
    }
   }
  },
  {
   "cell_type": "code",
   "execution_count": 43,
   "outputs": [],
   "source": [],
   "metadata": {
    "collapsed": false,
    "pycharm": {
     "name": "#%%\n"
    }
   }
  }
 ],
 "metadata": {
  "kernelspec": {
   "display_name": "Python 3",
   "language": "python",
   "name": "python3"
  },
  "language_info": {
   "codemirror_mode": {
    "name": "ipython",
    "version": 2
   },
   "file_extension": ".py",
   "mimetype": "text/x-python",
   "name": "python",
   "nbconvert_exporter": "python",
   "pygments_lexer": "ipython2",
   "version": "2.7.6"
  }
 },
 "nbformat": 4,
 "nbformat_minor": 0
}