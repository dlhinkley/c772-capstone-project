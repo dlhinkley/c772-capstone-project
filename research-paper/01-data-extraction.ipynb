{
 "cells": [
  {
   "cell_type": "markdown",
   "source": [
    "## Data Extraction"
   ],
   "metadata": {
    "collapsed": false
   }
  },
  {
   "cell_type": "markdown",
   "source": [
    "###### Python Initialization"
   ],
   "metadata": {
    "collapsed": false,
    "pycharm": {
     "name": "#%% md\n"
    }
   }
  },
  {
   "cell_type": "code",
   "execution_count": 43,
   "outputs": [],
   "source": [
    "import os\n",
    "import math\n",
    "\n",
    "import pandas as pd\n",
    "import numpy as np\n",
    "\n",
    "from pyspark import SparkFiles\n",
    "from pyspark import SparkContext\n",
    "from pyspark.sql import SparkSession\n",
    "from pyspark.sql import functions as F\n",
    "from pyspark.sql import types as T\n",
    "\n",
    "sc = SparkContext.getOrCreate()\n",
    "spark = SparkSession(sc)"
   ],
   "metadata": {
    "collapsed": false,
    "pycharm": {
     "name": "#%%\n"
    }
   }
  },
  {
   "cell_type": "markdown",
   "source": [
    "###### Import CSV from URL into Spark Dataframe"
   ],
   "metadata": {
    "collapsed": false
   }
  },
  {
   "cell_type": "code",
   "execution_count": 44,
   "outputs": [],
   "source": [
    "# Download study data\n",
    "url      = 'https://github.com/dlhinkley/c772-capstone-project/raw/master/data/assessment_items.csv'\n",
    "sc.addFile(url)\n",
    "\n",
    "# Read CSV into Spark Dataframe\n",
    "filename = os.path.basename(url)\n",
    "file     = \"file://\" + SparkFiles.get(filename)\n",
    "rawDf    = spark.read.csv(file, header='true', inferSchema='true')"
   ],
   "metadata": {
    "collapsed": false,
    "pycharm": {
     "name": "#%%\n"
    }
   }
  },
  {
   "cell_type": "markdown",
   "source": [
    "###### Imported Schema"
   ],
   "metadata": {
    "collapsed": false
   }
  },
  {
   "cell_type": "code",
   "execution_count": 45,
   "outputs": [
    {
     "name": "stdout",
     "output_type": "stream",
     "text": [
      "root\n",
      " |-- ced_assignment_type_code: string (nullable = true)\n",
      " |-- is_affecting_grade: boolean (nullable = true)\n",
      " |-- number_of_learners: integer (nullable = true)\n",
      " |-- number_of_distinct_instance_items: integer (nullable = true)\n",
      " |-- assignment_max_attempts: integer (nullable = true)\n",
      " |-- assignment_late_submission: boolean (nullable = true)\n",
      " |-- assignment_final_submission_date: string (nullable = true)\n",
      " |-- assignment_start_date: string (nullable = true)\n",
      " |-- assignment_due_date: string (nullable = true)\n",
      " |-- min_student_start_datetime: string (nullable = true)\n",
      " |-- max_student_stop_datetime: string (nullable = true)\n",
      " |-- assignment_attempt_number: integer (nullable = true)\n",
      " |-- was_fully_scored_datetime: string (nullable = true)\n",
      " |-- was_submitted_datetime_actual: string (nullable = true)\n",
      " |-- was_in_progress_datetime: string (nullable = true)\n",
      " |-- is_force_scored: boolean (nullable = true)\n",
      " |-- is_manual_scoring_required: boolean (nullable = true)\n",
      " |-- student_start_datetime: string (nullable = true)\n",
      " |-- student_stop_datetime: string (nullable = true)\n",
      " |-- item_is_offline_scored: boolean (nullable = true)\n",
      " |-- learner_attempt_status: string (nullable = true)\n",
      " |-- points_possible_unweighted: double (nullable = true)\n",
      " |-- final_score_unweighted: integer (nullable = true)\n",
      " |-- scored_datetime: string (nullable = true)\n",
      " |-- item_type_code_name: string (nullable = true)\n",
      " |-- scoring_type_code: string (nullable = true)\n",
      " |-- raw_score: integer (nullable = true)\n",
      " |-- response_correctness: string (nullable = true)\n",
      " |-- item_attempt_start_datetime_utc: string (nullable = true)\n",
      " |-- item_attempt_end_datetime_utc: string (nullable = true)\n",
      " |-- assigned_item_status: string (nullable = true)\n",
      " |-- is_deleted: boolean (nullable = true)\n",
      " |-- org_id: integer (nullable = true)\n",
      " |-- section_id: integer (nullable = true)\n",
      " |-- assessment_id: integer (nullable = true)\n",
      " |-- assessment_instance_id: integer (nullable = true)\n",
      " |-- learner_assignment_attempt_id: integer (nullable = true)\n",
      " |-- assessment_instance_attempt_id: integer (nullable = true)\n",
      " |-- learner_id: integer (nullable = true)\n",
      " |-- learner_assigned_item_attempt_id: integer (nullable = true)\n",
      " |-- assessment_item_response_id: integer (nullable = true)\n",
      "\n"
     ]
    }
   ],
   "source": [
    "rawDf.printSchema()"
   ],
   "metadata": {
    "collapsed": false,
    "pycharm": {
     "name": "#%%\n"
    }
   }
  },
  {
   "cell_type": "markdown",
   "source": [
    "- Datetime variables are string type instead of timestamp"
   ],
   "metadata": {
    "collapsed": false
   }
  },
  {
   "cell_type": "markdown",
   "source": [
    "###### Convert datetime variable types to timestamp"
   ],
   "metadata": {
    "collapsed": false,
    "pycharm": {
     "name": "#%% md\n"
    }
   }
  },
  {
   "cell_type": "code",
   "execution_count": 46,
   "outputs": [],
   "source": [
    "intervalVars = [\n",
    "    \"assignment_due_date\",\n",
    "    \"assignment_final_submission_date\",\n",
    "    \"assignment_start_date\",\n",
    "    \"item_attempt_end_datetime_utc\",\n",
    "    \"item_attempt_start_datetime_utc\",\n",
    "    \"max_student_stop_datetime\",\n",
    "    \"min_student_start_datetime\",\n",
    "    \"scored_datetime\",\n",
    "    \"student_start_datetime\",\n",
    "    \"student_stop_datetime\",\n",
    "    \"was_fully_scored_datetime\",\n",
    "    \"was_in_progress_datetime\",\n",
    "    \"was_submitted_datetime_actual\"\n",
    "]\n",
    "# Change Date Fields from String to Timestamp Type\n",
    "for f in intervalVars:\n",
    "    rawDf = rawDf.withColumn(f, F.col(f).cast(T.TimestampType()))\n"
   ],
   "metadata": {
    "collapsed": false,
    "pycharm": {
     "name": "#%%\n"
    }
   }
  },
  {
   "cell_type": "markdown",
   "source": [
    "###### Descriptive Statistics of All Non-identifier and Non-interval Variables"
   ],
   "metadata": {
    "collapsed": false
   }
  },
  {
   "cell_type": "code",
   "execution_count": 47,
   "outputs": [
    {
     "name": "stdout",
     "output_type": "stream",
     "text": [
      "+-------+------------------------+------------------+---------------------------------+-----------------------+-------------------------+----------------------+--------------------------+----------------------+-------------------+-----------------+------------------+--------------------+--------------------+-----------------+-----------------+------------------+----------------------+-----------------------------+------------------------------+------------------+--------------------------------+---------------------------+\n",
      "|summary|ced_assignment_type_code|number_of_learners|number_of_distinct_instance_items|assignment_max_attempts|assignment_attempt_number|learner_attempt_status|points_possible_unweighted|final_score_unweighted|item_type_code_name|scoring_type_code|         raw_score|response_correctness|assigned_item_status|           org_id|       section_id|     assessment_id|assessment_instance_id|learner_assignment_attempt_id|assessment_instance_attempt_id|        learner_id|learner_assigned_item_attempt_id|assessment_item_response_id|\n",
      "+-------+------------------------+------------------+---------------------------------+-----------------------+-------------------------+----------------------+--------------------------+----------------------+-------------------+-----------------+------------------+--------------------+--------------------+-----------------+-----------------+------------------+----------------------+-----------------------------+------------------------------+------------------+--------------------------------+---------------------------+\n",
      "|  count|                  149807|            149807|                           149807|                 149807|                   149807|                149807|                    149807|                149807|              92062|           149807|             88760|               88760|              149807|           149807|           149807|            149807|                149807|                       149807|                         92062|            149807|                          149807|                      79124|\n",
      "|   mean|                    null|29.632587262277465|               15.645523907427556|     0.9895465498941972|       0.9895465498941972|                  null|        19.593267737822664|     7.314998631572624|               null|             null|0.9150856241550248|                null|                null|98318.30887074703|192469.3439425394|343425.69515443203|     500148.0080236571|            672771.5408892776|             824798.0321305208| 981300.7805376251|              1123554.8495797927|         1288673.6160836157|\n",
      "| stddev|                    null| 8.633190773672005|               12.595981118775692|    0.10170665925672466|      0.10170665925672466|                  null|        16.084757976884873|     12.84530806839938|               null|             null|1.8144129427349576|                null|                null| 48498.7267081011|47716.26766885639| 41184.66280420603|    48472.351917045875|            43870.72408577498|             42801.74938792255|42641.621370309724|               43244.26273747324|          34036.93561274596|\n",
      "|    min|              assessment|                 1|                                1|                      0|                        0|              assigned|                       1.0|                     0|FillinBlankResponse|     [unassigned]|                 0|        [unassigned]|            assigned|            19164|           149815|            299636|                449422|                       599231|                        749211|            899018|                         1048650|                    1198836|\n",
      "|    max|                  rubric|                47|                               99|                      1|                        1|           in progress|                     156.0|                    60|          trueFalse|           manual|                46|   partially_correct|              scored|           130845|           298667|            447393|                599228|                       749031|                        898839|           1048467|                         1198456|                    1348263|\n",
      "+-------+------------------------+------------------+---------------------------------+-----------------------+-------------------------+----------------------+--------------------------+----------------------+-------------------+-----------------+------------------+--------------------+--------------------+-----------------+-----------------+------------------+----------------------+-----------------------------+------------------------------+------------------+--------------------------------+---------------------------+\n",
      "\n"
     ]
    }
   ],
   "source": [
    "# Break the statistics into multiple rows of four instead of one wide row\n",
    "#\n",
    "desc = rawDf.describe()\n",
    "desc.show()# Save statistics in dataframe"
   ],
   "metadata": {
    "collapsed": false,
    "pycharm": {
     "name": "#%%\n"
    }
   }
  },
  {
   "cell_type": "code",
   "execution_count": 48,
   "outputs": [
    {
     "name": "stdout",
     "output_type": "stream",
     "text": [
      "+-------+--------------------+-------------------------+-----------------------+------------------------+\n",
      "|summary|assigned_item_status|assignment_attempt_number|assignment_max_attempts|ced_assignment_type_code|\n",
      "+-------+--------------------+-------------------------+-----------------------+------------------------+\n",
      "|count  |149807              |149807                   |149807                 |149807                  |\n",
      "|mean   |null                |0.9895465498941972       |0.9895465498941972     |null                    |\n",
      "|stddev |null                |0.10170665925672466      |0.10170665925672466    |null                    |\n",
      "|min    |assigned            |0                        |0                      |assessment              |\n",
      "|max    |scored              |1                        |1                      |rubric                  |\n",
      "+-------+--------------------+-------------------------+-----------------------+------------------------+\n",
      "\n",
      "+-------+----------------------+-------------------+----------------------+\n",
      "|summary|final_score_unweighted|item_type_code_name|learner_attempt_status|\n",
      "+-------+----------------------+-------------------+----------------------+\n",
      "|count  |149807                |92062              |149807                |\n",
      "|mean   |7.314998631572624     |null               |null                  |\n",
      "|stddev |12.84530806839938     |null               |null                  |\n",
      "|min    |0                     |FillinBlankResponse|assigned              |\n",
      "|max    |60                    |trueFalse          |in progress           |\n",
      "+-------+----------------------+-------------------+----------------------+\n",
      "\n",
      "+-------+---------------------------------+------------------+--------------------------+\n",
      "|summary|number_of_distinct_instance_items|number_of_learners|points_possible_unweighted|\n",
      "+-------+---------------------------------+------------------+--------------------------+\n",
      "|count  |149807                           |149807            |149807                    |\n",
      "|mean   |15.645523907427556               |29.632587262277465|19.593267737822664        |\n",
      "|stddev |12.595981118775692               |8.633190773672005 |16.084757976884873        |\n",
      "|min    |1                                |1                 |1.0                       |\n",
      "|max    |99                               |47                |156.0                     |\n",
      "+-------+---------------------------------+------------------+--------------------------+\n",
      "\n",
      "+-------+------------------+--------------------+-----------------+\n",
      "|summary|raw_score         |response_correctness|scoring_type_code|\n",
      "+-------+------------------+--------------------+-----------------+\n",
      "|count  |88760             |88760               |149807           |\n",
      "|mean   |0.9150856241550248|null                |null             |\n",
      "|stddev |1.8144129427349576|null                |null             |\n",
      "|min    |0                 |[unassigned]        |[unassigned]     |\n",
      "|max    |46                |partially_correct   |manual           |\n",
      "+-------+------------------+--------------------+-----------------+\n",
      "\n"
     ]
    }
   ],
   "source": [
    "cols = desc.columns                                 # Get list of vars\n",
    "cols.remove('summary')                              # Remove summary\n",
    "cols = [item for item in cols if '_id' not in item] # Remove id vars\n",
    "cols.sort()                                         # Sort\n",
    "num = math.ceil(len(cols) / 4)                      # Number of groups of 4\n",
    "for c in np.array_split(cols, num):                 # Loop over groups\n",
    "    desc.select(\"summary\", *c).show(10,False)"
   ],
   "metadata": {
    "collapsed": false,
    "pycharm": {
     "name": "#%%\n"
    }
   }
  },
  {
   "cell_type": "markdown",
   "source": [
    "- Data looks fine"
   ],
   "metadata": {
    "collapsed": false,
    "pycharm": {
     "name": "#%% md\n"
    }
   }
  },
  {
   "cell_type": "markdown",
   "source": [
    "###### Display Statistics for Interval Variables"
   ],
   "metadata": {
    "collapsed": false,
    "pycharm": {
     "name": "#%% md\n"
    }
   }
  },
  {
   "cell_type": "code",
   "execution_count": 49,
   "outputs": [
    {
     "data": {
      "text/plain": "                                          min         max\nassigned_item_status               2019-08-23  2999-01-01\nassignment_attempt_number          2019-08-23  2999-01-01\nassignment_max_attempts            1900-01-01  2020-05-22\nced_assignment_type_code           2019-08-21  2999-01-01\nfinal_score_unweighted             1900-01-01  2020-05-26\nitem_type_code_name                2019-08-22  2999-01-01\nlearner_attempt_status             1900-01-01  2020-05-22\nnumber_of_distinct_instance_items  2019-08-21  2998-12-31\nnumber_of_learners                 1900-01-01  2020-05-26\npoints_possible_unweighted         2019-08-21  2999-01-01\nraw_score                          2019-08-22  2999-01-01\nresponse_correctness               2019-08-21  2999-01-01\nscoring_type_code                  2019-08-21  2999-01-01",
      "text/html": "<div>\n<style scoped>\n    .dataframe tbody tr th:only-of-type {\n        vertical-align: middle;\n    }\n\n    .dataframe tbody tr th {\n        vertical-align: top;\n    }\n\n    .dataframe thead th {\n        text-align: right;\n    }\n</style>\n<table border=\"1\" class=\"dataframe\">\n  <thead>\n    <tr style=\"text-align: right;\">\n      <th></th>\n      <th>min</th>\n      <th>max</th>\n    </tr>\n  </thead>\n  <tbody>\n    <tr>\n      <th>assigned_item_status</th>\n      <td>2019-08-23</td>\n      <td>2999-01-01</td>\n    </tr>\n    <tr>\n      <th>assignment_attempt_number</th>\n      <td>2019-08-23</td>\n      <td>2999-01-01</td>\n    </tr>\n    <tr>\n      <th>assignment_max_attempts</th>\n      <td>1900-01-01</td>\n      <td>2020-05-22</td>\n    </tr>\n    <tr>\n      <th>ced_assignment_type_code</th>\n      <td>2019-08-21</td>\n      <td>2999-01-01</td>\n    </tr>\n    <tr>\n      <th>final_score_unweighted</th>\n      <td>1900-01-01</td>\n      <td>2020-05-26</td>\n    </tr>\n    <tr>\n      <th>item_type_code_name</th>\n      <td>2019-08-22</td>\n      <td>2999-01-01</td>\n    </tr>\n    <tr>\n      <th>learner_attempt_status</th>\n      <td>1900-01-01</td>\n      <td>2020-05-22</td>\n    </tr>\n    <tr>\n      <th>number_of_distinct_instance_items</th>\n      <td>2019-08-21</td>\n      <td>2998-12-31</td>\n    </tr>\n    <tr>\n      <th>number_of_learners</th>\n      <td>1900-01-01</td>\n      <td>2020-05-26</td>\n    </tr>\n    <tr>\n      <th>points_possible_unweighted</th>\n      <td>2019-08-21</td>\n      <td>2999-01-01</td>\n    </tr>\n    <tr>\n      <th>raw_score</th>\n      <td>2019-08-22</td>\n      <td>2999-01-01</td>\n    </tr>\n    <tr>\n      <th>response_correctness</th>\n      <td>2019-08-21</td>\n      <td>2999-01-01</td>\n    </tr>\n    <tr>\n      <th>scoring_type_code</th>\n      <td>2019-08-21</td>\n      <td>2999-01-01</td>\n    </tr>\n  </tbody>\n</table>\n</div>"
     },
     "execution_count": 49,
     "metadata": {},
     "output_type": "execute_result"
    }
   ],
   "source": [
    "# Display Pandas dataframe of datetime statistics\n",
    "\n",
    "# Save min values in list\n",
    "min = rawDf.agg(\n",
    "    *(F.min(F.col(c).cast(T.DateType())).alias(c) for c in intervalVars)\n",
    ").collect()[0]\n",
    "\n",
    "# Save max values in list\n",
    "max = rawDf.agg(\n",
    "    *(F.max(F.col(c).cast(T.DateType())).alias(c) for c in intervalVars)\n",
    ").collect()[0]\n",
    "\n",
    "# Display in pandas dataframe\n",
    "pd.DataFrame({\n",
    "    \"min\": min,\n",
    "    \"max\": max,\n",
    "}, index=cols)"
   ],
   "metadata": {
    "collapsed": false,
    "pycharm": {
     "name": "#%%\n"
    }
   }
  },
  {
   "cell_type": "markdown",
   "source": [
    "- Datetime variables have years of 1900, 2999 and 2998\n",
    "- These are defaults used when no date exists\n",
    "- Change to NULL"
   ],
   "metadata": {
    "collapsed": false,
    "pycharm": {
     "name": "#%% md\n"
    }
   }
  },
  {
   "cell_type": "markdown",
   "source": [
    "###### Change Default Dates to Null"
   ],
   "metadata": {
    "collapsed": false,
    "pycharm": {
     "name": "#%% md\n"
    }
   }
  },
  {
   "cell_type": "code",
   "execution_count": 50,
   "outputs": [],
   "source": [
    "# Set default date values to null (years 2999 and 1900)\n",
    "# Set empty dates to null\n",
    "for f in intervalVars:\n",
    "    # Change to empty if date is more than 30 months in past or future\n",
    "    rawDf = rawDf.withColumn(f,\n",
    "         F.when(\n",
    "             F.abs( F.months_between( F.col(f) , F.current_timestamp())) > 30,\n",
    "             None\n",
    "         ).otherwise(F.col(f))\n",
    "      )"
   ],
   "metadata": {
    "collapsed": false,
    "pycharm": {
     "name": "#%%\n"
    }
   }
  },
  {
   "cell_type": "markdown",
   "source": [
    "###### Number of observations"
   ],
   "metadata": {
    "collapsed": false,
    "pycharm": {
     "name": "#%% md\n"
    }
   }
  },
  {
   "cell_type": "code",
   "execution_count": 51,
   "outputs": [
    {
     "name": "stdout",
     "output_type": "stream",
     "text": [
      "All Observations: 149807\n"
     ]
    }
   ],
   "source": [
    "rawCnt = rawDf.count()\n",
    "print (\"All Observations:\", rawCnt)"
   ],
   "metadata": {
    "collapsed": false,
    "pycharm": {
     "name": "#%%\n"
    }
   }
  },
  {
   "cell_type": "markdown",
   "source": [
    "###### Filter and Fix Data\n",
    "- Study is focused on fully scored completed questions\n",
    "- Filter out other observations"
   ],
   "metadata": {
    "collapsed": false
   }
  },
  {
   "cell_type": "code",
   "execution_count": 52,
   "outputs": [],
   "source": [
    "# Only keep fully scored (learner_attempt_status = 'fully scored')\n",
    "# and answered questions (assessment_item_response_id NOT NULL)\n",
    "rawDf = rawDf.filter(\n",
    "(F.col('assessment_item_response_id').isNull() == False)\n",
    "& (F.col('learner_attempt_status') == 'fully scored')\n",
    ")"
   ],
   "metadata": {
    "collapsed": false,
    "pycharm": {
     "name": "#%%\n"
    }
   }
  },
  {
   "cell_type": "markdown",
   "source": [
    "###### Number of observations"
   ],
   "metadata": {
    "collapsed": false
   }
  },
  {
   "cell_type": "code",
   "execution_count": 53,
   "outputs": [
    {
     "name": "stdout",
     "output_type": "stream",
     "text": [
      "Remaining Observations: 64838\n",
      "Remaining Percent: 43 %\n"
     ]
    }
   ],
   "source": [
    "filterCnt = rawDf.count()\n",
    "print (\"Remaining Observations:\", filterCnt)\n",
    "print (\"Remaining Percent:\", round(filterCnt / rawCnt * 100), \"%\")"
   ],
   "metadata": {
    "collapsed": false,
    "pycharm": {
     "name": "#%%\n"
    }
   }
  },
  {
   "cell_type": "markdown",
   "source": [
    "###### Add duration variables"
   ],
   "metadata": {
    "collapsed": false
   }
  },
  {
   "cell_type": "code",
   "execution_count": 54,
   "outputs": [],
   "source": [
    "# Add the duration between start and stop of the attempt and each item\n",
    "rawDf = rawDf.withColumn(\n",
    "    'item_attempt_duration_mins',\n",
    "    (F.col('item_attempt_end_datetime_utc').cast('long')\n",
    "     - F.col('item_attempt_start_datetime_utc').cast('long')) / 60\n",
    "  ).withColumn(\n",
    "    'student_duration_mins',\n",
    "    (F.col('student_stop_datetime').cast('long')\n",
    "     - F.col('student_start_datetime').cast('long')) / 60\n",
    "  ).withColumn(\n",
    "    'timeliness_duration_mins',\n",
    "    (F.col('assignment_due_date').cast('long')\n",
    "     - F.col('student_start_datetime').cast('long')) / 60\n",
    "  )"
   ],
   "metadata": {
    "collapsed": false,
    "pycharm": {
     "name": "#%%\n"
    }
   }
  },
  {
   "cell_type": "markdown",
   "source": [
    "###### Create dataset of study variables"
   ],
   "metadata": {
    "collapsed": false
   }
  },
  {
   "cell_type": "code",
   "execution_count": 55,
   "outputs": [],
   "source": [
    "studyVars = [\n",
    "    'item_attempt_duration_mins',\n",
    "    'student_duration_mins',\n",
    "    'timeliness_duration_mins',\n",
    "    'item_type_code_name',\n",
    "    'number_of_distinct_instance_items',\n",
    "    'raw_score',\n",
    "    # Above vars derived from these\n",
    "    # Include for investigation\n",
    "    'assignment_due_date',\n",
    "    'student_start_datetime',\n",
    "    'student_stop_datetime',\n",
    "    'item_attempt_start_datetime_utc',\n",
    "    'item_attempt_end_datetime_utc',\n",
    "]\n",
    "studyDf = rawDf.select(*studyVars)\n",
    "\n",
    "###### Number of complete observations"
   ],
   "metadata": {
    "collapsed": false,
    "pycharm": {
     "name": "#%%\n"
    }
   }
  },
  {
   "cell_type": "code",
   "execution_count": 56,
   "outputs": [
    {
     "name": "stdout",
     "output_type": "stream",
     "text": [
      "Number Complete: 62827\n",
      "Percent Complete: 97 %\n"
     ]
    }
   ],
   "source": [
    "missingCnt = studyDf.subtract(studyDf.dropna()).count()\n",
    "\n",
    "print (\"Number Complete:\", filterCnt - missingCnt)\n",
    "print (\"Percent Complete:\", round( (filterCnt - missingCnt) / filterCnt * 100), \"%\")"
   ],
   "metadata": {
    "collapsed": false,
    "pycharm": {
     "name": "#%%\n"
    }
   }
  },
  {
   "cell_type": "code",
   "execution_count": 57,
   "outputs": [],
   "source": [
    "# Save Dataframe to file for reuse\n",
    "studyDf.repartition(1).write.mode('overwrite').parquet(\".data/studyDf.parquet\")"
   ],
   "metadata": {
    "collapsed": false,
    "pycharm": {
     "name": "#%%\n"
    }
   }
  },
  {
   "cell_type": "code",
   "execution_count": 57,
   "outputs": [],
   "source": [],
   "metadata": {
    "collapsed": false,
    "pycharm": {
     "name": "#%%\n"
    }
   }
  }
 ],
 "metadata": {
  "kernelspec": {
   "display_name": "Python 3",
   "language": "python",
   "name": "python3"
  },
  "language_info": {
   "codemirror_mode": {
    "name": "ipython",
    "version": 2
   },
   "file_extension": ".py",
   "mimetype": "text/x-python",
   "name": "python",
   "nbconvert_exporter": "python",
   "pygments_lexer": "ipython2",
   "version": "2.7.6"
  }
 },
 "nbformat": 4,
 "nbformat_minor": 0
}