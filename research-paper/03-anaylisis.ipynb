{
 "cells": [
  {
   "cell_type": "markdown",
   "metadata": {},
   "source": [
    "## Analysis"
   ]
  },
  {
   "cell_type": "code",
   "execution_count": 26,
   "metadata": {
    "pycharm": {
     "name": "#%%\n"
    }
   },
   "outputs": [],
   "source": [
    "import matplotlib.pyplot as plt\n",
    "\n",
    "import seaborn as sns\n",
    "import statsmodels.api as sm\n",
    "import sklearn.metrics as skm\n",
    "\n",
    "from pyspark import SparkContext\n",
    "from pyspark.sql import SparkSession\n",
    "\n",
    "sc = SparkContext.getOrCreate()\n",
    "spark = SparkSession(sc)"
   ]
  },
  {
   "cell_type": "markdown",
   "metadata": {},
   "source": [
    "###### Load data and initalize variables"
   ]
  },
  {
   "cell_type": "code",
   "execution_count": 27,
   "metadata": {
    "pycharm": {
     "name": "#%%\n"
    }
   },
   "outputs": [],
   "source": [
    "trainDf = spark.read.parquet(\".data/trainDf.parquet\")\n",
    "validDf = spark.read.parquet(\".data/validDf.parquet\")\n",
    "\n",
    "depVars = [\n",
    "  'student_duration_mins',\n",
    "  'timeliness_duration_mins',\n",
    "  'item_attempt_duration_mins',\n",
    "  'item_type_code_name_swoe',\n",
    "  'number_of_distinct_instance_items'\n",
    "]"
   ]
  },
  {
   "cell_type": "markdown",
   "metadata": {},
   "source": [
    "###### Create regression dataframe\n",
    " - completed items\n",
    " - study variables\n",
    "  - target\n",
    "  - student_duration_mins\n",
    "  - timeliness_duration_mins\n",
    "  - item_attempt_duration_mins\n",
    "  - item_type_code_name_swoe\n",
    "  - number_of_distinct_instance_items"
   ]
  },
  {
   "cell_type": "code",
   "execution_count": 28,
   "metadata": {
    "pycharm": {
     "name": "#%%\n"
    }
   },
   "outputs": [],
   "source": [
    "trnDf = trainDf.select('target',*depVars).toPandas()\n",
    "valDf = validDf.select('target',*depVars).toPandas()"
   ]
  },
  {
   "cell_type": "markdown",
   "metadata": {},
   "source": [
    "###### Target variable barplot"
   ]
  },
  {
   "cell_type": "code",
   "execution_count": 29,
   "metadata": {
    "pycharm": {
     "name": "#%%\n"
    }
   },
   "outputs": [
    {
     "data": {
      "image/png": "[encoded data removed]",
      "text/plain": [
       "<Figure size 432x288 with 1 Axes>"
      ]
     },
     "metadata": {
      "needs_background": "light"
     },
     "output_type": "display_data"
    }
   ],
   "source": [
    "ax = sns.countplot(x='target',data=trnDf, palette='hls')\n",
    "total = float(len(trnDf))\n",
    "for p in ax.patches:\n",
    "    height = p.get_height()\n",
    "    ax.text(p.get_x()+p.get_width()/2.,\n",
    "            height + 3,\n",
    "            '{:1.2f}'.format(height/total),\n",
    "            ha=\"center\") \n",
    "plt.show()"
   ]
  },
  {
   "cell_type": "markdown",
   "metadata": {
    "pycharm": {
     "name": "#%% md\n"
    }
   },
   "source": [
    "###### Train"
   ]
  },
  {
   "cell_type": "code",
   "execution_count": 30,
   "metadata": {
    "pycharm": {
     "name": "#%%\n"
    },
    "scrolled": false
   },
   "outputs": [
    {
     "name": "stdout",
     "output_type": "stream",
     "text": [
      "Optimization terminated successfully.\n",
      "         Current function value: 0.565222\n",
      "         Iterations 6\n",
      "                                 Results: Logit\n",
      "=================================================================================\n",
      "Model:                    Logit                 Pseudo R-squared:      0.056     \n",
      "Dependent Variable:       target                AIC:                   53370.0686\n",
      "Date:                     2020-11-15 09:10      BIC:                   53422.6417\n",
      "No. Observations:         47201                 Log-Likelihood:        -26679.   \n",
      "Df Model:                 5                     LL-Null:               -28270.   \n",
      "Df Residuals:             47195                 LLR p-value:           0.0000    \n",
      "Converged:                1.0000                Scale:                 1.0000    \n",
      "No. Iterations:           6.0000                                                 \n",
      "---------------------------------------------------------------------------------\n",
      "                                   Coef.  Std.Err.    z    P>|z|   [0.025  0.975]\n",
      "---------------------------------------------------------------------------------\n",
      "const                             -0.1920   0.0252 -7.6260 0.0000 -0.2414 -0.1427\n",
      "student_duration_mins              0.0007   0.0001  5.7200 0.0000  0.0005  0.0010\n",
      "timeliness_duration_mins           0.0000   0.0000  4.0711 0.0000  0.0000  0.0000\n",
      "item_attempt_duration_mins        -0.0019   0.0021 -0.9049 0.3655 -0.0060  0.0022\n",
      "item_type_code_name_swoe           0.9782   0.0200 48.9359 0.0000  0.9390  1.0173\n",
      "number_of_distinct_instance_items  0.0084   0.0009  9.2649 0.0000  0.0066  0.0102\n",
      "=================================================================================\n",
      "\n"
     ]
    }
   ],
   "source": [
    "y_train = trnDf['target']\n",
    "X_train = trnDf[depVars]\n",
    "X_train = sm.add_constant(X_train)\n",
    "\n",
    "logreg = sm.Logit(y_train, X_train).fit()\n",
    "\n",
    "print(logreg.summary2())"
   ]
  },
  {
   "cell_type": "code",
   "execution_count": 33,
   "metadata": {
    "pycharm": {
     "name": "#%%\n"
    },
    "scrolled": false
   },
   "outputs": [
    {
     "name": "stdout",
     "output_type": "stream",
     "text": [
      "Optimization terminated successfully.\n",
      "         Current function value: 0.565230\n",
      "         Iterations 6\n",
      "                                 Results: Logit\n",
      "=================================================================================\n",
      "Model:                    Logit                 Pseudo R-squared:      0.056     \n",
      "Dependent Variable:       target                AIC:                   53368.8854\n",
      "Date:                     2020-11-15 09:10      BIC:                   53412.6963\n",
      "No. Observations:         47201                 Log-Likelihood:        -26679.   \n",
      "Df Model:                 4                     LL-Null:               -28270.   \n",
      "Df Residuals:             47196                 LLR p-value:           0.0000    \n",
      "Converged:                1.0000                Scale:                 1.0000    \n",
      "No. Iterations:           6.0000                                                 \n",
      "---------------------------------------------------------------------------------\n",
      "                                   Coef.  Std.Err.    z    P>|z|   [0.025  0.975]\n",
      "---------------------------------------------------------------------------------\n",
      "const                             -0.2000   0.0236 -8.4704 0.0000 -0.2462 -0.1537\n",
      "student_duration_mins              0.0007   0.0001  5.6945 0.0000  0.0005  0.0010\n",
      "timeliness_duration_mins           0.0000   0.0000  4.0937 0.0000  0.0000  0.0000\n",
      "item_type_code_name_swoe           0.9790   0.0200 49.0307 0.0000  0.9399  1.0182\n",
      "number_of_distinct_instance_items  0.0084   0.0009  9.2890 0.0000  0.0066  0.0102\n",
      "=================================================================================\n",
      "\n"
     ]
    }
   ],
   "source": [
    "y_train = trnDf['target']\n",
    "depVars.remove('item_attempt_duration_mins')\n",
    "X_train = trnDf[depVars]\n",
    "X_train = sm.add_constant(X_train)\n",
    "\n",
    "logreg = sm.Logit(y_train, X_train).fit()\n",
    "\n",
    "print(logreg.summary2())"
   ]
  },
  {
   "cell_type": "code",
   "execution_count": 36,
   "metadata": {},
   "outputs": [
    {
     "data": {
      "text/plain": [
       "const                               -0.199966\n",
       "student_duration_mins                0.000709\n",
       "timeliness_duration_mins             0.000003\n",
       "item_type_code_name_swoe             0.979045\n",
       "number_of_distinct_instance_items    0.008417\n",
       "dtype: float64"
      ]
     },
     "execution_count": 36,
     "metadata": {},
     "output_type": "execute_result"
    }
   ],
   "source": [
    "logreg.params"
   ]
  },
  {
   "cell_type": "markdown",
   "metadata": {},
   "source": [
    "ln( P / 1 - P) = -0.199966 + student_duration_mins * 0.000709 + timeliness_duration_mins * 0.000003 + item_type_code_name_swoe * 0.979045 + number_of_distinct_instance_items * 0.008417"
   ]
  },
  {
   "cell_type": "markdown",
   "metadata": {},
   "source": [
    "###### Validate"
   ]
  },
  {
   "cell_type": "code",
   "execution_count": 34,
   "metadata": {
    "pycharm": {
     "name": "#%%\n"
    }
   },
   "outputs": [],
   "source": [
    "y_valid = trnDf['target']\n",
    "X_valid = trnDf[depVars]\n",
    "X_valid = sm.add_constant(X_valid)\n",
    "\n",
    "yhat = logreg.predict(X_valid)\n",
    "prediction = list(map(round, yhat))"
   ]
  },
  {
   "cell_type": "markdown",
   "metadata": {
    "pycharm": {
     "name": "#%% md\n"
    }
   },
   "source": [
    "###### Reciever Operating Characteristic (ROC) Curve"
   ]
  },
  {
   "cell_type": "code",
   "execution_count": 40,
   "metadata": {
    "pycharm": {
     "name": "#%%\n"
    }
   },
   "outputs": [
    {
     "data": {
      "image/png": "[encoded data removed]",
      "text/plain": [
       "<Figure size 432x288 with 1 Axes>"
      ]
     },
     "metadata": {
      "needs_background": "light"
     },
     "output_type": "display_data"
    }
   ],
   "source": [
    "# Calculate TP, FP and AUC\n",
    "fpr, tpr, thresholds = skm.roc_curve(y_valid, yhat)\n",
    "roc_auc = skm.auc(fpr, tpr)\n",
    "\n",
    "# Create ROC Plot\n",
    "plt.figure()\n",
    "plt.plot(fpr, tpr, label='AUC: %0.2f)' % roc_auc)\n",
    "plt.plot([0, 1], [0, 1],'r--')\n",
    "plt.xlim([0.0, 1.0])\n",
    "plt.ylim([0.0, 1.05])\n",
    "plt.legend(loc=\"lower right\")\n",
    "plt.xlabel('False Positive Rate')\n",
    "plt.ylabel('True Positive Rate')\n",
    "plt.title('ROC Curve')\n",
    "plt.grid(b=True, which='major', color='#666666', linestyle='-')\n",
    "plt.show()"
   ]
  },
  {
   "cell_type": "markdown",
   "metadata": {
    "pycharm": {
     "name": "#%%\n"
    }
   },
   "source": [
    "The area under curve (AUC) is .7. With a perfect AUC as 1, this means the model calculates true positives 70% of the time. Twenty percent better than at random."
   ]
  }
 ],
 "metadata": {
  "kernelspec": {
   "display_name": "Python 3",
   "language": "python",
   "name": "python3"
  },
  "language_info": {
   "codemirror_mode": {
    "name": "ipython",
    "version": 3
   },
   "file_extension": ".py",
   "mimetype": "text/x-python",
   "name": "python",
   "nbconvert_exporter": "python",
   "pygments_lexer": "ipython3",
   "version": "3.6.3"
  }
 },
 "nbformat": 4,
 "nbformat_minor": 1
}
