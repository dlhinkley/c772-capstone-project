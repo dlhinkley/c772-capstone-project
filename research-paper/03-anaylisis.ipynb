{
 "cells": [
  {
   "cell_type": "markdown",
   "metadata": {},
   "source": [
    "## Analysis"
   ]
  },
  {
   "cell_type": "code",
   "execution_count": 72,
   "metadata": {
    "pycharm": {
     "name": "#%%\n"
    }
   },
   "outputs": [],
   "source": [
    "import matplotlib.pyplot as plt\n",
    "\n",
    "import pandas as pd\n",
    "import seaborn as sns\n",
    "import statsmodels.api as sm\n",
    "import sklearn.metrics as skm\n",
    "\n",
    "from pyspark import SparkContext\n",
    "from pyspark.sql import SparkSession\n",
    "from pyspark.sql import functions as F\n",
    "\n",
    "sc = SparkContext.getOrCreate()\n",
    "spark = SparkSession(sc)"
   ]
  },
  {
   "cell_type": "markdown",
   "metadata": {},
   "source": [
    "###### Load data and initalize variables"
   ]
  },
  {
   "cell_type": "code",
   "execution_count": 73,
   "metadata": {
    "pycharm": {
     "name": "#%%\n"
    }
   },
   "outputs": [],
   "source": [
    "trainDf = spark.read.parquet(\".data/trainDf.parquet\")\n",
    "validDf = spark.read.parquet(\".data/validDf.parquet\")\n",
    "\n",
    "depVars = [\n",
    "  'student_duration_mins',\n",
    "  'timeliness_duration_mins',\n",
    "  'item_attempt_duration_mins',\n",
    "  'item_type_code_name_swoe',\n",
    "  'number_of_distinct_instance_items'\n",
    "]"
   ]
  },
  {
   "cell_type": "markdown",
   "metadata": {},
   "source": [
    "###### Create regression dataframe\n",
    " - completed items\n",
    " - study variables\n",
    "  - target\n",
    "  - student_duration_mins\n",
    "  - timeliness_duration_mins\n",
    "  - item_attempt_duration_mins\n",
    "  - item_type_code_name_swoe\n",
    "  - number_of_distinct_instance_items"
   ]
  },
  {
   "cell_type": "code",
   "execution_count": 74,
   "metadata": {
    "pycharm": {
     "name": "#%%\n"
    }
   },
   "outputs": [],
   "source": [
    "trnDf = trainDf.select('target',*depVars).toPandas()\n",
    "valDf = validDf.select('target',*depVars).toPandas()"
   ]
  },
  {
   "cell_type": "markdown",
   "metadata": {},
   "source": [
    "###### Target variable barplot"
   ]
  },
  {
   "cell_type": "code",
   "execution_count": 75,
   "metadata": {
    "pycharm": {
     "name": "#%%\n"
    }
   },
   "outputs": [
    {
     "data": {
      "image/png": "[encoded data removed]",
      "text/plain": [
       "<Figure size 432x288 with 1 Axes>"
      ]
     },
     "metadata": {},
     "output_type": "display_data"
    }
   ],
   "source": [
    "ax = sns.countplot(x='target',data=trnDf, palette='hls')\n",
    "total = float(len(trnDf))\n",
    "for p in ax.patches:\n",
    "    height = p.get_height()\n",
    "    ax.text(p.get_x()+p.get_width()/2.,\n",
    "            height + 3,\n",
    "            '{:1.2f}'.format(height/total),\n",
    "            ha=\"center\") \n",
    "plt.show()"
   ]
  },
  {
   "cell_type": "markdown",
   "metadata": {
    "pycharm": {
     "name": "#%% md\n"
    }
   },
   "source": [
    "###### Train"
   ]
  },
  {
   "cell_type": "code",
   "execution_count": 76,
   "metadata": {
    "pycharm": {
     "name": "#%%\n"
    },
    "scrolled": true
   },
   "outputs": [
    {
     "name": "stdout",
     "output_type": "stream",
     "text": [
      "Optimization terminated successfully.\n",
      "         Current function value: 0.565841\n",
      "         Iterations 5\n",
      "                           Logit Regression Results                           \n",
      "==============================================================================\n",
      "Dep. Variable:                 target   No. Observations:                47201\n",
      "Model:                          Logit   Df Residuals:                    47196\n",
      "Method:                           MLE   Df Model:                            4\n",
      "Date:                Sun, 15 Nov 2020   Pseudo R-squ.:                 0.05524\n",
      "Time:                        07:17:11   Log-Likelihood:                -26708.\n",
      "converged:                       True   LL-Null:                       -28270.\n",
      "Covariance Type:            nonrobust   LLR p-value:                     0.000\n",
      "=====================================================================================================\n",
      "                                        coef    std err          z      P>|z|      [0.025      0.975]\n",
      "-----------------------------------------------------------------------------------------------------\n",
      "student_duration_mins                 0.0007      0.000      5.695      0.000       0.000       0.001\n",
      "timeliness_duration_mins           1.888e-06   7.19e-07      2.625      0.009    4.78e-07     3.3e-06\n",
      "item_attempt_duration_mins           -0.0075      0.002     -3.829      0.000      -0.011      -0.004\n",
      "item_type_code_name_swoe              0.8831      0.016     56.959      0.000       0.853       0.914\n",
      "number_of_distinct_instance_items     0.0059      0.001      7.133      0.000       0.004       0.008\n",
      "=====================================================================================================\n"
     ]
    }
   ],
   "source": [
    "y_train = trnDf['target']\n",
    "X_train = trnDf[studyVars]\n",
    "\n",
    "logreg = sm.Logit(y_train, X_train).fit()\n",
    "\n",
    "print(logreg.summary())"
   ]
  },
  {
   "cell_type": "code",
   "execution_count": 79,
   "metadata": {},
   "outputs": [
    {
     "data": {
      "text/plain": [
       "student_duration_mins                0.000702\n",
       "timeliness_duration_mins             0.000002\n",
       "item_attempt_duration_mins          -0.007457\n",
       "item_type_code_name_swoe             0.883118\n",
       "number_of_distinct_instance_items    0.005944\n",
       "dtype: float64"
      ]
     },
     "execution_count": 79,
     "metadata": {},
     "output_type": "execute_result"
    }
   ],
   "source": [
    "logreg.params"
   ]
  },
  {
   "cell_type": "markdown",
   "metadata": {},
   "source": [
    "###### Validate"
   ]
  },
  {
   "cell_type": "code",
   "execution_count": 77,
   "metadata": {
    "pycharm": {
     "name": "#%%\n"
    }
   },
   "outputs": [],
   "source": [
    "y_valid = trnDf['target']\n",
    "X_valid = trnDf[studyVars]\n",
    "\n",
    "yhat = logreg.predict(X_valid)\n",
    "prediction = list(map(round, yhat))"
   ]
  },
  {
   "cell_type": "markdown",
   "metadata": {
    "pycharm": {
     "name": "#%% md\n"
    }
   },
   "source": [
    "###### Reciever Operating Characteristic (ROC) Curve"
   ]
  },
  {
   "cell_type": "code",
   "execution_count": 78,
   "metadata": {
    "pycharm": {
     "name": "#%%\n"
    }
   },
   "outputs": [
    {
     "data": {
      "image/png": "[encoded data removed]",
      "text/plain": [
       "<Figure size 432x288 with 1 Axes>"
      ]
     },
     "metadata": {},
     "output_type": "display_data"
    },
    {
     "name": "stdout",
     "output_type": "stream",
     "text": [
      "AUC of the model is: 0.7\n"
     ]
    }
   ],
   "source": [
    "# Calculate TP and FP\n",
    "fpr, tpr, thresholds = skm.roc_curve(y_valid, yhat)\n",
    "\n",
    "# Create ROC Plot\n",
    "plt.figure()\n",
    "plt.plot(fpr, tpr)\n",
    "plt.plot([0, 1], [0, 1],'r--')\n",
    "plt.xlim([0.0, 1.0])\n",
    "plt.ylim([0.0, 1.05])\n",
    "plt.xlabel('False Positive Rate')\n",
    "plt.ylabel('True Positive Rate')\n",
    "plt.title('ROC Curve')\n",
    "plt.show()\n",
    "\n",
    "# Calculate AUC\n",
    "roc_auc = round(skm.auc(fpr, tpr), 1)\n",
    "print(\"AUC of the model is:\", roc_auc)"
   ]
  },
  {
   "attachments": {},
   "cell_type": "markdown",
   "metadata": {
    "pycharm": {
     "name": "#%%\n"
    }
   },
   "source": [
    "The area under curve (AUC) is .7. With a perfect AUC as 1, this means the model calculates true positives 70% of the time. Twenty percent better than at random."
   ]
  }
 ],
 "metadata": {
  "kernelspec": {
   "display_name": "Python 3",
   "language": "python",
   "name": "python3"
  },
  "language_info": {
   "codemirror_mode": {
    "name": "ipython",
    "version": 3
   },
   "file_extension": ".py",
   "mimetype": "text/x-python",
   "name": "python",
   "nbconvert_exporter": "python",
   "pygments_lexer": "ipython3",
   "version": "3.6.3"
  }
 },
 "nbformat": 4,
 "nbformat_minor": 1
}
